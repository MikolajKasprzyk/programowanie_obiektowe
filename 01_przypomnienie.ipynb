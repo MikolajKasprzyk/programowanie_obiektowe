{
  "nbformat": 4,
  "nbformat_minor": 0,
  "metadata": {
    "colab": {
      "provenance": [],
      "authorship_tag": "ABX9TyNkRW/I4SyMKfAqWryEsF+A",
      "include_colab_link": true
    },
    "kernelspec": {
      "name": "python3",
      "display_name": "Python 3"
    },
    "language_info": {
      "name": "python"
    }
  },
  "cells": [
    {
      "cell_type": "markdown",
      "metadata": {
        "id": "view-in-github",
        "colab_type": "text"
      },
      "source": [
        "<a href=\"https://colab.research.google.com/github/MikolajKasprzyk/programowanie_obiektowe/blob/main/01_przypomnienie.ipynb\" target=\"_parent\"><img src=\"https://colab.research.google.com/assets/colab-badge.svg\" alt=\"Open In Colab\"/></a>"
      ]
    },
    {
      "cell_type": "markdown",
      "source": [
        "### Przestrzen nazw modulu"
      ],
      "metadata": {
        "id": "smvg9f8ERJy6"
      }
    },
    {
      "cell_type": "code",
      "source": [
        "import math\n",
        "\n",
        "\n",
        "help(math)"
      ],
      "metadata": {
        "id": "L14TCQPaQ_C-"
      },
      "execution_count": null,
      "outputs": []
    },
    {
      "cell_type": "code",
      "source": [
        "math.__dict__"
      ],
      "metadata": {
        "id": "0Cqd9LP-RUTs"
      },
      "execution_count": null,
      "outputs": []
    },
    {
      "cell_type": "code",
      "source": [
        "math.pi"
      ],
      "metadata": {
        "id": "zCaN6kNVSJUH"
      },
      "execution_count": null,
      "outputs": []
    },
    {
      "cell_type": "code",
      "source": [
        "math.sqrt"
      ],
      "metadata": {
        "colab": {
          "base_uri": "https://localhost:8080/"
        },
        "id": "_a9I-drrSVDj",
        "outputId": "66086458-4670-424f-f2c3-d511ff8d8108"
      },
      "execution_count": null,
      "outputs": [
        {
          "output_type": "execute_result",
          "data": {
            "text/plain": [
              "<function math.sqrt(x, /)>"
            ]
          },
          "metadata": {},
          "execution_count": 14
        }
      ]
    },
    {
      "cell_type": "code",
      "source": [
        "math.sqrt(144)"
      ],
      "metadata": {
        "colab": {
          "base_uri": "https://localhost:8080/"
        },
        "id": "2bL_a7BqScLz",
        "outputId": "13df0127-a80f-4931-f96c-fe890c56842a"
      },
      "execution_count": null,
      "outputs": [
        {
          "output_type": "execute_result",
          "data": {
            "text/plain": [
              "12.0"
            ]
          },
          "metadata": {},
          "execution_count": 15
        }
      ]
    },
    {
      "cell_type": "code",
      "source": [
        "help(math.sqrt)"
      ],
      "metadata": {
        "colab": {
          "base_uri": "https://localhost:8080/"
        },
        "id": "au2bu5pLSf7J",
        "outputId": "ec3f2ccb-8558-4cb2-8121-6f7c5d48380b"
      },
      "execution_count": null,
      "outputs": [
        {
          "output_type": "stream",
          "name": "stdout",
          "text": [
            "Help on built-in function sqrt in module math:\n",
            "\n",
            "sqrt(x, /)\n",
            "    Return the square root of x.\n",
            "\n"
          ]
        }
      ]
    },
    {
      "cell_type": "code",
      "source": [
        "import sys\n",
        "\n",
        "\n",
        "sys.__dict__"
      ],
      "metadata": {
        "id": "Tk3wK3oeSjw5"
      },
      "execution_count": null,
      "outputs": []
    },
    {
      "cell_type": "code",
      "source": [
        "sys.__dict__['platform']"
      ],
      "metadata": {
        "colab": {
          "base_uri": "https://localhost:8080/",
          "height": 35
        },
        "id": "_llPrr9uTXFN",
        "outputId": "41fb384a-1e5f-4ffe-ada6-4e5dc4488ecd"
      },
      "execution_count": null,
      "outputs": [
        {
          "output_type": "execute_result",
          "data": {
            "text/plain": [
              "'linux'"
            ],
            "application/vnd.google.colaboratory.intrinsic+json": {
              "type": "string"
            }
          },
          "metadata": {},
          "execution_count": 18
        }
      ]
    },
    {
      "cell_type": "code",
      "source": [
        "for key in sorted(sys.__dict__.keys()):\n",
        "  print(key)"
      ],
      "metadata": {
        "id": "yD4gtZZeTiVG"
      },
      "execution_count": null,
      "outputs": []
    },
    {
      "cell_type": "code",
      "source": [
        "sys.__name__"
      ],
      "metadata": {
        "colab": {
          "base_uri": "https://localhost:8080/",
          "height": 35
        },
        "id": "O6FJ2SugTxZ1",
        "outputId": "b87c412e-0dde-414c-ab05-71a8bfd1b8fc"
      },
      "execution_count": null,
      "outputs": [
        {
          "output_type": "execute_result",
          "data": {
            "text/plain": [
              "'sys'"
            ],
            "application/vnd.google.colaboratory.intrinsic+json": {
              "type": "string"
            }
          },
          "metadata": {},
          "execution_count": 20
        }
      ]
    },
    {
      "cell_type": "code",
      "source": [
        "print(sys.__doc__)"
      ],
      "metadata": {
        "id": "8TRFQqPUUBBl"
      },
      "execution_count": null,
      "outputs": []
    },
    {
      "cell_type": "code",
      "source": [
        "try:\n",
        "    var1\n",
        "except NameError as e:\n",
        "    print(e)"
      ],
      "metadata": {
        "colab": {
          "base_uri": "https://localhost:8080/"
        },
        "id": "W2o7l983ULqW",
        "outputId": "41232b43-1bce-472c-eaf7-7b801d6c1a7c"
      },
      "execution_count": null,
      "outputs": [
        {
          "output_type": "stream",
          "name": "stdout",
          "text": [
            "name 'var1' is not defined\n"
          ]
        }
      ]
    },
    {
      "cell_type": "code",
      "source": [
        "import json\n",
        "\n",
        "\n",
        "for name in sorted(json.__dict__m):\n",
        "    print(name)"
      ],
      "metadata": {
        "id": "8GzKOyRoVobE"
      },
      "execution_count": null,
      "outputs": []
    },
    {
      "cell_type": "markdown",
      "source": [
        "regula LEGB:\n",
        "L - local - zakres lokalny - widoczny tylko przy wywolaniu funkcji\n",
        "E - enclosing - zakres dla funkcji zagniezdzonych\n",
        "G - global - wszystkie nazwy na najwyzszym poziomie programu\n",
        "B - built- in - zakres wbudowany - zawsze przy uruchomieniu\n",
        "\n",
        "regula LEGB odnosi sie do tego ze nazwy szukane sa sekwencyjnie w zasiegach po kolei LEGB. Przestaje szukać przy pierwszym napotkaniu danej nazwy\n"
      ],
      "metadata": {
        "id": "hap_ursPW_FN"
      }
    },
    {
      "cell_type": "markdown",
      "source": [],
      "metadata": {
        "id": "mC3E6egoWfjk"
      }
    },
    {
      "cell_type": "code",
      "source": [
        "def sample_function():\n",
        "    var1 = 'Python'\n",
        "    print(f'Zmienna var1: {var1}')\n",
        "sample_function() # zakres lokalny tworzony jest przy kazdym wywolaniu funkcji"
      ],
      "metadata": {
        "colab": {
          "base_uri": "https://localhost:8080/"
        },
        "id": "gqo2I6sAWkE3",
        "outputId": "287f22d8-b622-406d-c62e-9a5640ebff55"
      },
      "execution_count": null,
      "outputs": [
        {
          "output_type": "stream",
          "name": "stdout",
          "text": [
            "Zmienna var1: Python\n"
          ]
        }
      ]
    },
    {
      "cell_type": "code",
      "source": [],
      "metadata": {
        "id": "IeGw8OHibmRC"
      },
      "execution_count": null,
      "outputs": []
    }
  ]
}