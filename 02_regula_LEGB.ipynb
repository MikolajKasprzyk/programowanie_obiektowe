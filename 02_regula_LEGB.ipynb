{
  "nbformat": 4,
  "nbformat_minor": 0,
  "metadata": {
    "colab": {
      "provenance": [],
      "authorship_tag": "ABX9TyMtcU0zNIkzLvrtcYYvUKvX",
      "include_colab_link": true
    },
    "kernelspec": {
      "name": "python3",
      "display_name": "Python 3"
    },
    "language_info": {
      "name": "python"
    }
  },
  "cells": [
    {
      "cell_type": "markdown",
      "metadata": {
        "id": "view-in-github",
        "colab_type": "text"
      },
      "source": [
        "<a href=\"https://colab.research.google.com/github/MikolajKasprzyk/programowanie_obiektowe/blob/main/02_regula_LEGB.ipynb\" target=\"_parent\"><img src=\"https://colab.research.google.com/assets/colab-badge.svg\" alt=\"Open In Colab\"/></a>"
      ]
    },
    {
      "cell_type": "markdown",
      "source": [
        "# Zakres lokalny"
      ],
      "metadata": {
        "id": "IvbkKQI1i_zZ"
      }
    },
    {
      "cell_type": "code",
      "execution_count": null,
      "metadata": {
        "colab": {
          "base_uri": "https://localhost:8080/"
        },
        "id": "mlU-mQpidBUO",
        "outputId": "919d5a2c-192f-4c54-8dc7-7271c228bfd9"
      },
      "outputs": [
        {
          "output_type": "stream",
          "name": "stdout",
          "text": [
            "Zmienna var1: Python\n"
          ]
        }
      ],
      "source": [
        "def sample_function():\n",
        "    var1 = 'Python'\n",
        "    print(f'Zmienna var1: {var1}')\n",
        "\n",
        "sample_function()"
      ]
    },
    {
      "cell_type": "code",
      "source": [
        "def sample_function2(var1):\n",
        "    var2 = var1 + ' 3.8'\n",
        "    print(f'Zmienna var1: {var1}')\n",
        "    print(f'Zmienna var2: {var2}')\n",
        "\n",
        "sample_function2('Python')\n",
        "sample_function2('Version')"
      ],
      "metadata": {
        "colab": {
          "base_uri": "https://localhost:8080/"
        },
        "id": "OioLlNZHdt2c",
        "outputId": "d0b7344b-4b65-47a4-880b-c08d701cae38"
      },
      "execution_count": null,
      "outputs": [
        {
          "output_type": "stream",
          "name": "stdout",
          "text": [
            "Zmienna var1: Python\n",
            "Zmienna var2: Python 3.8\n",
            "Zmienna var1: Version\n",
            "Zmienna var2: Version 3.8\n"
          ]
        }
      ]
    },
    {
      "cell_type": "markdown",
      "source": [],
      "metadata": {
        "id": "8jnfEbuPeb1x"
      }
    },
    {
      "cell_type": "code",
      "source": [
        "sample_function3 = lambda word: len(word.replace(' ', '')) # word jest lokalne \n",
        "# dla definicji funkcji\n",
        "\n",
        "sample_function3('Python 3.8')\n"
      ],
      "metadata": {
        "colab": {
          "base_uri": "https://localhost:8080/"
        },
        "id": "u4HxZjTXfIN5",
        "outputId": "55541694-a5e8-422e-be44-bbe7d5a21db8"
      },
      "execution_count": null,
      "outputs": [
        {
          "output_type": "execute_result",
          "data": {
            "text/plain": [
              "9"
            ]
          },
          "metadata": {},
          "execution_count": 3
        }
      ]
    },
    {
      "cell_type": "code",
      "source": [
        "sample_function3.__code__"
      ],
      "metadata": {
        "colab": {
          "base_uri": "https://localhost:8080/"
        },
        "id": "zYSsii8-fzfv",
        "outputId": "f8b7c8a0-ec07-4919-9d82-bce399bb9ae8"
      },
      "execution_count": null,
      "outputs": [
        {
          "output_type": "execute_result",
          "data": {
            "text/plain": [
              "<code object <lambda> at 0x7f878812ddf0, file \"<ipython-input-3-ae5a9ec1921a>\", line 1>"
            ]
          },
          "metadata": {},
          "execution_count": 4
        }
      ]
    },
    {
      "cell_type": "code",
      "source": [
        "sample_function3.__code__.co_varnames"
      ],
      "metadata": {
        "colab": {
          "base_uri": "https://localhost:8080/"
        },
        "id": "iAycJvB7gDV1",
        "outputId": "8d08f55a-ec06-4041-9800-c33dabf4e415"
      },
      "execution_count": null,
      "outputs": [
        {
          "output_type": "execute_result",
          "data": {
            "text/plain": [
              "('word',)"
            ]
          },
          "metadata": {},
          "execution_count": 5
        }
      ]
    },
    {
      "cell_type": "code",
      "source": [
        "sample_function3.__code__.co_argcount"
      ],
      "metadata": {
        "colab": {
          "base_uri": "https://localhost:8080/"
        },
        "id": "Dmu-sbpegPIY",
        "outputId": "09f65a87-e390-4d77-af4c-067cb1a8e7c8"
      },
      "execution_count": null,
      "outputs": [
        {
          "output_type": "execute_result",
          "data": {
            "text/plain": [
              "1"
            ]
          },
          "metadata": {},
          "execution_count": 6
        }
      ]
    },
    {
      "cell_type": "markdown",
      "source": [
        "# Zakres obejmujący"
      ],
      "metadata": {
        "id": "m3BawHmfgcJy"
      }
    },
    {
      "cell_type": "code",
      "source": [
        "def sample_function():\n",
        "    \n",
        "    var1 = 'Python'\n",
        "\n",
        "    def inner_function(): # funkcji inner function nie wywołamy poza sample_f.\n",
        "        print(f'Zmienna var1: {var1}')\n",
        "\n",
        "    inner_function()"
      ],
      "metadata": {
        "id": "WmSH6k4Cgs5O"
      },
      "execution_count": null,
      "outputs": []
    },
    {
      "cell_type": "code",
      "source": [
        "sample_function()"
      ],
      "metadata": {
        "colab": {
          "base_uri": "https://localhost:8080/"
        },
        "id": "dfXeSOaIhcLa",
        "outputId": "62c5e65a-29e3-4733-bfea-483a20c894dc"
      },
      "execution_count": null,
      "outputs": [
        {
          "output_type": "stream",
          "name": "stdout",
          "text": [
            "Zmienna var1: Python\n"
          ]
        }
      ]
    },
    {
      "cell_type": "code",
      "source": [
        "def sample_function():\n",
        "    \n",
        "    var1 = 'Python'\n",
        "\n",
        "    def inner_function(): # funkcji inner function nie wywołamy poza sample_f.\n",
        "        print(f'Zmienna var1: {var1}')\n",
        "        print(f'Zmienna var2: {var2}')\n",
        "\n",
        "    var2 = '3.8' # jak zdefinijwmy zmienna przed wywolaniem inner_function\n",
        "                 # to wszystko działa\n",
        "\n",
        "    inner_function()\n",
        "\n",
        "sample_function()"
      ],
      "metadata": {
        "colab": {
          "base_uri": "https://localhost:8080/"
        },
        "id": "x19cMlehhrFl",
        "outputId": "f5f21b4f-93cd-47a8-9b58-fb27f9f5a709"
      },
      "execution_count": null,
      "outputs": [
        {
          "output_type": "stream",
          "name": "stdout",
          "text": [
            "Zmienna var1: Python\n",
            "Zmienna var2: 3.8\n"
          ]
        }
      ]
    },
    {
      "cell_type": "code",
      "source": [
        "def sample_function():\n",
        "    \n",
        "    var1 = 'Python'\n",
        "\n",
        "    def inner_function(): # funkcji inner function nie wywołamy poza sample_f.\n",
        "        print(f'Zmienna var1: {var1}')\n",
        "        print(f'Zmienna var2: {var2}')\n",
        "\n",
        "\n",
        "    inner_function()\n",
        "    \n",
        "    var2 = '3.8' # jak zdefinijwmy zmienna po wywolaniu inner_function\n",
        "                 # to nie dziala\n",
        "\n",
        "sample_function()"
      ],
      "metadata": {
        "colab": {
          "base_uri": "https://localhost:8080/",
          "height": 364
        },
        "id": "MfKKbLn3iBFf",
        "outputId": "1712e5cc-dca6-41db-88af-7b248a0e1cec"
      },
      "execution_count": null,
      "outputs": [
        {
          "output_type": "stream",
          "name": "stdout",
          "text": [
            "Zmienna var1: Python\n"
          ]
        },
        {
          "output_type": "error",
          "ename": "NameError",
          "evalue": "ignored",
          "traceback": [
            "\u001b[0;31m---------------------------------------------------------------------------\u001b[0m",
            "\u001b[0;31mNameError\u001b[0m                                 Traceback (most recent call last)",
            "\u001b[0;32m<ipython-input-10-fcfd0658f2d6>\u001b[0m in \u001b[0;36m<module>\u001b[0;34m\u001b[0m\n\u001b[1;32m     13\u001b[0m                  \u001b[0;31m# to nie dziala\u001b[0m\u001b[0;34m\u001b[0m\u001b[0;34m\u001b[0m\u001b[0;34m\u001b[0m\u001b[0m\n\u001b[1;32m     14\u001b[0m \u001b[0;34m\u001b[0m\u001b[0m\n\u001b[0;32m---> 15\u001b[0;31m \u001b[0msample_function\u001b[0m\u001b[0;34m(\u001b[0m\u001b[0;34m)\u001b[0m\u001b[0;34m\u001b[0m\u001b[0;34m\u001b[0m\u001b[0m\n\u001b[0m",
            "\u001b[0;32m<ipython-input-10-fcfd0658f2d6>\u001b[0m in \u001b[0;36msample_function\u001b[0;34m()\u001b[0m\n\u001b[1;32m      8\u001b[0m \u001b[0;34m\u001b[0m\u001b[0m\n\u001b[1;32m      9\u001b[0m \u001b[0;34m\u001b[0m\u001b[0m\n\u001b[0;32m---> 10\u001b[0;31m     \u001b[0minner_function\u001b[0m\u001b[0;34m(\u001b[0m\u001b[0;34m)\u001b[0m\u001b[0;34m\u001b[0m\u001b[0;34m\u001b[0m\u001b[0m\n\u001b[0m\u001b[1;32m     11\u001b[0m \u001b[0;34m\u001b[0m\u001b[0m\n\u001b[1;32m     12\u001b[0m     \u001b[0mvar2\u001b[0m \u001b[0;34m=\u001b[0m \u001b[0;34m'3.8'\u001b[0m \u001b[0;31m# jak zdefinijwmy zmienna po wywolaniu inner_function\u001b[0m\u001b[0;34m\u001b[0m\u001b[0;34m\u001b[0m\u001b[0m\n",
            "\u001b[0;32m<ipython-input-10-fcfd0658f2d6>\u001b[0m in \u001b[0;36minner_function\u001b[0;34m()\u001b[0m\n\u001b[1;32m      5\u001b[0m     \u001b[0;32mdef\u001b[0m \u001b[0minner_function\u001b[0m\u001b[0;34m(\u001b[0m\u001b[0;34m)\u001b[0m\u001b[0;34m:\u001b[0m \u001b[0;31m# funkcji inner function nie wywołamy poza sample_f.\u001b[0m\u001b[0;34m\u001b[0m\u001b[0;34m\u001b[0m\u001b[0m\n\u001b[1;32m      6\u001b[0m         \u001b[0mprint\u001b[0m\u001b[0;34m(\u001b[0m\u001b[0;34mf'Zmienna var1: {var1}'\u001b[0m\u001b[0;34m)\u001b[0m\u001b[0;34m\u001b[0m\u001b[0;34m\u001b[0m\u001b[0m\n\u001b[0;32m----> 7\u001b[0;31m         \u001b[0mprint\u001b[0m\u001b[0;34m(\u001b[0m\u001b[0;34mf'Zmienna var2: {var2}'\u001b[0m\u001b[0;34m)\u001b[0m\u001b[0;34m\u001b[0m\u001b[0;34m\u001b[0m\u001b[0m\n\u001b[0m\u001b[1;32m      8\u001b[0m \u001b[0;34m\u001b[0m\u001b[0m\n\u001b[1;32m      9\u001b[0m \u001b[0;34m\u001b[0m\u001b[0m\n",
            "\u001b[0;31mNameError\u001b[0m: free variable 'var2' referenced before assignment in enclosing scope"
          ]
        }
      ]
    },
    {
      "cell_type": "code",
      "source": [
        "def sample_function():\n",
        "    \n",
        "    var1 = 'Python'\n",
        "\n",
        "    def inner_function(): # funkcji inner function nie wywołamy poza sample_f.\n",
        "        var1 = 'Java'\n",
        "        print(f'Zmienna var1 wewnatrz inner_function: {var1}')\n",
        "\n",
        "    print(f'Zmienna var1 przed wyw. inner_function: {var1}')\n",
        "\n",
        "    inner_function()\n",
        "    \n",
        "    print(f'Zmienna var1 po wyw. inner_function: {var1}')\n",
        "\n",
        "sample_function()"
      ],
      "metadata": {
        "id": "j2w3obVciEaz"
      },
      "execution_count": null,
      "outputs": []
    },
    {
      "cell_type": "code",
      "source": [
        "def sample_function():\n",
        "    \n",
        "    var1 = 'Python'\n",
        "\n",
        "    def inner_function(): # funkcji inner function nie wywołamy poza sample_f.\n",
        "        var2 = var1 + ' 3.8' # jakby tu zostawic var1 = var1 + ' 3.8'\n",
        "                             # to nie bedzie dzialalo\n",
        "        print(f'Zmienna var1 wewnatrz inner_function: {var1}')\n",
        "\n",
        "    print(f'Zmienna var1 przed wyw. inner_function: {var1}')\n",
        "\n",
        "    inner_function()\n",
        "    \n",
        "    print(f'Zmienna var1 po wyw. inner_function: {var1}')\n",
        "\n",
        "sample_function()"
      ],
      "metadata": {
        "id": "BmzLUwXOkwk-"
      },
      "execution_count": null,
      "outputs": []
    },
    {
      "cell_type": "markdown",
      "source": [
        "# Zakres globalny"
      ],
      "metadata": {
        "id": "cUEyrHKIlboA"
      }
    },
    {
      "cell_type": "code",
      "source": [
        "if __name__ == '__main__':\n",
        "    print('Bezposrednio') # w goolge collab zawsze __name__ == __main__"
      ],
      "metadata": {
        "id": "33k3ijCxlYwQ"
      },
      "execution_count": null,
      "outputs": []
    },
    {
      "cell_type": "code",
      "source": [
        "help(globals)\n",
        "globals()"
      ],
      "metadata": {
        "id": "cIYy_ms_nOl3"
      },
      "execution_count": null,
      "outputs": []
    },
    {
      "cell_type": "code",
      "source": [
        "var1 = 'Python'\n",
        "var2 = ' 3.8'\n",
        "var3 = var1 + var2\n",
        "\n",
        "globals()"
      ],
      "metadata": {
        "id": "T0UJb82vnxXZ"
      },
      "execution_count": null,
      "outputs": []
    },
    {
      "cell_type": "code",
      "source": [
        "var1 = 10\n",
        "print(var1)\n",
        "\n",
        "def sample_function():\n",
        "    print(var1)\n",
        "\n",
        "sample_function()\n",
        "\n"
      ],
      "metadata": {
        "id": "2vzAT9UtoFzF"
      },
      "execution_count": null,
      "outputs": []
    },
    {
      "cell_type": "code",
      "source": [
        "var1 = 10\n",
        "\n",
        "def sample_function():\n",
        "    var1 = '3.8'\n",
        "    print(var1)\n",
        "\n",
        "print(var1)\n",
        "sample_function()\n",
        "print(var1)"
      ],
      "metadata": {
        "id": "Cm_32E9boZl9"
      },
      "execution_count": null,
      "outputs": []
    },
    {
      "cell_type": "code",
      "source": [
        "var1 = 0\n",
        "\n",
        "def update():\n",
        "    var1 = var1 + 1 # taki manewr nie zadziala\n",
        "    print(var1)\n",
        "\n",
        "update()"
      ],
      "metadata": {
        "id": "UQ5Q0XdWp6Hh"
      },
      "execution_count": null,
      "outputs": []
    },
    {
      "cell_type": "code",
      "source": [
        "var1 = 0\n",
        "\n",
        "def update():\n",
        "    var2 = var1 + 1 # taki manewr zadziala\n",
        "    print(var2)\n",
        "\n",
        "update()"
      ],
      "metadata": {
        "id": "umcVNpF1qZcu"
      },
      "execution_count": null,
      "outputs": []
    },
    {
      "cell_type": "code",
      "source": [
        "var1 = 0\n",
        "\n",
        "def update():\n",
        "    print(var1)\n",
        "    var1 = var1 + 1 # taki manewr tez nie zadziala\n",
        "    \n",
        "update()"
      ],
      "metadata": {
        "id": "vQHwOciIqf5s"
      },
      "execution_count": null,
      "outputs": []
    },
    {
      "cell_type": "markdown",
      "source": [
        "# Zakres lokalny, obejmujacy i globalny"
      ],
      "metadata": {
        "id": "tz6vsZJ7q9SG"
      }
    },
    {
      "cell_type": "code",
      "source": [
        "var1 = 'globalny'\n",
        "\n",
        "def sample_function():\n",
        "    var1 = 'loklany funkcji sample function/obejmujacy inner_function'\n",
        "    print(var1)\n",
        "\n",
        "    def inner_function():\n",
        "        var1 = 'lokalny funkcji inner_function'\n",
        "        print(var1)\n",
        "\n",
        "    inner_function()\n",
        "\n",
        "    print(var1)\n",
        "\n",
        "print(var1)\n",
        "sample_function()\n",
        "print(var1)"
      ],
      "metadata": {
        "id": "UcRWZwANqusR"
      },
      "execution_count": null,
      "outputs": []
    },
    {
      "cell_type": "code",
      "source": [
        "var1 = 'globalny'\n",
        "\n",
        "def sample_function():\n",
        "    print(var1)\n",
        "\n",
        "    def inner_function():\n",
        "        print(var1)\n",
        "\n",
        "    inner_function()\n",
        "\n",
        "    print(var1)\n",
        "\n",
        "print(var1)\n",
        "sample_function()\n",
        "print(var1)"
      ],
      "metadata": {
        "id": "W7BGKSBtuUMD"
      },
      "execution_count": null,
      "outputs": []
    },
    {
      "cell_type": "code",
      "source": [
        "var1 = 'globalny'\n",
        "\n",
        "def sample_function():\n",
        "    var1 = 'loklany funkcji sample function/obejmujacy inner_function'\n",
        "    print(var1)\n",
        "\n",
        "    def inner_function():\n",
        "        print(var1)\n",
        "\n",
        "    inner_function()\n",
        "\n",
        "    print(var1)\n",
        "\n",
        "print(var1)\n",
        "sample_function()\n",
        "print(var1)"
      ],
      "metadata": {
        "id": "ouxPwvDQucr3"
      },
      "execution_count": null,
      "outputs": []
    },
    {
      "cell_type": "markdown",
      "source": [
        "# Zakres wbudowany"
      ],
      "metadata": {
        "id": "7vhPk8rUu5yJ"
      }
    },
    {
      "cell_type": "code",
      "source": [
        "dir(__builtins__)\n",
        "len(dir(__builtins__))\n"
      ],
      "metadata": {
        "id": "53oEvpm6u3Ga"
      },
      "execution_count": null,
      "outputs": []
    },
    {
      "cell_type": "code",
      "source": [
        "help(max)"
      ],
      "metadata": {
        "id": "hgwP4AHixR9o"
      },
      "execution_count": null,
      "outputs": []
    },
    {
      "cell_type": "code",
      "source": [
        "max([5, 3, -3])"
      ],
      "metadata": {
        "id": "4jrtX9q0xjOP"
      },
      "execution_count": null,
      "outputs": []
    },
    {
      "cell_type": "code",
      "source": [
        "list(enumerate('Python'))"
      ],
      "metadata": {
        "id": "ACBInG3exnL1"
      },
      "execution_count": null,
      "outputs": []
    },
    {
      "cell_type": "code",
      "source": [
        "import builtins \n",
        "\n",
        "builtins.list(builtins.enumerate('Python'))\n",
        "\n",
        "# taki manewr moze sie przydac dla pewnosci ze jakies zmienne z \n",
        "# naszego programu nie nadpisaly nazw z builtins"
      ],
      "metadata": {
        "id": "SOXLO4jZx248"
      },
      "execution_count": null,
      "outputs": []
    },
    {
      "cell_type": "code",
      "source": [
        "max = lambda x: min(x)\n",
        "\n",
        "print(max([4, -3])) # i tu funkcja max zostaje nadpisana\n",
        "print(builtins.max([4, -3])) # przy takim wywolaniu dziala ta z modulu builtins"
      ],
      "metadata": {
        "id": "zDupQAuMye0n"
      },
      "execution_count": null,
      "outputs": []
    },
    {
      "cell_type": "code",
      "source": [
        "del max # tak usuwamy funkcję"
      ],
      "metadata": {
        "id": "phhfuXvazUqi"
      },
      "execution_count": null,
      "outputs": []
    },
    {
      "cell_type": "code",
      "source": [
        "max('Python') # zwraca ostatnia litere alfabetycznie"
      ],
      "metadata": {
        "id": "pgDnkV9EzcOU"
      },
      "execution_count": null,
      "outputs": []
    },
    {
      "cell_type": "code",
      "source": [
        "max('python', 'java') # zwraca to co ostatnie alfabetycznie"
      ],
      "metadata": {
        "id": "Sqr-zJpDzjH8"
      },
      "execution_count": null,
      "outputs": []
    },
    {
      "cell_type": "code",
      "source": [
        "def calc(x, y):\n",
        "    return max(x, y)\n",
        "\n",
        "calc(4, 9)"
      ],
      "metadata": {
        "id": "C8YPdAYuz3ta"
      },
      "execution_count": null,
      "outputs": []
    },
    {
      "cell_type": "code",
      "source": [
        "def calc(x, y):\n",
        "\n",
        "    def max(x, y):\n",
        "        print('Wywolanie...')\n",
        "        if x >= y:\n",
        "            return f'funkcja wewnetrzna: {x}'\n",
        "        else:\n",
        "            return f'funkcja wewnetrzna: {y}'\n",
        "    \n",
        "    return max(x, y)\n",
        "\n",
        "print(calc(4, 9))\n",
        "print('\\n')\n",
        "print(max(4, 9)) #tu funkcja max jest nadpisana tylko wewnatrz funkcji calc"
      ],
      "metadata": {
        "id": "DnjYDwn30O97"
      },
      "execution_count": null,
      "outputs": []
    },
    {
      "cell_type": "code",
      "source": [
        "def calc(x, y):\n",
        "\n",
        "    def max(x, y):\n",
        "        print('Wywolanie...')\n",
        "        return x if x >= y else y # krotszy zapis petli war.\n",
        "\n",
        "    return max(x, y)\n",
        "\n",
        "print(calc(4, 9))\n"
      ],
      "metadata": {
        "id": "Q3LBo9u72Ce6"
      },
      "execution_count": null,
      "outputs": []
    },
    {
      "cell_type": "code",
      "source": [
        "def calc(x, y):\n",
        "\n",
        "    result = max(x, y) # taki manewr wyrzuci błąd analogicznie jak ze zmiennymi\n",
        "                       # python zaklada ze to lokalna zmienna do ktorej \n",
        "                       # odwolujemy sie przed jej zdefiniowaniem\n",
        "    def max(x, y):\n",
        "        print('Wywolanie...')\n",
        "        if x >= y:\n",
        "            return f'funkcja wewnetrzna: {x}'\n",
        "        else:\n",
        "            return f'funkcja wewnetrzna: {y}'\n",
        "    \n",
        "    return result\n",
        "\n",
        "calc(4, 9)"
      ],
      "metadata": {
        "id": "JpCuu0tX2S2h"
      },
      "execution_count": null,
      "outputs": []
    },
    {
      "cell_type": "code",
      "source": [
        "def calc(x, y):\n",
        "\n",
        "   \n",
        "    def max(x, y):\n",
        "        print('Wywolanie...')\n",
        "        if x >= y:\n",
        "            return f'funkcja wewnetrzna: {x}'\n",
        "        else:\n",
        "            return f'funkcja wewnetrzna: {y}'\n",
        "    \n",
        "    result = max(x, y) # i tu zwraca nam wartosc z funkcji \n",
        "    return result      # zdefiniowanej lokalnie\n",
        "\n",
        "calc(4, 9)"
      ],
      "metadata": {
        "id": "CgXWfZGc3HWl"
      },
      "execution_count": null,
      "outputs": []
    },
    {
      "cell_type": "markdown",
      "source": [
        "# Instrukcja global i nonlocal"
      ],
      "metadata": {
        "id": "xoYHkzng3nM_"
      }
    },
    {
      "cell_type": "code",
      "source": [
        "def sample():\n",
        "    var1 = 10 \n",
        "    print(var1)\n",
        "\n",
        "sample()"
      ],
      "metadata": {
        "id": "MYoITf5u3kZh"
      },
      "execution_count": null,
      "outputs": []
    },
    {
      "cell_type": "code",
      "source": [
        "print(var1)"
      ],
      "metadata": {
        "id": "GXP_bmC04muw"
      },
      "execution_count": null,
      "outputs": []
    },
    {
      "cell_type": "code",
      "source": [
        "def sample():\n",
        "    global var1 \n",
        "    var1 = 10 \n",
        "    print(var1)\n",
        "\n",
        "sample()\n",
        "\n",
        "print(var1) # teraz zmienna var1 jest globalna"
      ],
      "metadata": {
        "id": "I2vanvMB4u2c"
      },
      "execution_count": null,
      "outputs": []
    },
    {
      "cell_type": "code",
      "source": [
        "var1 = 20 \n",
        "\n",
        "def sample():\n",
        "    print(var1)\n",
        "\n",
        "sample()\n"
      ],
      "metadata": {
        "colab": {
          "base_uri": "https://localhost:8080/"
        },
        "id": "qpTjvizh5HVy",
        "outputId": "6732eac0-af9f-4222-8f0a-62122e0bf0e2"
      },
      "execution_count": null,
      "outputs": [
        {
          "output_type": "stream",
          "name": "stdout",
          "text": [
            "20\n"
          ]
        }
      ]
    },
    {
      "cell_type": "code",
      "source": [
        "var1 = 20 \n",
        "\n",
        "def sample():\n",
        "    var1 = 40\n",
        "    print(var1)\n",
        "\n",
        "sample()\n",
        "print(var1)"
      ],
      "metadata": {
        "colab": {
          "base_uri": "https://localhost:8080/"
        },
        "id": "XL93YIdS5gOE",
        "outputId": "58e6061d-0c8e-4437-fd3d-dc9afef0de6b"
      },
      "execution_count": null,
      "outputs": [
        {
          "output_type": "stream",
          "name": "stdout",
          "text": [
            "40\n",
            "20\n"
          ]
        }
      ]
    },
    {
      "cell_type": "code",
      "source": [
        "var1 = 20 \n",
        "\n",
        "def sample():\n",
        "    global var1 # taki manewr nadpisuje nam globalna zmienna var1\n",
        "    var1 = 40\n",
        "    print(var1)\n",
        "\n",
        "sample()\n",
        "print(var1)"
      ],
      "metadata": {
        "colab": {
          "base_uri": "https://localhost:8080/"
        },
        "id": "9kS9YrjE6DOF",
        "outputId": "d4b6b002-17e7-466a-9f58-1c9f47d5c244"
      },
      "execution_count": null,
      "outputs": [
        {
          "output_type": "stream",
          "name": "stdout",
          "text": [
            "40\n",
            "40\n"
          ]
        }
      ]
    },
    {
      "cell_type": "code",
      "source": [
        "var1 = 20 \n",
        "\n",
        "def sample():\n",
        "    var1 += 40 #to klasycznie nie zadziala\n",
        "    print(var1)\n",
        "\n",
        "sample()\n",
        "print(var1)"
      ],
      "metadata": {
        "colab": {
          "base_uri": "https://localhost:8080/",
          "height": 340
        },
        "id": "N_kqhBJc7CEY",
        "outputId": "4c636248-e886-40aa-b837-a07eac878f79"
      },
      "execution_count": null,
      "outputs": [
        {
          "output_type": "error",
          "ename": "UnboundLocalError",
          "evalue": "ignored",
          "traceback": [
            "\u001b[0;31m---------------------------------------------------------------------------\u001b[0m",
            "\u001b[0;31mUnboundLocalError\u001b[0m                         Traceback (most recent call last)",
            "\u001b[0;32m<ipython-input-2-e86a863419e7>\u001b[0m in \u001b[0;36m<module>\u001b[0;34m\u001b[0m\n\u001b[1;32m      5\u001b[0m     \u001b[0mprint\u001b[0m\u001b[0;34m(\u001b[0m\u001b[0mvar1\u001b[0m\u001b[0;34m)\u001b[0m\u001b[0;34m\u001b[0m\u001b[0;34m\u001b[0m\u001b[0m\n\u001b[1;32m      6\u001b[0m \u001b[0;34m\u001b[0m\u001b[0m\n\u001b[0;32m----> 7\u001b[0;31m \u001b[0msample\u001b[0m\u001b[0;34m(\u001b[0m\u001b[0;34m)\u001b[0m\u001b[0;34m\u001b[0m\u001b[0;34m\u001b[0m\u001b[0m\n\u001b[0m\u001b[1;32m      8\u001b[0m \u001b[0mprint\u001b[0m\u001b[0;34m(\u001b[0m\u001b[0mvar1\u001b[0m\u001b[0;34m)\u001b[0m\u001b[0;34m\u001b[0m\u001b[0;34m\u001b[0m\u001b[0m\n",
            "\u001b[0;32m<ipython-input-2-e86a863419e7>\u001b[0m in \u001b[0;36msample\u001b[0;34m()\u001b[0m\n\u001b[1;32m      2\u001b[0m \u001b[0;34m\u001b[0m\u001b[0m\n\u001b[1;32m      3\u001b[0m \u001b[0;32mdef\u001b[0m \u001b[0msample\u001b[0m\u001b[0;34m(\u001b[0m\u001b[0;34m)\u001b[0m\u001b[0;34m:\u001b[0m\u001b[0;34m\u001b[0m\u001b[0;34m\u001b[0m\u001b[0m\n\u001b[0;32m----> 4\u001b[0;31m     \u001b[0mvar1\u001b[0m \u001b[0;34m+=\u001b[0m \u001b[0;36m40\u001b[0m\u001b[0;34m\u001b[0m\u001b[0;34m\u001b[0m\u001b[0m\n\u001b[0m\u001b[1;32m      5\u001b[0m     \u001b[0mprint\u001b[0m\u001b[0;34m(\u001b[0m\u001b[0mvar1\u001b[0m\u001b[0;34m)\u001b[0m\u001b[0;34m\u001b[0m\u001b[0;34m\u001b[0m\u001b[0m\n\u001b[1;32m      6\u001b[0m \u001b[0;34m\u001b[0m\u001b[0m\n",
            "\u001b[0;31mUnboundLocalError\u001b[0m: local variable 'var1' referenced before assignment"
          ]
        }
      ]
    },
    {
      "cell_type": "code",
      "source": [
        "var1 = 20 \n",
        "\n",
        "def sample():\n",
        "    global var1\n",
        "    var1 += 40 #to zadziala i nadpisze globalnie var1\n",
        "    print(var1)\n",
        "\n",
        "sample()\n",
        "print(var1)"
      ],
      "metadata": {
        "colab": {
          "base_uri": "https://localhost:8080/"
        },
        "id": "mEsViYZi7W0Z",
        "outputId": "c3ec1e2e-f34a-42f3-80f6-91ad55cdb9d4"
      },
      "execution_count": null,
      "outputs": [
        {
          "output_type": "stream",
          "name": "stdout",
          "text": [
            "60\n",
            "60\n"
          ]
        }
      ]
    },
    {
      "cell_type": "code",
      "source": [
        "def sample():\n",
        "    global num1, num2\n",
        "    num1, num2 = 4, 2 # taki manewr tworzy zmienne globalne\n",
        "\n",
        "sample()\n",
        "print(num1, num2)m"
      ],
      "metadata": {
        "colab": {
          "base_uri": "https://localhost:8080/"
        },
        "id": "FhREIWPx7sRI",
        "outputId": "8ae8d8c1-3be8-4d76-8cdd-b4edd9fb1d6b"
      },
      "execution_count": null,
      "outputs": [
        {
          "output_type": "stream",
          "name": "stdout",
          "text": [
            "4 2\n"
          ]
        }
      ]
    },
    {
      "cell_type": "markdown",
      "source": [
        "instrukcja nonlocal"
      ],
      "metadata": {
        "id": "8xTe0tkxBBEb"
      }
    },
    {
      "cell_type": "code",
      "source": [
        "def sample():\n",
        "\n",
        "    num1 = 10\n",
        "\n",
        "    def inner():\n",
        "        print(num1)\n",
        "    \n",
        "    inner()\n",
        "\n",
        "sample()"
      ],
      "metadata": {
        "colab": {
          "base_uri": "https://localhost:8080/"
        },
        "id": "VBvR2AvdBAUB",
        "outputId": "d577256b-8b27-42b6-f9a2-19886f9ddac6"
      },
      "execution_count": null,
      "outputs": [
        {
          "output_type": "stream",
          "name": "stdout",
          "text": [
            "10\n"
          ]
        }
      ]
    },
    {
      "cell_type": "code",
      "source": [
        "def sample():\n",
        "\n",
        "    num1 = 10\n",
        "\n",
        "    def inner():\n",
        "        num1 = 20\n",
        "        print(num1)\n",
        "    \n",
        "    print(num1)\n",
        "    inner()\n",
        "    print(num1)\n",
        "\n",
        "sample()"
      ],
      "metadata": {
        "colab": {
          "base_uri": "https://localhost:8080/"
        },
        "id": "sbcf3EUd8Dhr",
        "outputId": "53af834e-3f2f-452b-9296-b58b902282e5"
      },
      "execution_count": null,
      "outputs": [
        {
          "output_type": "stream",
          "name": "stdout",
          "text": [
            "10\n",
            "20\n",
            "10\n"
          ]
        }
      ]
    },
    {
      "cell_type": "code",
      "source": [
        "num1 = 3\n",
        "\n",
        "def sample():\n",
        "\n",
        "    num1 = 10\n",
        "\n",
        "    def inner():\n",
        "        nonlocal num1 # nadpisuje nam wartosc w funkcji powyzej ale nie globalnie\n",
        "        num1 = 20\n",
        "        print(num1)\n",
        "    \n",
        "    print(num1)\n",
        "    inner()\n",
        "    print(num1)\n",
        "\n",
        "sample()\n",
        "print(f'globalnie: {num1}')"
      ],
      "metadata": {
        "colab": {
          "base_uri": "https://localhost:8080/"
        },
        "id": "HjivkPg8BtDT",
        "outputId": "97ddb0e5-a106-4776-ffb4-ed9230e016e3"
      },
      "execution_count": null,
      "outputs": [
        {
          "output_type": "stream",
          "name": "stdout",
          "text": [
            "10\n",
            "20\n",
            "20\n",
            "globalnie: 3\n"
          ]
        }
      ]
    },
    {
      "cell_type": "code",
      "source": [
        "num1 = 3\n",
        "\n",
        "def sample():\n",
        "    num1 = 10\n",
        "\n",
        "    def inner():\n",
        "        num1 = 20\n",
        "        print(f'inner{num1}')\n",
        "\n",
        "        def inner_inner():\n",
        "            num1 = 40\n",
        "            print(f'inner_inner{num1}')\n",
        "        \n",
        "        inner_inner()\n",
        "\n",
        "    print(f'sample{num1}')\n",
        "    inner()\n",
        "    print(f'sample{num1}')\n",
        "\n",
        "sample()\n",
        "print(f'globalnie: {num1}')"
      ],
      "metadata": {
        "colab": {
          "base_uri": "https://localhost:8080/"
        },
        "id": "3ry1BlvMCT7I",
        "outputId": "85951b4d-b3ed-4db5-a966-cc952ee77144"
      },
      "execution_count": null,
      "outputs": [
        {
          "output_type": "stream",
          "name": "stdout",
          "text": [
            "sample10\n",
            "inner20\n",
            "inner_inner40\n",
            "sample10\n",
            "globalnie: 3\n"
          ]
        }
      ]
    },
    {
      "cell_type": "code",
      "source": [
        "num1 = 3\n",
        "\n",
        "def sample():\n",
        "    num1 = 10\n",
        "\n",
        "    def inner():\n",
        "       # nonlocal num1\n",
        "        num1 = 20\n",
        "        print(f'inner{num1}')\n",
        "\n",
        "        def inner_inner():\n",
        "            # nonlocal num1  # przy dalszych zagniezdzeniach \n",
        "                             # nonlocal nadpisuje \n",
        "                             # zmienne tylko poziom wyzej\n",
        "            num1 = 40\n",
        "            print(f'inner_inner{num1}')\n",
        "        \n",
        "        inner_inner()\n",
        "        print(f'inner{num1}')\n",
        "\n",
        "    print(f'sample{num1}')\n",
        "    inner()\n",
        "    print(f'sample{num1}')\n",
        "\n",
        "sample()\n",
        "print(f'globalnie: {num1}')"
      ],
      "metadata": {
        "colab": {
          "base_uri": "https://localhost:8080/"
        },
        "id": "8OfVB066Cooc",
        "outputId": "64fb4a68-a22f-4158-e283-12370f4f94c9"
      },
      "execution_count": null,
      "outputs": [
        {
          "output_type": "stream",
          "name": "stdout",
          "text": [
            "sample10\n",
            "inner20\n",
            "inner_inner40\n",
            "inner20\n",
            "sample10\n",
            "globalnie: 3\n"
          ]
        }
      ]
    },
    {
      "cell_type": "markdown",
      "source": [
        "# List / Dict / Set Comprahension"
      ],
      "metadata": {
        "id": "I5if59N0IV7p"
      }
    },
    {
      "cell_type": "code",
      "source": [
        "for num in range(10): # tutaj zmienna num jest globalna, mozna sie do niej \n",
        "    print(num)         # dostać po wykonaniu petli (ma wartosc 9)"
      ],
      "metadata": {
        "colab": {
          "base_uri": "https://localhost:8080/"
        },
        "id": "j8IoPH5HIVZc",
        "outputId": "fec1a7c3-f957-444b-f378-297e2d80278d"
      },
      "execution_count": null,
      "outputs": [
        {
          "output_type": "stream",
          "name": "stdout",
          "text": [
            "0\n",
            "1\n",
            "2\n",
            "3\n",
            "4\n",
            "5\n",
            "6\n",
            "7\n",
            "8\n",
            "9\n"
          ]
        }
      ]
    },
    {
      "cell_type": "code",
      "source": [
        "num"
      ],
      "metadata": {
        "colab": {
          "base_uri": "https://localhost:8080/"
        },
        "id": "ucucnMt3E3Xl",
        "outputId": "f5ed4290-796b-4bb5-8500-d447a0c447ac"
      },
      "execution_count": null,
      "outputs": [
        {
          "output_type": "execute_result",
          "data": {
            "text/plain": [
              "9"
            ]
          },
          "metadata": {},
          "execution_count": 13
        }
      ]
    },
    {
      "cell_type": "code",
      "source": [
        "lst = [var for var in range(10)] #przy takim manewrze zmienna var jest lokalna\n",
        "print(lst)"
      ],
      "metadata": {
        "colab": {
          "base_uri": "https://localhost:8080/"
        },
        "id": "1VFRogrcI-l_",
        "outputId": "c0f3ba1b-4afc-4a1b-f20d-bead5a2e0594"
      },
      "execution_count": null,
      "outputs": [
        {
          "output_type": "execute_result",
          "data": {
            "text/plain": [
              "[0, 1, 2, 3, 4, 5, 6, 7, 8, 9]"
            ]
          },
          "metadata": {},
          "execution_count": 9
        }
      ]
    },
    {
      "cell_type": "code",
      "source": [
        "var"
      ],
      "metadata": {
        "colab": {
          "base_uri": "https://localhost:8080/",
          "height": 166
        },
        "id": "caVt35qBJUXo",
        "outputId": "bebc214d-3333-49fc-cab0-1ab3a344f987"
      },
      "execution_count": null,
      "outputs": [
        {
          "output_type": "error",
          "ename": "NameError",
          "evalue": "ignored",
          "traceback": [
            "\u001b[0;31m---------------------------------------------------------------------------\u001b[0m",
            "\u001b[0;31mNameError\u001b[0m                                 Traceback (most recent call last)",
            "\u001b[0;32m<ipython-input-8-84ddba356ca3>\u001b[0m in \u001b[0;36m<module>\u001b[0;34m\u001b[0m\n\u001b[0;32m----> 1\u001b[0;31m \u001b[0mvar\u001b[0m\u001b[0;34m\u001b[0m\u001b[0;34m\u001b[0m\u001b[0m\n\u001b[0m",
            "\u001b[0;31mNameError\u001b[0m: name 'var' is not defined"
          ]
        }
      ]
    },
    {
      "cell_type": "markdown",
      "source": [
        "# Obsluga wyjatki"
      ],
      "metadata": {
        "id": "-kIKFB1qJw5j"
      }
    },
    {
      "cell_type": "code",
      "source": [
        "string = 'py'\n",
        "string[2]"
      ],
      "metadata": {
        "colab": {
          "base_uri": "https://localhost:8080/",
          "height": 183
        },
        "id": "DLPR-9AuJi1U",
        "outputId": "4610a8a4-f771-49eb-817c-0746ed4441dc"
      },
      "execution_count": null,
      "outputs": [
        {
          "output_type": "error",
          "ename": "IndexError",
          "evalue": "ignored",
          "traceback": [
            "\u001b[0;31m---------------------------------------------------------------------------\u001b[0m",
            "\u001b[0;31mIndexError\u001b[0m                                Traceback (most recent call last)",
            "\u001b[0;32m<ipython-input-10-cd91419fd9e7>\u001b[0m in \u001b[0;36m<module>\u001b[0;34m\u001b[0m\n\u001b[1;32m      1\u001b[0m \u001b[0mstring\u001b[0m \u001b[0;34m=\u001b[0m \u001b[0;34m'py'\u001b[0m\u001b[0;34m\u001b[0m\u001b[0;34m\u001b[0m\u001b[0m\n\u001b[0;32m----> 2\u001b[0;31m \u001b[0mstring\u001b[0m\u001b[0;34m[\u001b[0m\u001b[0;36m2\u001b[0m\u001b[0;34m]\u001b[0m\u001b[0;34m\u001b[0m\u001b[0;34m\u001b[0m\u001b[0m\n\u001b[0m",
            "\u001b[0;31mIndexError\u001b[0m: string index out of range"
          ]
        }
      ]
    },
    {
      "cell_type": "code",
      "source": [
        "string = 'py'\n",
        "try:\n",
        "    string[2]\n",
        "except IndexError as error: # zmienna wyjatku jest lokalna\n",
        "    print(error)"
      ],
      "metadata": {
        "colab": {
          "base_uri": "https://localhost:8080/"
        },
        "id": "YZdNgm8nJ7g1",
        "outputId": "20b897b1-2faa-4eae-ba81-35d158504e91"
      },
      "execution_count": null,
      "outputs": [
        {
          "output_type": "stream",
          "name": "stdout",
          "text": [
            "string index out of range\n"
          ]
        }
      ]
    },
    {
      "cell_type": "code",
      "source": [
        "print(error)"
      ],
      "metadata": {
        "colab": {
          "base_uri": "https://localhost:8080/",
          "height": 166
        },
        "id": "t7OBRK-rKTtF",
        "outputId": "4401880c-4d10-4b37-93be-01d07c9efca9"
      },
      "execution_count": null,
      "outputs": [
        {
          "output_type": "error",
          "ename": "NameError",
          "evalue": "ignored",
          "traceback": [
            "\u001b[0;31m---------------------------------------------------------------------------\u001b[0m",
            "\u001b[0;31mNameError\u001b[0m                                 Traceback (most recent call last)",
            "\u001b[0;32m<ipython-input-15-cf99e99291b6>\u001b[0m in \u001b[0;36m<module>\u001b[0;34m\u001b[0m\n\u001b[0;32m----> 1\u001b[0;31m \u001b[0mprint\u001b[0m\u001b[0;34m(\u001b[0m\u001b[0merror\u001b[0m\u001b[0;34m)\u001b[0m\u001b[0;34m\u001b[0m\u001b[0;34m\u001b[0m\u001b[0m\n\u001b[0m",
            "\u001b[0;31mNameError\u001b[0m: name 'error' is not defined"
          ]
        }
      ]
    },
    {
      "cell_type": "markdown",
      "source": [
        "# Pomocnicze funkcje wbudowane"
      ],
      "metadata": {
        "id": "ErGNTlOBKo2g"
      }
    },
    {
      "cell_type": "code",
      "source": [
        "help(globals)"
      ],
      "metadata": {
        "colab": {
          "base_uri": "https://localhost:8080/"
        },
        "id": "C9yPKR5MKszZ",
        "outputId": "592209c6-c30d-44c0-d9ea-f2ca124c14c1"
      },
      "execution_count": null,
      "outputs": [
        {
          "output_type": "stream",
          "name": "stdout",
          "text": [
            "Help on built-in function globals in module builtins:\n",
            "\n",
            "globals()\n",
            "    Return the dictionary containing the current scope's global variables.\n",
            "    \n",
            "    NOTE: Updates to this dictionary *will* affect name lookups in the current\n",
            "    global scope and vice-versa.\n",
            "\n"
          ]
        }
      ]
    },
    {
      "cell_type": "code",
      "source": [
        "name = 'john'\n",
        "globals() # zwraca nam wszystkie zmienne globalne w danej chwili"
      ],
      "metadata": {
        "id": "6SgYDOOjK1ca"
      },
      "execution_count": null,
      "outputs": []
    },
    {
      "cell_type": "code",
      "source": [
        "locals() # zwraca zmienne lokalne z miejsca gdzie zostala wywolana"
      ],
      "metadata": {
        "id": "PaSFL4Q0LcoH"
      },
      "execution_count": null,
      "outputs": []
    },
    {
      "cell_type": "code",
      "source": [
        "def test_locals():\n",
        "    var1 = 1\n",
        "    var2 = 2\n",
        "    print(locals())\n",
        "    var3 = 3\n",
        "    print(locals())\n",
        "\n",
        "test_locals()"
      ],
      "metadata": {
        "colab": {
          "base_uri": "https://localhost:8080/"
        },
        "id": "POpP2lM_Ln7K",
        "outputId": "a8f5ad01-b10a-429f-a514-3566ecf92296"
      },
      "execution_count": null,
      "outputs": [
        {
          "output_type": "stream",
          "name": "stdout",
          "text": [
            "{'var1': 1, 'var2': 2}\n",
            "{'var1': 1, 'var2': 2, 'var3': 3}\n"
          ]
        }
      ]
    },
    {
      "cell_type": "code",
      "source": [
        "help(vars)"
      ],
      "metadata": {
        "colab": {
          "base_uri": "https://localhost:8080/"
        },
        "id": "1b0ekNpFMQsW",
        "outputId": "78ab2417-46c7-46d3-c959-d1297182ad64"
      },
      "execution_count": null,
      "outputs": [
        {
          "output_type": "stream",
          "name": "stdout",
          "text": [
            "Help on built-in function vars in module builtins:\n",
            "\n",
            "vars(...)\n",
            "    vars([object]) -> dictionary\n",
            "    \n",
            "    Without arguments, equivalent to locals().\n",
            "    With an argument, equivalent to object.__dict__.\n",
            "\n"
          ]
        }
      ]
    },
    {
      "cell_type": "code",
      "source": [
        "import math\n",
        "\n",
        "\n",
        "vars(math)\n",
        "math.__dict__"
      ],
      "metadata": {
        "id": "ipU8LvfzMVGU"
      },
      "execution_count": null,
      "outputs": []
    },
    {
      "cell_type": "code",
      "source": [
        "class Phone:\n",
        "    pass\n",
        "\n",
        "\n",
        "Phone.__dict__"
      ],
      "metadata": {
        "colab": {
          "base_uri": "https://localhost:8080/"
        },
        "id": "3J1g1D8cNC1Y",
        "outputId": "f10207c4-2290-40dc-ba07-f60f21d47717"
      },
      "execution_count": null,
      "outputs": [
        {
          "output_type": "execute_result",
          "data": {
            "text/plain": [
              "mappingproxy({'__module__': '__main__',\n",
              "              '__dict__': <attribute '__dict__' of 'Phone' objects>,\n",
              "              '__weakref__': <attribute '__weakref__' of 'Phone' objects>,\n",
              "              '__doc__': None})"
            ]
          },
          "metadata": {},
          "execution_count": 10
        }
      ]
    },
    {
      "cell_type": "code",
      "source": [
        "class Phone:\n",
        "    \n",
        "    brand = 'Apple'\n",
        "\n",
        "\n",
        "Phone.__dict__"
      ],
      "metadata": {
        "colab": {
          "base_uri": "https://localhost:8080/"
        },
        "id": "mK8_ZmOqNNIL",
        "outputId": "0440193d-b1e2-400e-c7b2-f33adb520069"
      },
      "execution_count": null,
      "outputs": [
        {
          "output_type": "execute_result",
          "data": {
            "text/plain": [
              "mappingproxy({'__module__': '__main__',\n",
              "              'brand': 'Apple',\n",
              "              '__dict__': <attribute '__dict__' of 'Phone' objects>,\n",
              "              '__weakref__': <attribute '__weakref__' of 'Phone' objects>,\n",
              "              '__doc__': None})"
            ]
          },
          "metadata": {},
          "execution_count": 11
        }
      ]
    },
    {
      "cell_type": "code",
      "source": [
        "class Phone:\n",
        "    \n",
        "    brand = 'Apple'\n",
        "\n",
        "\n",
        "phone = Phone()\n",
        "phone.__dict__"
      ],
      "metadata": {
        "colab": {
          "base_uri": "https://localhost:8080/"
        },
        "id": "CiN8v5OxNcTg",
        "outputId": "7889f352-a5a9-416e-cb46-bed780f4ab9b"
      },
      "execution_count": null,
      "outputs": [
        {
          "output_type": "execute_result",
          "data": {
            "text/plain": [
              "{}"
            ]
          },
          "metadata": {},
          "execution_count": 13
        }
      ]
    },
    {
      "cell_type": "code",
      "source": [
        "class Phone:\n",
        "    \n",
        "    brand = 'Apple'\n",
        "\n",
        "    def __init__(self, price):\n",
        "        self.price = price"
      ],
      "metadata": {
        "id": "kdXd_wfVNq4r"
      },
      "execution_count": null,
      "outputs": []
    },
    {
      "cell_type": "code",
      "source": [
        "Phone.__dict__\n",
        "phone = Phone(1000)\n",
        "phone.__dict__"
      ],
      "metadata": {
        "colab": {
          "base_uri": "https://localhost:8080/"
        },
        "id": "QdEWjnNIOUxA",
        "outputId": "20922bd2-f07f-4ac6-cc4c-9dfd2835081d"
      },
      "execution_count": null,
      "outputs": [
        {
          "output_type": "execute_result",
          "data": {
            "text/plain": [
              "{'price': 1000}"
            ]
          },
          "metadata": {},
          "execution_count": 9
        }
      ]
    },
    {
      "cell_type": "code",
      "source": [
        "vars(Phone)"
      ],
      "metadata": {
        "colab": {
          "base_uri": "https://localhost:8080/"
        },
        "id": "u6bXh6P7Ox9T",
        "outputId": "26527763-da61-45df-f715-256a0f2fee22"
      },
      "execution_count": null,
      "outputs": [
        {
          "output_type": "execute_result",
          "data": {
            "text/plain": [
              "mappingproxy({'__module__': '__main__',\n",
              "              'brand': 'Apple',\n",
              "              '__init__': <function __main__.Phone.__init__(self, price)>,\n",
              "              '__dict__': <attribute '__dict__' of 'Phone' objects>,\n",
              "              '__weakref__': <attribute '__weakref__' of 'Phone' objects>,\n",
              "              '__doc__': None})"
            ]
          },
          "metadata": {},
          "execution_count": 10
        }
      ]
    },
    {
      "cell_type": "code",
      "source": [
        "vars(phone)"
      ],
      "metadata": {
        "colab": {
          "base_uri": "https://localhost:8080/"
        },
        "id": "G1WtDY0bO77j",
        "outputId": "f79e61b9-41ce-4fbe-d879-6a73ee8d121a"
      },
      "execution_count": null,
      "outputs": [
        {
          "output_type": "execute_result",
          "data": {
            "text/plain": [
              "{'price': 1000}"
            ]
          },
          "metadata": {},
          "execution_count": 11
        }
      ]
    },
    {
      "cell_type": "code",
      "source": [
        "help(dir)"
      ],
      "metadata": {
        "colab": {
          "base_uri": "https://localhost:8080/"
        },
        "id": "E_Q1tn08O_iR",
        "outputId": "f6592cf4-eb2e-4512-f375-a40888ba7827"
      },
      "execution_count": null,
      "outputs": [
        {
          "output_type": "stream",
          "name": "stdout",
          "text": [
            "Help on built-in function dir in module builtins:\n",
            "\n",
            "dir(...)\n",
            "    dir([object]) -> list of strings\n",
            "    \n",
            "    If called without an argument, return the names in the current scope.\n",
            "    Else, return an alphabetized list of names comprising (some of) the attributes\n",
            "    of the given object, and of attributes reachable from it.\n",
            "    If the object supplies a method named __dir__, it will be used; otherwise\n",
            "    the default dir() logic is used and returns:\n",
            "      for a module object: the module's attributes.\n",
            "      for a class object:  its attributes, and recursively the attributes\n",
            "        of its bases.\n",
            "      for any other object: its attributes, its class's attributes, and\n",
            "        recursively the attributes of its class's base classes.\n",
            "\n"
          ]
        }
      ]
    },
    {
      "cell_type": "code",
      "source": [
        "dir()"
      ],
      "metadata": {
        "colab": {
          "base_uri": "https://localhost:8080/"
        },
        "id": "7Lw8Q8yoPEWM",
        "outputId": "94415562-e623-4c9a-c617-c602e43cfc49"
      },
      "execution_count": null,
      "outputs": [
        {
          "output_type": "execute_result",
          "data": {
            "text/plain": [
              "['In',\n",
              " 'Out',\n",
              " 'Phone',\n",
              " '_',\n",
              " '_10',\n",
              " '_11',\n",
              " '_3',\n",
              " '_7',\n",
              " '_9',\n",
              " '__',\n",
              " '___',\n",
              " '__builtin__',\n",
              " '__builtins__',\n",
              " '__doc__',\n",
              " '__loader__',\n",
              " '__name__',\n",
              " '__package__',\n",
              " '__spec__',\n",
              " '_dh',\n",
              " '_i',\n",
              " '_i1',\n",
              " '_i10',\n",
              " '_i11',\n",
              " '_i12',\n",
              " '_i13',\n",
              " '_i2',\n",
              " '_i3',\n",
              " '_i4',\n",
              " '_i5',\n",
              " '_i6',\n",
              " '_i7',\n",
              " '_i8',\n",
              " '_i9',\n",
              " '_ih',\n",
              " '_ii',\n",
              " '_iii',\n",
              " '_oh',\n",
              " 'exit',\n",
              " 'get_ipython',\n",
              " 'phone',\n",
              " 'quit']"
            ]
          },
          "metadata": {},
          "execution_count": 13
        }
      ]
    },
    {
      "cell_type": "code",
      "source": [
        "import pathlib\n",
        "\n",
        "\n",
        "dir(pathlib)"
      ],
      "metadata": {
        "id": "DuVnqpNoPF_f"
      },
      "execution_count": null,
      "outputs": []
    },
    {
      "cell_type": "code",
      "source": [
        "counter = 1\n",
        "\n",
        "def update_counter():\n",
        "    global counter\n",
        "    counter += 1\n",
        "    print(counter)\n",
        "\n",
        "update_counter()"
      ],
      "metadata": {
        "colab": {
          "base_uri": "https://localhost:8080/"
        },
        "id": "NuwLa1hZPw4N",
        "outputId": "23e4770f-6735-4fcb-8abb-73ebbd2310ad"
      },
      "execution_count": null,
      "outputs": [
        {
          "output_type": "stream",
          "name": "stdout",
          "text": [
            "2\n"
          ]
        }
      ]
    }
  ]
}