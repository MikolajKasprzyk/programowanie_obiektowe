{
  "nbformat": 4,
  "nbformat_minor": 0,
  "metadata": {
    "colab": {
      "provenance": [],
      "authorship_tag": "ABX9TyM2UxGklV/Dp5vm7OjOvLEx",
      "include_colab_link": true
    },
    "kernelspec": {
      "name": "python3",
      "display_name": "Python 3"
    },
    "language_info": {
      "name": "python"
    }
  },
  "cells": [
    {
      "cell_type": "markdown",
      "metadata": {
        "id": "view-in-github",
        "colab_type": "text"
      },
      "source": [
        "<a href=\"https://colab.research.google.com/github/MikolajKasprzyk/programowanie_obiektowe/blob/main/03_args_kwargs.ipynb\" target=\"_parent\"><img src=\"https://colab.research.google.com/assets/colab-badge.svg\" alt=\"Open In Colab\"/></a>"
      ]
    },
    {
      "cell_type": "code",
      "execution_count": null,
      "metadata": {
        "colab": {
          "base_uri": "https://localhost:8080/"
        },
        "id": "TSVrKFnTJPSm",
        "outputId": "d4dc77be-0adb-4011-f1fb-81c597d8fe00"
      },
      "outputs": [
        {
          "output_type": "stream",
          "name": "stdout",
          "text": [
            "0\n",
            "()\n"
          ]
        }
      ],
      "source": [
        "def sample(*args):\n",
        "    print(len(args))\n",
        "    print(args)\n",
        "\n",
        "sample()"
      ]
    },
    {
      "cell_type": "code",
      "source": [
        "sample(3)"
      ],
      "metadata": {
        "colab": {
          "base_uri": "https://localhost:8080/"
        },
        "id": "pg8lv8-JJquX",
        "outputId": "53a89fe9-33a0-4c2b-ba0f-a5ec29996136"
      },
      "execution_count": null,
      "outputs": [
        {
          "output_type": "stream",
          "name": "stdout",
          "text": [
            "1\n",
            "(3,)\n"
          ]
        }
      ]
    },
    {
      "cell_type": "code",
      "source": [
        "sample(1, 'alabala')"
      ],
      "metadata": {
        "colab": {
          "base_uri": "https://localhost:8080/"
        },
        "id": "NgSDZG7PJ3jW",
        "outputId": "c7e81798-3fe4-4654-de03-8782ceb24d4b"
      },
      "execution_count": null,
      "outputs": [
        {
          "output_type": "stream",
          "name": "stdout",
          "text": [
            "2\n",
            "(1, 'alabala')\n"
          ]
        }
      ]
    },
    {
      "cell_type": "code",
      "source": [
        "sample(3, 'a', False)"
      ],
      "metadata": {
        "colab": {
          "base_uri": "https://localhost:8080/"
        },
        "id": "fpT4jB3XJ8Jj",
        "outputId": "6c04bd8b-9216-4954-939b-d129ce3b5263"
      },
      "execution_count": null,
      "outputs": [
        {
          "output_type": "stream",
          "name": "stdout",
          "text": [
            "3\n",
            "(3, 'a', False)\n"
          ]
        }
      ]
    },
    {
      "cell_type": "code",
      "source": [
        "def sample(*components):\n",
        "    print(len(components))\n",
        "    print(components)"
      ],
      "metadata": {
        "id": "HKeFMwfqKA8d"
      },
      "execution_count": null,
      "outputs": []
    },
    {
      "cell_type": "code",
      "source": [
        "sample(1, 3, 'a')"
      ],
      "metadata": {
        "colab": {
          "base_uri": "https://localhost:8080/"
        },
        "id": "hxkVINIqKPO5",
        "outputId": "37645e54-8208-4822-8e86-48073d9984dd"
      },
      "execution_count": null,
      "outputs": [
        {
          "output_type": "stream",
          "name": "stdout",
          "text": [
            "3\n",
            "(1, 3, 'a')\n"
          ]
        }
      ]
    },
    {
      "cell_type": "code",
      "source": [
        "def stick(*args):\n",
        "    result = ''\n",
        "    for arg in args:\n",
        "        result += str(arg)\n",
        "    return(result)\n",
        "\n",
        "stick(4, 5)"
      ],
      "metadata": {
        "colab": {
          "base_uri": "https://localhost:8080/",
          "height": 35
        },
        "id": "TmNr2IpVKSkh",
        "outputId": "b56d550e-8430-44b3-fb28-cda78d60aff2"
      },
      "execution_count": null,
      "outputs": [
        {
          "output_type": "execute_result",
          "data": {
            "text/plain": [
              "'45'"
            ],
            "application/vnd.google.colaboratory.intrinsic+json": {
              "type": "string"
            }
          },
          "metadata": {},
          "execution_count": 9
        }
      ]
    },
    {
      "cell_type": "code",
      "source": [
        "stick('Python', ' ', '3.8')"
      ],
      "metadata": {
        "colab": {
          "base_uri": "https://localhost:8080/",
          "height": 35
        },
        "id": "uvDIJ11EKuFi",
        "outputId": "42ed6d31-0fb7-4f53-aa51-cf48b33b6bfb"
      },
      "execution_count": null,
      "outputs": [
        {
          "output_type": "execute_result",
          "data": {
            "text/plain": [
              "'Python 3.8'"
            ],
            "application/vnd.google.colaboratory.intrinsic+json": {
              "type": "string"
            }
          },
          "metadata": {},
          "execution_count": 10
        }
      ]
    },
    {
      "cell_type": "code",
      "source": [
        "def sample(**kwargs):\n",
        "    print(len(kwargs))\n",
        "    print(kwargs)\n",
        "\n",
        "sample()"
      ],
      "metadata": {
        "colab": {
          "base_uri": "https://localhost:8080/"
        },
        "id": "b5mcja3qK02i",
        "outputId": "1f797a37-0767-463a-f114-6cb907224f80"
      },
      "execution_count": null,
      "outputs": [
        {
          "output_type": "stream",
          "name": "stdout",
          "text": [
            "0\n",
            "{}\n"
          ]
        }
      ]
    },
    {
      "cell_type": "code",
      "source": [
        "sample(var1='Python')"
      ],
      "metadata": {
        "colab": {
          "base_uri": "https://localhost:8080/"
        },
        "id": "dT7C2uY4LKBq",
        "outputId": "fe9ca402-f6fd-4d67-f16c-edd613855d4d"
      },
      "execution_count": null,
      "outputs": [
        {
          "output_type": "stream",
          "name": "stdout",
          "text": [
            "1\n",
            "{'var1': 'Python'}\n"
          ]
        }
      ]
    },
    {
      "cell_type": "code",
      "source": [
        "sample(var1='Python', var2='3.8')"
      ],
      "metadata": {
        "colab": {
          "base_uri": "https://localhost:8080/"
        },
        "id": "TwY5r9J9LQHd",
        "outputId": "4b6064f7-edad-499d-c02a-75ada5864008"
      },
      "execution_count": null,
      "outputs": [
        {
          "output_type": "stream",
          "name": "stdout",
          "text": [
            "2\n",
            "{'var1': 'Python', 'var2': '3.8'}\n"
          ]
        }
      ]
    },
    {
      "cell_type": "code",
      "source": [
        "def func(**kwargs):\n",
        "    for item in kwargs.items():\n",
        "        print(item)"
      ],
      "metadata": {
        "id": "lQXaBYTPLlym"
      },
      "execution_count": null,
      "outputs": []
    },
    {
      "cell_type": "code",
      "source": [
        "func(name='john', age=24)"
      ],
      "metadata": {
        "colab": {
          "base_uri": "https://localhost:8080/"
        },
        "id": "YM8-NS5rL-L1",
        "outputId": "4a131c62-47ff-4336-b721-fbd49f9395c5"
      },
      "execution_count": null,
      "outputs": [
        {
          "output_type": "stream",
          "name": "stdout",
          "text": [
            "('name', 'john')\n",
            "('age', 24)\n"
          ]
        }
      ]
    },
    {
      "cell_type": "code",
      "source": [
        "def hello(**kwargs):\n",
        "    if 'name' in kwargs:\n",
        "        print(f\"Hello {kwargs['name']}\")\n",
        "    else:\n",
        "        print('Hello')"
      ],
      "metadata": {
        "id": "LdvaYlPqMEJi"
      },
      "execution_count": null,
      "outputs": []
    },
    {
      "cell_type": "code",
      "source": [
        "hello(var1='john')"
      ],
      "metadata": {
        "colab": {
          "base_uri": "https://localhost:8080/"
        },
        "id": "MLWaIT_cMYmm",
        "outputId": "6138e204-51fc-4906-db9a-26d8d98f52ec"
      },
      "execution_count": null,
      "outputs": [
        {
          "output_type": "stream",
          "name": "stdout",
          "text": [
            "Hello\n"
          ]
        }
      ]
    },
    {
      "cell_type": "code",
      "source": [
        "hello(name='john')"
      ],
      "metadata": {
        "colab": {
          "base_uri": "https://localhost:8080/"
        },
        "id": "PUSvdPYEMjB5",
        "outputId": "e751ba98-fe04-409b-e42c-3c527e8a4d22"
      },
      "execution_count": null,
      "outputs": [
        {
          "output_type": "stream",
          "name": "stdout",
          "text": [
            "Hello john\n"
          ]
        }
      ]
    },
    {
      "cell_type": "code",
      "source": [
        "def sum_int(**kwargs):\n",
        "    if kwargs:\n",
        "        result = 0\n",
        "        for kwarg in kwargs.values():\n",
        "            if isinstance(kwarg, int):\n",
        "                result += kwarg\n",
        "        return result\n",
        "    return None"
      ],
      "metadata": {
        "id": "FBz0k3pmMsVx"
      },
      "execution_count": null,
      "outputs": []
    },
    {
      "cell_type": "code",
      "source": [
        "sum_int()"
      ],
      "metadata": {
        "id": "fZO60xoDNXYD"
      },
      "execution_count": null,
      "outputs": []
    },
    {
      "cell_type": "code",
      "source": [
        "sum_int(a=1, b=3, c='albala')"
      ],
      "metadata": {
        "colab": {
          "base_uri": "https://localhost:8080/"
        },
        "id": "wWCkDFUFNZvZ",
        "outputId": "8966a35c-f9b6-413a-fb40-3208be433c58"
      },
      "execution_count": null,
      "outputs": [
        {
          "output_type": "execute_result",
          "data": {
            "text/plain": [
              "4"
            ]
          },
          "metadata": {},
          "execution_count": 31
        }
      ]
    },
    {
      "cell_type": "code",
      "source": [
        "def sample(*args, **kwargs):\n",
        "    print(args)\n",
        "    print(kwargs)"
      ],
      "metadata": {
        "id": "7rHw0UQCNge2"
      },
      "execution_count": null,
      "outputs": []
    },
    {
      "cell_type": "code",
      "source": [
        "sample()"
      ],
      "metadata": {
        "colab": {
          "base_uri": "https://localhost:8080/"
        },
        "id": "N5SWYBkLOLyv",
        "outputId": "4f004cec-b3c7-4bd7-e8b8-a74915ac48b0"
      },
      "execution_count": null,
      "outputs": [
        {
          "output_type": "stream",
          "name": "stdout",
          "text": [
            "()\n",
            "{}\n"
          ]
        }
      ]
    },
    {
      "cell_type": "code",
      "source": [
        "sample(1, 2, 3)"
      ],
      "metadata": {
        "colab": {
          "base_uri": "https://localhost:8080/"
        },
        "id": "gGJbnF2kONuj",
        "outputId": "53a005c4-a9c6-4d2d-c021-283ff4531b20"
      },
      "execution_count": null,
      "outputs": [
        {
          "output_type": "stream",
          "name": "stdout",
          "text": [
            "(1, 2, 3)\n",
            "{}\n"
          ]
        }
      ]
    },
    {
      "cell_type": "code",
      "source": [
        "sample(2, 8, 'ererer', var1='alalala', var2=3)"
      ],
      "metadata": {
        "colab": {
          "base_uri": "https://localhost:8080/"
        },
        "id": "SP4JssK-OQnb",
        "outputId": "88b6230b-5ac0-4e68-c4dc-49929e2efa5d"
      },
      "execution_count": null,
      "outputs": [
        {
          "output_type": "stream",
          "name": "stdout",
          "text": [
            "(2, 8, 'ererer')\n",
            "{'var1': 'alalala', 'var2': 3}\n"
          ]
        }
      ]
    },
    {
      "cell_type": "code",
      "source": [
        "stocks = {'appl' : 'Apple', 'tsla' : 'Tesla'}\n"
      ],
      "metadata": {
        "id": "3DmBhgc-OZqm"
      },
      "execution_count": null,
      "outputs": []
    },
    {
      "cell_type": "code",
      "source": [
        "sample(appl='Apple', tsl='Tesla')"
      ],
      "metadata": {
        "colab": {
          "base_uri": "https://localhost:8080/"
        },
        "id": "F-TKfoX-O3MX",
        "outputId": "a710be12-325d-494d-c3f8-b57acd5e6a85"
      },
      "execution_count": null,
      "outputs": [
        {
          "output_type": "stream",
          "name": "stdout",
          "text": [
            "()\n",
            "{'appl': 'Apple', 'tsl': 'Tesla'}\n"
          ]
        }
      ]
    },
    {
      "cell_type": "code",
      "source": [
        "sample(stocks) # tu caly slownik wlatuje jako 1 argument nie nazwany"
      ],
      "metadata": {
        "colab": {
          "base_uri": "https://localhost:8080/"
        },
        "id": "xwJivMPUO_-z",
        "outputId": "18e3be10-a1eb-4718-8164-3096db583bd8"
      },
      "execution_count": null,
      "outputs": [
        {
          "output_type": "stream",
          "name": "stdout",
          "text": [
            "({'appl': 'Apple', 'tsla': 'Tesla'},)\n",
            "{}\n"
          ]
        }
      ]
    },
    {
      "cell_type": "code",
      "source": [
        "sample(**stocks)"
      ],
      "metadata": {
        "colab": {
          "base_uri": "https://localhost:8080/"
        },
        "id": "mo9OrdY_PChA",
        "outputId": "966e2f16-4cf1-4ce3-919f-ba055e5a2236"
      },
      "execution_count": null,
      "outputs": [
        {
          "output_type": "stream",
          "name": "stdout",
          "text": [
            "()\n",
            "{'appl': 'Apple', 'tsla': 'Tesla'}\n"
          ]
        }
      ]
    },
    {
      "cell_type": "code",
      "source": [
        "numbers = (1, 12, 56, 67)\n",
        "\n",
        "sample(*numbers)"
      ],
      "metadata": {
        "colab": {
          "base_uri": "https://localhost:8080/"
        },
        "id": "vXhNUQ1ePGGm",
        "outputId": "4997c837-a370-4a56-f3a2-fc9cae6f2060"
      },
      "execution_count": null,
      "outputs": [
        {
          "output_type": "stream",
          "name": "stdout",
          "text": [
            "(1, 12, 56, 67)\n",
            "{}\n"
          ]
        }
      ]
    },
    {
      "cell_type": "code",
      "source": [
        "sample(numbers)"
      ],
      "metadata": {
        "colab": {
          "base_uri": "https://localhost:8080/"
        },
        "id": "xc_oWGMBPeCn",
        "outputId": "09ce9a9d-e919-4b06-b3cf-1ac54c3ed3b7"
      },
      "execution_count": null,
      "outputs": [
        {
          "output_type": "stream",
          "name": "stdout",
          "text": [
            "((1, 12, 56, 67),)\n",
            "{}\n"
          ]
        }
      ]
    },
    {
      "cell_type": "code",
      "source": [
        "def stick(*args):\n",
        "    args_lst = [str(arg) for arg in args]\n",
        "    result = ','.join(args_lst)\n",
        "    return print(result)\n",
        "\n",
        "stick('a', 'b', 'c')"
      ],
      "metadata": {
        "colab": {
          "base_uri": "https://localhost:8080/"
        },
        "id": "3KxuQMG0Pf1e",
        "outputId": "cddd9895-6a4e-4cab-f5cb-84c4e2179449"
      },
      "execution_count": null,
      "outputs": [
        {
          "output_type": "stream",
          "name": "stdout",
          "text": [
            "a,b,c\n"
          ]
        }
      ]
    },
    {
      "cell_type": "code",
      "source": [
        "def info(main_tech, **techs):\n",
        "    print(main_tech)\n",
        "    if 'sql' in techs.keys():\n",
        "        print(techs['sql'])"
      ],
      "metadata": {
        "id": "YR_JSF0hQzAt"
      },
      "execution_count": null,
      "outputs": []
    },
    {
      "cell_type": "code",
      "source": [
        "info('ptyhon', sql='mid')"
      ],
      "metadata": {
        "colab": {
          "base_uri": "https://localhost:8080/"
        },
        "id": "-hL4JahDUUGe",
        "outputId": "69767e2c-41e0-4b3a-ab16-bb43ee523ddb"
      },
      "execution_count": null,
      "outputs": [
        {
          "output_type": "stream",
          "name": "stdout",
          "text": [
            "ptyhon\n",
            "mid\n"
          ]
        }
      ]
    },
    {
      "cell_type": "code",
      "source": [
        "info('python')"
      ],
      "metadata": {
        "colab": {
          "base_uri": "https://localhost:8080/"
        },
        "id": "OzjE9e03UbAm",
        "outputId": "01d35a39-5c7a-4e11-a106-54c011b5a0f0"
      },
      "execution_count": null,
      "outputs": [
        {
          "output_type": "stream",
          "name": "stdout",
          "text": [
            "python\n"
          ]
        }
      ]
    },
    {
      "cell_type": "code",
      "source": [],
      "metadata": {
        "id": "mANj-77QUkLc"
      },
      "execution_count": null,
      "outputs": []
    }
  ]
}