{
  "nbformat": 4,
  "nbformat_minor": 0,
  "metadata": {
    "colab": {
      "provenance": [],
      "authorship_tag": "ABX9TyNEnzPfHF/zjykZSHu7RVmK",
      "include_colab_link": true
    },
    "kernelspec": {
      "name": "python3",
      "display_name": "Python 3"
    },
    "language_info": {
      "name": "python"
    }
  },
  "cells": [
    {
      "cell_type": "markdown",
      "metadata": {
        "id": "view-in-github",
        "colab_type": "text"
      },
      "source": [
        "<a href=\"https://colab.research.google.com/github/MikolajKasprzyk/programowanie_obiektowe/blob/main/04_klasy_i_obiekty.ipynb\" target=\"_parent\"><img src=\"https://colab.research.google.com/assets/colab-badge.svg\" alt=\"Open In Colab\"/></a>"
      ]
    },
    {
      "cell_type": "code",
      "execution_count": null,
      "metadata": {
        "id": "sohFc8BSYpVt"
      },
      "outputs": [],
      "source": [
        "class Phone:\n",
        "    pass"
      ]
    },
    {
      "cell_type": "code",
      "source": [
        "help(Phone)"
      ],
      "metadata": {
        "colab": {
          "base_uri": "https://localhost:8080/"
        },
        "id": "xsuVNVnIitPI",
        "outputId": "24a3ade7-c56c-4ff5-c073-c0a0fe540830"
      },
      "execution_count": null,
      "outputs": [
        {
          "output_type": "stream",
          "name": "stdout",
          "text": [
            "Help on class Phone in module __main__:\n",
            "\n",
            "class Phone(builtins.object)\n",
            " |  Data descriptors defined here:\n",
            " |  \n",
            " |  __dict__\n",
            " |      dictionary for instance variables (if defined)\n",
            " |  \n",
            " |  __weakref__\n",
            " |      list of weak references to the object (if defined)\n",
            "\n"
          ]
        }
      ]
    },
    {
      "cell_type": "code",
      "source": [
        "help(object) # podstatawowa klasa"
      ],
      "metadata": {
        "colab": {
          "base_uri": "https://localhost:8080/"
        },
        "id": "TriOndHNi_cb",
        "outputId": "539a5e02-c30d-4fea-fe93-0f676308dacf"
      },
      "execution_count": null,
      "outputs": [
        {
          "output_type": "stream",
          "name": "stdout",
          "text": [
            "Help on class object in module builtins:\n",
            "\n",
            "class object\n",
            " |  The base class of the class hierarchy.\n",
            " |  \n",
            " |  When called, it accepts no arguments and returns a new featureless\n",
            " |  instance that has no instance attributes and cannot be given any.\n",
            " |  \n",
            " |  Built-in subclasses:\n",
            " |      async_generator\n",
            " |      BaseException\n",
            " |      builtin_function_or_method\n",
            " |      bytearray\n",
            " |      ... and 100 other subclasses\n",
            " |  \n",
            " |  Methods defined here:\n",
            " |  \n",
            " |  __delattr__(self, name, /)\n",
            " |      Implement delattr(self, name).\n",
            " |  \n",
            " |  __dir__(self, /)\n",
            " |      Default dir() implementation.\n",
            " |  \n",
            " |  __eq__(self, value, /)\n",
            " |      Return self==value.\n",
            " |  \n",
            " |  __format__(self, format_spec, /)\n",
            " |      Default object formatter.\n",
            " |  \n",
            " |  __ge__(self, value, /)\n",
            " |      Return self>=value.\n",
            " |  \n",
            " |  __getattribute__(self, name, /)\n",
            " |      Return getattr(self, name).\n",
            " |  \n",
            " |  __gt__(self, value, /)\n",
            " |      Return self>value.\n",
            " |  \n",
            " |  __hash__(self, /)\n",
            " |      Return hash(self).\n",
            " |  \n",
            " |  __init__(self, /, *args, **kwargs)\n",
            " |      Initialize self.  See help(type(self)) for accurate signature.\n",
            " |  \n",
            " |  __le__(self, value, /)\n",
            " |      Return self<=value.\n",
            " |  \n",
            " |  __lt__(self, value, /)\n",
            " |      Return self<value.\n",
            " |  \n",
            " |  __ne__(self, value, /)\n",
            " |      Return self!=value.\n",
            " |  \n",
            " |  __reduce__(self, /)\n",
            " |      Helper for pickle.\n",
            " |  \n",
            " |  __reduce_ex__(self, protocol, /)\n",
            " |      Helper for pickle.\n",
            " |  \n",
            " |  __repr__(self, /)\n",
            " |      Return repr(self).\n",
            " |  \n",
            " |  __setattr__(self, name, value, /)\n",
            " |      Implement setattr(self, name, value).\n",
            " |  \n",
            " |  __sizeof__(self, /)\n",
            " |      Size of object in memory, in bytes.\n",
            " |  \n",
            " |  __str__(self, /)\n",
            " |      Return str(self).\n",
            " |  \n",
            " |  ----------------------------------------------------------------------\n",
            " |  Class methods defined here:\n",
            " |  \n",
            " |  __init_subclass__(...) from builtins.type\n",
            " |      This method is called when a class is subclassed.\n",
            " |      \n",
            " |      The default implementation does nothing. It may be\n",
            " |      overridden to extend subclasses.\n",
            " |  \n",
            " |  __subclasshook__(...) from builtins.type\n",
            " |      Abstract classes can override this to customize issubclass().\n",
            " |      \n",
            " |      This is invoked early on by abc.ABCMeta.__subclasscheck__().\n",
            " |      It should return True, False or NotImplemented.  If it returns\n",
            " |      NotImplemented, the normal algorithm is used.  Otherwise, it\n",
            " |      overrides the normal algorithm (and the outcome is cached).\n",
            " |  \n",
            " |  ----------------------------------------------------------------------\n",
            " |  Static methods defined here:\n",
            " |  \n",
            " |  __new__(*args, **kwargs) from builtins.type\n",
            " |      Create and return a new object.  See help(type) for accurate signature.\n",
            " |  \n",
            " |  ----------------------------------------------------------------------\n",
            " |  Data and other attributes defined here:\n",
            " |  \n",
            " |  __class__ = <class 'type'>\n",
            " |      type(object_or_name, bases, dict)\n",
            " |      type(object) -> the object's type\n",
            " |      type(name, bases, dict) -> a new type\n",
            "\n"
          ]
        }
      ]
    },
    {
      "cell_type": "code",
      "source": [
        "class Phone:\n",
        "    \"\"\"The Phone class dokumentajca\"\"\""
      ],
      "metadata": {
        "id": "ODJjoutpjE9J"
      },
      "execution_count": null,
      "outputs": []
    },
    {
      "cell_type": "code",
      "source": [
        "help(Phone)"
      ],
      "metadata": {
        "colab": {
          "base_uri": "https://localhost:8080/"
        },
        "id": "OI_HQxUIjU-f",
        "outputId": "43ca0683-3f21-41f2-c91a-744e59fd6c2b"
      },
      "execution_count": null,
      "outputs": [
        {
          "output_type": "stream",
          "name": "stdout",
          "text": [
            "Help on class Phone in module __main__:\n",
            "\n",
            "class Phone(builtins.object)\n",
            " |  The Phone class dokumentajca\n",
            " |  \n",
            " |  Data descriptors defined here:\n",
            " |  \n",
            " |  __dict__\n",
            " |      dictionary for instance variables (if defined)\n",
            " |  \n",
            " |  __weakref__\n",
            " |      list of weak references to the object (if defined)\n",
            "\n"
          ]
        }
      ]
    },
    {
      "cell_type": "markdown",
      "source": [
        "# Funkcja type - przypomnienie"
      ],
      "metadata": {
        "id": "GmjUOdVyju6l"
      }
    },
    {
      "cell_type": "code",
      "source": [
        "type('Apple')"
      ],
      "metadata": {
        "colab": {
          "base_uri": "https://localhost:8080/"
        },
        "id": "_yA5pncwjWk0",
        "outputId": "7378ad65-7337-4fbd-9384-ac77aca8b6b8"
      },
      "execution_count": null,
      "outputs": [
        {
          "output_type": "execute_result",
          "data": {
            "text/plain": [
              "str"
            ]
          },
          "metadata": {},
          "execution_count": 10
        }
      ]
    },
    {
      "cell_type": "code",
      "source": [
        "type('Apple'), type(3.14), type(True), type(None)"
      ],
      "metadata": {
        "colab": {
          "base_uri": "https://localhost:8080/"
        },
        "id": "t-Enakmzj2RX",
        "outputId": "3b8300e9-cc79-459f-ffc2-4bfa3a54b99e"
      },
      "execution_count": null,
      "outputs": [
        {
          "output_type": "execute_result",
          "data": {
            "text/plain": [
              "(str, float, bool, NoneType)"
            ]
          },
          "metadata": {},
          "execution_count": 11
        }
      ]
    },
    {
      "cell_type": "code",
      "source": [
        "type(Phone)"
      ],
      "metadata": {
        "colab": {
          "base_uri": "https://localhost:8080/"
        },
        "id": "HFOeJlfkkEXc",
        "outputId": "021c63fa-e5dc-476f-aaf5-710dcabc5a2f"
      },
      "execution_count": null,
      "outputs": [
        {
          "output_type": "execute_result",
          "data": {
            "text/plain": [
              "type"
            ]
          },
          "metadata": {},
          "execution_count": 12
        }
      ]
    },
    {
      "cell_type": "code",
      "source": [
        "type(int), type(float), type(bool), type(type)"
      ],
      "metadata": {
        "colab": {
          "base_uri": "https://localhost:8080/"
        },
        "id": "-ng-USUWkQbt",
        "outputId": "716740f6-906d-4ca3-ab2b-8fc0692bb8d3"
      },
      "execution_count": null,
      "outputs": [
        {
          "output_type": "execute_result",
          "data": {
            "text/plain": [
              "(type, type, type, type)"
            ]
          },
          "metadata": {},
          "execution_count": 13
        }
      ]
    },
    {
      "cell_type": "code",
      "source": [
        "class Phone:\n",
        "    \"\"\"The Phone class dokumentajca\"\"\""
      ],
      "metadata": {
        "id": "X-jb43CukXKQ"
      },
      "execution_count": null,
      "outputs": []
    },
    {
      "cell_type": "code",
      "source": [
        "Phone"
      ],
      "metadata": {
        "colab": {
          "base_uri": "https://localhost:8080/"
        },
        "id": "OlypuMlWkna_",
        "outputId": "1bf9d6c0-4302-4f7f-9bbf-0a6bcde36565"
      },
      "execution_count": null,
      "outputs": [
        {
          "output_type": "execute_result",
          "data": {
            "text/plain": [
              "__main__.Phone"
            ]
          },
          "metadata": {},
          "execution_count": 15
        }
      ]
    },
    {
      "cell_type": "code",
      "source": [
        "Phone.__name__"
      ],
      "metadata": {
        "colab": {
          "base_uri": "https://localhost:8080/",
          "height": 35
        },
        "id": "RswEnVCNkpkX",
        "outputId": "b95e4f28-3124-4ab5-d44e-10f9f25a1ae0"
      },
      "execution_count": null,
      "outputs": [
        {
          "output_type": "execute_result",
          "data": {
            "text/plain": [
              "'Phone'"
            ],
            "application/vnd.google.colaboratory.intrinsic+json": {
              "type": "string"
            }
          },
          "metadata": {},
          "execution_count": 16
        }
      ]
    },
    {
      "cell_type": "code",
      "source": [
        "Phone.__module__"
      ],
      "metadata": {
        "colab": {
          "base_uri": "https://localhost:8080/",
          "height": 35
        },
        "id": "BSse3TRmkuD7",
        "outputId": "632f6b92-e4cb-4ea9-aaf0-d0945b7b1754"
      },
      "execution_count": null,
      "outputs": [
        {
          "output_type": "execute_result",
          "data": {
            "text/plain": [
              "'__main__'"
            ],
            "application/vnd.google.colaboratory.intrinsic+json": {
              "type": "string"
            }
          },
          "metadata": {},
          "execution_count": 17
        }
      ]
    },
    {
      "cell_type": "code",
      "source": [
        "Phone.__doc__"
      ],
      "metadata": {
        "colab": {
          "base_uri": "https://localhost:8080/",
          "height": 35
        },
        "id": "WEksC_NqkxPj",
        "outputId": "c1324893-20ae-4430-c2bc-b155459953a0"
      },
      "execution_count": null,
      "outputs": [
        {
          "output_type": "execute_result",
          "data": {
            "text/plain": [
              "'The Phone class dokumentajca'"
            ],
            "application/vnd.google.colaboratory.intrinsic+json": {
              "type": "string"
            }
          },
          "metadata": {},
          "execution_count": 18
        }
      ]
    },
    {
      "cell_type": "code",
      "source": [
        "Phone() # tworzymy obiekt danej klasy, tyle ze trzeba go do czegosd przypisac zeby nie zniknal"
      ],
      "metadata": {
        "colab": {
          "base_uri": "https://localhost:8080/"
        },
        "id": "JqvVEcPak2ci",
        "outputId": "93ab5461-412b-4868-aae1-bd8de2ffbd4b"
      },
      "execution_count": null,
      "outputs": [
        {
          "output_type": "execute_result",
          "data": {
            "text/plain": [
              "<__main__.Phone at 0x7f8d4c44c0d0>"
            ]
          },
          "metadata": {},
          "execution_count": 19
        }
      ]
    },
    {
      "cell_type": "code",
      "source": [
        "phone = Phone()"
      ],
      "metadata": {
        "id": "XvFmmw7Uk8oD"
      },
      "execution_count": null,
      "outputs": []
    },
    {
      "cell_type": "code",
      "source": [
        "phone"
      ],
      "metadata": {
        "colab": {
          "base_uri": "https://localhost:8080/"
        },
        "id": "03gBsodBlLWv",
        "outputId": "9aaa5d2d-6a0c-496e-e8f6-b6dec927258f"
      },
      "execution_count": null,
      "outputs": [
        {
          "output_type": "execute_result",
          "data": {
            "text/plain": [
              "<__main__.Phone at 0x7f8d5c0d4c70>"
            ]
          },
          "metadata": {},
          "execution_count": 21
        }
      ]
    },
    {
      "cell_type": "code",
      "source": [
        "type(phone)"
      ],
      "metadata": {
        "colab": {
          "base_uri": "https://localhost:8080/"
        },
        "id": "QZizcM6XlMjW",
        "outputId": "b379b878-e2cf-43ce-bebf-a3e0203ce822"
      },
      "execution_count": null,
      "outputs": [
        {
          "output_type": "execute_result",
          "data": {
            "text/plain": [
              "__main__.Phone"
            ]
          },
          "metadata": {},
          "execution_count": 22
        }
      ]
    },
    {
      "cell_type": "code",
      "source": [
        "phone.__class__"
      ],
      "metadata": {
        "colab": {
          "base_uri": "https://localhost:8080/"
        },
        "id": "IlHtu0mAlQdT",
        "outputId": "527bf97b-fac2-46d9-8677-2ae0667d4ba3"
      },
      "execution_count": null,
      "outputs": [
        {
          "output_type": "execute_result",
          "data": {
            "text/plain": [
              "__main__.Phone"
            ]
          },
          "metadata": {},
          "execution_count": 23
        }
      ]
    },
    {
      "cell_type": "code",
      "source": [
        "phone.__class__.__name__"
      ],
      "metadata": {
        "colab": {
          "base_uri": "https://localhost:8080/",
          "height": 35
        },
        "id": "aoEgCdvblW-y",
        "outputId": "de3269fd-570e-4c0a-cbfe-5bc448fff7ed"
      },
      "execution_count": null,
      "outputs": [
        {
          "output_type": "execute_result",
          "data": {
            "text/plain": [
              "'Phone'"
            ],
            "application/vnd.google.colaboratory.intrinsic+json": {
              "type": "string"
            }
          },
          "metadata": {},
          "execution_count": 24
        }
      ]
    },
    {
      "cell_type": "code",
      "source": [
        "type(phone).__name__"
      ],
      "metadata": {
        "colab": {
          "base_uri": "https://localhost:8080/",
          "height": 35
        },
        "id": "MJBeOw64ldiy",
        "outputId": "3b89710a-7bed-4b26-f01c-a94ec4f5072a"
      },
      "execution_count": null,
      "outputs": [
        {
          "output_type": "execute_result",
          "data": {
            "text/plain": [
              "'Phone'"
            ],
            "application/vnd.google.colaboratory.intrinsic+json": {
              "type": "string"
            }
          },
          "metadata": {},
          "execution_count": 25
        }
      ]
    },
    {
      "cell_type": "markdown",
      "source": [
        "# Przyklad"
      ],
      "metadata": {
        "id": "jgTZpapElqIE"
      }
    },
    {
      "cell_type": "code",
      "source": [
        "class Phone:\n",
        "    \"\"\"The Phone class dokumentajca\"\"\""
      ],
      "metadata": {
        "id": "jTqQyMrElkkj"
      },
      "execution_count": null,
      "outputs": []
    },
    {
      "cell_type": "code",
      "source": [
        "phone1 = Phone()\n",
        "phone2 = Phone()"
      ],
      "metadata": {
        "id": "NiDniJexls2o"
      },
      "execution_count": null,
      "outputs": []
    },
    {
      "cell_type": "code",
      "source": [
        "phone1, phone2"
      ],
      "metadata": {
        "colab": {
          "base_uri": "https://localhost:8080/"
        },
        "id": "CQP47ZP9lxbg",
        "outputId": "7be647b8-d05e-4fcd-a3d8-aa11a676ab40"
      },
      "execution_count": null,
      "outputs": [
        {
          "output_type": "execute_result",
          "data": {
            "text/plain": [
              "(<__main__.Phone at 0x7f8d4c4acfd0>, <__main__.Phone at 0x7f8d4c4ac790>)"
            ]
          },
          "metadata": {},
          "execution_count": 28
        }
      ]
    },
    {
      "cell_type": "code",
      "source": [
        "help(id)"
      ],
      "metadata": {
        "colab": {
          "base_uri": "https://localhost:8080/"
        },
        "id": "JG87VH_3lzDd",
        "outputId": "34126559-e83b-4095-aed9-4bb9ef19fef0"
      },
      "execution_count": null,
      "outputs": [
        {
          "output_type": "stream",
          "name": "stdout",
          "text": [
            "Help on built-in function id in module builtins:\n",
            "\n",
            "id(obj, /)\n",
            "    Return the identity of an object.\n",
            "    \n",
            "    This is guaranteed to be unique among simultaneously existing objects.\n",
            "    (CPython uses the object's memory address.)\n",
            "\n"
          ]
        }
      ]
    },
    {
      "cell_type": "code",
      "source": [
        "id(phone1), id(phone2)"
      ],
      "metadata": {
        "colab": {
          "base_uri": "https://localhost:8080/"
        },
        "id": "m8vC6SDNl1zG",
        "outputId": "f9db6161-4481-4bd5-ff55-8e426c6ce941"
      },
      "execution_count": null,
      "outputs": [
        {
          "output_type": "execute_result",
          "data": {
            "text/plain": [
              "(140244847087568, 140244847085456)"
            ]
          },
          "metadata": {},
          "execution_count": 30
        }
      ]
    },
    {
      "cell_type": "markdown",
      "source": [
        "# Wywołanie klasy - krok po kroku"
      ],
      "metadata": {
        "id": "Nnmhe3QBl_s3"
      }
    },
    {
      "cell_type": "code",
      "source": [
        "class HouseProject:\n",
        "\n",
        "    def __init__(self, type_of_project):\n",
        "        self.type_of_project = type_of_project\n"
      ],
      "metadata": {
        "id": "e49mW8Vwl7mG"
      },
      "execution_count": null,
      "outputs": []
    },
    {
      "cell_type": "code",
      "source": [
        "project1 = HouseProject('dom jednorodziny')\n",
        "project1"
      ],
      "metadata": {
        "colab": {
          "base_uri": "https://localhost:8080/"
        },
        "id": "7Gmn8BL4mXbL",
        "outputId": "1abac2f1-9e9e-49b6-fbfb-a69f9acb0c7f"
      },
      "execution_count": null,
      "outputs": [
        {
          "output_type": "execute_result",
          "data": {
            "text/plain": [
              "<__main__.HouseProject at 0x7f8d2fff84f0>"
            ]
          },
          "metadata": {},
          "execution_count": 33
        }
      ]
    },
    {
      "cell_type": "code",
      "source": [
        "type(project1)"
      ],
      "metadata": {
        "colab": {
          "base_uri": "https://localhost:8080/"
        },
        "id": "J2saIsuQmdCD",
        "outputId": "358f92d4-373a-49b3-a4b5-9f9caaea0570"
      },
      "execution_count": null,
      "outputs": [
        {
          "output_type": "execute_result",
          "data": {
            "text/plain": [
              "__main__.HouseProject"
            ]
          },
          "metadata": {},
          "execution_count": 34
        }
      ]
    },
    {
      "cell_type": "code",
      "source": [
        "project1.type_of_project"
      ],
      "metadata": {
        "colab": {
          "base_uri": "https://localhost:8080/",
          "height": 35
        },
        "id": "qV91KYKwmilN",
        "outputId": "e17a2aee-63e3-4d80-8491-bd1e44de5f3a"
      },
      "execution_count": null,
      "outputs": [
        {
          "output_type": "execute_result",
          "data": {
            "text/plain": [
              "'dom jednorodziny'"
            ],
            "application/vnd.google.colaboratory.intrinsic+json": {
              "type": "string"
            }
          },
          "metadata": {},
          "execution_count": 35
        }
      ]
    },
    {
      "cell_type": "code",
      "source": [
        "project2 = HouseProject.__new__(HouseProject)\n",
        "project2"
      ],
      "metadata": {
        "colab": {
          "base_uri": "https://localhost:8080/"
        },
        "id": "82LN4m1Fmw45",
        "outputId": "5949a154-cdfd-4537-e75b-cf6b087f4a49"
      },
      "execution_count": null,
      "outputs": [
        {
          "output_type": "execute_result",
          "data": {
            "text/plain": [
              "<__main__.HouseProject at 0x7f8d30006700>"
            ]
          },
          "metadata": {},
          "execution_count": 36
        }
      ]
    },
    {
      "cell_type": "code",
      "source": [
        "project.type_of_project"
      ],
      "metadata": {
        "colab": {
          "base_uri": "https://localhost:8080/",
          "height": 166
        },
        "id": "zXlYvh6Lm9O-",
        "outputId": "34b8d721-1f3b-4306-be87-5cd09a3554ae"
      },
      "execution_count": null,
      "outputs": [
        {
          "output_type": "error",
          "ename": "NameError",
          "evalue": "ignored",
          "traceback": [
            "\u001b[0;31m---------------------------------------------------------------------------\u001b[0m",
            "\u001b[0;31mNameError\u001b[0m                                 Traceback (most recent call last)",
            "\u001b[0;32m<ipython-input-37-18981a7d220e>\u001b[0m in \u001b[0;36m<module>\u001b[0;34m\u001b[0m\n\u001b[0;32m----> 1\u001b[0;31m \u001b[0mproject\u001b[0m\u001b[0;34m.\u001b[0m\u001b[0mtype_of_project\u001b[0m\u001b[0;34m\u001b[0m\u001b[0;34m\u001b[0m\u001b[0m\n\u001b[0m",
            "\u001b[0;31mNameError\u001b[0m: name 'project' is not defined"
          ]
        }
      ]
    },
    {
      "cell_type": "code",
      "source": [
        "project2.__init__('dom jednorodzinny')"
      ],
      "metadata": {
        "id": "lESCzge8nEdn"
      },
      "execution_count": null,
      "outputs": []
    },
    {
      "cell_type": "code",
      "source": [
        "project2.type_of_project"
      ],
      "metadata": {
        "colab": {
          "base_uri": "https://localhost:8080/",
          "height": 35
        },
        "id": "BjuzmDpLnKBZ",
        "outputId": "b8914e73-d7ce-4ec5-8f04-721c1d49904f"
      },
      "execution_count": null,
      "outputs": [
        {
          "output_type": "execute_result",
          "data": {
            "text/plain": [
              "'dom jednorodzinny'"
            ],
            "application/vnd.google.colaboratory.intrinsic+json": {
              "type": "string"
            }
          },
          "metadata": {},
          "execution_count": 39
        }
      ]
    },
    {
      "cell_type": "markdown",
      "source": [
        "# Funkcja isinstance()"
      ],
      "metadata": {
        "id": "Oep-pELjnTmA"
      }
    },
    {
      "cell_type": "code",
      "source": [
        "class Phone:\n",
        "    \"\"\"The Phone class dokumentajca\"\"\""
      ],
      "metadata": {
        "id": "f-syDZRhnNhE"
      },
      "execution_count": null,
      "outputs": []
    },
    {
      "cell_type": "code",
      "source": [
        "type(Phone)"
      ],
      "metadata": {
        "colab": {
          "base_uri": "https://localhost:8080/"
        },
        "id": "Eexyyto5ngf7",
        "outputId": "347c872c-161e-4a09-8f9a-6672b6aa6dbf"
      },
      "execution_count": null,
      "outputs": [
        {
          "output_type": "execute_result",
          "data": {
            "text/plain": [
              "type"
            ]
          },
          "metadata": {},
          "execution_count": 41
        }
      ]
    },
    {
      "cell_type": "code",
      "source": [
        "isinstance(Phone, type)"
      ],
      "metadata": {
        "colab": {
          "base_uri": "https://localhost:8080/"
        },
        "id": "4sZ7Bt3Rnkk9",
        "outputId": "44be090e-1eb7-4d4b-88d7-97f2f0865b2b"
      },
      "execution_count": null,
      "outputs": [
        {
          "output_type": "execute_result",
          "data": {
            "text/plain": [
              "True"
            ]
          },
          "metadata": {},
          "execution_count": 42
        }
      ]
    },
    {
      "cell_type": "code",
      "source": [
        "phone1 = Phone()\n",
        "phone1\n"
      ],
      "metadata": {
        "colab": {
          "base_uri": "https://localhost:8080/"
        },
        "id": "mirEWphWnoLG",
        "outputId": "fdf6c211-5e44-40c5-d002-33a6ac5101b1"
      },
      "execution_count": null,
      "outputs": [
        {
          "output_type": "execute_result",
          "data": {
            "text/plain": [
              "<__main__.Phone at 0x7f8d2fff8dc0>"
            ]
          },
          "metadata": {},
          "execution_count": 43
        }
      ]
    },
    {
      "cell_type": "code",
      "source": [
        "isinstance(phone1, Phone)"
      ],
      "metadata": {
        "colab": {
          "base_uri": "https://localhost:8080/"
        },
        "id": "L_QXbEcEntla",
        "outputId": "4950d65c-e016-47c2-db86-444dc4f079e4"
      },
      "execution_count": null,
      "outputs": [
        {
          "output_type": "execute_result",
          "data": {
            "text/plain": [
              "True"
            ]
          },
          "metadata": {},
          "execution_count": 44
        }
      ]
    },
    {
      "cell_type": "code",
      "source": [
        "class Phone:\n",
        "    \"\"\"The Phone class dokumentajca\"\"\"\n",
        "\n",
        "class LapTop:\n",
        "    \"\"\"The LapTop class dokumentacja\"\"\"\n",
        "\n",
        "phone1 = Phone()\n",
        "laptop1 = LapTop()"
      ],
      "metadata": {
        "id": "H1PDIjCmnwrs"
      },
      "execution_count": null,
      "outputs": []
    },
    {
      "cell_type": "code",
      "source": [
        "isinstance(phone1, (Phone, LapTop))"
      ],
      "metadata": {
        "colab": {
          "base_uri": "https://localhost:8080/"
        },
        "id": "WX_QUlPosaYq",
        "outputId": "24ebbc1d-60df-4384-86eb-cb73621e3337"
      },
      "execution_count": null,
      "outputs": [
        {
          "output_type": "execute_result",
          "data": {
            "text/plain": [
              "True"
            ]
          },
          "metadata": {},
          "execution_count": 47
        }
      ]
    },
    {
      "cell_type": "code",
      "source": [
        "isinstance([4, 3], (Phone, LapTop))"
      ],
      "metadata": {
        "colab": {
          "base_uri": "https://localhost:8080/"
        },
        "id": "oxQMikeXsewh",
        "outputId": "ea8bcbf6-2153-47d3-b600-877f4a7aaf3c"
      },
      "execution_count": null,
      "outputs": [
        {
          "output_type": "execute_result",
          "data": {
            "text/plain": [
              "False"
            ]
          },
          "metadata": {},
          "execution_count": 48
        }
      ]
    },
    {
      "cell_type": "markdown",
      "source": [
        "# Przykład"
      ],
      "metadata": {
        "id": "tGJ5BiEPsuce"
      }
    },
    {
      "cell_type": "code",
      "source": [
        "import pandas as pd\n",
        "\n",
        "\n",
        "dir(pd)"
      ],
      "metadata": {
        "colab": {
          "base_uri": "https://localhost:8080/"
        },
        "id": "WeVooy9SsrS3",
        "outputId": "e5f79d8f-91a4-4b49-b68f-2a1fe16b2192"
      },
      "execution_count": null,
      "outputs": [
        {
          "output_type": "execute_result",
          "data": {
            "text/plain": [
              "['BooleanDtype',\n",
              " 'Categorical',\n",
              " 'CategoricalDtype',\n",
              " 'CategoricalIndex',\n",
              " 'DataFrame',\n",
              " 'DateOffset',\n",
              " 'DatetimeIndex',\n",
              " 'DatetimeTZDtype',\n",
              " 'ExcelFile',\n",
              " 'ExcelWriter',\n",
              " 'Flags',\n",
              " 'Float32Dtype',\n",
              " 'Float64Dtype',\n",
              " 'Float64Index',\n",
              " 'Grouper',\n",
              " 'HDFStore',\n",
              " 'Index',\n",
              " 'IndexSlice',\n",
              " 'Int16Dtype',\n",
              " 'Int32Dtype',\n",
              " 'Int64Dtype',\n",
              " 'Int64Index',\n",
              " 'Int8Dtype',\n",
              " 'Interval',\n",
              " 'IntervalDtype',\n",
              " 'IntervalIndex',\n",
              " 'MultiIndex',\n",
              " 'NA',\n",
              " 'NaT',\n",
              " 'NamedAgg',\n",
              " 'Period',\n",
              " 'PeriodDtype',\n",
              " 'PeriodIndex',\n",
              " 'RangeIndex',\n",
              " 'Series',\n",
              " 'SparseDtype',\n",
              " 'StringDtype',\n",
              " 'Timedelta',\n",
              " 'TimedeltaIndex',\n",
              " 'Timestamp',\n",
              " 'UInt16Dtype',\n",
              " 'UInt32Dtype',\n",
              " 'UInt64Dtype',\n",
              " 'UInt64Index',\n",
              " 'UInt8Dtype',\n",
              " '__builtins__',\n",
              " '__cached__',\n",
              " '__doc__',\n",
              " '__docformat__',\n",
              " '__file__',\n",
              " '__getattr__',\n",
              " '__git_version__',\n",
              " '__loader__',\n",
              " '__name__',\n",
              " '__package__',\n",
              " '__path__',\n",
              " '__spec__',\n",
              " '__version__',\n",
              " '_config',\n",
              " '_hashtable',\n",
              " '_is_numpy_dev',\n",
              " '_lib',\n",
              " '_libs',\n",
              " '_np_version_under1p18',\n",
              " '_testing',\n",
              " '_tslib',\n",
              " '_typing',\n",
              " '_version',\n",
              " 'api',\n",
              " 'array',\n",
              " 'arrays',\n",
              " 'bdate_range',\n",
              " 'compat',\n",
              " 'concat',\n",
              " 'core',\n",
              " 'crosstab',\n",
              " 'cut',\n",
              " 'date_range',\n",
              " 'describe_option',\n",
              " 'errors',\n",
              " 'eval',\n",
              " 'factorize',\n",
              " 'get_dummies',\n",
              " 'get_option',\n",
              " 'infer_freq',\n",
              " 'interval_range',\n",
              " 'io',\n",
              " 'isna',\n",
              " 'isnull',\n",
              " 'json_normalize',\n",
              " 'lreshape',\n",
              " 'melt',\n",
              " 'merge',\n",
              " 'merge_asof',\n",
              " 'merge_ordered',\n",
              " 'notna',\n",
              " 'notnull',\n",
              " 'offsets',\n",
              " 'option_context',\n",
              " 'options',\n",
              " 'pandas',\n",
              " 'period_range',\n",
              " 'pivot',\n",
              " 'pivot_table',\n",
              " 'plotting',\n",
              " 'qcut',\n",
              " 'read_clipboard',\n",
              " 'read_csv',\n",
              " 'read_excel',\n",
              " 'read_feather',\n",
              " 'read_fwf',\n",
              " 'read_gbq',\n",
              " 'read_hdf',\n",
              " 'read_html',\n",
              " 'read_json',\n",
              " 'read_orc',\n",
              " 'read_parquet',\n",
              " 'read_pickle',\n",
              " 'read_sas',\n",
              " 'read_spss',\n",
              " 'read_sql',\n",
              " 'read_sql_query',\n",
              " 'read_sql_table',\n",
              " 'read_stata',\n",
              " 'read_table',\n",
              " 'read_xml',\n",
              " 'reset_option',\n",
              " 'set_eng_float_format',\n",
              " 'set_option',\n",
              " 'show_versions',\n",
              " 'test',\n",
              " 'testing',\n",
              " 'timedelta_range',\n",
              " 'to_datetime',\n",
              " 'to_numeric',\n",
              " 'to_pickle',\n",
              " 'to_timedelta',\n",
              " 'tseries',\n",
              " 'unique',\n",
              " 'util',\n",
              " 'value_counts',\n",
              " 'wide_to_long']"
            ]
          },
          "metadata": {},
          "execution_count": 50
        }
      ]
    },
    {
      "cell_type": "code",
      "source": [
        "pd.__file__ # sciezka do miejsca gdziejest plik z modulem pandas"
      ],
      "metadata": {
        "colab": {
          "base_uri": "https://localhost:8080/",
          "height": 35
        },
        "id": "Uvagq3zys1Mc",
        "outputId": "cf3fc7b6-60bd-4143-98d2-ade1c265415e"
      },
      "execution_count": null,
      "outputs": [
        {
          "output_type": "execute_result",
          "data": {
            "text/plain": [
              "'/usr/local/lib/python3.8/dist-packages/pandas/__init__.py'"
            ],
            "application/vnd.google.colaboratory.intrinsic+json": {
              "type": "string"
            }
          },
          "metadata": {},
          "execution_count": 51
        }
      ]
    },
    {
      "cell_type": "code",
      "source": [
        "print(pd.__doc__)"
      ],
      "metadata": {
        "colab": {
          "base_uri": "https://localhost:8080/"
        },
        "id": "oMOgyh7ntB8W",
        "outputId": "332243bb-2b1c-47d1-9f7d-18de76e03ae7"
      },
      "execution_count": null,
      "outputs": [
        {
          "output_type": "stream",
          "name": "stdout",
          "text": [
            "\n",
            "pandas - a powerful data analysis and manipulation library for Python\n",
            "=====================================================================\n",
            "\n",
            "**pandas** is a Python package providing fast, flexible, and expressive data\n",
            "structures designed to make working with \"relational\" or \"labeled\" data both\n",
            "easy and intuitive. It aims to be the fundamental high-level building block for\n",
            "doing practical, **real world** data analysis in Python. Additionally, it has\n",
            "the broader goal of becoming **the most powerful and flexible open source data\n",
            "analysis / manipulation tool available in any language**. It is already well on\n",
            "its way toward this goal.\n",
            "\n",
            "Main Features\n",
            "-------------\n",
            "Here are just a few of the things that pandas does well:\n",
            "\n",
            "  - Easy handling of missing data in floating point as well as non-floating\n",
            "    point data.\n",
            "  - Size mutability: columns can be inserted and deleted from DataFrame and\n",
            "    higher dimensional objects\n",
            "  - Automatic and explicit data alignment: objects can be explicitly aligned\n",
            "    to a set of labels, or the user can simply ignore the labels and let\n",
            "    `Series`, `DataFrame`, etc. automatically align the data for you in\n",
            "    computations.\n",
            "  - Powerful, flexible group by functionality to perform split-apply-combine\n",
            "    operations on data sets, for both aggregating and transforming data.\n",
            "  - Make it easy to convert ragged, differently-indexed data in other Python\n",
            "    and NumPy data structures into DataFrame objects.\n",
            "  - Intelligent label-based slicing, fancy indexing, and subsetting of large\n",
            "    data sets.\n",
            "  - Intuitive merging and joining data sets.\n",
            "  - Flexible reshaping and pivoting of data sets.\n",
            "  - Hierarchical labeling of axes (possible to have multiple labels per tick).\n",
            "  - Robust IO tools for loading data from flat files (CSV and delimited),\n",
            "    Excel files, databases, and saving/loading data from the ultrafast HDF5\n",
            "    format.\n",
            "  - Time series-specific functionality: date range generation and frequency\n",
            "    conversion, moving window statistics, date shifting and lagging.\n",
            "\n"
          ]
        }
      ]
    },
    {
      "cell_type": "code",
      "source": [
        "pd.__version__"
      ],
      "metadata": {
        "colab": {
          "base_uri": "https://localhost:8080/",
          "height": 35
        },
        "id": "a-g-A2T8tO16",
        "outputId": "aca1db05-0f7c-4c3d-cac0-1f23bb3bd1c3"
      },
      "execution_count": null,
      "outputs": [
        {
          "output_type": "execute_result",
          "data": {
            "text/plain": [
              "'1.3.5'"
            ],
            "application/vnd.google.colaboratory.intrinsic+json": {
              "type": "string"
            }
          },
          "metadata": {},
          "execution_count": 54
        }
      ]
    },
    {
      "cell_type": "code",
      "source": [
        "pd.DataFrame"
      ],
      "metadata": {
        "colab": {
          "base_uri": "https://localhost:8080/"
        },
        "id": "JwlotDZmtXil",
        "outputId": "e0c239f7-6edf-4a32-9546-5b344172a45d"
      },
      "execution_count": null,
      "outputs": [
        {
          "output_type": "execute_result",
          "data": {
            "text/plain": [
              "pandas.core.frame.DataFrame"
            ]
          },
          "metadata": {},
          "execution_count": 55
        }
      ]
    },
    {
      "cell_type": "code",
      "source": [
        "pd.DataFrame.__module__"
      ],
      "metadata": {
        "colab": {
          "base_uri": "https://localhost:8080/",
          "height": 35
        },
        "id": "ZGFx0dErtawQ",
        "outputId": "fd25624a-94d8-4303-8ee8-d0eb92ec5d19"
      },
      "execution_count": null,
      "outputs": [
        {
          "output_type": "execute_result",
          "data": {
            "text/plain": [
              "'pandas.core.frame'"
            ],
            "application/vnd.google.colaboratory.intrinsic+json": {
              "type": "string"
            }
          },
          "metadata": {},
          "execution_count": 56
        }
      ]
    },
    {
      "cell_type": "code",
      "source": [
        "pd.DataFrame.__dict__"
      ],
      "metadata": {
        "colab": {
          "base_uri": "https://localhost:8080/"
        },
        "id": "8rBK9nPCtfWR",
        "outputId": "cb9c2f66-5e95-48cc-aa7e-14abb9b34fe5"
      },
      "execution_count": null,
      "outputs": [
        {
          "output_type": "execute_result",
          "data": {
            "text/plain": [
              "mappingproxy({'__module__': 'pandas.core.frame',\n",
              "              '__annotations__': {'_accessors': 'set[str]',\n",
              "               '_hidden_attrs': 'frozenset[str]',\n",
              "               '_mgr': 'BlockManager | ArrayManager',\n",
              "               '_constructor_sliced': 'type[Series]',\n",
              "               '_AXIS_TO_AXIS_NUMBER': 'dict[Axis, int]',\n",
              "               'index': 'Index',\n",
              "               'columns': 'Index'},\n",
              "              '__doc__': '\\n    Two-dimensional, size-mutable, potentially heterogeneous tabular data.\\n\\n    Data structure also contains labeled axes (rows and columns).\\n    Arithmetic operations align on both row and column labels. Can be\\n    thought of as a dict-like container for Series objects. The primary\\n    pandas data structure.\\n\\n    Parameters\\n    ----------\\n    data : ndarray (structured or homogeneous), Iterable, dict, or DataFrame\\n        Dict can contain Series, arrays, constants, dataclass or list-like objects. If\\n        data is a dict, column order follows insertion-order.\\n\\n        .. versionchanged:: 0.25.0\\n           If data is a list of dicts, column order follows insertion-order.\\n\\n    index : Index or array-like\\n        Index to use for resulting frame. Will default to RangeIndex if\\n        no indexing information part of input data and no index provided.\\n    columns : Index or array-like\\n        Column labels to use for resulting frame when data does not have them,\\n        defaulting to RangeIndex(0, 1, 2, ..., n). If data contains column labels,\\n        will perform column selection instead.\\n    dtype : dtype, default None\\n        Data type to force. Only a single dtype is allowed. If None, infer.\\n    copy : bool or None, default None\\n        Copy data from inputs.\\n        For dict data, the default of None behaves like ``copy=True``.  For DataFrame\\n        or 2d ndarray input, the default of None behaves like ``copy=False``.\\n\\n        .. versionchanged:: 1.3.0\\n\\n    See Also\\n    --------\\n    DataFrame.from_records : Constructor from tuples, also record arrays.\\n    DataFrame.from_dict : From dicts of Series, arrays, or dicts.\\n    read_csv : Read a comma-separated values (csv) file into DataFrame.\\n    read_table : Read general delimited file into DataFrame.\\n    read_clipboard : Read text from clipboard into DataFrame.\\n\\n    Examples\\n    --------\\n    Constructing DataFrame from a dictionary.\\n\\n    >>> d = {\\'col1\\': [1, 2], \\'col2\\': [3, 4]}\\n    >>> df = pd.DataFrame(data=d)\\n    >>> df\\n       col1  col2\\n    0     1     3\\n    1     2     4\\n\\n    Notice that the inferred dtype is int64.\\n\\n    >>> df.dtypes\\n    col1    int64\\n    col2    int64\\n    dtype: object\\n\\n    To enforce a single dtype:\\n\\n    >>> df = pd.DataFrame(data=d, dtype=np.int8)\\n    >>> df.dtypes\\n    col1    int8\\n    col2    int8\\n    dtype: object\\n\\n    Constructing DataFrame from numpy ndarray:\\n\\n    >>> df2 = pd.DataFrame(np.array([[1, 2, 3], [4, 5, 6], [7, 8, 9]]),\\n    ...                    columns=[\\'a\\', \\'b\\', \\'c\\'])\\n    >>> df2\\n       a  b  c\\n    0  1  2  3\\n    1  4  5  6\\n    2  7  8  9\\n\\n    Constructing DataFrame from a numpy ndarray that has labeled columns:\\n\\n    >>> data = np.array([(1, 2, 3), (4, 5, 6), (7, 8, 9)],\\n    ...                 dtype=[(\"a\", \"i4\"), (\"b\", \"i4\"), (\"c\", \"i4\")])\\n    >>> df3 = pd.DataFrame(data, columns=[\\'c\\', \\'a\\'])\\n    ...\\n    >>> df3\\n       c  a\\n    0  3  1\\n    1  6  4\\n    2  9  7\\n\\n    Constructing DataFrame from dataclass:\\n\\n    >>> from dataclasses import make_dataclass\\n    >>> Point = make_dataclass(\"Point\", [(\"x\", int), (\"y\", int)])\\n    >>> pd.DataFrame([Point(0, 0), Point(0, 3), Point(2, 3)])\\n       x  y\\n    0  0  0\\n    1  0  3\\n    2  2  3\\n    ',\n",
              "              '_internal_names_set': {'__array_interface__',\n",
              "               '__array_struct__',\n",
              "               '_cache',\n",
              "               '_cacher',\n",
              "               '_default_fill_value',\n",
              "               '_default_kind',\n",
              "               '_flags',\n",
              "               '_index',\n",
              "               '_is_copy',\n",
              "               '_item_cache',\n",
              "               '_metadata',\n",
              "               '_mgr',\n",
              "               '_name',\n",
              "               '_subtyp',\n",
              "               'columns',\n",
              "               'index'},\n",
              "              '_typ': 'dataframe',\n",
              "              '_HANDLED_TYPES': (pandas.core.series.Series,\n",
              "               pandas.core.indexes.base.Index,\n",
              "               pandas.core.arrays.base.ExtensionArray,\n",
              "               numpy.ndarray),\n",
              "              '_accessors': {'sparse'},\n",
              "              '_hidden_attrs': frozenset({'_AXIS_NAMES',\n",
              "                         '_AXIS_NUMBERS',\n",
              "                         'get_values',\n",
              "                         'tshift'}),\n",
              "              '_constructor': <property at 0x7f8d31085e50>,\n",
              "              '_constructor_sliced': pandas.core.series.Series,\n",
              "              '__init__': <function pandas.core.frame.DataFrame.__init__(self, data=None, index: 'Axes | None' = None, columns: 'Axes | None' = None, dtype: 'Dtype | None' = None, copy: 'bool | None' = None)>,\n",
              "              'axes': <property at 0x7f8d31085ea0>,\n",
              "              'shape': <property at 0x7f8d30db5540>,\n",
              "              '_is_homogeneous_type': <property at 0x7f8d30d209a0>,\n",
              "              '_can_fast_transpose': <property at 0x7f8d30d20d10>,\n",
              "              '_values': <property at 0x7f8d30d333b0>,\n",
              "              '_repr_fits_vertical_': <function pandas.core.frame.DataFrame._repr_fits_vertical_(self) -> 'bool'>,\n",
              "              '_repr_fits_horizontal_': <function pandas.core.frame.DataFrame._repr_fits_horizontal_(self, ignore_width: 'bool' = False) -> 'bool'>,\n",
              "              '_info_repr': <function pandas.core.frame.DataFrame._info_repr(self) -> 'bool'>,\n",
              "              '__repr__': <function pandas.core.frame.DataFrame.__repr__(self) -> 'str'>,\n",
              "              '_repr_html_': <function pandas.core.frame.DataFrame._repr_html_(self) -> 'str | None'>,\n",
              "              'to_string': <function pandas.core.frame.DataFrame.to_string(self, buf: 'FilePathOrBuffer[str] | None' = None, columns: 'Sequence[str] | None' = None, col_space: 'int | None' = None, header: 'bool | Sequence[str]' = True, index: 'bool' = True, na_rep: 'str' = 'NaN', formatters: 'fmt.FormattersType | None' = None, float_format: 'fmt.FloatFormatType | None' = None, sparsify: 'bool | None' = None, index_names: 'bool' = True, justify: 'str | None' = None, max_rows: 'int | None' = None, min_rows: 'int | None' = None, max_cols: 'int | None' = None, show_dimensions: 'bool' = False, decimal: 'str' = '.', line_width: 'int | None' = None, max_colwidth: 'int | None' = None, encoding: 'str | None' = None) -> 'str | None'>,\n",
              "              'style': <property at 0x7f8d30d33720>,\n",
              "              'items': <function pandas.core.frame.DataFrame.items(self) -> 'Iterable[tuple[Hashable, Series]]'>,\n",
              "              'iteritems': <function pandas.core.frame.DataFrame.iteritems(self) -> 'Iterable[tuple[Hashable, Series]]'>,\n",
              "              'iterrows': <function pandas.core.frame.DataFrame.iterrows(self) -> 'Iterable[tuple[Hashable, Series]]'>,\n",
              "              'itertuples': <function pandas.core.frame.DataFrame.itertuples(self, index: 'bool' = True, name: 'str | None' = 'Pandas') -> 'Iterable[tuple[Any, ...]]'>,\n",
              "              '__len__': <function pandas.core.frame.DataFrame.__len__(self) -> 'int'>,\n",
              "              'dot': <function pandas.core.frame.DataFrame.dot(self, other: 'AnyArrayLike | FrameOrSeriesUnion') -> 'FrameOrSeriesUnion'>,\n",
              "              '__matmul__': <function pandas.core.frame.DataFrame.__matmul__(self, other: 'AnyArrayLike | FrameOrSeriesUnion') -> 'FrameOrSeriesUnion'>,\n",
              "              '__rmatmul__': <function pandas.core.frame.DataFrame.__rmatmul__(self, other)>,\n",
              "              'from_dict': <classmethod at 0x7f8d310881f0>,\n",
              "              'to_numpy': <function pandas.core.frame.DataFrame.to_numpy(self, dtype: 'NpDtype | None' = None, copy: 'bool' = False, na_value=<no_default>) -> 'np.ndarray'>,\n",
              "              'to_dict': <function pandas.core.frame.DataFrame.to_dict(self, orient: 'str' = 'dict', into=<class 'dict'>)>,\n",
              "              'to_gbq': <function pandas.core.frame.DataFrame.to_gbq(self, destination_table: 'str', project_id: 'str | None' = None, chunksize: 'int | None' = None, reauth: 'bool' = False, if_exists: 'str' = 'fail', auth_local_webserver: 'bool' = False, table_schema: 'list[dict[str, str]] | None' = None, location: 'str | None' = None, progress_bar: 'bool' = True, credentials=None) -> 'None'>,\n",
              "              'from_records': <classmethod at 0x7f8d310882b0>,\n",
              "              'to_records': <function pandas.core.frame.DataFrame.to_records(self, index=True, column_dtypes=None, index_dtypes=None) -> 'np.recarray'>,\n",
              "              '_from_arrays': <classmethod at 0x7f8d31088220>,\n",
              "              'to_stata': <function pandas.core.frame.DataFrame.to_stata(self, path: 'FilePathOrBuffer', convert_dates: 'dict[Hashable, str] | None' = None, write_index: 'bool' = True, byteorder: 'str | None' = None, time_stamp: 'datetime.datetime | None' = None, data_label: 'str | None' = None, variable_labels: 'dict[Hashable, str] | None' = None, version: 'int | None' = 114, convert_strl: 'Sequence[Hashable] | None' = None, compression: 'CompressionOptions' = 'infer', storage_options: 'StorageOptions' = None) -> 'None'>,\n",
              "              'to_feather': <function pandas.core.frame.DataFrame.to_feather(self, path: 'FilePathOrBuffer[AnyStr]', **kwargs) -> 'None'>,\n",
              "              'to_markdown': <function pandas.core.frame.DataFrame.to_markdown(self, buf: 'IO[str] | str | None' = None, mode: 'str' = 'wt', index: 'bool' = True, storage_options: 'StorageOptions' = None, **kwargs) -> 'str | None'>,\n",
              "              'to_parquet': <function pandas.core.frame.DataFrame.to_parquet(self, path: 'FilePathOrBuffer | None' = None, engine: 'str' = 'auto', compression: 'str | None' = 'snappy', index: 'bool | None' = None, partition_cols: 'list[str] | None' = None, storage_options: 'StorageOptions' = None, **kwargs) -> 'bytes | None'>,\n",
              "              'to_html': <function pandas.core.frame.DataFrame.to_html(self, buf: 'FilePathOrBuffer[str] | None' = None, columns: 'Sequence[str] | None' = None, col_space: 'ColspaceArgType | None' = None, header: 'bool | Sequence[str]' = True, index: 'bool' = True, na_rep: 'str' = 'NaN', formatters: 'FormattersType | None' = None, float_format: 'FloatFormatType | None' = None, sparsify: 'bool | None' = None, index_names: 'bool' = True, justify: 'str | None' = None, max_rows: 'int | None' = None, max_cols: 'int | None' = None, show_dimensions: 'bool | str' = False, decimal: 'str' = '.', bold_rows: 'bool' = True, classes: 'str | list | tuple | None' = None, escape: 'bool' = True, notebook: 'bool' = False, border: 'int | None' = None, table_id: 'str | None' = None, render_links: 'bool' = False, encoding: 'str | None' = None)>,\n",
              "              'to_xml': <function pandas.core.frame.DataFrame.to_xml(self, path_or_buffer: 'FilePathOrBuffer | None' = None, index: 'bool' = True, root_name: 'str | None' = 'data', row_name: 'str | None' = 'row', na_rep: 'str | None' = None, attr_cols: 'str | list[str] | None' = None, elem_cols: 'str | list[str] | None' = None, namespaces: 'dict[str | None, str] | None' = None, prefix: 'str | None' = None, encoding: 'str' = 'utf-8', xml_declaration: 'bool | None' = True, pretty_print: 'bool | None' = True, parser: 'str | None' = 'lxml', stylesheet: 'FilePathOrBuffer | None' = None, compression: 'CompressionOptions' = 'infer', storage_options: 'StorageOptions' = None) -> 'str | None'>,\n",
              "              'info': <function pandas.core.frame.DataFrame.info(self, verbose: 'bool | None' = None, buf: 'IO[str] | None' = None, max_cols: 'int | None' = None, memory_usage: 'bool | str | None' = None, show_counts: 'bool | None' = None, null_counts: 'bool | None' = None) -> 'None'>,\n",
              "              'memory_usage': <function pandas.core.frame.DataFrame.memory_usage(self, index: 'bool' = True, deep: 'bool' = False) -> 'Series'>,\n",
              "              'transpose': <function pandas.core.frame.DataFrame.transpose(self, *args, copy: 'bool' = False) -> 'DataFrame'>,\n",
              "              'T': <property at 0x7f8d30d33ae0>,\n",
              "              '_ixs': <function pandas.core.frame.DataFrame._ixs(self, i: 'int', axis: 'int' = 0)>,\n",
              "              '_get_column_array': <function pandas.core.frame.DataFrame._get_column_array(self, i: 'int') -> 'ArrayLike'>,\n",
              "              '_iter_column_arrays': <function pandas.core.frame.DataFrame._iter_column_arrays(self) -> 'Iterator[ArrayLike]'>,\n",
              "              '__getitem__': <function pandas.core.frame.DataFrame.__getitem__(self, key)>,\n",
              "              '_getitem_bool_array': <function pandas.core.frame.DataFrame._getitem_bool_array(self, key)>,\n",
              "              '_getitem_multilevel': <function pandas.core.frame.DataFrame._getitem_multilevel(self, key)>,\n",
              "              '_get_value': <function pandas.core.frame.DataFrame._get_value(self, index, col, takeable: 'bool' = False) -> 'Scalar'>,\n",
              "              '__setitem__': <function pandas.core.frame.DataFrame.__setitem__(self, key, value)>,\n",
              "              '_setitem_slice': <function pandas.core.frame.DataFrame._setitem_slice(self, key: 'slice', value)>,\n",
              "              '_setitem_array': <function pandas.core.frame.DataFrame._setitem_array(self, key, value)>,\n",
              "              '_iset_not_inplace': <function pandas.core.frame.DataFrame._iset_not_inplace(self, key, value)>,\n",
              "              '_setitem_frame': <function pandas.core.frame.DataFrame._setitem_frame(self, key, value)>,\n",
              "              '_set_item_frame_value': <function pandas.core.frame.DataFrame._set_item_frame_value(self, key, value: 'DataFrame') -> 'None'>,\n",
              "              '_iset_item_mgr': <function pandas.core.frame.DataFrame._iset_item_mgr(self, loc: 'int | slice | np.ndarray', value) -> 'None'>,\n",
              "              '_set_item_mgr': <function pandas.core.frame.DataFrame._set_item_mgr(self, key, value: 'ArrayLike') -> 'None'>,\n",
              "              '_iset_item': <function pandas.core.frame.DataFrame._iset_item(self, loc: 'int', value) -> 'None'>,\n",
              "              '_set_item': <function pandas.core.frame.DataFrame._set_item(self, key, value) -> 'None'>,\n",
              "              '_set_value': <function pandas.core.frame.DataFrame._set_value(self, index: 'IndexLabel', col, value: 'Scalar', takeable: 'bool' = False) -> 'None'>,\n",
              "              '_ensure_valid_index': <function pandas.core.frame.DataFrame._ensure_valid_index(self, value) -> 'None'>,\n",
              "              '_box_col_values': <function pandas.core.frame.DataFrame._box_col_values(self, values, loc: 'int') -> 'Series'>,\n",
              "              '_clear_item_cache': <function pandas.core.frame.DataFrame._clear_item_cache(self) -> 'None'>,\n",
              "              '_get_item_cache': <function pandas.core.frame.DataFrame._get_item_cache(self, item: 'Hashable') -> 'Series'>,\n",
              "              '_reset_cacher': <function pandas.core.frame.DataFrame._reset_cacher(self) -> 'None'>,\n",
              "              '_maybe_cache_changed': <function pandas.core.frame.DataFrame._maybe_cache_changed(self, item, value: 'Series') -> 'None'>,\n",
              "              'query': <function pandas.core.frame.DataFrame.query(self, expr: 'str', inplace: 'bool' = False, **kwargs)>,\n",
              "              'eval': <function pandas.core.frame.DataFrame.eval(self, expr: 'str', inplace: 'bool' = False, **kwargs)>,\n",
              "              'select_dtypes': <function pandas.core.frame.DataFrame.select_dtypes(self, include=None, exclude=None) -> 'DataFrame'>,\n",
              "              'insert': <function pandas.core.frame.DataFrame.insert(self, loc, column, value, allow_duplicates: 'bool' = False) -> 'None'>,\n",
              "              'assign': <function pandas.core.frame.DataFrame.assign(self, **kwargs) -> 'DataFrame'>,\n",
              "              '_sanitize_column': <function pandas.core.frame.DataFrame._sanitize_column(self, value) -> 'ArrayLike'>,\n",
              "              '_series': <property at 0x7f8d30d3bf40>,\n",
              "              'lookup': <function pandas.core.frame.DataFrame.lookup(self, row_labels: 'Sequence[IndexLabel]', col_labels: 'Sequence[IndexLabel]') -> 'np.ndarray'>,\n",
              "              '_reindex_axes': <function pandas.core.frame.DataFrame._reindex_axes(self, axes, level, limit, tolerance, method, fill_value, copy)>,\n",
              "              '_reindex_index': <function pandas.core.frame.DataFrame._reindex_index(self, new_index, method, copy: 'bool', level: 'Level', fill_value=nan, limit=None, tolerance=None)>,\n",
              "              '_reindex_columns': <function pandas.core.frame.DataFrame._reindex_columns(self, new_columns, method, copy: 'bool', level: 'Level', fill_value=None, limit=None, tolerance=None)>,\n",
              "              '_reindex_multi': <function pandas.core.frame.DataFrame._reindex_multi(self, axes, copy: 'bool', fill_value) -> 'DataFrame'>,\n",
              "              'align': <function pandas.core.frame.DataFrame.align(self, other, join: 'str' = 'outer', axis: 'Axis | None' = None, level: 'Level | None' = None, copy: 'bool' = True, fill_value=None, method: 'str | None' = None, limit=None, fill_axis: 'Axis' = 0, broadcast_axis: 'Axis | None' = None) -> 'DataFrame'>,\n",
              "              'set_axis': <function pandas.core.frame.DataFrame.set_axis(self, labels, axis: 'Axis' = 0, inplace: 'bool' = False)>,\n",
              "              'reindex': <function pandas.core.frame.DataFrame.reindex(self, labels=None, index=None, columns=None, axis=None, method=None, copy=True, level=None, fill_value=nan, limit=None, tolerance=None)>,\n",
              "              'drop': <function pandas.core.frame.DataFrame.drop(self, labels=None, axis: 'Axis' = 0, index=None, columns=None, level: 'Level | None' = None, inplace: 'bool' = False, errors: 'str' = 'raise')>,\n",
              "              'rename': <function pandas.core.frame.DataFrame.rename(self, mapper=None, index=None, columns=None, axis=None, copy=True, inplace=False, level=None, errors='ignore')>,\n",
              "              'fillna': <function pandas.core.frame.DataFrame.fillna(self, value: 'object | ArrayLike | None' = None, method: 'FillnaOptions | None' = None, axis: 'Axis | None' = None, inplace: 'bool' = False, limit=None, downcast=None) -> 'DataFrame | None'>,\n",
              "              'pop': <function pandas.core.frame.DataFrame.pop(self, item: 'Hashable') -> 'Series'>,\n",
              "              'replace': <function pandas.core.frame.DataFrame.replace(self, to_replace=None, value=None, inplace: 'bool' = False, limit=None, regex: 'bool' = False, method: 'str' = 'pad')>,\n",
              "              '_replace_columnwise': <function pandas.core.frame.DataFrame._replace_columnwise(self, mapping: 'dict[Hashable, tuple[Any, Any]]', inplace: 'bool', regex)>,\n",
              "              'shift': <function pandas.core.frame.DataFrame.shift(self, periods=1, freq: 'Frequency | None' = None, axis: 'Axis' = 0, fill_value=<no_default>) -> 'DataFrame'>,\n",
              "              'set_index': <function pandas.core.frame.DataFrame.set_index(self, keys, drop: 'bool' = True, append: 'bool' = False, inplace: 'bool' = False, verify_integrity: 'bool' = False)>,\n",
              "              'reset_index': <function pandas.core.frame.DataFrame.reset_index(self, level: 'Hashable | Sequence[Hashable] | None' = None, drop: 'bool' = False, inplace: 'bool' = False, col_level: 'Hashable' = 0, col_fill: 'Hashable' = '') -> 'DataFrame | None'>,\n",
              "              'isna': <function pandas.core.frame.DataFrame.isna(self) -> 'DataFrame'>,\n",
              "              'isnull': <function pandas.core.frame.DataFrame.isnull(self) -> 'DataFrame'>,\n",
              "              'notna': <function pandas.core.frame.DataFrame.notna(self) -> 'DataFrame'>,\n",
              "              'notnull': <function pandas.core.frame.DataFrame.notnull(self) -> 'DataFrame'>,\n",
              "              'dropna': <function pandas.core.frame.DataFrame.dropna(self, axis: 'Axis' = 0, how: 'str' = 'any', thresh=None, subset=None, inplace: 'bool' = False)>,\n",
              "              'drop_duplicates': <function pandas.core.frame.DataFrame.drop_duplicates(self, subset: 'Hashable | Sequence[Hashable] | None' = None, keep: \"Literal['first'] | Literal['last'] | Literal[False]\" = 'first', inplace: 'bool' = False, ignore_index: 'bool' = False) -> 'DataFrame | None'>,\n",
              "              'duplicated': <function pandas.core.frame.DataFrame.duplicated(self, subset: 'Hashable | Sequence[Hashable] | None' = None, keep: \"Literal['first'] | Literal['last'] | Literal[False]\" = 'first') -> 'Series'>,\n",
              "              'sort_values': <function pandas.core.frame.DataFrame.sort_values(self, by, axis: 'Axis' = 0, ascending=True, inplace: 'bool' = False, kind: 'str' = 'quicksort', na_position: 'str' = 'last', ignore_index: 'bool' = False, key: 'ValueKeyFunc' = None)>,\n",
              "              'sort_index': <function pandas.core.frame.DataFrame.sort_index(self, axis: 'Axis' = 0, level: 'Level | None' = None, ascending: 'bool | int | Sequence[bool | int]' = True, inplace: 'bool' = False, kind: 'str' = 'quicksort', na_position: 'str' = 'last', sort_remaining: 'bool' = True, ignore_index: 'bool' = False, key: 'IndexKeyFunc' = None)>,\n",
              "              'value_counts': <function pandas.core.frame.DataFrame.value_counts(self, subset: 'Sequence[Hashable] | None' = None, normalize: 'bool' = False, sort: 'bool' = True, ascending: 'bool' = False, dropna: 'bool' = True)>,\n",
              "              'nlargest': <function pandas.core.frame.DataFrame.nlargest(self, n, columns, keep: 'str' = 'first') -> 'DataFrame'>,\n",
              "              'nsmallest': <function pandas.core.frame.DataFrame.nsmallest(self, n, columns, keep: 'str' = 'first') -> 'DataFrame'>,\n",
              "              'swaplevel': <function pandas.core.frame.DataFrame.swaplevel(self, i: 'Axis' = -2, j: 'Axis' = -1, axis: 'Axis' = 0) -> 'DataFrame'>,\n",
              "              'reorder_levels': <function pandas.core.frame.DataFrame.reorder_levels(self, order: 'Sequence[Axis]', axis: 'Axis' = 0) -> 'DataFrame'>,\n",
              "              '_cmp_method': <function pandas.core.frame.DataFrame._cmp_method(self, other, op)>,\n",
              "              '_arith_method': <function pandas.core.frame.DataFrame._arith_method(self, other, op)>,\n",
              "              '_logical_method': <function pandas.core.frame.DataFrame._arith_method(self, other, op)>,\n",
              "              '_dispatch_frame_op': <function pandas.core.frame.DataFrame._dispatch_frame_op(self, right, func: 'Callable', axis: 'int | None' = None)>,\n",
              "              '_combine_frame': <function pandas.core.frame.DataFrame._combine_frame(self, other: 'DataFrame', func, fill_value=None)>,\n",
              "              '_construct_result': <function pandas.core.frame.DataFrame._construct_result(self, result) -> 'DataFrame'>,\n",
              "              '__divmod__': <function pandas.core.frame.DataFrame.__divmod__(self, other) -> 'tuple[DataFrame, DataFrame]'>,\n",
              "              '__rdivmod__': <function pandas.core.frame.DataFrame.__rdivmod__(self, other) -> 'tuple[DataFrame, DataFrame]'>,\n",
              "              'compare': <function pandas.core.frame.DataFrame.compare(self, other: 'DataFrame', align_axis: 'Axis' = 1, keep_shape: 'bool' = False, keep_equal: 'bool' = False) -> 'DataFrame'>,\n",
              "              'combine': <function pandas.core.frame.DataFrame.combine(self, other: 'DataFrame', func, fill_value=None, overwrite: 'bool' = True) -> 'DataFrame'>,\n",
              "              'combine_first': <function pandas.core.frame.DataFrame.combine_first(self, other: 'DataFrame') -> 'DataFrame'>,\n",
              "              'update': <function pandas.core.frame.DataFrame.update(self, other, join: 'str' = 'left', overwrite: 'bool' = True, filter_func=None, errors: 'str' = 'ignore') -> 'None'>,\n",
              "              'groupby': <function pandas.core.frame.DataFrame.groupby(self, by=None, axis: 'Axis' = 0, level: 'Level | None' = None, as_index: 'bool' = True, sort: 'bool' = True, group_keys: 'bool' = True, squeeze: 'bool | lib.NoDefault' = <no_default>, observed: 'bool' = False, dropna: 'bool' = True) -> 'DataFrameGroupBy'>,\n",
              "              'pivot': <function pandas.core.frame.DataFrame.pivot(self, index=None, columns=None, values=None) -> 'DataFrame'>,\n",
              "              'pivot_table': <function pandas.core.frame.DataFrame.pivot_table(self, values=None, index=None, columns=None, aggfunc='mean', fill_value=None, margins=False, dropna=True, margins_name='All', observed=False, sort=True) -> 'DataFrame'>,\n",
              "              'stack': <function pandas.core.frame.DataFrame.stack(self, level: 'Level' = -1, dropna: 'bool' = True)>,\n",
              "              'explode': <function pandas.core.frame.DataFrame.explode(self, column: 'IndexLabel', ignore_index: 'bool' = False) -> 'DataFrame'>,\n",
              "              'unstack': <function pandas.core.frame.DataFrame.unstack(self, level: 'Level' = -1, fill_value=None)>,\n",
              "              'melt': <function pandas.core.frame.DataFrame.melt(self, id_vars=None, value_vars=None, var_name=None, value_name='value', col_level: 'Level | None' = None, ignore_index: 'bool' = True) -> 'DataFrame'>,\n",
              "              'diff': <function pandas.core.frame.DataFrame.diff(self, periods: 'int' = 1, axis: 'Axis' = 0) -> 'DataFrame'>,\n",
              "              '_gotitem': <function pandas.core.frame.DataFrame._gotitem(self, key: 'IndexLabel', ndim: 'int', subset: 'FrameOrSeriesUnion | None' = None) -> 'FrameOrSeriesUnion'>,\n",
              "              '_agg_summary_and_see_also_doc': '\\nThe aggregation operations are always performed over an axis, either the\\nindex (default) or the column axis. This behavior is different from\\n`numpy` aggregation functions (`mean`, `median`, `prod`, `sum`, `std`,\\n`var`), where the default is to compute the aggregation of the flattened\\narray, e.g., ``numpy.mean(arr_2d)`` as opposed to\\n``numpy.mean(arr_2d, axis=0)``.\\n\\n`agg` is an alias for `aggregate`. Use the alias.\\n\\nSee Also\\n--------\\nDataFrame.apply : Perform any type of operations.\\nDataFrame.transform : Perform transformation type operations.\\ncore.groupby.GroupBy : Perform operations over groups.\\ncore.resample.Resampler : Perform operations over resampled bins.\\ncore.window.Rolling : Perform operations over rolling window.\\ncore.window.Expanding : Perform operations over expanding window.\\ncore.window.ExponentialMovingWindow : Perform operation over exponential weighted\\n    window.\\n',\n",
              "              '_agg_examples_doc': '\\nExamples\\n--------\\n>>> df = pd.DataFrame([[1, 2, 3],\\n...                    [4, 5, 6],\\n...                    [7, 8, 9],\\n...                    [np.nan, np.nan, np.nan]],\\n...                   columns=[\\'A\\', \\'B\\', \\'C\\'])\\n\\nAggregate these functions over the rows.\\n\\n>>> df.agg([\\'sum\\', \\'min\\'])\\n        A     B     C\\nsum  12.0  15.0  18.0\\nmin   1.0   2.0   3.0\\n\\nDifferent aggregations per column.\\n\\n>>> df.agg({\\'A\\' : [\\'sum\\', \\'min\\'], \\'B\\' : [\\'min\\', \\'max\\']})\\n        A    B\\nsum  12.0  NaN\\nmin   1.0  2.0\\nmax   NaN  8.0\\n\\nAggregate different functions over the columns and rename the index of the resulting\\nDataFrame.\\n\\n>>> df.agg(x=(\\'A\\', max), y=(\\'B\\', \\'min\\'), z=(\\'C\\', np.mean))\\n     A    B    C\\nx  7.0  NaN  NaN\\ny  NaN  2.0  NaN\\nz  NaN  NaN  6.0\\n\\nAggregate over the columns.\\n\\n>>> df.agg(\"mean\", axis=\"columns\")\\n0    2.0\\n1    5.0\\n2    8.0\\n3    NaN\\ndtype: float64\\n',\n",
              "              'aggregate': <function pandas.core.frame.DataFrame.aggregate(self, func=None, axis: 'Axis' = 0, *args, **kwargs)>,\n",
              "              'agg': <function pandas.core.frame.DataFrame.aggregate(self, func=None, axis: 'Axis' = 0, *args, **kwargs)>,\n",
              "              'transform': <function pandas.core.frame.DataFrame.transform(self, func: 'AggFuncType', axis: 'Axis' = 0, *args, **kwargs) -> 'DataFrame'>,\n",
              "              'apply': <function pandas.core.frame.DataFrame.apply(self, func: 'AggFuncType', axis: 'Axis' = 0, raw: 'bool' = False, result_type=None, args=(), **kwargs)>,\n",
              "              'applymap': <function pandas.core.frame.DataFrame.applymap(self, func: 'PythonFuncType', na_action: 'str | None' = None, **kwargs) -> 'DataFrame'>,\n",
              "              'append': <function pandas.core.frame.DataFrame.append(self, other, ignore_index: 'bool' = False, verify_integrity: 'bool' = False, sort: 'bool' = False) -> 'DataFrame'>,\n",
              "              'join': <function pandas.core.frame.DataFrame.join(self, other: 'FrameOrSeriesUnion', on: 'IndexLabel | None' = None, how: 'str' = 'left', lsuffix: 'str' = '', rsuffix: 'str' = '', sort: 'bool' = False) -> 'DataFrame'>,\n",
              "              '_join_compat': <function pandas.core.frame.DataFrame._join_compat(self, other: 'FrameOrSeriesUnion', on: 'IndexLabel | None' = None, how: 'str' = 'left', lsuffix: 'str' = '', rsuffix: 'str' = '', sort: 'bool' = False)>,\n",
              "              'merge': <function pandas.core.frame.DataFrame.merge(self, right: 'FrameOrSeriesUnion', how: 'str' = 'inner', on: 'IndexLabel | None' = None, left_on: 'IndexLabel | None' = None, right_on: 'IndexLabel | None' = None, left_index: 'bool' = False, right_index: 'bool' = False, sort: 'bool' = False, suffixes: 'Suffixes' = ('_x', '_y'), copy: 'bool' = True, indicator: 'bool' = False, validate: 'str | None' = None) -> 'DataFrame'>,\n",
              "              'round': <function pandas.core.frame.DataFrame.round(self, decimals: 'int | dict[IndexLabel, int] | Series' = 0, *args, **kwargs) -> 'DataFrame'>,\n",
              "              'corr': <function pandas.core.frame.DataFrame.corr(self, method: 'str | Callable[[np.ndarray, np.ndarray], float]' = 'pearson', min_periods: 'int' = 1) -> 'DataFrame'>,\n",
              "              'cov': <function pandas.core.frame.DataFrame.cov(self, min_periods: 'int | None' = None, ddof: 'int | None' = 1) -> 'DataFrame'>,\n",
              "              'corrwith': <function pandas.core.frame.DataFrame.corrwith(self, other, axis: 'Axis' = 0, drop=False, method='pearson') -> 'Series'>,\n",
              "              'count': <function pandas.core.frame.DataFrame.count(self, axis: 'Axis' = 0, level: 'Level | None' = None, numeric_only: 'bool' = False)>,\n",
              "              '_count_level': <function pandas.core.frame.DataFrame._count_level(self, level: 'Level', axis: 'int' = 0, numeric_only: 'bool' = False)>,\n",
              "              '_reduce': <function pandas.core.frame.DataFrame._reduce(self, op, name: 'str', *, axis: 'Axis' = 0, skipna: 'bool' = True, numeric_only: 'bool | None' = None, filter_type=None, **kwds)>,\n",
              "              'nunique': <function pandas.core.frame.DataFrame.nunique(self, axis: 'Axis' = 0, dropna: 'bool' = True) -> 'Series'>,\n",
              "              'idxmin': <function pandas.core.frame.DataFrame.idxmin(self, axis: 'Axis' = 0, skipna: 'bool' = True) -> 'Series'>,\n",
              "              'idxmax': <function pandas.core.frame.DataFrame.idxmax(self, axis: 'Axis' = 0, skipna: 'bool' = True) -> 'Series'>,\n",
              "              '_get_agg_axis': <function pandas.core.frame.DataFrame._get_agg_axis(self, axis_num: 'int') -> 'Index'>,\n",
              "              'mode': <function pandas.core.frame.DataFrame.mode(self, axis: 'Axis' = 0, numeric_only: 'bool' = False, dropna: 'bool' = True) -> 'DataFrame'>,\n",
              "              'quantile': <function pandas.core.frame.DataFrame.quantile(self, q=0.5, axis: 'Axis' = 0, numeric_only: 'bool' = True, interpolation: 'str' = 'linear')>,\n",
              "              'asfreq': <function pandas.core.frame.DataFrame.asfreq(self, freq: 'Frequency', method=None, how: 'str | None' = None, normalize: 'bool' = False, fill_value=None) -> 'DataFrame'>,\n",
              "              'resample': <function pandas.core.frame.DataFrame.resample(self, rule, axis=0, closed: 'str | None' = None, label: 'str | None' = None, convention: 'str' = 'start', kind: 'str | None' = None, loffset=None, base: 'int | None' = None, on=None, level=None, origin: 'str | TimestampConvertibleTypes' = 'start_day', offset: 'TimedeltaConvertibleTypes | None' = None) -> 'Resampler'>,\n",
              "              'to_timestamp': <function pandas.core.frame.DataFrame.to_timestamp(self, freq: 'Frequency | None' = None, how: 'str' = 'start', axis: 'Axis' = 0, copy: 'bool' = True) -> 'DataFrame'>,\n",
              "              'to_period': <function pandas.core.frame.DataFrame.to_period(self, freq: 'Frequency | None' = None, axis: 'Axis' = 0, copy: 'bool' = True) -> 'DataFrame'>,\n",
              "              'isin': <function pandas.core.frame.DataFrame.isin(self, values) -> 'DataFrame'>,\n",
              "              '_AXIS_ORDERS': ['index', 'columns'],\n",
              "              '_AXIS_TO_AXIS_NUMBER': {0: 0,\n",
              "               'index': 0,\n",
              "               'rows': 0,\n",
              "               1: 1,\n",
              "               'columns': 1},\n",
              "              '_AXIS_REVERSED': True,\n",
              "              '_AXIS_LEN': 2,\n",
              "              '_info_axis_number': 1,\n",
              "              '_info_axis_name': 'columns',\n",
              "              'index': <pandas._libs.properties.AxisProperty at 0x7f8d30d41880>,\n",
              "              'columns': <pandas._libs.properties.AxisProperty at 0x7f8d30d41eb0>,\n",
              "              '_AXIS_NUMBERS': <property at 0x7f8d30d3bea0>,\n",
              "              '_AXIS_NAMES': <property at 0x7f8d30cd1270>,\n",
              "              'plot': <pandas.core.accessor.CachedAccessor at 0x7f8d30cd6070>,\n",
              "              'hist': <function pandas.plotting._core.hist_frame(data: 'DataFrame', column: 'IndexLabel' = None, by=None, grid: 'bool' = True, xlabelsize: 'int | None' = None, xrot: 'float | None' = None, ylabelsize: 'int | None' = None, yrot: 'float | None' = None, ax=None, sharex: 'bool' = False, sharey: 'bool' = False, figsize: 'tuple[int, int] | None' = None, layout: 'tuple[int, int] | None' = None, bins: 'int | Sequence[int]' = 10, backend: 'str | None' = None, legend: 'bool' = False, **kwargs)>,\n",
              "              'boxplot': <function pandas.plotting._core.boxplot_frame(self, column=None, by=None, ax=None, fontsize=None, rot=0, grid=True, figsize=None, layout=None, return_type=None, backend=None, **kwargs)>,\n",
              "              'sparse': <pandas.core.accessor.CachedAccessor at 0x7f8d30cd6130>,\n",
              "              '_to_dict_of_blocks': <function pandas.core.frame.DataFrame._to_dict_of_blocks(self, copy: 'bool' = True)>,\n",
              "              'values': <property at 0x7f8d30cd12c0>,\n",
              "              'ffill': <function pandas.core.frame.DataFrame.ffill(self: 'DataFrame', axis: 'None | Axis' = None, inplace: 'bool' = False, limit: 'None | int' = None, downcast=None) -> 'DataFrame | None'>,\n",
              "              'bfill': <function pandas.core.frame.DataFrame.bfill(self: 'DataFrame', axis: 'None | Axis' = None, inplace: 'bool' = False, limit: 'None | int' = None, downcast=None) -> 'DataFrame | None'>,\n",
              "              'clip': <function pandas.core.frame.DataFrame.clip(self: 'DataFrame', lower=None, upper=None, axis: 'Axis | None' = None, inplace: 'bool' = False, *args, **kwargs) -> 'DataFrame | None'>,\n",
              "              'interpolate': <function pandas.core.frame.DataFrame.interpolate(self: 'DataFrame', method: 'str' = 'linear', axis: 'Axis' = 0, limit: 'int | None' = None, inplace: 'bool' = False, limit_direction: 'str | None' = None, limit_area: 'str | None' = None, downcast: 'str | None' = None, **kwargs) -> 'DataFrame | None'>,\n",
              "              'where': <function pandas.core.frame.DataFrame.where(self, cond, other=nan, inplace=False, axis=None, level=None, errors='raise', try_cast=<no_default>)>,\n",
              "              'mask': <function pandas.core.frame.DataFrame.mask(self, cond, other=nan, inplace=False, axis=None, level=None, errors='raise', try_cast=<no_default>)>,\n",
              "              'any': <function pandas.core.generic.NDFrame._add_numeric_operations.<locals>.any(self, axis=0, bool_only=None, skipna=True, level=None, **kwargs)>,\n",
              "              'all': <function pandas.core.generic.NDFrame._add_numeric_operations.<locals>.all(self, axis=0, bool_only=None, skipna=True, level=None, **kwargs)>,\n",
              "              'mad': <function pandas.core.generic.NDFrame._add_numeric_operations.<locals>.mad(self, axis=None, skipna=None, level=None)>,\n",
              "              'sem': <function pandas.core.generic.NDFrame._add_numeric_operations.<locals>.sem(self, axis=None, skipna=None, level=None, ddof=1, numeric_only=None, **kwargs)>,\n",
              "              'var': <function pandas.core.generic.NDFrame._add_numeric_operations.<locals>.var(self, axis=None, skipna=None, level=None, ddof=1, numeric_only=None, **kwargs)>,\n",
              "              'std': <function pandas.core.generic.NDFrame._add_numeric_operations.<locals>.std(self, axis=None, skipna=None, level=None, ddof=1, numeric_only=None, **kwargs)>,\n",
              "              'cummin': <function pandas.core.generic.NDFrame._add_numeric_operations.<locals>.cummin(self, axis=None, skipna=True, *args, **kwargs)>,\n",
              "              'cummax': <function pandas.core.generic.NDFrame._add_numeric_operations.<locals>.cummax(self, axis=None, skipna=True, *args, **kwargs)>,\n",
              "              'cumsum': <function pandas.core.generic.NDFrame._add_numeric_operations.<locals>.cumsum(self, axis=None, skipna=True, *args, **kwargs)>,\n",
              "              'cumprod': <function pandas.core.generic.NDFrame._add_numeric_operations.<locals>.cumprod(self, axis=None, skipna=True, *args, **kwargs)>,\n",
              "              'sum': <function pandas.core.generic.NDFrame._add_numeric_operations.<locals>.sum(self, axis=None, skipna=None, level=None, numeric_only=None, min_count=0, **kwargs)>,\n",
              "              'prod': <function pandas.core.generic.NDFrame._add_numeric_operations.<locals>.prod(self, axis=None, skipna=None, level=None, numeric_only=None, min_count=0, **kwargs)>,\n",
              "              'product': <function pandas.core.generic.NDFrame._add_numeric_operations.<locals>.prod(self, axis=None, skipna=None, level=None, numeric_only=None, min_count=0, **kwargs)>,\n",
              "              'mean': <function pandas.core.generic.NDFrame._add_numeric_operations.<locals>.mean(self, axis=None, skipna=None, level=None, numeric_only=None, **kwargs)>,\n",
              "              'skew': <function pandas.core.generic.NDFrame._add_numeric_operations.<locals>.skew(self, axis=None, skipna=None, level=None, numeric_only=None, **kwargs)>,\n",
              "              'kurt': <function pandas.core.generic.NDFrame._add_numeric_operations.<locals>.kurt(self, axis=None, skipna=None, level=None, numeric_only=None, **kwargs)>,\n",
              "              'kurtosis': <function pandas.core.generic.NDFrame._add_numeric_operations.<locals>.kurt(self, axis=None, skipna=None, level=None, numeric_only=None, **kwargs)>,\n",
              "              'median': <function pandas.core.generic.NDFrame._add_numeric_operations.<locals>.median(self, axis=None, skipna=None, level=None, numeric_only=None, **kwargs)>,\n",
              "              'max': <function pandas.core.generic.NDFrame._add_numeric_operations.<locals>.max(self, axis=None, skipna=None, level=None, numeric_only=None, **kwargs)>,\n",
              "              'min': <function pandas.core.generic.NDFrame._add_numeric_operations.<locals>.min(self, axis=None, skipna=None, level=None, numeric_only=None, **kwargs)>,\n",
              "              'add': <function pandas.core.ops.flex_arith_method_FRAME.<locals>.f(self, other, axis='columns', level=None, fill_value=None)>,\n",
              "              'radd': <function pandas.core.ops.flex_arith_method_FRAME.<locals>.f(self, other, axis='columns', level=None, fill_value=None)>,\n",
              "              'sub': <function pandas.core.ops.flex_arith_method_FRAME.<locals>.f(self, other, axis='columns', level=None, fill_value=None)>,\n",
              "              'mul': <function pandas.core.ops.flex_arith_method_FRAME.<locals>.f(self, other, axis='columns', level=None, fill_value=None)>,\n",
              "              'truediv': <function pandas.core.ops.flex_arith_method_FRAME.<locals>.f(self, other, axis='columns', level=None, fill_value=None)>,\n",
              "              'floordiv': <function pandas.core.ops.flex_arith_method_FRAME.<locals>.f(self, other, axis='columns', level=None, fill_value=None)>,\n",
              "              'mod': <function pandas.core.ops.flex_arith_method_FRAME.<locals>.f(self, other, axis='columns', level=None, fill_value=None)>,\n",
              "              'pow': <function pandas.core.ops.flex_arith_method_FRAME.<locals>.f(self, other, axis='columns', level=None, fill_value=None)>,\n",
              "              'rmul': <function pandas.core.ops.flex_arith_method_FRAME.<locals>.f(self, other, axis='columns', level=None, fill_value=None)>,\n",
              "              'rsub': <function pandas.core.ops.flex_arith_method_FRAME.<locals>.f(self, other, axis='columns', level=None, fill_value=None)>,\n",
              "              'rtruediv': <function pandas.core.ops.flex_arith_method_FRAME.<locals>.f(self, other, axis='columns', level=None, fill_value=None)>,\n",
              "              'rfloordiv': <function pandas.core.ops.flex_arith_method_FRAME.<locals>.f(self, other, axis='columns', level=None, fill_value=None)>,\n",
              "              'rpow': <function pandas.core.ops.flex_arith_method_FRAME.<locals>.f(self, other, axis='columns', level=None, fill_value=None)>,\n",
              "              'rmod': <function pandas.core.ops.flex_arith_method_FRAME.<locals>.f(self, other, axis='columns', level=None, fill_value=None)>,\n",
              "              'div': <function pandas.core.ops.flex_arith_method_FRAME.<locals>.f(self, other, axis='columns', level=None, fill_value=None)>,\n",
              "              'rdiv': <function pandas.core.ops.flex_arith_method_FRAME.<locals>.f(self, other, axis='columns', level=None, fill_value=None)>,\n",
              "              'eq': <function pandas.core.ops.flex_comp_method_FRAME.<locals>.f(self, other, axis='columns', level=None)>,\n",
              "              'ne': <function pandas.core.ops.flex_comp_method_FRAME.<locals>.f(self, other, axis='columns', level=None)>,\n",
              "              'lt': <function pandas.core.ops.flex_comp_method_FRAME.<locals>.f(self, other, axis='columns', level=None)>,\n",
              "              'gt': <function pandas.core.ops.flex_comp_method_FRAME.<locals>.f(self, other, axis='columns', level=None)>,\n",
              "              'le': <function pandas.core.ops.flex_comp_method_FRAME.<locals>.f(self, other, axis='columns', level=None)>,\n",
              "              'ge': <function pandas.core.ops.flex_comp_method_FRAME.<locals>.f(self, other, axis='columns', level=None)>,\n",
              "              'multiply': <function pandas.core.ops.flex_arith_method_FRAME.<locals>.f(self, other, axis='columns', level=None, fill_value=None)>,\n",
              "              'subtract': <function pandas.core.ops.flex_arith_method_FRAME.<locals>.f(self, other, axis='columns', level=None, fill_value=None)>,\n",
              "              'divide': <function pandas.core.ops.flex_arith_method_FRAME.<locals>.f(self, other, axis='columns', level=None, fill_value=None)>})"
            ]
          },
          "metadata": {},
          "execution_count": 57
        }
      ]
    },
    {
      "cell_type": "code",
      "source": [
        "df = pd.DataFrame(data=[4, 5, 6])\n",
        "df"
      ],
      "metadata": {
        "colab": {
          "base_uri": "https://localhost:8080/",
          "height": 143
        },
        "id": "xftL4FKbtiNa",
        "outputId": "845c565d-7b83-45dd-8842-072d084f803f"
      },
      "execution_count": null,
      "outputs": [
        {
          "output_type": "execute_result",
          "data": {
            "text/plain": [
              "   0\n",
              "0  4\n",
              "1  5\n",
              "2  6"
            ],
            "text/html": [
              "\n",
              "  <div id=\"df-5d7c81f6-e597-49f7-bac4-7fd659d99769\">\n",
              "    <div class=\"colab-df-container\">\n",
              "      <div>\n",
              "<style scoped>\n",
              "    .dataframe tbody tr th:only-of-type {\n",
              "        vertical-align: middle;\n",
              "    }\n",
              "\n",
              "    .dataframe tbody tr th {\n",
              "        vertical-align: top;\n",
              "    }\n",
              "\n",
              "    .dataframe thead th {\n",
              "        text-align: right;\n",
              "    }\n",
              "</style>\n",
              "<table border=\"1\" class=\"dataframe\">\n",
              "  <thead>\n",
              "    <tr style=\"text-align: right;\">\n",
              "      <th></th>\n",
              "      <th>0</th>\n",
              "    </tr>\n",
              "  </thead>\n",
              "  <tbody>\n",
              "    <tr>\n",
              "      <th>0</th>\n",
              "      <td>4</td>\n",
              "    </tr>\n",
              "    <tr>\n",
              "      <th>1</th>\n",
              "      <td>5</td>\n",
              "    </tr>\n",
              "    <tr>\n",
              "      <th>2</th>\n",
              "      <td>6</td>\n",
              "    </tr>\n",
              "  </tbody>\n",
              "</table>\n",
              "</div>\n",
              "      <button class=\"colab-df-convert\" onclick=\"convertToInteractive('df-5d7c81f6-e597-49f7-bac4-7fd659d99769')\"\n",
              "              title=\"Convert this dataframe to an interactive table.\"\n",
              "              style=\"display:none;\">\n",
              "        \n",
              "  <svg xmlns=\"http://www.w3.org/2000/svg\" height=\"24px\"viewBox=\"0 0 24 24\"\n",
              "       width=\"24px\">\n",
              "    <path d=\"M0 0h24v24H0V0z\" fill=\"none\"/>\n",
              "    <path d=\"M18.56 5.44l.94 2.06.94-2.06 2.06-.94-2.06-.94-.94-2.06-.94 2.06-2.06.94zm-11 1L8.5 8.5l.94-2.06 2.06-.94-2.06-.94L8.5 2.5l-.94 2.06-2.06.94zm10 10l.94 2.06.94-2.06 2.06-.94-2.06-.94-.94-2.06-.94 2.06-2.06.94z\"/><path d=\"M17.41 7.96l-1.37-1.37c-.4-.4-.92-.59-1.43-.59-.52 0-1.04.2-1.43.59L10.3 9.45l-7.72 7.72c-.78.78-.78 2.05 0 2.83L4 21.41c.39.39.9.59 1.41.59.51 0 1.02-.2 1.41-.59l7.78-7.78 2.81-2.81c.8-.78.8-2.07 0-2.86zM5.41 20L4 18.59l7.72-7.72 1.47 1.35L5.41 20z\"/>\n",
              "  </svg>\n",
              "      </button>\n",
              "      \n",
              "  <style>\n",
              "    .colab-df-container {\n",
              "      display:flex;\n",
              "      flex-wrap:wrap;\n",
              "      gap: 12px;\n",
              "    }\n",
              "\n",
              "    .colab-df-convert {\n",
              "      background-color: #E8F0FE;\n",
              "      border: none;\n",
              "      border-radius: 50%;\n",
              "      cursor: pointer;\n",
              "      display: none;\n",
              "      fill: #1967D2;\n",
              "      height: 32px;\n",
              "      padding: 0 0 0 0;\n",
              "      width: 32px;\n",
              "    }\n",
              "\n",
              "    .colab-df-convert:hover {\n",
              "      background-color: #E2EBFA;\n",
              "      box-shadow: 0px 1px 2px rgba(60, 64, 67, 0.3), 0px 1px 3px 1px rgba(60, 64, 67, 0.15);\n",
              "      fill: #174EA6;\n",
              "    }\n",
              "\n",
              "    [theme=dark] .colab-df-convert {\n",
              "      background-color: #3B4455;\n",
              "      fill: #D2E3FC;\n",
              "    }\n",
              "\n",
              "    [theme=dark] .colab-df-convert:hover {\n",
              "      background-color: #434B5C;\n",
              "      box-shadow: 0px 1px 3px 1px rgba(0, 0, 0, 0.15);\n",
              "      filter: drop-shadow(0px 1px 2px rgba(0, 0, 0, 0.3));\n",
              "      fill: #FFFFFF;\n",
              "    }\n",
              "  </style>\n",
              "\n",
              "      <script>\n",
              "        const buttonEl =\n",
              "          document.querySelector('#df-5d7c81f6-e597-49f7-bac4-7fd659d99769 button.colab-df-convert');\n",
              "        buttonEl.style.display =\n",
              "          google.colab.kernel.accessAllowed ? 'block' : 'none';\n",
              "\n",
              "        async function convertToInteractive(key) {\n",
              "          const element = document.querySelector('#df-5d7c81f6-e597-49f7-bac4-7fd659d99769');\n",
              "          const dataTable =\n",
              "            await google.colab.kernel.invokeFunction('convertToInteractive',\n",
              "                                                     [key], {});\n",
              "          if (!dataTable) return;\n",
              "\n",
              "          const docLinkHtml = 'Like what you see? Visit the ' +\n",
              "            '<a target=\"_blank\" href=https://colab.research.google.com/notebooks/data_table.ipynb>data table notebook</a>'\n",
              "            + ' to learn more about interactive tables.';\n",
              "          element.innerHTML = '';\n",
              "          dataTable['output_type'] = 'display_data';\n",
              "          await google.colab.output.renderOutput(dataTable, element);\n",
              "          const docLink = document.createElement('div');\n",
              "          docLink.innerHTML = docLinkHtml;\n",
              "          element.appendChild(docLink);\n",
              "        }\n",
              "      </script>\n",
              "    </div>\n",
              "  </div>\n",
              "  "
            ]
          },
          "metadata": {},
          "execution_count": 62
        }
      ]
    },
    {
      "cell_type": "code",
      "source": [
        "type(df)"
      ],
      "metadata": {
        "colab": {
          "base_uri": "https://localhost:8080/"
        },
        "id": "hBNyYa-yts7c",
        "outputId": "365a4163-71c8-466c-bb88-ec5203083d16"
      },
      "execution_count": null,
      "outputs": [
        {
          "output_type": "execute_result",
          "data": {
            "text/plain": [
              "pandas.core.frame.DataFrame"
            ]
          },
          "metadata": {},
          "execution_count": 63
        }
      ]
    },
    {
      "cell_type": "markdown",
      "source": [
        "# Atrybuty klasy zdefiniowane przez użytkownika"
      ],
      "metadata": {
        "id": "EylfYtBx7oU8"
      }
    },
    {
      "cell_type": "code",
      "source": [
        "class Phone:\n",
        "\n",
        "    sector = 'electronics'\n",
        "    os = 'Android'\n",
        "    width = 500\n",
        "    height = 1200"
      ],
      "metadata": {
        "id": "YbECLn7P7uHq"
      },
      "execution_count": null,
      "outputs": []
    },
    {
      "cell_type": "code",
      "source": [
        "Phone.__dict__"
      ],
      "metadata": {
        "colab": {
          "base_uri": "https://localhost:8080/"
        },
        "id": "PCGTDqr7uAFZ",
        "outputId": "21f2d373-ceaf-4d5a-d676-1a53757d8567"
      },
      "execution_count": null,
      "outputs": [
        {
          "output_type": "execute_result",
          "data": {
            "text/plain": [
              "mappingproxy({'__module__': '__main__',\n",
              "              'sector': 'electronics',\n",
              "              'os': 'Android',\n",
              "              'width': 500,\n",
              "              'height': 1200,\n",
              "              '__dict__': <attribute '__dict__' of 'Phone' objects>,\n",
              "              '__weakref__': <attribute '__weakref__' of 'Phone' objects>,\n",
              "              '__doc__': None})"
            ]
          },
          "metadata": {},
          "execution_count": 65
        }
      ]
    },
    {
      "cell_type": "code",
      "source": [
        "Phone.__dict__.keys()"
      ],
      "metadata": {
        "colab": {
          "base_uri": "https://localhost:8080/"
        },
        "id": "r9nHh_wY8FIi",
        "outputId": "784641b7-13bc-4150-9f49-ad1e90bb8644"
      },
      "execution_count": null,
      "outputs": [
        {
          "output_type": "execute_result",
          "data": {
            "text/plain": [
              "dict_keys(['__module__', 'sector', 'os', 'width', 'height', '__dict__', '__weakref__', '__doc__'])"
            ]
          },
          "metadata": {},
          "execution_count": 66
        }
      ]
    },
    {
      "cell_type": "code",
      "source": [
        "sorted(Phone.__dict__.keys())"
      ],
      "metadata": {
        "colab": {
          "base_uri": "https://localhost:8080/"
        },
        "id": "Jn7RPleY8KG7",
        "outputId": "7557e80c-bd4b-40db-efa3-f4b22e3aead9"
      },
      "execution_count": null,
      "outputs": [
        {
          "output_type": "execute_result",
          "data": {
            "text/plain": [
              "['__dict__',\n",
              " '__doc__',\n",
              " '__module__',\n",
              " '__weakref__',\n",
              " 'height',\n",
              " 'os',\n",
              " 'sector',\n",
              " 'width']"
            ]
          },
          "metadata": {},
          "execution_count": 67
        }
      ]
    },
    {
      "cell_type": "code",
      "source": [
        "Phone.sector"
      ],
      "metadata": {
        "colab": {
          "base_uri": "https://localhost:8080/",
          "height": 35
        },
        "id": "2i3eUo1O8Pxp",
        "outputId": "fc228ad7-e249-4a10-bf45-4dc4fbb4251b"
      },
      "execution_count": null,
      "outputs": [
        {
          "output_type": "execute_result",
          "data": {
            "text/plain": [
              "'electronics'"
            ],
            "application/vnd.google.colaboratory.intrinsic+json": {
              "type": "string"
            }
          },
          "metadata": {},
          "execution_count": 68
        }
      ]
    },
    {
      "cell_type": "code",
      "source": [
        "Phone.os, Phone.height, Phone.width"
      ],
      "metadata": {
        "colab": {
          "base_uri": "https://localhost:8080/"
        },
        "id": "NimMywF68UlY",
        "outputId": "cb555062-7868-4f05-daad-0293aca11035"
      },
      "execution_count": null,
      "outputs": [
        {
          "output_type": "execute_result",
          "data": {
            "text/plain": [
              "('Android', 1200, 500)"
            ]
          },
          "metadata": {},
          "execution_count": 69
        }
      ]
    },
    {
      "cell_type": "code",
      "source": [
        "Phone.__dict__['os']"
      ],
      "metadata": {
        "colab": {
          "base_uri": "https://localhost:8080/",
          "height": 35
        },
        "id": "BKUVWOe28ahe",
        "outputId": "d5c75215-19b7-4a8d-9c08-1b2c6e749d58"
      },
      "execution_count": null,
      "outputs": [
        {
          "output_type": "execute_result",
          "data": {
            "text/plain": [
              "'Android'"
            ],
            "application/vnd.google.colaboratory.intrinsic+json": {
              "type": "string"
            }
          },
          "metadata": {},
          "execution_count": 70
        }
      ]
    },
    {
      "cell_type": "code",
      "source": [
        "getattr?"
      ],
      "metadata": {
        "id": "XRJnFV9r8fbw"
      },
      "execution_count": null,
      "outputs": []
    },
    {
      "cell_type": "code",
      "source": [
        "getattr(Phone, 'os')"
      ],
      "metadata": {
        "colab": {
          "base_uri": "https://localhost:8080/",
          "height": 35
        },
        "id": "_-mWjSGz8l5Z",
        "outputId": "a9afafbc-e2a5-4da3-d99b-fba879c86599"
      },
      "execution_count": null,
      "outputs": [
        {
          "output_type": "execute_result",
          "data": {
            "text/plain": [
              "'Android'"
            ],
            "application/vnd.google.colaboratory.intrinsic+json": {
              "type": "string"
            }
          },
          "metadata": {},
          "execution_count": 73
        }
      ]
    },
    {
      "cell_type": "code",
      "source": [
        "getattr(Phone, 'price', 'brak atrybutu')"
      ],
      "metadata": {
        "colab": {
          "base_uri": "https://localhost:8080/",
          "height": 35
        },
        "id": "ib15XpJY8sRB",
        "outputId": "7e16c6ce-7317-41b6-9378-2bd5e7e7c395"
      },
      "execution_count": null,
      "outputs": [
        {
          "output_type": "execute_result",
          "data": {
            "text/plain": [
              "'brak atrybutu'"
            ],
            "application/vnd.google.colaboratory.intrinsic+json": {
              "type": "string"
            }
          },
          "metadata": {},
          "execution_count": 75
        }
      ]
    },
    {
      "cell_type": "code",
      "source": [
        "for attr in sorted(Phone.__dict__.keys()):\n",
        "    if not attr.startswith('_'):\n",
        "        print(f'{attr:6} ->  {getattr(Phone, attr)}')"
      ],
      "metadata": {
        "colab": {
          "base_uri": "https://localhost:8080/"
        },
        "id": "zJqC3GyE85_6",
        "outputId": "8e7ea40f-972b-4cfa-d186-dffae4fa8b90"
      },
      "execution_count": null,
      "outputs": [
        {
          "output_type": "stream",
          "name": "stdout",
          "text": [
            "height ->  1200\n",
            "os     ->  Android\n",
            "sector ->  electronics\n",
            "width  ->  500\n"
          ]
        }
      ]
    },
    {
      "cell_type": "code",
      "source": [
        "try:\n",
        "    Phone.price\n",
        "except AttributeError as error:\n",
        "    print(error)"
      ],
      "metadata": {
        "colab": {
          "base_uri": "https://localhost:8080/"
        },
        "id": "bG21q9wN9K3u",
        "outputId": "722f2a8c-0a3a-4b5c-a893-a96d94902d15"
      },
      "execution_count": null,
      "outputs": [
        {
          "output_type": "stream",
          "name": "stdout",
          "text": [
            "type object 'Phone' has no attribute 'price'\n"
          ]
        }
      ]
    },
    {
      "cell_type": "markdown",
      "source": [
        "# Modyfikacja atrybutów klasy"
      ],
      "metadata": {
        "id": "FIcSOP9V-jdB"
      }
    },
    {
      "cell_type": "code",
      "source": [
        "Phone.os"
      ],
      "metadata": {
        "colab": {
          "base_uri": "https://localhost:8080/",
          "height": 35
        },
        "id": "_eYQ1pQQ-WK7",
        "outputId": "8fbe0bfe-f8c5-49f2-cb04-9d380cc5deba"
      },
      "execution_count": null,
      "outputs": [
        {
          "output_type": "execute_result",
          "data": {
            "text/plain": [
              "'Android'"
            ],
            "application/vnd.google.colaboratory.intrinsic+json": {
              "type": "string"
            }
          },
          "metadata": {},
          "execution_count": 85
        }
      ]
    },
    {
      "cell_type": "code",
      "source": [
        "Phone.os = 'iOS'"
      ],
      "metadata": {
        "id": "gccq-_bT-ned"
      },
      "execution_count": null,
      "outputs": []
    },
    {
      "cell_type": "code",
      "source": [
        "Phone.__dict__"
      ],
      "metadata": {
        "colab": {
          "base_uri": "https://localhost:8080/"
        },
        "id": "UelxO2g3-xGc",
        "outputId": "552a5898-9c78-44c0-a142-ed5356554ccc"
      },
      "execution_count": null,
      "outputs": [
        {
          "output_type": "execute_result",
          "data": {
            "text/plain": [
              "mappingproxy({'__module__': '__main__',\n",
              "              'sector': 'electronics',\n",
              "              'os': 'iOS',\n",
              "              'width': 500,\n",
              "              'height': 1200,\n",
              "              '__dict__': <attribute '__dict__' of 'Phone' objects>,\n",
              "              '__weakref__': <attribute '__weakref__' of 'Phone' objects>,\n",
              "              '__doc__': None})"
            ]
          },
          "metadata": {},
          "execution_count": 87
        }
      ]
    },
    {
      "cell_type": "code",
      "source": [
        "setattr(Phone, 'os', 'Linux')"
      ],
      "metadata": {
        "id": "qeBBTCZE-zlA"
      },
      "execution_count": null,
      "outputs": []
    },
    {
      "cell_type": "code",
      "source": [
        "Phone.__dict__"
      ],
      "metadata": {
        "colab": {
          "base_uri": "https://localhost:8080/"
        },
        "id": "EtgCd-gT-9Nq",
        "outputId": "70aa9a1f-17ec-45dc-fa32-d64693752682"
      },
      "execution_count": null,
      "outputs": [
        {
          "output_type": "execute_result",
          "data": {
            "text/plain": [
              "mappingproxy({'__module__': '__main__',\n",
              "              'sector': 'electronics',\n",
              "              'os': 'Linux',\n",
              "              'width': 500,\n",
              "              'height': 1200,\n",
              "              '__dict__': <attribute '__dict__' of 'Phone' objects>,\n",
              "              '__weakref__': <attribute '__weakref__' of 'Phone' objects>,\n",
              "              '__doc__': None})"
            ]
          },
          "metadata": {},
          "execution_count": 90
        }
      ]
    },
    {
      "cell_type": "code",
      "source": [
        "Phone.__dict__['os'] = 'iOS' # takie cos nie zadziala"
      ],
      "metadata": {
        "colab": {
          "base_uri": "https://localhost:8080/",
          "height": 166
        },
        "id": "0unL2pB__FnC",
        "outputId": "e2798f8b-fab4-4979-e93b-672640a80829"
      },
      "execution_count": null,
      "outputs": [
        {
          "output_type": "error",
          "ename": "TypeError",
          "evalue": "ignored",
          "traceback": [
            "\u001b[0;31m---------------------------------------------------------------------------\u001b[0m",
            "\u001b[0;31mTypeError\u001b[0m                                 Traceback (most recent call last)",
            "\u001b[0;32m<ipython-input-91-6b1907759c17>\u001b[0m in \u001b[0;36m<module>\u001b[0;34m\u001b[0m\n\u001b[0;32m----> 1\u001b[0;31m \u001b[0mPhone\u001b[0m\u001b[0;34m.\u001b[0m\u001b[0m__dict__\u001b[0m\u001b[0;34m[\u001b[0m\u001b[0;34m'os'\u001b[0m\u001b[0;34m]\u001b[0m \u001b[0;34m=\u001b[0m \u001b[0;34m'iOS'\u001b[0m \u001b[0;31m# takie cos nie zadziala\u001b[0m\u001b[0;34m\u001b[0m\u001b[0;34m\u001b[0m\u001b[0m\n\u001b[0m",
            "\u001b[0;31mTypeError\u001b[0m: 'mappingproxy' object does not support item assignment"
          ]
        }
      ]
    },
    {
      "cell_type": "markdown",
      "source": [],
      "metadata": {
        "id": "Y1c2LZIJ_YXt"
      }
    },
    {
      "cell_type": "markdown",
      "source": [
        "# Dodawanie nowego atrybutu w locie"
      ],
      "metadata": {
        "id": "cStLlGip_Tng"
      }
    },
    {
      "cell_type": "code",
      "source": [
        "Phone.__dict__"
      ],
      "metadata": {
        "colab": {
          "base_uri": "https://localhost:8080/"
        },
        "id": "TA1qhcJZ_Ram",
        "outputId": "6a91724d-23a3-44be-9fec-2670329c8ce2"
      },
      "execution_count": null,
      "outputs": [
        {
          "output_type": "execute_result",
          "data": {
            "text/plain": [
              "mappingproxy({'__module__': '__main__',\n",
              "              'sector': 'electronics',\n",
              "              'os': 'Linux',\n",
              "              'width': 500,\n",
              "              'height': 1200,\n",
              "              '__dict__': <attribute '__dict__' of 'Phone' objects>,\n",
              "              '__weakref__': <attribute '__weakref__' of 'Phone' objects>,\n",
              "              '__doc__': None})"
            ]
          },
          "metadata": {},
          "execution_count": 92
        }
      ]
    },
    {
      "cell_type": "code",
      "source": [
        "Phone.origin_country = 'USA'"
      ],
      "metadata": {
        "id": "NV6yrTHJ_bZf"
      },
      "execution_count": null,
      "outputs": []
    },
    {
      "cell_type": "code",
      "source": [
        "Phone.__dict__\n"
      ],
      "metadata": {
        "colab": {
          "base_uri": "https://localhost:8080/"
        },
        "id": "vSxAhpDz_gMW",
        "outputId": "a468fd1c-a860-4757-c6a9-243dfd249bc1"
      },
      "execution_count": null,
      "outputs": [
        {
          "output_type": "execute_result",
          "data": {
            "text/plain": [
              "mappingproxy({'__module__': '__main__',\n",
              "              'sector': 'electronics',\n",
              "              'os': 'Linux',\n",
              "              'width': 500,\n",
              "              'height': 1200,\n",
              "              '__dict__': <attribute '__dict__' of 'Phone' objects>,\n",
              "              '__weakref__': <attribute '__weakref__' of 'Phone' objects>,\n",
              "              '__doc__': None,\n",
              "              'origin_country': 'USA'})"
            ]
          },
          "metadata": {},
          "execution_count": 94
        }
      ]
    },
    {
      "cell_type": "code",
      "source": [
        "Phone.origin_country"
      ],
      "metadata": {
        "colab": {
          "base_uri": "https://localhost:8080/",
          "height": 35
        },
        "id": "ssEPErAz_ikS",
        "outputId": "4bb03224-7159-4806-9113-e34ca00fea53"
      },
      "execution_count": null,
      "outputs": [
        {
          "output_type": "execute_result",
          "data": {
            "text/plain": [
              "'USA'"
            ],
            "application/vnd.google.colaboratory.intrinsic+json": {
              "type": "string"
            }
          },
          "metadata": {},
          "execution_count": 95
        }
      ]
    },
    {
      "cell_type": "code",
      "source": [
        "setattr(Phone, 'year_production', 2020)"
      ],
      "metadata": {
        "id": "7jOYhDil_oz7"
      },
      "execution_count": null,
      "outputs": []
    },
    {
      "cell_type": "code",
      "source": [
        "Phone.__dict__"
      ],
      "metadata": {
        "colab": {
          "base_uri": "https://localhost:8080/"
        },
        "id": "agviHf0t_u8L",
        "outputId": "24c314d0-54ef-4915-cff3-2f812ac58d53"
      },
      "execution_count": null,
      "outputs": [
        {
          "output_type": "execute_result",
          "data": {
            "text/plain": [
              "mappingproxy({'__module__': '__main__',\n",
              "              'sector': 'electronics',\n",
              "              'os': 'Linux',\n",
              "              'width': 500,\n",
              "              'height': 1200,\n",
              "              '__dict__': <attribute '__dict__' of 'Phone' objects>,\n",
              "              '__weakref__': <attribute '__weakref__' of 'Phone' objects>,\n",
              "              '__doc__': None,\n",
              "              'origin_country': 'USA',\n",
              "              'year_production': 2020})"
            ]
          },
          "metadata": {},
          "execution_count": 97
        }
      ]
    },
    {
      "cell_type": "markdown",
      "source": [
        "# Usuwanie atrybutów klasy"
      ],
      "metadata": {
        "id": "fVpwDi-a_4vU"
      }
    },
    {
      "cell_type": "code",
      "source": [
        "del Phone.os # tak usuwany atrybut"
      ],
      "metadata": {
        "id": "Ozj2J90p_zCT"
      },
      "execution_count": null,
      "outputs": []
    },
    {
      "cell_type": "code",
      "source": [
        "Phone.__dict__"
      ],
      "metadata": {
        "colab": {
          "base_uri": "https://localhost:8080/"
        },
        "id": "88SjskhM_-l-",
        "outputId": "9a94a5a3-c2fe-4b0b-f205-7b76399f43dc"
      },
      "execution_count": null,
      "outputs": [
        {
          "output_type": "execute_result",
          "data": {
            "text/plain": [
              "mappingproxy({'__module__': '__main__',\n",
              "              'sector': 'electronics',\n",
              "              'width': 500,\n",
              "              'height': 1200,\n",
              "              '__dict__': <attribute '__dict__' of 'Phone' objects>,\n",
              "              '__weakref__': <attribute '__weakref__' of 'Phone' objects>,\n",
              "              '__doc__': None,\n",
              "              'origin_country': 'USA',\n",
              "              'year_production': 2020})"
            ]
          },
          "metadata": {},
          "execution_count": 99
        }
      ]
    },
    {
      "cell_type": "code",
      "source": [
        "delattr(Phone, 'height') # albo tak"
      ],
      "metadata": {
        "id": "HgxYID24AAdq"
      },
      "execution_count": null,
      "outputs": []
    },
    {
      "cell_type": "code",
      "source": [
        "Phone.__dict__\n"
      ],
      "metadata": {
        "colab": {
          "base_uri": "https://localhost:8080/"
        },
        "id": "K1jbH5H5AR63",
        "outputId": "c2a3db46-3d43-4a30-9c66-0e55bf007a74"
      },
      "execution_count": null,
      "outputs": [
        {
          "output_type": "execute_result",
          "data": {
            "text/plain": [
              "mappingproxy({'__module__': '__main__',\n",
              "              'sector': 'electronics',\n",
              "              'width': 500,\n",
              "              '__dict__': <attribute '__dict__' of 'Phone' objects>,\n",
              "              '__weakref__': <attribute '__weakref__' of 'Phone' objects>,\n",
              "              '__doc__': None,\n",
              "              'origin_country': 'USA',\n",
              "              'year_production': 2020})"
            ]
          },
          "metadata": {},
          "execution_count": 101
        }
      ]
    },
    {
      "cell_type": "markdown",
      "source": [
        "# Wywoływalne atrybuty klasy"
      ],
      "metadata": {
        "id": "bbu7csQIAY5n"
      }
    },
    {
      "cell_type": "code",
      "source": [
        "class Phone:\n",
        "\n",
        "    sector = 'electronics'\n",
        "    os = 'Android'\n",
        "    width = 500\n",
        "    height = 1200\n",
        "\n",
        "    def describe_class():\n",
        "        print(f'{Phone.__name__} class describe')"
      ],
      "metadata": {
        "id": "FwVZ7eOXAT7B"
      },
      "execution_count": null,
      "outputs": []
    },
    {
      "cell_type": "code",
      "source": [
        "Phone.__dict__"
      ],
      "metadata": {
        "colab": {
          "base_uri": "https://localhost:8080/"
        },
        "id": "aG2kXo7pAz5e",
        "outputId": "c01357d1-c03f-4323-84fd-6b3492f11e95"
      },
      "execution_count": null,
      "outputs": [
        {
          "output_type": "execute_result",
          "data": {
            "text/plain": [
              "mappingproxy({'__module__': '__main__',\n",
              "              'sector': 'electronics',\n",
              "              'os': 'Android',\n",
              "              'width': 500,\n",
              "              'height': 1200,\n",
              "              'describe_class': <function __main__.Phone.describe_class()>,\n",
              "              '__dict__': <attribute '__dict__' of 'Phone' objects>,\n",
              "              '__weakref__': <attribute '__weakref__' of 'Phone' objects>,\n",
              "              '__doc__': None})"
            ]
          },
          "metadata": {},
          "execution_count": 2
        }
      ]
    },
    {
      "cell_type": "code",
      "source": [
        "Phone.describe_class"
      ],
      "metadata": {
        "colab": {
          "base_uri": "https://localhost:8080/"
        },
        "id": "42_4v6mnA2Ef",
        "outputId": "1a6c1f7b-93c9-4f1b-acf9-52bb72f8b9ac"
      },
      "execution_count": null,
      "outputs": [
        {
          "output_type": "execute_result",
          "data": {
            "text/plain": [
              "<function __main__.Phone.describe_class()>"
            ]
          },
          "metadata": {},
          "execution_count": 3
        }
      ]
    },
    {
      "cell_type": "code",
      "source": [
        "Phone.describe_class()"
      ],
      "metadata": {
        "colab": {
          "base_uri": "https://localhost:8080/"
        },
        "id": "5TzP17KjBAC_",
        "outputId": "bfca16b3-ec14-4fdf-8f87-c03331e6b164"
      },
      "execution_count": null,
      "outputs": [
        {
          "output_type": "stream",
          "name": "stdout",
          "text": [
            "Phone class describe\n"
          ]
        }
      ]
    },
    {
      "cell_type": "code",
      "source": [
        "class Phone:\n",
        "\n",
        "    sector = 'electronics'\n",
        "    os = 'Android'\n",
        "    width = 500\n",
        "    height = 1200\n",
        "\n",
        "    def describe_class():\n",
        "        \"\"\"Print class name\"\"\"\n",
        "        print(f'Operating system: {Phone.os}')\n",
        "        print(f'{Phone.__name__} class describe')\n",
        "\n",
        "Phone.describe_class()"
      ],
      "metadata": {
        "colab": {
          "base_uri": "https://localhost:8080/"
        },
        "id": "9ClkO27aBCc0",
        "outputId": "56017a84-dfde-4f51-a7da-f9530183d0e5"
      },
      "execution_count": null,
      "outputs": [
        {
          "output_type": "stream",
          "name": "stdout",
          "text": [
            "Operating system: Android\n",
            "Phone class describe\n"
          ]
        }
      ]
    },
    {
      "cell_type": "code",
      "source": [
        "getattr(Phone, 'describe_class')()"
      ],
      "metadata": {
        "colab": {
          "base_uri": "https://localhost:8080/"
        },
        "id": "eChNBA_1BkOB",
        "outputId": "2ab272b2-7f85-4fbd-fb5c-4c2f5c9b5252"
      },
      "execution_count": null,
      "outputs": [
        {
          "output_type": "stream",
          "name": "stdout",
          "text": [
            "Operating system: Android\n",
            "Phone class describe\n"
          ]
        }
      ]
    },
    {
      "cell_type": "code",
      "source": [
        "help(Phone)"
      ],
      "metadata": {
        "colab": {
          "base_uri": "https://localhost:8080/"
        },
        "id": "CIU92eOmB6XU",
        "outputId": "27f7ab24-0a42-46cc-8c8c-211e4024a9fe"
      },
      "execution_count": null,
      "outputs": [
        {
          "output_type": "stream",
          "name": "stdout",
          "text": [
            "Help on class Phone in module __main__:\n",
            "\n",
            "class Phone(builtins.object)\n",
            " |  Methods defined here:\n",
            " |  \n",
            " |  describe_class()\n",
            " |      Print class name\n",
            " |  \n",
            " |  ----------------------------------------------------------------------\n",
            " |  Data descriptors defined here:\n",
            " |  \n",
            " |  __dict__\n",
            " |      dictionary for instance variables (if defined)\n",
            " |  \n",
            " |  __weakref__\n",
            " |      list of weak references to the object (if defined)\n",
            " |  \n",
            " |  ----------------------------------------------------------------------\n",
            " |  Data and other attributes defined here:\n",
            " |  \n",
            " |  height = 1200\n",
            " |  \n",
            " |  os = 'Android'\n",
            " |  \n",
            " |  sector = 'electronics'\n",
            " |  \n",
            " |  width = 500\n",
            "\n"
          ]
        }
      ]
    },
    {
      "cell_type": "markdown",
      "source": [
        "# Zadanie"
      ],
      "metadata": {
        "id": "g7KlKTnqCVn4"
      }
    },
    {
      "cell_type": "markdown",
      "source": [
        "Zaimplementuj klase o nazwie HouseProject z podanymi atrybutami klasy:\n",
        "\n",
        "\n",
        "*   number_of_floors ustawionym na 2\n",
        "*   area ustawionym na 100\n",
        "\n"
      ],
      "metadata": {
        "id": "RQGA85Y7Cdhv"
      }
    },
    {
      "cell_type": "code",
      "source": [
        "class HouseProject:\n",
        "    \n",
        "    number_of_floors = 2\n",
        "    area = 100"
      ],
      "metadata": {
        "id": "Xjs-pQFzCL76"
      },
      "execution_count": null,
      "outputs": []
    },
    {
      "cell_type": "code",
      "source": [
        "HouseProject()"
      ],
      "metadata": {
        "colab": {
          "base_uri": "https://localhost:8080/"
        },
        "id": "_RyiAJxZC9Nh",
        "outputId": "d4a4fd4d-1062-4227-a3f3-8fd962c815a4"
      },
      "execution_count": null,
      "outputs": [
        {
          "output_type": "execute_result",
          "data": {
            "text/plain": [
              "<__main__.HouseProject at 0x7ff00d034370>"
            ]
          },
          "metadata": {},
          "execution_count": 21
        }
      ]
    },
    {
      "cell_type": "code",
      "source": [
        "HouseProject.area"
      ],
      "metadata": {
        "colab": {
          "base_uri": "https://localhost:8080/"
        },
        "id": "PAxMZV5nDQur",
        "outputId": "7b5a6f58-5d09-4d2d-ffd3-c7189c386876"
      },
      "execution_count": null,
      "outputs": [
        {
          "output_type": "execute_result",
          "data": {
            "text/plain": [
              "100"
            ]
          },
          "metadata": {},
          "execution_count": 23
        }
      ]
    },
    {
      "cell_type": "code",
      "source": [
        "class HouseProject:\n",
        "    \n",
        "    number_of_floors = 2\n",
        "    area = 100\n",
        "\n",
        "    def describe_project():\n",
        "        print(f'Number of floors: {HouseProject.number_of_floors}')\n",
        "        print(f'Area: {HouseProject.area}')\n",
        "        "
      ],
      "metadata": {
        "id": "mRsEz491DUQn"
      },
      "execution_count": null,
      "outputs": []
    },
    {
      "cell_type": "code",
      "source": [
        "HouseProject.describe_project()"
      ],
      "metadata": {
        "colab": {
          "base_uri": "https://localhost:8080/"
        },
        "id": "D6JZ7sUwD11_",
        "outputId": "1bb1d5f3-f2bf-487e-ceda-2904c383b89f"
      },
      "execution_count": null,
      "outputs": [
        {
          "output_type": "stream",
          "name": "stdout",
          "text": [
            "Number of floors: 2\n",
            "Area: 100\n"
          ]
        }
      ]
    },
    {
      "cell_type": "markdown",
      "source": [
        "# Przyklad"
      ],
      "metadata": {
        "id": "ityEwNiFE11h"
      }
    },
    {
      "cell_type": "code",
      "source": [
        " from datetime import datetime\n",
        "\n",
        " datetime.now().strftime('%H:%M:%S')\n",
        "\n",
        " class Foto:\n",
        "\n",
        "     execution_time = datetime.now().strftime('%H_%M_%S') # tutaj czas bedzie\n",
        "     # przypisany raz dla klasy w momencie wykonania kodu definiującego klase\n",
        "     fname = 'image_' + execution_time +'.png'\n",
        "    \n",
        "Foto.__dict__\n"
      ],
      "metadata": {
        "colab": {
          "base_uri": "https://localhost:8080/"
        },
        "id": "wWrc8ZZkD6kU",
        "outputId": "fbe6f348-6b6f-41c6-8b65-28147ca69945"
      },
      "execution_count": null,
      "outputs": [
        {
          "output_type": "execute_result",
          "data": {
            "text/plain": [
              "mappingproxy({'__module__': '__main__',\n",
              "              'execution_time': '15_14_15',\n",
              "              'fname': 'image15_14_15.png',\n",
              "              '__dict__': <attribute '__dict__' of 'Foto' objects>,\n",
              "              '__weakref__': <attribute '__weakref__' of 'Foto' objects>,\n",
              "              '__doc__': None})"
            ]
          },
          "metadata": {},
          "execution_count": 28
        }
      ]
    },
    {
      "cell_type": "code",
      "source": [
        "Foto.__dict__\n"
      ],
      "metadata": {
        "colab": {
          "base_uri": "https://localhost:8080/"
        },
        "id": "KZNNfTxGFFcY",
        "outputId": "d5b57994-2ce2-428b-ea72-0e95fc9c1575"
      },
      "execution_count": null,
      "outputs": [
        {
          "output_type": "execute_result",
          "data": {
            "text/plain": [
              "mappingproxy({'__module__': '__main__',\n",
              "              'execution_time': '15_14_15',\n",
              "              'fname': 'image15_14_15.png',\n",
              "              '__dict__': <attribute '__dict__' of 'Foto' objects>,\n",
              "              '__weakref__': <attribute '__weakref__' of 'Foto' objects>,\n",
              "              '__doc__': None})"
            ]
          },
          "metadata": {},
          "execution_count": 29
        }
      ]
    },
    {
      "cell_type": "code",
      "source": [
        "foto = Foto()\n",
        "foto.execution_time"
      ],
      "metadata": {
        "colab": {
          "base_uri": "https://localhost:8080/",
          "height": 35
        },
        "id": "ILbYo7GjF7ta",
        "outputId": "83c05635-7c93-4e94-e079-16c3697ceced"
      },
      "execution_count": null,
      "outputs": [
        {
          "output_type": "execute_result",
          "data": {
            "text/plain": [
              "'15_14_15'"
            ],
            "application/vnd.google.colaboratory.intrinsic+json": {
              "type": "string"
            }
          },
          "metadata": {},
          "execution_count": 30
        }
      ]
    },
    {
      "cell_type": "code",
      "source": [
        " class Foto:\n",
        "\n",
        "     execution_time = datetime.now().strftime('%H_%M_%S') # tutaj czas bedzie\n",
        "     # przypisany raz dla klasy w momencie wykonania kodu definiującego klase\n",
        "     fname = 'image_' + execution_time +'.png'\n",
        "\n",
        "     def current_time():\n",
        "         return datetime.now().strftime('%H_%M_%S')\n",
        "        # ta funkcja zwraca zawsze aktualny czas jak sie ją wywoła\n",
        "Foto.__dict__"
      ],
      "metadata": {
        "colab": {
          "base_uri": "https://localhost:8080/"
        },
        "id": "Aps206G8GIy1",
        "outputId": "d37616ad-a3c0-4e33-c0ad-c00472732aee"
      },
      "execution_count": null,
      "outputs": [
        {
          "output_type": "execute_result",
          "data": {
            "text/plain": [
              "mappingproxy({'__module__': '__main__',\n",
              "              'execution_time': '15_18_56',\n",
              "              'fname': 'image_15_18_56.png',\n",
              "              'current_time': <function __main__.Foto.current_time()>,\n",
              "              '__dict__': <attribute '__dict__' of 'Foto' objects>,\n",
              "              '__weakref__': <attribute '__weakref__' of 'Foto' objects>,\n",
              "              '__doc__': None})"
            ]
          },
          "metadata": {},
          "execution_count": 32
        }
      ]
    },
    {
      "cell_type": "code",
      "source": [
        "Foto.current_time()"
      ],
      "metadata": {
        "colab": {
          "base_uri": "https://localhost:8080/",
          "height": 35
        },
        "id": "LLCkqXeMGu3G",
        "outputId": "e07ed481-d181-45f4-8055-61e52dfc9c93"
      },
      "execution_count": null,
      "outputs": [
        {
          "output_type": "execute_result",
          "data": {
            "text/plain": [
              "'15_19_22'"
            ],
            "application/vnd.google.colaboratory.intrinsic+json": {
              "type": "string"
            }
          },
          "metadata": {},
          "execution_count": 33
        }
      ]
    },
    {
      "cell_type": "code",
      "source": [
        " class Foto:\n",
        "\n",
        "     execution_time = datetime.now().strftime('%H_%M_%S')\n",
        "     fname = 'image_' + execution_time +'.png'\n",
        "\n",
        "     def current_time():\n",
        "         return datetime.now().strftime('%H_%M_%S')\n",
        "\n",
        "\n",
        "Foto.__dict__"
      ],
      "metadata": {
        "colab": {
          "base_uri": "https://localhost:8080/"
        },
        "id": "6MxgUUlcG7zt",
        "outputId": "c428eeec-d54e-410d-bdd6-b0681f654999"
      },
      "execution_count": null,
      "outputs": [
        {
          "output_type": "execute_result",
          "data": {
            "text/plain": [
              "mappingproxy({'__module__': '__main__',\n",
              "              'execution_time': '15_20_40',\n",
              "              'fname': 'image_15_20_40.png',\n",
              "              'current_time': <function __main__.Foto.current_time()>,\n",
              "              '__dict__': <attribute '__dict__' of 'Foto' objects>,\n",
              "              '__weakref__': <attribute '__weakref__' of 'Foto' objects>,\n",
              "              '__doc__': None})"
            ]
          },
          "metadata": {},
          "execution_count": 34
        }
      ]
    },
    {
      "cell_type": "code",
      "source": [
        "Foto.__mro__ # kolejnosc szukania atrybutow w klasach"
      ],
      "metadata": {
        "colab": {
          "base_uri": "https://localhost:8080/"
        },
        "id": "57ALdPDuHO3C",
        "outputId": "9740199f-a40d-440a-a9c7-c0b85c519ed1"
      },
      "execution_count": null,
      "outputs": [
        {
          "output_type": "execute_result",
          "data": {
            "text/plain": [
              "(__main__.Foto, object)"
            ]
          },
          "metadata": {},
          "execution_count": 35
        }
      ]
    },
    {
      "cell_type": "code",
      "source": [
        "Foto.mro()"
      ],
      "metadata": {
        "colab": {
          "base_uri": "https://localhost:8080/"
        },
        "id": "-SYf0-vsHRg-",
        "outputId": "44f74cf9-416b-4ae0-dbba-400196bbd265"
      },
      "execution_count": null,
      "outputs": [
        {
          "output_type": "execute_result",
          "data": {
            "text/plain": [
              "[__main__.Foto, object]"
            ]
          },
          "metadata": {},
          "execution_count": 37
        }
      ]
    },
    {
      "cell_type": "code",
      "source": [],
      "metadata": {
        "id": "gnX7pYCbHlc7"
      },
      "execution_count": null,
      "outputs": []
    }
  ]
}