{
  "nbformat": 4,
  "nbformat_minor": 0,
  "metadata": {
    "colab": {
      "provenance": [],
      "authorship_tag": "ABX9TyPh59WP7cehMRJa407OCrRA",
      "include_colab_link": true
    },
    "kernelspec": {
      "name": "python3",
      "display_name": "Python 3"
    },
    "language_info": {
      "name": "python"
    }
  },
  "cells": [
    {
      "cell_type": "markdown",
      "metadata": {
        "id": "view-in-github",
        "colab_type": "text"
      },
      "source": [
        "<a href=\"https://colab.research.google.com/github/MikolajKasprzyk/programowanie_obiektowe/blob/main/06_atrybuty_instancji.ipynb\" target=\"_parent\"><img src=\"https://colab.research.google.com/assets/colab-badge.svg\" alt=\"Open In Colab\"/></a>"
      ]
    },
    {
      "cell_type": "markdown",
      "source": [
        "# Tworzenie instancji klasy"
      ],
      "metadata": {
        "id": "z3He8n-oIw0K"
      }
    },
    {
      "cell_type": "code",
      "execution_count": null,
      "metadata": {
        "colab": {
          "base_uri": "https://localhost:8080/"
        },
        "id": "gefyh8E7IqAK",
        "outputId": "19949594-f09c-448a-88d8-4e56d6994898"
      },
      "outputs": [
        {
          "output_type": "execute_result",
          "data": {
            "text/plain": [
              "mappingproxy({'__module__': '__main__',\n",
              "              'language': 'ENG',\n",
              "              'show': <function __main__.Book.show()>,\n",
              "              '__dict__': <attribute '__dict__' of 'Book' objects>,\n",
              "              '__weakref__': <attribute '__weakref__' of 'Book' objects>,\n",
              "              '__doc__': None})"
            ]
          },
          "metadata": {},
          "execution_count": 2
        }
      ],
      "source": [
        "class Book:\n",
        "\n",
        "    language = 'ENG'\n",
        "\n",
        "    def show():\n",
        "        print(Book.language)\n",
        "\n",
        "Book.__dict__"
      ]
    },
    {
      "cell_type": "code",
      "source": [
        "book1 = Book()\n"
      ],
      "metadata": {
        "id": "Mg47crdMI_A6"
      },
      "execution_count": null,
      "outputs": []
    },
    {
      "cell_type": "markdown",
      "source": [
        "# atrybuty klasy i atrybuty instancji"
      ],
      "metadata": {
        "id": "wLfPDiBqJhds"
      }
    },
    {
      "cell_type": "code",
      "source": [
        "class Book:\n",
        "\n",
        "    language = 'ENG'\n",
        "\n",
        "    def show():\n",
        "        print(Book.language)\n",
        "        "
      ],
      "metadata": {
        "id": "-GQC-0ffJD_w"
      },
      "execution_count": null,
      "outputs": []
    },
    {
      "cell_type": "code",
      "source": [
        "book1 = Book()\n",
        "book1.__dict__"
      ],
      "metadata": {
        "colab": {
          "base_uri": "https://localhost:8080/"
        },
        "id": "9qC4Q0aoJq5P",
        "outputId": "ac738224-b81b-4c1b-f51f-68a98bad0210"
      },
      "execution_count": null,
      "outputs": [
        {
          "output_type": "execute_result",
          "data": {
            "text/plain": [
              "{}"
            ]
          },
          "metadata": {},
          "execution_count": 6
        }
      ]
    },
    {
      "cell_type": "code",
      "source": [
        "book1 = Book()\n",
        "book2 = Book()"
      ],
      "metadata": {
        "id": "Hy8nDr_HJ0Co"
      },
      "execution_count": null,
      "outputs": []
    },
    {
      "cell_type": "code",
      "source": [
        "book1.language, book2.language"
      ],
      "metadata": {
        "colab": {
          "base_uri": "https://localhost:8080/"
        },
        "id": "mamjCACqKaVk",
        "outputId": "c0c87816-3966-4512-d37b-f46f13045471"
      },
      "execution_count": null,
      "outputs": [
        {
          "output_type": "execute_result",
          "data": {
            "text/plain": [
              "('ENG', 'ENG')"
            ]
          },
          "metadata": {},
          "execution_count": 8
        }
      ]
    },
    {
      "cell_type": "code",
      "source": [
        "Book.author = 'Adam Mickiewicz'\n",
        "Book.__dict__"
      ],
      "metadata": {
        "colab": {
          "base_uri": "https://localhost:8080/"
        },
        "id": "FmIhgM8EKjx5",
        "outputId": "1184456f-f14c-44f4-c8a8-ac17c7eaf3f4"
      },
      "execution_count": null,
      "outputs": [
        {
          "output_type": "execute_result",
          "data": {
            "text/plain": [
              "mappingproxy({'__module__': '__main__',\n",
              "              'language': 'ENG',\n",
              "              'show': <function __main__.Book.show()>,\n",
              "              '__dict__': <attribute '__dict__' of 'Book' objects>,\n",
              "              '__weakref__': <attribute '__weakref__' of 'Book' objects>,\n",
              "              '__doc__': None,\n",
              "              'author': 'Adam Mickiewicz'})"
            ]
          },
          "metadata": {},
          "execution_count": 10
        }
      ]
    },
    {
      "cell_type": "code",
      "source": [
        "book1.author, book2.author"
      ],
      "metadata": {
        "colab": {
          "base_uri": "https://localhost:8080/"
        },
        "id": "nxtfbXZBKp9e",
        "outputId": "cfda2d73-9ce1-44a1-caab-48bb2e88980b"
      },
      "execution_count": null,
      "outputs": [
        {
          "output_type": "execute_result",
          "data": {
            "text/plain": [
              "('Adam Mickiewicz', 'Adam Mickiewicz')"
            ]
          },
          "metadata": {},
          "execution_count": 12
        }
      ]
    },
    {
      "cell_type": "code",
      "source": [
        "book1.author = 'Stanislaw Lem'"
      ],
      "metadata": {
        "id": "6qX7n7LEKzAn"
      },
      "execution_count": null,
      "outputs": []
    },
    {
      "cell_type": "code",
      "source": [
        "book1.author, book2.author"
      ],
      "metadata": {
        "colab": {
          "base_uri": "https://localhost:8080/"
        },
        "id": "DGvoR_v8LDfV",
        "outputId": "1ae26ec5-92ca-4cfc-e687-26c76aaebf70"
      },
      "execution_count": null,
      "outputs": [
        {
          "output_type": "execute_result",
          "data": {
            "text/plain": [
              "('Stanislaw Lem', 'Adam Mickiewicz')"
            ]
          },
          "metadata": {},
          "execution_count": 16
        }
      ]
    },
    {
      "cell_type": "code",
      "source": [
        "book1.__dict__, book2.__dict__"
      ],
      "metadata": {
        "colab": {
          "base_uri": "https://localhost:8080/"
        },
        "id": "1SSiRqxXLHRK",
        "outputId": "71148354-d36d-4255-f0e3-0af4db7bf038"
      },
      "execution_count": null,
      "outputs": [
        {
          "output_type": "execute_result",
          "data": {
            "text/plain": [
              "({'author': 'Stanislaw Lem'}, {})"
            ]
          },
          "metadata": {},
          "execution_count": 17
        }
      ]
    },
    {
      "cell_type": "code",
      "source": [
        "book1.liczbastron = 30"
      ],
      "metadata": {
        "id": "mc-6jJnhLRaf"
      },
      "execution_count": null,
      "outputs": []
    },
    {
      "cell_type": "code",
      "source": [
        "book1.__dict__, book2.__dict__\n"
      ],
      "metadata": {
        "colab": {
          "base_uri": "https://localhost:8080/"
        },
        "id": "Y-EmRwfYLXTz",
        "outputId": "0190848a-2dbf-4a85-9f0d-48a92a4c3dc7"
      },
      "execution_count": null,
      "outputs": [
        {
          "output_type": "execute_result",
          "data": {
            "text/plain": [
              "({'author': 'Stanislaw Lem', 'liczbastron': 30}, {})"
            ]
          },
          "metadata": {},
          "execution_count": 19
        }
      ]
    },
    {
      "cell_type": "code",
      "source": [
        "del book1.author"
      ],
      "metadata": {
        "colab": {
          "base_uri": "https://localhost:8080/",
          "height": 166
        },
        "id": "HUZKdznGLbJx",
        "outputId": "e43d72b3-d079-4f6f-cf2d-323b24191849"
      },
      "execution_count": null,
      "outputs": [
        {
          "output_type": "error",
          "ename": "AttributeError",
          "evalue": "ignored",
          "traceback": [
            "\u001b[0;31m---------------------------------------------------------------------------\u001b[0m",
            "\u001b[0;31mAttributeError\u001b[0m                            Traceback (most recent call last)",
            "\u001b[0;32m<ipython-input-23-0cce8f4db580>\u001b[0m in \u001b[0;36m<module>\u001b[0;34m\u001b[0m\n\u001b[0;32m----> 1\u001b[0;31m \u001b[0;32mdel\u001b[0m \u001b[0mbook1\u001b[0m\u001b[0;34m.\u001b[0m\u001b[0mauthor\u001b[0m\u001b[0;34m\u001b[0m\u001b[0;34m\u001b[0m\u001b[0m\n\u001b[0m",
            "\u001b[0;31mAttributeError\u001b[0m: author"
          ]
        }
      ]
    },
    {
      "cell_type": "code",
      "source": [
        "book1.__dict__, book2.__dict__"
      ],
      "metadata": {
        "colab": {
          "base_uri": "https://localhost:8080/"
        },
        "id": "bUhNHnC6LrgH",
        "outputId": "37104e32-9d80-49ef-defe-b3ead454c07b"
      },
      "execution_count": null,
      "outputs": [
        {
          "output_type": "execute_result",
          "data": {
            "text/plain": [
              "({'liczbastron': 30}, {})"
            ]
          },
          "metadata": {},
          "execution_count": 24
        }
      ]
    },
    {
      "cell_type": "code",
      "source": [
        "book1.author"
      ],
      "metadata": {
        "colab": {
          "base_uri": "https://localhost:8080/",
          "height": 35
        },
        "id": "AxkG7cTbLxZ_",
        "outputId": "2d4b02bc-327f-4f88-a0cc-0d709ca2bf3c"
      },
      "execution_count": null,
      "outputs": [
        {
          "output_type": "execute_result",
          "data": {
            "text/plain": [
              "'Adam Mickiewicz'"
            ],
            "application/vnd.google.colaboratory.intrinsic+json": {
              "type": "string"
            }
          },
          "metadata": {},
          "execution_count": 25
        }
      ]
    },
    {
      "cell_type": "code",
      "source": [
        "class Book:\n",
        "\n",
        "    language = 'ENG'\n",
        "\n",
        "    def show():\n",
        "        print(Book.language)\n",
        "\n",
        "book1 = Book()\n",
        "book2 = Book()\n",
        "book1.__dict__, book2.__dict__"
      ],
      "metadata": {
        "colab": {
          "base_uri": "https://localhost:8080/"
        },
        "id": "z3ik4TSsL1XL",
        "outputId": "b6f61327-bc67-4086-8751-086c6a968ee5"
      },
      "execution_count": null,
      "outputs": [
        {
          "output_type": "execute_result",
          "data": {
            "text/plain": [
              "({}, {})"
            ]
          },
          "metadata": {},
          "execution_count": 2
        }
      ]
    },
    {
      "cell_type": "code",
      "source": [
        "book1.title = 'Pan Tadeusz'\n",
        "book2.rok = '1999'\n",
        "book1.__dict__, book2.__dict__"
      ],
      "metadata": {
        "colab": {
          "base_uri": "https://localhost:8080/"
        },
        "id": "saEXxmK6MEhN",
        "outputId": "bdfa6f94-e47c-41f7-d0a9-4491dda31e12"
      },
      "execution_count": null,
      "outputs": [
        {
          "output_type": "execute_result",
          "data": {
            "text/plain": [
              "({'title': 'Pan Tadeusz'}, {'rok': '1999'})"
            ]
          },
          "metadata": {},
          "execution_count": 3
        }
      ]
    },
    {
      "cell_type": "markdown",
      "source": [
        "# Przyklad"
      ],
      "metadata": {
        "id": "wdcNPlnjNPFT"
      }
    },
    {
      "cell_type": "code",
      "source": [
        "class Book:\n",
        "\n",
        "    language = 'ENG'\n",
        "    author = 'Mickiewicz'\n",
        "\n",
        "Book.__dict__"
      ],
      "metadata": {
        "colab": {
          "base_uri": "https://localhost:8080/"
        },
        "id": "lk8OVyxiMSZF",
        "outputId": "c152963d-0623-4dee-eae2-fa6832415790"
      },
      "execution_count": null,
      "outputs": [
        {
          "output_type": "execute_result",
          "data": {
            "text/plain": [
              "mappingproxy({'__module__': '__main__',\n",
              "              'language': 'ENG',\n",
              "              'author': 'Mickiewicz',\n",
              "              '__dict__': <attribute '__dict__' of 'Book' objects>,\n",
              "              '__weakref__': <attribute '__weakref__' of 'Book' objects>,\n",
              "              '__doc__': None})"
            ]
          },
          "metadata": {},
          "execution_count": 4
        }
      ]
    },
    {
      "cell_type": "code",
      "source": [
        "books = [Book(), Book(), Book()]\n",
        "books"
      ],
      "metadata": {
        "colab": {
          "base_uri": "https://localhost:8080/"
        },
        "id": "XKvIKHRFNsEV",
        "outputId": "0ffce05c-1530-4c40-d12b-5452ff261a2c"
      },
      "execution_count": null,
      "outputs": [
        {
          "output_type": "execute_result",
          "data": {
            "text/plain": [
              "[<__main__.Book at 0x7eff478463d0>,\n",
              " <__main__.Book at 0x7eff47846070>,\n",
              " <__main__.Book at 0x7eff47846bb0>]"
            ]
          },
          "metadata": {},
          "execution_count": 6
        }
      ]
    },
    {
      "cell_type": "code",
      "source": [
        "for book in books:\n",
        "    print(f'jezyk: {book.language}, autor: {book.author}')"
      ],
      "metadata": {
        "colab": {
          "base_uri": "https://localhost:8080/"
        },
        "id": "FrHvF0AiNyxs",
        "outputId": "fc5cdcf9-3779-4329-9b25-86d925350c45"
      },
      "execution_count": null,
      "outputs": [
        {
          "output_type": "stream",
          "name": "stdout",
          "text": [
            "jezyk: ENG, autor: Mickiewicz\n",
            "jezyk: ENG, autor: Mickiewicz\n",
            "jezyk: ENG, autor: Mickiewicz\n"
          ]
        }
      ]
    },
    {
      "cell_type": "code",
      "source": [
        "titles = ['sonety', 'pan tadeusz', 'wallenrod']\n",
        "\n",
        "for book, value in zip(books, titles):\n",
        "    # book.title = value\n",
        "    setattr(book, 'title', value)"
      ],
      "metadata": {
        "id": "j6VTrbWdORZt"
      },
      "execution_count": null,
      "outputs": []
    },
    {
      "cell_type": "code",
      "source": [
        "for book in books:\n",
        "    print(f'jezyk: {book.language}, autor: {book.author}, title: {book.title}')"
      ],
      "metadata": {
        "colab": {
          "base_uri": "https://localhost:8080/"
        },
        "id": "OLYIkMSOOdPG",
        "outputId": "595e2129-0641-4244-e551-ba6c0cfb054f"
      },
      "execution_count": null,
      "outputs": [
        {
          "output_type": "stream",
          "name": "stdout",
          "text": [
            "jezyk: ENG, autor: Mickiewicz, title: sonety\n",
            "jezyk: ENG, autor: Mickiewicz, title: pan tadeusz\n",
            "jezyk: ENG, autor: Mickiewicz, title: wallenrod\n"
          ]
        }
      ]
    },
    {
      "cell_type": "code",
      "source": [
        "for book in books:\n",
        "    print(book.__dict__)"
      ],
      "metadata": {
        "colab": {
          "base_uri": "https://localhost:8080/"
        },
        "id": "7Vtpi4keO2RC",
        "outputId": "18506b18-ec67-4dfb-96ed-0b3275c40d3c"
      },
      "execution_count": null,
      "outputs": [
        {
          "output_type": "stream",
          "name": "stdout",
          "text": [
            "{'title': 'sonety'}\n",
            "{'title': 'pan tadeusz'}\n",
            "{'title': 'wallenrod'}\n"
          ]
        }
      ]
    },
    {
      "cell_type": "markdown",
      "source": [
        "# Wywoływalne atrybuty klasy (funkcje) oraz wywoływalne atrybuty instancji (metody)"
      ],
      "metadata": {
        "id": "MS-jE8b-Pn_U"
      }
    },
    {
      "cell_type": "code",
      "source": [
        "class Book:\n",
        "\n",
        "    language = 'ENG'\n",
        "    author = 'Mickiewicz'\n",
        "\n",
        "    def show_det():\n",
        "        print(f'jezyk: {Book.language}, autor: {Book.author}')\n",
        "\n",
        "Book.__dict__"
      ],
      "metadata": {
        "colab": {
          "base_uri": "https://localhost:8080/"
        },
        "id": "na4vYLngPfNx",
        "outputId": "3a0d199b-7e7d-4d44-cba7-c519bac69868"
      },
      "execution_count": null,
      "outputs": [
        {
          "output_type": "execute_result",
          "data": {
            "text/plain": [
              "mappingproxy({'__module__': '__main__',\n",
              "              'language': 'ENG',\n",
              "              'author': 'Mickiewicz',\n",
              "              'show_det': <function __main__.Book.show_det()>,\n",
              "              '__dict__': <attribute '__dict__' of 'Book' objects>,\n",
              "              '__weakref__': <attribute '__weakref__' of 'Book' objects>,\n",
              "              '__doc__': None})"
            ]
          },
          "metadata": {},
          "execution_count": 5
        }
      ]
    },
    {
      "cell_type": "code",
      "source": [
        "Book.show_det()"
      ],
      "metadata": {
        "colab": {
          "base_uri": "https://localhost:8080/"
        },
        "id": "UDbVjuZ2QI1O",
        "outputId": "1c981b89-bc14-4afe-83eb-1eba73482063"
      },
      "execution_count": null,
      "outputs": [
        {
          "output_type": "stream",
          "name": "stdout",
          "text": [
            "jezyk: ENG, autor: Mickiewicz\n"
          ]
        }
      ]
    },
    {
      "cell_type": "code",
      "source": [
        "Book.show_lang = lambda: print(Book.language)\n",
        "Book.__dict__"
      ],
      "metadata": {
        "colab": {
          "base_uri": "https://localhost:8080/"
        },
        "id": "xAC5t0sSQRGE",
        "outputId": "6b8f8bd0-faeb-4b33-eb5f-baa1724dfc24"
      },
      "execution_count": null,
      "outputs": [
        {
          "output_type": "execute_result",
          "data": {
            "text/plain": [
              "mappingproxy({'__module__': '__main__',\n",
              "              'language': 'ENG',\n",
              "              'author': 'Mickiewicz',\n",
              "              'show_det': <function __main__.Book.show_det()>,\n",
              "              '__dict__': <attribute '__dict__' of 'Book' objects>,\n",
              "              '__weakref__': <attribute '__weakref__' of 'Book' objects>,\n",
              "              '__doc__': None,\n",
              "              'show_lang': <function __main__.<lambda>()>})"
            ]
          },
          "metadata": {},
          "execution_count": 7
        }
      ]
    },
    {
      "cell_type": "code",
      "source": [
        "Book.show_lang()"
      ],
      "metadata": {
        "colab": {
          "base_uri": "https://localhost:8080/"
        },
        "id": "MeqOXwU0QpWS",
        "outputId": "c70c1fed-648c-45d4-8408-9e4da71d5ba0"
      },
      "execution_count": null,
      "outputs": [
        {
          "output_type": "stream",
          "name": "stdout",
          "text": [
            "ENG\n"
          ]
        }
      ]
    },
    {
      "cell_type": "code",
      "source": [
        "book1 = Book()\n",
        "book1.__dict__"
      ],
      "metadata": {
        "colab": {
          "base_uri": "https://localhost:8080/"
        },
        "id": "LUXnGvE-QtKu",
        "outputId": "e1ab1cfa-892f-42cb-c478-83272a05de22"
      },
      "execution_count": null,
      "outputs": [
        {
          "output_type": "execute_result",
          "data": {
            "text/plain": [
              "{}"
            ]
          },
          "metadata": {},
          "execution_count": 9
        }
      ]
    },
    {
      "cell_type": "code",
      "source": [
        "book1.show_det"
      ],
      "metadata": {
        "colab": {
          "base_uri": "https://localhost:8080/"
        },
        "id": "ZJvXe0kaQ1ZP",
        "outputId": "0e654609-edf1-4719-c7fe-904fd6bc697f"
      },
      "execution_count": null,
      "outputs": [
        {
          "output_type": "execute_result",
          "data": {
            "text/plain": [
              "<bound method Book.show_det of <__main__.Book object at 0x7f75417dffa0>>"
            ]
          },
          "metadata": {},
          "execution_count": 10
        }
      ]
    },
    {
      "cell_type": "code",
      "source": [
        "book1.show_det() # i to nie dziala"
      ],
      "metadata": {
        "colab": {
          "base_uri": "https://localhost:8080/",
          "height": 166
        },
        "id": "r_G5aP45Q36p",
        "outputId": "c791bfb1-fcd0-4c61-f705-e1f97e1d8d10"
      },
      "execution_count": null,
      "outputs": [
        {
          "output_type": "error",
          "ename": "TypeError",
          "evalue": "ignored",
          "traceback": [
            "\u001b[0;31m---------------------------------------------------------------------------\u001b[0m",
            "\u001b[0;31mTypeError\u001b[0m                                 Traceback (most recent call last)",
            "\u001b[0;32m<ipython-input-11-21b241c6f272>\u001b[0m in \u001b[0;36m<module>\u001b[0;34m\u001b[0m\n\u001b[0;32m----> 1\u001b[0;31m \u001b[0mbook1\u001b[0m\u001b[0;34m.\u001b[0m\u001b[0mshow_det\u001b[0m\u001b[0;34m(\u001b[0m\u001b[0;34m)\u001b[0m\u001b[0;34m\u001b[0m\u001b[0;34m\u001b[0m\u001b[0m\n\u001b[0m",
            "\u001b[0;31mTypeError\u001b[0m: show_det() takes 0 positional arguments but 1 was given"
          ]
        }
      ]
    },
    {
      "cell_type": "code",
      "source": [
        "class Book:\n",
        "\n",
        "    language = 'ENG'\n",
        "    author = 'Mickiewicz'\n",
        "\n",
        "    def show_det(*args):\n",
        "        print(args)\n",
        "        for arg in args:\n",
        "            print(f'{arg} -> {type(arg)}')"
      ],
      "metadata": {
        "id": "zZHAm4tBQ7Jr"
      },
      "execution_count": null,
      "outputs": []
    },
    {
      "cell_type": "code",
      "source": [
        "Book.show_det()"
      ],
      "metadata": {
        "colab": {
          "base_uri": "https://localhost:8080/"
        },
        "id": "kb307eaKSMdB",
        "outputId": "6870778e-e1e2-40e2-f4a1-1dbb9baddc30"
      },
      "execution_count": null,
      "outputs": [
        {
          "output_type": "stream",
          "name": "stdout",
          "text": [
            "()\n"
          ]
        }
      ]
    },
    {
      "cell_type": "code",
      "source": [
        "book1 = Book()\n",
        "book1.show_det()"
      ],
      "metadata": {
        "colab": {
          "base_uri": "https://localhost:8080/"
        },
        "id": "5nzfVqa4SZwX",
        "outputId": "4b6d97e0-f5e9-4761-be01-e49ce7031250"
      },
      "execution_count": null,
      "outputs": [
        {
          "output_type": "stream",
          "name": "stdout",
          "text": [
            "(<__main__.Book object at 0x7f754172a5e0>,)\n",
            "<__main__.Book object at 0x7f754172a5e0> -> <class '__main__.Book'>\n"
          ]
        }
      ]
    },
    {
      "cell_type": "code",
      "source": [
        "book1.show_det('tom 2')"
      ],
      "metadata": {
        "colab": {
          "base_uri": "https://localhost:8080/"
        },
        "id": "mzF3DPOUSlEe",
        "outputId": "e56e2369-930e-412e-d2ca-b72734887413"
      },
      "execution_count": null,
      "outputs": [
        {
          "output_type": "stream",
          "name": "stdout",
          "text": [
            "(<__main__.Book object at 0x7f754172a5e0>, 'tom 2')\n",
            "<__main__.Book object at 0x7f754172a5e0> -> <class '__main__.Book'>\n",
            "tom 2 -> <class 'str'>\n"
          ]
        }
      ]
    },
    {
      "cell_type": "code",
      "source": [
        "book1.show_det('tom 2', 0.345)"
      ],
      "metadata": {
        "colab": {
          "base_uri": "https://localhost:8080/"
        },
        "id": "zP7OQN3BSvWe",
        "outputId": "970b6c2d-38eb-417b-bab2-9f5ede98c8ea"
      },
      "execution_count": null,
      "outputs": [
        {
          "output_type": "stream",
          "name": "stdout",
          "text": [
            "(<__main__.Book object at 0x7f754172a5e0>, 'tom 2', 0.345)\n",
            "<__main__.Book object at 0x7f754172a5e0> -> <class '__main__.Book'>\n",
            "tom 2 -> <class 'str'>\n",
            "0.345 -> <class 'float'>\n"
          ]
        }
      ]
    },
    {
      "cell_type": "code",
      "source": [
        "class Book:\n",
        "\n",
        "    language = 'ENG'\n",
        "    author = 'Mickiewicz'\n",
        "\n",
        "    def set_title(self, value):\n",
        "        self.title = value\n"
      ],
      "metadata": {
        "id": "2nuhVRJxS5Pq"
      },
      "execution_count": null,
      "outputs": []
    },
    {
      "cell_type": "code",
      "source": [
        "book1 = Book()\n",
        "book1"
      ],
      "metadata": {
        "colab": {
          "base_uri": "https://localhost:8080/"
        },
        "id": "m7ypLgdPTT1g",
        "outputId": "99837a73-7a15-4e3b-bfd8-510e23fe7a47"
      },
      "execution_count": null,
      "outputs": [
        {
          "output_type": "execute_result",
          "data": {
            "text/plain": [
              "<__main__.Book at 0x7f754172a130>"
            ]
          },
          "metadata": {},
          "execution_count": 34
        }
      ]
    },
    {
      "cell_type": "code",
      "source": [
        "book1.set_title('Pan Tadeusz')"
      ],
      "metadata": {
        "id": "G7N828C7TX9g"
      },
      "execution_count": null,
      "outputs": []
    },
    {
      "cell_type": "code",
      "source": [
        "book1.__dict__"
      ],
      "metadata": {
        "colab": {
          "base_uri": "https://localhost:8080/"
        },
        "id": "Cb605870Tkbd",
        "outputId": "5f0db943-977a-4898-e2e1-973e04779e0b"
      },
      "execution_count": null,
      "outputs": [
        {
          "output_type": "execute_result",
          "data": {
            "text/plain": [
              "{'title': 'Pan Tadeusz'}"
            ]
          },
          "metadata": {},
          "execution_count": 36
        }
      ]
    },
    {
      "cell_type": "code",
      "source": [
        "book1.title"
      ],
      "metadata": {
        "colab": {
          "base_uri": "https://localhost:8080/",
          "height": 35
        },
        "id": "YbgTo1zxToN7",
        "outputId": "bcfb3d63-0641-4f81-c1fe-e19cd2c80d1f"
      },
      "execution_count": null,
      "outputs": [
        {
          "output_type": "execute_result",
          "data": {
            "text/plain": [
              "'Pan Tadeusz'"
            ],
            "application/vnd.google.colaboratory.intrinsic+json": {
              "type": "string"
            }
          },
          "metadata": {},
          "execution_count": 37
        }
      ]
    },
    {
      "cell_type": "code",
      "source": [
        "Book.title # atrybut title jest na poziomie instancji nie klasy"
      ],
      "metadata": {
        "colab": {
          "base_uri": "https://localhost:8080/",
          "height": 166
        },
        "id": "7CVw7JwATqfx",
        "outputId": "e48e6fbb-65f6-4e9f-eaa4-fe702f5489fa"
      },
      "execution_count": null,
      "outputs": [
        {
          "output_type": "error",
          "ename": "AttributeError",
          "evalue": "ignored",
          "traceback": [
            "\u001b[0;31m---------------------------------------------------------------------------\u001b[0m",
            "\u001b[0;31mAttributeError\u001b[0m                            Traceback (most recent call last)",
            "\u001b[0;32m<ipython-input-38-7bcb715d8b06>\u001b[0m in \u001b[0;36m<module>\u001b[0;34m\u001b[0m\n\u001b[0;32m----> 1\u001b[0;31m \u001b[0mBook\u001b[0m\u001b[0;34m.\u001b[0m\u001b[0mtitle\u001b[0m \u001b[0;31m# atrybut title jest na poziomie instancji nie klasy\u001b[0m\u001b[0;34m\u001b[0m\u001b[0;34m\u001b[0m\u001b[0m\n\u001b[0m",
            "\u001b[0;31mAttributeError\u001b[0m: type object 'Book' has no attribute 'title'"
          ]
        }
      ]
    },
    {
      "cell_type": "code",
      "source": [
        "Book.set_title(book1, 'Konrad Wallenrod')\n",
        "book1.title"
      ],
      "metadata": {
        "colab": {
          "base_uri": "https://localhost:8080/",
          "height": 35
        },
        "id": "RaumsdbzTuxL",
        "outputId": "51c83d6d-b34a-4475-9152-600c8456bf26"
      },
      "execution_count": null,
      "outputs": [
        {
          "output_type": "execute_result",
          "data": {
            "text/plain": [
              "'Konrad Wallenrod'"
            ],
            "application/vnd.google.colaboratory.intrinsic+json": {
              "type": "string"
            }
          },
          "metadata": {},
          "execution_count": 39
        }
      ]
    },
    {
      "cell_type": "code",
      "source": [
        "Book.get_title = lambda self: self.title\n",
        "\n",
        "book1.get_title()"
      ],
      "metadata": {
        "colab": {
          "base_uri": "https://localhost:8080/",
          "height": 35
        },
        "id": "SCGP67jkUEaT",
        "outputId": "1abcdb24-63c3-4b83-d98c-548494a610bd"
      },
      "execution_count": null,
      "outputs": [
        {
          "output_type": "execute_result",
          "data": {
            "text/plain": [
              "'Konrad Wallenrod'"
            ],
            "application/vnd.google.colaboratory.intrinsic+json": {
              "type": "string"
            }
          },
          "metadata": {},
          "execution_count": 42
        }
      ]
    },
    {
      "cell_type": "code",
      "source": [],
      "metadata": {
        "id": "jRp4wa00Uczj"
      },
      "execution_count": null,
      "outputs": []
    },
    {
      "cell_type": "markdown",
      "source": [
        "## Zadanie"
      ],
      "metadata": {
        "id": "BnOxUJMeVI3k"
      }
    },
    {
      "cell_type": "markdown",
      "source": [
        "Podana jest klasa HouseProject, dodaj metode ktora pozwoli ustawic kolor (color)"
      ],
      "metadata": {
        "id": "ZZ8pj_kxVOGm"
      }
    },
    {
      "cell_type": "code",
      "source": [
        "class HouseProject:\n",
        "\n",
        "    number_of_floors = 2\n",
        "    area = 100\n",
        "\n",
        "    def desribe_project():\n",
        "        print(f'area {HouseProject.area}')\n",
        "        print(f'floors {HouseProject.number_of_floors}')\n",
        "\n",
        "    def set_color(self, color):\n",
        "        self.color = color"
      ],
      "metadata": {
        "id": "9pqHUTlBVcSW"
      },
      "execution_count": null,
      "outputs": []
    },
    {
      "cell_type": "code",
      "source": [
        "house1 = HouseProject()\n",
        "house1.set_color('yellow')"
      ],
      "metadata": {
        "id": "gDNmlJgWWAdQ"
      },
      "execution_count": null,
      "outputs": []
    },
    {
      "cell_type": "code",
      "source": [
        "house1.color"
      ],
      "metadata": {
        "colab": {
          "base_uri": "https://localhost:8080/",
          "height": 35
        },
        "id": "hbo4KuT_WV-L",
        "outputId": "227ad2fd-e07d-402f-bcef-cb6dd9c8d71e"
      },
      "execution_count": null,
      "outputs": [
        {
          "output_type": "execute_result",
          "data": {
            "text/plain": [
              "'yellow'"
            ],
            "application/vnd.google.colaboratory.intrinsic+json": {
              "type": "string"
            }
          },
          "metadata": {},
          "execution_count": 47
        }
      ]
    },
    {
      "cell_type": "markdown",
      "source": [
        "# Przestrzeń nazw klasy i instancji"
      ],
      "metadata": {
        "id": "ACZlok0QbSW8"
      }
    },
    {
      "cell_type": "code",
      "source": [
        "class Phone:\n",
        "    pass\n",
        "\n",
        "Phone.__dict__"
      ],
      "metadata": {
        "colab": {
          "base_uri": "https://localhost:8080/"
        },
        "id": "9bHRrlyrWcg3",
        "outputId": "9634aa5b-5248-411c-8f22-67131fb40f9d"
      },
      "execution_count": null,
      "outputs": [
        {
          "output_type": "execute_result",
          "data": {
            "text/plain": [
              "mappingproxy({'__module__': '__main__',\n",
              "              '__dict__': <attribute '__dict__' of 'Phone' objects>,\n",
              "              '__weakref__': <attribute '__weakref__' of 'Phone' objects>,\n",
              "              '__doc__': None})"
            ]
          },
          "metadata": {},
          "execution_count": 48
        }
      ]
    },
    {
      "cell_type": "code",
      "source": [
        "class Phone:\n",
        "    brand = 'Apple'\n",
        "    short_name = brand[:3].upper()\n",
        "\n",
        "Phone.__dict__"
      ],
      "metadata": {
        "colab": {
          "base_uri": "https://localhost:8080/"
        },
        "id": "d7Zq0Twdbesx",
        "outputId": "118a7867-e721-411b-dbae-c31760e5d1a6"
      },
      "execution_count": null,
      "outputs": [
        {
          "output_type": "execute_result",
          "data": {
            "text/plain": [
              "mappingproxy({'__module__': '__main__',\n",
              "              'brand': 'Apple',\n",
              "              'short_name': 'APP',\n",
              "              '__dict__': <attribute '__dict__' of 'Phone' objects>,\n",
              "              '__weakref__': <attribute '__weakref__' of 'Phone' objects>,\n",
              "              '__doc__': None})"
            ]
          },
          "metadata": {},
          "execution_count": 49
        }
      ]
    },
    {
      "cell_type": "code",
      "source": [
        "phone1 = Phone()\n",
        "phone1.brand, phone1.short_name"
      ],
      "metadata": {
        "colab": {
          "base_uri": "https://localhost:8080/"
        },
        "id": "vgfkhPl_b-Pk",
        "outputId": "6aee4a80-0aec-4f28-8829-d82dcf3df447"
      },
      "execution_count": null,
      "outputs": [
        {
          "output_type": "execute_result",
          "data": {
            "text/plain": [
              "('Apple', 'APP')"
            ]
          },
          "metadata": {},
          "execution_count": 50
        }
      ]
    },
    {
      "cell_type": "code",
      "source": [
        "Phone.brand = 'Samsung'\n",
        "phone1.brand, phone1.short_name"
      ],
      "metadata": {
        "colab": {
          "base_uri": "https://localhost:8080/"
        },
        "id": "8cfn4MjuccK1",
        "outputId": "608537bb-7d97-4deb-e0f7-d98f834b396b"
      },
      "execution_count": null,
      "outputs": [
        {
          "output_type": "execute_result",
          "data": {
            "text/plain": [
              "('Samsung', 'APP')"
            ]
          },
          "metadata": {},
          "execution_count": 52
        }
      ]
    },
    {
      "cell_type": "code",
      "source": [
        "class Phone:\n",
        "    brand = 'Apple'\n",
        "    short_name = brand[:3].upper()\n",
        "\n",
        "    def print_brand():\n",
        "        print('Phone class.')\n",
        "        print('Brand: Apple')\n",
        "\n",
        "Phone.print_brand()"
      ],
      "metadata": {
        "colab": {
          "base_uri": "https://localhost:8080/"
        },
        "id": "IucyYKp-clNw",
        "outputId": "02ef77f5-cb1f-4d3b-eb2c-39bbc0d059f8"
      },
      "execution_count": null,
      "outputs": [
        {
          "output_type": "stream",
          "name": "stdout",
          "text": [
            "Phone class.\n",
            "Brand: Apple\n"
          ]
        }
      ]
    },
    {
      "cell_type": "code",
      "source": [
        "class Phone:\n",
        "    brand = 'Apple'\n",
        "    short_name = brand[:3].upper()\n",
        "\n",
        "    def print_brand(self):\n",
        "        print(f'{Phone.__name__} class.')\n",
        "        print(f'Brand: {self.brand}')"
      ],
      "metadata": {
        "id": "S2lcDibadJp5"
      },
      "execution_count": null,
      "outputs": []
    },
    {
      "cell_type": "code",
      "source": [
        "phone1 = Phone()\n",
        "phone1.print_brand()"
      ],
      "metadata": {
        "colab": {
          "base_uri": "https://localhost:8080/"
        },
        "id": "aHbXf5njdWJr",
        "outputId": "a2bcc0a7-a7c2-465a-915d-76fa8af7c401"
      },
      "execution_count": null,
      "outputs": [
        {
          "output_type": "stream",
          "name": "stdout",
          "text": [
            "Phone class.\n",
            "Brand: Apple\n"
          ]
        }
      ]
    },
    {
      "cell_type": "markdown",
      "source": [
        "# Dostep do atrybutu instancji z poziomu funkcji/metody"
      ],
      "metadata": {
        "id": "WTTjKRkieVXg"
      }
    },
    {
      "cell_type": "code",
      "source": [
        "class Phone:\n",
        "\n",
        "    def __init__(self, brand):\n",
        "        self.brand = brand\n",
        "        \n",
        "    def print_brand(self):\n",
        "        print(f'{self.__class__.__name__} class.')\n",
        "        print(f'Brand: {self.brand}')"
      ],
      "metadata": {
        "id": "r3_dD9G7dnxk"
      },
      "execution_count": null,
      "outputs": []
    },
    {
      "cell_type": "code",
      "source": [
        "phone1 = Phone('Apple')\n",
        "phone1.__dict__\n"
      ],
      "metadata": {
        "colab": {
          "base_uri": "https://localhost:8080/"
        },
        "id": "UgZPAKDCCTmC",
        "outputId": "69990040-0c7d-44ba-ff4a-e8c8813a2e11"
      },
      "execution_count": null,
      "outputs": [
        {
          "output_type": "execute_result",
          "data": {
            "text/plain": [
              "{'brand': 'Apple'}"
            ]
          },
          "metadata": {},
          "execution_count": 12
        }
      ]
    },
    {
      "cell_type": "code",
      "source": [
        "phone1.print_brand()"
      ],
      "metadata": {
        "colab": {
          "base_uri": "https://localhost:8080/"
        },
        "id": "g-PY8LOjCgtY",
        "outputId": "1a4e7633-d94d-47cc-9531-f352b0fe9216"
      },
      "execution_count": null,
      "outputs": [
        {
          "output_type": "stream",
          "name": "stdout",
          "text": [
            "Phone class.\n",
            "Brand: Apple\n"
          ]
        }
      ]
    },
    {
      "cell_type": "markdown",
      "source": [
        "# Przestrzeń nazw klasy i instancji"
      ],
      "metadata": {
        "id": "nYBXf6mcDo3N"
      }
    },
    {
      "cell_type": "code",
      "source": [
        "class Phone:\n",
        "\n",
        "    brand = 'Apple' # atrybut klasy\n",
        "\n",
        "    def __init__(self, brand): # tutaj ustawiamy atrybut instancji\n",
        "        self.brand = brand\n",
        "    \n",
        "    def print_brand(self):\n",
        "        print(f'Wartosc atrybutu klasy: {Phone.brand}')\n",
        "        print(f'Wartosc atrybutu instancji: {self.brand}')\n",
        "\n",
        "Phone.__dict__"
      ],
      "metadata": {
        "colab": {
          "base_uri": "https://localhost:8080/"
        },
        "id": "bGWmMsNxC20K",
        "outputId": "a37c0ecc-ecbb-4db8-e757-2e6b18e31ac2"
      },
      "execution_count": null,
      "outputs": [
        {
          "output_type": "execute_result",
          "data": {
            "text/plain": [
              "mappingproxy({'__module__': '__main__',\n",
              "              'brand': 'Apple',\n",
              "              '__init__': <function __main__.Phone.__init__(self, brand)>,\n",
              "              'print_brand': <function __main__.Phone.print_brand(self)>,\n",
              "              '__dict__': <attribute '__dict__' of 'Phone' objects>,\n",
              "              '__weakref__': <attribute '__weakref__' of 'Phone' objects>,\n",
              "              '__doc__': None})"
            ]
          },
          "metadata": {},
          "execution_count": 4
        }
      ]
    },
    {
      "cell_type": "code",
      "source": [
        "phone1 = Phone('Samsung')\n",
        "phone1.print_brand()"
      ],
      "metadata": {
        "colab": {
          "base_uri": "https://localhost:8080/"
        },
        "id": "tWsztetbD_SC",
        "outputId": "778c1c68-c38d-4820-92e2-f4c58c485065"
      },
      "execution_count": null,
      "outputs": [
        {
          "output_type": "stream",
          "name": "stdout",
          "text": [
            "Wartosc atrybutu klasy: Apple\n",
            "Wartosc atrybutu instancji: Samsung\n"
          ]
        }
      ]
    },
    {
      "cell_type": "code",
      "source": [
        "phone1.__dict__"
      ],
      "metadata": {
        "colab": {
          "base_uri": "https://localhost:8080/"
        },
        "id": "Wlh3YXbsENNL",
        "outputId": "cb8cb947-9bea-45d6-d852-534462bedb7b"
      },
      "execution_count": null,
      "outputs": [
        {
          "output_type": "execute_result",
          "data": {
            "text/plain": [
              "{'brand': 'Samsung'}"
            ]
          },
          "metadata": {},
          "execution_count": 8
        }
      ]
    },
    {
      "cell_type": "markdown",
      "source": [],
      "metadata": {
        "id": "mIQI6EBOF6br"
      }
    },
    {
      "cell_type": "markdown",
      "source": [
        "# Przykład"
      ],
      "metadata": {
        "id": "i1CsMQWsF3KK"
      }
    },
    {
      "cell_type": "code",
      "source": [
        "brand = 'HP'\n",
        "\n",
        "class Phone:\n",
        "\n",
        "    brand = 'Apple'\n",
        "    result1 = [brand] * 5\n",
        "    result2 = [brand for i in range(5)] # dziala jak funkcja, klasy nie tworza\n",
        "    # zakresu obejmujacego dla funkcji\n",
        "\n",
        "Phone.__dict__"
      ],
      "metadata": {
        "colab": {
          "base_uri": "https://localhost:8080/"
        },
        "id": "u91GuR2GFHjw",
        "outputId": "0854eba5-45b9-4f4d-ed86-c127426c1236"
      },
      "execution_count": null,
      "outputs": [
        {
          "output_type": "execute_result",
          "data": {
            "text/plain": [
              "mappingproxy({'__module__': '__main__',\n",
              "              'brand': 'Apple',\n",
              "              'result1': ['Apple', 'Apple', 'Apple', 'Apple', 'Apple'],\n",
              "              'result2': ['HP', 'HP', 'HP', 'HP', 'HP'],\n",
              "              '__dict__': <attribute '__dict__' of 'Phone' objects>,\n",
              "              '__weakref__': <attribute '__weakref__' of 'Phone' objects>,\n",
              "              '__doc__': None})"
            ]
          },
          "metadata": {},
          "execution_count": 2
        }
      ]
    },
    {
      "cell_type": "code",
      "source": [
        "#zadanie\n",
        "class Book:\n",
        "    language = 'ENG'\n",
        "    is_ebook = True\n",
        "    \n",
        "book_1 = Book()\n",
        "book_1.author = 'Dan Brown'\n",
        "book_1.title = 'Inferno'\n",
        "\n",
        "book_2 = Book()\n",
        "book_2.author = 'Dan Brown'\n",
        "book_2.title = 'The Da Vinci Code'\n",
        "book_2.year_of_publishment = 2003\n",
        "\n",
        "print(book_1.__dict__)\n",
        "print(book_2.__dict__)"
      ],
      "metadata": {
        "colab": {
          "base_uri": "https://localhost:8080/"
        },
        "id": "w3UVZUxEGTgD",
        "outputId": "4d026ca6-d0de-4687-be0e-628fe75937b4"
      },
      "execution_count": null,
      "outputs": [
        {
          "output_type": "stream",
          "name": "stdout",
          "text": [
            "{'author': 'Dan Brown', 'title': 'Inferno'}\n",
            "{'author': 'Dan Brown', 'title': 'The Da Vinci Code', 'year_of_publishment': 2003}\n"
          ]
        }
      ]
    },
    {
      "cell_type": "markdown",
      "source": [
        "Zdefiniowana jest klasa Book. Zaimplementuj metodę o nazwie set_title(), która pozwoli ustawić atrybut instancji o nazwie title (nie dokonuj żadnej walidacji ustawianej wartości). Następnie utwórz instancję klasy Book o nazwie book i wykorzystując metodę set_title() ustaw atrybut title na wartość 'Angels & Demons'.\n",
        "\n",
        "W odpowiedzi wydrukuj wartość atrybutu title obiektu book."
      ],
      "metadata": {
        "id": "-mpsyyyOIngQ"
      }
    },
    {
      "cell_type": "code",
      "source": [
        "class Book:\n",
        "    language = 'ENG'\n",
        "    is_ebook = True\n",
        "\n",
        "    def set_title(self, title):\n",
        "        self.title = title\n",
        "\n",
        "\n",
        "book = Book()\n",
        "book.set_title('Angels & Demons')\n",
        "print(book.title)"
      ],
      "metadata": {
        "colab": {
          "base_uri": "https://localhost:8080/",
          "height": 35
        },
        "id": "5zHuWTLCHcbB",
        "outputId": "d1df9bb3-74ea-4b1d-effd-23daa49e04e4"
      },
      "execution_count": null,
      "outputs": [
        {
          "output_type": "execute_result",
          "data": {
            "text/plain": [
              "'Angels & Demons'"
            ],
            "application/vnd.google.colaboratory.intrinsic+json": {
              "type": "string"
            }
          },
          "metadata": {},
          "execution_count": 1
        }
      ]
    },
    {
      "cell_type": "code",
      "source": [],
      "metadata": {
        "id": "41BYQgTcJNAV"
      },
      "execution_count": null,
      "outputs": []
    }
  ]
}