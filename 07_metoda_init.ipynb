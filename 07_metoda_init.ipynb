{
  "nbformat": 4,
  "nbformat_minor": 0,
  "metadata": {
    "colab": {
      "provenance": [],
      "authorship_tag": "ABX9TyOWSkj6z5sUBT9QaZFcb4P/",
      "include_colab_link": true
    },
    "kernelspec": {
      "name": "python3",
      "display_name": "Python 3"
    },
    "language_info": {
      "name": "python"
    }
  },
  "cells": [
    {
      "cell_type": "markdown",
      "metadata": {
        "id": "view-in-github",
        "colab_type": "text"
      },
      "source": [
        "<a href=\"https://colab.research.google.com/github/MikolajKasprzyk/programowanie_obiektowe/blob/main/07_metoda_init.ipynb\" target=\"_parent\"><img src=\"https://colab.research.google.com/assets/colab-badge.svg\" alt=\"Open In Colab\"/></a>"
      ]
    },
    {
      "cell_type": "markdown",
      "source": [
        " # Metoda `__init__()`\n",
        "\n"
      ],
      "metadata": {
        "id": "lCHL8PSKKUO0"
      }
    },
    {
      "cell_type": "code",
      "execution_count": null,
      "metadata": {
        "colab": {
          "base_uri": "https://localhost:8080/"
        },
        "id": "7FJa07EKKS3y",
        "outputId": "f896900a-830f-4e73-c3ea-f933a5934d84"
      },
      "outputs": [
        {
          "output_type": "stream",
          "name": "stdout",
          "text": [
            "Help on class Phone in module __main__:\n",
            "\n",
            "class Phone(builtins.object)\n",
            " |  Phone class\n",
            " |  \n",
            " |  Data descriptors defined here:\n",
            " |  \n",
            " |  __dict__\n",
            " |      dictionary for instance variables (if defined)\n",
            " |  \n",
            " |  __weakref__\n",
            " |      list of weak references to the object (if defined)\n",
            "\n"
          ]
        }
      ],
      "source": [
        "class Phone:\n",
        "    \"\"\"Phone class\"\"\"\n",
        "\n",
        "help(Phone)"
      ]
    },
    {
      "cell_type": "code",
      "source": [
        "help(object)"
      ],
      "metadata": {
        "colab": {
          "base_uri": "https://localhost:8080/"
        },
        "id": "yOpk3CNSK3Xw",
        "outputId": "a157c514-6a89-4e8f-9244-15d1eb34ea60"
      },
      "execution_count": null,
      "outputs": [
        {
          "output_type": "stream",
          "name": "stdout",
          "text": [
            "Help on class object in module builtins:\n",
            "\n",
            "class object\n",
            " |  The base class of the class hierarchy.\n",
            " |  \n",
            " |  When called, it accepts no arguments and returns a new featureless\n",
            " |  instance that has no instance attributes and cannot be given any.\n",
            " |  \n",
            " |  Built-in subclasses:\n",
            " |      async_generator\n",
            " |      BaseException\n",
            " |      builtin_function_or_method\n",
            " |      bytearray\n",
            " |      ... and 100 other subclasses\n",
            " |  \n",
            " |  Methods defined here:\n",
            " |  \n",
            " |  __delattr__(self, name, /)\n",
            " |      Implement delattr(self, name).\n",
            " |  \n",
            " |  __dir__(self, /)\n",
            " |      Default dir() implementation.\n",
            " |  \n",
            " |  __eq__(self, value, /)\n",
            " |      Return self==value.\n",
            " |  \n",
            " |  __format__(self, format_spec, /)\n",
            " |      Default object formatter.\n",
            " |  \n",
            " |  __ge__(self, value, /)\n",
            " |      Return self>=value.\n",
            " |  \n",
            " |  __getattribute__(self, name, /)\n",
            " |      Return getattr(self, name).\n",
            " |  \n",
            " |  __gt__(self, value, /)\n",
            " |      Return self>value.\n",
            " |  \n",
            " |  __hash__(self, /)\n",
            " |      Return hash(self).\n",
            " |  \n",
            " |  __init__(self, /, *args, **kwargs)\n",
            " |      Initialize self.  See help(type(self)) for accurate signature.\n",
            " |  \n",
            " |  __le__(self, value, /)\n",
            " |      Return self<=value.\n",
            " |  \n",
            " |  __lt__(self, value, /)\n",
            " |      Return self<value.\n",
            " |  \n",
            " |  __ne__(self, value, /)\n",
            " |      Return self!=value.\n",
            " |  \n",
            " |  __reduce__(self, /)\n",
            " |      Helper for pickle.\n",
            " |  \n",
            " |  __reduce_ex__(self, protocol, /)\n",
            " |      Helper for pickle.\n",
            " |  \n",
            " |  __repr__(self, /)\n",
            " |      Return repr(self).\n",
            " |  \n",
            " |  __setattr__(self, name, value, /)\n",
            " |      Implement setattr(self, name, value).\n",
            " |  \n",
            " |  __sizeof__(self, /)\n",
            " |      Size of object in memory, in bytes.\n",
            " |  \n",
            " |  __str__(self, /)\n",
            " |      Return str(self).\n",
            " |  \n",
            " |  ----------------------------------------------------------------------\n",
            " |  Class methods defined here:\n",
            " |  \n",
            " |  __init_subclass__(...) from builtins.type\n",
            " |      This method is called when a class is subclassed.\n",
            " |      \n",
            " |      The default implementation does nothing. It may be\n",
            " |      overridden to extend subclasses.\n",
            " |  \n",
            " |  __subclasshook__(...) from builtins.type\n",
            " |      Abstract classes can override this to customize issubclass().\n",
            " |      \n",
            " |      This is invoked early on by abc.ABCMeta.__subclasscheck__().\n",
            " |      It should return True, False or NotImplemented.  If it returns\n",
            " |      NotImplemented, the normal algorithm is used.  Otherwise, it\n",
            " |      overrides the normal algorithm (and the outcome is cached).\n",
            " |  \n",
            " |  ----------------------------------------------------------------------\n",
            " |  Static methods defined here:\n",
            " |  \n",
            " |  __new__(*args, **kwargs) from builtins.type\n",
            " |      Create and return a new object.  See help(type) for accurate signature.\n",
            " |  \n",
            " |  ----------------------------------------------------------------------\n",
            " |  Data and other attributes defined here:\n",
            " |  \n",
            " |  __class__ = <class 'type'>\n",
            " |      type(object_or_name, bases, dict)\n",
            " |      type(object) -> the object's type\n",
            " |      type(name, bases, dict) -> a new type\n",
            "\n"
          ]
        }
      ]
    },
    {
      "cell_type": "code",
      "source": [
        "help(object.__init__)"
      ],
      "metadata": {
        "colab": {
          "base_uri": "https://localhost:8080/"
        },
        "id": "JrhJh476K_Kr",
        "outputId": "bad02747-c62d-400e-dbd6-c1d4fa8e0831"
      },
      "execution_count": null,
      "outputs": [
        {
          "output_type": "stream",
          "name": "stdout",
          "text": [
            "Help on wrapper_descriptor:\n",
            "\n",
            "__init__(self, /, *args, **kwargs)\n",
            "    Initialize self.  See help(type(self)) for accurate signature.\n",
            "\n"
          ]
        }
      ]
    },
    {
      "cell_type": "code",
      "source": [
        "class Phone:\n",
        "    \"\"\"Phone class\"\"\"\n",
        "\n",
        "    def __init__(self):\n",
        "        print(f'Inicjalizacja nowego obiektu {self}')\n",
        "\n"
      ],
      "metadata": {
        "id": "blhBinN-LHG2"
      },
      "execution_count": null,
      "outputs": []
    },
    {
      "cell_type": "code",
      "source": [
        "Phone()"
      ],
      "metadata": {
        "colab": {
          "base_uri": "https://localhost:8080/"
        },
        "id": "1UnMKBROLVBA",
        "outputId": "364ac1a2-99e1-4335-b28e-42935b066a77"
      },
      "execution_count": null,
      "outputs": [
        {
          "output_type": "stream",
          "name": "stdout",
          "text": [
            "Inicjalizacja nowego obiektu <__main__.Phone object at 0x7f4cc1ebcc10>\n"
          ]
        },
        {
          "output_type": "execute_result",
          "data": {
            "text/plain": [
              "<__main__.Phone at 0x7f4cc1ebcc10>"
            ]
          },
          "metadata": {},
          "execution_count": 6
        }
      ]
    },
    {
      "cell_type": "code",
      "source": [
        "phone1 = Phone()"
      ],
      "metadata": {
        "colab": {
          "base_uri": "https://localhost:8080/"
        },
        "id": "IEUuLpwqLZxp",
        "outputId": "4a7d65ec-0a31-4cc6-9e12-9864effc0868"
      },
      "execution_count": null,
      "outputs": [
        {
          "output_type": "stream",
          "name": "stdout",
          "text": [
            "Inicjalizacja nowego obiektu <__main__.Phone object at 0x7f4cc1e517c0>\n"
          ]
        }
      ]
    },
    {
      "cell_type": "markdown",
      "source": [
        "# Wywołanie klasy"
      ],
      "metadata": {
        "id": "yuaZKHtoL4F_"
      }
    },
    {
      "cell_type": "markdown",
      "source": [
        "Kiedy wywołujemy klasę, dzieją się dwie rzeczy:\n",
        "\n",
        "\n",
        "*   Python wykonuje na klasie `__new__()` tworząc obiekt konkretnej klasy\n",
        "    \n",
        "    `instance = ClassName.__new__(ClassName, *args, **kwargs)`\n",
        "*   Python wykonuje na instancji metodę `__init__()` inicjując tworzony obiekt:\n",
        "\n",
        "    `instance.__init__(*args, **kwargs)`\n",
        "\n"
      ],
      "metadata": {
        "id": "WdgmxphVL8YC"
      }
    },
    {
      "cell_type": "code",
      "source": [
        "help(object.__new__)"
      ],
      "metadata": {
        "colab": {
          "base_uri": "https://localhost:8080/"
        },
        "id": "3_wrVS6jLqv4",
        "outputId": "b8434eea-5cc5-426f-e0c1-2a88babad5bd"
      },
      "execution_count": null,
      "outputs": [
        {
          "output_type": "stream",
          "name": "stdout",
          "text": [
            "Help on built-in function __new__:\n",
            "\n",
            "__new__(*args, **kwargs) method of builtins.type instance\n",
            "    Create and return a new object.  See help(type) for accurate signature.\n",
            "\n"
          ]
        }
      ]
    },
    {
      "cell_type": "code",
      "source": [
        "help(object.__init__)"
      ],
      "metadata": {
        "colab": {
          "base_uri": "https://localhost:8080/"
        },
        "id": "cvGYVO_RNUCr",
        "outputId": "c6bbdabb-8346-4284-cede-cd39fa4d8db9"
      },
      "execution_count": null,
      "outputs": [
        {
          "output_type": "stream",
          "name": "stdout",
          "text": [
            "Help on wrapper_descriptor:\n",
            "\n",
            "__init__(self, /, *args, **kwargs)\n",
            "    Initialize self.  See help(type(self)) for accurate signature.\n",
            "\n"
          ]
        }
      ]
    },
    {
      "cell_type": "code",
      "source": [
        "class Phone:\n",
        "    pass\n",
        "\n",
        "phone1 = Phone()\n"
      ],
      "metadata": {
        "id": "m1vd2-AFNXWh"
      },
      "execution_count": null,
      "outputs": []
    },
    {
      "cell_type": "code",
      "source": [
        "phone2 = Phone.__new__(Phone)\n",
        "phone2.__init__()"
      ],
      "metadata": {
        "id": "De_n38N2NfQa"
      },
      "execution_count": null,
      "outputs": []
    },
    {
      "cell_type": "code",
      "source": [
        "class Phone:\n",
        "\n",
        "    def __init__(self):\n",
        "        print(f'Incjalizacja nowego obiektu {self}')"
      ],
      "metadata": {
        "id": "j8yp0SxPNkMk"
      },
      "execution_count": null,
      "outputs": []
    },
    {
      "cell_type": "code",
      "source": [
        "phone1 = Phone()"
      ],
      "metadata": {
        "colab": {
          "base_uri": "https://localhost:8080/"
        },
        "id": "5EPA-xlbOEUU",
        "outputId": "694103d7-f305-4199-b4a9-e691e7b1b8d3"
      },
      "execution_count": null,
      "outputs": [
        {
          "output_type": "stream",
          "name": "stdout",
          "text": [
            "Incjalizacja nowego obiektu <__main__.Phone object at 0x7f479bcd5370>\n"
          ]
        }
      ]
    },
    {
      "cell_type": "code",
      "source": [
        "class Phone:\n",
        "\n",
        "    def __init__(self, brand):\n",
        "        print(f'Incjalizacja nowego obiektu {self}')\n",
        "        self.brand = brand"
      ],
      "metadata": {
        "id": "Sd6MW-sOOGke"
      },
      "execution_count": null,
      "outputs": []
    },
    {
      "cell_type": "code",
      "source": [
        "phone1 = Phone('Apple')"
      ],
      "metadata": {
        "colab": {
          "base_uri": "https://localhost:8080/"
        },
        "id": "V7dSTxp8OOPt",
        "outputId": "363252fb-3814-4c34-e13f-fd268cb8aca6"
      },
      "execution_count": null,
      "outputs": [
        {
          "output_type": "stream",
          "name": "stdout",
          "text": [
            "Incjalizacja nowego obiektu <__main__.Phone object at 0x7f13c9eae9a0>\n"
          ]
        }
      ]
    },
    {
      "cell_type": "code",
      "source": [
        "phone1.brand"
      ],
      "metadata": {
        "colab": {
          "base_uri": "https://localhost:8080/",
          "height": 35
        },
        "id": "OEgKOFHtOVxH",
        "outputId": "4b6c946e-c0da-4d5f-d8a3-928a4778c7c4"
      },
      "execution_count": null,
      "outputs": [
        {
          "output_type": "execute_result",
          "data": {
            "text/plain": [
              "'Apple'"
            ],
            "application/vnd.google.colaboratory.intrinsic+json": {
              "type": "string"
            }
          },
          "metadata": {},
          "execution_count": 7
        }
      ]
    },
    {
      "cell_type": "markdown",
      "source": [
        "# Zadanie\n",
        "\n",
        "Zaimplementuj klase o nazwie `Laptop` posiadającą metodę `__init__()`, która na etapie tworzenia instancji przypisze następujące atrybuty instancji:\n",
        "*   brand\n",
        "*   model\n",
        "*   price\n",
        "\n"
      ],
      "metadata": {
        "id": "Aun9nI3gO7BS"
      }
    },
    {
      "cell_type": "code",
      "source": [
        "class Laptop:\n",
        "\n",
        "    def __init__(self, brand, model, price):\n",
        "        self.brand = brand\n",
        "        self.model = model\n",
        "        self.price = price"
      ],
      "metadata": {
        "id": "kAOrw085OfzR"
      },
      "execution_count": null,
      "outputs": []
    },
    {
      "cell_type": "code",
      "source": [
        "laptop1 = Laptop('Asus', 'NJV550', 4500)"
      ],
      "metadata": {
        "id": "ZYKswKFrPuYx"
      },
      "execution_count": null,
      "outputs": []
    },
    {
      "cell_type": "code",
      "source": [
        "laptop1.brand"
      ],
      "metadata": {
        "colab": {
          "base_uri": "https://localhost:8080/",
          "height": 35
        },
        "id": "faXvdvQLP3gU",
        "outputId": "971b6e41-d961-4863-87c1-b2564afad525"
      },
      "execution_count": null,
      "outputs": [
        {
          "output_type": "execute_result",
          "data": {
            "text/plain": [
              "'Asus'"
            ],
            "application/vnd.google.colaboratory.intrinsic+json": {
              "type": "string"
            }
          },
          "metadata": {},
          "execution_count": 14
        }
      ]
    },
    {
      "cell_type": "markdown",
      "source": [
        "# Przykład"
      ],
      "metadata": {
        "id": "G2617-sqQr41"
      }
    },
    {
      "cell_type": "code",
      "source": [
        "class Laptop:\n",
        "\n",
        "    def __init__(self, brand, model, price):\n",
        "        self.brand = brand\n",
        "        self.model = model\n",
        "        self.price = price\n",
        "    \n",
        "    def print_attrs(self):\n",
        "        for attr, value in self.__dict__.items():\n",
        "            print(f'{attr} -> {value}')"
      ],
      "metadata": {
        "id": "Gg5F1ZVMP9Km"
      },
      "execution_count": null,
      "outputs": []
    },
    {
      "cell_type": "code",
      "source": [
        "laptop1 = Laptop('Asus', 'NJV550', 4500)"
      ],
      "metadata": {
        "id": "_vq4-VjhRGPa"
      },
      "execution_count": null,
      "outputs": []
    },
    {
      "cell_type": "code",
      "source": [
        "laptop1.print_attrs()"
      ],
      "metadata": {
        "colab": {
          "base_uri": "https://localhost:8080/"
        },
        "id": "a_9uh6QQRK9F",
        "outputId": "71715497-a8e9-459b-d617-016c82d248e7"
      },
      "execution_count": null,
      "outputs": [
        {
          "output_type": "stream",
          "name": "stdout",
          "text": [
            "brand -> Asus\n",
            "model -> NJV550\n",
            "price -> 4500\n"
          ]
        }
      ]
    },
    {
      "cell_type": "markdown",
      "source": [
        "# Przykład\n",
        "\n",
        "zaimplementuj klase wekto ktora przyjmuje dowolna ilosc argumentów"
      ],
      "metadata": {
        "id": "5Fg7nNpjSV1W"
      }
    },
    {
      "cell_type": "code",
      "source": [
        "class Vector:\n",
        "\n",
        "    def __init__(self, *components):\n",
        "        self.components = components"
      ],
      "metadata": {
        "id": "HOvgU4ucRP7V"
      },
      "execution_count": null,
      "outputs": []
    },
    {
      "cell_type": "code",
      "source": [
        "v1 = Vector(3, 4)\n",
        "v1.components"
      ],
      "metadata": {
        "colab": {
          "base_uri": "https://localhost:8080/"
        },
        "id": "AFQ1pDHBSqKF",
        "outputId": "4c4d4d6b-5d2c-48d3-ab40-1541c23790b1"
      },
      "execution_count": null,
      "outputs": [
        {
          "output_type": "execute_result",
          "data": {
            "text/plain": [
              "(3, 4)"
            ]
          },
          "metadata": {},
          "execution_count": 20
        }
      ]
    },
    {
      "cell_type": "code",
      "source": [
        "v2 = Vector(5, 3, -2)\n",
        "v2.components"
      ],
      "metadata": {
        "colab": {
          "base_uri": "https://localhost:8080/"
        },
        "id": "aiPg5MuVStg8",
        "outputId": "b1b7f2cf-9226-4953-82e5-8527b24cb3fe"
      },
      "execution_count": null,
      "outputs": [
        {
          "output_type": "execute_result",
          "data": {
            "text/plain": [
              "(5, 3, -2)"
            ]
          },
          "metadata": {},
          "execution_count": 21
        }
      ]
    },
    {
      "cell_type": "markdown",
      "source": [
        "# Przykład"
      ],
      "metadata": {
        "id": "pLBIrZljTKQZ"
      }
    },
    {
      "cell_type": "code",
      "source": [
        "class TechStack:\n",
        "\n",
        "    def __init__(self, **techs):\n",
        "        self.techs = techs"
      ],
      "metadata": {
        "id": "Ke1S7ylSS5bf"
      },
      "execution_count": null,
      "outputs": []
    },
    {
      "cell_type": "code",
      "source": [
        "stack = TechStack(python='mid')"
      ],
      "metadata": {
        "id": "k4DgNuXcTgnA"
      },
      "execution_count": null,
      "outputs": []
    },
    {
      "cell_type": "code",
      "source": [
        "stack.techs"
      ],
      "metadata": {
        "colab": {
          "base_uri": "https://localhost:8080/"
        },
        "id": "J4LkhumaTlj4",
        "outputId": "78950246-8dc5-436a-dac1-1bcf57931ed4"
      },
      "execution_count": null,
      "outputs": [
        {
          "output_type": "execute_result",
          "data": {
            "text/plain": [
              "{'python': 'mid'}"
            ]
          },
          "metadata": {},
          "execution_count": 24
        }
      ]
    },
    {
      "cell_type": "code",
      "source": [
        "stack2 = TechStack(python='mid', java='senior')"
      ],
      "metadata": {
        "id": "ZBTkVVWPTpfF"
      },
      "execution_count": null,
      "outputs": []
    },
    {
      "cell_type": "code",
      "source": [
        "stack2.techs"
      ],
      "metadata": {
        "colab": {
          "base_uri": "https://localhost:8080/"
        },
        "id": "QdYOfZrQTwyL",
        "outputId": "074457b2-271a-4058-c17d-b7e97033c025"
      },
      "execution_count": null,
      "outputs": [
        {
          "output_type": "execute_result",
          "data": {
            "text/plain": [
              "{'python': 'mid', 'java': 'senior'}"
            ]
          },
          "metadata": {},
          "execution_count": 26
        }
      ]
    },
    {
      "cell_type": "code",
      "source": [
        "class TechStack:\n",
        "\n",
        "    def __init__(self, **techs):\n",
        "        for tech, level in techs.items():\n",
        "            setattr(self, tech, level)  # tu notacja kropkowa nie robi"
      ],
      "metadata": {
        "id": "nCEGUomtTzUT"
      },
      "execution_count": null,
      "outputs": []
    },
    {
      "cell_type": "code",
      "source": [
        "stack3 = TechStack(python='mid', java='senior')"
      ],
      "metadata": {
        "id": "wTPEKGgGYQQ4"
      },
      "execution_count": null,
      "outputs": []
    },
    {
      "cell_type": "code",
      "source": [
        "stack3.__dict__"
      ],
      "metadata": {
        "colab": {
          "base_uri": "https://localhost:8080/"
        },
        "id": "xofzFo1lYUM_",
        "outputId": "3b193766-e841-4ba0-b1a6-50a70a7eb49a"
      },
      "execution_count": null,
      "outputs": [
        {
          "output_type": "execute_result",
          "data": {
            "text/plain": [
              "{'python': 'mid', 'java': 'senior'}"
            ]
          },
          "metadata": {},
          "execution_count": 39
        }
      ]
    },
    {
      "cell_type": "code",
      "source": [
        "stack3.python"
      ],
      "metadata": {
        "colab": {
          "base_uri": "https://localhost:8080/",
          "height": 35
        },
        "id": "H32evX3SYXFu",
        "outputId": "480e4554-3d78-472a-dd77-ad4f9ee9fd96"
      },
      "execution_count": null,
      "outputs": [
        {
          "output_type": "execute_result",
          "data": {
            "text/plain": [
              "'mid'"
            ],
            "application/vnd.google.colaboratory.intrinsic+json": {
              "type": "string"
            }
          },
          "metadata": {},
          "execution_count": 40
        }
      ]
    },
    {
      "cell_type": "code",
      "source": [
        "class TechStack:\n",
        "\n",
        "    def __init__(self, **techs):\n",
        "        for tech, level in techs.items():\n",
        "            setattr(self, tech, level)\n",
        "\n",
        "    def display_info(self):\n",
        "        print(f'Total numbers of tech: {len(self.__dict__)}')"
      ],
      "metadata": {
        "id": "1KLCPio-ZXBW"
      },
      "execution_count": null,
      "outputs": []
    },
    {
      "cell_type": "code",
      "source": [
        "stack3 = TechStack(python='mid', java='senior', sql='mid')"
      ],
      "metadata": {
        "id": "yjL8ExLnZ1LU"
      },
      "execution_count": null,
      "outputs": []
    },
    {
      "cell_type": "code",
      "source": [
        "stack3.display_info()"
      ],
      "metadata": {
        "colab": {
          "base_uri": "https://localhost:8080/"
        },
        "id": "ghgOPiNkZ4Se",
        "outputId": "3a43480f-a370-4a61-fa53-42554caced8b"
      },
      "execution_count": null,
      "outputs": [
        {
          "output_type": "stream",
          "name": "stdout",
          "text": [
            "Total numbers of tech: 3\n"
          ]
        }
      ]
    },
    {
      "cell_type": "markdown",
      "source": [
        "# Walidacja"
      ],
      "metadata": {
        "id": "xOITm1P2aJn2"
      }
    },
    {
      "cell_type": "code",
      "source": [
        "class Phone:\n",
        "\n",
        "    def __init__(self, brand, model, price):\n",
        "        self.brand = brand\n",
        "        self.model = model\n",
        "        \n",
        "        if isinstance(price, (int, float)):\n",
        "            self.price = price\n",
        "        else:\n",
        "            raise TypeError('Price must be int or float')\n"
      ],
      "metadata": {
        "id": "zCnThnqCZ6km"
      },
      "execution_count": null,
      "outputs": []
    },
    {
      "cell_type": "code",
      "source": [
        "phone1 = Phone('Apple', 'Iphone SE', 'hhh')\n",
        "phone1.brand, phone1.model, phone1.price"
      ],
      "metadata": {
        "colab": {
          "base_uri": "https://localhost:8080/",
          "height": 270
        },
        "id": "J_vf3ohIabXR",
        "outputId": "ef8283ba-021c-41bb-f287-c7d361b7fff3"
      },
      "execution_count": null,
      "outputs": [
        {
          "output_type": "error",
          "ename": "TypeError",
          "evalue": "ignored",
          "traceback": [
            "\u001b[0;31m---------------------------------------------------------------------------\u001b[0m",
            "\u001b[0;31mTypeError\u001b[0m                                 Traceback (most recent call last)",
            "\u001b[0;32m<ipython-input-4-a4113895e10a>\u001b[0m in \u001b[0;36m<module>\u001b[0;34m\u001b[0m\n\u001b[0;32m----> 1\u001b[0;31m \u001b[0mphone1\u001b[0m \u001b[0;34m=\u001b[0m \u001b[0mPhone\u001b[0m\u001b[0;34m(\u001b[0m\u001b[0;34m'Apple'\u001b[0m\u001b[0;34m,\u001b[0m \u001b[0;34m'Iphone SE'\u001b[0m\u001b[0;34m,\u001b[0m \u001b[0;34m'hhh'\u001b[0m\u001b[0;34m)\u001b[0m\u001b[0;34m\u001b[0m\u001b[0;34m\u001b[0m\u001b[0m\n\u001b[0m\u001b[1;32m      2\u001b[0m \u001b[0mphone1\u001b[0m\u001b[0;34m.\u001b[0m\u001b[0mbrand\u001b[0m\u001b[0;34m,\u001b[0m \u001b[0mphone1\u001b[0m\u001b[0;34m.\u001b[0m\u001b[0mmodel\u001b[0m\u001b[0;34m,\u001b[0m \u001b[0mphone1\u001b[0m\u001b[0;34m.\u001b[0m\u001b[0mprice\u001b[0m\u001b[0;34m\u001b[0m\u001b[0;34m\u001b[0m\u001b[0m\n",
            "\u001b[0;32m<ipython-input-2-66f571a1e862>\u001b[0m in \u001b[0;36m__init__\u001b[0;34m(self, brand, model, price)\u001b[0m\n\u001b[1;32m      8\u001b[0m             \u001b[0mself\u001b[0m\u001b[0;34m.\u001b[0m\u001b[0mprice\u001b[0m \u001b[0;34m=\u001b[0m \u001b[0mprice\u001b[0m\u001b[0;34m\u001b[0m\u001b[0;34m\u001b[0m\u001b[0m\n\u001b[1;32m      9\u001b[0m         \u001b[0;32melse\u001b[0m\u001b[0;34m:\u001b[0m\u001b[0;34m\u001b[0m\u001b[0;34m\u001b[0m\u001b[0m\n\u001b[0;32m---> 10\u001b[0;31m             \u001b[0;32mraise\u001b[0m \u001b[0mTypeError\u001b[0m\u001b[0;34m(\u001b[0m\u001b[0;34m'Price must be int or float'\u001b[0m\u001b[0;34m)\u001b[0m\u001b[0;34m\u001b[0m\u001b[0;34m\u001b[0m\u001b[0m\n\u001b[0m",
            "\u001b[0;31mTypeError\u001b[0m: Price must be int or float"
          ]
        }
      ]
    },
    {
      "cell_type": "code",
      "source": [
        "phone1 = Phone('Apple', 'Iphone SE', 6754.3)\n",
        "phone1.brand, phone1.model, phone1.price"
      ],
      "metadata": {
        "colab": {
          "base_uri": "https://localhost:8080/"
        },
        "id": "9cNZOdSSbdFK",
        "outputId": "b3d2cebb-1ca2-458d-daa1-daa2b2279e2f"
      },
      "execution_count": null,
      "outputs": [
        {
          "output_type": "execute_result",
          "data": {
            "text/plain": [
              "('Apple', 'Iphone SE', 6754.3)"
            ]
          },
          "metadata": {},
          "execution_count": 5
        }
      ]
    },
    {
      "cell_type": "markdown",
      "source": [
        "Nadal przy takiej walidacji warunek jest sprawdzany w momencie tworzenia instancji. Potem mozna go nadpisać na cokolwiek i nikt nas nie powstrzyma"
      ],
      "metadata": {
        "id": "CSPYjp_tb7pS"
      }
    },
    {
      "cell_type": "code",
      "source": [
        "phone1.price = '###'"
      ],
      "metadata": {
        "id": "N6LSQhi2briU"
      },
      "execution_count": null,
      "outputs": []
    },
    {
      "cell_type": "markdown",
      "source": [
        "# Zadanie\n",
        "metoda show_details() drukuje inf na temat atrybutow instancji"
      ],
      "metadata": {
        "id": "Heeiwo9tcRIt"
      }
    },
    {
      "cell_type": "code",
      "source": [
        "class Phone:\n",
        "\n",
        "    def __init__(self, brand, model, price):\n",
        "        self.brand = brand\n",
        "        self.model = model\n",
        "        \n",
        "        if isinstance(price, (int, float)):\n",
        "            self.price = price\n",
        "        else:\n",
        "            raise TypeError('Price must be int or float')\n",
        "        \n",
        "    def show_details(self):\n",
        "            for attr_name, attr_value in self.__dict__.items():\n",
        "                print(f'{attr_name.capitalize()} : {attr_value}')\n",
        "\n",
        "    def pln_to_usd(self):\n",
        "        self.price = self.price / 4\n"
      ],
      "metadata": {
        "id": "TdixYd4OcPUQ"
      },
      "execution_count": null,
      "outputs": []
    },
    {
      "cell_type": "code",
      "source": [
        "phone1 = Phone('Apple', 'Iphone SE', 2199)"
      ],
      "metadata": {
        "id": "w0fUCyLEcvdd"
      },
      "execution_count": null,
      "outputs": []
    },
    {
      "cell_type": "code",
      "source": [
        "phone1.show_details()"
      ],
      "metadata": {
        "colab": {
          "base_uri": "https://localhost:8080/"
        },
        "id": "8IxXhdmRc0hm",
        "outputId": "d328e44c-6cb6-41d1-ef49-ee3862709a7e"
      },
      "execution_count": null,
      "outputs": [
        {
          "output_type": "stream",
          "name": "stdout",
          "text": [
            "Brand : Apple\n",
            "Model : Iphone SE\n",
            "Price : 2199\n"
          ]
        }
      ]
    },
    {
      "cell_type": "code",
      "source": [
        "phone1.pln_to_usd()\n",
        "phone1.show_details()"
      ],
      "metadata": {
        "colab": {
          "base_uri": "https://localhost:8080/"
        },
        "id": "UBAuD1Kwc23w",
        "outputId": "1d2794ba-9ec1-4cb1-b17c-31d1297bbd05"
      },
      "execution_count": null,
      "outputs": [
        {
          "output_type": "stream",
          "name": "stdout",
          "text": [
            "Brand : Apple\n",
            "Model : Iphone SE\n",
            "Price : 137.4375\n"
          ]
        }
      ]
    },
    {
      "cell_type": "markdown",
      "source": [
        "# Przykład"
      ],
      "metadata": {
        "id": "OIwY_lrRp9de"
      }
    },
    {
      "cell_type": "code",
      "source": [
        "class TechStack:\n",
        "\n",
        "    def __init__(self, tech='PYTHON'): # jak nie nada sie innej wart. to przypisana\n",
        "        self.tech = tech                # zostaje domyslna - tutaj PYTHON\n",
        "        \n",
        "    def display_info(self):\n",
        "        if self.tech:\n",
        "            print(f'Techs: {self.tech}')\n",
        "        else:\n",
        "            print('No techs')\n",
        "\n",
        "        "
      ],
      "metadata": {
        "id": "5jQB9C23hkLz"
      },
      "execution_count": null,
      "outputs": []
    },
    {
      "cell_type": "code",
      "source": [
        "stack = TechStack()\n",
        "stack.display_info()"
      ],
      "metadata": {
        "colab": {
          "base_uri": "https://localhost:8080/"
        },
        "id": "OkGejUJ_qLrS",
        "outputId": "bd988463-7a93-48a7-edd4-9f32ef03b30e"
      },
      "execution_count": null,
      "outputs": [
        {
          "output_type": "stream",
          "name": "stdout",
          "text": [
            "Techs: PYTHON\n"
          ]
        }
      ]
    },
    {
      "cell_type": "code",
      "source": [
        "stack = TechStack('Java')\n",
        "stack.display_info()"
      ],
      "metadata": {
        "colab": {
          "base_uri": "https://localhost:8080/"
        },
        "id": "nC_y2kFOqY64",
        "outputId": "49b8199b-d2bb-4b40-e3b4-ce895a227ad7"
      },
      "execution_count": null,
      "outputs": [
        {
          "output_type": "stream",
          "name": "stdout",
          "text": [
            "Techs: Java\n"
          ]
        }
      ]
    },
    {
      "cell_type": "code",
      "source": [],
      "metadata": {
        "id": "HBwd2UBJq4zw"
      },
      "execution_count": null,
      "outputs": []
    }
  ]
}