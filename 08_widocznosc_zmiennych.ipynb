{
  "nbformat": 4,
  "nbformat_minor": 0,
  "metadata": {
    "colab": {
      "provenance": [],
      "authorship_tag": "ABX9TyNeUq4mrj4DHIxMdI3Fpvf0",
      "include_colab_link": true
    },
    "kernelspec": {
      "name": "python3",
      "display_name": "Python 3"
    },
    "language_info": {
      "name": "python"
    }
  },
  "cells": [
    {
      "cell_type": "markdown",
      "metadata": {
        "id": "view-in-github",
        "colab_type": "text"
      },
      "source": [
        "<a href=\"https://colab.research.google.com/github/MikolajKasprzyk/programowanie_obiektowe/blob/main/08_widocznosc_zmiennych.ipynb\" target=\"_parent\"><img src=\"https://colab.research.google.com/assets/colab-badge.svg\" alt=\"Open In Colab\"/></a>"
      ]
    },
    {
      "cell_type": "markdown",
      "source": [
        "# Widoczność zmiennych\n",
        "\n",
        "rodzaje zmiennych/atrybutów ze względu na widoczność\n",
        "\n",
        "\n",
        "*   publiczne - dostęp mają wszyscy, np. `var1`, `var2`\n",
        "*   chronione - dostęp mają klasy dziedziczące, np. `_var1`, `_var2`\n",
        "*   prywatne - dostęp ma tylko ta klasa, np. `__var1`, `__var2`\n"
      ],
      "metadata": {
        "id": "kF7uTW3iytwG"
      }
    },
    {
      "cell_type": "code",
      "execution_count": null,
      "metadata": {
        "colab": {
          "base_uri": "https://localhost:8080/"
        },
        "id": "b1puhuS2yjSr",
        "outputId": "65f4be20-d436-43b2-c5f1-b93403c99dea"
      },
      "outputs": [
        {
          "output_type": "execute_result",
          "data": {
            "text/plain": [
              "mappingproxy({'__module__': '__main__',\n",
              "              'brand': 'Apple',\n",
              "              '_code': '0034',\n",
              "              '_Laptop__wholesale_price': 2490,\n",
              "              '__dict__': <attribute '__dict__' of 'Laptop' objects>,\n",
              "              '__weakref__': <attribute '__weakref__' of 'Laptop' objects>,\n",
              "              '__doc__': None})"
            ]
          },
          "metadata": {},
          "execution_count": 3
        }
      ],
      "source": [
        "class Laptop:\n",
        "\n",
        "    brand = 'Apple' # atrybut publiczny\n",
        "    _code = '0034'  # atrybut chroniony\n",
        "    __wholesale_price = 2490 # atr. prywatny\n",
        "\n",
        "Laptop.__dict__"
      ]
    },
    {
      "cell_type": "code",
      "source": [
        "Laptop._Laptop__wholesale_price # tak trzeba wywolac atr. ukryty"
      ],
      "metadata": {
        "colab": {
          "base_uri": "https://localhost:8080/"
        },
        "id": "RmWSY5gLzyTI",
        "outputId": "cf2f4045-f116-410c-ba73-dd3578ba57c6"
      },
      "execution_count": null,
      "outputs": [
        {
          "output_type": "execute_result",
          "data": {
            "text/plain": [
              "2490"
            ]
          },
          "metadata": {},
          "execution_count": 4
        }
      ]
    },
    {
      "cell_type": "markdown",
      "source": [
        "## Przykład"
      ],
      "metadata": {
        "id": "MbtTFgP70nF2"
      }
    },
    {
      "cell_type": "code",
      "source": [
        "class Laptop:\n",
        "\n",
        "    brand = 'Apple'\n",
        "    _usdpln = 4.0\n",
        "    __trade_margin = 0.3\n",
        "\n",
        "    def __init__(self, net_price):\n",
        "        self.net_price = net_price\n",
        "\n",
        "    def _convert_price(price):\n",
        "        return price * Laptop._usdpln * (1 + Laptop._Laptop__trade_margin) \n",
        "# jak odwolujemy sie do atr prywatnych wewnatrz klasy to nie trzeba tego\n",
        "# dodatkowego _Laptop ale spoza klasy już trzeba\n",
        "    def display_price_pln(self):\n",
        "        print(Laptop._convert_price(self.net_price))\n",
        "\n",
        "Laptop.__dict__"
      ],
      "metadata": {
        "colab": {
          "base_uri": "https://localhost:8080/"
        },
        "id": "fBw4rEZ90dEO",
        "outputId": "8e8f91c7-d7fc-4460-b9e9-8e6afe587d5e"
      },
      "execution_count": null,
      "outputs": [
        {
          "output_type": "execute_result",
          "data": {
            "text/plain": [
              "mappingproxy({'__module__': '__main__',\n",
              "              'brand': 'Apple',\n",
              "              '_usdpln': 4.0,\n",
              "              '_Laptop__trade_margin': 0.3,\n",
              "              '__init__': <function __main__.Laptop.__init__(self, net_price)>,\n",
              "              '_convert_price': <function __main__.Laptop._convert_price(price)>,\n",
              "              'display_price_pln': <function __main__.Laptop.display_price_pln(self)>,\n",
              "              '__dict__': <attribute '__dict__' of 'Laptop' objects>,\n",
              "              '__weakref__': <attribute '__weakref__' of 'Laptop' objects>,\n",
              "              '__doc__': None})"
            ]
          },
          "metadata": {},
          "execution_count": 6
        }
      ]
    },
    {
      "cell_type": "code",
      "source": [
        "laptop = Laptop(3000)"
      ],
      "metadata": {
        "id": "ggCQK96416EH"
      },
      "execution_count": null,
      "outputs": []
    },
    {
      "cell_type": "code",
      "source": [
        "laptop.display_price_pln()"
      ],
      "metadata": {
        "colab": {
          "base_uri": "https://localhost:8080/"
        },
        "id": "ex4Qu7_c2G1y",
        "outputId": "f5a98593-9070-46cd-fc44-820496613501"
      },
      "execution_count": null,
      "outputs": [
        {
          "output_type": "stream",
          "name": "stdout",
          "text": [
            "15600.0\n"
          ]
        }
      ]
    },
    {
      "cell_type": "markdown",
      "source": [
        "## Atrybuty instancji"
      ],
      "metadata": {
        "id": "9zRZ0CZA3A-F"
      }
    },
    {
      "cell_type": "code",
      "source": [
        "class Laptop:\n",
        "\n",
        "    def __init__(self, brand, code, wholesale_price):\n",
        "        self.brand = brand\n",
        "        self._code = code\n",
        "        self.__wholesale_price = wholesale_price\n",
        "\n",
        "laptop = Laptop('Apple', '3456', 3000)\n",
        "laptop.brand, laptop._code, laptop._Laptop__wholesale_price"
      ],
      "metadata": {
        "colab": {
          "base_uri": "https://localhost:8080/"
        },
        "id": "e4RHMyzE2y5z",
        "outputId": "cdfea1e8-e3b9-46c9-d847-833c68add8ca"
      },
      "execution_count": null,
      "outputs": [
        {
          "output_type": "execute_result",
          "data": {
            "text/plain": [
              "('Apple', '3456', 3000)"
            ]
          },
          "metadata": {},
          "execution_count": 9
        }
      ]
    },
    {
      "cell_type": "code",
      "source": [
        "laptop.__dict__"
      ],
      "metadata": {
        "colab": {
          "base_uri": "https://localhost:8080/"
        },
        "id": "1A0st_JM3Jhq",
        "outputId": "a4790f05-d89a-4270-ae92-d5469e483e84"
      },
      "execution_count": null,
      "outputs": [
        {
          "output_type": "execute_result",
          "data": {
            "text/plain": [
              "{'brand': 'Apple', '_code': '3456', '_Laptop__wholesale_price': 3000}"
            ]
          },
          "metadata": {},
          "execution_count": 10
        }
      ]
    },
    {
      "cell_type": "code",
      "source": [
        "class Laptop:\n",
        "\n",
        "    def __init__(self, brand, code, wholesale_price):\n",
        "        self.brand = brand\n",
        "        self._code = code\n",
        "        self.__wholesale_price = wholesale_price\n",
        "\n",
        "    def info(self):\n",
        "        print(self.brand)\n",
        "        print(self._code)\n",
        "        print(self.__wholesale_price)\n",
        "\n",
        "laptop = Laptop('Apple', '3456', 3000)\n",
        "laptop.brand, laptop._code, laptop._Laptop__wholesale_price"
      ],
      "metadata": {
        "colab": {
          "base_uri": "https://localhost:8080/"
        },
        "id": "_nBuyVKp4ZR_",
        "outputId": "ad460e74-ec0c-4443-9599-80149cc5ae71"
      },
      "execution_count": null,
      "outputs": [
        {
          "output_type": "execute_result",
          "data": {
            "text/plain": [
              "('Apple', '3456', 3000)"
            ]
          },
          "metadata": {},
          "execution_count": 2
        }
      ]
    },
    {
      "cell_type": "code",
      "source": [
        "laptop.info()"
      ],
      "metadata": {
        "colab": {
          "base_uri": "https://localhost:8080/"
        },
        "id": "sVtFvG824vwj",
        "outputId": "ec279ba2-517e-4dcd-ef71-79cf55617309"
      },
      "execution_count": null,
      "outputs": [
        {
          "output_type": "stream",
          "name": "stdout",
          "text": [
            "Apple\n",
            "3456\n",
            "3000\n"
          ]
        }
      ]
    },
    {
      "cell_type": "markdown",
      "source": [
        "## Przykład"
      ],
      "metadata": {
        "id": "ZnL8JO2w5YWM"
      }
    },
    {
      "cell_type": "code",
      "source": [
        "class HouseProject:\n",
        "\n",
        "    def __init__(self, area, number_of_floors):\n",
        "        self.area = area\n",
        "        self.number_of_floors = number_of_floors\n",
        "\n",
        "    def info(self):\n",
        "        print(f'Area: {self.area}')\n",
        "        print(f'Nuber of floors: {self.number_of_floors}')\n",
        "\n",
        "\n",
        "# ta funkcja jest zdefiniowana poza klasą\n",
        "def info_ext(instance):\n",
        "    print(f'Area: {instance.area}')\n",
        "    print(f'Nuber of floors: {instance.number_of_floors}')\n",
        "\n",
        "project = HouseProject(100, 1)"
      ],
      "metadata": {
        "id": "xv0cIz-D41Cm"
      },
      "execution_count": null,
      "outputs": []
    },
    {
      "cell_type": "code",
      "source": [
        "project.info()"
      ],
      "metadata": {
        "colab": {
          "base_uri": "https://localhost:8080/"
        },
        "id": "4MDqeF-56RLZ",
        "outputId": "0e88c535-2ee6-4457-90d8-8e4f6e4c5237"
      },
      "execution_count": null,
      "outputs": [
        {
          "output_type": "stream",
          "name": "stdout",
          "text": [
            "Area: 100\n",
            "Nuber of floors: 1\n"
          ]
        }
      ]
    },
    {
      "cell_type": "code",
      "source": [
        "info_ext(project)"
      ],
      "metadata": {
        "colab": {
          "base_uri": "https://localhost:8080/"
        },
        "id": "VQ9ze-Fh6Uh2",
        "outputId": "7b125383-1172-49ec-ae52-0e83b0a561fa"
      },
      "execution_count": null,
      "outputs": [
        {
          "output_type": "stream",
          "name": "stdout",
          "text": [
            "Area: 100\n",
            "Nuber of floors: 1\n"
          ]
        }
      ]
    },
    {
      "cell_type": "code",
      "source": [
        "# teraz oba atrybuty ustawiamy jako chronione, i w sumie niewiele to zmienia\n",
        "\n",
        "\n",
        "class HouseProject:\n",
        "\n",
        "    def __init__(self, area, number_of_floors):\n",
        "        self._area = area\n",
        "        self._number_of_floors = number_of_floors\n",
        "\n",
        "    def info(self):\n",
        "        print(f'Area: {self._area}')\n",
        "        print(f'Nuber of floors: {self._number_of_floors}')\n",
        "\n",
        "\n",
        "# ta funkcja jest zdefiniowana poza klasą\n",
        "def info_ext(instance):\n",
        "    print(f'Area: {instance._area}')\n",
        "    print(f'Nuber of floors: {instance._number_of_floors}')\n",
        "\n",
        "project = HouseProject(100, 1)"
      ],
      "metadata": {
        "id": "kwcFWfWc6YTj"
      },
      "execution_count": null,
      "outputs": []
    },
    {
      "cell_type": "code",
      "source": [
        "project.info()"
      ],
      "metadata": {
        "colab": {
          "base_uri": "https://localhost:8080/"
        },
        "id": "tO88BJXR7YOm",
        "outputId": "fe288c69-0b08-4d60-c6f8-4cc1937d08a2"
      },
      "execution_count": null,
      "outputs": [
        {
          "output_type": "stream",
          "name": "stdout",
          "text": [
            "Area: 100\n",
            "Nuber of floors: 1\n"
          ]
        }
      ]
    },
    {
      "cell_type": "code",
      "source": [
        "info_ext(project)"
      ],
      "metadata": {
        "colab": {
          "base_uri": "https://localhost:8080/"
        },
        "id": "E-4BQD2N7bA7",
        "outputId": "9fbc3d3d-3cda-4576-94a7-f582c152adf3"
      },
      "execution_count": null,
      "outputs": [
        {
          "output_type": "stream",
          "name": "stdout",
          "text": [
            "Area: 100\n",
            "Nuber of floors: 1\n"
          ]
        }
      ]
    },
    {
      "cell_type": "code",
      "source": [
        "# teraz oba atrybuty ustawiamy jako prywatne, i zeby funkcja info_ext dzialala\n",
        "# trzeba dodac _HoseProject przed odwolaniem do tych atr\n",
        "\n",
        "class HouseProject:\n",
        "\n",
        "    def __init__(self, area, number_of_floors):\n",
        "        self.__area = area\n",
        "        self.__number_of_floors = number_of_floors\n",
        "\n",
        "    def info(self):\n",
        "        print(f'Area: {self.__area}')\n",
        "        print(f'Nuber of floors: {self.__number_of_floors}')\n",
        "\n",
        "\n",
        "# ta funkcja jest zdefiniowana poza klasą\n",
        "def info_ext(instance):\n",
        "    print(f'Area: {instance._HouseProject__area}')\n",
        "    print(f'Nuber of floors: {instance._HouseProject__number_of_floors}')\n",
        "\n",
        "project = HouseProject(100, 1)"
      ],
      "metadata": {
        "id": "JsYhtbcu7c3n"
      },
      "execution_count": null,
      "outputs": []
    },
    {
      "cell_type": "code",
      "source": [
        "project.info()"
      ],
      "metadata": {
        "colab": {
          "base_uri": "https://localhost:8080/"
        },
        "id": "JPIFki-Z70aW",
        "outputId": "0f3a75d2-bd27-4d43-b450-50a020d32e18"
      },
      "execution_count": null,
      "outputs": [
        {
          "output_type": "stream",
          "name": "stdout",
          "text": [
            "Area: 100\n",
            "Nuber of floors: 1\n"
          ]
        }
      ]
    },
    {
      "cell_type": "code",
      "source": [
        "info_ext(project)"
      ],
      "metadata": {
        "colab": {
          "base_uri": "https://localhost:8080/"
        },
        "id": "114aKn2m75Zr",
        "outputId": "2a7c9623-04cd-4f6a-d918-f1ef56564492"
      },
      "execution_count": null,
      "outputs": [
        {
          "output_type": "stream",
          "name": "stdout",
          "text": [
            "Area: 100\n",
            "Nuber of floors: 1\n"
          ]
        }
      ]
    },
    {
      "cell_type": "code",
      "source": [],
      "metadata": {
        "id": "iEtQpzHi77ej"
      },
      "execution_count": null,
      "outputs": []
    }
  ]
}