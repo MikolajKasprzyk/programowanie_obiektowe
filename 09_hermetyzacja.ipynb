{
  "nbformat": 4,
  "nbformat_minor": 0,
  "metadata": {
    "colab": {
      "provenance": [],
      "authorship_tag": "ABX9TyOEsh6lKtE5cNQ/HEH8adcz",
      "include_colab_link": true
    },
    "kernelspec": {
      "name": "python3",
      "display_name": "Python 3"
    },
    "language_info": {
      "name": "python"
    }
  },
  "cells": [
    {
      "cell_type": "markdown",
      "metadata": {
        "id": "view-in-github",
        "colab_type": "text"
      },
      "source": [
        "<a href=\"https://colab.research.google.com/github/MikolajKasprzyk/programowanie_obiektowe/blob/main/09_hermetyzacja.ipynb\" target=\"_parent\"><img src=\"https://colab.research.google.com/assets/colab-badge.svg\" alt=\"Open In Colab\"/></a>"
      ]
    },
    {
      "cell_type": "markdown",
      "source": [
        "# Hermetyzacja/Enkapsulacja"
      ],
      "metadata": {
        "id": "CXV3u6ST-V7H"
      }
    },
    {
      "cell_type": "code",
      "execution_count": null,
      "metadata": {
        "colab": {
          "base_uri": "https://localhost:8080/"
        },
        "id": "q0xXDUF5-Q2a",
        "outputId": "7f447dab-78d1-4334-b483-7cb33999e226"
      },
      "outputs": [
        {
          "output_type": "execute_result",
          "data": {
            "text/plain": [
              "{'_price': 2000}"
            ]
          },
          "metadata": {},
          "execution_count": 8
        }
      ],
      "source": [
        "class Phone:\n",
        "\n",
        "    def __init__(self, price):\n",
        "        self._price = price\n",
        "\n",
        "    def get_price(self):\n",
        "        return self._price\n",
        "\n",
        "    def set_price(self, value):\n",
        "        self._price = value\n",
        "\n",
        "\n",
        "phone = Phone(2000)\n",
        "phone.__dict__"
      ]
    },
    {
      "cell_type": "code",
      "source": [
        "phone.get_price()"
      ],
      "metadata": {
        "colab": {
          "base_uri": "https://localhost:8080/"
        },
        "id": "79eK-6rL--CE",
        "outputId": "bc37f2d4-80fc-4774-9c5d-ecc3b449506f"
      },
      "execution_count": null,
      "outputs": [
        {
          "output_type": "execute_result",
          "data": {
            "text/plain": [
              "2000"
            ]
          },
          "metadata": {},
          "execution_count": 9
        }
      ]
    },
    {
      "cell_type": "code",
      "source": [
        "phone.set_price(3500)"
      ],
      "metadata": {
        "id": "ga4QgmrO_l_U"
      },
      "execution_count": null,
      "outputs": []
    },
    {
      "cell_type": "markdown",
      "source": [
        "## Walidacja"
      ],
      "metadata": {
        "id": "wGH1U6VB_43i"
      }
    },
    {
      "cell_type": "code",
      "source": [
        "class Phone:\n",
        "\n",
        "    def __init__(self, price):\n",
        "        self._price = price\n",
        "\n",
        "    def get_price(self):\n",
        "        return self._price\n",
        "\n",
        "    def set_price(self, value):\n",
        "        if isinstance(value, (int, float)) and value > 0:\n",
        "            self._price = value\n",
        "        elif value > 0:\n",
        "            raise TypeError('Price must be int or float')\n",
        "        else:\n",
        "            raise ValueError('Price must be more than 0')\n",
        "\n",
        "phone = Phone(2000)\n",
        "phone.__dict__"
      ],
      "metadata": {
        "colab": {
          "base_uri": "https://localhost:8080/"
        },
        "id": "v437ZEc__pr-",
        "outputId": "4f235b84-dcd7-4240-8857-02de74d9424a"
      },
      "execution_count": null,
      "outputs": [
        {
          "output_type": "execute_result",
          "data": {
            "text/plain": [
              "{'_price': 2000}"
            ]
          },
          "metadata": {},
          "execution_count": 8
        }
      ]
    },
    {
      "cell_type": "code",
      "source": [
        "phone.set_price(-8)"
      ],
      "metadata": {
        "colab": {
          "base_uri": "https://localhost:8080/",
          "height": 288
        },
        "id": "7-sBZFGTAWUp",
        "outputId": "d3bc60d6-d018-4679-9857-c24be7347313"
      },
      "execution_count": null,
      "outputs": [
        {
          "output_type": "error",
          "ename": "ValueError",
          "evalue": "ignored",
          "traceback": [
            "\u001b[0;31m---------------------------------------------------------------------------\u001b[0m",
            "\u001b[0;31mValueError\u001b[0m                                Traceback (most recent call last)",
            "\u001b[0;32m<ipython-input-9-909cb1a768d3>\u001b[0m in \u001b[0;36m<module>\u001b[0;34m\u001b[0m\n\u001b[0;32m----> 1\u001b[0;31m \u001b[0mphone\u001b[0m\u001b[0;34m.\u001b[0m\u001b[0mset_price\u001b[0m\u001b[0;34m(\u001b[0m\u001b[0;34m-\u001b[0m\u001b[0;36m8\u001b[0m\u001b[0;34m)\u001b[0m\u001b[0;34m\u001b[0m\u001b[0;34m\u001b[0m\u001b[0m\n\u001b[0m",
            "\u001b[0;32m<ipython-input-8-5eb7e65734de>\u001b[0m in \u001b[0;36mset_price\u001b[0;34m(self, value)\u001b[0m\n\u001b[1;32m     13\u001b[0m             \u001b[0;32mraise\u001b[0m \u001b[0mTypeError\u001b[0m\u001b[0;34m(\u001b[0m\u001b[0;34m'Price must be int or float'\u001b[0m\u001b[0;34m)\u001b[0m\u001b[0;34m\u001b[0m\u001b[0;34m\u001b[0m\u001b[0m\n\u001b[1;32m     14\u001b[0m         \u001b[0;32melse\u001b[0m\u001b[0;34m:\u001b[0m\u001b[0;34m\u001b[0m\u001b[0;34m\u001b[0m\u001b[0m\n\u001b[0;32m---> 15\u001b[0;31m             \u001b[0;32mraise\u001b[0m \u001b[0mValueError\u001b[0m\u001b[0;34m(\u001b[0m\u001b[0;34m'Price must be more than 0'\u001b[0m\u001b[0;34m)\u001b[0m\u001b[0;34m\u001b[0m\u001b[0;34m\u001b[0m\u001b[0m\n\u001b[0m\u001b[1;32m     16\u001b[0m \u001b[0;34m\u001b[0m\u001b[0m\n\u001b[1;32m     17\u001b[0m \u001b[0mphone\u001b[0m \u001b[0;34m=\u001b[0m \u001b[0mPhone\u001b[0m\u001b[0;34m(\u001b[0m\u001b[0;36m2000\u001b[0m\u001b[0;34m)\u001b[0m\u001b[0;34m\u001b[0m\u001b[0;34m\u001b[0m\u001b[0m\n",
            "\u001b[0;31mValueError\u001b[0m: Price must be more than 0"
          ]
        }
      ]
    },
    {
      "cell_type": "code",
      "source": [
        "phone.set_price(1200.4)"
      ],
      "metadata": {
        "id": "6qO92jGjArxo"
      },
      "execution_count": null,
      "outputs": []
    },
    {
      "cell_type": "code",
      "source": [
        "phone.get_price()"
      ],
      "metadata": {
        "colab": {
          "base_uri": "https://localhost:8080/"
        },
        "id": "CF9uijyHFF46",
        "outputId": "d13160a3-c679-44e1-ea54-3ad94aece901"
      },
      "execution_count": null,
      "outputs": [
        {
          "output_type": "execute_result",
          "data": {
            "text/plain": [
              "1200.4"
            ]
          },
          "metadata": {},
          "execution_count": 11
        }
      ]
    },
    {
      "cell_type": "code",
      "source": [
        "class Phone:\n",
        "\n",
        "    def __init__(self, price):\n",
        "        self.set_price(price) # tu wykorzystujemy zbudowana metode przy\n",
        "                              # tworzeniu obiektu\n",
        "    def get_price(self):\n",
        "        return self._price\n",
        "\n",
        "    def set_price(self, value):\n",
        "        if isinstance(value, (int, float)) and value > 0:\n",
        "            self._price = value\n",
        "        elif value > 0:\n",
        "            raise TypeError('Price must be int or float')\n",
        "        else:\n",
        "            raise ValueError('Price must be more than 0')"
      ],
      "metadata": {
        "id": "ZxIofrNZFJ6_"
      },
      "execution_count": null,
      "outputs": []
    },
    {
      "cell_type": "markdown",
      "source": [
        "## Tworzenie wlaściwości `property()`"
      ],
      "metadata": {
        "id": "RJWh02_tGTLp"
      }
    },
    {
      "cell_type": "code",
      "source": [
        "help(property)"
      ],
      "metadata": {
        "colab": {
          "base_uri": "https://localhost:8080/"
        },
        "id": "0uTEA7YZGRrB",
        "outputId": "a14418ac-5bc9-44b5-c487-2c74c4fd0bdf"
      },
      "execution_count": null,
      "outputs": [
        {
          "output_type": "stream",
          "name": "stdout",
          "text": [
            "Help on class property in module builtins:\n",
            "\n",
            "class property(object)\n",
            " |  property(fget=None, fset=None, fdel=None, doc=None)\n",
            " |  \n",
            " |  Property attribute.\n",
            " |  \n",
            " |    fget\n",
            " |      function to be used for getting an attribute value\n",
            " |    fset\n",
            " |      function to be used for setting an attribute value\n",
            " |    fdel\n",
            " |      function to be used for del'ing an attribute\n",
            " |    doc\n",
            " |      docstring\n",
            " |  \n",
            " |  Typical use is to define a managed attribute x:\n",
            " |  \n",
            " |  class C(object):\n",
            " |      def getx(self): return self._x\n",
            " |      def setx(self, value): self._x = value\n",
            " |      def delx(self): del self._x\n",
            " |      x = property(getx, setx, delx, \"I'm the 'x' property.\")\n",
            " |  \n",
            " |  Decorators make defining new properties or modifying existing ones easy:\n",
            " |  \n",
            " |  class C(object):\n",
            " |      @property\n",
            " |      def x(self):\n",
            " |          \"I am the 'x' property.\"\n",
            " |          return self._x\n",
            " |      @x.setter\n",
            " |      def x(self, value):\n",
            " |          self._x = value\n",
            " |      @x.deleter\n",
            " |      def x(self):\n",
            " |          del self._x\n",
            " |  \n",
            " |  Methods defined here:\n",
            " |  \n",
            " |  __delete__(self, instance, /)\n",
            " |      Delete an attribute of instance.\n",
            " |  \n",
            " |  __get__(self, instance, owner, /)\n",
            " |      Return an attribute of instance, which is of type owner.\n",
            " |  \n",
            " |  __getattribute__(self, name, /)\n",
            " |      Return getattr(self, name).\n",
            " |  \n",
            " |  __init__(self, /, *args, **kwargs)\n",
            " |      Initialize self.  See help(type(self)) for accurate signature.\n",
            " |  \n",
            " |  __set__(self, instance, value, /)\n",
            " |      Set an attribute of instance to value.\n",
            " |  \n",
            " |  deleter(...)\n",
            " |      Descriptor to change the deleter on a property.\n",
            " |  \n",
            " |  getter(...)\n",
            " |      Descriptor to change the getter on a property.\n",
            " |  \n",
            " |  setter(...)\n",
            " |      Descriptor to change the setter on a property.\n",
            " |  \n",
            " |  ----------------------------------------------------------------------\n",
            " |  Static methods defined here:\n",
            " |  \n",
            " |  __new__(*args, **kwargs) from builtins.type\n",
            " |      Create and return a new object.  See help(type) for accurate signature.\n",
            " |  \n",
            " |  ----------------------------------------------------------------------\n",
            " |  Data descriptors defined here:\n",
            " |  \n",
            " |  __isabstractmethod__\n",
            " |  \n",
            " |  fdel\n",
            " |  \n",
            " |  fget\n",
            " |  \n",
            " |  fset\n",
            "\n"
          ]
        }
      ]
    },
    {
      "cell_type": "code",
      "source": [
        "class Phone:\n",
        "\n",
        "    def __init__(self, price):\n",
        "        self._price = price\n",
        "\n",
        "    def get_price(self):\n",
        "        print('getting...')\n",
        "        return self._price\n",
        "\n",
        "phone = Phone(1200)\n",
        "phone.get_price()"
      ],
      "metadata": {
        "colab": {
          "base_uri": "https://localhost:8080/"
        },
        "id": "eo-gQERNGsFL",
        "outputId": "c6f306c6-a010-4d83-9a28-ea444c5176f5"
      },
      "execution_count": null,
      "outputs": [
        {
          "output_type": "stream",
          "name": "stdout",
          "text": [
            "getting...\n"
          ]
        },
        {
          "output_type": "execute_result",
          "data": {
            "text/plain": [
              "1200"
            ]
          },
          "metadata": {},
          "execution_count": 1
        }
      ]
    },
    {
      "cell_type": "code",
      "source": [
        "class Phone:\n",
        "\n",
        "    def __init__(self, price):\n",
        "        self._price = price\n",
        "\n",
        "    def get_price(self):\n",
        "        print('getting...')\n",
        "        return self._price\n",
        "    \n",
        "    price = property(fget=get_price) \n",
        "\n",
        "phone = Phone(1200)\n",
        "Phone.__dict__"
      ],
      "metadata": {
        "colab": {
          "base_uri": "https://localhost:8080/"
        },
        "id": "xRqytJH_HWDw",
        "outputId": "aa8c93db-abd8-416b-a45e-dace46a4450b"
      },
      "execution_count": null,
      "outputs": [
        {
          "output_type": "execute_result",
          "data": {
            "text/plain": [
              "mappingproxy({'__module__': '__main__',\n",
              "              '__init__': <function __main__.Phone.__init__(self, price)>,\n",
              "              'get_price': <function __main__.Phone.get_price(self)>,\n",
              "              'price': <property at 0x7ff3c1000db0>,\n",
              "              '__dict__': <attribute '__dict__' of 'Phone' objects>,\n",
              "              '__weakref__': <attribute '__weakref__' of 'Phone' objects>,\n",
              "              '__doc__': None})"
            ]
          },
          "metadata": {},
          "execution_count": 14
        }
      ]
    },
    {
      "cell_type": "code",
      "source": [
        "phone = Phone(1200)\n",
        "phone.get_price()"
      ],
      "metadata": {
        "colab": {
          "base_uri": "https://localhost:8080/"
        },
        "id": "aysvfWdXHr_m",
        "outputId": "3f0e5e5f-dd2e-4b4b-e69e-9c4ab85d8cb9"
      },
      "execution_count": null,
      "outputs": [
        {
          "output_type": "stream",
          "name": "stdout",
          "text": [
            "getting...\n"
          ]
        },
        {
          "output_type": "execute_result",
          "data": {
            "text/plain": [
              "1200"
            ]
          },
          "metadata": {},
          "execution_count": 16
        }
      ]
    },
    {
      "cell_type": "code",
      "source": [
        "phone.price # i tu wywolywana jest funkcja get_price"
      ],
      "metadata": {
        "colab": {
          "base_uri": "https://localhost:8080/"
        },
        "id": "y__LLxPYH-gA",
        "outputId": "c3313e82-5d3f-4ea4-deb9-199274423fba"
      },
      "execution_count": null,
      "outputs": [
        {
          "output_type": "stream",
          "name": "stdout",
          "text": [
            "getting...\n"
          ]
        },
        {
          "output_type": "execute_result",
          "data": {
            "text/plain": [
              "1200"
            ]
          },
          "metadata": {},
          "execution_count": 10
        }
      ]
    },
    {
      "cell_type": "code",
      "source": [
        "phone.price = 3000 # to nie dziala dzieki property, choc mozna to ustawic inaczej"
      ],
      "metadata": {
        "colab": {
          "base_uri": "https://localhost:8080/",
          "height": 166
        },
        "id": "dOLqDC7bIA4s",
        "outputId": "651613ea-8730-4bab-8664-bdc30e42b17d"
      },
      "execution_count": null,
      "outputs": [
        {
          "output_type": "error",
          "ename": "AttributeError",
          "evalue": "ignored",
          "traceback": [
            "\u001b[0;31m---------------------------------------------------------------------------\u001b[0m",
            "\u001b[0;31mAttributeError\u001b[0m                            Traceback (most recent call last)",
            "\u001b[0;32m<ipython-input-17-4380b3528053>\u001b[0m in \u001b[0;36m<module>\u001b[0;34m\u001b[0m\n\u001b[0;32m----> 1\u001b[0;31m \u001b[0mphone\u001b[0m\u001b[0;34m.\u001b[0m\u001b[0mprice\u001b[0m \u001b[0;34m=\u001b[0m \u001b[0;36m3000\u001b[0m\u001b[0;34m\u001b[0m\u001b[0;34m\u001b[0m\u001b[0m\n\u001b[0m",
            "\u001b[0;31mAttributeError\u001b[0m: can't set attribute"
          ]
        }
      ]
    },
    {
      "cell_type": "markdown",
      "source": [
        "## Property ciag dalszy: getter + setter"
      ],
      "metadata": {
        "id": "BpNa3guvJNSP"
      }
    },
    {
      "cell_type": "code",
      "source": [
        "class Phone:\n",
        "\n",
        "    def __init__(self, price):\n",
        "        self.set_price(price) # tu wykorzystujemy zbudowana metode przy\n",
        "                              # tworzeniu obiektu, ergo mamy walidacje\n",
        "    def get_price(self):\n",
        "        print('getting...')\n",
        "        return self._price\n",
        "\n",
        "    def set_price(self, value):\n",
        "        print('setting...')\n",
        "        if isinstance(value, (int, float)) and value > 0:\n",
        "            self._price = value\n",
        "        elif isinstance(value, (int, float)):\n",
        "            raise ValueError('Price must be more than 0')\n",
        "        else:    \n",
        "            raise TypeError('Price must be int or float')\n",
        "            \n",
        "    \n",
        "    price = property(fget=get_price, fset=set_price) # ustawiamy wlasciwosc\n",
        "                                               # za pomoca funkcji set_price\n",
        "\n",
        "phone = Phone(1200)\n",
        "phone.price"
      ],
      "metadata": {
        "colab": {
          "base_uri": "https://localhost:8080/"
        },
        "id": "Bg_0md7PI8O0",
        "outputId": "2303a9f4-b0c8-4d8f-c467-41c941c620e8"
      },
      "execution_count": null,
      "outputs": [
        {
          "output_type": "stream",
          "name": "stdout",
          "text": [
            "setting...\n",
            "getting...\n"
          ]
        },
        {
          "output_type": "execute_result",
          "data": {
            "text/plain": [
              "1200"
            ]
          },
          "metadata": {},
          "execution_count": 11
        }
      ]
    },
    {
      "cell_type": "code",
      "source": [
        "phone.price = 0"
      ],
      "metadata": {
        "colab": {
          "base_uri": "https://localhost:8080/",
          "height": 305
        },
        "id": "ZZtmmc8uKey9",
        "outputId": "fe914606-4c7e-46bc-a0fe-07a0e37f6b39"
      },
      "execution_count": null,
      "outputs": [
        {
          "output_type": "stream",
          "name": "stdout",
          "text": [
            "setting...\n"
          ]
        },
        {
          "output_type": "error",
          "ename": "ValueError",
          "evalue": "ignored",
          "traceback": [
            "\u001b[0;31m---------------------------------------------------------------------------\u001b[0m",
            "\u001b[0;31mValueError\u001b[0m                                Traceback (most recent call last)",
            "\u001b[0;32m<ipython-input-14-67277fc251a8>\u001b[0m in \u001b[0;36m<module>\u001b[0;34m\u001b[0m\n\u001b[0;32m----> 1\u001b[0;31m \u001b[0mphone\u001b[0m\u001b[0;34m.\u001b[0m\u001b[0mprice\u001b[0m \u001b[0;34m=\u001b[0m \u001b[0;36m0\u001b[0m\u001b[0;34m\u001b[0m\u001b[0;34m\u001b[0m\u001b[0m\n\u001b[0m",
            "\u001b[0;32m<ipython-input-11-d8f2677b2ea6>\u001b[0m in \u001b[0;36mset_price\u001b[0;34m(self, value)\u001b[0m\n\u001b[1;32m     13\u001b[0m             \u001b[0mself\u001b[0m\u001b[0;34m.\u001b[0m\u001b[0m_price\u001b[0m \u001b[0;34m=\u001b[0m \u001b[0mvalue\u001b[0m\u001b[0;34m\u001b[0m\u001b[0;34m\u001b[0m\u001b[0m\n\u001b[1;32m     14\u001b[0m         \u001b[0;32melif\u001b[0m \u001b[0misinstance\u001b[0m\u001b[0;34m(\u001b[0m\u001b[0mvalue\u001b[0m\u001b[0;34m,\u001b[0m \u001b[0;34m(\u001b[0m\u001b[0mint\u001b[0m\u001b[0;34m,\u001b[0m \u001b[0mfloat\u001b[0m\u001b[0;34m)\u001b[0m\u001b[0;34m)\u001b[0m\u001b[0;34m:\u001b[0m\u001b[0;34m\u001b[0m\u001b[0;34m\u001b[0m\u001b[0m\n\u001b[0;32m---> 15\u001b[0;31m             \u001b[0;32mraise\u001b[0m \u001b[0mValueError\u001b[0m\u001b[0;34m(\u001b[0m\u001b[0;34m'Price must be more than 0'\u001b[0m\u001b[0;34m)\u001b[0m\u001b[0;34m\u001b[0m\u001b[0;34m\u001b[0m\u001b[0m\n\u001b[0m\u001b[1;32m     16\u001b[0m         \u001b[0;32melse\u001b[0m\u001b[0;34m:\u001b[0m\u001b[0;34m\u001b[0m\u001b[0;34m\u001b[0m\u001b[0m\n\u001b[1;32m     17\u001b[0m             \u001b[0;32mraise\u001b[0m \u001b[0mTypeError\u001b[0m\u001b[0;34m(\u001b[0m\u001b[0;34m'Price must be int or float'\u001b[0m\u001b[0;34m)\u001b[0m\u001b[0;34m\u001b[0m\u001b[0;34m\u001b[0m\u001b[0m\n",
            "\u001b[0;31mValueError\u001b[0m: Price must be more than 0"
          ]
        }
      ]
    },
    {
      "cell_type": "code",
      "source": [
        "del phone.price # tak atrybuty nie usuniemy jak mamy property"
      ],
      "metadata": {
        "colab": {
          "base_uri": "https://localhost:8080/",
          "height": 166
        },
        "id": "d1j9eSTDKg1c",
        "outputId": "cff22fb3-df89-47fb-c337-cc834b7ca2b6"
      },
      "execution_count": null,
      "outputs": [
        {
          "output_type": "error",
          "ename": "AttributeError",
          "evalue": "ignored",
          "traceback": [
            "\u001b[0;31m---------------------------------------------------------------------------\u001b[0m",
            "\u001b[0;31mAttributeError\u001b[0m                            Traceback (most recent call last)",
            "\u001b[0;32m<ipython-input-15-eaddd3e9ab37>\u001b[0m in \u001b[0;36m<module>\u001b[0;34m\u001b[0m\n\u001b[0;32m----> 1\u001b[0;31m \u001b[0;32mdel\u001b[0m \u001b[0mphone\u001b[0m\u001b[0;34m.\u001b[0m\u001b[0mprice\u001b[0m\u001b[0;34m\u001b[0m\u001b[0;34m\u001b[0m\u001b[0m\n\u001b[0m",
            "\u001b[0;31mAttributeError\u001b[0m: can't delete attribute"
          ]
        }
      ]
    },
    {
      "cell_type": "markdown",
      "source": [
        "## Property cd: getter setter i deleter"
      ],
      "metadata": {
        "id": "vhWUJMptL6xc"
      }
    },
    {
      "cell_type": "code",
      "source": [
        "class Phone:\n",
        "\n",
        "    def __init__(self, price):\n",
        "        self.set_price(price) # tu wykorzystujemy zbudowana metode przy\n",
        "                              # tworzeniu obiektu, ergo mamy walidacje\n",
        "    def get_price(self):\n",
        "        print('getting...')\n",
        "        return self._price\n",
        "\n",
        "    def set_price(self, value):\n",
        "        print('setting...')\n",
        "        if isinstance(value, (int, float)) and value > 0:\n",
        "            self._price = value\n",
        "        elif isinstance(value, (int, float)):\n",
        "            raise ValueError('Price must be more than 0')\n",
        "        else:    \n",
        "            raise TypeError('Price must be int or float')\n",
        "    \n",
        "    def del_price(self):\n",
        "        print('deleting...')\n",
        "        del self._price\n",
        "            \n",
        "    \n",
        "    price = property(fget=get_price, fset=set_price, fdel=del_price)\n",
        "\n"
      ],
      "metadata": {
        "id": "1vb4BmATLlVf"
      },
      "execution_count": null,
      "outputs": []
    },
    {
      "cell_type": "code",
      "source": [
        "phone = Phone(1200)"
      ],
      "metadata": {
        "colab": {
          "base_uri": "https://localhost:8080/"
        },
        "id": "fnpcSSoVMZjS",
        "outputId": "33c4e21d-4855-4b25-cb63-868630c1e6e1"
      },
      "execution_count": null,
      "outputs": [
        {
          "output_type": "stream",
          "name": "stdout",
          "text": [
            "setting...\n"
          ]
        }
      ]
    },
    {
      "cell_type": "code",
      "source": [
        "phone.del_price()"
      ],
      "metadata": {
        "colab": {
          "base_uri": "https://localhost:8080/"
        },
        "id": "VVxgbQ0CMfU_",
        "outputId": "1738b0aa-ace4-42b7-a529-ef6203012906"
      },
      "execution_count": null,
      "outputs": [
        {
          "output_type": "stream",
          "name": "stdout",
          "text": [
            "deleting...\n"
          ]
        }
      ]
    },
    {
      "cell_type": "code",
      "source": [
        "phone.__dict__"
      ],
      "metadata": {
        "colab": {
          "base_uri": "https://localhost:8080/"
        },
        "id": "KDct0BSDMitH",
        "outputId": "a141db68-fb0e-4ff5-916b-0987baf39644"
      },
      "execution_count": null,
      "outputs": [
        {
          "output_type": "execute_result",
          "data": {
            "text/plain": [
              "{}"
            ]
          },
          "metadata": {},
          "execution_count": 40
        }
      ]
    },
    {
      "cell_type": "code",
      "source": [
        "phone.price = 2000"
      ],
      "metadata": {
        "colab": {
          "base_uri": "https://localhost:8080/"
        },
        "id": "t8XMSdDLN0uB",
        "outputId": "4dd5a753-7b10-4dff-853b-3f98970bea08"
      },
      "execution_count": null,
      "outputs": [
        {
          "output_type": "stream",
          "name": "stdout",
          "text": [
            "setting...\n"
          ]
        }
      ]
    },
    {
      "cell_type": "code",
      "source": [
        "phone.price"
      ],
      "metadata": {
        "colab": {
          "base_uri": "https://localhost:8080/"
        },
        "id": "_8iok37VN6dr",
        "outputId": "0b62c2a2-1147-4025-fef5-fb94a7a237fd"
      },
      "execution_count": null,
      "outputs": [
        {
          "output_type": "stream",
          "name": "stdout",
          "text": [
            "getting...\n"
          ]
        },
        {
          "output_type": "execute_result",
          "data": {
            "text/plain": [
              "2000"
            ]
          },
          "metadata": {},
          "execution_count": 42
        }
      ]
    },
    {
      "cell_type": "code",
      "source": [
        "del phone.price # takie wywołanie równiez dziala"
      ],
      "metadata": {
        "colab": {
          "base_uri": "https://localhost:8080/"
        },
        "id": "VAV-EEoZN8bH",
        "outputId": "da142407-09cd-419a-a08a-488c807e270b"
      },
      "execution_count": null,
      "outputs": [
        {
          "output_type": "stream",
          "name": "stdout",
          "text": [
            "deleting...\n"
          ]
        }
      ]
    },
    {
      "cell_type": "code",
      "source": [],
      "metadata": {
        "id": "BZHWNIDJOVHM"
      },
      "execution_count": null,
      "outputs": []
    },
    {
      "cell_type": "markdown",
      "source": [
        "## Property cd: getter setter i deleter + doc"
      ],
      "metadata": {
        "id": "urwtR8ozOt6c"
      }
    },
    {
      "cell_type": "code",
      "source": [
        "class Phone:\n",
        "    \"\"\"Phone class docs.\"\"\"\n",
        "\n",
        "    def __init__(self, price):\n",
        "        self.set_price(price) # tu wykorzystujemy zbudowana metode przy\n",
        "                              # tworzeniu obiektu, ergo mamy walidacje\n",
        "    def get_price(self):\n",
        "        print('getting...')\n",
        "        return self._price\n",
        "\n",
        "    def set_price(self, value):\n",
        "        print('setting...')\n",
        "        if isinstance(value, (int, float)) and value > 0:\n",
        "            self._price = value\n",
        "        elif isinstance(value, (int, float)):\n",
        "            raise ValueError('Price must be more than 0')\n",
        "        else:    \n",
        "            raise TypeError('Price must be int or float')\n",
        "    \n",
        "    def del_price(self):\n",
        "        print('deleting...')\n",
        "        del self._price\n",
        "            \n",
        "    \n",
        "    price = property(fget=get_price, \n",
        "                     fset=set_price, \n",
        "                     fdel=del_price, \n",
        "                     doc='Phone price'\n",
        "                     )\n",
        "\n"
      ],
      "metadata": {
        "id": "_0TfoaeaOyE5"
      },
      "execution_count": null,
      "outputs": []
    },
    {
      "cell_type": "code",
      "source": [
        "phone = Phone(12345)\n",
        "phone.price"
      ],
      "metadata": {
        "colab": {
          "base_uri": "https://localhost:8080/"
        },
        "id": "tbc_QTFIPS4p",
        "outputId": "06ce8855-5fb7-45f2-bc4b-e0099c3468ce"
      },
      "execution_count": null,
      "outputs": [
        {
          "output_type": "stream",
          "name": "stdout",
          "text": [
            "setting...\n",
            "getting...\n"
          ]
        },
        {
          "output_type": "execute_result",
          "data": {
            "text/plain": [
              "12345"
            ]
          },
          "metadata": {},
          "execution_count": 3
        }
      ]
    },
    {
      "cell_type": "markdown",
      "source": [
        "## Dekoratory przypomnienie"
      ],
      "metadata": {
        "id": "hVadjG4IPmQF"
      }
    },
    {
      "cell_type": "code",
      "source": [
        "def hello():\n",
        "    print('Hello Python')\n",
        "\n",
        "hello()"
      ],
      "metadata": {
        "colab": {
          "base_uri": "https://localhost:8080/"
        },
        "id": "heN1Me4-PYDx",
        "outputId": "c565065e-caf8-4e5b-8b74-8636dc89e779"
      },
      "execution_count": null,
      "outputs": [
        {
          "output_type": "stream",
          "name": "stdout",
          "text": [
            "Hello Python\n"
          ]
        }
      ]
    },
    {
      "cell_type": "code",
      "source": [
        "def pretty_print(func):\n",
        "    def wrapper():\n",
        "        print('=' * 30)\n",
        "        func()\n",
        "        print('=' * 30)\n",
        "    return wrapper\n",
        "\n",
        "pretty_print(hello)"
      ],
      "metadata": {
        "colab": {
          "base_uri": "https://localhost:8080/"
        },
        "id": "WUodGwALQCs_",
        "outputId": "bbc4c675-86d3-40a8-adcd-03729333de83"
      },
      "execution_count": null,
      "outputs": [
        {
          "output_type": "execute_result",
          "data": {
            "text/plain": [
              "<function __main__.pretty_print.<locals>.wrapper()>"
            ]
          },
          "metadata": {},
          "execution_count": 2
        }
      ]
    },
    {
      "cell_type": "code",
      "source": [
        "pretty_print(hello)()"
      ],
      "metadata": {
        "colab": {
          "base_uri": "https://localhost:8080/"
        },
        "id": "lWqhUs5QQh--",
        "outputId": "5090359c-84df-4a02-cd12-9fd16f3fe8c5"
      },
      "execution_count": null,
      "outputs": [
        {
          "output_type": "stream",
          "name": "stdout",
          "text": [
            "==============================\n",
            "Hello Python\n",
            "==============================\n"
          ]
        }
      ]
    },
    {
      "cell_type": "code",
      "source": [
        "hello = pretty_print(hello)\n",
        "hello()"
      ],
      "metadata": {
        "colab": {
          "base_uri": "https://localhost:8080/"
        },
        "id": "LMInC1LHQsdX",
        "outputId": "e76636c4-002d-4bd7-98bd-5727bc2c4736"
      },
      "execution_count": null,
      "outputs": [
        {
          "output_type": "stream",
          "name": "stdout",
          "text": [
            "==============================\n",
            "Hello Python\n",
            "==============================\n"
          ]
        }
      ]
    },
    {
      "cell_type": "code",
      "source": [
        "def pretty_print(func):\n",
        "    def wrapper():\n",
        "        print('=' * 30)\n",
        "        func()\n",
        "        print('=' * 30)\n",
        "    return wrapper\n",
        "\n",
        "@pretty_print       # to nam z automatu przepuszcza f. hello przez \n",
        "def hello():        # pretty_print przy jej wywołaniu\n",
        "    print('Hello Python')\n",
        "\n",
        "hello()"
      ],
      "metadata": {
        "colab": {
          "base_uri": "https://localhost:8080/"
        },
        "id": "iJmWKN2wQ1qa",
        "outputId": "083085a7-e7d6-424f-86ca-b469a897a679"
      },
      "execution_count": null,
      "outputs": [
        {
          "output_type": "stream",
          "name": "stdout",
          "text": [
            "==============================\n",
            "Hello Python\n",
            "==============================\n"
          ]
        }
      ]
    },
    {
      "cell_type": "markdown",
      "source": [
        "## Przykład"
      ],
      "metadata": {
        "id": "yGnojU2ITsCa"
      }
    },
    {
      "cell_type": "code",
      "source": [
        "import time\n",
        "\n",
        "\n",
        "def timer(func):\n",
        "    def wrapper(sec):\n",
        "        start = time.time()\n",
        "        func(sec)\n",
        "        stop = time.time()\n",
        "        print(f'Execusion time: {stop - start:.4f}')\n",
        "    return wrapper\n",
        "\n",
        "def fake_sleep(sec):\n",
        "    print(f'Executing {fake_sleep.__name__}...')\n",
        "    time.sleep(sec)\n",
        "\n",
        "\n",
        "\n",
        "timer(fake_sleep)(3)"
      ],
      "metadata": {
        "colab": {
          "base_uri": "https://localhost:8080/"
        },
        "id": "AWJQblk5SJzY",
        "outputId": "de2edb50-b58c-4379-c044-25aabcf45905"
      },
      "execution_count": null,
      "outputs": [
        {
          "output_type": "stream",
          "name": "stdout",
          "text": [
            "Executing fake_sleep...\n",
            "Execusion time: 3.0033\n"
          ]
        }
      ]
    },
    {
      "cell_type": "code",
      "source": [
        "fake_sleep = timer(fake_sleep)\n",
        "fake_sleep(5)"
      ],
      "metadata": {
        "colab": {
          "base_uri": "https://localhost:8080/"
        },
        "id": "UW9OceuYVMht",
        "outputId": "41f2bea7-430f-4f89-f91b-3e22145ca488"
      },
      "execution_count": null,
      "outputs": [
        {
          "output_type": "stream",
          "name": "stdout",
          "text": [
            "Executing wrapper...\n",
            "Execusion time: 5.0052\n"
          ]
        }
      ]
    },
    {
      "cell_type": "markdown",
      "source": [
        "Przy uzyciu lukru skladiowego mozna to zapisac nastepujaco:"
      ],
      "metadata": {
        "id": "84y4hP0te6BM"
      }
    },
    {
      "cell_type": "code",
      "source": [
        "import time\n",
        "\n",
        "\n",
        "def timer(func):\n",
        "    def wrapper(sec):\n",
        "        start = time.time()\n",
        "        func(sec)\n",
        "        stop = time.time()\n",
        "        print(f'Execusion time: {stop - start:.4f}')\n",
        "    return wrapper\n",
        "\n",
        "@timer\n",
        "def fake_sleep(sec):\n",
        "    print(f'Executing {fake_sleep.__name__}...')\n",
        "    time.sleep(sec)\n",
        "\n",
        "\n",
        "fake_sleep(3)\n"
      ],
      "metadata": {
        "colab": {
          "base_uri": "https://localhost:8080/"
        },
        "id": "nZjqd0k8WQ2P",
        "outputId": "f80ee672-f2f3-4cc3-8038-4274f0f08ddb"
      },
      "execution_count": null,
      "outputs": [
        {
          "output_type": "stream",
          "name": "stdout",
          "text": [
            "Executing wrapper...\n",
            "Execusion time: 3.0052\n"
          ]
        }
      ]
    },
    {
      "cell_type": "markdown",
      "source": [
        "## Dekorator `@property`"
      ],
      "metadata": {
        "id": "W_ZnXiUrfp16"
      }
    },
    {
      "cell_type": "code",
      "source": [
        "class Phone:\n",
        "\n",
        "    def __init__(self, price):\n",
        "        self._price = price\n",
        "    # To jest rownowazny zapis do tego co bylo wczesniej robione. Atrybut\n",
        "    # 'price' jest tylko do odczytu\n",
        "    @property\n",
        "    def price(self):\n",
        "        print('getting...')\n",
        "        return self._price\n",
        "\n",
        "Phone.__dict__"
      ],
      "metadata": {
        "colab": {
          "base_uri": "https://localhost:8080/"
        },
        "id": "Ee9n6KuGfOfN",
        "outputId": "9ad84edc-1a6d-48d5-920a-cf9ca8c9ddc1"
      },
      "execution_count": null,
      "outputs": [
        {
          "output_type": "execute_result",
          "data": {
            "text/plain": [
              "mappingproxy({'__module__': '__main__',\n",
              "              '__init__': <function __main__.Phone.__init__(self, price)>,\n",
              "              'price': <property at 0x7f89f9fe7e00>,\n",
              "              '__dict__': <attribute '__dict__' of 'Phone' objects>,\n",
              "              '__weakref__': <attribute '__weakref__' of 'Phone' objects>,\n",
              "              '__doc__': None})"
            ]
          },
          "metadata": {},
          "execution_count": 4
        }
      ]
    },
    {
      "cell_type": "code",
      "source": [
        "phone = Phone(2000)"
      ],
      "metadata": {
        "id": "bEdu12M3jPI6"
      },
      "execution_count": null,
      "outputs": []
    },
    {
      "cell_type": "code",
      "source": [
        "phone.price"
      ],
      "metadata": {
        "colab": {
          "base_uri": "https://localhost:8080/"
        },
        "id": "zf1NA5P4jimt",
        "outputId": "cafc9e17-f6d9-4c7b-b740-6f9fb086c8a5"
      },
      "execution_count": null,
      "outputs": [
        {
          "output_type": "stream",
          "name": "stdout",
          "text": [
            "getting...\n"
          ]
        },
        {
          "output_type": "execute_result",
          "data": {
            "text/plain": [
              "2000"
            ]
          },
          "metadata": {},
          "execution_count": 6
        }
      ]
    },
    {
      "cell_type": "code",
      "source": [
        "phone.price = 1234"
      ],
      "metadata": {
        "colab": {
          "base_uri": "https://localhost:8080/",
          "height": 166
        },
        "id": "ji0V5Pbzj6_6",
        "outputId": "8ab45c16-2129-4e2c-df46-50dad91d9b90"
      },
      "execution_count": null,
      "outputs": [
        {
          "output_type": "error",
          "ename": "AttributeError",
          "evalue": "ignored",
          "traceback": [
            "\u001b[0;31m---------------------------------------------------------------------------\u001b[0m",
            "\u001b[0;31mAttributeError\u001b[0m                            Traceback (most recent call last)",
            "\u001b[0;32m<ipython-input-7-8cc1a09ccd9f>\u001b[0m in \u001b[0;36m<module>\u001b[0;34m\u001b[0m\n\u001b[0;32m----> 1\u001b[0;31m \u001b[0mphone\u001b[0m\u001b[0;34m.\u001b[0m\u001b[0mprice\u001b[0m \u001b[0;34m=\u001b[0m \u001b[0;36m1234\u001b[0m\u001b[0;34m\u001b[0m\u001b[0;34m\u001b[0m\u001b[0m\n\u001b[0m",
            "\u001b[0;31mAttributeError\u001b[0m: can't set attribute"
          ]
        }
      ]
    },
    {
      "cell_type": "markdown",
      "source": [
        "## Dekorator @propety, get + set"
      ],
      "metadata": {
        "id": "5hpMgfAtkdqD"
      }
    },
    {
      "cell_type": "code",
      "source": [
        "class Phone:\n",
        "\n",
        "    def __init__(self, price):\n",
        "        self.set_price(price) # tu wykorzystujemy zbudowana metode przy\n",
        "                              # tworzeniu obiektu, ergo mamy walidacje\n",
        "    @property\n",
        "    def price(self):\n",
        "        print('getting...')\n",
        "        return self._price\n",
        "\n",
        "\n",
        "    def set_price(self, value):\n",
        "        print('setting...')\n",
        "        if isinstance(value, (int, float)) and value > 0:\n",
        "            self._price = value\n",
        "        elif isinstance(value, (int, float)):\n",
        "            raise ValueError('Price must be more than 0')\n",
        "        else:    \n",
        "            raise TypeError('Price must be int or float')\n",
        "\n",
        "    price = price.setter(set_price)   # taki manewr rowniez dziala"
      ],
      "metadata": {
        "id": "DlUBCq_0j9is"
      },
      "execution_count": null,
      "outputs": []
    },
    {
      "cell_type": "code",
      "source": [
        "phone = Phone(1234)\n",
        "phone.price"
      ],
      "metadata": {
        "colab": {
          "base_uri": "https://localhost:8080/"
        },
        "id": "b-B2znopoluO",
        "outputId": "9664572f-0c9f-4b8b-bb52-adb7ef3e5817"
      },
      "execution_count": null,
      "outputs": [
        {
          "output_type": "stream",
          "name": "stdout",
          "text": [
            "setting...\n",
            "getting...\n"
          ]
        },
        {
          "output_type": "execute_result",
          "data": {
            "text/plain": [
              "1234"
            ]
          },
          "metadata": {},
          "execution_count": 3
        }
      ]
    },
    {
      "cell_type": "code",
      "source": [
        "class Phone:\n",
        "    # W __init__ używamy 'price'(property) a nie '_price'(chroniony atrybut).\n",
        "    # Dzięki temu przy tworzeniu instancji odwolujemy sie do \n",
        "    # '@price.setter' zamiast ustawiać chroniony atrybut '_price' z palca.\n",
        "    def __init__(self, price): \n",
        "        self.price = price\n",
        "\n",
        "    @property\n",
        "    def price(self):\n",
        "        print('getting...')\n",
        "        return self._price\n",
        "\n",
        "    # po slowie def w setter i deleter musi byc nazwa property (price)\n",
        "    @price.setter\n",
        "    def price(self, value):\n",
        "        print('setting...')\n",
        "        if isinstance(value, (int, float)) and value > 0:\n",
        "            self._price = value\n",
        "        elif isinstance(value, (int, float)):\n",
        "            raise ValueError('Price must be more than 0')\n",
        "        else:    \n",
        "            raise TypeError('Price must be int or float')\n",
        "\n",
        "    @price.deleter\n",
        "    def price(self):\n",
        "        print('deleting...')\n",
        "        del self._price"
      ],
      "metadata": {
        "id": "lvJfw-pSlRaz"
      },
      "execution_count": null,
      "outputs": []
    },
    {
      "cell_type": "code",
      "source": [
        "phone = Phone('chuj')\n",
        "phone.price = 12345\n",
        "phone.price"
      ],
      "metadata": {
        "colab": {
          "base_uri": "https://localhost:8080/",
          "height": 364
        },
        "id": "YADh7Ovylwqf",
        "outputId": "ed107c91-8f40-4915-8f8c-6c93d279f74b"
      },
      "execution_count": null,
      "outputs": [
        {
          "output_type": "stream",
          "name": "stdout",
          "text": [
            "setting...\n"
          ]
        },
        {
          "output_type": "error",
          "ename": "TypeError",
          "evalue": "ignored",
          "traceback": [
            "\u001b[0;31m---------------------------------------------------------------------------\u001b[0m",
            "\u001b[0;31mTypeError\u001b[0m                                 Traceback (most recent call last)",
            "\u001b[0;32m<ipython-input-32-b136425948e9>\u001b[0m in \u001b[0;36m<module>\u001b[0;34m\u001b[0m\n\u001b[0;32m----> 1\u001b[0;31m \u001b[0mphone\u001b[0m \u001b[0;34m=\u001b[0m \u001b[0mPhone\u001b[0m\u001b[0;34m(\u001b[0m\u001b[0;34m'chuj'\u001b[0m\u001b[0;34m)\u001b[0m\u001b[0;34m\u001b[0m\u001b[0;34m\u001b[0m\u001b[0m\n\u001b[0m\u001b[1;32m      2\u001b[0m \u001b[0mphone\u001b[0m\u001b[0;34m.\u001b[0m\u001b[0mprice\u001b[0m \u001b[0;34m=\u001b[0m \u001b[0;36m12345\u001b[0m\u001b[0;34m\u001b[0m\u001b[0;34m\u001b[0m\u001b[0m\n\u001b[1;32m      3\u001b[0m \u001b[0mphone\u001b[0m\u001b[0;34m.\u001b[0m\u001b[0mprice\u001b[0m\u001b[0;34m\u001b[0m\u001b[0;34m\u001b[0m\u001b[0m\n",
            "\u001b[0;32m<ipython-input-30-ac35e7f0e77b>\u001b[0m in \u001b[0;36m__init__\u001b[0;34m(self, price)\u001b[0m\n\u001b[1;32m      3\u001b[0m     \u001b[0;31m# w funkcji __init__ z jakiegos wzgledu\u001b[0m\u001b[0;34m\u001b[0m\u001b[0;34m\u001b[0m\u001b[0;34m\u001b[0m\u001b[0m\n\u001b[1;32m      4\u001b[0m     \u001b[0;32mdef\u001b[0m \u001b[0m__init__\u001b[0m\u001b[0;34m(\u001b[0m\u001b[0mself\u001b[0m\u001b[0;34m,\u001b[0m \u001b[0mprice\u001b[0m\u001b[0;34m)\u001b[0m\u001b[0;34m:\u001b[0m\u001b[0;34m\u001b[0m\u001b[0;34m\u001b[0m\u001b[0m\n\u001b[0;32m----> 5\u001b[0;31m         \u001b[0mself\u001b[0m\u001b[0;34m.\u001b[0m\u001b[0mprice\u001b[0m \u001b[0;34m=\u001b[0m \u001b[0mprice\u001b[0m\u001b[0;34m\u001b[0m\u001b[0;34m\u001b[0m\u001b[0m\n\u001b[0m\u001b[1;32m      6\u001b[0m \u001b[0;34m\u001b[0m\u001b[0m\n\u001b[1;32m      7\u001b[0m \u001b[0;34m\u001b[0m\u001b[0m\n",
            "\u001b[0;32m<ipython-input-30-ac35e7f0e77b>\u001b[0m in \u001b[0;36mprice\u001b[0;34m(self, value)\u001b[0m\n\u001b[1;32m     20\u001b[0m             \u001b[0;32mraise\u001b[0m \u001b[0mValueError\u001b[0m\u001b[0;34m(\u001b[0m\u001b[0;34m'Price must be more than 0'\u001b[0m\u001b[0;34m)\u001b[0m\u001b[0;34m\u001b[0m\u001b[0;34m\u001b[0m\u001b[0m\n\u001b[1;32m     21\u001b[0m         \u001b[0;32melse\u001b[0m\u001b[0;34m:\u001b[0m\u001b[0;34m\u001b[0m\u001b[0;34m\u001b[0m\u001b[0m\n\u001b[0;32m---> 22\u001b[0;31m             \u001b[0;32mraise\u001b[0m \u001b[0mTypeError\u001b[0m\u001b[0;34m(\u001b[0m\u001b[0;34m'Price must be int or float'\u001b[0m\u001b[0;34m)\u001b[0m\u001b[0;34m\u001b[0m\u001b[0;34m\u001b[0m\u001b[0m\n\u001b[0m\u001b[1;32m     23\u001b[0m \u001b[0;34m\u001b[0m\u001b[0m\n\u001b[1;32m     24\u001b[0m     \u001b[0;34m@\u001b[0m\u001b[0mprice\u001b[0m\u001b[0;34m.\u001b[0m\u001b[0mdeleter\u001b[0m\u001b[0;34m\u001b[0m\u001b[0;34m\u001b[0m\u001b[0m\n",
            "\u001b[0;31mTypeError\u001b[0m: Price must be int or float"
          ]
        }
      ]
    },
    {
      "cell_type": "code",
      "source": [
        "del phone.price"
      ],
      "metadata": {
        "colab": {
          "base_uri": "https://localhost:8080/"
        },
        "id": "y5NWI6U6nLHN",
        "outputId": "7fac89ea-755d-4e8a-c7d0-0c5ec1a49b59"
      },
      "execution_count": null,
      "outputs": [
        {
          "output_type": "stream",
          "name": "stdout",
          "text": [
            "deleting...\n"
          ]
        }
      ]
    },
    {
      "cell_type": "markdown",
      "source": [
        "## Przykład"
      ],
      "metadata": {
        "id": "-zMbu_mlwfoT"
      }
    },
    {
      "cell_type": "code",
      "source": [
        "class Game:\n",
        "\n",
        "    def __init__(self, level=0):\n",
        "        self.level = level\n",
        "\n",
        "    @property\n",
        "    def level(self):\n",
        "        return self._level\n",
        "\n",
        "    @level.setter\n",
        "    def level(self, value):\n",
        "        if value > 100:\n",
        "            self._level = 100\n",
        "        elif value < 0:\n",
        "            self._level = 0\n",
        "        else:\n",
        "            self._level = value\n",
        "\n",
        "\n"
      ],
      "metadata": {
        "id": "w627SAiYr454"
      },
      "execution_count": null,
      "outputs": []
    },
    {
      "cell_type": "code",
      "source": [
        "game1 = Game(23)\n",
        "game1.level = 34\n",
        "game1.level"
      ],
      "metadata": {
        "colab": {
          "base_uri": "https://localhost:8080/"
        },
        "id": "ujl9sscIx9_P",
        "outputId": "393ea635-4e6c-404c-fbd2-036df59b7c45"
      },
      "execution_count": null,
      "outputs": [
        {
          "output_type": "execute_result",
          "data": {
            "text/plain": [
              "34"
            ]
          },
          "metadata": {},
          "execution_count": 2
        }
      ]
    },
    {
      "cell_type": "code",
      "source": [],
      "metadata": {
        "id": "Tqrtm0aAylFf"
      },
      "execution_count": null,
      "outputs": []
    }
  ]
}