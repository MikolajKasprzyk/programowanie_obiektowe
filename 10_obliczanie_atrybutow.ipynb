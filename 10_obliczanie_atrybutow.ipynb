{
  "nbformat": 4,
  "nbformat_minor": 0,
  "metadata": {
    "colab": {
      "provenance": [],
      "authorship_tag": "ABX9TyNkbg0cq0ZK+XhBjLxNIPl/",
      "include_colab_link": true
    },
    "kernelspec": {
      "name": "python3",
      "display_name": "Python 3"
    },
    "language_info": {
      "name": "python"
    }
  },
  "cells": [
    {
      "cell_type": "markdown",
      "metadata": {
        "id": "view-in-github",
        "colab_type": "text"
      },
      "source": [
        "<a href=\"https://colab.research.google.com/github/MikolajKasprzyk/programowanie_obiektowe/blob/main/10_obliczanie_atrybutow.ipynb\" target=\"_parent\"><img src=\"https://colab.research.google.com/assets/colab-badge.svg\" alt=\"Open In Colab\"/></a>"
      ]
    },
    {
      "cell_type": "markdown",
      "source": [
        "# Obliczanie atrybutów"
      ],
      "metadata": {
        "id": "UAiUwm9j5FmJ"
      }
    },
    {
      "cell_type": "code",
      "execution_count": null,
      "metadata": {
        "id": "7TyVFSBZ4_Y4"
      },
      "outputs": [],
      "source": [
        "class Model:\n",
        "\n",
        "    def __init__(self, y_true, y_pred):\n",
        "        self.y_true = y_true\n",
        "        self.y_pred = y_pred\n",
        "        \n",
        "    def accuracy_score(self):\n",
        "        print('Calculating...')\n",
        "        # sum([true == pred ...]) daje sumę jedynek przy porownywaniu kojenych\n",
        "        # par - jak para jest taka sama to 1 jak nie to 0\n",
        "        self.accuracy = sum([true == pred \n",
        "            for true, pred \n",
        "            in zip(self.y_true, self.y_pred) ]) / len(self.y_true)\n",
        "        print(f'Model acuuracy {self.accuracy:.4f}')\n",
        "\n",
        "model = Model([0, 0, 1, 0, 0, 1, 0], [0, 0, 1, 0, 0, 1, 1])"
      ]
    },
    {
      "cell_type": "code",
      "source": [
        "model.__dict__"
      ],
      "metadata": {
        "colab": {
          "base_uri": "https://localhost:8080/"
        },
        "id": "iqaMmHwI7ymb",
        "outputId": "16ca2779-8581-4e5d-8ff7-c6082c9e3e63"
      },
      "execution_count": null,
      "outputs": [
        {
          "output_type": "execute_result",
          "data": {
            "text/plain": [
              "{'y_true': [0, 0, 1, 0, 0, 1, 0], 'y_pred': [0, 0, 1, 0, 0, 1, 1]}"
            ]
          },
          "metadata": {},
          "execution_count": 2
        }
      ]
    },
    {
      "cell_type": "code",
      "source": [
        "model.accuracy_score()"
      ],
      "metadata": {
        "colab": {
          "base_uri": "https://localhost:8080/"
        },
        "id": "n7lB3UFs71tw",
        "outputId": "e2b52d7f-de06-4329-8379-b835306a8001"
      },
      "execution_count": null,
      "outputs": [
        {
          "output_type": "stream",
          "name": "stdout",
          "text": [
            "Calculating...\n",
            "Model acuuracy 0.8571\n"
          ]
        }
      ]
    },
    {
      "cell_type": "code",
      "source": [
        "model.__dict__"
      ],
      "metadata": {
        "colab": {
          "base_uri": "https://localhost:8080/"
        },
        "id": "ckFHYPDj8ead",
        "outputId": "81656f4a-3551-4ac9-a700-2967e93c0a47"
      },
      "execution_count": null,
      "outputs": [
        {
          "output_type": "execute_result",
          "data": {
            "text/plain": [
              "{'y_true': [0, 0, 1, 0, 0, 1, 0],\n",
              " 'y_pred': [0, 0, 1, 0, 0, 1, 1],\n",
              " 'accuracy': 0.8571428571428571}"
            ]
          },
          "metadata": {},
          "execution_count": 4
        }
      ]
    },
    {
      "cell_type": "markdown",
      "source": [
        "Problem jest taki ze accuracy_score musi być policzone za kazdym razem, co zakładając milion powtorzen jest bezsensowne. Również można do model.accuracy przypisać cokolwiek innego z palca, co nie jest porzadane"
      ],
      "metadata": {
        "id": "2u9mAuZH89RE"
      }
    },
    {
      "cell_type": "code",
      "source": [
        "class Model:\n",
        "\n",
        "    def __init__(self, y_true, y_pred):\n",
        "        self.y_true = y_true\n",
        "        self.y_pred = y_pred\n",
        "\n",
        "    @property\n",
        "    def accuracy(self):\n",
        "        print('Calculating...')\n",
        "        self._accuracy = sum([true == pred \n",
        "            for true, pred \n",
        "            in zip(self.y_true, self.y_pred) ]) / len(self.y_true)\n",
        "        print(f'Model acuuracy {self._accuracy:.4f}')\n",
        "\n",
        "model = Model([0, 0, 1, 0, 0, 1, 0], [0, 0, 1, 0, 0, 1, 1])"
      ],
      "metadata": {
        "id": "dmjun-jb8m_V"
      },
      "execution_count": null,
      "outputs": []
    },
    {
      "cell_type": "code",
      "source": [
        "model.accuracy"
      ],
      "metadata": {
        "colab": {
          "base_uri": "https://localhost:8080/"
        },
        "id": "wY7z1gE49jOd",
        "outputId": "95cf5404-0c1b-4583-f6a3-477257930d90"
      },
      "execution_count": null,
      "outputs": [
        {
          "output_type": "stream",
          "name": "stdout",
          "text": [
            "Calculating...\n",
            "Model acuuracy 0.8571\n"
          ]
        }
      ]
    },
    {
      "cell_type": "code",
      "source": [
        "model.__dict__"
      ],
      "metadata": {
        "colab": {
          "base_uri": "https://localhost:8080/"
        },
        "id": "LFR_uREg-Bof",
        "outputId": "0c45f98d-1e48-48c0-ac8e-7ab8523c0a3b"
      },
      "execution_count": null,
      "outputs": [
        {
          "output_type": "execute_result",
          "data": {
            "text/plain": [
              "{'y_true': [0, 0, 1, 0, 0, 1, 0],\n",
              " 'y_pred': [0, 0, 1, 0, 0, 1, 1],\n",
              " '_accuracy': 0.8571428571428571}"
            ]
          },
          "metadata": {},
          "execution_count": 13
        }
      ]
    },
    {
      "cell_type": "code",
      "source": [
        "# na tym etapie juz nie przypiszemy z palca ale nadal accuracy jest\n",
        "# obliczna przy kazdym dostępie do niej"
      ],
      "metadata": {
        "id": "Zkx8i1Z2-b4r"
      },
      "execution_count": null,
      "outputs": []
    },
    {
      "cell_type": "code",
      "source": [
        "class Model:\n",
        "\n",
        "    def __init__(self, y_true, y_pred):\n",
        "        self.y_true = y_true\n",
        "        self.y_pred = y_pred\n",
        "        self._accuracy = None\n",
        "\n",
        "    @property\n",
        "    def accuracy(self):\n",
        "        # Ta pętla if zapewnia że accuracy jest liczona tylko raz, potem\n",
        "        # zwraca tylko zapamiętaną wartość\n",
        "        if not self._accuracy:\n",
        "            print('Calculating...')\n",
        "            self._accuracy = sum([true == pred \n",
        "                for true, pred \n",
        "                in zip(self.y_true, self.y_pred) ]) / len(self.y_true)\n",
        "        print(f'Model acuuracy {self._accuracy:.4f}')\n",
        "\n",
        "model = Model([0, 0, 1, 0, 0, 1, 0], [0, 0, 1, 0, 0, 1, 1])"
      ],
      "metadata": {
        "id": "4O53UXNh-8LO"
      },
      "execution_count": null,
      "outputs": []
    },
    {
      "cell_type": "code",
      "source": [
        "model.__dict__"
      ],
      "metadata": {
        "colab": {
          "base_uri": "https://localhost:8080/"
        },
        "id": "4ApNDvB3_mmi",
        "outputId": "82077c1d-bed4-470b-c914-fc26f66b37dc"
      },
      "execution_count": null,
      "outputs": [
        {
          "output_type": "execute_result",
          "data": {
            "text/plain": [
              "{'y_true': [0, 0, 1, 0, 0, 1, 0],\n",
              " 'y_pred': [0, 0, 1, 0, 0, 1, 1],\n",
              " '_accuracy': None}"
            ]
          },
          "metadata": {},
          "execution_count": 2
        }
      ]
    },
    {
      "cell_type": "code",
      "source": [
        "model.accuracy"
      ],
      "metadata": {
        "colab": {
          "base_uri": "https://localhost:8080/"
        },
        "id": "qj4xpH-M_smd",
        "outputId": "d3524db8-397f-4eb6-e847-b4cf65e42e0f"
      },
      "execution_count": null,
      "outputs": [
        {
          "output_type": "stream",
          "name": "stdout",
          "text": [
            "Calculating...\n",
            "Model acuuracy 0.8571\n"
          ]
        }
      ]
    },
    {
      "cell_type": "code",
      "source": [
        "model.accuracy"
      ],
      "metadata": {
        "colab": {
          "base_uri": "https://localhost:8080/"
        },
        "id": "_9HSgc9Z_u_H",
        "outputId": "84dcf106-14b1-42ca-df92-d1269db4aaa9"
      },
      "execution_count": null,
      "outputs": [
        {
          "output_type": "stream",
          "name": "stdout",
          "text": [
            "Model acuuracy 0.8571\n"
          ]
        }
      ]
    },
    {
      "cell_type": "code",
      "source": [
        "model.__dict__"
      ],
      "metadata": {
        "colab": {
          "base_uri": "https://localhost:8080/"
        },
        "id": "gtKx3eJY_x0Q",
        "outputId": "24f251d1-a4ac-4ef8-80cb-a20f34989dbc"
      },
      "execution_count": null,
      "outputs": [
        {
          "output_type": "execute_result",
          "data": {
            "text/plain": [
              "{'y_true': [0, 0, 1, 0, 0, 1, 0],\n",
              " 'y_pred': [0, 0, 1, 0, 0, 1, 1],\n",
              " '_accuracy': 0.8571428571428571}"
            ]
          },
          "metadata": {},
          "execution_count": 5
        }
      ]
    },
    {
      "cell_type": "markdown",
      "source": [
        "Tu nie ma opcji ponownego przeliczenia accuracy jesli zajdzie taka potrzeba\n",
        "Czyli zmienią się dane wejściowe wiec co następuje:\n",
        "Wiążemy atrubut chroniony _accuracy z funkcjami którymi zmieniamy dane wejsciowe, czyli przy kazdym wywolaniu funkcji którą można zmenić dane węjściowe wartość _accuracy jest ustawiana na None. \n",
        "Dzięki temu w funkcji acuuracy pętla if zostaje wykonana - czyli wartość zostaje policzona ponownie"
      ],
      "metadata": {
        "id": "7ffEzViNEkNG"
      }
    },
    {
      "cell_type": "code",
      "source": [
        "class Model:\n",
        "\n",
        "    def __init__(self, y_true, y_pred):\n",
        "        self._y_true = y_true\n",
        "        self._y_pred = y_pred\n",
        "        self._accuracy = None\n",
        "\n",
        "    @property\n",
        "    def y_true(self):\n",
        "        return self._y_true\n",
        "\n",
        "    @y_true.setter\n",
        "    def y_true(self, value):\n",
        "        self._y_true = value\n",
        "        self._accuracy = None\n",
        "\n",
        "    @property\n",
        "    def y_pred(self):\n",
        "        return self._y_pred\n",
        "    \n",
        "    @y_pred.setter\n",
        "    def y_pred(self, value):\n",
        "        self._y_pred = value\n",
        "        self._accuracy = None\n",
        "\n",
        "    @property\n",
        "    def accuracy(self):\n",
        "        # Ta pętla if zapewnia że accuracy jest liczona tylko raz, potem\n",
        "        # zwraca zapamiętaną wartość\n",
        "        if not self._accuracy:\n",
        "            print('Calculating...')\n",
        "            self._accuracy = sum([true == pred \n",
        "                for true, pred \n",
        "                in zip(self.y_true, self.y_pred) ]) / len(self.y_true)\n",
        "        print(f'Model acuuracy {self._accuracy:.4f}')\n",
        "\n",
        "model = Model([0, 0, 1, 0, 0, 1, 0], [0, 0, 1, 0, 0, 1, 1])"
      ],
      "metadata": {
        "id": "ohhoi4qEAask"
      },
      "execution_count": null,
      "outputs": []
    },
    {
      "cell_type": "code",
      "source": [
        "model.accuracy"
      ],
      "metadata": {
        "colab": {
          "base_uri": "https://localhost:8080/"
        },
        "id": "ldUu_4UoBtBd",
        "outputId": "1cd3ddc6-bcf3-4198-e6c7-4a82fe9e171d"
      },
      "execution_count": null,
      "outputs": [
        {
          "output_type": "stream",
          "name": "stdout",
          "text": [
            "Calculating...\n",
            "Model acuuracy 0.8571\n"
          ]
        }
      ]
    },
    {
      "cell_type": "code",
      "source": [
        "model.accuracy"
      ],
      "metadata": {
        "colab": {
          "base_uri": "https://localhost:8080/"
        },
        "id": "DM9Q09tzCUMs",
        "outputId": "c3891db0-30f4-46b6-be2d-3e87a6706ea3"
      },
      "execution_count": null,
      "outputs": [
        {
          "output_type": "stream",
          "name": "stdout",
          "text": [
            "Model acuuracy 0.8571\n"
          ]
        }
      ]
    },
    {
      "cell_type": "code",
      "source": [
        "model.y_true"
      ],
      "metadata": {
        "colab": {
          "base_uri": "https://localhost:8080/"
        },
        "id": "Ktytz57MCWZ6",
        "outputId": "12bb0dcc-948e-4bdd-dee9-c2e8117fcf7b"
      },
      "execution_count": null,
      "outputs": [
        {
          "output_type": "execute_result",
          "data": {
            "text/plain": [
              "[0, 0, 1, 0, 0, 1, 0]"
            ]
          },
          "metadata": {},
          "execution_count": 21
        }
      ]
    },
    {
      "cell_type": "code",
      "source": [
        "model.y_true = [1, 1, 1, 0, 0, 1, 0]"
      ],
      "metadata": {
        "id": "mIHTMIo1CZam"
      },
      "execution_count": null,
      "outputs": []
    },
    {
      "cell_type": "code",
      "source": [
        "model.accuracy"
      ],
      "metadata": {
        "colab": {
          "base_uri": "https://localhost:8080/"
        },
        "id": "UuuMmHiMCgm8",
        "outputId": "0a53b461-7452-427f-8112-b04e388a6b14"
      },
      "execution_count": null,
      "outputs": [
        {
          "output_type": "stream",
          "name": "stdout",
          "text": [
            "Calculating...\n",
            "Model acuuracy 0.5714\n"
          ]
        }
      ]
    },
    {
      "cell_type": "code",
      "source": [
        "model.y_pred = [1, 1, 1, 0, 0, 1, 0]"
      ],
      "metadata": {
        "id": "YajhNWv0EUtg"
      },
      "execution_count": null,
      "outputs": []
    },
    {
      "cell_type": "code",
      "source": [
        "model.accuracy"
      ],
      "metadata": {
        "colab": {
          "base_uri": "https://localhost:8080/"
        },
        "id": "bkYJ5tLBFW7M",
        "outputId": "fbb99545-5504-4708-d3e4-87f0d1dc9437"
      },
      "execution_count": null,
      "outputs": [
        {
          "output_type": "stream",
          "name": "stdout",
          "text": [
            "Calculating...\n",
            "Model acuuracy 1.0000\n"
          ]
        }
      ]
    },
    {
      "cell_type": "markdown",
      "source": [
        "przydałaby się jakaś walidacja danych wejściowych do tej klasy"
      ],
      "metadata": {
        "id": "LfCSiosgUm0r"
      }
    },
    {
      "cell_type": "code",
      "source": [
        "model.y_true = 'dupasraka'\n",
        "model.accuracy"
      ],
      "metadata": {
        "colab": {
          "base_uri": "https://localhost:8080/"
        },
        "id": "-1izlizDFYwi",
        "outputId": "8f1b2087-5005-4248-80d7-10c6f95d4a99"
      },
      "execution_count": null,
      "outputs": [
        {
          "output_type": "stream",
          "name": "stdout",
          "text": [
            "Calculating...\n",
            "Model acuuracy 0.0000\n"
          ]
        }
      ]
    },
    {
      "cell_type": "code",
      "source": [
        "class Model:\n",
        "\n",
        "    def __init__(self, y_true, y_pred):\n",
        "        # dodajemy tutaj walidacje danych wejściowych\n",
        "        if not isinstance(y_true,(list, tuple)):\n",
        "            raise TypeError(f'The y_true object must be list or tuple.' \n",
        "                            f'Not {type(y_true).__name__}.')\n",
        "        \n",
        "        if not isinstance(y_pred,(list, tuple)):\n",
        "            raise TypeError(f'The y_pred object must be list or tuple. ' \n",
        "                            f'Not {type(y_pred).__name__}.')\n",
        "        \n",
        "        if len(y_true) != len(y_pred):\n",
        "            raise IndexError('y_true and y_pred must be same size')\n",
        "\n",
        "        self._y_true = y_true\n",
        "        self._y_pred = y_pred\n",
        "        self._accuracy = None\n",
        "\n",
        "    @property\n",
        "    def y_true(self):\n",
        "        return self._y_true\n",
        "\n",
        "    @y_true.setter\n",
        "    def y_true(self, value):\n",
        "        self._y_true = value\n",
        "        self._accuracy = None\n",
        "\n",
        "    @property\n",
        "    def y_pred(self):\n",
        "        return self._y_pred\n",
        "    \n",
        "    @y_pred.setter\n",
        "    def y_pred(self, value):\n",
        "        self._y_pred = value\n",
        "        self._accuracy = None\n",
        "\n",
        "    @property\n",
        "    def accuracy(self):\n",
        "        # Ta pętla if zapewnia że accuracy jest liczona tylko raz, potem\n",
        "        # zwraca zapamiętaną wartość\n",
        "        if not self._accuracy:\n",
        "            print('Calculating...')\n",
        "            self._accuracy = sum([true == pred \n",
        "                for true, pred \n",
        "                in zip(self.y_true, self.y_pred) ]) / len(self.y_true)\n",
        "        print(f'Model acuuracy {self._accuracy:.4f}')\n",
        "\n",
        "model = Model([0, 0, 1, 0, 0, 1, 0], [0, 0, 1, 0, 0, 1, 1])"
      ],
      "metadata": {
        "id": "Hu-awfh1Uzra"
      },
      "execution_count": null,
      "outputs": []
    },
    {
      "cell_type": "code",
      "source": [
        "model = Model([0, 0, 1, 0, 0, 1, 1], [0, 0, 1, 0, 0, 1, 1])"
      ],
      "metadata": {
        "id": "IvG7HnakXGQK"
      },
      "execution_count": null,
      "outputs": []
    },
    {
      "cell_type": "markdown",
      "source": [
        "Powyżej mamy walidacje na etapie tworzenia modelu. Nie ma takiej walidacji zaimplementowanej w metodach @propety.setter co również należy zrobić. Spodziewam się że w dalszej części będzie usunięta walidacja z funkcji __init__ na rzecz wykorzystania matody @property.setter przy tworzeniu instancji tak jak miało to miejsce wcześniej"
      ],
      "metadata": {
        "id": "QsXmtLDLYd4m"
      }
    },
    {
      "cell_type": "code",
      "source": [
        "class Model:\n",
        "\n",
        "    def __init__(self, y_true, y_pred):\n",
        "        # dodajemy tutaj walidacje danych wejściowych\n",
        "        if not isinstance(y_true,(list, tuple)):\n",
        "            raise TypeError(f'The y_true object must be list or tuple. ' \n",
        "                            f'Not {type(y_true).__name__}.')\n",
        "        \n",
        "        if not isinstance(y_pred,(list, tuple)):\n",
        "            raise TypeError(f'The y_pred object must be list or tuple. ' \n",
        "                            f'Not {type(y_pred).__name__}.')\n",
        "        \n",
        "        if len(y_true) != len(y_pred):\n",
        "            raise IndexError('y_true and y_pred must be same size')\n",
        "\n",
        "        self._y_true = y_true\n",
        "        self._y_pred = y_pred\n",
        "        self._accuracy = None\n",
        "\n",
        "    @property\n",
        "    def y_true(self):\n",
        "        return self._y_true\n",
        "\n",
        "    @y_true.setter\n",
        "    def y_true(self, value):\n",
        "        # dodajemy tutaj walidacje danych wejściowych\n",
        "        if not isinstance(value,(list, tuple)):\n",
        "            raise TypeError(f'The y_true object must be list or tuple. ' \n",
        "                            f'Not {type(value).__name__}.')\n",
        "              \n",
        "        if len(value) != len(self._y_pred):\n",
        "            raise IndexError(f'y_true object must be '\n",
        "                             f'of length {len(self._y_pred)}')        \n",
        "        \n",
        "        self._y_true = value\n",
        "        self._accuracy = None\n",
        "\n",
        "    @property\n",
        "    def y_pred(self):\n",
        "        return self._y_pred\n",
        "    \n",
        "    @y_pred.setter\n",
        "    def y_pred(self, value):\n",
        "        # dodajemy tutaj walidacje danych wejściowych\n",
        "        if not isinstance(value,(list, tuple)):\n",
        "            raise TypeError(f'The y_pred object must be list or tuple. ' \n",
        "                            f'Not {type(value).__name__}.')\n",
        "              \n",
        "        if len(value) != len(self._y_true):\n",
        "            raise IndexError(f'y_pred object must be '\n",
        "                             f'of length {len(self._y_true)}') \n",
        "\n",
        "        self._y_pred = value\n",
        "        self._accuracy = None\n",
        "\n",
        "    @property\n",
        "    def accuracy(self):\n",
        "        # Ta pętla if zapewnia że accuracy jest liczona tylko raz, potem\n",
        "        # zwraca zapamiętaną wartość\n",
        "        if not self._accuracy:\n",
        "            print('Calculating...')\n",
        "            self._accuracy = sum([true == pred \n",
        "                for true, pred \n",
        "                    in zip(self.y_true, self.y_pred) ]) / len(self.y_true)\n",
        "        print(f'Model acuuracy {self._accuracy:.4f}')\n",
        "\n",
        "model = Model([0, 0, 1, 0, 0, 1, 0], [0, 0, 1, 0, 0, 1, 1])"
      ],
      "metadata": {
        "id": "Aavgp-atXUHu"
      },
      "execution_count": null,
      "outputs": []
    },
    {
      "cell_type": "code",
      "source": [
        "model.y_true =  [0, 0, 1, 1, 1, 1, 1]"
      ],
      "metadata": {
        "id": "3m7-9q93YWux"
      },
      "execution_count": null,
      "outputs": []
    },
    {
      "cell_type": "markdown",
      "source": [
        "Dodajemy jeszcze dwa deletery dla naszych property y_true i y_pred"
      ],
      "metadata": {
        "id": "YVeZZYanfaqx"
      }
    },
    {
      "cell_type": "code",
      "source": [
        "class Model:\n",
        "\n",
        "    def __init__(self, y_true, y_pred):\n",
        "        # dodajemy tutaj walidacje danych wejściowych\n",
        "        if not isinstance(y_true,(list, tuple)):\n",
        "            raise TypeError(f'The y_true object must be list or tuple. ' \n",
        "                            f'Not {type(y_true).__name__}.')\n",
        "        \n",
        "        if not isinstance(y_pred,(list, tuple)):\n",
        "            raise TypeError(f'The y_pred object must be list or tuple. ' \n",
        "                            f'Not {type(y_pred).__name__}.')\n",
        "        \n",
        "        if len(y_true) != len(y_pred):\n",
        "            raise IndexError('y_true and y_pred must be same size')\n",
        "\n",
        "        self._y_true = y_true\n",
        "        self._y_pred = y_pred\n",
        "        self._accuracy = None\n",
        "\n",
        "    @property\n",
        "    def y_true(self):\n",
        "        return self._y_true\n",
        "\n",
        "    @y_true.setter\n",
        "    def y_true(self, value):\n",
        "        # dodajemy tutaj walidacje danych wejściowych\n",
        "        if not isinstance(value,(list, tuple)):\n",
        "            raise TypeError(f'The y_true object must be list or tuple. ' \n",
        "                            f'Not {type(value).__name__}.')\n",
        "              \n",
        "        if len(value) != len(self._y_pred):\n",
        "            raise IndexError(f'y_true object must be '\n",
        "                             f'of length {len(self._y_pred)}')        \n",
        "        \n",
        "        self._y_true = value\n",
        "        self._accuracy = None\n",
        "    \n",
        "    @y_true.deleter\n",
        "    def y_true(self):\n",
        "        print('Deleting y_true...')\n",
        "        del self._y_true\n",
        "\n",
        "    @property\n",
        "    def y_pred(self):\n",
        "        return self._y_pred\n",
        "    \n",
        "    @y_pred.setter\n",
        "    def y_pred(self, value):\n",
        "        # dodajemy tutaj walidacje danych wejściowych\n",
        "        if not isinstance(value,(list, tuple)):\n",
        "            raise TypeError(f'The y_pred object must be list or tuple. ' \n",
        "                            f'Not {type(value).__name__}.')\n",
        "              \n",
        "        if len(value) != len(self._y_true):\n",
        "            raise IndexError(f'y_pred object must be '\n",
        "                             f'of length {len(self._y_true)}') \n",
        "\n",
        "        self._y_pred = value\n",
        "        self._accuracy = None\n",
        "    \n",
        "    @y_pred.deleter\n",
        "    def y_pred(self):\n",
        "        print('Deleting y_pred...')\n",
        "        del self._y_pred\n",
        "    \n",
        "    @property\n",
        "    def accuracy(self):\n",
        "        # Ta pętla if zapewnia że accuracy jest liczona tylko raz, potem\n",
        "        # zwraca zapamiętaną wartość\n",
        "        if not self._accuracy:\n",
        "            print('Calculating...')\n",
        "            self._accuracy = sum([true == pred for true, pred \n",
        "                in zip(self.y_true, self.y_pred) ]) / len(self.y_true)\n",
        "        print(f'Model acuuracy {self._accuracy:.4f}')\n",
        "\n",
        "model = Model([0, 0, 1, 0, 0, 1, 0], [0, 0, 1, 0, 0, 1, 1])"
      ],
      "metadata": {
        "id": "5PsyjuuBaf16"
      },
      "execution_count": null,
      "outputs": []
    },
    {
      "cell_type": "code",
      "source": [
        "del model.y_true"
      ],
      "metadata": {
        "colab": {
          "base_uri": "https://localhost:8080/"
        },
        "id": "wK_DWLofgMvm",
        "outputId": "94614fbd-b87b-4fae-c85e-00fad4ead7c6"
      },
      "execution_count": null,
      "outputs": [
        {
          "output_type": "stream",
          "name": "stdout",
          "text": [
            "Deleting y_true...\n"
          ]
        }
      ]
    },
    {
      "cell_type": "code",
      "source": [
        "model.__dict__"
      ],
      "metadata": {
        "colab": {
          "base_uri": "https://localhost:8080/"
        },
        "id": "yms9M69HgQQJ",
        "outputId": "ddfc8335-b06b-4f87-8806-bd04167c23b3"
      },
      "execution_count": null,
      "outputs": [
        {
          "output_type": "execute_result",
          "data": {
            "text/plain": [
              "{'_y_pred': [0, 0, 1, 0, 0, 1, 1], '_accuracy': None}"
            ]
          },
          "metadata": {},
          "execution_count": 39
        }
      ]
    },
    {
      "cell_type": "code",
      "source": [
        "model.accuracy"
      ],
      "metadata": {
        "colab": {
          "base_uri": "https://localhost:8080/",
          "height": 329
        },
        "id": "qddshUgJgScp",
        "outputId": "8dde2fbd-2f0f-4ee6-978a-ad0598547edc"
      },
      "execution_count": null,
      "outputs": [
        {
          "output_type": "stream",
          "name": "stdout",
          "text": [
            "Calculating...\n"
          ]
        },
        {
          "output_type": "error",
          "ename": "AttributeError",
          "evalue": "ignored",
          "traceback": [
            "\u001b[0;31m---------------------------------------------------------------------------\u001b[0m",
            "\u001b[0;31mAttributeError\u001b[0m                            Traceback (most recent call last)",
            "\u001b[0;32m<ipython-input-40-d93619ecb152>\u001b[0m in \u001b[0;36m<module>\u001b[0;34m\u001b[0m\n\u001b[0;32m----> 1\u001b[0;31m \u001b[0mmodel\u001b[0m\u001b[0;34m.\u001b[0m\u001b[0maccuracy\u001b[0m\u001b[0;34m\u001b[0m\u001b[0;34m\u001b[0m\u001b[0m\n\u001b[0m",
            "\u001b[0;32m<ipython-input-37-41c66a1ab14d>\u001b[0m in \u001b[0;36maccuracy\u001b[0;34m(self)\u001b[0m\n\u001b[1;32m     72\u001b[0m             self._accuracy = sum([true == pred \n\u001b[1;32m     73\u001b[0m                 \u001b[0;32mfor\u001b[0m \u001b[0mtrue\u001b[0m\u001b[0;34m,\u001b[0m \u001b[0mpred\u001b[0m\u001b[0;34m\u001b[0m\u001b[0;34m\u001b[0m\u001b[0m\n\u001b[0;32m---> 74\u001b[0;31m                     in zip(self.y_true, self.y_pred) ]) / len(self.y_true)\n\u001b[0m\u001b[1;32m     75\u001b[0m         \u001b[0mprint\u001b[0m\u001b[0;34m(\u001b[0m\u001b[0;34mf'Model acuuracy {self._accuracy:.4f}'\u001b[0m\u001b[0;34m)\u001b[0m\u001b[0;34m\u001b[0m\u001b[0;34m\u001b[0m\u001b[0m\n\u001b[1;32m     76\u001b[0m \u001b[0;34m\u001b[0m\u001b[0m\n",
            "\u001b[0;32m<ipython-input-37-41c66a1ab14d>\u001b[0m in \u001b[0;36my_true\u001b[0;34m(self)\u001b[0m\n\u001b[1;32m     20\u001b[0m     \u001b[0;34m@\u001b[0m\u001b[0mproperty\u001b[0m\u001b[0;34m\u001b[0m\u001b[0;34m\u001b[0m\u001b[0m\n\u001b[1;32m     21\u001b[0m     \u001b[0;32mdef\u001b[0m \u001b[0my_true\u001b[0m\u001b[0;34m(\u001b[0m\u001b[0mself\u001b[0m\u001b[0;34m)\u001b[0m\u001b[0;34m:\u001b[0m\u001b[0;34m\u001b[0m\u001b[0;34m\u001b[0m\u001b[0m\n\u001b[0;32m---> 22\u001b[0;31m         \u001b[0;32mreturn\u001b[0m \u001b[0mself\u001b[0m\u001b[0;34m.\u001b[0m\u001b[0m_y_true\u001b[0m\u001b[0;34m\u001b[0m\u001b[0;34m\u001b[0m\u001b[0m\n\u001b[0m\u001b[1;32m     23\u001b[0m \u001b[0;34m\u001b[0m\u001b[0m\n\u001b[1;32m     24\u001b[0m     \u001b[0;34m@\u001b[0m\u001b[0my_true\u001b[0m\u001b[0;34m.\u001b[0m\u001b[0msetter\u001b[0m\u001b[0;34m\u001b[0m\u001b[0;34m\u001b[0m\u001b[0m\n",
            "\u001b[0;31mAttributeError\u001b[0m: 'Model' object has no attribute '_y_true'"
          ]
        }
      ]
    },
    {
      "cell_type": "code",
      "source": [
        "model.y_true = [0, 0, 1, 0, 0, 1, 1]"
      ],
      "metadata": {
        "id": "N0o-5QzBgVK3"
      },
      "execution_count": null,
      "outputs": []
    },
    {
      "cell_type": "code",
      "source": [
        "model.accuracy"
      ],
      "metadata": {
        "colab": {
          "base_uri": "https://localhost:8080/"
        },
        "id": "J5MRSuM1gbaN",
        "outputId": "fa940810-20a2-486e-83a3-555afff84e89"
      },
      "execution_count": null,
      "outputs": [
        {
          "output_type": "stream",
          "name": "stdout",
          "text": [
            "Calculating...\n",
            "Model acuuracy 1.0000\n"
          ]
        }
      ]
    },
    {
      "cell_type": "markdown",
      "source": [
        "Teraz należałoby to uprościć czyli stworzyc funkcje w miejsce powtarzajacego się kodu, czyli przy walidacjach"
      ],
      "metadata": {
        "id": "r71fTvvmhZ9I"
      }
    },
    {
      "cell_type": "code",
      "source": [
        "class Model:\n",
        "\n",
        "    def __init__(self, y_true, y_pred):\n",
        "        # walidacja typu danych przy uzyciu funkcji zdefiniowanej ponizej\n",
        "        Model._validate_input(y_true, 'y_true')\n",
        "        Model._validate_input(y_pred, 'y_pred')\n",
        "        \n",
        "        if len(y_true) != len(y_pred):\n",
        "            raise IndexError('y_true and y_pred must be same size')\n",
        "\n",
        "        self._y_true = y_true\n",
        "        self._y_pred = y_pred\n",
        "        self._accuracy = None\n",
        "\n",
        "    # Walidacja czy dane wejściowe są dobrego typu w postaci funkcji,\n",
        "    # bo powtarza się to kilkukrotnie\n",
        "    def _validate_input(iters, var_name):\n",
        "            if not isinstance(iters,(list, tuple)):\n",
        "                raise TypeError(f'The {var_name} object must be list or tuple. ' \n",
        "                                f'Not {type(iters).__name__}.')\n",
        "    \n",
        "    def _validate_length(self, value, var_name):\n",
        "        mapping = {'y_true' : '_y_pred', 'y_pred' : '_y_true'}\n",
        "        if len(value) != len(getattr(self, mapping[var_name])):\n",
        "            raise IndexError(f'{var_name} object must be '\n",
        "                             f'of length {len(getattr(self, mapping[var_name]))}') \n",
        "\n",
        "    \n",
        "    @property\n",
        "    def y_true(self):\n",
        "        return self._y_true\n",
        "\n",
        "    @y_true.setter\n",
        "    def y_true(self, value):\n",
        "        # walidacja danych przy uzyciu funkcji _validate_input\n",
        "        Model._validate_input(value, 'y_true')\n",
        "        # walidacja dlugosci danych przy uzyciu funkcji _validate_length\n",
        "        Model._validate_length(self, value, 'y_true')  \n",
        "        \n",
        "        self._y_true = value\n",
        "        self._accuracy = None\n",
        "              \n",
        "    @y_true.deleter\n",
        "    def y_true(self):\n",
        "        print('Deleting y_true...')\n",
        "        del self._y_true\n",
        "\n",
        "    @property\n",
        "    def y_pred(self):\n",
        "        return self._y_pred\n",
        "    \n",
        "    @y_pred.setter\n",
        "    def y_pred(self, value):\n",
        "        # dodajemy tutaj walidacje danych wejściowych\n",
        "        Model._validate_input(value, 'y_pred')\n",
        "        # walidacja dlugosci danych przy uzyciu funkcji _validate_length     \n",
        "        Model._validate_length(self, value, 'y_pred')  \n",
        "\n",
        "        self._y_pred = value\n",
        "        self._accuracy = None\n",
        "    \n",
        "    @y_pred.deleter\n",
        "    def y_pred(self):\n",
        "        print('Deleting y_pred...')\n",
        "        del self._y_pred\n",
        "    \n",
        "    @property\n",
        "    def accuracy(self):\n",
        "        # Ta pętla if zapewnia że accuracy jest liczona tylko raz, potem\n",
        "        # zwraca zapamiętaną wartość\n",
        "        if not self._accuracy:\n",
        "            print('Calculating...')\n",
        "            self._accuracy = sum([true == pred for true, pred \n",
        "                in zip(self.y_true, self.y_pred) ]) / len(self.y_true)\n",
        "        print(f'Model acuuracy {self._accuracy:.4f}')\n",
        "\n",
        "model = Model([0, 0, 1, 0, 0, 1, 0], [0, 0, 1, 0, 0, 1, 1])"
      ],
      "metadata": {
        "id": "xPjNZyX4gdv4"
      },
      "execution_count": null,
      "outputs": []
    },
    {
      "cell_type": "code",
      "source": [
        "model = Model([0, 0, 1, 0, 0, 1, 0], [0, 0, 1, 0, 0, 1, 1])"
      ],
      "metadata": {
        "id": "wV74p5oJjaph"
      },
      "execution_count": null,
      "outputs": []
    },
    {
      "cell_type": "code",
      "source": [
        "model.y_pred = [0, 0, 1, 0, 0, 1, 0]"
      ],
      "metadata": {
        "id": "_sx6tK-ilofS"
      },
      "execution_count": null,
      "outputs": []
    },
    {
      "cell_type": "code",
      "source": [
        "getattr(model, aasda)"
      ],
      "metadata": {
        "colab": {
          "base_uri": "https://localhost:8080/",
          "height": 166
        },
        "id": "bJB4KLpplt17",
        "outputId": "d5a48c0e-24a7-4664-a4ba-ce906e88f678"
      },
      "execution_count": null,
      "outputs": [
        {
          "output_type": "error",
          "ename": "NameError",
          "evalue": "ignored",
          "traceback": [
            "\u001b[0;31m---------------------------------------------------------------------------\u001b[0m",
            "\u001b[0;31mNameError\u001b[0m                                 Traceback (most recent call last)",
            "\u001b[0;32m<ipython-input-102-af53fe31943c>\u001b[0m in \u001b[0;36m<module>\u001b[0;34m\u001b[0m\n\u001b[0;32m----> 1\u001b[0;31m \u001b[0mgetattr\u001b[0m\u001b[0;34m(\u001b[0m\u001b[0mmodel\u001b[0m\u001b[0;34m,\u001b[0m \u001b[0maasda\u001b[0m\u001b[0;34m)\u001b[0m\u001b[0;34m\u001b[0m\u001b[0;34m\u001b[0m\u001b[0m\n\u001b[0m",
            "\u001b[0;31mNameError\u001b[0m: name 'aasda' is not defined"
          ]
        }
      ]
    },
    {
      "cell_type": "code",
      "source": [
        "model.y_pred = [0, 1, 1]"
      ],
      "metadata": {
        "colab": {
          "base_uri": "https://localhost:8080/",
          "height": 312
        },
        "id": "NiNJoYIHmLqv",
        "outputId": "ba27ca5b-8ab6-488b-95cf-c295263a5aab"
      },
      "execution_count": null,
      "outputs": [
        {
          "output_type": "error",
          "ename": "AttributeError",
          "evalue": "ignored",
          "traceback": [
            "\u001b[0;31m---------------------------------------------------------------------------\u001b[0m",
            "\u001b[0;31mAttributeError\u001b[0m                            Traceback (most recent call last)",
            "\u001b[0;32m<ipython-input-90-731d829571f4>\u001b[0m in \u001b[0;36m<module>\u001b[0;34m\u001b[0m\n\u001b[0;32m----> 1\u001b[0;31m \u001b[0mmodel\u001b[0m\u001b[0;34m.\u001b[0m\u001b[0my_pred\u001b[0m \u001b[0;34m=\u001b[0m \u001b[0;34m[\u001b[0m\u001b[0;36m0\u001b[0m\u001b[0;34m,\u001b[0m \u001b[0;36m1\u001b[0m\u001b[0;34m,\u001b[0m \u001b[0;36m1\u001b[0m\u001b[0;34m]\u001b[0m\u001b[0;34m\u001b[0m\u001b[0;34m\u001b[0m\u001b[0m\n\u001b[0m",
            "\u001b[0;32m<ipython-input-85-c0c0727abf50>\u001b[0m in \u001b[0;36my_pred\u001b[0;34m(self, value)\u001b[0m\n\u001b[1;32m     55\u001b[0m         \u001b[0mModel\u001b[0m\u001b[0;34m.\u001b[0m\u001b[0m_validate_input\u001b[0m\u001b[0;34m(\u001b[0m\u001b[0mvalue\u001b[0m\u001b[0;34m,\u001b[0m \u001b[0;34m'y_pred'\u001b[0m\u001b[0;34m)\u001b[0m\u001b[0;34m\u001b[0m\u001b[0;34m\u001b[0m\u001b[0m\n\u001b[1;32m     56\u001b[0m         \u001b[0;31m# walidacja dlugosci danych przy uzyciu funkcji _validate_length\u001b[0m\u001b[0;34m\u001b[0m\u001b[0;34m\u001b[0m\u001b[0;34m\u001b[0m\u001b[0m\n\u001b[0;32m---> 57\u001b[0;31m         \u001b[0mModel\u001b[0m\u001b[0;34m.\u001b[0m\u001b[0m_validate_length\u001b[0m\u001b[0;34m(\u001b[0m\u001b[0mself\u001b[0m\u001b[0;34m,\u001b[0m \u001b[0mvalue\u001b[0m\u001b[0;34m,\u001b[0m \u001b[0;34m'y_pred'\u001b[0m\u001b[0;34m)\u001b[0m\u001b[0;34m\u001b[0m\u001b[0;34m\u001b[0m\u001b[0m\n\u001b[0m\u001b[1;32m     58\u001b[0m \u001b[0;34m\u001b[0m\u001b[0m\n\u001b[1;32m     59\u001b[0m         \u001b[0mself\u001b[0m\u001b[0;34m.\u001b[0m\u001b[0m_y_pred\u001b[0m \u001b[0;34m=\u001b[0m \u001b[0mvalue\u001b[0m\u001b[0;34m\u001b[0m\u001b[0;34m\u001b[0m\u001b[0m\n",
            "\u001b[0;32m<ipython-input-85-c0c0727abf50>\u001b[0m in \u001b[0;36m_validate_length\u001b[0;34m(self, value, var_name)\u001b[0m\n\u001b[1;32m     22\u001b[0m     \u001b[0;32mdef\u001b[0m \u001b[0m_validate_length\u001b[0m\u001b[0;34m(\u001b[0m\u001b[0mself\u001b[0m\u001b[0;34m,\u001b[0m \u001b[0mvalue\u001b[0m\u001b[0;34m,\u001b[0m \u001b[0mvar_name\u001b[0m\u001b[0;34m)\u001b[0m\u001b[0;34m:\u001b[0m\u001b[0;34m\u001b[0m\u001b[0;34m\u001b[0m\u001b[0m\n\u001b[1;32m     23\u001b[0m         \u001b[0mmapping\u001b[0m \u001b[0;34m=\u001b[0m \u001b[0;34m{\u001b[0m\u001b[0;34m'y_true'\u001b[0m \u001b[0;34m:\u001b[0m \u001b[0;34m'_y_pred'\u001b[0m\u001b[0;34m,\u001b[0m \u001b[0;34m'y_pred'\u001b[0m \u001b[0;34m:\u001b[0m \u001b[0;34m'_y_true'\u001b[0m\u001b[0;34m}\u001b[0m\u001b[0;34m\u001b[0m\u001b[0;34m\u001b[0m\u001b[0m\n\u001b[0;32m---> 24\u001b[0;31m         \u001b[0;32mif\u001b[0m \u001b[0mlen\u001b[0m\u001b[0;34m(\u001b[0m\u001b[0mvalue\u001b[0m\u001b[0;34m)\u001b[0m \u001b[0;34m!=\u001b[0m \u001b[0mlen\u001b[0m\u001b[0;34m(\u001b[0m\u001b[0mgetattr\u001b[0m\u001b[0;34m(\u001b[0m\u001b[0mself\u001b[0m\u001b[0;34m,\u001b[0m \u001b[0mmapping\u001b[0m\u001b[0;34m[\u001b[0m\u001b[0mvar_name\u001b[0m\u001b[0;34m]\u001b[0m\u001b[0;34m)\u001b[0m\u001b[0;34m)\u001b[0m\u001b[0;34m:\u001b[0m\u001b[0;34m\u001b[0m\u001b[0;34m\u001b[0m\u001b[0m\n\u001b[0m\u001b[1;32m     25\u001b[0m             raise IndexError(f'{var_name} object must be '\n\u001b[1;32m     26\u001b[0m                              f'of length {len(getattr(self, mapping[var_name]))}') \n",
            "\u001b[0;31mAttributeError\u001b[0m: 'Model' object has no attribute '_y_true'"
          ]
        }
      ]
    },
    {
      "cell_type": "markdown",
      "source": [
        "Przy użyciu funkcji do zmiany @property.setter przy tworzeniu instancji, funkcja walidacji dlugości danych odwoluje sie do atrybutu, który musi być wcześniej zdefiniowany. W gruncie rzeczy ten sam problem pojawia się również w przypadku usunięcia obudwóch atrybutów, bo nie da się wtedy na nowo ustawić żadnego.\n",
        "\n",
        "Więc należy dodać instrukcję warunkową do porównania długości biorąc pod uwagę, że któregoś z atrubutów może nie być."
      ],
      "metadata": {
        "id": "yX_4wSHyrQzM"
      }
    },
    {
      "cell_type": "code",
      "source": [
        "class Model:\n",
        "\n",
        "    def __init__(self, y_true, y_pred):\n",
        "        # walidacja typu danych przy uzyciu funkcji zdefiniowanej ponizej\n",
        "        Model._validate_input(y_true, 'y_true')\n",
        "        Model._validate_input(y_pred, 'y_pred')\n",
        "        # Dodatkowe sprawdzenie dlugosci.  Funkcja _validate_length nie dziala \n",
        "        # w momencie kiedy _y_true i _y_pred nie są zdefiniowane.\n",
        "        if len(y_true) != len(y_pred):\n",
        "            raise IndexError('y_true and y_pred must be same size')\n",
        "        \n",
        "        self.y_true = y_true\n",
        "        self.y_pred = y_pred\n",
        "        self._accuracy = None\n",
        "\n",
        "    # Walidacja czy dane wejściowe są dobrego typu w postaci funkcji,\n",
        "    # bo powtarza się to kilkukrotnie\n",
        "    def _validate_input(iters, var_name):\n",
        "            if not isinstance(iters,(list, tuple)):\n",
        "                raise TypeError(f'The {var_name} object must be list or tuple. ' \n",
        "                                f'Not {type(iters).__name__}.')\n",
        "    # Pierwszy warunek if sprawdza czy atrybuty _y_true i _y_pred są \n",
        "    # zdefiniowane, bo jeśli nie są reszta funkcji się wykrzaczy, stąd w \n",
        "    # __init__ dodatkowe sprawdzenie długości argumentów\n",
        "    def _validate_length(self, value, var_name):\n",
        "            if (getattr(self, '_y_pred', False) or \n",
        "                getattr(self, '_y_pred', False)):\n",
        "                mapping = {'y_true' : '_y_pred', 'y_pred' : '_y_true'}\n",
        "                if len(value) != len(getattr(self, mapping[var_name])):\n",
        "                    raise IndexError(f'{var_name} object must be '\n",
        "                        f'of length {len(getattr(self, mapping[var_name]))}')\n",
        "            else:\n",
        "                pass\n",
        "    \n",
        "    @property\n",
        "    def y_true(self):\n",
        "        return self._y_true\n",
        "\n",
        "    @y_true.setter\n",
        "    def y_true(self, value):\n",
        "        # walidacja danych przy uzyciu funkcji _validate_input\n",
        "        Model._validate_input(value, 'y_true')\n",
        "        # walidacja dlugosci danych przy uzyciu funkcji _validate_length\n",
        "        Model._validate_length(self, value, 'y_true')  \n",
        "        \n",
        "        self._y_true = value\n",
        "        self._accuracy = None\n",
        "              \n",
        "    @y_true.deleter\n",
        "    def y_true(self):\n",
        "        print('Deleting y_true...')\n",
        "        del self._y_true\n",
        "\n",
        "    @property\n",
        "    def y_pred(self):\n",
        "        return self._y_pred\n",
        "    \n",
        "    @y_pred.setter\n",
        "    def y_pred(self, value):\n",
        "        # dodajemy tutaj walidacje danych wejściowych\n",
        "        Model._validate_input(value, 'y_pred')\n",
        "        # walidacja dlugosci danych przy uzyciu funkcji _validate_length     \n",
        "        Model._validate_length(self, value, 'y_pred')  \n",
        "\n",
        "        self._y_pred = value\n",
        "        self._accuracy = None\n",
        "    \n",
        "    @y_pred.deleter\n",
        "    def y_pred(self):\n",
        "        print('Deleting y_pred...')\n",
        "        del self._y_pred\n",
        "    \n",
        "    @property\n",
        "    def accuracy(self):\n",
        "        # Ta pętla if zapewnia że accuracy jest liczona tylko raz, potem\n",
        "        # zwraca zapamiętaną wartość\n",
        "        if not self._accuracy:\n",
        "            print('Calculating...')\n",
        "            self._accuracy = sum([true == pred for true, pred \n",
        "                in zip(self.y_true, self.y_pred) ]) / len(self.y_true)\n",
        "        print(f'Model acuuracy {self._accuracy:.4f}')\n",
        "\n",
        "model = Model([0, 0, 1, 0, 0, 1, 0], [0, 0, 1, 0, 0, 1, 0])"
      ],
      "metadata": {
        "id": "pn_6sPx1rLZB"
      },
      "execution_count": null,
      "outputs": []
    },
    {
      "cell_type": "code",
      "source": [
        "model.__dict__"
      ],
      "metadata": {
        "id": "BPNCZ3w3rsEc",
        "colab": {
          "base_uri": "https://localhost:8080/"
        },
        "outputId": "a8e38f9a-5003-4a47-8996-e1eaa530b01e"
      },
      "execution_count": null,
      "outputs": [
        {
          "output_type": "execute_result",
          "data": {
            "text/plain": [
              "{'_y_true': [0, 0, 1, 0, 0, 1, 0],\n",
              " '_accuracy': None,\n",
              " '_y_pred': [0, 0, 1, 0, 0, 1, 0]}"
            ]
          },
          "metadata": {},
          "execution_count": 167
        }
      ]
    },
    {
      "cell_type": "code",
      "source": [
        "model.accuracy"
      ],
      "metadata": {
        "colab": {
          "base_uri": "https://localhost:8080/"
        },
        "id": "f63Rl5Pr2H5p",
        "outputId": "ff6d1409-1161-4295-e9f8-da2af1a88170"
      },
      "execution_count": null,
      "outputs": [
        {
          "output_type": "stream",
          "name": "stdout",
          "text": [
            "Calculating...\n",
            "Model acuuracy 1.0000\n"
          ]
        }
      ]
    },
    {
      "cell_type": "code",
      "source": [
        "model.y_pred = [0, 0, 1, 0, 0, 1, 0]"
      ],
      "metadata": {
        "id": "g9ph1KYA3w9q"
      },
      "execution_count": null,
      "outputs": []
    },
    {
      "cell_type": "code",
      "source": [
        "model.accuracy"
      ],
      "metadata": {
        "colab": {
          "base_uri": "https://localhost:8080/"
        },
        "id": "bOBq7w0E4ABQ",
        "outputId": "c116b126-f83e-4e01-c46d-13b9b88deaba"
      },
      "execution_count": null,
      "outputs": [
        {
          "output_type": "stream",
          "name": "stdout",
          "text": [
            "Calculating...\n",
            "Model acuuracy 0.8571\n"
          ]
        }
      ]
    },
    {
      "cell_type": "code",
      "source": [
        "model = Model([0, 0, 1, 0, 0, 1, 0], [0, 0, 1, 0, 0, 1, 0])"
      ],
      "metadata": {
        "id": "vGejgciDJLAN"
      },
      "execution_count": null,
      "outputs": []
    },
    {
      "cell_type": "code",
      "source": [
        "del model.y_pred\n",
        "del model.y_true"
      ],
      "metadata": {
        "colab": {
          "base_uri": "https://localhost:8080/"
        },
        "id": "_tRX3m4rJgVt",
        "outputId": "56ad7893-0af3-4124-bb58-0784ad9c73d6"
      },
      "execution_count": null,
      "outputs": [
        {
          "output_type": "stream",
          "name": "stdout",
          "text": [
            "Deleting y_pred...\n",
            "Deleting y_true...\n"
          ]
        }
      ]
    },
    {
      "cell_type": "code",
      "source": [
        "model.y_pred = [0, 0, 1, 0, 0, 1, 0]"
      ],
      "metadata": {
        "id": "pS34Pa03KGYi"
      },
      "execution_count": null,
      "outputs": []
    },
    {
      "cell_type": "code",
      "source": [
        "model.y_true = [0, 0, 1, 0, 0, 1, 0]"
      ],
      "metadata": {
        "id": "G9_aUduiKJMF"
      },
      "execution_count": null,
      "outputs": []
    },
    {
      "cell_type": "code",
      "source": [
        "model.accuracy"
      ],
      "metadata": {
        "colab": {
          "base_uri": "https://localhost:8080/"
        },
        "id": "FKw7B_tHKMPC",
        "outputId": "a3cf7401-6546-41da-c63c-c4ce4b4b1765"
      },
      "execution_count": null,
      "outputs": [
        {
          "output_type": "stream",
          "name": "stdout",
          "text": [
            "Calculating...\n",
            "Model acuuracy 1.0000\n"
          ]
        }
      ]
    },
    {
      "cell_type": "markdown",
      "source": [
        "# Zadanie"
      ],
      "metadata": {
        "id": "fLk6PSy3Mdwh"
      }
    },
    {
      "cell_type": "code",
      "source": [
        "class Circle:\n",
        "\n",
        "    def __init__(self, radius):\n",
        "        self.radius = radius\n",
        "        self._area = None\n",
        "\n",
        "    @property\n",
        "    def radius(self):\n",
        "        return self._radius\n",
        "\n",
        "    @radius.setter\n",
        "    def radius(self, value):\n",
        "        self._radius = value\n",
        "        self._area = None\n",
        "        \n",
        "    @property\n",
        "    def area(self):\n",
        "        if not self._area:\n",
        "            print('Calculating area...')\n",
        "            self._area = 3.14 * self.radius**2\n",
        "        return self._area\n",
        "        \n",
        "circle = Circle(3)\n",
        "print(f'{circle.area:.4f}')"
      ],
      "metadata": {
        "colab": {
          "base_uri": "https://localhost:8080/"
        },
        "id": "Tej36GtNKPmu",
        "outputId": "971bd5c5-cc2e-4830-dc72-8ed96fc11c14"
      },
      "execution_count": null,
      "outputs": [
        {
          "output_type": "stream",
          "name": "stdout",
          "text": [
            "Calculating area...\n",
            "28.2600\n"
          ]
        }
      ]
    },
    {
      "cell_type": "code",
      "source": [
        "circle.area"
      ],
      "metadata": {
        "colab": {
          "base_uri": "https://localhost:8080/"
        },
        "id": "c5ozYQg3MhRB",
        "outputId": "a5af518b-1d28-4749-c04a-985c09639f57"
      },
      "execution_count": null,
      "outputs": [
        {
          "output_type": "execute_result",
          "data": {
            "text/plain": [
              "452.16"
            ]
          },
          "metadata": {},
          "execution_count": 201
        }
      ]
    },
    {
      "cell_type": "code",
      "source": [
        "circle.radius = 12"
      ],
      "metadata": {
        "id": "vCFpbbR2NIPL"
      },
      "execution_count": null,
      "outputs": []
    },
    {
      "cell_type": "code",
      "source": [
        "circle.area"
      ],
      "metadata": {
        "colab": {
          "base_uri": "https://localhost:8080/"
        },
        "id": "lpe5n5xgNM45",
        "outputId": "e316452b-dd8c-4971-a982-896249d3dce6"
      },
      "execution_count": null,
      "outputs": [
        {
          "output_type": "execute_result",
          "data": {
            "text/plain": [
              "452.16"
            ]
          },
          "metadata": {},
          "execution_count": 210
        }
      ]
    },
    {
      "cell_type": "code",
      "source": [],
      "metadata": {
        "id": "4GosJq4mNbM1"
      },
      "execution_count": null,
      "outputs": []
    }
  ]
}