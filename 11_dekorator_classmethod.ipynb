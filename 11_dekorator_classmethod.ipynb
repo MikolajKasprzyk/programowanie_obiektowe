{
  "nbformat": 4,
  "nbformat_minor": 0,
  "metadata": {
    "colab": {
      "provenance": [],
      "authorship_tag": "ABX9TyN7BkBbJv+LKPDBoznD6lIY",
      "include_colab_link": true
    },
    "kernelspec": {
      "name": "python3",
      "display_name": "Python 3"
    },
    "language_info": {
      "name": "python"
    }
  },
  "cells": [
    {
      "cell_type": "markdown",
      "metadata": {
        "id": "view-in-github",
        "colab_type": "text"
      },
      "source": [
        "<a href=\"https://colab.research.google.com/github/MikolajKasprzyk/programowanie_obiektowe/blob/main/11_dekorator_classmethod.ipynb\" target=\"_parent\"><img src=\"https://colab.research.google.com/assets/colab-badge.svg\" alt=\"Open In Colab\"/></a>"
      ]
    },
    {
      "cell_type": "markdown",
      "source": [
        "# Metoda klasy i dekorator `@classmethod`"
      ],
      "metadata": {
        "id": "sB8rJqWnO_4S"
      }
    },
    {
      "cell_type": "code",
      "execution_count": null,
      "metadata": {
        "colab": {
          "base_uri": "https://localhost:8080/"
        },
        "id": "0Ga3g3YCO5AP",
        "outputId": "cee141f1-d5f4-4589-aa88-1e4e116b92f4"
      },
      "outputs": [
        {
          "output_type": "execute_result",
          "data": {
            "text/plain": [
              "mappingproxy({'__module__': '__main__',\n",
              "              'show': <function __main__.Phone.show()>,\n",
              "              '__dict__': <attribute '__dict__' of 'Phone' objects>,\n",
              "              '__weakref__': <attribute '__weakref__' of 'Phone' objects>,\n",
              "              '__doc__': None})"
            ]
          },
          "metadata": {},
          "execution_count": 1
        }
      ],
      "source": [
        "class Phone:\n",
        "\n",
        "    def show():\n",
        "        print('Running...')\n",
        "\n",
        "Phone.__dict__"
      ]
    },
    {
      "cell_type": "code",
      "source": [
        "Phone.show()"
      ],
      "metadata": {
        "colab": {
          "base_uri": "https://localhost:8080/"
        },
        "id": "xSYRugLcPeiL",
        "outputId": "8415d739-1517-455e-892a-8adc98141c89"
      },
      "execution_count": null,
      "outputs": [
        {
          "output_type": "stream",
          "name": "stdout",
          "text": [
            "Running...\n"
          ]
        }
      ]
    },
    {
      "cell_type": "code",
      "source": [
        "phone = Phone()\n",
        "phone.show()"
      ],
      "metadata": {
        "colab": {
          "base_uri": "https://localhost:8080/",
          "height": 183
        },
        "id": "FBjpbYDIPi1o",
        "outputId": "4752c5b6-0c73-4a12-db6a-72db8781d9e1"
      },
      "execution_count": null,
      "outputs": [
        {
          "output_type": "error",
          "ename": "TypeError",
          "evalue": "ignored",
          "traceback": [
            "\u001b[0;31m---------------------------------------------------------------------------\u001b[0m",
            "\u001b[0;31mTypeError\u001b[0m                                 Traceback (most recent call last)",
            "\u001b[0;32m<ipython-input-3-09a218307891>\u001b[0m in \u001b[0;36m<module>\u001b[0;34m\u001b[0m\n\u001b[1;32m      1\u001b[0m \u001b[0mphone\u001b[0m \u001b[0;34m=\u001b[0m \u001b[0mPhone\u001b[0m\u001b[0;34m(\u001b[0m\u001b[0;34m)\u001b[0m\u001b[0;34m\u001b[0m\u001b[0;34m\u001b[0m\u001b[0m\n\u001b[0;32m----> 2\u001b[0;31m \u001b[0mphone\u001b[0m\u001b[0;34m.\u001b[0m\u001b[0mshow\u001b[0m\u001b[0;34m(\u001b[0m\u001b[0;34m)\u001b[0m\u001b[0;34m\u001b[0m\u001b[0;34m\u001b[0m\u001b[0m\n\u001b[0m",
            "\u001b[0;31mTypeError\u001b[0m: show() takes 0 positional arguments but 1 was given"
          ]
        }
      ]
    },
    {
      "cell_type": "code",
      "source": [
        "phone.show"
      ],
      "metadata": {
        "colab": {
          "base_uri": "https://localhost:8080/"
        },
        "id": "KRp-yIF0PqNW",
        "outputId": "107d6313-481e-4ead-aaf1-736dec4453a3"
      },
      "execution_count": null,
      "outputs": [
        {
          "output_type": "execute_result",
          "data": {
            "text/plain": [
              "<bound method Phone.show of <__main__.Phone object at 0x7fe7769c4280>>"
            ]
          },
          "metadata": {},
          "execution_count": 4
        }
      ]
    },
    {
      "cell_type": "code",
      "source": [
        "class Phone:\n",
        "\n",
        "    def show(self):\n",
        "        print(f'Running...{self}')\n",
        "\n",
        "Phone.__dict__"
      ],
      "metadata": {
        "colab": {
          "base_uri": "https://localhost:8080/"
        },
        "id": "DnnjQ9PLPwgc",
        "outputId": "37fdf6f8-dcb3-4808-f75c-2085b26ff725"
      },
      "execution_count": null,
      "outputs": [
        {
          "output_type": "execute_result",
          "data": {
            "text/plain": [
              "mappingproxy({'__module__': '__main__',\n",
              "              'show': <function __main__.Phone.show(self)>,\n",
              "              '__dict__': <attribute '__dict__' of 'Phone' objects>,\n",
              "              '__weakref__': <attribute '__weakref__' of 'Phone' objects>,\n",
              "              '__doc__': None})"
            ]
          },
          "metadata": {},
          "execution_count": 7
        }
      ]
    },
    {
      "cell_type": "code",
      "source": [
        "phone = Phone()\n",
        "phone.show()\n"
      ],
      "metadata": {
        "colab": {
          "base_uri": "https://localhost:8080/"
        },
        "id": "K5kyS1-QP6n6",
        "outputId": "0449374d-9a2f-4eaa-955d-71ecd9db9b0c"
      },
      "execution_count": null,
      "outputs": [
        {
          "output_type": "stream",
          "name": "stdout",
          "text": [
            "Running...<__main__.Phone object at 0x7fe7769cab20>\n"
          ]
        }
      ]
    },
    {
      "cell_type": "code",
      "source": [
        "Phone.show()"
      ],
      "metadata": {
        "colab": {
          "base_uri": "https://localhost:8080/",
          "height": 166
        },
        "id": "uNRa-QyvP9LT",
        "outputId": "387827bf-d8aa-40a1-f0d8-4a0ada5ae012"
      },
      "execution_count": null,
      "outputs": [
        {
          "output_type": "error",
          "ename": "TypeError",
          "evalue": "ignored",
          "traceback": [
            "\u001b[0;31m---------------------------------------------------------------------------\u001b[0m",
            "\u001b[0;31mTypeError\u001b[0m                                 Traceback (most recent call last)",
            "\u001b[0;32m<ipython-input-11-f6d0c91102a2>\u001b[0m in \u001b[0;36m<module>\u001b[0;34m\u001b[0m\n\u001b[0;32m----> 1\u001b[0;31m \u001b[0mPhone\u001b[0m\u001b[0;34m.\u001b[0m\u001b[0mshow\u001b[0m\u001b[0;34m(\u001b[0m\u001b[0;34m)\u001b[0m\u001b[0;34m\u001b[0m\u001b[0;34m\u001b[0m\u001b[0m\n\u001b[0m",
            "\u001b[0;31mTypeError\u001b[0m: show() missing 1 required positional argument: 'self'"
          ]
        }
      ]
    },
    {
      "cell_type": "code",
      "source": [
        "Phone.show(phone)"
      ],
      "metadata": {
        "colab": {
          "base_uri": "https://localhost:8080/"
        },
        "id": "PQN-uKRwQJxw",
        "outputId": "f24a42e8-11d4-4a9c-cc73-fb5f0fd9bbf1"
      },
      "execution_count": null,
      "outputs": [
        {
          "output_type": "stream",
          "name": "stdout",
          "text": [
            "Running...<__main__.Phone object at 0x7fe7769cab20>\n"
          ]
        }
      ]
    },
    {
      "cell_type": "code",
      "source": [
        "help(classmethod)"
      ],
      "metadata": {
        "colab": {
          "base_uri": "https://localhost:8080/"
        },
        "id": "JC9FTx84QWqX",
        "outputId": "803234a1-ca51-4299-ca46-f906ec94ca57"
      },
      "execution_count": null,
      "outputs": [
        {
          "output_type": "stream",
          "name": "stdout",
          "text": [
            "Help on class classmethod in module builtins:\n",
            "\n",
            "class classmethod(object)\n",
            " |  classmethod(function) -> method\n",
            " |  \n",
            " |  Convert a function to be a class method.\n",
            " |  \n",
            " |  A class method receives the class as implicit first argument,\n",
            " |  just like an instance method receives the instance.\n",
            " |  To declare a class method, use this idiom:\n",
            " |  \n",
            " |    class C:\n",
            " |        @classmethod\n",
            " |        def f(cls, arg1, arg2, ...):\n",
            " |            ...\n",
            " |  \n",
            " |  It can be called either on the class (e.g. C.f()) or on an instance\n",
            " |  (e.g. C().f()).  The instance is ignored except for its class.\n",
            " |  If a class method is called for a derived class, the derived class\n",
            " |  object is passed as the implied first argument.\n",
            " |  \n",
            " |  Class methods are different than C++ or Java static methods.\n",
            " |  If you want those, see the staticmethod builtin.\n",
            " |  \n",
            " |  Methods defined here:\n",
            " |  \n",
            " |  __get__(self, instance, owner, /)\n",
            " |      Return an attribute of instance, which is of type owner.\n",
            " |  \n",
            " |  __init__(self, /, *args, **kwargs)\n",
            " |      Initialize self.  See help(type(self)) for accurate signature.\n",
            " |  \n",
            " |  ----------------------------------------------------------------------\n",
            " |  Static methods defined here:\n",
            " |  \n",
            " |  __new__(*args, **kwargs) from builtins.type\n",
            " |      Create and return a new object.  See help(type) for accurate signature.\n",
            " |  \n",
            " |  ----------------------------------------------------------------------\n",
            " |  Data descriptors defined here:\n",
            " |  \n",
            " |  __dict__\n",
            " |  \n",
            " |  __func__\n",
            " |  \n",
            " |  __isabstractmethod__\n",
            "\n"
          ]
        }
      ]
    },
    {
      "cell_type": "code",
      "source": [
        "class Phone:\n",
        "\n",
        "    def show(cls):\n",
        "        print(f'Running...{cls}')\n",
        "\n",
        "    show = classmethod(show)\n",
        "\n",
        "phone = Phone()"
      ],
      "metadata": {
        "id": "-0oTqrM5QgKx"
      },
      "execution_count": null,
      "outputs": []
    },
    {
      "cell_type": "code",
      "source": [
        "Phone.show()"
      ],
      "metadata": {
        "colab": {
          "base_uri": "https://localhost:8080/"
        },
        "id": "qbqwQQTVQ4ya",
        "outputId": "1080a3a2-11c2-449c-9620-a7912c15d638"
      },
      "execution_count": null,
      "outputs": [
        {
          "output_type": "stream",
          "name": "stdout",
          "text": [
            "Running...<class '__main__.Phone'>\n"
          ]
        }
      ]
    },
    {
      "cell_type": "code",
      "source": [
        "phone.show()"
      ],
      "metadata": {
        "colab": {
          "base_uri": "https://localhost:8080/"
        },
        "id": "KBOWq3CoQ_gB",
        "outputId": "503770df-7dd4-4bba-9eca-8e4f581a5a7b"
      },
      "execution_count": null,
      "outputs": [
        {
          "output_type": "stream",
          "name": "stdout",
          "text": [
            "Running...<class '__main__.Phone'>\n"
          ]
        }
      ]
    },
    {
      "cell_type": "code",
      "source": [
        "class Phone:\n",
        "\n",
        "    @classmethod\n",
        "    def show(cls):\n",
        "        print(f'Running...{cls}')\n",
        "\n",
        "# powyższy zapis jest rownoważny z tym z komórki 14\n",
        "phone = Phone()"
      ],
      "metadata": {
        "id": "P9tXIUgVRDc1"
      },
      "execution_count": null,
      "outputs": []
    },
    {
      "cell_type": "code",
      "source": [
        "class Phone:\n",
        "\n",
        "    @classmethod\n",
        "    def show(cls):\n",
        "        print(f'Running...{cls}')\n",
        "\n",
        "    def describe(self):\n",
        "        print(f'Describing...{self}')\n",
        "\n",
        "# powyższy zapis jest rownoważny z tym z komórki 14\n",
        "phone = Phone()\n",
        "Phone.__dict__"
      ],
      "metadata": {
        "colab": {
          "base_uri": "https://localhost:8080/"
        },
        "id": "wzjAD9YnWeZY",
        "outputId": "6449af94-db4f-462e-96b1-aa310aeac96d"
      },
      "execution_count": null,
      "outputs": [
        {
          "output_type": "execute_result",
          "data": {
            "text/plain": [
              "mappingproxy({'__module__': '__main__',\n",
              "              'show': <classmethod at 0x7fe7768d65b0>,\n",
              "              'describe': <function __main__.Phone.describe(self)>,\n",
              "              '__dict__': <attribute '__dict__' of 'Phone' objects>,\n",
              "              '__weakref__': <attribute '__weakref__' of 'Phone' objects>,\n",
              "              '__doc__': None})"
            ]
          },
          "metadata": {},
          "execution_count": 40
        }
      ]
    },
    {
      "cell_type": "code",
      "source": [
        "Phone.show()"
      ],
      "metadata": {
        "colab": {
          "base_uri": "https://localhost:8080/"
        },
        "id": "kZAXBPSTX6Rx",
        "outputId": "41adcb30-6d37-4828-ba54-a6cda7cad63a"
      },
      "execution_count": null,
      "outputs": [
        {
          "output_type": "stream",
          "name": "stdout",
          "text": [
            "Running...<class '__main__.Phone'>\n"
          ]
        }
      ]
    },
    {
      "cell_type": "code",
      "source": [
        "Phone.describe"
      ],
      "metadata": {
        "colab": {
          "base_uri": "https://localhost:8080/"
        },
        "id": "Oc6IvYsWYCqH",
        "outputId": "ed33a299-fc84-4947-aa1d-4edb498148c9"
      },
      "execution_count": null,
      "outputs": [
        {
          "output_type": "execute_result",
          "data": {
            "text/plain": [
              "<function __main__.Phone.describe(alabala)>"
            ]
          },
          "metadata": {},
          "execution_count": 36
        }
      ]
    },
    {
      "cell_type": "code",
      "source": [
        "Phone.describe(phone)"
      ],
      "metadata": {
        "colab": {
          "base_uri": "https://localhost:8080/"
        },
        "id": "bHWPMmt_YHf3",
        "outputId": "879349c7-353f-4724-d5e2-d00084df6ba0"
      },
      "execution_count": null,
      "outputs": [
        {
          "output_type": "stream",
          "name": "stdout",
          "text": [
            "Describing...<__main__.Phone object at 0x7fe7768d63a0>\n"
          ]
        }
      ]
    },
    {
      "cell_type": "code",
      "source": [
        "phone.show() # wywolując classmethod na instancji\n",
        "             # dziala tak samo jak wywolanie na klasie tej instancji"
      ],
      "metadata": {
        "colab": {
          "base_uri": "https://localhost:8080/"
        },
        "id": "mPV2GlKrYZuS",
        "outputId": "97a7d95b-7967-4e74-e2c4-bf2b5f6c0290"
      },
      "execution_count": null,
      "outputs": [
        {
          "output_type": "stream",
          "name": "stdout",
          "text": [
            "Running...<class '__main__.Phone'>\n"
          ]
        }
      ]
    },
    {
      "cell_type": "markdown",
      "source": [
        "## Przykład"
      ],
      "metadata": {
        "id": "tLnJSa-YZEQ3"
      }
    },
    {
      "cell_type": "code",
      "source": [
        "class Phone:\n",
        "\n",
        "    instances = []\n",
        "\n",
        "    def __init__(self):\n",
        "        Phone.instances.append(self)\n",
        "    \n",
        "    @classmethod\n",
        "    def show(cls):\n",
        "        if len(cls.instances) > 0:\n",
        "            print(f'List of instances of the {cls.__name__} class:')\n",
        "            for instance in cls.instances:\n",
        "                print(f'\\t{instance}')\n",
        "        else:\n",
        "            print(f'No instances of {Phone.__name__} class.')"
      ],
      "metadata": {
        "id": "hfaFe26oYzS0"
      },
      "execution_count": null,
      "outputs": []
    },
    {
      "cell_type": "code",
      "source": [
        "Phone.__dict__"
      ],
      "metadata": {
        "colab": {
          "base_uri": "https://localhost:8080/"
        },
        "id": "ZdCCCg4_Z_fR",
        "outputId": "d2c89e91-5ab1-45ad-9f6a-dc6e1a5ccf7e"
      },
      "execution_count": null,
      "outputs": [
        {
          "output_type": "execute_result",
          "data": {
            "text/plain": [
              "mappingproxy({'__module__': '__main__',\n",
              "              'instances': [],\n",
              "              '__init__': <function __main__.Phone.__init__(self)>,\n",
              "              'show': <classmethod at 0x7fe776a4c2e0>,\n",
              "              '__dict__': <attribute '__dict__' of 'Phone' objects>,\n",
              "              '__weakref__': <attribute '__weakref__' of 'Phone' objects>,\n",
              "              '__doc__': None})"
            ]
          },
          "metadata": {},
          "execution_count": 48
        }
      ]
    },
    {
      "cell_type": "code",
      "source": [
        "Phone.show()"
      ],
      "metadata": {
        "colab": {
          "base_uri": "https://localhost:8080/"
        },
        "id": "9iRgQ0IVaCJq",
        "outputId": "820d96d4-49fe-4896-b365-b22cc2eafdcc"
      },
      "execution_count": null,
      "outputs": [
        {
          "output_type": "stream",
          "name": "stdout",
          "text": [
            "No instances of Phone class.\n"
          ]
        }
      ]
    },
    {
      "cell_type": "code",
      "source": [
        "phone1 = Phone()\n",
        "phone2 = Phone()"
      ],
      "metadata": {
        "id": "sC3tpWf1aHnU"
      },
      "execution_count": null,
      "outputs": []
    },
    {
      "cell_type": "code",
      "source": [
        "Phone.show()"
      ],
      "metadata": {
        "colab": {
          "base_uri": "https://localhost:8080/"
        },
        "id": "KHsf7UV6aV6u",
        "outputId": "887e94c8-d8c3-40ec-d4ea-0a24230d224d"
      },
      "execution_count": null,
      "outputs": [
        {
          "output_type": "stream",
          "name": "stdout",
          "text": [
            "List of instances of the {cls.__name__} class:\n",
            "\t<__main__.Phone object at 0x7f3425a72880>\n",
            "\t<__main__.Phone object at 0x7f3425a72d30>\n"
          ]
        }
      ]
    },
    {
      "cell_type": "code",
      "source": [
        "class Phone:\n",
        "\n",
        "    instances = []\n",
        "\n",
        "    def __init__(self, brand):\n",
        "        self.brand = brand\n",
        "        Phone.instances.append(self)\n",
        "\n",
        "    @classmethod\n",
        "    def show(cls):\n",
        "        if len(cls.instances) > 0:\n",
        "            print(f'List of instances of the {cls.__name__} class:')\n",
        "            for instance in cls.instances:\n",
        "                print(f'\\t{instance}')\n",
        "        else:\n",
        "            print(f'No instances of {Phone.__name__} class.')\n",
        "\n",
        "    def show_brand(self):\n",
        "        print(f'Brand: {self.brand}')"
      ],
      "metadata": {
        "id": "2PwjWyLhadSv"
      },
      "execution_count": null,
      "outputs": []
    },
    {
      "cell_type": "code",
      "source": [
        "phone1 = Phone('Apple')\n",
        "phone2 = Phone('Samsung')\n",
        "Phone.show()"
      ],
      "metadata": {
        "colab": {
          "base_uri": "https://localhost:8080/"
        },
        "id": "emlIPE4dfDOx",
        "outputId": "f2bc359f-9243-41a0-8879-19cb9007a75a"
      },
      "execution_count": null,
      "outputs": [
        {
          "output_type": "stream",
          "name": "stdout",
          "text": [
            "List of instances of the Phone class:\n",
            "\t<__main__.Phone object at 0x7fc1c04a7490>\n",
            "\t<__main__.Phone object at 0x7fc1c04a71c0>\n"
          ]
        }
      ]
    },
    {
      "cell_type": "code",
      "source": [
        "for instance in Phone.instances:\n",
        "    instance.show_brand()"
      ],
      "metadata": {
        "colab": {
          "base_uri": "https://localhost:8080/"
        },
        "id": "Pg0-nRrwfKZP",
        "outputId": "131cf55b-c505-4159-fa85-329b58c80ad6"
      },
      "execution_count": null,
      "outputs": [
        {
          "output_type": "stream",
          "name": "stdout",
          "text": [
            "Brand: Apple\n",
            "Brand: Samsung\n"
          ]
        }
      ]
    },
    {
      "cell_type": "markdown",
      "source": [
        "## Zadanie"
      ],
      "metadata": {
        "id": "LFNaYvx0hXbt"
      }
    },
    {
      "cell_type": "code",
      "source": [
        "class Worker:\n",
        "    \n",
        "    instances = []\n",
        "    \n",
        "    def __init__(self):\n",
        "        Worker.instances.append(self)\n",
        "        \n",
        "    @classmethod\n",
        "    def count_instances(cls):\n",
        "        return len(cls.instances)\n",
        "\n",
        "worker1 = Worker()\n",
        "worker3 = Worker()\n",
        "worker2 = Worker()\n",
        "\n",
        "Worker.count_instances()"
      ],
      "metadata": {
        "colab": {
          "base_uri": "https://localhost:8080/"
        },
        "id": "fYpHN3sLfyyK",
        "outputId": "1418412b-4d88-4b07-be05-0009547686c4"
      },
      "execution_count": null,
      "outputs": [
        {
          "output_type": "execute_result",
          "data": {
            "text/plain": [
              "3"
            ]
          },
          "metadata": {},
          "execution_count": 2
        }
      ]
    },
    {
      "cell_type": "code",
      "source": [
        "help(file.readlines())"
      ],
      "metadata": {
        "id": "3NKM_yyEhZZ4",
        "colab": {
          "base_uri": "https://localhost:8080/",
          "height": 166
        },
        "outputId": "1b8ff773-b585-404f-856b-509237267822"
      },
      "execution_count": null,
      "outputs": [
        {
          "output_type": "error",
          "ename": "NameError",
          "evalue": "ignored",
          "traceback": [
            "\u001b[0;31m---------------------------------------------------------------------------\u001b[0m",
            "\u001b[0;31mNameError\u001b[0m                                 Traceback (most recent call last)",
            "\u001b[0;32m<ipython-input-3-96d0c1018a45>\u001b[0m in \u001b[0;36m<module>\u001b[0;34m\u001b[0m\n\u001b[0;32m----> 1\u001b[0;31m \u001b[0mhelp\u001b[0m\u001b[0;34m(\u001b[0m\u001b[0mfile\u001b[0m\u001b[0;34m.\u001b[0m\u001b[0mreadlines\u001b[0m\u001b[0;34m(\u001b[0m\u001b[0;34m)\u001b[0m\u001b[0;34m)\u001b[0m\u001b[0;34m\u001b[0m\u001b[0;34m\u001b[0m\u001b[0m\n\u001b[0m",
            "\u001b[0;31mNameError\u001b[0m: name 'file' is not defined"
          ]
        }
      ]
    },
    {
      "cell_type": "code",
      "source": [],
      "metadata": {
        "id": "45mpLddEL0es"
      },
      "execution_count": null,
      "outputs": []
    }
  ]
}