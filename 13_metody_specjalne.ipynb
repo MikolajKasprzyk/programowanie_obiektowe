{
  "nbformat": 4,
  "nbformat_minor": 0,
  "metadata": {
    "colab": {
      "provenance": [],
      "authorship_tag": "ABX9TyOpvOGvXjyd1tl/i7ggtpKC",
      "include_colab_link": true
    },
    "kernelspec": {
      "name": "python3",
      "display_name": "Python 3"
    },
    "language_info": {
      "name": "python"
    }
  },
  "cells": [
    {
      "cell_type": "markdown",
      "metadata": {
        "id": "view-in-github",
        "colab_type": "text"
      },
      "source": [
        "<a href=\"https://colab.research.google.com/github/MikolajKasprzyk/programowanie_obiektowe/blob/main/13_metody_specjalne.ipynb\" target=\"_parent\"><img src=\"https://colab.research.google.com/assets/colab-badge.svg\" alt=\"Open In Colab\"/></a>"
      ]
    },
    {
      "cell_type": "markdown",
      "source": [
        "Metody specjalne:\n",
        "\n",
        "\n",
        "*   __new__\n",
        "*   __init__\n",
        "*   __del__\n",
        "*   __str__\n",
        "*   __repr__\n",
        "*   __len__\n",
        "*   __bool__\n"
      ],
      "metadata": {
        "id": "TcVr3XjyQ9IO"
      }
    },
    {
      "cell_type": "markdown",
      "source": [
        "## `__new__()` + `__init__()`"
      ],
      "metadata": {
        "id": "hniKHNIvRXXD"
      }
    },
    {
      "cell_type": "code",
      "execution_count": null,
      "metadata": {
        "colab": {
          "base_uri": "https://localhost:8080/"
        },
        "id": "KzNJlg8GQ2f-",
        "outputId": "b30a0d56-1e74-4967-b790-c98605ba6b80"
      },
      "outputs": [
        {
          "output_type": "execute_result",
          "data": {
            "text/plain": [
              "{'name': 'Microsoft'}"
            ]
          },
          "metadata": {},
          "execution_count": 3
        }
      ],
      "source": [
        "class Company:\n",
        "    \"\"\"The Company class docs.\"\"\"\n",
        "\n",
        "    def __init__(self, name):\n",
        "        self.name = name\n",
        "\n",
        "company = Company('Microsoft')\n",
        "company.__dict__"
      ]
    },
    {
      "cell_type": "code",
      "source": [
        "company2 = Company.__new__(Company)\n",
        "company2.__init__('Apple')\n",
        "company2.__dict__"
      ],
      "metadata": {
        "colab": {
          "base_uri": "https://localhost:8080/"
        },
        "id": "fzmWmM9Kklfz",
        "outputId": "3957de6d-e287-4a30-eab7-3903994255ec"
      },
      "execution_count": null,
      "outputs": [
        {
          "output_type": "execute_result",
          "data": {
            "text/plain": [
              "{'name': 'Apple'}"
            ]
          },
          "metadata": {},
          "execution_count": 8
        }
      ]
    },
    {
      "cell_type": "markdown",
      "source": [
        "## Przykład"
      ],
      "metadata": {
        "id": "AEiYk6wrlbON"
      }
    },
    {
      "cell_type": "code",
      "source": [
        "class Student:\n",
        "\n",
        "    students = []\n",
        "    limit = 3\n",
        "    # modyfukując metode __new__ robimy tak aby nie dalo sie stworzyć więcej\n",
        "    # niż 3 instancje klasy Student\n",
        "    def __new__(cls):\n",
        "        if len(cls.students) >= cls.limit:\n",
        "            raise RuntimeError(f'Instances limit reached max: {cls.limit}')\n",
        "        instance = object.__new__(cls)\n",
        "        cls.students.append(instance)\n",
        "        return instance"
      ],
      "metadata": {
        "id": "oyZuAWIolFCF"
      },
      "execution_count": null,
      "outputs": []
    },
    {
      "cell_type": "code",
      "source": [
        "s1 = Student()\n",
        "s2 = Student()\n",
        "s3 = Student()"
      ],
      "metadata": {
        "id": "X6qzeaRumPsl"
      },
      "execution_count": null,
      "outputs": []
    },
    {
      "cell_type": "code",
      "source": [
        "Student.__dict__"
      ],
      "metadata": {
        "colab": {
          "base_uri": "https://localhost:8080/"
        },
        "id": "9kF5tk3OmYyR",
        "outputId": "9deb7641-7f61-44f0-a302-0f8a1d33214f"
      },
      "execution_count": null,
      "outputs": [
        {
          "output_type": "execute_result",
          "data": {
            "text/plain": [
              "mappingproxy({'__module__': '__main__',\n",
              "              'students': [<__main__.Student at 0x7fe2a1bcecd0>,\n",
              "               <__main__.Student at 0x7fe2a1bce070>,\n",
              "               <__main__.Student at 0x7fe2a1bcefd0>],\n",
              "              'limit': 3,\n",
              "              '__new__': <staticmethod at 0x7fe2a1bc5c40>,\n",
              "              '__dict__': <attribute '__dict__' of 'Student' objects>,\n",
              "              '__weakref__': <attribute '__weakref__' of 'Student' objects>,\n",
              "              '__doc__': None})"
            ]
          },
          "metadata": {},
          "execution_count": 13
        }
      ]
    },
    {
      "cell_type": "code",
      "source": [
        "Student.students"
      ],
      "metadata": {
        "colab": {
          "base_uri": "https://localhost:8080/"
        },
        "id": "fgdA56c2q--L",
        "outputId": "24a41f4e-479c-4d98-a294-e651acf2a7dc"
      },
      "execution_count": null,
      "outputs": [
        {
          "output_type": "execute_result",
          "data": {
            "text/plain": [
              "[<__main__.Student at 0x7fe2a1bcecd0>,\n",
              " <__main__.Student at 0x7fe2a1bce070>,\n",
              " <__main__.Student at 0x7fe2a1bcefd0>]"
            ]
          },
          "metadata": {},
          "execution_count": 14
        }
      ]
    },
    {
      "cell_type": "code",
      "source": [
        "st4 = Student()"
      ],
      "metadata": {
        "colab": {
          "base_uri": "https://localhost:8080/",
          "height": 288
        },
        "id": "nMHY92yZsdLB",
        "outputId": "f50b0ce5-3abd-400e-bf58-dc168d3242cb"
      },
      "execution_count": null,
      "outputs": [
        {
          "output_type": "error",
          "ename": "RuntimeError",
          "evalue": "ignored",
          "traceback": [
            "\u001b[0;31m---------------------------------------------------------------------------\u001b[0m",
            "\u001b[0;31mRuntimeError\u001b[0m                              Traceback (most recent call last)",
            "\u001b[0;32m<ipython-input-15-fd64c4130eaa>\u001b[0m in \u001b[0;36m<module>\u001b[0;34m\u001b[0m\n\u001b[0;32m----> 1\u001b[0;31m \u001b[0mst4\u001b[0m \u001b[0;34m=\u001b[0m \u001b[0mStudent\u001b[0m\u001b[0;34m(\u001b[0m\u001b[0;34m)\u001b[0m\u001b[0;34m\u001b[0m\u001b[0;34m\u001b[0m\u001b[0m\n\u001b[0m",
            "\u001b[0;32m<ipython-input-11-8395019304ef>\u001b[0m in \u001b[0;36m__new__\u001b[0;34m(cls)\u001b[0m\n\u001b[1;32m      6\u001b[0m     \u001b[0;32mdef\u001b[0m \u001b[0m__new__\u001b[0m\u001b[0;34m(\u001b[0m\u001b[0mcls\u001b[0m\u001b[0;34m)\u001b[0m\u001b[0;34m:\u001b[0m\u001b[0;34m\u001b[0m\u001b[0;34m\u001b[0m\u001b[0m\n\u001b[1;32m      7\u001b[0m         \u001b[0;32mif\u001b[0m \u001b[0mlen\u001b[0m\u001b[0;34m(\u001b[0m\u001b[0mcls\u001b[0m\u001b[0;34m.\u001b[0m\u001b[0mstudents\u001b[0m\u001b[0;34m)\u001b[0m \u001b[0;34m>=\u001b[0m \u001b[0mcls\u001b[0m\u001b[0;34m.\u001b[0m\u001b[0mlimit\u001b[0m\u001b[0;34m:\u001b[0m\u001b[0;34m\u001b[0m\u001b[0;34m\u001b[0m\u001b[0m\n\u001b[0;32m----> 8\u001b[0;31m             \u001b[0;32mraise\u001b[0m \u001b[0mRuntimeError\u001b[0m\u001b[0;34m(\u001b[0m\u001b[0;34mf'Instances limit reached max: {cls.limit}'\u001b[0m\u001b[0;34m)\u001b[0m\u001b[0;34m\u001b[0m\u001b[0;34m\u001b[0m\u001b[0m\n\u001b[0m\u001b[1;32m      9\u001b[0m         \u001b[0minstance\u001b[0m \u001b[0;34m=\u001b[0m \u001b[0mobject\u001b[0m\u001b[0;34m.\u001b[0m\u001b[0m__new__\u001b[0m\u001b[0;34m(\u001b[0m\u001b[0mcls\u001b[0m\u001b[0;34m)\u001b[0m\u001b[0;34m\u001b[0m\u001b[0;34m\u001b[0m\u001b[0m\n\u001b[1;32m     10\u001b[0m         \u001b[0mcls\u001b[0m\u001b[0;34m.\u001b[0m\u001b[0mstudents\u001b[0m\u001b[0;34m.\u001b[0m\u001b[0mappend\u001b[0m\u001b[0;34m(\u001b[0m\u001b[0minstance\u001b[0m\u001b[0;34m)\u001b[0m\u001b[0;34m\u001b[0m\u001b[0;34m\u001b[0m\u001b[0m\n",
            "\u001b[0;31mRuntimeError\u001b[0m: Instances limit reached max: 3"
          ]
        }
      ]
    },
    {
      "cell_type": "markdown",
      "source": [
        "## `__repr__`"
      ],
      "metadata": {
        "id": "jZgPz82FszGp"
      }
    },
    {
      "cell_type": "code",
      "source": [
        "help(object.__repr__)"
      ],
      "metadata": {
        "colab": {
          "base_uri": "https://localhost:8080/"
        },
        "id": "ATzSA2Gssfsm",
        "outputId": "ea0c2a07-9d41-47ba-fff0-4600ae0a350f"
      },
      "execution_count": null,
      "outputs": [
        {
          "output_type": "stream",
          "name": "stdout",
          "text": [
            "Help on wrapper_descriptor:\n",
            "\n",
            "__repr__(self, /)\n",
            "    Return repr(self).\n",
            "\n"
          ]
        }
      ]
    },
    {
      "cell_type": "code",
      "source": [
        "repr(object)"
      ],
      "metadata": {
        "colab": {
          "base_uri": "https://localhost:8080/",
          "height": 35
        },
        "id": "cmOO2m50s9X5",
        "outputId": "3668175e-f99d-465d-a3b3-77eb0722c62c"
      },
      "execution_count": null,
      "outputs": [
        {
          "output_type": "execute_result",
          "data": {
            "text/plain": [
              "\"<class 'object'>\""
            ],
            "application/vnd.google.colaboratory.intrinsic+json": {
              "type": "string"
            }
          },
          "metadata": {},
          "execution_count": 17
        }
      ]
    },
    {
      "cell_type": "code",
      "source": [
        "class Phone:\n",
        "    def __init__(self, brand):\n",
        "        self.brand = brand\n",
        "\n",
        "Phone.__dict__"
      ],
      "metadata": {
        "colab": {
          "base_uri": "https://localhost:8080/"
        },
        "id": "z9s9OSi7t5-4",
        "outputId": "34033ff9-96a6-478d-895d-764f11d91083"
      },
      "execution_count": null,
      "outputs": [
        {
          "output_type": "execute_result",
          "data": {
            "text/plain": [
              "mappingproxy({'__module__': '__main__',\n",
              "              '__init__': <function __main__.Phone.__init__(self, brand)>,\n",
              "              '__dict__': <attribute '__dict__' of 'Phone' objects>,\n",
              "              '__weakref__': <attribute '__weakref__' of 'Phone' objects>,\n",
              "              '__doc__': None})"
            ]
          },
          "metadata": {},
          "execution_count": 18
        }
      ]
    },
    {
      "cell_type": "code",
      "source": [
        "Phone"
      ],
      "metadata": {
        "colab": {
          "base_uri": "https://localhost:8080/"
        },
        "id": "JprNBv1wuIkH",
        "outputId": "c2cb9ec3-f73b-4fe8-a4f8-9f3f49bfba9a"
      },
      "execution_count": null,
      "outputs": [
        {
          "output_type": "execute_result",
          "data": {
            "text/plain": [
              "__main__.Phone"
            ]
          },
          "metadata": {},
          "execution_count": 19
        }
      ]
    },
    {
      "cell_type": "code",
      "source": [
        "repr(Phone)"
      ],
      "metadata": {
        "colab": {
          "base_uri": "https://localhost:8080/",
          "height": 35
        },
        "id": "F8Pbg4MRuLSt",
        "outputId": "aab04a13-a5bd-4add-8774-295684556619"
      },
      "execution_count": null,
      "outputs": [
        {
          "output_type": "execute_result",
          "data": {
            "text/plain": [
              "\"<class '__main__.Phone'>\""
            ],
            "application/vnd.google.colaboratory.intrinsic+json": {
              "type": "string"
            }
          },
          "metadata": {},
          "execution_count": 20
        }
      ]
    },
    {
      "cell_type": "code",
      "source": [
        "phone = Phone('Apple')\n",
        "phone\n"
      ],
      "metadata": {
        "colab": {
          "base_uri": "https://localhost:8080/"
        },
        "id": "y5ke1iMquNjP",
        "outputId": "f3f227bc-de54-41d1-a8cd-534f49eaa29f"
      },
      "execution_count": null,
      "outputs": [
        {
          "output_type": "execute_result",
          "data": {
            "text/plain": [
              "<__main__.Phone at 0x7fe28d7b0880>"
            ]
          },
          "metadata": {},
          "execution_count": 21
        }
      ]
    },
    {
      "cell_type": "code",
      "source": [
        "repr(phone)"
      ],
      "metadata": {
        "colab": {
          "base_uri": "https://localhost:8080/",
          "height": 35
        },
        "id": "Edc7Gtd1uVn-",
        "outputId": "c8c888b8-c9fb-47fe-893e-e0d375169eaf"
      },
      "execution_count": null,
      "outputs": [
        {
          "output_type": "execute_result",
          "data": {
            "text/plain": [
              "'<__main__.Phone object at 0x7fe28d7b0880>'"
            ],
            "application/vnd.google.colaboratory.intrinsic+json": {
              "type": "string"
            }
          },
          "metadata": {},
          "execution_count": 22
        }
      ]
    },
    {
      "cell_type": "code",
      "source": [
        "class Phone:\n",
        "    def __init__(self, brand):\n",
        "        self.brand = brand\n",
        "    \n",
        "    def __repr__(self):\n",
        "        return f\"Phone(brand='{self.brand}')\"\n",
        "\n",
        "Phone.__dict__"
      ],
      "metadata": {
        "colab": {
          "base_uri": "https://localhost:8080/"
        },
        "id": "annan0zCuXZl",
        "outputId": "302737d7-6dac-4a26-d237-d081a9c51139"
      },
      "execution_count": null,
      "outputs": [
        {
          "output_type": "execute_result",
          "data": {
            "text/plain": [
              "mappingproxy({'__module__': '__main__',\n",
              "              '__init__': <function __main__.Phone.__init__(self, brand)>,\n",
              "              '__repr__': <function __main__.Phone.__repr__(self)>,\n",
              "              '__dict__': <attribute '__dict__' of 'Phone' objects>,\n",
              "              '__weakref__': <attribute '__weakref__' of 'Phone' objects>,\n",
              "              '__doc__': None})"
            ]
          },
          "metadata": {},
          "execution_count": 23
        }
      ]
    },
    {
      "cell_type": "code",
      "source": [
        "phone = Phone('Apple')\n",
        "phone"
      ],
      "metadata": {
        "colab": {
          "base_uri": "https://localhost:8080/"
        },
        "id": "lqRIcu2Vu7ov",
        "outputId": "04f5725e-fc71-48b8-8044-f4f4b00304c6"
      },
      "execution_count": null,
      "outputs": [
        {
          "output_type": "execute_result",
          "data": {
            "text/plain": [
              "Phone(brand='Apple')"
            ]
          },
          "metadata": {},
          "execution_count": 25
        }
      ]
    },
    {
      "cell_type": "code",
      "source": [
        "repr(phone)"
      ],
      "metadata": {
        "colab": {
          "base_uri": "https://localhost:8080/",
          "height": 35
        },
        "id": "YfiMQGt3u_Hz",
        "outputId": "22bf50ae-057c-4d21-af79-db413044f8e2"
      },
      "execution_count": null,
      "outputs": [
        {
          "output_type": "execute_result",
          "data": {
            "text/plain": [
              "\"Phone(brand='Apple')\""
            ],
            "application/vnd.google.colaboratory.intrinsic+json": {
              "type": "string"
            }
          },
          "metadata": {},
          "execution_count": 26
        }
      ]
    },
    {
      "cell_type": "code",
      "source": [
        "print(phone)"
      ],
      "metadata": {
        "colab": {
          "base_uri": "https://localhost:8080/"
        },
        "id": "117bgiHqvFvh",
        "outputId": "8d03ca63-a37e-4bde-c20e-6c76b7a88615"
      },
      "execution_count": null,
      "outputs": [
        {
          "output_type": "stream",
          "name": "stdout",
          "text": [
            "Phone(brand='Apple')\n"
          ]
        }
      ]
    },
    {
      "cell_type": "code",
      "source": [
        "# reprezentacja obiektu powinna pozwalać na jego ponowne utworzenie\n",
        "\n",
        "eval(repr(phone)) # to zwraca nam konkretny obiekt"
      ],
      "metadata": {
        "colab": {
          "base_uri": "https://localhost:8080/"
        },
        "id": "qoD4XJOFvINt",
        "outputId": "c603b782-f2c5-4d16-9303-7b7376d8a7b7"
      },
      "execution_count": null,
      "outputs": [
        {
          "output_type": "execute_result",
          "data": {
            "text/plain": [
              "Phone(brand='Apple')"
            ]
          },
          "metadata": {},
          "execution_count": 29
        }
      ]
    },
    {
      "cell_type": "code",
      "source": [
        "phone2 = eval(repr(phone)) \n",
        "id(phone2)"
      ],
      "metadata": {
        "colab": {
          "base_uri": "https://localhost:8080/"
        },
        "id": "cNFj5YcbvVQX",
        "outputId": "810162f5-3dcd-4ad9-c199-33aa994cdcd2"
      },
      "execution_count": null,
      "outputs": [
        {
          "output_type": "execute_result",
          "data": {
            "text/plain": [
              "140611012652864"
            ]
          },
          "metadata": {},
          "execution_count": 32
        }
      ]
    },
    {
      "cell_type": "markdown",
      "source": [
        "## `__str__()`"
      ],
      "metadata": {
        "id": "LbNvWQLewVgS"
      }
    },
    {
      "cell_type": "code",
      "source": [
        "help(object.__str__)"
      ],
      "metadata": {
        "colab": {
          "base_uri": "https://localhost:8080/"
        },
        "id": "c4LcIgZswHoi",
        "outputId": "1f42db97-a363-406a-af7c-44e8d7f426e1"
      },
      "execution_count": null,
      "outputs": [
        {
          "output_type": "stream",
          "name": "stdout",
          "text": [
            "Help on wrapper_descriptor:\n",
            "\n",
            "__str__(self, /)\n",
            "    Return str(self).\n",
            "\n"
          ]
        }
      ]
    },
    {
      "cell_type": "code",
      "source": [
        "help(str)"
      ],
      "metadata": {
        "id": "3yC4yKi9wmiu"
      },
      "execution_count": null,
      "outputs": []
    },
    {
      "cell_type": "code",
      "source": [
        "class Phone:\n",
        "    def __init__(self, brand):\n",
        "        self.brand = brand\n",
        "    \n",
        "    def __repr__(self):\n",
        "        return f\"Phone(brand='{self.brand}')\"\n",
        "\n",
        "    def __str__(self):\n",
        "        return f'{self.brand} brand mobile device'\n",
        "\n",
        "Phone.__dict__"
      ],
      "metadata": {
        "colab": {
          "base_uri": "https://localhost:8080/"
        },
        "id": "v5VfjO-ewpY6",
        "outputId": "b0117629-2bb0-45d5-8a2b-e3c81dc10b2b"
      },
      "execution_count": null,
      "outputs": [
        {
          "output_type": "execute_result",
          "data": {
            "text/plain": [
              "mappingproxy({'__module__': '__main__',\n",
              "              '__init__': <function __main__.Phone.__init__(self, brand)>,\n",
              "              '__repr__': <function __main__.Phone.__repr__(self)>,\n",
              "              '__str__': <function __main__.Phone.__str__(self)>,\n",
              "              '__dict__': <attribute '__dict__' of 'Phone' objects>,\n",
              "              '__weakref__': <attribute '__weakref__' of 'Phone' objects>,\n",
              "              '__doc__': None})"
            ]
          },
          "metadata": {},
          "execution_count": 1
        }
      ]
    },
    {
      "cell_type": "code",
      "source": [
        "phone = Phone('Apple')\n",
        "print(phone) # printuje to w funkcji str\n",
        "print(repr(phone)) # rownowazne z print(phone.__repr__())\n",
        "print(str(phone)) # rownowazne z print(phone.__str__())"
      ],
      "metadata": {
        "colab": {
          "base_uri": "https://localhost:8080/"
        },
        "id": "nKSE1z5MxW06",
        "outputId": "f51340cb-4b4f-4773-bb15-25fc27284afd"
      },
      "execution_count": null,
      "outputs": [
        {
          "output_type": "stream",
          "name": "stdout",
          "text": [
            "Apple brand mobile device\n",
            "Phone(brand='Apple')\n",
            "Apple brand mobile device\n"
          ]
        }
      ]
    },
    {
      "cell_type": "code",
      "source": [
        "class Phone:\n",
        "    def __init__(self, brand):\n",
        "        self.brand = brand\n",
        "\n",
        "    def __str__(self):\n",
        "        return f'{self.brand} brand mobile device'\n",
        "\n",
        "Phone.__dict__"
      ],
      "metadata": {
        "colab": {
          "base_uri": "https://localhost:8080/"
        },
        "id": "NWzZBs2txcQ5",
        "outputId": "1ec79af9-a60d-4502-ceb1-64b4294733d6"
      },
      "execution_count": null,
      "outputs": [
        {
          "output_type": "execute_result",
          "data": {
            "text/plain": [
              "mappingproxy({'__module__': '__main__',\n",
              "              '__init__': <function __main__.Phone.__init__(self, brand)>,\n",
              "              '__str__': <function __main__.Phone.__str__(self)>,\n",
              "              '__dict__': <attribute '__dict__' of 'Phone' objects>,\n",
              "              '__weakref__': <attribute '__weakref__' of 'Phone' objects>,\n",
              "              '__doc__': None})"
            ]
          },
          "metadata": {},
          "execution_count": 9
        }
      ]
    },
    {
      "cell_type": "code",
      "source": [
        "phone = Phone('Apple')\n",
        "print(phone) # printuje to w funkcji str\n",
        "print(repr(phone)) # rownowazne z print(phone.__repr__())\n",
        "print(str(phone)) # rownowazne z print(phone.__str__())"
      ],
      "metadata": {
        "colab": {
          "base_uri": "https://localhost:8080/"
        },
        "id": "woAIlqUOyZ_M",
        "outputId": "aa40ebfd-d546-4275-a808-134061a65d72"
      },
      "execution_count": null,
      "outputs": [
        {
          "output_type": "stream",
          "name": "stdout",
          "text": [
            "Apple brand mobile device\n",
            "<__main__.Phone object at 0x7f8be364e610>\n",
            "Apple brand mobile device\n"
          ]
        }
      ]
    },
    {
      "cell_type": "markdown",
      "source": [
        "## `__len__()` ta metoda  nie jest zaimplementowana w podstawowej klasie object - czyli zeby dzialala musimy ją zaimplementować"
      ],
      "metadata": {
        "id": "Vwg5a4mcylQd"
      }
    },
    {
      "cell_type": "code",
      "source": [
        "help(len)"
      ],
      "metadata": {
        "colab": {
          "base_uri": "https://localhost:8080/"
        },
        "id": "E7gZqGQIyavx",
        "outputId": "868838a4-c0ad-4822-f3bf-35b8733128b5"
      },
      "execution_count": null,
      "outputs": [
        {
          "output_type": "stream",
          "name": "stdout",
          "text": [
            "Help on built-in function len in module builtins:\n",
            "\n",
            "len(obj, /)\n",
            "    Return the number of items in a container.\n",
            "\n"
          ]
        }
      ]
    },
    {
      "cell_type": "code",
      "source": [
        "class Point:\n",
        "\n",
        "    def __init__(self, *coords):\n",
        "        for value in coords:\n",
        "            if not isinstance(value, (int, float)):\n",
        "                raise ValueError('Coordintes must be int or float.')\n",
        "        self._coords = coords\n",
        "\n",
        "    def __repr__(self):\n",
        "        return f'Point(coords={self.coords})'\n",
        "\n",
        "    @property\n",
        "    def coords(self):\n",
        "        return self._coords"
      ],
      "metadata": {
        "id": "1V2dV4pKytpT"
      },
      "execution_count": null,
      "outputs": []
    },
    {
      "cell_type": "code",
      "source": [
        "point1 = Point(3, 4)\n",
        "point1.__dict__"
      ],
      "metadata": {
        "colab": {
          "base_uri": "https://localhost:8080/"
        },
        "id": "-pt5Rm17z3Kl",
        "outputId": "5c2f941d-f002-4cb2-953c-c4d953e29a2b"
      },
      "execution_count": null,
      "outputs": [
        {
          "output_type": "execute_result",
          "data": {
            "text/plain": [
              "{'_coords': (3, 4)}"
            ]
          },
          "metadata": {},
          "execution_count": 5
        }
      ]
    },
    {
      "cell_type": "code",
      "source": [
        "point1.coords"
      ],
      "metadata": {
        "colab": {
          "base_uri": "https://localhost:8080/"
        },
        "id": "M_pg5u5J0cCE",
        "outputId": "d365939f-86b1-45f3-9fac-cc69d9acc30e"
      },
      "execution_count": null,
      "outputs": [
        {
          "output_type": "execute_result",
          "data": {
            "text/plain": [
              "(3, 4)"
            ]
          },
          "metadata": {},
          "execution_count": 6
        }
      ]
    },
    {
      "cell_type": "code",
      "source": [
        "repr(point1)"
      ],
      "metadata": {
        "colab": {
          "base_uri": "https://localhost:8080/",
          "height": 35
        },
        "id": "-y1hZiO_0fP9",
        "outputId": "468eede8-5dbe-4ec1-f6a5-679841e13fa7"
      },
      "execution_count": null,
      "outputs": [
        {
          "output_type": "execute_result",
          "data": {
            "text/plain": [
              "'Point(coords=(3, 4))'"
            ],
            "application/vnd.google.colaboratory.intrinsic+json": {
              "type": "string"
            }
          },
          "metadata": {},
          "execution_count": 7
        }
      ]
    },
    {
      "cell_type": "code",
      "source": [
        "point2 = Point(2, 3, 6)"
      ],
      "metadata": {
        "id": "iq0idDW60hnY"
      },
      "execution_count": null,
      "outputs": []
    },
    {
      "cell_type": "code",
      "source": [
        "repr(point2)"
      ],
      "metadata": {
        "colab": {
          "base_uri": "https://localhost:8080/",
          "height": 35
        },
        "id": "2K0Ocxdx0maK",
        "outputId": "7914c0be-af88-4637-a465-3d046a902eb0"
      },
      "execution_count": null,
      "outputs": [
        {
          "output_type": "execute_result",
          "data": {
            "text/plain": [
              "'Point(coords=(2, 3, 6))'"
            ],
            "application/vnd.google.colaboratory.intrinsic+json": {
              "type": "string"
            }
          },
          "metadata": {},
          "execution_count": 9
        }
      ]
    },
    {
      "cell_type": "code",
      "source": [
        "point3 = Point(2, 3, 'albala')"
      ],
      "metadata": {
        "colab": {
          "base_uri": "https://localhost:8080/",
          "height": 288
        },
        "id": "9Fv_OM440pjb",
        "outputId": "ffd684fd-e471-48de-ca63-a316f1505680"
      },
      "execution_count": null,
      "outputs": [
        {
          "output_type": "error",
          "ename": "ValueError",
          "evalue": "ignored",
          "traceback": [
            "\u001b[0;31m---------------------------------------------------------------------------\u001b[0m",
            "\u001b[0;31mValueError\u001b[0m                                Traceback (most recent call last)",
            "\u001b[0;32m<ipython-input-10-05faf9b308f4>\u001b[0m in \u001b[0;36m<module>\u001b[0;34m\u001b[0m\n\u001b[0;32m----> 1\u001b[0;31m \u001b[0mpoint3\u001b[0m \u001b[0;34m=\u001b[0m \u001b[0mPoint\u001b[0m\u001b[0;34m(\u001b[0m\u001b[0;36m2\u001b[0m\u001b[0;34m,\u001b[0m \u001b[0;36m3\u001b[0m\u001b[0;34m,\u001b[0m \u001b[0;34m'albala'\u001b[0m\u001b[0;34m)\u001b[0m\u001b[0;34m\u001b[0m\u001b[0;34m\u001b[0m\u001b[0m\n\u001b[0m",
            "\u001b[0;32m<ipython-input-4-200c0ed7e90c>\u001b[0m in \u001b[0;36m__init__\u001b[0;34m(self, *coords)\u001b[0m\n\u001b[1;32m      4\u001b[0m         \u001b[0;32mfor\u001b[0m \u001b[0mvalue\u001b[0m \u001b[0;32min\u001b[0m \u001b[0mcoords\u001b[0m\u001b[0;34m:\u001b[0m\u001b[0;34m\u001b[0m\u001b[0;34m\u001b[0m\u001b[0m\n\u001b[1;32m      5\u001b[0m             \u001b[0;32mif\u001b[0m \u001b[0;32mnot\u001b[0m \u001b[0misinstance\u001b[0m\u001b[0;34m(\u001b[0m\u001b[0mvalue\u001b[0m\u001b[0;34m,\u001b[0m \u001b[0;34m(\u001b[0m\u001b[0mint\u001b[0m\u001b[0;34m,\u001b[0m \u001b[0mfloat\u001b[0m\u001b[0;34m)\u001b[0m\u001b[0;34m)\u001b[0m\u001b[0;34m:\u001b[0m\u001b[0;34m\u001b[0m\u001b[0;34m\u001b[0m\u001b[0m\n\u001b[0;32m----> 6\u001b[0;31m                 \u001b[0;32mraise\u001b[0m \u001b[0mValueError\u001b[0m\u001b[0;34m(\u001b[0m\u001b[0;34m'Coordintes must be int or float.'\u001b[0m\u001b[0;34m)\u001b[0m\u001b[0;34m\u001b[0m\u001b[0;34m\u001b[0m\u001b[0m\n\u001b[0m\u001b[1;32m      7\u001b[0m         \u001b[0mself\u001b[0m\u001b[0;34m.\u001b[0m\u001b[0m_coords\u001b[0m \u001b[0;34m=\u001b[0m \u001b[0mcoords\u001b[0m\u001b[0;34m\u001b[0m\u001b[0;34m\u001b[0m\u001b[0m\n\u001b[1;32m      8\u001b[0m \u001b[0;34m\u001b[0m\u001b[0m\n",
            "\u001b[0;31mValueError\u001b[0m: Coordintes must be int or float."
          ]
        }
      ]
    },
    {
      "cell_type": "code",
      "source": [
        "len(point2)"
      ],
      "metadata": {
        "colab": {
          "base_uri": "https://localhost:8080/",
          "height": 166
        },
        "id": "sIiUVeA-0vxp",
        "outputId": "9a6c6106-f17b-49e7-b613-4ed498d8a503"
      },
      "execution_count": null,
      "outputs": [
        {
          "output_type": "error",
          "ename": "TypeError",
          "evalue": "ignored",
          "traceback": [
            "\u001b[0;31m---------------------------------------------------------------------------\u001b[0m",
            "\u001b[0;31mTypeError\u001b[0m                                 Traceback (most recent call last)",
            "\u001b[0;32m<ipython-input-11-efcc08b09d91>\u001b[0m in \u001b[0;36m<module>\u001b[0;34m\u001b[0m\n\u001b[0;32m----> 1\u001b[0;31m \u001b[0mlen\u001b[0m\u001b[0;34m(\u001b[0m\u001b[0mpoint2\u001b[0m\u001b[0;34m)\u001b[0m\u001b[0;34m\u001b[0m\u001b[0;34m\u001b[0m\u001b[0m\n\u001b[0m",
            "\u001b[0;31mTypeError\u001b[0m: object of type 'Point' has no len()"
          ]
        }
      ]
    },
    {
      "cell_type": "code",
      "source": [
        "class Point:\n",
        "\n",
        "    def __init__(self, *coords):\n",
        "        for value in coords:\n",
        "            if not isinstance(value, (int, float)):\n",
        "                raise ValueError('Coordintes must be int or float.')\n",
        "        self._coords = coords\n",
        "\n",
        "    def __repr__(self):\n",
        "        return f'Point(coords={self.coords})'\n",
        "    # tu implementujemy funkcję __len__\n",
        "    def __len__(self):\n",
        "        return len(self._coords)\n",
        "\n",
        "    @property\n",
        "    def coords(self):\n",
        "        return self._coords"
      ],
      "metadata": {
        "id": "wDkSmbt800nq"
      },
      "execution_count": null,
      "outputs": []
    },
    {
      "cell_type": "code",
      "source": [
        "point4 = Point(1, 2, 3, 5, 6)"
      ],
      "metadata": {
        "id": "CZ26ubFY1R7U"
      },
      "execution_count": null,
      "outputs": []
    },
    {
      "cell_type": "code",
      "source": [
        "len(point4)"
      ],
      "metadata": {
        "colab": {
          "base_uri": "https://localhost:8080/"
        },
        "id": "aFrfXZUM1Zbi",
        "outputId": "7500508d-f338-4c39-f4d5-aa0f52a54672"
      },
      "execution_count": null,
      "outputs": [
        {
          "output_type": "execute_result",
          "data": {
            "text/plain": [
              "5"
            ]
          },
          "metadata": {},
          "execution_count": 9
        }
      ]
    },
    {
      "cell_type": "code",
      "source": [
        "point4.__len__()"
      ],
      "metadata": {
        "colab": {
          "base_uri": "https://localhost:8080/"
        },
        "id": "n6MCfv7J1cPs",
        "outputId": "d1626e1a-36d1-4ec8-b002-babc97ed93e1"
      },
      "execution_count": null,
      "outputs": [
        {
          "output_type": "execute_result",
          "data": {
            "text/plain": [
              "5"
            ]
          },
          "metadata": {},
          "execution_count": 10
        }
      ]
    },
    {
      "cell_type": "markdown",
      "source": [
        "## `__bool__()`"
      ],
      "metadata": {
        "id": "H2OkSOuM110k"
      }
    },
    {
      "cell_type": "markdown",
      "source": [
        "jeśli ta metoda nie jest zdefiniowana inaczej, wywoływana jest funkcja __len__ i zwraca wartość True jeśli długość obiektu jest nie zerowa"
      ],
      "metadata": {
        "id": "nTE40HsP2B08"
      }
    },
    {
      "cell_type": "code",
      "source": [
        "class Point:\n",
        "\n",
        "    def __init__(self, *coords):\n",
        "        for value in coords:\n",
        "            if not isinstance(value, (int, float)):\n",
        "                raise ValueError('Coordintes must be int or float.')\n",
        "        self._coords = coords\n",
        "\n",
        "    def __repr__(self):\n",
        "        return f'Point(coords={self.coords})'\n",
        "    # tu implementujemy funkcję __len__\n",
        "    def __len__(self):\n",
        "        return len(self._coords)\n",
        "\n",
        "    @property\n",
        "    def coords(self):\n",
        "        return self._coords"
      ],
      "metadata": {
        "id": "s2NYEEff1xGJ"
      },
      "execution_count": null,
      "outputs": []
    },
    {
      "cell_type": "code",
      "source": [
        "p1 = Point()\n",
        "p2 = Point(1, 2)"
      ],
      "metadata": {
        "id": "0xpi1vol2Y3k"
      },
      "execution_count": null,
      "outputs": []
    },
    {
      "cell_type": "code",
      "source": [
        "bool(p1)"
      ],
      "metadata": {
        "colab": {
          "base_uri": "https://localhost:8080/"
        },
        "id": "dE-koZrp2a7h",
        "outputId": "96cd34d6-a608-4f35-e846-a6c244db2221"
      },
      "execution_count": null,
      "outputs": [
        {
          "output_type": "execute_result",
          "data": {
            "text/plain": [
              "False"
            ]
          },
          "metadata": {},
          "execution_count": 6
        }
      ]
    },
    {
      "cell_type": "code",
      "source": [
        "bool(p2)"
      ],
      "metadata": {
        "colab": {
          "base_uri": "https://localhost:8080/"
        },
        "id": "lqLh5Ox02cf9",
        "outputId": "16cd3076-0d66-409f-a692-d2ba0ca720d2"
      },
      "execution_count": null,
      "outputs": [
        {
          "output_type": "execute_result",
          "data": {
            "text/plain": [
              "True"
            ]
          },
          "metadata": {},
          "execution_count": 7
        }
      ]
    },
    {
      "cell_type": "code",
      "source": [
        "# jeśli klasa nie definiuje ani metody __bool__ ani metody \n",
        "# __len__ wszystkie jej istancje zwracają wartość True\n",
        "\n",
        "class Point:\n",
        "\n",
        "    def __init__(self, *coords):\n",
        "        for value in coords:\n",
        "            if not isinstance(value, (int, float)):\n",
        "                raise ValueError('Coordintes must be int or float.')\n",
        "        self._coords = coords\n",
        "\n",
        "    def __repr__(self):\n",
        "        return f'Point(coords={self.coords})'\n",
        "\n",
        "    @property\n",
        "    def coords(self):\n",
        "        return self._coords"
      ],
      "metadata": {
        "id": "WcGQRnZX2iYi"
      },
      "execution_count": null,
      "outputs": []
    },
    {
      "cell_type": "code",
      "source": [
        "p1 = Point()\n",
        "p2 = Point(1, 2)\n",
        "bool(p1), bool(p2)"
      ],
      "metadata": {
        "colab": {
          "base_uri": "https://localhost:8080/"
        },
        "id": "HfDeFY7g2_2G",
        "outputId": "a3ab9f8c-1132-4bc4-b7a2-c17c31e58051"
      },
      "execution_count": null,
      "outputs": [
        {
          "output_type": "execute_result",
          "data": {
            "text/plain": [
              "(True, True)"
            ]
          },
          "metadata": {},
          "execution_count": 9
        }
      ]
    },
    {
      "cell_type": "code",
      "source": [
        "class Point:\n",
        "\n",
        "    def __init__(self, *coords):\n",
        "        for value in coords:\n",
        "            if not isinstance(value, (int, float)):\n",
        "                raise ValueError('Coordintes must be int or float.')\n",
        "        self._coords = coords\n",
        "\n",
        "    def __repr__(self):\n",
        "        return f'Point(coords={self.coords})'\n",
        "    \n",
        "    # tu implementujemy funkcję __len__\n",
        "    def __len__(self):\n",
        "        return len(self._coords)\n",
        "    # zwraca False jeśli współrzędne sumują się do 0\n",
        "    def __bool__(self):\n",
        "        return sum(self._coords) != 0\n",
        "\n",
        "    @property\n",
        "    def coords(self):\n",
        "        return self._coords"
      ],
      "metadata": {
        "id": "naxIyYsd3GUD"
      },
      "execution_count": null,
      "outputs": []
    },
    {
      "cell_type": "code",
      "source": [
        "p1 = Point()\n",
        "p2 = Point(1, 2)\n",
        "p3 = Point(-1, 1, 0)\n",
        "bool(p1), bool(p2), bool(p3)"
      ],
      "metadata": {
        "colab": {
          "base_uri": "https://localhost:8080/"
        },
        "id": "g786wzXm3bY5",
        "outputId": "37657f48-b7fd-4b78-ddb8-5fb9c96125c9"
      },
      "execution_count": null,
      "outputs": [
        {
          "output_type": "execute_result",
          "data": {
            "text/plain": [
              "(False, True, False)"
            ]
          },
          "metadata": {},
          "execution_count": 14
        }
      ]
    },
    {
      "cell_type": "markdown",
      "source": [
        "## Podstawowe operatory"
      ],
      "metadata": {
        "id": "E0OWCAg037TW"
      }
    },
    {
      "cell_type": "code",
      "source": [
        "class Point:\n",
        "\n",
        "    def __init__(self, *coords):\n",
        "        for value in coords:\n",
        "            if not isinstance(value, (int, float)):\n",
        "                raise ValueError('Coordintes must be int or float.')\n",
        "        self._coords = coords\n",
        "\n",
        "    def __repr__(self):\n",
        "        return f'Point(coords={self.coords})'\n",
        "\n",
        "\n",
        "    @property\n",
        "    def coords(self):\n",
        "        return self._coords"
      ],
      "metadata": {
        "id": "WImNQm703dXi"
      },
      "execution_count": null,
      "outputs": []
    },
    {
      "cell_type": "code",
      "source": [
        "p1 = Point(3, 4)\n",
        "p2 = Point(1, 2)"
      ],
      "metadata": {
        "id": "1e-yHi-v4KBs"
      },
      "execution_count": null,
      "outputs": []
    },
    {
      "cell_type": "code",
      "source": [
        "p1 + p2"
      ],
      "metadata": {
        "colab": {
          "base_uri": "https://localhost:8080/",
          "height": 166
        },
        "id": "V21u5cr24OHx",
        "outputId": "1b173874-02f7-43d2-bf28-f5a6c321da1f"
      },
      "execution_count": null,
      "outputs": [
        {
          "output_type": "error",
          "ename": "TypeError",
          "evalue": "ignored",
          "traceback": [
            "\u001b[0;31m---------------------------------------------------------------------------\u001b[0m",
            "\u001b[0;31mTypeError\u001b[0m                                 Traceback (most recent call last)",
            "\u001b[0;32m<ipython-input-17-a0c3d63f397c>\u001b[0m in \u001b[0;36m<module>\u001b[0;34m\u001b[0m\n\u001b[0;32m----> 1\u001b[0;31m \u001b[0mp1\u001b[0m \u001b[0;34m+\u001b[0m \u001b[0mp2\u001b[0m\u001b[0;34m\u001b[0m\u001b[0;34m\u001b[0m\u001b[0m\n\u001b[0m",
            "\u001b[0;31mTypeError\u001b[0m: unsupported operand type(s) for +: 'Point' and 'Point'"
          ]
        }
      ]
    },
    {
      "cell_type": "code",
      "source": [
        "class Point:\n",
        "\n",
        "    def __init__(self, *coords):\n",
        "        for value in coords:\n",
        "            if not isinstance(value, (int, float)):\n",
        "                raise ValueError('Coordintes must be int or float.')\n",
        "        self._coords = coords\n",
        "\n",
        "    def __repr__(self):\n",
        "        return f'Point(coords={self.coords})'\n",
        "\n",
        "    # operator \"+\" jest z automatu przypisany do funkcji __add__\n",
        "    def __add__(self, other):\n",
        "        if not isinstance(other, Point):\n",
        "            return NotImplemented\n",
        "        coords = tuple(x + y for x, y in zip(self.coords, other.coords))\n",
        "        return Point(*coords)\n",
        "\n",
        "    @property\n",
        "    def coords(self):\n",
        "        return self._coords"
      ],
      "metadata": {
        "id": "LKFehqa54QSy"
      },
      "execution_count": null,
      "outputs": []
    },
    {
      "cell_type": "code",
      "source": [
        "p1 = Point(3, 4)\n",
        "p2 = Point(1, 2)\n",
        "p1 + p2"
      ],
      "metadata": {
        "colab": {
          "base_uri": "https://localhost:8080/"
        },
        "id": "QyYBbFh94u7j",
        "outputId": "79940e58-ecfd-49b8-c89d-f3986c4c39de"
      },
      "execution_count": null,
      "outputs": [
        {
          "output_type": "execute_result",
          "data": {
            "text/plain": [
              "Point(coords=(4, 6))"
            ]
          },
          "metadata": {},
          "execution_count": 37
        }
      ]
    },
    {
      "cell_type": "code",
      "source": [
        "p1.__add__(p2) # rownowazne z: p1 + p2"
      ],
      "metadata": {
        "colab": {
          "base_uri": "https://localhost:8080/"
        },
        "id": "jUd1U5zh5sMf",
        "outputId": "627b6a95-0f92-4906-8d31-4499bc5b6568"
      },
      "execution_count": null,
      "outputs": [
        {
          "output_type": "execute_result",
          "data": {
            "text/plain": [
              "Point(coords=(4, 6))"
            ]
          },
          "metadata": {},
          "execution_count": 38
        }
      ]
    },
    {
      "cell_type": "code",
      "source": [
        "p1 + 4"
      ],
      "metadata": {
        "colab": {
          "base_uri": "https://localhost:8080/",
          "height": 166
        },
        "id": "IQhk9MTq9u1y",
        "outputId": "d324dda5-e226-4f81-f15d-a78f50657762"
      },
      "execution_count": null,
      "outputs": [
        {
          "output_type": "error",
          "ename": "TypeError",
          "evalue": "ignored",
          "traceback": [
            "\u001b[0;31m---------------------------------------------------------------------------\u001b[0m",
            "\u001b[0;31mTypeError\u001b[0m                                 Traceback (most recent call last)",
            "\u001b[0;32m<ipython-input-39-071b8d937e5a>\u001b[0m in \u001b[0;36m<module>\u001b[0;34m\u001b[0m\n\u001b[0;32m----> 1\u001b[0;31m \u001b[0mp1\u001b[0m \u001b[0;34m+\u001b[0m \u001b[0;36m4\u001b[0m\u001b[0;34m\u001b[0m\u001b[0;34m\u001b[0m\u001b[0m\n\u001b[0m",
            "\u001b[0;31mTypeError\u001b[0m: unsupported operand type(s) for +: 'Point' and 'int'"
          ]
        }
      ]
    },
    {
      "cell_type": "code",
      "source": [
        "p1.__add__(9)"
      ],
      "metadata": {
        "colab": {
          "base_uri": "https://localhost:8080/"
        },
        "id": "s2M2YatH-i-b",
        "outputId": "27434f3f-b5a3-4345-b906-80216fdc3df7"
      },
      "execution_count": null,
      "outputs": [
        {
          "output_type": "execute_result",
          "data": {
            "text/plain": [
              "NotImplemented"
            ]
          },
          "metadata": {},
          "execution_count": 40
        }
      ]
    },
    {
      "cell_type": "markdown",
      "source": [
        "## `__sub__()`\n"
      ],
      "metadata": {
        "id": "E3tjwyKC_x3X"
      }
    },
    {
      "cell_type": "code",
      "source": [
        "class Point:\n",
        "\n",
        "    def __init__(self, *coords):\n",
        "        for value in coords:\n",
        "            if not isinstance(value, (int, float)):\n",
        "                raise ValueError('Coordintes must be int or float.')\n",
        "        self._coords = coords\n",
        "\n",
        "    def __repr__(self):\n",
        "        return f'Point(coords={self.coords})'\n",
        "\n",
        "    # operator \"+\" jest z automatu przypisany do funkcji __add__\n",
        "    def __add__(self, other):\n",
        "        if not isinstance(other, Point):\n",
        "            return NotImplemented\n",
        "        coords = tuple(x + y for x, y in zip(self.coords, other.coords))\n",
        "        return Point(*coords)\n",
        "      \n",
        "     # operator \"-\" jest z automatu przypisany do funkcji __sub__\n",
        "    def __sub__(self, other):\n",
        "        if not isinstance(other, Point):\n",
        "            return NotImplemented\n",
        "        coords = tuple(x - y for x, y in zip(self.coords, other.coords))\n",
        "        return Point(*coords)\n",
        "\n",
        "    @property\n",
        "    def coords(self):\n",
        "        return self._coords"
      ],
      "metadata": {
        "id": "AUYtKIIe_rgC"
      },
      "execution_count": null,
      "outputs": []
    },
    {
      "cell_type": "code",
      "source": [
        "p1 = Point(3, 4)\n",
        "p2 = Point(1, 2)\n",
        "p1 - p2"
      ],
      "metadata": {
        "colab": {
          "base_uri": "https://localhost:8080/"
        },
        "id": "P2XQw7mc__r6",
        "outputId": "1c6cd109-721d-467c-dd7a-0557d06bac00"
      },
      "execution_count": null,
      "outputs": [
        {
          "output_type": "execute_result",
          "data": {
            "text/plain": [
              "Point(coords=(2, 2))"
            ]
          },
          "metadata": {},
          "execution_count": 2
        }
      ]
    },
    {
      "cell_type": "markdown",
      "source": [
        "## `__mul__()`"
      ],
      "metadata": {
        "id": "bvgoTUvMAerm"
      }
    },
    {
      "cell_type": "code",
      "source": [
        "class Point:\n",
        "\n",
        "    def __init__(self, *coords):\n",
        "        for value in coords:\n",
        "            if not isinstance(value, (int, float)):\n",
        "                raise ValueError('Coordintes must be int or float.')\n",
        "        self._coords = coords\n",
        "\n",
        "    def __repr__(self):\n",
        "        return f'Point(coords={self.coords})'\n",
        "\n",
        "    # operator \"+\" jest z automatu przypisany do funkcji __add__\n",
        "    def __add__(self, other):\n",
        "        if not isinstance(other, Point):\n",
        "            return NotImplemented\n",
        "        coords = tuple(x + y for x, y in zip(self.coords, other.coords))\n",
        "        return Point(*coords)\n",
        "      \n",
        "    # operator \"-\" jest z automatu przypisany do funkcji __sub__\n",
        "    def __sub__(self, other):\n",
        "        if not isinstance(other, Point):\n",
        "            return NotImplemented\n",
        "        coords = tuple(x - y for x, y in zip(self.coords, other.coords))\n",
        "        return Point(*coords)\n",
        "    \n",
        "    # operator \"*\" jest z automatu przypisany do funkcji __mul__\n",
        "    def __mul__(self, other):\n",
        "        if not isinstance(other, Point):\n",
        "            return NotImplemented\n",
        "        coords = tuple(x * y for x, y in zip(self.coords, other.coords))\n",
        "        return Point(*coords)\n",
        "\n",
        "    @property\n",
        "    def coords(self):\n",
        "        return self._coords"
      ],
      "metadata": {
        "id": "rOgimrY7ABiJ"
      },
      "execution_count": null,
      "outputs": []
    },
    {
      "cell_type": "code",
      "source": [
        "p1 = Point(3, 4)\n",
        "p2 = Point(1, 2)\n",
        "p1 * p2"
      ],
      "metadata": {
        "colab": {
          "base_uri": "https://localhost:8080/"
        },
        "id": "ozCOOolOAlaw",
        "outputId": "2232c00f-802d-4e35-8b89-60b4190c5491"
      },
      "execution_count": null,
      "outputs": [
        {
          "output_type": "execute_result",
          "data": {
            "text/plain": [
              "Point(coords=(3, 8))"
            ]
          },
          "metadata": {},
          "execution_count": 6
        }
      ]
    },
    {
      "cell_type": "markdown",
      "source": [
        "## `__truediv__()` i `__floordiv__()`"
      ],
      "metadata": {
        "id": "-M3AT-hTBH4y"
      }
    },
    {
      "cell_type": "code",
      "source": [
        "a, b = 5, 2"
      ],
      "metadata": {
        "id": "-8oBGA0vAmPA"
      },
      "execution_count": null,
      "outputs": []
    },
    {
      "cell_type": "code",
      "source": [
        "a / b"
      ],
      "metadata": {
        "colab": {
          "base_uri": "https://localhost:8080/"
        },
        "id": "uEiN7dU4B_IX",
        "outputId": "5f31075f-6b47-460b-c5a3-f90766df9833"
      },
      "execution_count": null,
      "outputs": [
        {
          "output_type": "execute_result",
          "data": {
            "text/plain": [
              "2.5"
            ]
          },
          "metadata": {},
          "execution_count": 8
        }
      ]
    },
    {
      "cell_type": "code",
      "source": [
        "b / a"
      ],
      "metadata": {
        "colab": {
          "base_uri": "https://localhost:8080/"
        },
        "id": "8OsdQYA0CA4Y",
        "outputId": "f7e7da13-07b9-4a30-97b0-3e500fabd647"
      },
      "execution_count": null,
      "outputs": [
        {
          "output_type": "execute_result",
          "data": {
            "text/plain": [
              "0.4"
            ]
          },
          "metadata": {},
          "execution_count": 9
        }
      ]
    },
    {
      "cell_type": "code",
      "source": [
        "a // b"
      ],
      "metadata": {
        "colab": {
          "base_uri": "https://localhost:8080/"
        },
        "id": "0ZtXXDCjCC1-",
        "outputId": "b6af5d27-879b-4989-9db3-daa8c7698fba"
      },
      "execution_count": null,
      "outputs": [
        {
          "output_type": "execute_result",
          "data": {
            "text/plain": [
              "2"
            ]
          },
          "metadata": {},
          "execution_count": 10
        }
      ]
    },
    {
      "cell_type": "code",
      "source": [
        "b // a"
      ],
      "metadata": {
        "colab": {
          "base_uri": "https://localhost:8080/"
        },
        "id": "Cw1rXX_aCJF-",
        "outputId": "f8365db2-2366-473c-a77e-9ab6dc5c62da"
      },
      "execution_count": null,
      "outputs": [
        {
          "output_type": "execute_result",
          "data": {
            "text/plain": [
              "0"
            ]
          },
          "metadata": {},
          "execution_count": 11
        }
      ]
    },
    {
      "cell_type": "code",
      "source": [
        "class Point:\n",
        "\n",
        "    def __init__(self, *coords):\n",
        "        for value in coords:\n",
        "            if not isinstance(value, (int, float)):\n",
        "                raise ValueError('Coordintes must be int or float.')\n",
        "        self._coords = coords\n",
        "\n",
        "    def __repr__(self):\n",
        "        return f'Point(coords={self.coords})'\n",
        "\n",
        "    # operator \"+\" jest z automatu przypisany do funkcji __add__\n",
        "    def __add__(self, other):\n",
        "        if not isinstance(other, Point):\n",
        "            return NotImplemented\n",
        "        coords = tuple(x + y for x, y in zip(self.coords, other.coords))\n",
        "        return Point(*coords)\n",
        "      \n",
        "    # operator \"-\" jest z automatu przypisany do funkcji __sub__\n",
        "    def __sub__(self, other):\n",
        "        if not isinstance(other, Point):\n",
        "            return NotImplemented\n",
        "        coords = tuple(x - y for x, y in zip(self.coords, other.coords))\n",
        "        return Point(*coords)\n",
        "    \n",
        "    # operator \"*\" jest z automatu przypisany do funkcji __mul__\n",
        "    def __mul__(self, other):\n",
        "        if not isinstance(other, Point):\n",
        "            return NotImplemented\n",
        "        coords = tuple(x * y for x, y in zip(self.coords, other.coords))\n",
        "        return Point(*coords)\n",
        "\n",
        "    # operator \"/\" jest z automatu przypisany do funkcji __truediv__\n",
        "    def __truediv__(self, other):\n",
        "        if not isinstance(other, Point):\n",
        "            return NotImplemented\n",
        "        for cord in other.coords:\n",
        "            if cord == 0:\n",
        "                raise ZeroDivisionError('Division by 0')\n",
        "        coords = tuple(x / y for x, y in zip(self.coords, other.coords))\n",
        "        return Point(*coords)\n",
        "\n",
        "    # operator \"//\" jest z automatu przypisany do funkcji __floordiv__\n",
        "    def __floordiv__(self, other):\n",
        "        if not isinstance(other, Point):\n",
        "            return NotImplemented\n",
        "        for cord in other.coords:\n",
        "            if cord == 0:\n",
        "                raise ZeroDivisionError('Division by 0')\n",
        "        coords = tuple(x // y for x, y in zip(self.coords, other.coords))\n",
        "        return Point(*coords)\n",
        "\n",
        "    @property\n",
        "    def coords(self):\n",
        "        return self._coords"
      ],
      "metadata": {
        "id": "qUokmdtgCMW9"
      },
      "execution_count": null,
      "outputs": []
    },
    {
      "cell_type": "code",
      "source": [
        "p1 = Point(0, 13)\n",
        "p2 = Point(3, 8)\n",
        "p1 / p2"
      ],
      "metadata": {
        "colab": {
          "base_uri": "https://localhost:8080/"
        },
        "id": "TbbZfFMsCqO6",
        "outputId": "8bae6ee4-5fba-4f59-8bef-d97a7dd85aa7"
      },
      "execution_count": null,
      "outputs": [
        {
          "output_type": "execute_result",
          "data": {
            "text/plain": [
              "Point(coords=(0.0, 1.625))"
            ]
          },
          "metadata": {},
          "execution_count": 22
        }
      ]
    },
    {
      "cell_type": "code",
      "source": [
        "p1 / 2"
      ],
      "metadata": {
        "colab": {
          "base_uri": "https://localhost:8080/",
          "height": 166
        },
        "id": "IwAjYSNzC8lQ",
        "outputId": "02622d35-86e3-4a40-a432-517ea76b5f10"
      },
      "execution_count": null,
      "outputs": [
        {
          "output_type": "error",
          "ename": "TypeError",
          "evalue": "ignored",
          "traceback": [
            "\u001b[0;31m---------------------------------------------------------------------------\u001b[0m",
            "\u001b[0;31mTypeError\u001b[0m                                 Traceback (most recent call last)",
            "\u001b[0;32m<ipython-input-23-4ddfed68a0a7>\u001b[0m in \u001b[0;36m<module>\u001b[0;34m\u001b[0m\n\u001b[0;32m----> 1\u001b[0;31m \u001b[0mp1\u001b[0m \u001b[0;34m/\u001b[0m \u001b[0;36m2\u001b[0m\u001b[0;34m\u001b[0m\u001b[0;34m\u001b[0m\u001b[0m\n\u001b[0m",
            "\u001b[0;31mTypeError\u001b[0m: unsupported operand type(s) for /: 'Point' and 'int'"
          ]
        }
      ]
    },
    {
      "cell_type": "markdown",
      "source": [
        "## Przykład"
      ],
      "metadata": {
        "id": "giUtCxG9EYBb"
      }
    },
    {
      "cell_type": "code",
      "source": [
        "class Doc:\n",
        "\n",
        "    def __init__(self, string):\n",
        "        self.string = string\n",
        "\n",
        "    def __repr__(self):\n",
        "        return f\"Doc(string='{self.string}')\"\n",
        "    \n",
        "    def __str__(self):\n",
        "        return f'{self.string}'\n",
        "\n",
        "    def __add__(self, other):\n",
        "        if not isinstance(other, Doc):\n",
        "            return NotImplemented\n",
        "        return Doc(self.string + ' ' + other.string)\n",
        "\n",
        "    "
      ],
      "metadata": {
        "id": "2pNqM_0wD4VG"
      },
      "execution_count": null,
      "outputs": []
    },
    {
      "cell_type": "code",
      "source": [
        "doc1 = Doc('object') \n",
        "doc2 = Doc('oriented')\n",
        "doc3 = Doc('programing')\n",
        "doc1 + doc2 + doc3"
      ],
      "metadata": {
        "colab": {
          "base_uri": "https://localhost:8080/"
        },
        "id": "ujlHnKzMEyjA",
        "outputId": "05705e98-c968-4baf-9d0a-81acf880a3b8"
      },
      "execution_count": null,
      "outputs": [
        {
          "output_type": "execute_result",
          "data": {
            "text/plain": [
              "Doc(string='object oriented programing')"
            ]
          },
          "metadata": {},
          "execution_count": 49
        }
      ]
    },
    {
      "cell_type": "code",
      "source": [
        "print(doc3 + doc1)"
      ],
      "metadata": {
        "colab": {
          "base_uri": "https://localhost:8080/"
        },
        "id": "kULkqSbcFJ5q",
        "outputId": "aeea00b3-9244-4d5c-9d61-4dfc9c63bdc6"
      },
      "execution_count": null,
      "outputs": [
        {
          "output_type": "stream",
          "name": "stdout",
          "text": [
            "programing object\n"
          ]
        }
      ]
    },
    {
      "cell_type": "markdown",
      "source": [
        "# Rozszerzone przypisanie, czyli += -= *= /= //="
      ],
      "metadata": {
        "id": "WOZAr6dcHkSc"
      }
    },
    {
      "cell_type": "markdown",
      "source": [
        "## `+=`  ----- `object.__iadd__(self, other)`"
      ],
      "metadata": {
        "id": "13px71MFHr4f"
      }
    },
    {
      "cell_type": "code",
      "source": [
        "class Doc:\n",
        "\n",
        "    def __init__(self, string):\n",
        "        self.string = string\n",
        "\n",
        "    def __repr__(self):\n",
        "        return f\"Doc(string='{self.string}')\"\n",
        "    \n",
        "    def __str__(self):\n",
        "        return f'{self.string}'\n",
        "\n",
        "    def __add__(self, other):\n",
        "        if not isinstance(other, Doc):\n",
        "            return NotImplemented\n",
        "        return Doc(self.string + ' ' + other.string)"
      ],
      "metadata": {
        "id": "QrDHyEGYFsmC"
      },
      "execution_count": null,
      "outputs": []
    },
    {
      "cell_type": "code",
      "source": [
        "doc1 = Doc('object') \n",
        "doc2 = Doc('oriented')\n",
        "doc3 = Doc('programing')"
      ],
      "metadata": {
        "colab": {
          "base_uri": "https://localhost:8080/"
        },
        "id": "Y0QFovT2INJu",
        "outputId": "1943bc36-6e76-4846-ec5a-941c5887e1fb"
      },
      "execution_count": null,
      "outputs": [
        {
          "output_type": "execute_result",
          "data": {
            "text/plain": [
              "Doc(string='object oriented programing')"
            ]
          },
          "metadata": {},
          "execution_count": 52
        }
      ]
    },
    {
      "cell_type": "code",
      "source": [
        "doc1 += doc2"
      ],
      "metadata": {
        "id": "EoQvoSKWIN6C"
      },
      "execution_count": null,
      "outputs": []
    },
    {
      "cell_type": "code",
      "source": [
        "doc1"
      ],
      "metadata": {
        "colab": {
          "base_uri": "https://localhost:8080/"
        },
        "id": "EhL4XwDgIUUS",
        "outputId": "87ab4e27-1717-4d4e-a23c-7b5d88473b12"
      },
      "execution_count": null,
      "outputs": [
        {
          "output_type": "execute_result",
          "data": {
            "text/plain": [
              "Doc(string='object oriented oriented')"
            ]
          },
          "metadata": {},
          "execution_count": 55
        }
      ]
    },
    {
      "cell_type": "code",
      "source": [
        "class Doc:\n",
        "\n",
        "    def __init__(self, string):\n",
        "        self.string = string\n",
        "\n",
        "    def __repr__(self):\n",
        "        return f\"Doc(string='{self.string}')\"\n",
        "    \n",
        "    def __str__(self):\n",
        "        return f'{self.string}'\n",
        "\n",
        "    def __add__(self, other):\n",
        "        if not isinstance(other, Doc):\n",
        "            return NotImplemented\n",
        "        return Doc(self.string + ' ' + other.string)\n",
        "    \n",
        "    # sklejamy stringi ' * ' zamiast sama spacja dla odroznienia od __add__\n",
        "    # jeśli metoda nie jest zaimplementowana to uzywana jest metoda __add__\n",
        "    def __iadd__(self, other):\n",
        "        if not isinstance(other, Doc):\n",
        "            return NotImplemented\n",
        "        return Doc(self.string + ' * ' + other.string)"
      ],
      "metadata": {
        "id": "bpWQx3FgIcp7"
      },
      "execution_count": null,
      "outputs": []
    },
    {
      "cell_type": "code",
      "source": [
        "doc1 = Doc('object') \n",
        "doc2 = Doc('oriented')\n",
        "doc3 = Doc('programing')"
      ],
      "metadata": {
        "id": "jGYp2uaMIl-N"
      },
      "execution_count": null,
      "outputs": []
    },
    {
      "cell_type": "code",
      "source": [
        "doc1 += doc2\n",
        "doc1"
      ],
      "metadata": {
        "colab": {
          "base_uri": "https://localhost:8080/"
        },
        "id": "4liQe_16Ir3Q",
        "outputId": "5ec2dc92-8898-453d-eb97-f7a859ea5e36"
      },
      "execution_count": null,
      "outputs": [
        {
          "output_type": "execute_result",
          "data": {
            "text/plain": [
              "Doc(string='object * oriented')"
            ]
          },
          "metadata": {},
          "execution_count": 62
        }
      ]
    },
    {
      "cell_type": "markdown",
      "source": [
        "# Operatory porównania\n",
        "```\n",
        ">      object.__lt__(self, other)\n",
        ">=     object.__le__(self, other)\n",
        "<      object.__gt__(self, other)\n",
        "<=     object.__ge__(self, other)\n",
        "==     object.__eq__(self, other)\n",
        "!=     object.__ne__(self, other)\n",
        "```"
      ],
      "metadata": {
        "id": "ELFhRqf2JksO"
      }
    },
    {
      "cell_type": "markdown",
      "source": [
        "## `>`"
      ],
      "metadata": {
        "id": "XVp6p-PAK1Dz"
      }
    },
    {
      "cell_type": "code",
      "source": [
        "class Doc:\n",
        "\n",
        "    def __init__(self, string):\n",
        "        self.string = string\n",
        "\n",
        "    def __repr__(self):\n",
        "        return f\"Doc(string='{self.string}')\"\n",
        "    \n",
        "    def __str__(self):\n",
        "        return f'{self.string}'\n",
        "\n",
        "    def __add__(self, other):\n",
        "        if not isinstance(other, Doc):\n",
        "            return NotImplemented\n",
        "        return Doc(self.string + ' ' + other.string)\n",
        "    "
      ],
      "metadata": {
        "id": "lPWMej_JIvPO"
      },
      "execution_count": null,
      "outputs": []
    },
    {
      "cell_type": "code",
      "source": [
        "doc1 = Doc('object') \n",
        "doc2 = Doc('object')\n",
        "doc3 = Doc('programing')"
      ],
      "metadata": {
        "id": "pvnWfXibLBYc"
      },
      "execution_count": null,
      "outputs": []
    },
    {
      "cell_type": "code",
      "source": [
        "doc1 == doc2"
      ],
      "metadata": {
        "colab": {
          "base_uri": "https://localhost:8080/"
        },
        "id": "7zv1-TtwLKCs",
        "outputId": "e73de985-1fc0-41c6-a78f-d36daf93f392"
      },
      "execution_count": null,
      "outputs": [
        {
          "output_type": "execute_result",
          "data": {
            "text/plain": [
              "False"
            ]
          },
          "metadata": {},
          "execution_count": 6
        }
      ]
    },
    {
      "cell_type": "code",
      "source": [
        "# te obiekty byłyby równe gdyby to były te same obiekty\n",
        "# uzywajac operatora porownania z klsy object\n",
        "id(doc1), id(doc2)"
      ],
      "metadata": {
        "colab": {
          "base_uri": "https://localhost:8080/"
        },
        "id": "JtpuYw1HLLqK",
        "outputId": "1fe1c3f7-e0fc-43c4-d8dd-c4ed90667c78"
      },
      "execution_count": null,
      "outputs": [
        {
          "output_type": "execute_result",
          "data": {
            "text/plain": [
              "(140572712712704, 140572712711216)"
            ]
          },
          "metadata": {},
          "execution_count": 7
        }
      ]
    },
    {
      "cell_type": "code",
      "source": [
        "doc4 = doc3\n",
        "doc4 == doc3 # oba wskaźniki odnoszą się do tego samego obiektu"
      ],
      "metadata": {
        "colab": {
          "base_uri": "https://localhost:8080/"
        },
        "id": "rJTeU4VWLbSp",
        "outputId": "61325c9d-2565-487f-b675-84333064599a"
      },
      "execution_count": null,
      "outputs": [
        {
          "output_type": "execute_result",
          "data": {
            "text/plain": [
              "True"
            ]
          },
          "metadata": {},
          "execution_count": 9
        }
      ]
    },
    {
      "cell_type": "code",
      "source": [
        "id(doc3), id(doc4)"
      ],
      "metadata": {
        "colab": {
          "base_uri": "https://localhost:8080/"
        },
        "id": "nwLRLfloLm2i",
        "outputId": "a30ef088-9d64-4650-c47d-8bfc64a8d2d3"
      },
      "execution_count": null,
      "outputs": [
        {
          "output_type": "execute_result",
          "data": {
            "text/plain": [
              "(140572712712800, 140572712712800)"
            ]
          },
          "metadata": {},
          "execution_count": 10
        }
      ]
    },
    {
      "cell_type": "code",
      "source": [
        "# zaimplementujemy metode która będzie uwazała obiekty typu Doc za równe\n",
        "# jeśli ich atrybuty string będą tej samej długości\n",
        "\n",
        "class Doc:\n",
        "\n",
        "    def __init__(self, string):\n",
        "        self.string = string\n",
        "\n",
        "    def __repr__(self):\n",
        "        return f\"Doc(string='{self.string}')\"\n",
        "    \n",
        "    def __str__(self):\n",
        "        return f'{self.string}'\n",
        "\n",
        "    def __add__(self, other):\n",
        "        if not isinstance(other, Doc):\n",
        "            return NotImplemented\n",
        "        return Doc(self.string + ' ' + other.string)\n",
        "    \n",
        "    def __eq__(self, other):\n",
        "        if not isinstance(other, Doc):\n",
        "            return False\n",
        "        return len(self.string) == len(other.string)\n",
        "\n",
        "    # metoda __ne__ jest z automatu wnioskowana jak zaimplementuje się metodę\n",
        "    # __eq__ czyli jest tym samym tylko na odwrot"
      ],
      "metadata": {
        "id": "i-_Oi2v5LzHo"
      },
      "execution_count": null,
      "outputs": []
    },
    {
      "cell_type": "code",
      "source": [
        "doc1 = Doc('object') \n",
        "doc2 = Doc('aaaaaa')\n",
        "doc3 = Doc('programing')"
      ],
      "metadata": {
        "id": "gjIljZhZM1jI"
      },
      "execution_count": null,
      "outputs": []
    },
    {
      "cell_type": "code",
      "source": [
        "doc1 == doc3"
      ],
      "metadata": {
        "colab": {
          "base_uri": "https://localhost:8080/"
        },
        "id": "tsZcSagyM62P",
        "outputId": "aa4918a7-b5fe-48dc-8af3-b004def864cd"
      },
      "execution_count": null,
      "outputs": [
        {
          "output_type": "execute_result",
          "data": {
            "text/plain": [
              "False"
            ]
          },
          "metadata": {},
          "execution_count": 21
        }
      ]
    },
    {
      "cell_type": "markdown",
      "source": [
        "## less then `__lt__()`"
      ],
      "metadata": {
        "id": "uLjHHO1KNp6h"
      }
    },
    {
      "cell_type": "code",
      "source": [
        "class Doc:\n",
        "\n",
        "    def __init__(self, string):\n",
        "        self.string = string\n",
        "\n",
        "    def __repr__(self):\n",
        "        return f\"Doc(string='{self.string}')\"\n",
        "    \n",
        "    def __str__(self):\n",
        "        return f'{self.string}'\n",
        "\n",
        "    def __add__(self, other):\n",
        "        if not isinstance(other, Doc):\n",
        "            return NotImplemented\n",
        "        return Doc(self.string + ' ' + other.string)\n",
        "    \n",
        "    def __eq__(self, other):\n",
        "        if not isinstance(other, Doc):\n",
        "            return False\n",
        "        return len(self.string) == len(other.string)\n",
        "\n",
        "    def __lt__(self, other):\n",
        "        if not isinstance(other, Doc):\n",
        "            return NotImplemented\n",
        "        return len(self.string) < len(other.string)\n",
        "\n",
        "    def __le__(self, other):\n",
        "        if not isinstance(other, Doc):\n",
        "            return NotImplemented\n",
        "        return len(self.string) <= len(other.string)\n",
        "\n",
        "    # metody __gt__ i __ge__ sa robiona z autoamatu jak\n",
        "    # jak zrobi się metody __lt__ i __le__"
      ],
      "metadata": {
        "id": "i4CMsv3FM9dU"
      },
      "execution_count": null,
      "outputs": []
    },
    {
      "cell_type": "code",
      "source": [
        "doc1 = Doc('object') \n",
        "doc2 = Doc('aaaaaa')\n",
        "doc3 = Doc('programing')"
      ],
      "metadata": {
        "id": "SzsopFJGO0SS"
      },
      "execution_count": null,
      "outputs": []
    },
    {
      "cell_type": "code",
      "source": [
        "doc1 > doc3"
      ],
      "metadata": {
        "colab": {
          "base_uri": "https://localhost:8080/"
        },
        "id": "LoUzo2VkO5fH",
        "outputId": "7bc50e14-e5f8-4e82-a082-4292d4ef8e72"
      },
      "execution_count": null,
      "outputs": [
        {
          "output_type": "execute_result",
          "data": {
            "text/plain": [
              "False"
            ]
          },
          "metadata": {},
          "execution_count": 10
        }
      ]
    },
    {
      "cell_type": "markdown",
      "source": [
        "## Metoda `__hash__()`"
      ],
      "metadata": {
        "id": "YpCL8Xe0P92D"
      }
    },
    {
      "cell_type": "code",
      "source": [
        "help(hash)"
      ],
      "metadata": {
        "colab": {
          "base_uri": "https://localhost:8080/"
        },
        "id": "pVK4e97JO7q4",
        "outputId": "fece6253-0b84-4b73-9280-67455237ea40"
      },
      "execution_count": null,
      "outputs": [
        {
          "output_type": "stream",
          "name": "stdout",
          "text": [
            "Help on built-in function hash in module builtins:\n",
            "\n",
            "hash(obj, /)\n",
            "    Return the hash value for the given object.\n",
            "    \n",
            "    Two objects that compare equal must also have the same hash value, but the\n",
            "    reverse is not necessarily true.\n",
            "\n"
          ]
        }
      ]
    },
    {
      "cell_type": "code",
      "source": [
        "class Doc:\n",
        "    pass\n",
        "\n",
        "doc1 = Doc()\n",
        "doc2 = Doc()\n",
        "\n",
        "doc1, doc1"
      ],
      "metadata": {
        "colab": {
          "base_uri": "https://localhost:8080/"
        },
        "id": "V-WP6reHQE5w",
        "outputId": "588a229f-f0d9-44cf-9b03-da4ea75bc845"
      },
      "execution_count": null,
      "outputs": [
        {
          "output_type": "execute_result",
          "data": {
            "text/plain": [
              "(<__main__.Doc at 0x7fb18046dca0>, <__main__.Doc at 0x7fb18046dca0>)"
            ]
          },
          "metadata": {},
          "execution_count": 12
        }
      ]
    },
    {
      "cell_type": "code",
      "source": [
        "hash(doc1), hash(doc2) # różne obiekty maja różne artości hash"
      ],
      "metadata": {
        "colab": {
          "base_uri": "https://localhost:8080/"
        },
        "id": "cN4Rh7ehQVJk",
        "outputId": "919a4079-e308-47e8-bb06-260d9ebd3040"
      },
      "execution_count": null,
      "outputs": [
        {
          "output_type": "execute_result",
          "data": {
            "text/plain": [
              "(8775021129162, 8775021129165)"
            ]
          },
          "metadata": {},
          "execution_count": 13
        }
      ]
    },
    {
      "cell_type": "code",
      "source": [
        "# Jeśli klasa ma metodę __eq__ ale nie ma metody __hash__ nie można uzywać jej\n",
        "# instancji w kolekcjach haszowalnych\n",
        "class Doc:\n",
        "    \n",
        "    def __init__(self, string):\n",
        "        self.string = string\n",
        "\n",
        "    def __eq__(self, other):\n",
        "        return isinstance(other, Doc) and self.string == other.string\n",
        "           \n",
        "doc1 = Doc('OOP')\n",
        "doc2 = Doc('OOP')\n",
        "doc3 = Doc('Python')\n",
        "\n",
        "doc1, doc1"
      ],
      "metadata": {
        "colab": {
          "base_uri": "https://localhost:8080/"
        },
        "id": "TOZ_cSYkQdX_",
        "outputId": "23115124-4539-418b-a00c-f81b0bca5ec7"
      },
      "execution_count": null,
      "outputs": [
        {
          "output_type": "execute_result",
          "data": {
            "text/plain": [
              "(<__main__.Doc at 0x7fb180489a90>, <__main__.Doc at 0x7fb180489a90>)"
            ]
          },
          "metadata": {},
          "execution_count": 15
        }
      ]
    },
    {
      "cell_type": "code",
      "source": [
        "hash(doc1)"
      ],
      "metadata": {
        "colab": {
          "base_uri": "https://localhost:8080/",
          "height": 166
        },
        "id": "5iaYK7IqRUR9",
        "outputId": "da0b761d-b80f-4c62-e252-017469a949b3"
      },
      "execution_count": null,
      "outputs": [
        {
          "output_type": "error",
          "ename": "TypeError",
          "evalue": "ignored",
          "traceback": [
            "\u001b[0;31m---------------------------------------------------------------------------\u001b[0m",
            "\u001b[0;31mTypeError\u001b[0m                                 Traceback (most recent call last)",
            "\u001b[0;32m<ipython-input-16-689d8d417493>\u001b[0m in \u001b[0;36m<module>\u001b[0;34m\u001b[0m\n\u001b[0;32m----> 1\u001b[0;31m \u001b[0mhash\u001b[0m\u001b[0;34m(\u001b[0m\u001b[0mdoc1\u001b[0m\u001b[0;34m)\u001b[0m\u001b[0;34m\u001b[0m\u001b[0;34m\u001b[0m\u001b[0m\n\u001b[0m",
            "\u001b[0;31mTypeError\u001b[0m: unhashable type: 'Doc'"
          ]
        }
      ]
    },
    {
      "cell_type": "code",
      "source": [
        "lst = {doc1, doc2, doc3}"
      ],
      "metadata": {
        "colab": {
          "base_uri": "https://localhost:8080/",
          "height": 166
        },
        "id": "hwPdujmCRYtN",
        "outputId": "6da8b1f5-b8e8-44ab-87a2-cb6f5a48f33f"
      },
      "execution_count": null,
      "outputs": [
        {
          "output_type": "error",
          "ename": "TypeError",
          "evalue": "ignored",
          "traceback": [
            "\u001b[0;31m---------------------------------------------------------------------------\u001b[0m",
            "\u001b[0;31mTypeError\u001b[0m                                 Traceback (most recent call last)",
            "\u001b[0;32m<ipython-input-19-fca3ff257f74>\u001b[0m in \u001b[0;36m<module>\u001b[0;34m\u001b[0m\n\u001b[0;32m----> 1\u001b[0;31m \u001b[0mlst\u001b[0m \u001b[0;34m=\u001b[0m \u001b[0;34m{\u001b[0m\u001b[0mdoc1\u001b[0m\u001b[0;34m,\u001b[0m \u001b[0mdoc2\u001b[0m\u001b[0;34m,\u001b[0m \u001b[0mdoc3\u001b[0m\u001b[0;34m}\u001b[0m\u001b[0;34m\u001b[0m\u001b[0;34m\u001b[0m\u001b[0m\n\u001b[0m",
            "\u001b[0;31mTypeError\u001b[0m: unhashable type: 'Doc'"
          ]
        }
      ]
    },
    {
      "cell_type": "code",
      "source": [
        "class Doc:\n",
        "    \n",
        "    def __init__(self, string):\n",
        "        self.string = string\n",
        "    \n",
        "    def __repr__(self):\n",
        "        return f\"Doc('{self.string}')\"\n",
        "\n",
        "    def __eq__(self, other):\n",
        "        return isinstance(other, Doc) and self.string == other.string\n",
        "\n",
        "    def __hash__(self):\n",
        "        return hash(self.string)\n",
        "           \n",
        "doc1 = Doc('OOP')\n",
        "doc2 = Doc('OOP')\n",
        "doc3 = Doc('Python')\n",
        "\n",
        "doc1, doc1"
      ],
      "metadata": {
        "colab": {
          "base_uri": "https://localhost:8080/"
        },
        "id": "8f6JWu1URr23",
        "outputId": "afbcabc6-5ff4-415a-a5a6-f6f413bf62be"
      },
      "execution_count": null,
      "outputs": [
        {
          "output_type": "execute_result",
          "data": {
            "text/plain": [
              "(Doc('OOP'), Doc('OOP'))"
            ]
          },
          "metadata": {},
          "execution_count": 23
        }
      ]
    },
    {
      "cell_type": "code",
      "source": [
        "hash(doc1) == hash(doc2)"
      ],
      "metadata": {
        "colab": {
          "base_uri": "https://localhost:8080/"
        },
        "id": "FJkXTyyzSRn3",
        "outputId": "d9a22f6a-3c81-4608-8389-a285d4ab20dc"
      },
      "execution_count": null,
      "outputs": [
        {
          "output_type": "execute_result",
          "data": {
            "text/plain": [
              "True"
            ]
          },
          "metadata": {},
          "execution_count": 22
        }
      ]
    },
    {
      "cell_type": "code",
      "source": [
        "set_doc = {doc1, doc2, doc3}\n",
        "set_doc"
      ],
      "metadata": {
        "colab": {
          "base_uri": "https://localhost:8080/"
        },
        "id": "PaCC60mSSXx5",
        "outputId": "7df7d0c6-4669-48cc-a1e6-07887e87dfb0"
      },
      "execution_count": null,
      "outputs": [
        {
          "output_type": "execute_result",
          "data": {
            "text/plain": [
              "{Doc('OOP'), Doc('Python')}"
            ]
          },
          "metadata": {},
          "execution_count": 25
        }
      ]
    },
    {
      "cell_type": "markdown",
      "source": [
        "## Metoda `__call__()`"
      ],
      "metadata": {
        "id": "3XmA2uY_TRIt"
      }
    },
    {
      "cell_type": "code",
      "source": [
        "class Doc:\n",
        "    \n",
        "    def __init__(self, string):\n",
        "        self.string = string\n",
        "    \n",
        "    def __repr__(self):\n",
        "        return f\"Doc('{self.string}')\"\n",
        "\n",
        "    def __call__(self):\n",
        "        return print(f'Wywolanie ... {self}')\n",
        "\n",
        "    def __eq__(self, other):\n",
        "        return isinstance(other, Doc) and self.string == other.string\n",
        "\n",
        "    def __hash__(self):\n",
        "        return hash(self.string)\n",
        "           \n",
        "doc1 = Doc('OOP')\n",
        "doc2 = Doc('OOP')\n",
        "doc3 = Doc('Python')\n",
        "\n",
        "doc1, doc1"
      ],
      "metadata": {
        "colab": {
          "base_uri": "https://localhost:8080/"
        },
        "id": "rmascy3HS2rS",
        "outputId": "196868f1-56c0-47ea-c751-db84167cd1a0"
      },
      "execution_count": null,
      "outputs": [
        {
          "output_type": "execute_result",
          "data": {
            "text/plain": [
              "(Doc('OOP'), Doc('OOP'))"
            ]
          },
          "metadata": {},
          "execution_count": 2
        }
      ]
    },
    {
      "cell_type": "code",
      "source": [
        "doc2()"
      ],
      "metadata": {
        "colab": {
          "base_uri": "https://localhost:8080/"
        },
        "id": "ymyLHI_yTpTF",
        "outputId": "90ff1c62-d2f7-4a72-e729-5f2e2a759379"
      },
      "execution_count": null,
      "outputs": [
        {
          "output_type": "stream",
          "name": "stdout",
          "text": [
            "Wywolanie ... Doc('OOP')\n"
          ]
        }
      ]
    },
    {
      "cell_type": "markdown",
      "source": [
        "## Zadanie"
      ],
      "metadata": {
        "id": "Va7ZAXm4UHV8"
      }
    },
    {
      "cell_type": "code",
      "source": [
        "# zbuduj klase integer\n",
        "\n",
        "class Integer:\n",
        "\n",
        "    def __init__(self, value=0):\n",
        "            self.value = int(value)\n",
        "\n",
        "    def __repr__(self):\n",
        "        return f\"Integer({self.value})\"\n",
        "\n",
        "    def __str__(self):\n",
        "        return f\"Liczba o wartosci {self.value}\"\n",
        "\n",
        "    def __add__(self, other):\n",
        "        if not isinstance(other, Integer):\n",
        "            return NotImplemented\n",
        "        return self.value + other.value\n",
        "\n",
        "    def __sub__(self, other):\n",
        "        if not isinstance(other, Integer):\n",
        "            return NotImplemented\n",
        "        return self.value - other.value"
      ],
      "metadata": {
        "id": "0fM8Is7fTtiI"
      },
      "execution_count": null,
      "outputs": []
    },
    {
      "cell_type": "code",
      "source": [
        "int1 = Integer(1)\n",
        "int3 = Integer('22')\n",
        "int1 - int3"
      ],
      "metadata": {
        "colab": {
          "base_uri": "https://localhost:8080/"
        },
        "id": "47tugVJ4VuMz",
        "outputId": "58ebf8a9-65eb-45ab-c061-6c990a46506e"
      },
      "execution_count": null,
      "outputs": [
        {
          "output_type": "execute_result",
          "data": {
            "text/plain": [
              "-21"
            ]
          },
          "metadata": {},
          "execution_count": 25
        }
      ]
    },
    {
      "cell_type": "code",
      "source": [
        "str(int1)"
      ],
      "metadata": {
        "colab": {
          "base_uri": "https://localhost:8080/",
          "height": 35
        },
        "id": "yaOAoxmiV0Ow",
        "outputId": "6ccf94a2-6576-4f6c-bb3f-40d19075c328"
      },
      "execution_count": null,
      "outputs": [
        {
          "output_type": "execute_result",
          "data": {
            "text/plain": [
              "'Liczba o wartosci 1'"
            ],
            "application/vnd.google.colaboratory.intrinsic+json": {
              "type": "string"
            }
          },
          "metadata": {},
          "execution_count": 17
        }
      ]
    },
    {
      "cell_type": "code",
      "source": [
        "repr(int3)"
      ],
      "metadata": {
        "colab": {
          "base_uri": "https://localhost:8080/",
          "height": 35
        },
        "id": "mJjSLcGhWQ6n",
        "outputId": "cfb7f067-3349-4f68-c596-774bc66a17c0"
      },
      "execution_count": null,
      "outputs": [
        {
          "output_type": "execute_result",
          "data": {
            "text/plain": [
              "'Integer(0)'"
            ],
            "application/vnd.google.colaboratory.intrinsic+json": {
              "type": "string"
            }
          },
          "metadata": {},
          "execution_count": 21
        }
      ]
    },
    {
      "cell_type": "markdown",
      "source": [
        "## Zadanie"
      ],
      "metadata": {
        "id": "smdP_YRsaOfN"
      }
    },
    {
      "cell_type": "code",
      "source": [
        "class Vector:\n",
        "\n",
        "    def __init__(self, *components):\n",
        "        self.components = components\n",
        "\n",
        "    def __repr__(self):\n",
        "        return f'Vector{self.components}'\n",
        "\n",
        "    def __str__(self):\n",
        "        return f'{self.components}'\n",
        "\n",
        "    def __len__(self):\n",
        "        return len(self.components)\n",
        "    \n",
        "    def __add__(self, other):\n",
        "        return Vector(*(x + y for x, y in \n",
        "                        zip(self.components, other.components)))\n",
        "        \n",
        "v1 = Vector(4, 2)\n",
        "v2 = Vector(-1, 3)\n",
        "v1 + v2"
      ],
      "metadata": {
        "colab": {
          "base_uri": "https://localhost:8080/"
        },
        "id": "UhoEShxtWTU9",
        "outputId": "5f8bb4d3-10b9-49c9-d696-de0c18ecb054"
      },
      "execution_count": null,
      "outputs": [
        {
          "output_type": "execute_result",
          "data": {
            "text/plain": [
              "Vector(3, 5)"
            ]
          },
          "metadata": {},
          "execution_count": 32
        }
      ]
    },
    {
      "cell_type": "code",
      "source": [],
      "metadata": {
        "id": "7yx6C9x5aRBP"
      },
      "execution_count": null,
      "outputs": []
    }
  ]
}