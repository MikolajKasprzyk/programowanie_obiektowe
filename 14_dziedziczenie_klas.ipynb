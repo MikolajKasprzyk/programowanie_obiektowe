{
  "nbformat": 4,
  "nbformat_minor": 0,
  "metadata": {
    "colab": {
      "provenance": [],
      "authorship_tag": "ABX9TyM4Ohi45wcx4AotRy42nN0l",
      "include_colab_link": true
    },
    "kernelspec": {
      "name": "python3",
      "display_name": "Python 3"
    },
    "language_info": {
      "name": "python"
    }
  },
  "cells": [
    {
      "cell_type": "markdown",
      "metadata": {
        "id": "view-in-github",
        "colab_type": "text"
      },
      "source": [
        "<a href=\"https://colab.research.google.com/github/MikolajKasprzyk/programowanie_obiektowe/blob/main/14_dziedziczenie_klas.ipynb\" target=\"_parent\"><img src=\"https://colab.research.google.com/assets/colab-badge.svg\" alt=\"Open In Colab\"/></a>"
      ]
    },
    {
      "cell_type": "markdown",
      "source": [
        "# Dziedziczenie klas"
      ],
      "metadata": {
        "id": "YJMs193sG1iJ"
      }
    },
    {
      "cell_type": "code",
      "execution_count": null,
      "metadata": {
        "colab": {
          "base_uri": "https://localhost:8080/"
        },
        "id": "uQpDDS8EEyLd",
        "outputId": "25a4791a-dd56-4f58-f3f5-d5c621fe6cf9"
      },
      "outputs": [
        {
          "output_type": "execute_result",
          "data": {
            "text/plain": [
              "['__class__',\n",
              " '__delattr__',\n",
              " '__dir__',\n",
              " '__doc__',\n",
              " '__eq__',\n",
              " '__format__',\n",
              " '__ge__',\n",
              " '__getattribute__',\n",
              " '__gt__',\n",
              " '__hash__',\n",
              " '__init__',\n",
              " '__init_subclass__',\n",
              " '__le__',\n",
              " '__lt__',\n",
              " '__ne__',\n",
              " '__new__',\n",
              " '__reduce__',\n",
              " '__reduce_ex__',\n",
              " '__repr__',\n",
              " '__setattr__',\n",
              " '__sizeof__',\n",
              " '__str__',\n",
              " '__subclasshook__']"
            ]
          },
          "metadata": {},
          "execution_count": 1
        }
      ],
      "source": [
        "dir(object)"
      ]
    },
    {
      "cell_type": "code",
      "source": [
        "class Vehicle(object): # w python 2 trzeba było to wpisac, w 3 juz się robi samo\n",
        "    pass"
      ],
      "metadata": {
        "id": "epU65yPHI9jY"
      },
      "execution_count": null,
      "outputs": []
    },
    {
      "cell_type": "code",
      "source": [
        "class Vehicle():\n",
        "    pass\n",
        "\n",
        "help(Vehicle)"
      ],
      "metadata": {
        "colab": {
          "base_uri": "https://localhost:8080/"
        },
        "id": "ZgjjAiGRJQT0",
        "outputId": "aeb6d62d-a1ee-44a1-828a-4d7b330cfac6"
      },
      "execution_count": null,
      "outputs": [
        {
          "output_type": "stream",
          "name": "stdout",
          "text": [
            "Help on class Vehicle in module __main__:\n",
            "\n",
            "class Vehicle(builtins.object)\n",
            " |  Data descriptors defined here:\n",
            " |  \n",
            " |  __dict__\n",
            " |      dictionary for instance variables (if defined)\n",
            " |  \n",
            " |  __weakref__\n",
            " |      list of weak references to the object (if defined)\n",
            "\n"
          ]
        }
      ]
    },
    {
      "cell_type": "code",
      "source": [
        "vehicle = Vehicle()\n",
        "hash(vehicle)"
      ],
      "metadata": {
        "colab": {
          "base_uri": "https://localhost:8080/"
        },
        "id": "1c_q3ciyJV7e",
        "outputId": "216b6790-d87c-475a-cf44-833d7b09c002"
      },
      "execution_count": null,
      "outputs": [
        {
          "output_type": "execute_result",
          "data": {
            "text/plain": [
              "8732340879647"
            ]
          },
          "metadata": {},
          "execution_count": 4
        }
      ]
    },
    {
      "cell_type": "markdown",
      "source": [
        "## Pojedyncze dzidziczenie:\n",
        "*  Vehicle\n",
        "    * LandVehicle\n",
        "    * AirVehicle\n",
        "    * WaterVehicle\n"
      ],
      "metadata": {
        "id": "VeCEd2BcKx0b"
      }
    },
    {
      "cell_type": "code",
      "source": [
        "class Vehicle:\n",
        "    pass\n",
        "\n",
        "\n",
        "class LandVehicle(Vehicle):\n",
        "    pass\n",
        "\n",
        "class AirVehicle(Vehicle):\n",
        "    pass\n",
        "\n",
        "class WaterVehicle(Vehicle):\n",
        "    pass\n",
        "\n"
      ],
      "metadata": {
        "id": "wTxmQGmhJhZ5"
      },
      "execution_count": null,
      "outputs": []
    },
    {
      "cell_type": "code",
      "source": [
        "vehicles = [Vehicle(), LandVehicle(), AirVehicle(), WaterVehicle()]\n",
        "vehicles"
      ],
      "metadata": {
        "colab": {
          "base_uri": "https://localhost:8080/"
        },
        "id": "X7UUweskLgnI",
        "outputId": "1d071cfc-f2e0-45a9-8d13-481afb547744"
      },
      "execution_count": null,
      "outputs": [
        {
          "output_type": "execute_result",
          "data": {
            "text/plain": [
              "[<__main__.Vehicle at 0x7f1281393c40>,\n",
              " <__main__.LandVehicle at 0x7f12813939d0>,\n",
              " <__main__.AirVehicle at 0x7f12813930a0>,\n",
              " <__main__.WaterVehicle at 0x7f1281393c10>]"
            ]
          },
          "metadata": {},
          "execution_count": 9
        }
      ]
    },
    {
      "cell_type": "code",
      "source": [
        "help(issubclass)"
      ],
      "metadata": {
        "colab": {
          "base_uri": "https://localhost:8080/"
        },
        "id": "WuzvCFGmLtDS",
        "outputId": "b9f616d1-1f67-450b-8afa-135ee7e7ce92"
      },
      "execution_count": null,
      "outputs": [
        {
          "output_type": "stream",
          "name": "stdout",
          "text": [
            "Help on built-in function issubclass in module builtins:\n",
            "\n",
            "issubclass(cls, class_or_tuple, /)\n",
            "    Return whether 'cls' is a derived from another class or is the same class.\n",
            "    \n",
            "    A tuple, as in ``issubclass(x, (A, B, ...))``, may be given as the target to\n",
            "    check against. This is equivalent to ``issubclass(x, A) or issubclass(x, B)\n",
            "    or ...`` etc.\n",
            "\n"
          ]
        }
      ]
    },
    {
      "cell_type": "code",
      "source": [
        "issubclass(Vehicle, object)"
      ],
      "metadata": {
        "colab": {
          "base_uri": "https://localhost:8080/"
        },
        "id": "c2MVEvkjL7h5",
        "outputId": "846746f5-d550-41d1-ad3c-02f6c88c4954"
      },
      "execution_count": null,
      "outputs": [
        {
          "output_type": "execute_result",
          "data": {
            "text/plain": [
              "True"
            ]
          },
          "metadata": {},
          "execution_count": 11
        }
      ]
    },
    {
      "cell_type": "code",
      "source": [
        "issubclass(LandVehicle, Vehicle), issubclass(AirVehicle, Vehicle), issubclass(WaterVehicle, object),"
      ],
      "metadata": {
        "colab": {
          "base_uri": "https://localhost:8080/"
        },
        "id": "f-cG9re7MF2d",
        "outputId": "d92bc373-6c2b-4130-a942-fda126dfcf44"
      },
      "execution_count": null,
      "outputs": [
        {
          "output_type": "execute_result",
          "data": {
            "text/plain": [
              "(True, True, True)"
            ]
          },
          "metadata": {},
          "execution_count": 12
        }
      ]
    },
    {
      "cell_type": "markdown",
      "source": [
        "## Zadanie:\n",
        "\n",
        "*  Vehicle\n",
        "    * LandVehicle\n",
        "        * Bike\n",
        "        * Car\n",
        "        * Truck\n",
        "    * AirVehicle\n",
        "        * Plane\n",
        "        * Helicopter\n",
        "    * WaterVehicle"
      ],
      "metadata": {
        "id": "c4jMDJaiTV_I"
      }
    },
    {
      "cell_type": "code",
      "source": [
        "class Vehicle:\n",
        "    pass\n",
        "\n",
        "\n",
        "class LandVehicle(Vehicle):\n",
        "    pass\n",
        "\n",
        "\n",
        "class Bike(LandVehicle):\n",
        "    pass\n",
        "\n",
        "\n",
        "class Car(LandVehicle):\n",
        "    pass\n",
        "\n",
        "\n",
        "class Truck(LandVehicle):\n",
        "    pass\n",
        "\n",
        "\n",
        "\n",
        "class AirVehicle(Vehicle):\n",
        "    pass\n",
        "\n",
        "\n",
        "class Plane(AirVehicle):\n",
        "    pass\n",
        "    \n",
        "\n",
        "class Helicopter(AirVehicle):\n",
        "    pass\n",
        "\n",
        "\n",
        "class WaterVehicle(Vehicle):\n",
        "    pass"
      ],
      "metadata": {
        "id": "cId9JownMS2I"
      },
      "execution_count": null,
      "outputs": []
    },
    {
      "cell_type": "code",
      "source": [
        "issubclass(Bike, object)"
      ],
      "metadata": {
        "colab": {
          "base_uri": "https://localhost:8080/"
        },
        "id": "hZBALSB0UArM",
        "outputId": "210aa94d-41b6-4198-c75a-bfbbd7d194ac"
      },
      "execution_count": null,
      "outputs": [
        {
          "output_type": "execute_result",
          "data": {
            "text/plain": [
              "True"
            ]
          },
          "metadata": {},
          "execution_count": 14
        }
      ]
    },
    {
      "cell_type": "code",
      "source": [
        "issubclass(Bike, LandVehicle)"
      ],
      "metadata": {
        "colab": {
          "base_uri": "https://localhost:8080/"
        },
        "id": "z_KlhOp6aSON",
        "outputId": "65d8eae9-de87-4233-c50d-2a8e2ab383a7"
      },
      "execution_count": null,
      "outputs": [
        {
          "output_type": "execute_result",
          "data": {
            "text/plain": [
              "True"
            ]
          },
          "metadata": {},
          "execution_count": 16
        }
      ]
    },
    {
      "cell_type": "markdown",
      "source": [
        "## MRO - Method Resolution Order"
      ],
      "metadata": {
        "id": "hNa3Ra5udkDp"
      }
    },
    {
      "cell_type": "code",
      "source": [
        "class Vehicle:\n",
        "    pass\n",
        "\n",
        "\n",
        "class LandVehicle(Vehicle):\n",
        "    pass\n",
        "\n",
        "\n",
        "class Bike(LandVehicle):\n",
        "    pass\n",
        "\n",
        "\n",
        "class Car(LandVehicle):\n",
        "    pass\n",
        "\n",
        "\n",
        "class Truck(LandVehicle):\n",
        "    pass\n",
        "\n",
        "\n",
        "\n",
        "class AirVehicle(Vehicle):\n",
        "    pass\n",
        "\n",
        "\n",
        "class Plane(AirVehicle):\n",
        "    pass\n",
        "    \n",
        "\n",
        "class Helicopter(AirVehicle):\n",
        "    pass\n",
        "\n",
        "\n",
        "class WaterVehicle(Vehicle):\n",
        "    pass"
      ],
      "metadata": {
        "id": "ZGzxsy8JaV7f"
      },
      "execution_count": null,
      "outputs": []
    },
    {
      "cell_type": "code",
      "source": [
        "help(Plane)"
      ],
      "metadata": {
        "colab": {
          "base_uri": "https://localhost:8080/"
        },
        "id": "t45BAHT1dsWn",
        "outputId": "17c4a078-7af8-4e77-8b82-094655d1fe46"
      },
      "execution_count": null,
      "outputs": [
        {
          "output_type": "stream",
          "name": "stdout",
          "text": [
            "Help on class Plane in module __main__:\n",
            "\n",
            "class Plane(AirVehicle)\n",
            " |  Method resolution order:\n",
            " |      Plane\n",
            " |      AirVehicle\n",
            " |      Vehicle\n",
            " |      builtins.object\n",
            " |  \n",
            " |  Data descriptors inherited from Vehicle:\n",
            " |  \n",
            " |  __dict__\n",
            " |      dictionary for instance variables (if defined)\n",
            " |  \n",
            " |  __weakref__\n",
            " |      list of weak references to the object (if defined)\n",
            "\n"
          ]
        }
      ]
    },
    {
      "cell_type": "code",
      "source": [
        "Plane.mro()"
      ],
      "metadata": {
        "colab": {
          "base_uri": "https://localhost:8080/"
        },
        "id": "IYwCvRT2dtyy",
        "outputId": "35455001-5578-4e2f-b76f-00d93f84be93"
      },
      "execution_count": null,
      "outputs": [
        {
          "output_type": "execute_result",
          "data": {
            "text/plain": [
              "[__main__.Plane, __main__.AirVehicle, __main__.Vehicle, object]"
            ]
          },
          "metadata": {},
          "execution_count": 3
        }
      ]
    },
    {
      "cell_type": "code",
      "source": [
        "Plane.__mro__"
      ],
      "metadata": {
        "colab": {
          "base_uri": "https://localhost:8080/"
        },
        "id": "NoUqtcH-eDWP",
        "outputId": "5043e3c6-2849-482a-8580-88e823547d1b"
      },
      "execution_count": null,
      "outputs": [
        {
          "output_type": "execute_result",
          "data": {
            "text/plain": [
              "(__main__.Plane, __main__.AirVehicle, __main__.Vehicle, object)"
            ]
          },
          "metadata": {},
          "execution_count": 4
        }
      ]
    },
    {
      "cell_type": "markdown",
      "source": [
        "## Napisywanie - Method Overriding"
      ],
      "metadata": {
        "id": "yqpfVjZKfe_l"
      }
    },
    {
      "cell_type": "code",
      "source": [
        "class Vehicle:\n",
        "    \n",
        "    def __init__(self, category=None):\n",
        "        self.category = category if category else 'land'\n",
        "\n",
        "    def __repr__(self):\n",
        "        return f\"Vehicle('{self.category}')\"\n",
        "\n",
        "    \n",
        "class LandVehicle(Vehicle):\n",
        "    pass\n",
        "\n",
        "\n",
        "class AirVehicle(Vehicle):\n",
        "    pass\n",
        "\n",
        "\n",
        "# tu metoda __repr__ z klasy bazowej nie robi za dobrze\n",
        "Vehicle('land'), LandVehicle(), AirVehicle('air')\n"
      ],
      "metadata": {
        "colab": {
          "base_uri": "https://localhost:8080/"
        },
        "id": "BTTmJ2TZeK70",
        "outputId": "aa9d258b-7097-4ad4-8ef3-92a4595fdeb7"
      },
      "execution_count": null,
      "outputs": [
        {
          "output_type": "execute_result",
          "data": {
            "text/plain": [
              "(Vehicle('land'), Vehicle('land'), Vehicle('air'))"
            ]
          },
          "metadata": {},
          "execution_count": 15
        }
      ]
    },
    {
      "cell_type": "code",
      "source": [
        "class Vehicle:\n",
        "    \n",
        "    def __init__(self, category=None):\n",
        "        self.category = category if category else 'land'\n",
        "    # tu metoda poprawiona żeby podklasy też były poprawnie wyślwietlane\n",
        "    def __repr__(self):\n",
        "        return f\"{self.__class__.__name__}('{self.category}')\"\n",
        "\n",
        "    \n",
        "class LandVehicle(Vehicle):\n",
        "    pass\n",
        "\n",
        "\n",
        "class AirVehicle(Vehicle):\n",
        "    pass\n",
        "\n",
        "\n",
        "\n",
        "Vehicle('land'), LandVehicle(), AirVehicle('air')"
      ],
      "metadata": {
        "colab": {
          "base_uri": "https://localhost:8080/"
        },
        "id": "2L48QyLYf3YX",
        "outputId": "8c31a721-a88a-42c4-ce33-0ce60c9cf3ef"
      },
      "execution_count": null,
      "outputs": [
        {
          "output_type": "execute_result",
          "data": {
            "text/plain": [
              "(Vehicle('land'), LandVehicle('land'), AirVehicle('air'))"
            ]
          },
          "metadata": {},
          "execution_count": 16
        }
      ]
    },
    {
      "cell_type": "code",
      "source": [
        "class Vehicle:\n",
        "    \n",
        "    def __init__(self, category=None):\n",
        "        self.category = category if category else 'land'\n",
        "\n",
        "    def __repr__(self):\n",
        "        return f\"{self.__class__.__name__}('{self.category}')\"\n",
        "\n",
        "    def display_info(self):\n",
        "        print(f'Vehicle category: {self.category}')\n",
        "    \n",
        "class LandVehicle(Vehicle):\n",
        "    pass\n",
        "\n",
        "\n",
        "class AirVehicle(Vehicle):\n",
        "    pass\n",
        "\n",
        "\n",
        "\n",
        "vehicles = [Vehicle('land'), LandVehicle(), AirVehicle('air')]"
      ],
      "metadata": {
        "id": "roHeVHJrh6ol"
      },
      "execution_count": null,
      "outputs": []
    },
    {
      "cell_type": "code",
      "source": [
        "for vehicle in vehicles:\n",
        "    vehicle.display_info()"
      ],
      "metadata": {
        "colab": {
          "base_uri": "https://localhost:8080/"
        },
        "id": "8CBujofckL1y",
        "outputId": "018d0636-cfcb-4c90-b05a-667d2c7807b1"
      },
      "execution_count": null,
      "outputs": [
        {
          "output_type": "stream",
          "name": "stdout",
          "text": [
            "Vehicle category: land\n",
            "Vehicle category: land\n",
            "Vehicle category: air\n"
          ]
        }
      ]
    },
    {
      "cell_type": "code",
      "source": [
        "for vehicle in vehicles:\n",
        "    print(vehicle.__class__.__mro__)"
      ],
      "metadata": {
        "colab": {
          "base_uri": "https://localhost:8080/"
        },
        "id": "fL14yfIckZHe",
        "outputId": "ed50ad37-1373-4835-90c9-b0ccd6331e2a"
      },
      "execution_count": null,
      "outputs": [
        {
          "output_type": "stream",
          "name": "stdout",
          "text": [
            "(<class '__main__.Vehicle'>, <class 'object'>)\n",
            "(<class '__main__.LandVehicle'>, <class '__main__.Vehicle'>, <class 'object'>)\n",
            "(<class '__main__.AirVehicle'>, <class '__main__.Vehicle'>, <class 'object'>)\n"
          ]
        }
      ]
    },
    {
      "cell_type": "code",
      "source": [
        "class Vehicle:\n",
        "    \n",
        "    def __init__(self, category=None):\n",
        "        self.category = category if category else 'land'\n",
        "\n",
        "    def __repr__(self):\n",
        "        return f\"{self.__class__.__name__}('{self.category}')\"\n",
        "\n",
        "    def display_info(self):\n",
        "        print(f'Vehicle category: {self.category}')\n",
        "\n",
        "    def show_activity(self):\n",
        "        print(f'{self} -> Moving...')\n",
        "    \n",
        "class LandVehicle(Vehicle):\n",
        "\n",
        "    def display_info(self):\n",
        "        print(f'LandVehicle category: {self.category}')\n",
        "\n",
        "    def show_activity(self):\n",
        "        print(f'{self} -> Driving...')\n",
        "\n",
        "\n",
        "class AirVehicle(Vehicle):\n",
        "    \n",
        "    def show_activity(self):\n",
        "        print(f'{self} -> Flying...')\n",
        "\n",
        "\n",
        "\n",
        "\n",
        "vehicles = [Vehicle('land'), LandVehicle(), AirVehicle('air')]"
      ],
      "metadata": {
        "id": "elnDAHgQkqJK"
      },
      "execution_count": null,
      "outputs": []
    },
    {
      "cell_type": "code",
      "source": [
        "for vehicle in vehicles:\n",
        "    vehicle.display_info()"
      ],
      "metadata": {
        "colab": {
          "base_uri": "https://localhost:8080/"
        },
        "id": "i5ErjSwmk2ke",
        "outputId": "3ecbbf75-ca8b-452c-f595-aeca36bc0da2"
      },
      "execution_count": null,
      "outputs": [
        {
          "output_type": "stream",
          "name": "stdout",
          "text": [
            "Vehicle category: land\n",
            "LandVehicle category: land\n",
            "Vehicle category: air\n"
          ]
        }
      ]
    },
    {
      "cell_type": "code",
      "source": [
        "for vehicle in vehicles:\n",
        "    vehicle.show_activity()"
      ],
      "metadata": {
        "colab": {
          "base_uri": "https://localhost:8080/"
        },
        "id": "CzpNgyIdk7xn",
        "outputId": "70f315e9-1b7e-43af-ccba-633495347a10"
      },
      "execution_count": null,
      "outputs": [
        {
          "output_type": "stream",
          "name": "stdout",
          "text": [
            "Vehicle('land') -> Moving...\n",
            "LandVehicle('land') -> Driving...\n",
            "AirVehicle('air') -> Flying...\n"
          ]
        }
      ]
    },
    {
      "cell_type": "markdown",
      "source": [
        "## Przykład"
      ],
      "metadata": {
        "id": "vk8MJunKl1AX"
      }
    },
    {
      "cell_type": "code",
      "source": [
        "class User:\n",
        "\n",
        "    def start(self):\n",
        "        print('Starting...')\n",
        "    \n",
        "    def drink(self):\n",
        "        print('Drinking...')\n",
        "\n",
        "    def work(self):\n",
        "        print('Working...')\n",
        "\n",
        "    def end(self):\n",
        "        print('Ending...')\n",
        "\n",
        "    def make_session(self):\n",
        "        print(f'--- {self.__class__.__name__.upper()} SESSION ---')\n",
        "        self.start()\n",
        "        self.drink()\n",
        "        self.work()\n",
        "        self.end()\n",
        "        print(f'--- END SESSION ---')\n",
        "\n",
        "user1 = User()\n",
        "user1.make_session()"
      ],
      "metadata": {
        "colab": {
          "base_uri": "https://localhost:8080/"
        },
        "id": "R0tqaDQ0ltJg",
        "outputId": "a5445b23-e195-4aab-b220-bab84fc0b18a"
      },
      "execution_count": null,
      "outputs": [
        {
          "output_type": "stream",
          "name": "stdout",
          "text": [
            "--- USER SESSION ---\n",
            "Starting...\n",
            "Drinking...\n",
            "Working...\n",
            "Ending...\n",
            "--- END SESSION ---\n"
          ]
        }
      ]
    },
    {
      "cell_type": "code",
      "source": [
        "class Player(User):\n",
        "\n",
        "    def work(self):\n",
        "        print(f'Playing...')"
      ],
      "metadata": {
        "id": "x0JVyH7cm-ly"
      },
      "execution_count": null,
      "outputs": []
    },
    {
      "cell_type": "code",
      "source": [
        "player1 = Player()\n",
        "player1.make_session()"
      ],
      "metadata": {
        "colab": {
          "base_uri": "https://localhost:8080/"
        },
        "id": "o_0nouMQnWYa",
        "outputId": "49d4c72f-61ef-4049-f5cd-e10823ad0222"
      },
      "execution_count": null,
      "outputs": [
        {
          "output_type": "stream",
          "name": "stdout",
          "text": [
            "--- PLAYER SESSION ---\n",
            "Starting...\n",
            "Drinking...\n",
            "Playing...\n",
            "Ending...\n",
            "--- END SESSION ---\n"
          ]
        }
      ]
    },
    {
      "cell_type": "code",
      "source": [
        "class User:\n",
        "\n",
        "    def start(self):\n",
        "        print('Starting...')\n",
        "    \n",
        "    def drink(self):\n",
        "        print('Drinking...')\n",
        "\n",
        "    def work(self):\n",
        "        print('Working...')\n",
        "\n",
        "    def end(self):\n",
        "        print('Ending...')\n",
        "\n",
        "    def make_session(self):\n",
        "        print(f'--- {self.__class__.__name__.upper()} SESSION ---')\n",
        "        User.start(self)\n",
        "        User.drink(self)\n",
        "        User.work(self)\n",
        "        User.end(self)\n",
        "        print(f'--- END SESSION ---')\n",
        "\n",
        "class Player(User):\n",
        "\n",
        "    def work(self):\n",
        "        print(f'Playing...')"
      ],
      "metadata": {
        "id": "8wzLwORpnZkA"
      },
      "execution_count": null,
      "outputs": []
    },
    {
      "cell_type": "code",
      "source": [
        "player1 = Player()\n",
        "player1.make_session()"
      ],
      "metadata": {
        "colab": {
          "base_uri": "https://localhost:8080/"
        },
        "id": "6hwbV4OAoBK_",
        "outputId": "857a79bd-9e1f-4b15-b608-e2f4c427dafa"
      },
      "execution_count": null,
      "outputs": [
        {
          "output_type": "stream",
          "name": "stdout",
          "text": [
            "--- PLAYER SESSION ---\n",
            "Starting...\n",
            "Drinking...\n",
            "Working...\n",
            "Ending...\n",
            "--- END SESSION ---\n"
          ]
        }
      ]
    },
    {
      "cell_type": "markdown",
      "source": [
        "## Przykład"
      ],
      "metadata": {
        "id": "cy4F6Z7CoNqb"
      }
    },
    {
      "cell_type": "code",
      "source": [
        "class Vehicle:\n",
        "\n",
        "    year = 2010\n",
        "\n",
        "    def info(self):\n",
        "        print(f'{self.__class__.__name__} from {self.__class__.year}')\n",
        "\n",
        "\n",
        "class Car(Vehicle):\n",
        "\n",
        "    year = 2020\n",
        "\n",
        "vehicles = [Vehicle(), Car()]\n",
        "for veh in vehicles:\n",
        "    veh.info()"
      ],
      "metadata": {
        "colab": {
          "base_uri": "https://localhost:8080/"
        },
        "id": "9xr-Siz9oFW1",
        "outputId": "b42bd86d-f34b-4652-9ab0-4f54457aea59"
      },
      "execution_count": null,
      "outputs": [
        {
          "output_type": "stream",
          "name": "stdout",
          "text": [
            "Vehicle from 2010\n",
            "Car from 2020\n"
          ]
        }
      ]
    },
    {
      "cell_type": "code",
      "source": [
        "class Vehicle:\n",
        "\n",
        "    year = 2010\n",
        "\n",
        "    def info(self):\n",
        "        print(f'{self.__class__.__name__} from {self.__class__.year}')\n",
        "\n",
        "\n",
        "class Car(Vehicle):\n",
        "\n",
        "    year = 2020\n",
        "\n",
        "vehicles = [Vehicle(), Car()]\n",
        "for veh in vehicles:\n",
        "    veh.info()"
      ],
      "metadata": {
        "colab": {
          "base_uri": "https://localhost:8080/"
        },
        "id": "T5E83swDo4vA",
        "outputId": "e6942406-3fe0-4c56-9beb-073294d929aa"
      },
      "execution_count": null,
      "outputs": [
        {
          "output_type": "stream",
          "name": "stdout",
          "text": [
            "Vehicle from 2010\n",
            "Car from 2020\n"
          ]
        }
      ]
    },
    {
      "cell_type": "code",
      "source": [
        "vehicle1 = Vehicle()\n",
        "car1 = Car()\n",
        "car1.year\n",
        "vehicle1.year"
      ],
      "metadata": {
        "colab": {
          "base_uri": "https://localhost:8080/"
        },
        "id": "tLZFh0xpp-V3",
        "outputId": "82b56664-afc0-4586-b23f-3447f08d673e"
      },
      "execution_count": null,
      "outputs": [
        {
          "output_type": "execute_result",
          "data": {
            "text/plain": [
              "2010"
            ]
          },
          "metadata": {},
          "execution_count": 9
        }
      ]
    },
    {
      "cell_type": "markdown",
      "source": [
        "## `super()`"
      ],
      "metadata": {
        "id": "rPkiI9s6qTNY"
      }
    },
    {
      "cell_type": "code",
      "source": [
        "class Vehicle:\n",
        "\n",
        "    def __init__(self, brand, year):\n",
        "        self.brand = brand\n",
        "        self.year = year\n",
        "\n",
        "\n",
        "class Car(Vehicle):\n",
        "\n",
        "    def __init__(self, brand, year, horsepower):\n",
        "        self.brand = brand\n",
        "        self.year = year\n",
        "        self.horsepower = horsepower"
      ],
      "metadata": {
        "id": "wB2wqhhWqHev"
      },
      "execution_count": null,
      "outputs": []
    },
    {
      "cell_type": "code",
      "source": [
        "v1 = Vehicle('Tesla', 2020)\n",
        "c1 = Car('VW', 2030, 306)"
      ],
      "metadata": {
        "id": "v4TnaoFbqzJY"
      },
      "execution_count": null,
      "outputs": []
    },
    {
      "cell_type": "code",
      "source": [
        "v1.__dict__"
      ],
      "metadata": {
        "colab": {
          "base_uri": "https://localhost:8080/"
        },
        "id": "2BalFJOn3XOu",
        "outputId": "488e6aec-ccc3-4798-dfc4-dd05bc37f5cf"
      },
      "execution_count": null,
      "outputs": [
        {
          "output_type": "execute_result",
          "data": {
            "text/plain": [
              "{'brand': 'Tesla', 'year': 2020}"
            ]
          },
          "metadata": {},
          "execution_count": 15
        }
      ]
    },
    {
      "cell_type": "code",
      "source": [
        "c1.__dict__"
      ],
      "metadata": {
        "colab": {
          "base_uri": "https://localhost:8080/"
        },
        "id": "vNzDUdjJ3pfo",
        "outputId": "d5470fed-942f-4d9d-8759-3c229354750c"
      },
      "execution_count": null,
      "outputs": [
        {
          "output_type": "execute_result",
          "data": {
            "text/plain": [
              "{'brand': 'VW', 'year': 2030, 'horsepower': 306}"
            ]
          },
          "metadata": {},
          "execution_count": 18
        }
      ]
    },
    {
      "cell_type": "code",
      "source": [
        "# aby nie powtarzać kodu należy zastosować metodę super()\n",
        "class Vehicle:\n",
        "\n",
        "    def __init__(self, brand, year):\n",
        "        self.brand = brand\n",
        "        self.year = year\n",
        "\n",
        "\n",
        "class Car(Vehicle):\n",
        "\n",
        "    def __init__(self, brand, year, horsepower):\n",
        "        # wykonuje metodę __init__ z klasy bazowej\n",
        "        super().__init__(brand, year)\n",
        "        self.horsepower = horsepower"
      ],
      "metadata": {
        "id": "j4LjcXL53ser"
      },
      "execution_count": null,
      "outputs": []
    },
    {
      "cell_type": "code",
      "source": [
        "v1 = Vehicle('Tesla', 2020)\n",
        "c1 = Car('VW', 2030, 306)"
      ],
      "metadata": {
        "id": "uhmSMpY74VFc"
      },
      "execution_count": null,
      "outputs": []
    },
    {
      "cell_type": "code",
      "source": [
        "c1.__dict__"
      ],
      "metadata": {
        "colab": {
          "base_uri": "https://localhost:8080/"
        },
        "id": "PXIBjved5Gza",
        "outputId": "abeeda69-550a-4b91-cee8-3ba878ce1fef"
      },
      "execution_count": null,
      "outputs": [
        {
          "output_type": "execute_result",
          "data": {
            "text/plain": [
              "{'brand': 'VW', 'year': 2030, 'horsepower': 306}"
            ]
          },
          "metadata": {},
          "execution_count": 11
        }
      ]
    },
    {
      "cell_type": "markdown",
      "source": [
        "## Przykład"
      ],
      "metadata": {
        "id": "DvNfjk685vC1"
      }
    },
    {
      "cell_type": "markdown",
      "source": [],
      "metadata": {
        "id": "7_VSr_Co5uVZ"
      }
    },
    {
      "cell_type": "code",
      "source": [
        "class Vehicle:\n",
        "\n",
        "    def __init__(self, brand, year):\n",
        "        self.brand = brand\n",
        "        self.year = year\n",
        "\n",
        "    def show_details(self):\n",
        "        print(f'Calling from ... {self.__class__.__name__}')\n",
        "\n",
        "\n",
        "class Car(Vehicle):\n",
        "\n",
        "    def __init__(self, brand, year, horsepower):\n",
        "        # wykonuje metodę __init__ z klasy bazowej\n",
        "        super().__init__(brand, year)\n",
        "        self.horsepower = horsepower\n",
        "\n",
        "    def show_details(self):\n",
        "        super().show_details()\n",
        "        print(f'Extende calling from... {self.__class__.__name__}.')\n",
        "\n",
        "    \n"
      ],
      "metadata": {
        "id": "7TMoOW3v5K81"
      },
      "execution_count": null,
      "outputs": []
    },
    {
      "cell_type": "code",
      "source": [
        "v1 = Vehicle('Tesla', 2020)\n",
        "c1 = Car('VW', 2030, 306)"
      ],
      "metadata": {
        "id": "3unne59J6E6B"
      },
      "execution_count": null,
      "outputs": []
    },
    {
      "cell_type": "code",
      "source": [
        "v1.show_details()"
      ],
      "metadata": {
        "colab": {
          "base_uri": "https://localhost:8080/"
        },
        "id": "8j9l6H7a6edM",
        "outputId": "56b1619d-4a5a-4d87-b2e5-ef5f6a93875a"
      },
      "execution_count": null,
      "outputs": [
        {
          "output_type": "stream",
          "name": "stdout",
          "text": [
            "Calling from ... Vehicle\n"
          ]
        }
      ]
    },
    {
      "cell_type": "code",
      "source": [
        "c1.show_details()"
      ],
      "metadata": {
        "colab": {
          "base_uri": "https://localhost:8080/"
        },
        "id": "iDhsO07R6hie",
        "outputId": "8498198c-bbb9-4e98-a9b6-3aecf0c204c7"
      },
      "execution_count": null,
      "outputs": [
        {
          "output_type": "stream",
          "name": "stdout",
          "text": [
            "Calling from ... Car\n",
            "Extende calling from... Car.\n"
          ]
        }
      ]
    },
    {
      "cell_type": "markdown",
      "source": [
        "## Przykład"
      ],
      "metadata": {
        "id": "GfSZuYP57JkF"
      }
    },
    {
      "cell_type": "code",
      "source": [
        "class Vehicle:\n",
        "\n",
        "    def __init__(self, brand, year):\n",
        "        self.brand = brand\n",
        "        self.year = year\n",
        "\n",
        "    def show_details(self):\n",
        "        return f'Calling from ... {self.__class__.__name__}'\n",
        "\n",
        "\n",
        "class Car(Vehicle):\n",
        "\n",
        "    def __init__(self, brand, year, horsepower):\n",
        "        # wykonuje metodę __init__ z klasy bazowej\n",
        "        super().__init__(brand, year)\n",
        "        self.horsepower = horsepower\n",
        "\n",
        "    def show_details(self):\n",
        "        return (super().show_details() \n",
        "                + f'\\nCalling from derived class... {self}')"
      ],
      "metadata": {
        "id": "G-QaBufA6je7"
      },
      "execution_count": null,
      "outputs": []
    },
    {
      "cell_type": "code",
      "source": [
        "v1 = Vehicle('Tesla', 2020)\n",
        "c1 = Car('VW', 2030, 306)"
      ],
      "metadata": {
        "id": "VUvxjYl37XKT"
      },
      "execution_count": null,
      "outputs": []
    },
    {
      "cell_type": "code",
      "source": [
        "print(v1.show_details())"
      ],
      "metadata": {
        "colab": {
          "base_uri": "https://localhost:8080/"
        },
        "id": "VQYta5pg7ZM9",
        "outputId": "ea7af488-b89f-4f7c-de34-4899957e5a69"
      },
      "execution_count": null,
      "outputs": [
        {
          "output_type": "stream",
          "name": "stdout",
          "text": [
            "Calling from ... Vehicle\n"
          ]
        }
      ]
    },
    {
      "cell_type": "code",
      "source": [
        "print(c1.show_details())"
      ],
      "metadata": {
        "colab": {
          "base_uri": "https://localhost:8080/"
        },
        "id": "3yXdDpAM7big",
        "outputId": "37315f50-c539-4dd7-eb86-b606de04916b"
      },
      "execution_count": null,
      "outputs": [
        {
          "output_type": "stream",
          "name": "stdout",
          "text": [
            "Calling from ... Car\n",
            "Calling from derived class... <__main__.Car object at 0x7fe62ef2ad60>\n"
          ]
        }
      ]
    },
    {
      "cell_type": "markdown",
      "source": [
        "# Dziedziczenie wielopoziomowe"
      ],
      "metadata": {
        "id": "O6wU9vhw9Thv"
      }
    },
    {
      "cell_type": "code",
      "source": [
        "class Vehicle:\n",
        "\n",
        "    def __init__(self, brand, year):\n",
        "        self.brand = brand\n",
        "        self.year = year\n",
        "\n",
        "    def show_details(self):\n",
        "        return f'Calling from ... Vehicle'\n",
        "\n",
        "\n",
        "class Car(Vehicle):\n",
        "\n",
        "    def __init__(self, brand, year, horsepower):\n",
        "        # wykonuje metodę __init__ z klasy bazowej\n",
        "        super().__init__(brand, year)\n",
        "        self.horsepower = horsepower\n",
        "\n",
        "    def show_details(self):\n",
        "        return (super().show_details() \n",
        "                + f'\\nCalling from derived class... Car')\n",
        "    \n",
        "\n",
        "class RacingCar(Car):\n",
        "\n",
        "    def show_details(self):\n",
        "        return (super().show_details() \n",
        "                + f'\\nCalling from derived class... RacingCar')"
      ],
      "metadata": {
        "id": "okSpb-TD7duo"
      },
      "execution_count": null,
      "outputs": []
    },
    {
      "cell_type": "code",
      "source": [
        "rcar1 = RacingCar('Audi', 1993, 408)"
      ],
      "metadata": {
        "id": "rFYgC0II9oZy"
      },
      "execution_count": null,
      "outputs": []
    },
    {
      "cell_type": "code",
      "source": [
        "print(rcar1.show_details())"
      ],
      "metadata": {
        "colab": {
          "base_uri": "https://localhost:8080/"
        },
        "id": "YgfP00pp9xSu",
        "outputId": "84adff87-865b-464a-9f7e-345dfd13fe98"
      },
      "execution_count": null,
      "outputs": [
        {
          "output_type": "stream",
          "name": "stdout",
          "text": [
            "Calling from ... Vehicle\n",
            "Calling from derived class... RacingCar\n"
          ]
        }
      ]
    },
    {
      "cell_type": "code",
      "source": [
        "class Vehicle:\n",
        "\n",
        "    def __init__(self, brand, year):\n",
        "        self.brand = brand\n",
        "        self.year = year\n",
        "\n",
        "    def show_details(self):\n",
        "        return f'Calling from ... Vehicle'\n",
        "\n",
        "    def dowolna_funkcja(self):\n",
        "        return 'wynik dowolnej funkcji klasy Vehicle'\n",
        "\n",
        "\n",
        "class Car(Vehicle):\n",
        "\n",
        "    def __init__(self, brand, year, horsepower):\n",
        "        # wykonuje metodę __init__ z klasy bazowej\n",
        "        super().__init__(brand, year)\n",
        "        self.horsepower = horsepower\n",
        "\n",
        "    def show_details(self):\n",
        "        return (super().show_details() \n",
        "                + f'\\nCalling from derived class... Car')\n",
        "    \n",
        "# funkcje wywyłyane w super() to mogą być dowolne\n",
        "class RacingCar(Car):\n",
        "\n",
        "    def show_details(self):\n",
        "        return (super().dowolna_funkcja() \n",
        "                + f'\\nCalling from derived class... RacingCar')\n",
        "# jeśli funkcja do której odwolujemu sie przez super() nie jest \n",
        "# zaipmlementowana poziom wyżej to jest szukana w kolejnej klasie bazowej"
      ],
      "metadata": {
        "id": "GZd1r6lQ99j_"
      },
      "execution_count": null,
      "outputs": []
    },
    {
      "cell_type": "code",
      "source": [
        "rcar1 = RacingCar('Audi', 1993, 408)\n",
        "print(rcar1.show_details())"
      ],
      "metadata": {
        "colab": {
          "base_uri": "https://localhost:8080/"
        },
        "id": "HT_WcSneANmO",
        "outputId": "02149d20-e015-4db9-9a2b-9d1978981a6c"
      },
      "execution_count": null,
      "outputs": [
        {
          "output_type": "stream",
          "name": "stdout",
          "text": [
            "wynik dowolnej funkcji klasy Vehicle\n",
            "Calling from derived class... RacingCar\n"
          ]
        }
      ]
    },
    {
      "cell_type": "markdown",
      "source": [
        "# Dziedziczenie Wielokrotne"
      ],
      "metadata": {
        "id": "7vvk7SADAqY-"
      }
    },
    {
      "cell_type": "code",
      "source": [
        "class Person:\n",
        "\n",
        "    def __init__(self, fname, lname, age):\n",
        "        self.fname = fname\n",
        "        self.lname = lname\n",
        "        self.age = age\n",
        "\n",
        "\n",
        "class Department:\n",
        "\n",
        "    def __init__(self, dept_name):\n",
        "        self.dept_name = dept_name\n",
        "\n",
        "\n",
        "class Worker(Person, Department):\n",
        "    pass\n",
        "    "
      ],
      "metadata": {
        "id": "_PKPlmfTASGV"
      },
      "execution_count": null,
      "outputs": []
    },
    {
      "cell_type": "code",
      "source": [
        "worker1 = Worker('John', 'Wayne', 23)"
      ],
      "metadata": {
        "id": "fYCCvvc9BWbU"
      },
      "execution_count": null,
      "outputs": []
    },
    {
      "cell_type": "code",
      "source": [],
      "metadata": {
        "colab": {
          "base_uri": "https://localhost:8080/",
          "height": 166
        },
        "id": "ShU21KjZBh1G",
        "outputId": "4d7125e8-33ce-4acc-f7e2-9582d4ac4725"
      },
      "execution_count": null,
      "outputs": [
        {
          "output_type": "error",
          "ename": "AttributeError",
          "evalue": "ignored",
          "traceback": [
            "\u001b[0;31m---------------------------------------------------------------------------\u001b[0m",
            "\u001b[0;31mAttributeError\u001b[0m                            Traceback (most recent call last)",
            "\u001b[0;32m<ipython-input-29-9df6c4fc7b18>\u001b[0m in \u001b[0;36m<module>\u001b[0;34m\u001b[0m\n\u001b[0;32m----> 1\u001b[0;31m \u001b[0mworker1\u001b[0m\u001b[0;34m.\u001b[0m\u001b[0mdept_name\u001b[0m\u001b[0;34m(\u001b[0m\u001b[0;34m)\u001b[0m\u001b[0;34m\u001b[0m\u001b[0;34m\u001b[0m\u001b[0m\n\u001b[0m",
            "\u001b[0;31mAttributeError\u001b[0m: 'Worker' object has no attribute 'dept_name'"
          ]
        }
      ]
    },
    {
      "cell_type": "code",
      "source": [
        "class Person:\n",
        "\n",
        "    def __init__(self, fname, lname, age):\n",
        "        self.fname = fname\n",
        "        self.lname = lname\n",
        "        self.age = age\n",
        "\n",
        "\n",
        "class Department:\n",
        "\n",
        "    def __init__(self, dept_name):\n",
        "        self.dept_name = dept_name\n",
        "\n",
        "\n",
        "class Worker(Person, Department):\n",
        "    \n",
        "    def __init__(self, fname, lname, age, dept_name, hours_per_day=8):\n",
        "        Person.__init__(self, fname, lname, age)\n",
        "        Department.__init__(self, dept_name)\n",
        "        self.hours_per_day = hours_per_day\n",
        "\n",
        "class Menager(Person, Department):\n",
        "    \n",
        "    def __init__(self, fname, lname, age, \n",
        "                 dept_name, hours_per_day=8, is_founder=False):\n",
        "        Person.__init__(self, fname, lname, age)\n",
        "        Department.__init__(self, dept_name)\n",
        "        self.hours_per_day = hours_per_day\n",
        "        self.is_founder = is_founder"
      ],
      "metadata": {
        "id": "NbgNwcBvB0JR"
      },
      "execution_count": null,
      "outputs": []
    },
    {
      "cell_type": "code",
      "source": [
        "worker2 = Worker('John', 'Wayne', 23, 'IT')"
      ],
      "metadata": {
        "id": "fX_BWKpWCSgW"
      },
      "execution_count": null,
      "outputs": []
    },
    {
      "cell_type": "code",
      "source": [
        "worker2.__dict__"
      ],
      "metadata": {
        "colab": {
          "base_uri": "https://localhost:8080/"
        },
        "id": "Rx-ejYEVCWXJ",
        "outputId": "d415b799-ab97-49d6-c8ee-ea21cf758b86"
      },
      "execution_count": null,
      "outputs": [
        {
          "output_type": "execute_result",
          "data": {
            "text/plain": [
              "{'fname': 'John',\n",
              " 'lname': 'Wayne',\n",
              " 'age': 23,\n",
              " 'dept_name': 'IT',\n",
              " 'hours_per_day': 8}"
            ]
          },
          "metadata": {},
          "execution_count": 14
        }
      ]
    },
    {
      "cell_type": "code",
      "source": [
        "menager1 = Menager('John', 'Wayne', 23, 'IT')\n",
        "menager1.__dict__"
      ],
      "metadata": {
        "colab": {
          "base_uri": "https://localhost:8080/"
        },
        "id": "xs2jn_beDBf6",
        "outputId": "3b90beb0-e1b3-4e52-ceee-b8c9cb97fa04"
      },
      "execution_count": null,
      "outputs": [
        {
          "output_type": "execute_result",
          "data": {
            "text/plain": [
              "{'fname': 'John',\n",
              " 'lname': 'Wayne',\n",
              " 'age': 23,\n",
              " 'dept_name': 'IT',\n",
              " 'hours_per_day': 8,\n",
              " 'is_founder': False}"
            ]
          },
          "metadata": {},
          "execution_count": 16
        }
      ]
    },
    {
      "cell_type": "code",
      "source": [
        "class Person:\n",
        "\n",
        "    def __init__(self, fname, lname, age):\n",
        "        self.fname = fname\n",
        "        self.lname = lname\n",
        "        self.age = age\n",
        "\n",
        "\n",
        "class Department:\n",
        "\n",
        "    def __init__(self, dept_name):\n",
        "        self.dept_name = dept_name\n",
        "\n",
        "\n",
        "class Worker(Person, Department):\n",
        "    \n",
        "    def __init__(self, fname, lname, age, dept_name, hours_per_day=8):\n",
        "        Person.__init__(self, fname, lname, age)\n",
        "        Department.__init__(self, dept_name)\n",
        "        self.hours_per_day = hours_per_day\n",
        "\n",
        "class Menager(Worker):\n",
        "    \n",
        "    def __init__(self, fname, lname, age, \n",
        "                 dept_name, hours_per_day=8, is_founder=False):\n",
        "        Worker.__init__(self, fname, lname, age, dept_name, hours_per_day=8)\n",
        "        self.is_founder = is_founder"
      ],
      "metadata": {
        "id": "Np2hJDLGDp7G"
      },
      "execution_count": null,
      "outputs": []
    },
    {
      "cell_type": "code",
      "source": [
        "menager1 = Menager('John', 'Wayne', 23, 'IT')\n",
        "menager1.__dict__\n"
      ],
      "metadata": {
        "colab": {
          "base_uri": "https://localhost:8080/"
        },
        "id": "gko_6L3LETQW",
        "outputId": "424c9c64-448b-4f08-848b-0a65fb5439b7"
      },
      "execution_count": null,
      "outputs": [
        {
          "output_type": "execute_result",
          "data": {
            "text/plain": [
              "{'fname': 'John',\n",
              " 'lname': 'Wayne',\n",
              " 'age': 23,\n",
              " 'dept_name': 'IT',\n",
              " 'hours_per_day': 8,\n",
              " 'is_founder': False}"
            ]
          },
          "metadata": {},
          "execution_count": 2
        }
      ]
    },
    {
      "cell_type": "code",
      "source": [
        "class Person:\n",
        "\n",
        "    def __init__(self, fname, lname, age):\n",
        "        self.fname = fname\n",
        "        self.lname = lname\n",
        "        self.age = age\n",
        "\n",
        "\n",
        "class Department:\n",
        "\n",
        "    def __init__(self, dept_name):\n",
        "        self.dept_name = dept_name\n",
        "\n",
        "\n",
        "class Worker(Person, Department):\n",
        "    \n",
        "    def __init__(self, fname, lname, age, dept_name, hours_per_day=8):\n",
        "        Person.__init__(self, fname, lname, age)\n",
        "        Department.__init__(self, dept_name)\n",
        "        self.hours_per_day = hours_per_day\n",
        "\n",
        "class Menager(Worker):\n",
        "    \n",
        "    def __init__(self, fname, lname, age, \n",
        "                 dept_name, hours_per_day=8, is_founder=False):\n",
        "        super().__init__(fname, lname, age, \n",
        "                 dept_name, hours_per_day=8)\n",
        "        self.is_founder = is_founder"
      ],
      "metadata": {
        "id": "TeNSGOKXEV6r"
      },
      "execution_count": null,
      "outputs": []
    },
    {
      "cell_type": "code",
      "source": [
        "menager1 = Menager('John', 'Wayne', 23, 'IT')\n",
        "menager1.__dict__"
      ],
      "metadata": {
        "colab": {
          "base_uri": "https://localhost:8080/"
        },
        "id": "P8QWMXc4IEde",
        "outputId": "d3f06b34-abe9-469e-e235-c92badf30557"
      },
      "execution_count": null,
      "outputs": [
        {
          "output_type": "execute_result",
          "data": {
            "text/plain": [
              "{'fname': 'John',\n",
              " 'lname': 'Wayne',\n",
              " 'age': 23,\n",
              " 'dept_name': 'IT',\n",
              " 'hours_per_day': 8,\n",
              " 'is_founder': False}"
            ]
          },
          "metadata": {},
          "execution_count": 9
        }
      ]
    },
    {
      "cell_type": "markdown",
      "source": [
        "# Zadanie"
      ],
      "metadata": {
        "id": "Q3Al4uaqJaGK"
      }
    },
    {
      "cell_type": "code",
      "source": [
        "class Vehicle:\n",
        "\n",
        "    def __init__(self, brand, color, year):\n",
        "        self.brand = brand\n",
        "        self.color = color\n",
        "        self.year = year\n",
        "        \n",
        "\n",
        "class Car(Vehicle):\n",
        "    \n",
        "    def __init__(self, brand, color, year, horsepower):\n",
        "        super().__init__(brand, color, year)\n",
        "        self.horsepower = horsepower\n",
        "        \n",
        "vehicle = Vehicle('Tesla', 'red', '2020')\n",
        "car = Car('Tesla', 'red', '2020', 300)\n",
        "print(vehicle.__dict__)\n",
        "print(car.__dict__)"
      ],
      "metadata": {
        "colab": {
          "base_uri": "https://localhost:8080/"
        },
        "id": "dsHvHndIITZ8",
        "outputId": "be51bc66-cd70-4755-d583-b1002f2b92f7"
      },
      "execution_count": null,
      "outputs": [
        {
          "output_type": "stream",
          "name": "stdout",
          "text": [
            "{'brand': 'Tesla', 'color': 'red', 'year': '2020'}\n",
            "{'brand': 'Tesla', 'color': 'red', 'year': '2020', 'horsepower': 300}\n"
          ]
        }
      ]
    },
    {
      "cell_type": "markdown",
      "source": [
        "# Zadanie"
      ],
      "metadata": {
        "id": "lyiXNFlMNtdB"
      }
    },
    {
      "cell_type": "code",
      "source": [
        "class Person:\n",
        "    \n",
        "    def __init__(self, first_name, last_name, age):\n",
        "        self.first_name = first_name\n",
        "        self.last_name = last_name\n",
        "        self.age = age\n",
        "\n",
        "\n",
        "class Department:\n",
        "    \n",
        "    def __init__(self, dept_name, short_dept_name):\n",
        "        self.dept_name = dept_name\n",
        "        self.short_dept_name = short_dept_name\n",
        "\n",
        "\n",
        "class Worker(Person, Department):\n",
        "    \n",
        "    def __init__(self, first_name, last_name, age, dept_name, short_dept_name):\n",
        "        Person.__init__(self, first_name, last_name, age)\n",
        "        Department.__init__(self, dept_name, short_dept_name)\n",
        "        \n",
        "w = Worker('John', 'Doe' ,30, 'Information Technology','IT')\n",
        "print(w.__dict__)"
      ],
      "metadata": {
        "colab": {
          "base_uri": "https://localhost:8080/"
        },
        "id": "8bxNxG0HJdwz",
        "outputId": "03ff8918-72d3-4e32-a472-536f03350be1"
      },
      "execution_count": null,
      "outputs": [
        {
          "output_type": "stream",
          "name": "stdout",
          "text": [
            "{'first_name': 'John', 'last_name': 'Doe', 'age': 30, 'dept_name': 'Information Technology', 'short_dept_name': 'IT'}\n"
          ]
        }
      ]
    },
    {
      "cell_type": "code",
      "source": [],
      "metadata": {
        "id": "HPKzMAi9NvrZ"
      },
      "execution_count": null,
      "outputs": []
    }
  ]
}