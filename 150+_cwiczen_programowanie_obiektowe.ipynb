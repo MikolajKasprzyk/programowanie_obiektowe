{
  "nbformat": 4,
  "nbformat_minor": 0,
  "metadata": {
    "colab": {
      "provenance": [],
      "authorship_tag": "ABX9TyPHyZA7wGg0RGtjyC+Sc2JF",
      "include_colab_link": true
    },
    "kernelspec": {
      "name": "python3",
      "display_name": "Python 3"
    },
    "language_info": {
      "name": "python"
    }
  },
  "cells": [
    {
      "cell_type": "markdown",
      "metadata": {
        "id": "view-in-github",
        "colab_type": "text"
      },
      "source": [
        "<a href=\"https://colab.research.google.com/github/MikolajKasprzyk/programowanie_obiektowe/blob/main/150%2B_cwiczen_programowanie_obiektowe.ipynb\" target=\"_parent\"><img src=\"https://colab.research.google.com/assets/colab-badge.svg\" alt=\"Open In Colab\"/></a>"
      ]
    },
    {
      "cell_type": "code",
      "execution_count": null,
      "metadata": {
        "colab": {
          "base_uri": "https://localhost:8080/"
        },
        "id": "r6YnVeSDJ4gu",
        "outputId": "e7dcba96-878a-49a8-887f-a5f1cde47c93"
      },
      "outputs": [
        {
          "output_type": "stream",
          "name": "stdout",
          "text": [
            "3.8.10\n"
          ]
        }
      ],
      "source": [
        "import sys\n",
        "\n",
        "print((sys.version.split())[0])"
      ]
    },
    {
      "cell_type": "code",
      "source": [
        "import datetime\n",
        "\n",
        "for item in sorted(datetime.__dict__):\n",
        "    print(item)"
      ],
      "metadata": {
        "colab": {
          "base_uri": "https://localhost:8080/"
        },
        "id": "gYLdNIaRNaab",
        "outputId": "7382fb8b-b182-4a3d-ddc5-527ab40b82b5"
      },
      "execution_count": null,
      "outputs": [
        {
          "output_type": "stream",
          "name": "stdout",
          "text": [
            "MAXYEAR\n",
            "MINYEAR\n",
            "__builtins__\n",
            "__cached__\n",
            "__doc__\n",
            "__file__\n",
            "__loader__\n",
            "__name__\n",
            "__package__\n",
            "__spec__\n",
            "date\n",
            "datetime\n",
            "datetime_CAPI\n",
            "sys\n",
            "time\n",
            "timedelta\n",
            "timezone\n",
            "tzinfo\n"
          ]
        }
      ]
    },
    {
      "cell_type": "code",
      "source": [
        "def stock_info(company, country, price, currency):\n",
        "    return f'Company: {company}\\nCountry: {country}\\nPrice: {currency} {price}'\n",
        "\n",
        "print(stock_info.__code__.co_varnames)"
      ],
      "metadata": {
        "colab": {
          "base_uri": "https://localhost:8080/"
        },
        "id": "o8NLxMa9OoEx",
        "outputId": "5b0cb2af-f4d0-4c52-b4ab-f200b73d911e"
      },
      "execution_count": null,
      "outputs": [
        {
          "output_type": "stream",
          "name": "stdout",
          "text": [
            "('company', 'country', 'price', 'currency')\n"
          ]
        }
      ]
    },
    {
      "cell_type": "code",
      "source": [
        "def stick(*args):\n",
        "    result = [arg for arg in args if isinstance(arg, str)]\n",
        "    return '#'.join(result)"
      ],
      "metadata": {
        "id": "KXk-NNLbQME6"
      },
      "execution_count": null,
      "outputs": []
    },
    {
      "cell_type": "code",
      "source": [
        "stick('sport', 'summer', 6, 'albala')"
      ],
      "metadata": {
        "colab": {
          "base_uri": "https://localhost:8080/",
          "height": 35
        },
        "id": "DWo5iQadQ1aZ",
        "outputId": "a203067e-0c4d-4258-fde4-65d6cf771ea7"
      },
      "execution_count": null,
      "outputs": [
        {
          "output_type": "execute_result",
          "data": {
            "text/plain": [
              "'sport#summer#albala'"
            ],
            "application/vnd.google.colaboratory.intrinsic+json": {
              "type": "string"
            }
          },
          "metadata": {},
          "execution_count": 27
        }
      ]
    },
    {
      "cell_type": "code",
      "source": [
        "def display_info(company, **kwargs):\n",
        "   \n",
        "        print(f'Company name: {company}')\n",
        "        if kwargs:\n",
        "            print(f\"Price: $ {kwargs['price']}\")\n",
        "            \n",
        "display_info(company='CD Projekt', price=100)"
      ],
      "metadata": {
        "colab": {
          "base_uri": "https://localhost:8080/"
        },
        "id": "vI1i0jo3U8yj",
        "outputId": "41061b48-ca03-40a6-bd61-678ef77d0ffc"
      },
      "execution_count": null,
      "outputs": [
        {
          "output_type": "stream",
          "name": "stdout",
          "text": [
            "Company name: CD Projekt\n",
            "Price: $ 100\n"
          ]
        }
      ]
    },
    {
      "cell_type": "code",
      "source": [
        "class Phone:\n",
        "    \n",
        "    brand = 'Apple'\n",
        "    model = 'iPhone X'\n",
        "    \n",
        "print(getattr(Phone, 'brand'))\n",
        "print(getattr(Phone, 'model'))"
      ],
      "metadata": {
        "colab": {
          "base_uri": "https://localhost:8080/"
        },
        "id": "-D9CGbt0Wwbe",
        "outputId": "6f32c306-19ca-4bcb-c445-b0207be7ed92"
      },
      "execution_count": null,
      "outputs": [
        {
          "output_type": "stream",
          "name": "stdout",
          "text": [
            "Apple\n",
            "iPhone X\n"
          ]
        }
      ]
    },
    {
      "cell_type": "code",
      "source": [
        "help(setattr)"
      ],
      "metadata": {
        "colab": {
          "base_uri": "https://localhost:8080/"
        },
        "id": "PSXkHxmNadpk",
        "outputId": "63908a51-a9c2-49b8-ce5d-b06a7caf2a3f"
      },
      "execution_count": null,
      "outputs": [
        {
          "output_type": "stream",
          "name": "stdout",
          "text": [
            "Help on built-in function setattr in module builtins:\n",
            "\n",
            "setattr(obj, name, value, /)\n",
            "    Sets the named attribute on the given object to the specified value.\n",
            "    \n",
            "    setattr(x, 'y', v) is equivalent to ``x.y = v''\n",
            "\n"
          ]
        }
      ]
    },
    {
      "cell_type": "code",
      "source": [
        "class OnlineShop:\n",
        "    sector = 'electronics'\n",
        "    sector_code = 'ELE'\n",
        "    is_public_company = False\n",
        "    \n",
        "for attr, value in OnlineShop.__dict__.items():\n",
        "    if not attr.startswith('_'):\n",
        "        print(f'{attr} -> {value}')"
      ],
      "metadata": {
        "colab": {
          "base_uri": "https://localhost:8080/"
        },
        "id": "tdFVt1fuaiDT",
        "outputId": "e3e9169e-fff2-44ba-ff1a-1375b4efd442"
      },
      "execution_count": null,
      "outputs": [
        {
          "output_type": "stream",
          "name": "stdout",
          "text": [
            "sector -> electronics\n",
            "sector_code -> ELE\n",
            "is_public_company -> False\n"
          ]
        }
      ]
    },
    {
      "cell_type": "code",
      "source": [
        "class OnlineShop:\n",
        "    sector = 'electronics'\n",
        "    sector_code = 'ELE'\n",
        "    is_public_company = False\n",
        "    \n",
        "\n",
        "def describe_attrs(item):\n",
        "    for attr in item.__dict__.keys():\n",
        "        if not attr.startswith('_'):\n",
        "            print(attr)\n",
        "     \n",
        "describe_attrs(OnlineShop)"
      ],
      "metadata": {
        "colab": {
          "base_uri": "https://localhost:8080/"
        },
        "id": "H8WRBlq0deD2",
        "outputId": "3e3c090d-71e9-446f-feb6-967849543eb6"
      },
      "execution_count": null,
      "outputs": [
        {
          "output_type": "stream",
          "name": "stdout",
          "text": [
            "sector\n",
            "sector_code\n",
            "is_public_company\n"
          ]
        }
      ]
    },
    {
      "cell_type": "code",
      "source": [
        "class OnlineShop:\n",
        "    sector = 'electronics'\n",
        "    sector_code = 'ELE'\n",
        "    is_public_company = False\n",
        "    \n",
        "    def get_sector(self):\n",
        "        return self.sector"
      ],
      "metadata": {
        "id": "ZxtHbC4egbEP"
      },
      "execution_count": null,
      "outputs": []
    },
    {
      "cell_type": "code",
      "source": [
        "OnlineShop.get_sector()"
      ],
      "metadata": {
        "colab": {
          "base_uri": "https://localhost:8080/",
          "height": 166
        },
        "id": "_1fqGenzh1cD",
        "outputId": "d77cc3a7-0546-47b1-ba51-9bffc659cc6d"
      },
      "execution_count": null,
      "outputs": [
        {
          "output_type": "error",
          "ename": "TypeError",
          "evalue": "ignored",
          "traceback": [
            "\u001b[0;31m---------------------------------------------------------------------------\u001b[0m",
            "\u001b[0;31mTypeError\u001b[0m                                 Traceback (most recent call last)",
            "\u001b[0;32m<ipython-input-52-11b65c0eb1be>\u001b[0m in \u001b[0;36m<module>\u001b[0;34m\u001b[0m\n\u001b[0;32m----> 1\u001b[0;31m \u001b[0mOnlineShop\u001b[0m\u001b[0;34m.\u001b[0m\u001b[0mget_sector\u001b[0m\u001b[0;34m(\u001b[0m\u001b[0;34m)\u001b[0m\u001b[0;34m\u001b[0m\u001b[0;34m\u001b[0m\u001b[0m\n\u001b[0m",
            "\u001b[0;31mTypeError\u001b[0m: get_sector() missing 1 required positional argument: 'self'"
          ]
        }
      ]
    },
    {
      "cell_type": "code",
      "source": [
        "class HouseProject:\n",
        "    number_of_floors = 3\n",
        "    area = 100\n",
        "    \n",
        "    def describe_project():\n",
        "        print(f'Floor number: {HouseProject.number_of_floors}')\n",
        "        print(f'Area: {HouseProject.area}')\n",
        "    \n",
        "HouseProject.describe_project()"
      ],
      "metadata": {
        "colab": {
          "base_uri": "https://localhost:8080/"
        },
        "id": "EE0ITzgXh5vr",
        "outputId": "dea0dcc3-206b-4f27-c627-8b4e47ac247f"
      },
      "execution_count": null,
      "outputs": [
        {
          "output_type": "stream",
          "name": "stdout",
          "text": [
            "Floor number: 3\n",
            "Area: 100\n"
          ]
        }
      ]
    },
    {
      "cell_type": "code",
      "source": [
        "class Book:\n",
        "    language = 'ENG'\n",
        "    is_ebook = True\n",
        "\n",
        "\n",
        "books_data = [\n",
        "    {\n",
        "        'author': 'Dan Brown', \n",
        "        'title': 'Inferno'\n",
        "    },\n",
        "    {\n",
        "        'author': 'Dan Brown',\n",
        "        'title': 'The Da Vinci Code',\n",
        "        'year_of_publishment': 2003,\n",
        "    },\n",
        "]\n",
        "\n",
        "books = []\n",
        "for book_data in books_data:\n",
        "    book = Book()\n",
        "    for attr, value in book_data.items():\n",
        "        setattr(book, attr, value)\n",
        "    books.append(book)\n"
      ],
      "metadata": {
        "id": "DRsOxsWtjVpA"
      },
      "execution_count": null,
      "outputs": []
    },
    {
      "cell_type": "code",
      "source": [
        "books[0].__dict__"
      ],
      "metadata": {
        "colab": {
          "base_uri": "https://localhost:8080/"
        },
        "id": "9599IBD9nJtA",
        "outputId": "03b533cc-0b65-4880-fe07-dda920a601f3"
      },
      "execution_count": null,
      "outputs": [
        {
          "output_type": "execute_result",
          "data": {
            "text/plain": [
              "{'author': 'Dan Brown', 'title': 'Inferno'}"
            ]
          },
          "metadata": {},
          "execution_count": 7
        }
      ]
    },
    {
      "cell_type": "code",
      "source": [
        "class Book:\n",
        "    language = 'ENG'\n",
        "    is_ebook = True\n",
        "\n",
        " \n",
        "    def set_title(self, title):\n",
        "        if isinstance(title, str):\n",
        "            self.title = title\n",
        "        else:\n",
        "            raise TypeError('The value of the title attribute must be of str type.')\n",
        " \n",
        " \n",
        "book = Book()\n",
        "book.set_title('Inferno')\n",
        "print(book.title)"
      ],
      "metadata": {
        "colab": {
          "base_uri": "https://localhost:8080/"
        },
        "id": "By57zeEinWSE",
        "outputId": "130983d2-afd9-487b-d556-bdf7a72e3dc2"
      },
      "execution_count": null,
      "outputs": [
        {
          "output_type": "stream",
          "name": "stdout",
          "text": [
            "Inferno\n"
          ]
        }
      ]
    },
    {
      "cell_type": "code",
      "source": [
        "class Laptop:\n",
        "    def __init__(self, brand, model, price):\n",
        "        self.brand = brand\n",
        "        self._model = model\n",
        "        if isinstance(price, (int, float)) and price > 0:\n",
        "            self.__price = price\n",
        "        else:\n",
        "            raise TypeError(\n",
        "                'The price attribute must be a positive int or '\n",
        "                'float.'\n",
        "            )\n",
        " \n",
        " \n",
        "laptop = Laptop('Acer', 'Predator', 5490)\n",
        "print(laptop.__dict__)"
      ],
      "metadata": {
        "colab": {
          "base_uri": "https://localhost:8080/"
        },
        "id": "aU9rgdTmpwA2",
        "outputId": "d25f1afc-0f55-4820-a819-73ef006b92cf"
      },
      "execution_count": null,
      "outputs": [
        {
          "output_type": "stream",
          "name": "stdout",
          "text": [
            "{'brand': 'Acer', '_model': 'Predator', '_Laptop__price': 5490}\n"
          ]
        }
      ]
    },
    {
      "cell_type": "code",
      "source": [
        "for attr, value in laptop.__dict__.items():\n",
        "    print(f'{attr} -> {value})\n",
        "\n",
        "for attr, value in laptop.__dict__.items():\n",
        "    print(f\"{attr.split('_')[-1]} -> {value}\")"
      ],
      "metadata": {
        "colab": {
          "base_uri": "https://localhost:8080/",
          "height": 131
        },
        "id": "Mb-s1xq9u3YU",
        "outputId": "d6731b38-02dc-4a4d-9dd6-457601a818e4"
      },
      "execution_count": null,
      "outputs": [
        {
          "output_type": "error",
          "ename": "SyntaxError",
          "evalue": "ignored",
          "traceback": [
            "\u001b[0;36m  File \u001b[0;32m\"<ipython-input-3-c00ea99b92ab>\"\u001b[0;36m, line \u001b[0;32m2\u001b[0m\n\u001b[0;31m    print(f'{attr} -> {value})\u001b[0m\n\u001b[0m                              ^\u001b[0m\n\u001b[0;31mSyntaxError\u001b[0m\u001b[0;31m:\u001b[0m EOL while scanning string literal\n"
          ]
        }
      ]
    },
    {
      "cell_type": "code",
      "source": [
        "'_model'.split('_')"
      ],
      "metadata": {
        "colab": {
          "base_uri": "https://localhost:8080/"
        },
        "id": "IUnqTeqfy57q",
        "outputId": "8943e022-01af-49f6-ee70-f42851190212"
      },
      "execution_count": null,
      "outputs": [
        {
          "output_type": "execute_result",
          "data": {
            "text/plain": [
              "['', 'model']"
            ]
          },
          "metadata": {},
          "execution_count": 4
        }
      ]
    },
    {
      "cell_type": "code",
      "source": [
        "class Person:\n",
        "\n",
        "    def __init__(self, first_name):\n",
        "        self._first_name = first_name\n",
        "\n",
        "    def get_first_name(self):\n",
        "        return self._first_name\n",
        "\n",
        "    def set_first_name(self, value):\n",
        "        self._first_name = value\n",
        "        \n",
        "    def del_first_name(self):\n",
        "        del self._first_name\n",
        "        \n",
        "    first_name = property(fget=get_first_name, fset=set_first_name, fdel=del_first_name)\n",
        "\n",
        "        \n",
        "person = Person('John')\n",
        "person.del_first_name()\n",
        "print(person.__dict__)"
      ],
      "metadata": {
        "colab": {
          "base_uri": "https://localhost:8080/"
        },
        "id": "NyOL2wKFy-xE",
        "outputId": "a4422893-9b3a-4119-a803-96028cc42934"
      },
      "execution_count": null,
      "outputs": [
        {
          "output_type": "stream",
          "name": "stdout",
          "text": [
            "{}\n"
          ]
        }
      ]
    },
    {
      "cell_type": "code",
      "source": [
        "12 in range(10)"
      ],
      "metadata": {
        "colab": {
          "base_uri": "https://localhost:8080/"
        },
        "id": "n_iM5sqn5dC0",
        "outputId": "9c10f036-7a8e-4a33-e57e-9e0784baedb1"
      },
      "execution_count": null,
      "outputs": [
        {
          "output_type": "execute_result",
          "data": {
            "text/plain": [
              "False"
            ]
          },
          "metadata": {},
          "execution_count": 8
        }
      ]
    },
    {
      "cell_type": "code",
      "source": [
        "import math\n",
        "\n",
        "\n",
        "class Circle:\n",
        "\n",
        "    def __init__(self, radius):\n",
        "        self.radius = radius\n",
        "        self._area = None\n",
        "\n",
        "    @property\n",
        "    def radius(self):\n",
        "        return self._radius\n",
        "\n",
        "    @radius.setter\n",
        "    def radius(self, value):\n",
        "        self._radius = value\n",
        "        self._area = None\n",
        "        \n",
        "    @property\n",
        "    def area(self):\n",
        "        if self._area == None:\n",
        "            print('calculating area...')\n",
        "            self._area = math.pi * self.radius**2\n",
        "        return self._area\n",
        "        \n",
        "circle = Circle(3)\n",
        "print(f'{circle.area:.4f}')\n",
        "\n",
        "        "
      ],
      "metadata": {
        "colab": {
          "base_uri": "https://localhost:8080/"
        },
        "id": "Xo1Jru-4_XA8",
        "outputId": "34b980cd-f348-4f42-a8e8-9b62807ec069"
      },
      "execution_count": null,
      "outputs": [
        {
          "output_type": "stream",
          "name": "stdout",
          "text": [
            "calculating area...\n",
            "28.2743\n"
          ]
        }
      ]
    },
    {
      "cell_type": "code",
      "source": [
        "circle.area"
      ],
      "metadata": {
        "colab": {
          "base_uri": "https://localhost:8080/"
        },
        "id": "B8VEIdShEKbG",
        "outputId": "a09ebba6-9243-4ca4-fb16-ff63d2cd288c"
      },
      "execution_count": null,
      "outputs": [
        {
          "output_type": "execute_result",
          "data": {
            "text/plain": [
              "28.274333882308138"
            ]
          },
          "metadata": {},
          "execution_count": 17
        }
      ]
    },
    {
      "cell_type": "code",
      "source": [
        "circle.radius = 1"
      ],
      "metadata": {
        "id": "V4bBxTl4Eliy"
      },
      "execution_count": null,
      "outputs": []
    },
    {
      "cell_type": "code",
      "source": [
        "circle.area"
      ],
      "metadata": {
        "colab": {
          "base_uri": "https://localhost:8080/"
        },
        "id": "j-zx83sXEryt",
        "outputId": "28425b02-7644-487c-d68c-683d7e51cd30"
      },
      "execution_count": null,
      "outputs": [
        {
          "output_type": "stream",
          "name": "stdout",
          "text": [
            "calculating area...\n"
          ]
        },
        {
          "output_type": "execute_result",
          "data": {
            "text/plain": [
              "3.141592653589793"
            ]
          },
          "metadata": {},
          "execution_count": 19
        }
      ]
    },
    {
      "cell_type": "code",
      "source": [
        "import math\n",
        "\n",
        "\n",
        "class Circle:\n",
        "    def __init__(self, radius):\n",
        "        self.radius = radius\n",
        "        self._area = None\n",
        "        self._perimeter = None\n",
        "\n",
        "    @property\n",
        "    def radius(self):\n",
        "        return self._radius\n",
        "\n",
        "    @radius.setter\n",
        "    def radius(self, value):\n",
        "        self._radius = value\n",
        "        self._area = None\n",
        "        self._perimeter = None\n",
        "\n",
        "    @property\n",
        "    def area(self):\n",
        "        if self._area is None:\n",
        "            self._area = math.pi * self._radius * self._radius\n",
        "        return self._area\n",
        "        \n",
        "    @property\n",
        "    def perimeter(self):\n",
        "        if self._perimeter is None:\n",
        "            self._perimeter = 2 * math.pi * self._radius\n",
        "        return self._perimeter\n",
        "        \n",
        " \n",
        "circle = Circle(3)\n",
        "print(f'{circle.perimeter:.4f}')"
      ],
      "metadata": {
        "colab": {
          "base_uri": "https://localhost:8080/"
        },
        "id": "o_2XXxV8EtnX",
        "outputId": "162ef258-9344-479a-d3a2-34a65cf28244"
      },
      "execution_count": null,
      "outputs": [
        {
          "output_type": "stream",
          "name": "stdout",
          "text": [
            "18.8496\n"
          ]
        }
      ]
    },
    {
      "cell_type": "code",
      "source": [
        "class Rectangle:\n",
        "    \n",
        "    def __init__(self, width, height):\n",
        "        self.width = width\n",
        "        self.height = height\n",
        "        self.area = width * height\n",
        "        self._perimeter = None\n",
        "\n",
        "    @property\n",
        "    def width(self):\n",
        "        return self._width\n",
        "    \n",
        "    @width.setter\n",
        "    def width(self, width):\n",
        "        self._width = width\n",
        "        self._area = None\n",
        "        self._perimeter = None\n",
        "    \n",
        "    @property\n",
        "    def height(self):\n",
        "        return self._height\n",
        "\n",
        "    @height.setter\n",
        "    def height(self, height):\n",
        "        self._height = height\n",
        "        self._area = None\n",
        "        self._perimeter = None\n",
        "\n",
        "    @property\n",
        "    def area(self):\n",
        "        return self._area\n",
        "\n",
        "    @area.setter\n",
        "    def area(self, area):\n",
        "        if not self._area:\n",
        "            self._area = self._width * self._height\n",
        "        return self._area\n",
        "    \n",
        "    @property\n",
        "    def perimeter(self):\n",
        "        if not self._perimeter:\n",
        "            self._perimeter = 2*self._width + 2*self._height\n",
        "        return self._perimeter\n",
        "\n",
        "\n",
        "\n",
        "\n",
        "\n",
        "rectangle = Rectangle(3, 4)\n",
        "print(\n",
        "    f'width: {rectangle.width}, height: {rectangle.height} -> '\n",
        "    f'area: {rectangle.area}'\n",
        ")"
      ],
      "metadata": {
        "colab": {
          "base_uri": "https://localhost:8080/"
        },
        "id": "4XrJm_MpHwDa",
        "outputId": "b6097b28-dbb7-4124-9a1d-bfba0664ca09"
      },
      "execution_count": null,
      "outputs": [
        {
          "output_type": "stream",
          "name": "stdout",
          "text": [
            "width: 3, height: 4 -> area: 12\n"
          ]
        }
      ]
    },
    {
      "cell_type": "code",
      "source": [
        "rectangle.perimeter"
      ],
      "metadata": {
        "colab": {
          "base_uri": "https://localhost:8080/"
        },
        "id": "0r9vxu2SI6ZV",
        "outputId": "8b88aa2b-2518-4073-9784-f9ec5f6600fa"
      },
      "execution_count": null,
      "outputs": [
        {
          "output_type": "execute_result",
          "data": {
            "text/plain": [
              "22"
            ]
          },
          "metadata": {},
          "execution_count": 48
        }
      ]
    },
    {
      "cell_type": "code",
      "source": [
        "rectangle.width = 7"
      ],
      "metadata": {
        "id": "GqDiKjj0MZKi"
      },
      "execution_count": null,
      "outputs": []
    },
    {
      "cell_type": "code",
      "source": [
        "import uuid\n",
        "\n",
        "\n",
        "class Book:\n",
        "\n",
        "    def __init__(self, title, author):\n",
        "        self.book_id = self.get_id()\n",
        "        self.title = title\n",
        "        self.author = author\n",
        "\n",
        "    @staticmethod \n",
        "    def get_id():\n",
        "        return str(uuid.uuid4().fields[-1])[:6]\n",
        "        \n",
        "book1 = Book('Inferno', 'Dan Brown')\n",
        "print(book1.__dict__.keys())"
      ],
      "metadata": {
        "colab": {
          "base_uri": "https://localhost:8080/"
        },
        "id": "okb9RYLnNCF4",
        "outputId": "3d74d233-885a-4fe7-ee35-aa8aa67745f3"
      },
      "execution_count": null,
      "outputs": [
        {
          "output_type": "stream",
          "name": "stdout",
          "text": [
            "dict_keys(['book_id', 'title', 'author'])\n"
          ]
        }
      ]
    },
    {
      "cell_type": "code",
      "source": [
        "book1.get_id()"
      ],
      "metadata": {
        "colab": {
          "base_uri": "https://localhost:8080/",
          "height": 35
        },
        "id": "xy7dK0TTU_PW",
        "outputId": "ad3ff9cc-c3f0-47d8-cf84-65b974b5f2a4"
      },
      "execution_count": null,
      "outputs": [
        {
          "output_type": "execute_result",
          "data": {
            "text/plain": [
              "'207813'"
            ],
            "application/vnd.google.colaboratory.intrinsic+json": {
              "type": "string"
            }
          },
          "metadata": {},
          "execution_count": 56
        }
      ]
    },
    {
      "cell_type": "code",
      "source": [
        "get_id()"
      ],
      "metadata": {
        "colab": {
          "base_uri": "https://localhost:8080/",
          "height": 166
        },
        "id": "DwxyHbR2VgXb",
        "outputId": "161594cd-8f83-4874-ec0f-c4e3657a4270"
      },
      "execution_count": null,
      "outputs": [
        {
          "output_type": "error",
          "ename": "NameError",
          "evalue": "ignored",
          "traceback": [
            "\u001b[0;31m---------------------------------------------------------------------------\u001b[0m",
            "\u001b[0;31mNameError\u001b[0m                                 Traceback (most recent call last)",
            "\u001b[0;32m<ipython-input-60-69ea7709c0f7>\u001b[0m in \u001b[0;36m<module>\u001b[0;34m\u001b[0m\n\u001b[0;32m----> 1\u001b[0;31m \u001b[0mget_id\u001b[0m\u001b[0;34m(\u001b[0m\u001b[0;34m)\u001b[0m\u001b[0;34m\u001b[0m\u001b[0;34m\u001b[0m\u001b[0m\n\u001b[0m",
            "\u001b[0;31mNameError\u001b[0m: name 'get_id' is not defined"
          ]
        }
      ]
    },
    {
      "cell_type": "code",
      "source": [
        "class Person:\n",
        "    \n",
        "    def __init__(self, fname, lname):\n",
        "        self.fname = fname\n",
        "        self.lname = lname\n",
        "        \n",
        "    def __repr__(self):\n",
        "        return f\"Person('{self.fname}', '{self.lname}')\"\n",
        "        \n",
        "person = Person('Mike', 'Smith')\n",
        "print(person)"
      ],
      "metadata": {
        "colab": {
          "base_uri": "https://localhost:8080/"
        },
        "id": "yTf_Q9z1VlrI",
        "outputId": "4c15fac3-9cdb-479f-9af8-e16a46c77235"
      },
      "execution_count": null,
      "outputs": [
        {
          "output_type": "stream",
          "name": "stdout",
          "text": [
            "Person('Mike', 'Smith')\n"
          ]
        }
      ]
    },
    {
      "cell_type": "code",
      "source": [
        "class Vector:\n",
        "    \n",
        "    def __init__(self, *components):\n",
        "        self.components = components\n",
        "        \n",
        "    def __repr__(self):\n",
        "        return f'Vector{self.components}'\n",
        "        \n",
        "v1 = Vector(-3, 4, 2)\n",
        "print(v1)\n",
        "        \n"
      ],
      "metadata": {
        "colab": {
          "base_uri": "https://localhost:8080/"
        },
        "id": "u-1s9en-cS2t",
        "outputId": "2f312097-7d45-4c39-c7a6-9a625c23bd2d"
      },
      "execution_count": null,
      "outputs": [
        {
          "output_type": "stream",
          "name": "stdout",
          "text": [
            "Vector(-3, 4, 2)\n"
          ]
        }
      ]
    },
    {
      "cell_type": "code",
      "source": [
        "class Vector:\n",
        "\n",
        "    def __init__(self, *components):\n",
        "        self.components = components\n",
        "\n",
        "    def __repr__(self):\n",
        "        return f'Vector{self.components}'\n",
        "\n",
        "    def __str__(self):\n",
        "        return f'{self.components}'\n",
        "\n",
        "    def __len__(self):\n",
        "        return len(self.components)\n",
        "        \n",
        "    def __bool__(self):\n",
        "        if not self.components:\n",
        "            return False\n",
        "        return False if self.components[0] == 0 else True\n",
        "        \n",
        "v1 = Vector()\n",
        "v2 = Vector(3, 2)\n",
        "v3 = Vector(0, -3, 2)\n",
        "v4 = Vector(5, 0, -1)\n",
        " \n",
        "print(bool(v1))\n",
        "print(bool(v2))\n",
        "print(bool(v3))\n",
        "print(bool(v4))        "
      ],
      "metadata": {
        "colab": {
          "base_uri": "https://localhost:8080/"
        },
        "id": "6_c6VQdfdvCg",
        "outputId": "818ec071-4afe-4407-f1a6-8494970b478b"
      },
      "execution_count": null,
      "outputs": [
        {
          "output_type": "stream",
          "name": "stdout",
          "text": [
            "False\n",
            "True\n",
            "False\n",
            "True\n"
          ]
        }
      ]
    },
    {
      "cell_type": "code",
      "source": [
        "class Hashtag:\n",
        "\n",
        "    def __init__(self, string):\n",
        "        self.string = '#' + string\n",
        "\n",
        "    def __repr__(self):\n",
        "        return f\"Hashtag(string='{self.string}')\"\n",
        "\n",
        "    def __str__(self):\n",
        "        return f'{self.string}'\n",
        "\n",
        "    def __add__(self, other):\n",
        "        return Hashtag(self.string[1:] + ' ' + other.string)\n",
        "\n",
        "hashtag1 = Hashtag('python')\n",
        "hashtag2 = Hashtag('developer')\n",
        "hashtag3 = Hashtag('oop')\n",
        "print(hashtag1 + hashtag2 + hashtag3)"
      ],
      "metadata": {
        "colab": {
          "base_uri": "https://localhost:8080/"
        },
        "id": "JcZGnD-Wfkqv",
        "outputId": "93dcaebd-e705-4e18-e1e8-8f1926a7395c"
      },
      "execution_count": null,
      "outputs": [
        {
          "output_type": "stream",
          "name": "stdout",
          "text": [
            "#python #developer #oop\n"
          ]
        }
      ]
    },
    {
      "cell_type": "code",
      "source": [
        "class Vehicle:\n",
        "\n",
        "    def __init__(self, category=None):\n",
        "        self.category = category if category else 'land vehicle'\n",
        "        \n",
        "    def __repr__(self):\n",
        "        return f\"{self.__class__.__name__}(category='{self.category}')\"\n",
        "\n",
        "\n",
        "class LandVehicle(Vehicle):\n",
        "    pass\n",
        "\n",
        "\n",
        "class AirVehicle(Vehicle):\n",
        "\n",
        "    def __init__(self, category=None):\n",
        "        self.category = category if category else 'air vehicle'   \n",
        "\n",
        "\n",
        "instances = [Vehicle(), LandVehicle(), AirVehicle()]\n",
        "\n",
        "for instance in instances:\n",
        "    print(instance)"
      ],
      "metadata": {
        "colab": {
          "base_uri": "https://localhost:8080/"
        },
        "id": "z6UtVgsUifOg",
        "outputId": "c30319f8-b3f3-490d-bb31-830e1b5d5b04"
      },
      "execution_count": null,
      "outputs": [
        {
          "output_type": "stream",
          "name": "stdout",
          "text": [
            "Vehicle(category='land vehicle')\n",
            "LandVehicle(category='land vehicle')\n",
            "AirVehicle(category='air vehicle')\n"
          ]
        }
      ]
    },
    {
      "cell_type": "code",
      "source": [
        "class Vehicle:\n",
        "\n",
        "    def __init__(self, brand, color, year):\n",
        "        self.brand = brand\n",
        "        self.color = color\n",
        "        self.year = year\n",
        "\n",
        "class Car(Vehicle):\n",
        "\n",
        "    def __init__(self, brand, color, year, horsepower):\n",
        "        super().__init__(brand, color, year)\n",
        "        self.horsepower = horsepower\n",
        "\n",
        "vehicle = Vehicle('Tesla', 'red', 2020)\n",
        "print(vehicle.__dict__)       \n",
        " \n",
        "car = Car('Tesla', 'red', 2020, 300)\n",
        "print(car.__dict__)"
      ],
      "metadata": {
        "colab": {
          "base_uri": "https://localhost:8080/"
        },
        "id": "vUgcGiWnnGBg",
        "outputId": "bae7fe58-9744-4352-ad56-0e3946947f86"
      },
      "execution_count": null,
      "outputs": [
        {
          "output_type": "stream",
          "name": "stdout",
          "text": [
            "{'brand': 'Tesla', 'color': 'red', 'year': 2020}\n",
            "{'brand': 'Tesla', 'color': 'red', 'year': 2020, 'horsepower': 300}\n"
          ]
        }
      ]
    },
    {
      "cell_type": "code",
      "source": [
        "class Container:\n",
        "\n",
        "    category = 'general purpose'\n",
        "\n",
        "\n",
        "class TemperatureControlledContainer(Container):\n",
        "    \n",
        "    temp_range = (-25.0, 25.0)\n",
        "\n",
        "\n",
        "class RefrigeratedContainer(TemperatureControlledContainer):\n",
        "    \n",
        "    temp_range = (-25.0, 5.0)\n",
        "\n",
        "\n",
        "print(getattr(RefrigeratedContainer, temp_range))"
      ],
      "metadata": {
        "colab": {
          "base_uri": "https://localhost:8080/",
          "height": 201
        },
        "id": "qkEoivhSn9Hf",
        "outputId": "2ee6669b-e41a-419d-f024-a17416844116"
      },
      "execution_count": null,
      "outputs": [
        {
          "output_type": "error",
          "ename": "NameError",
          "evalue": "ignored",
          "traceback": [
            "\u001b[0;31m---------------------------------------------------------------------------\u001b[0m",
            "\u001b[0;31mNameError\u001b[0m                                 Traceback (most recent call last)",
            "\u001b[0;32m<ipython-input-82-5cb566df50e1>\u001b[0m in \u001b[0;36m<module>\u001b[0;34m\u001b[0m\n\u001b[1;32m     14\u001b[0m \u001b[0;34m\u001b[0m\u001b[0m\n\u001b[1;32m     15\u001b[0m \u001b[0;34m\u001b[0m\u001b[0m\n\u001b[0;32m---> 16\u001b[0;31m \u001b[0mprint\u001b[0m\u001b[0;34m(\u001b[0m\u001b[0mgetattr\u001b[0m\u001b[0;34m(\u001b[0m\u001b[0mRefrigeratedContainer\u001b[0m\u001b[0;34m,\u001b[0m \u001b[0mtemp_range\u001b[0m\u001b[0;34m)\u001b[0m\u001b[0;34m)\u001b[0m\u001b[0;34m\u001b[0m\u001b[0;34m\u001b[0m\u001b[0m\n\u001b[0m",
            "\u001b[0;31mNameError\u001b[0m: name 'temp_range' is not defined"
          ]
        }
      ]
    },
    {
      "cell_type": "code",
      "source": [
        "from abc import ABC, abstractmethod\n",
        "\n",
        "\n",
        "class TaxPayer(ABC):\n",
        "\n",
        "    def __init__(self, salary):\n",
        "        self.salary = salary\n",
        "\n",
        "    @abstractmethod\n",
        "    def calculate_tax(self):\n",
        "        pass\n",
        "\n",
        "\n",
        "class StudentTaxPayer(TaxPayer):\n",
        "\n",
        "    def calculate_tax(self):\n",
        "        return self.salary * 0.15\n",
        "        \n",
        "class DisabledTaxPayer(TaxPayer):\n",
        "\n",
        "    def calculate_tax(self):\n",
        "        return min(self.salary * 0.12, 5000)\n",
        "        \n",
        "disabled = DisabledTaxPayer(50000)\n",
        "print(disabled.calculate_tax())\n"
      ],
      "metadata": {
        "colab": {
          "base_uri": "https://localhost:8080/"
        },
        "id": "NZpCjK7MqcXJ",
        "outputId": "6bc5c9fe-2d0d-439f-b71b-27aba8c417b8"
      },
      "execution_count": null,
      "outputs": [
        {
          "output_type": "stream",
          "name": "stdout",
          "text": [
            "5000\n"
          ]
        }
      ]
    },
    {
      "cell_type": "code",
      "source": [
        "from abc import ABC, abstractmethod\n",
        "\n",
        "\n",
        "class TaxPayer(ABC):\n",
        "\n",
        "    def __init__(self, salary):\n",
        "        self.salary = salary\n",
        "\n",
        "    @abstractmethod\n",
        "    def calculate_tax(self):\n",
        "        pass\n",
        "\n",
        "\n",
        "class StudentTaxPayer(TaxPayer):\n",
        "\n",
        "    def calculate_tax(self):\n",
        "        return self.salary * 0.15\n",
        "\n",
        "    \n",
        "class DisabledTaxPayer(TaxPayer):\n",
        "\n",
        "    def calculate_tax(self):\n",
        "        return self.salary * 0.12\n",
        "        \n",
        "        \n",
        "class WorkerTaxPayer(TaxPayer):\n",
        "\n",
        "    def calculate_tax(self):\n",
        "        thsd = 80000\n",
        "        if self.salary <= thsd:\n",
        "            return self.salary * 0.17\n",
        "        else:\n",
        "            return (thsd * 0,17) + (self.salary - thsd) * 0.32\n",
        "        \n",
        "worker1 = WorkerTaxPayer(70000)\n",
        "worker2 = WorkerTaxPayer(95000)\n",
        "print(worker1.calculate_tax())\n",
        "print(worker2.calculate_tax())"
      ],
      "metadata": {
        "colab": {
          "base_uri": "https://localhost:8080/",
          "height": 340
        },
        "id": "pZJnCqJ9vI5e",
        "outputId": "60c7f5c7-e8eb-498c-9f29-aae388366d13"
      },
      "execution_count": null,
      "outputs": [
        {
          "output_type": "stream",
          "name": "stdout",
          "text": [
            "11900.0\n"
          ]
        },
        {
          "output_type": "error",
          "ename": "TypeError",
          "evalue": "ignored",
          "traceback": [
            "\u001b[0;31m---------------------------------------------------------------------------\u001b[0m",
            "\u001b[0;31mTypeError\u001b[0m                                 Traceback (most recent call last)",
            "\u001b[0;32m<ipython-input-2-38884a6ccde8>\u001b[0m in \u001b[0;36m<module>\u001b[0;34m\u001b[0m\n\u001b[1;32m     36\u001b[0m \u001b[0mworker2\u001b[0m \u001b[0;34m=\u001b[0m \u001b[0mWorkerTaxPayer\u001b[0m\u001b[0;34m(\u001b[0m\u001b[0;36m95000\u001b[0m\u001b[0;34m)\u001b[0m\u001b[0;34m\u001b[0m\u001b[0;34m\u001b[0m\u001b[0m\n\u001b[1;32m     37\u001b[0m \u001b[0mprint\u001b[0m\u001b[0;34m(\u001b[0m\u001b[0mworker1\u001b[0m\u001b[0;34m.\u001b[0m\u001b[0mcalculate_tax\u001b[0m\u001b[0;34m(\u001b[0m\u001b[0;34m)\u001b[0m\u001b[0;34m)\u001b[0m\u001b[0;34m\u001b[0m\u001b[0;34m\u001b[0m\u001b[0m\n\u001b[0;32m---> 38\u001b[0;31m \u001b[0mprint\u001b[0m\u001b[0;34m(\u001b[0m\u001b[0mworker2\u001b[0m\u001b[0;34m.\u001b[0m\u001b[0mcalculate_tax\u001b[0m\u001b[0;34m(\u001b[0m\u001b[0;34m)\u001b[0m\u001b[0;34m)\u001b[0m\u001b[0;34m\u001b[0m\u001b[0;34m\u001b[0m\u001b[0m\n\u001b[0m",
            "\u001b[0;32m<ipython-input-2-38884a6ccde8>\u001b[0m in \u001b[0;36mcalculate_tax\u001b[0;34m(self)\u001b[0m\n\u001b[1;32m     31\u001b[0m             \u001b[0;32mreturn\u001b[0m \u001b[0mself\u001b[0m\u001b[0;34m.\u001b[0m\u001b[0msalary\u001b[0m \u001b[0;34m*\u001b[0m \u001b[0;36m0.17\u001b[0m\u001b[0;34m\u001b[0m\u001b[0;34m\u001b[0m\u001b[0m\n\u001b[1;32m     32\u001b[0m         \u001b[0;32melse\u001b[0m\u001b[0;34m:\u001b[0m\u001b[0;34m\u001b[0m\u001b[0;34m\u001b[0m\u001b[0m\n\u001b[0;32m---> 33\u001b[0;31m             \u001b[0;32mreturn\u001b[0m \u001b[0;34m(\u001b[0m\u001b[0;34m(\u001b[0m\u001b[0mthsd\u001b[0m \u001b[0;34m*\u001b[0m \u001b[0;36m0\u001b[0m\u001b[0;34m,\u001b[0m\u001b[0;36m17\u001b[0m\u001b[0;34m)\u001b[0m \u001b[0;34m+\u001b[0m \u001b[0;34m(\u001b[0m\u001b[0mself\u001b[0m\u001b[0;34m.\u001b[0m\u001b[0msalary\u001b[0m \u001b[0;34m-\u001b[0m \u001b[0mthsd\u001b[0m\u001b[0;34m)\u001b[0m \u001b[0;34m*\u001b[0m \u001b[0;36m0.32\u001b[0m\u001b[0;34m)\u001b[0m\u001b[0;34m\u001b[0m\u001b[0;34m\u001b[0m\u001b[0m\n\u001b[0m\u001b[1;32m     34\u001b[0m \u001b[0;34m\u001b[0m\u001b[0m\n\u001b[1;32m     35\u001b[0m \u001b[0mworker1\u001b[0m \u001b[0;34m=\u001b[0m \u001b[0mWorkerTaxPayer\u001b[0m\u001b[0;34m(\u001b[0m\u001b[0;36m70000\u001b[0m\u001b[0;34m)\u001b[0m\u001b[0;34m\u001b[0m\u001b[0;34m\u001b[0m\u001b[0m\n",
            "\u001b[0;31mTypeError\u001b[0m: can only concatenate tuple (not \"float\") to tuple"
          ]
        }
      ]
    },
    {
      "cell_type": "code",
      "source": [
        "thsd = 80000\n",
        "(80000 * 0,17) + ((90000 - 80000) * 0.32 )"
      ],
      "metadata": {
        "colab": {
          "base_uri": "https://localhost:8080/",
          "height": 183
        },
        "id": "J1yJ5mjswu0y",
        "outputId": "36dc3eb4-5722-4964-8f70-d7865350480a"
      },
      "execution_count": null,
      "outputs": [
        {
          "output_type": "error",
          "ename": "TypeError",
          "evalue": "ignored",
          "traceback": [
            "\u001b[0;31m---------------------------------------------------------------------------\u001b[0m",
            "\u001b[0;31mTypeError\u001b[0m                                 Traceback (most recent call last)",
            "\u001b[0;32m<ipython-input-7-31ba03c186c9>\u001b[0m in \u001b[0;36m<module>\u001b[0;34m\u001b[0m\n\u001b[1;32m      1\u001b[0m \u001b[0mthsd\u001b[0m \u001b[0;34m=\u001b[0m \u001b[0;36m80000\u001b[0m\u001b[0;34m\u001b[0m\u001b[0;34m\u001b[0m\u001b[0m\n\u001b[0;32m----> 2\u001b[0;31m \u001b[0;34m(\u001b[0m\u001b[0;36m80000\u001b[0m \u001b[0;34m*\u001b[0m \u001b[0;36m0\u001b[0m\u001b[0;34m,\u001b[0m\u001b[0;36m17\u001b[0m\u001b[0;34m)\u001b[0m \u001b[0;34m+\u001b[0m \u001b[0;34m(\u001b[0m\u001b[0;34m(\u001b[0m\u001b[0;36m90000\u001b[0m \u001b[0;34m-\u001b[0m \u001b[0;36m80000\u001b[0m\u001b[0;34m)\u001b[0m \u001b[0;34m*\u001b[0m \u001b[0;36m0.32\u001b[0m \u001b[0;34m)\u001b[0m\u001b[0;34m\u001b[0m\u001b[0;34m\u001b[0m\u001b[0m\n\u001b[0m",
            "\u001b[0;31mTypeError\u001b[0m: can only concatenate tuple (not \"float\") to tuple"
          ]
        }
      ]
    },
    {
      "cell_type": "code",
      "source": [
        "class Person:\n",
        "\n",
        "    def __init__(self, name, age):\n",
        "        self.name = name\n",
        "        self.age = age\n",
        "\n",
        "\n",
        "people = [Person('Tom', 25), Person('John', 29),\n",
        "          Person('Mike', 27), Person('Alice', 19)]\n",
        "\n",
        "people.sort(key=lambda person: person.age)"
      ],
      "metadata": {
        "id": "oIinOJoixOSo"
      },
      "execution_count": null,
      "outputs": []
    },
    {
      "cell_type": "code",
      "source": [
        "print(people)"
      ],
      "metadata": {
        "colab": {
          "base_uri": "https://localhost:8080/"
        },
        "id": "Aqlvhv9cygyp",
        "outputId": "c0bc328f-efeb-4820-8ddd-fa33b4491fda"
      },
      "execution_count": null,
      "outputs": [
        {
          "output_type": "stream",
          "name": "stdout",
          "text": [
            "[<__main__.Person object at 0x7fdc26d1dc10>, <__main__.Person object at 0x7fdc26d1ddc0>, <__main__.Person object at 0x7fdc26d1d940>, <__main__.Person object at 0x7fdc26d1dd00>]\n"
          ]
        }
      ]
    },
    {
      "cell_type": "code",
      "source": [
        "import datetime\n",
        "\n",
        "class Note:\n",
        "    \n",
        "    def __init__(self, content):\n",
        "        self.content = content\n",
        "        self.creation_time = datetime.datetime.now().strftime(\n",
        "            '%m-%d-%Y %H:%M:%S')\n",
        "        \n",
        "note1 = Note('My first note.')\n",
        "note2 = Note('My second note.')"
      ],
      "metadata": {
        "id": "qaxnVOrazP06"
      },
      "execution_count": null,
      "outputs": []
    },
    {
      "cell_type": "code",
      "source": [
        "class Client:\n",
        "    \n",
        "    all_clients = []\n",
        "    \n",
        "    def __init__(self, name, email):\n",
        "        self.name = name\n",
        "        self.email = email\n",
        "        Client.all_clients.append(self)\n",
        "        \n",
        "    def __repr__(self):\n",
        "        return f\"Client('{self.name}', '{self.email}')\"\n",
        "    \n",
        "client1 = Client('Tom', 'sample@gmail.com')\n",
        "client2 = Client('Donald', 'sales@yahoo.com')\n",
        "client3 = Client('Mike', 'sales-contact@yahoo.com') \n",
        "\n",
        "print(Client.all_clients)"
      ],
      "metadata": {
        "colab": {
          "base_uri": "https://localhost:8080/"
        },
        "id": "CVN891sA1iDd",
        "outputId": "371c3dde-f398-461e-93db-8feaae9a8206"
      },
      "execution_count": null,
      "outputs": [
        {
          "output_type": "stream",
          "name": "stdout",
          "text": [
            "[Client('Tom', 'sample@gmail.com'), Client('Donald', 'sales@yahoo.com'), Client('Mike', 'sales-contact@yahoo.com')]\n"
          ]
        }
      ]
    },
    {
      "cell_type": "code",
      "source": [
        "class ClientList(list):\n",
        "\n",
        "    def search_email(self, value):\n",
        "        result = [client for client in self if value in client.email]\n",
        "        return result\n",
        "\n",
        "class Client:\n",
        "\n",
        "    all_clients = ClientList()\n",
        "\n",
        "    def __init__(self, name, email):\n",
        "        self.name = name\n",
        "        self.email = email\n",
        "        Client.all_clients.append(self)\n",
        "\n",
        "    def __repr__(self):\n",
        "        return f\"Client(name='{self.name}', email='{self.email}')\"\n",
        "    \n",
        "client1 = Client('Tom', 'sample@gmail.com')\n",
        "client2 = Client('Donald', 'sales@gmail.com')\n",
        "client3 = Client('Mike', 'sales@yahoo.com')\n",
        "client4 = Client('Lisa', 'info@gmail.com')\n",
        "\n",
        "print(Client.all_clients.search_email('gmail'))"
      ],
      "metadata": {
        "colab": {
          "base_uri": "https://localhost:8080/"
        },
        "id": "YM36lbWrPwqe",
        "outputId": "08336fc6-57cb-41f3-c35b-2243802c5021"
      },
      "execution_count": null,
      "outputs": [
        {
          "output_type": "stream",
          "name": "stdout",
          "text": [
            "[Client(name='Tom', email='sample@gmail.com'), Client(name='Donald', email='sales@gmail.com'), Client(name='Lisa', email='info@gmail.com')]\n"
          ]
        }
      ]
    },
    {
      "cell_type": "code",
      "source": [
        "import uuid\n",
        "\n",
        "\n",
        "class Product:\n",
        "\n",
        "    def __init__(self, product_name, price):\n",
        "        self.product_id = self.get_id()\n",
        "        self.product_name = product_name\n",
        "        self.price = price\n",
        "\n",
        "    def __repr__(self):\n",
        "        return f\"Product(product_name='{self.product_name}', price={self.price})\"\n",
        "\n",
        "    @staticmethod\n",
        "    def get_id():\n",
        "        return str(uuid.uuid4().fields[-1])[:6]\n",
        "\n",
        "\n",
        "class Warehouse:\n",
        "\n",
        "    def __init__(self):\n",
        "        self.products = []\n",
        "\n",
        "    def add_product(self, product_name, price):\n",
        "        product_names = [product.product_name for product in self.products]\n",
        "        if not product_name in product_names:\n",
        "            self.products.append(Product(product_name, price))\n",
        "            \n",
        "    def remove_product(self, remove_name):\n",
        "        if remove_name in [product.product_name for product in self.products]:\n",
        "            self.products = [product for product in self.products \n",
        "                             if product.product_name != remove_name]\n",
        "    \n",
        "warehouse = Warehouse()\n",
        "warehouse.add_product('Laptop', 3900.0)\n",
        "warehouse.add_product('Mobile Phone', 1990.0)\n",
        "warehouse.add_product('Camera', 2900.0)\n",
        "warehouse.remove_product('Mobile Phone')\n",
        "print(warehouse.products)"
      ],
      "metadata": {
        "colab": {
          "base_uri": "https://localhost:8080/"
        },
        "id": "EB3cxsSqa613",
        "outputId": "77b62e96-5d63-4fe4-835b-e79e34c63697"
      },
      "execution_count": null,
      "outputs": [
        {
          "output_type": "stream",
          "name": "stdout",
          "text": [
            "[Product(product_name='Laptop', price=3900.0), Product(product_name='Camera', price=2900.0)]\n"
          ]
        }
      ]
    },
    {
      "cell_type": "code",
      "source": [
        "from types import resolve_bases\n",
        "import uuid\n",
        "\n",
        "\n",
        "class Product:\n",
        "\n",
        "    def __init__(self, product_name, price):\n",
        "        self.product_id = self.get_id()\n",
        "        self.product_name = product_name\n",
        "        self.price = price\n",
        "\n",
        "    def __repr__(self):\n",
        "        return f\"Product(product_name='{self.product_name}', price={self.price})\"\n",
        "\n",
        "    @staticmethod\n",
        "    def get_id():\n",
        "        return str(uuid.uuid4().fields[-1])[:6]\n",
        "\n",
        "\n",
        "class Warehouse:\n",
        "\n",
        "    def __init__(self):\n",
        "        self.products = []\n",
        "\n",
        "    def add_product(self, product_name, price):\n",
        "        product_names = [product.product_name for product in self.products]\n",
        "        if not product_name in product_names:\n",
        "            self.products.append(Product(product_name, price))\n",
        "\n",
        "    def remove_product(self, product_name):\n",
        "        for product in self.products:\n",
        "            if product_name == product.product_name:\n",
        "                self.products.remove(product)\n",
        "\n",
        "    def display_products(self):\n",
        "        for product in self.products:\n",
        "            print(f'Product ID: {product.product_id} | Product name: '\n",
        "                  f'{product.product_name} | Price: {product.price}')\n",
        "            \n",
        "    def sort_by_price(self, ascending=True):\n",
        "        return sorted(\n",
        "            self.products, key=lambda x: x.price, reverse=not ascending\n",
        "            )\n",
        "\n",
        "warehouse = Warehouse()\n",
        "warehouse.add_product('Laptop', 3900.0)\n",
        "warehouse.add_product('Mobile Phone', 1990.0)\n",
        "warehouse.add_product('Camera', 2900.0)\n",
        "warehouse.add_product('USB Cable', 24.9)\n",
        "warehouse.add_product('Mouse', 49.0)\n",
        "for product in warehouse.sort_by_price():\n",
        "    print(product)"
      ],
      "metadata": {
        "colab": {
          "base_uri": "https://localhost:8080/"
        },
        "id": "FGk6gxi9iUNS",
        "outputId": "a58e1fa1-d81b-4e03-fe2b-40a110c31774"
      },
      "execution_count": null,
      "outputs": [
        {
          "output_type": "stream",
          "name": "stdout",
          "text": [
            "Product(product_name='Laptop', price=3900.0)\n",
            "Product(product_name='Camera', price=2900.0)\n",
            "Product(product_name='Mobile Phone', price=1990.0)\n",
            "Product(product_name='Mouse', price=49.0)\n",
            "Product(product_name='USB Cable', price=24.9)\n"
          ]
        }
      ]
    },
    {
      "cell_type": "code",
      "source": [
        "import uuid\n",
        "\n",
        "\n",
        "class Product:\n",
        "\n",
        "    def __init__(self, product_name, price):\n",
        "        self.product_id = self.get_id()\n",
        "        self.product_name = product_name\n",
        "        self.price = price\n",
        "\n",
        "    def __repr__(self):\n",
        "        return f\"Product(product_name='{self.product_name}', price={self.price})\"\n",
        "\n",
        "    @staticmethod\n",
        "    def get_id():\n",
        "        return str(uuid.uuid4().fields[-1])[:6]\n",
        "\n",
        "\n",
        "class Warehouse:\n",
        "\n",
        "    def __init__(self):\n",
        "        self.products = []\n",
        "\n",
        "    def add_product(self, product_name, price):\n",
        "        product_names = [product.product_name for product in self.products]\n",
        "        if not product_name in product_names:\n",
        "            self.products.append(Product(product_name, price))\n",
        "\n",
        "    def remove_product(self, product_name):\n",
        "        for product in self.products:\n",
        "            if product_name == product.product_name:\n",
        "                self.products.remove(product)\n",
        "\n",
        "    def display_products(self):\n",
        "        for product in self.products:\n",
        "            print(f'Product ID: {product.product_id} | Product name: '\n",
        "                  f'{product.product_name} | Price: {product.price}') \n",
        "\n",
        "    def sort_by_price(self, ascending=True):\n",
        "        return sorted(self.products, key=lambda product: product.price,\n",
        "                      reverse=not ascending)\n",
        "        \n",
        "    def search_product(self, query):\n",
        "        return [product for product in self.products \n",
        "                if query in product.product_name]\n",
        "        \n",
        "warehouse = Warehouse()\n",
        "warehouse.add_product('Laptop', 3900.0)\n",
        "warehouse.add_product('Mobile Phone', 1990.0)\n",
        "warehouse.add_product('Camera', 2900.0)\n",
        "warehouse.add_product('USB Cable', 24.9)\n",
        "warehouse.add_product('Mouse', 49.0)\n",
        "print(warehouse.search_product('M'))"
      ],
      "metadata": {
        "colab": {
          "base_uri": "https://localhost:8080/"
        },
        "id": "dYRXZLqsqnIO",
        "outputId": "dbbc7836-2713-4c87-d350-40d73b43c2ef"
      },
      "execution_count": null,
      "outputs": [
        {
          "output_type": "stream",
          "name": "stdout",
          "text": [
            "[Product(product_name='Mobile Phone', price=1990.0), Product(product_name='Mouse', price=49.0)]\n"
          ]
        }
      ]
    },
    {
      "cell_type": "code",
      "source": [
        "def is_nested(lst):\n",
        "    if not lst:\n",
        "        return False\n",
        "    for item in lst:\n",
        "        if not isinstance(item, list):\n",
        "            return False\n",
        "            break\n",
        "    return True\n",
        "\n",
        "is_nested([[3, 4], [2, 1]]), is_nested([[3, 4], 0, [2, 1]]), is_nested([])"
      ],
      "metadata": {
        "colab": {
          "base_uri": "https://localhost:8080/"
        },
        "id": "uP4fWKi8wXnP",
        "outputId": "f0f4b663-72d2-4a01-9f21-d002e3c2835b"
      },
      "execution_count": null,
      "outputs": [
        {
          "output_type": "execute_result",
          "data": {
            "text/plain": [
              "(True, False, False)"
            ]
          },
          "metadata": {},
          "execution_count": 9
        }
      ]
    },
    {
      "cell_type": "code",
      "source": [
        "def is_nested(lst):\n",
        "    if not lst:\n",
        "        return False\n",
        "    for item in lst:\n",
        "        if not isinstance(item, list):\n",
        "            return False\n",
        "            break\n",
        "    return True"
      ],
      "metadata": {
        "colab": {
          "base_uri": "https://localhost:8080/"
        },
        "id": "0o-_qW_g35c1",
        "outputId": "c2f08eb6-18ac-4368-e48e-1cc6f4b79926"
      },
      "execution_count": null,
      "outputs": [
        {
          "output_type": "execute_result",
          "data": {
            "text/plain": [
              "False"
            ]
          },
          "metadata": {},
          "execution_count": 5
        }
      ]
    },
    {
      "cell_type": "code",
      "source": [
        "def is_nested(lst):\n",
        "    if not lst:\n",
        "        return False\n",
        "    return min([isinstance(x, list) for x in lst])\n",
        "\n",
        "is_nested([[3, 4], [2, 1]]), is_nested([[3, 4], 0, [2, 1]]), is_nested([])"
      ],
      "metadata": {
        "colab": {
          "base_uri": "https://localhost:8080/"
        },
        "id": "02WOqZnI4nmz",
        "outputId": "23883cd2-6a4d-4926-880e-3a2eb2177ca3"
      },
      "execution_count": null,
      "outputs": [
        {
          "output_type": "execute_result",
          "data": {
            "text/plain": [
              "(True, False, False)"
            ]
          },
          "metadata": {},
          "execution_count": 14
        }
      ]
    },
    {
      "cell_type": "code",
      "source": [
        "True < False"
      ],
      "metadata": {
        "colab": {
          "base_uri": "https://localhost:8080/"
        },
        "id": "9_e6g3Y_6iNM",
        "outputId": "36638d37-554f-49f5-a33d-840241282cc9"
      },
      "execution_count": null,
      "outputs": [
        {
          "output_type": "execute_result",
          "data": {
            "text/plain": [
              "False"
            ]
          },
          "metadata": {},
          "execution_count": 12
        }
      ]
    },
    {
      "cell_type": "code",
      "source": [
        "all([2,2,2])"
      ],
      "metadata": {
        "colab": {
          "base_uri": "https://localhost:8080/"
        },
        "id": "3IsEbvZY6zaf",
        "outputId": "29d62036-7f94-48c3-848a-d78789f8a539"
      },
      "execution_count": null,
      "outputs": [
        {
          "output_type": "execute_result",
          "data": {
            "text/plain": [
              "True"
            ]
          },
          "metadata": {},
          "execution_count": 20
        }
      ]
    },
    {
      "cell_type": "code",
      "source": [
        "def is_nested(array):\n",
        "    if len(array) == 0:\n",
        "        return False\n",
        "    return all(isinstance(row, list) for row in array)\n",
        "\n",
        "\n",
        "def is_all_equal(iterator):\n",
        "    return len(set(iterator)) <= 1\n",
        "\n",
        "def is_valid_array(lst):\n",
        "    return is_nested(lst) and is_all_equal(len(x) for x in lst)"
      ],
      "metadata": {
        "id": "BkQigTWC7lVf"
      },
      "execution_count": null,
      "outputs": []
    },
    {
      "cell_type": "code",
      "source": [
        "def swap_elements(lst):\n",
        "    temp = lst[0]\n",
        "    lst[0]=lst.pop(-1)\n",
        "    lst.append(temp)\n",
        "    return lst\n",
        "\n",
        "\n",
        "print(swap_elements([4, 5, 6, 7, 1]))\n"
      ],
      "metadata": {
        "colab": {
          "base_uri": "https://localhost:8080/"
        },
        "id": "4uEBEZrQ-IeY",
        "outputId": "fd50f5a9-7d05-4f9e-9363-e91372b9acb5"
      },
      "execution_count": null,
      "outputs": [
        {
          "output_type": "stream",
          "name": "stdout",
          "text": [
            "[1, 5, 6, 7, 4]\n"
          ]
        }
      ]
    },
    {
      "cell_type": "code",
      "source": [
        "def swap_elements(lst, idx1, idx2):\n",
        "    (lst[idx1], lst[idx2]) = (lst[idx2], last[idx1])\n",
        "    return lst"
      ],
      "metadata": {
        "id": "1AwLtG4D-Jff"
      },
      "execution_count": null,
      "outputs": []
    },
    {
      "cell_type": "code",
      "source": [
        "def reverse_words(text):\n",
        "    words = text.split(' ')\n",
        "    return ' '.join(words[::-1])\n",
        "\n",
        "reverse_words('you should learn python language')"
      ],
      "metadata": {
        "colab": {
          "base_uri": "https://localhost:8080/",
          "height": 35
        },
        "id": "qCZLbVTtAfIU",
        "outputId": "b47b988f-73a4-4e02-dc6f-b2cd886a187e"
      },
      "execution_count": null,
      "outputs": [
        {
          "output_type": "execute_result",
          "data": {
            "text/plain": [
              "'language python learn should you'"
            ],
            "application/vnd.google.colaboratory.intrinsic+json": {
              "type": "string"
            }
          },
          "metadata": {},
          "execution_count": 32
        }
      ]
    },
    {
      "cell_type": "code",
      "source": [
        "def get_indices(lst, query):\n",
        "    return [num for num, x in enumerate(lst) if isinstance(x, str)]\n",
        "\n",
        "get_indices(['Q', 'DQ', 'DQ', 'DQ', 'Q', 'Q'], 'Q')\n"
      ],
      "metadata": {
        "colab": {
          "base_uri": "https://localhost:8080/"
        },
        "id": "C-CTVyUdAsx_",
        "outputId": "042efe5c-d555-4279-eda8-f654825a0a8f"
      },
      "execution_count": null,
      "outputs": [
        {
          "output_type": "execute_result",
          "data": {
            "text/plain": [
              "[0, 1, 2, 3, 4, 5]"
            ]
          },
          "metadata": {},
          "execution_count": 39
        }
      ]
    },
    {
      "cell_type": "markdown",
      "source": [
        "\n",
        "\n"
      ],
      "metadata": {
        "id": "8f6ytnHAEcyR"
      }
    },
    {
      "cell_type": "code",
      "source": [
        "    data = [\n",
        "        {'user': 'joe', 'main_technology': 'python'},\n",
        "        {'user': 'tom', 'main_technology': 'c/cpp'},\n",
        "        {'user': 'michael', 'main_technology': 'cloud'},\n",
        "        {'user': 'bob', 'main_technology': 'php'},\n",
        "        {'user': 'lil', 'main_technology': 'html'},\n",
        "        {'user': 'alice', 'main_technology': 'sql'},\n",
        "    ]"
      ],
      "metadata": {
        "id": "ckz1Uo6XHkw5"
      },
      "execution_count": null,
      "outputs": []
    },
    {
      "cell_type": "code",
      "source": [
        "data[0].keys()"
      ],
      "metadata": {
        "colab": {
          "base_uri": "https://localhost:8080/"
        },
        "id": "6JqgncwQHnlm",
        "outputId": "9c71d526-857b-4a81-f3ac-a1cab98e89b6"
      },
      "execution_count": null,
      "outputs": [
        {
          "output_type": "execute_result",
          "data": {
            "text/plain": [
              "dict_keys(['user', 'main_technology'])"
            ]
          },
          "metadata": {},
          "execution_count": 47
        }
      ]
    },
    {
      "cell_type": "code",
      "source": [
        "def covert(items):\n",
        "    res_dict = {}\n",
        "    for key in items[0].keys():\n",
        "        res_dict[key] = []\n",
        "    for item in items:\n",
        "        for key in res_dict.keys():\n",
        "            res_dict[key] += [item[key]]\n",
        "    return res_dict"
      ],
      "metadata": {
        "id": "VNIv4KDyHDW7"
      },
      "execution_count": null,
      "outputs": []
    },
    {
      "cell_type": "code",
      "source": [
        "covert(data)"
      ],
      "metadata": {
        "colab": {
          "base_uri": "https://localhost:8080/"
        },
        "id": "bL6OC1ePH2Mu",
        "outputId": "b71461aa-0f5a-4564-8a9c-a263b07db828"
      },
      "execution_count": null,
      "outputs": [
        {
          "output_type": "execute_result",
          "data": {
            "text/plain": [
              "{'user': ['joe', 'tom', 'michael', 'bob', 'lil', 'alice'],\n",
              " 'main_technology': ['python', 'c/cpp', 'cloud', 'php', 'html', 'sql']}"
            ]
          },
          "metadata": {},
          "execution_count": 61
        }
      ]
    },
    {
      "cell_type": "code",
      "source": [
        "def concat(lst_1, lst_2):\n",
        "    return [x_1 + x_2 for x_1, x_2 in zip(lst_1, lst_2)]\n",
        "\n",
        "l1 = [[6, 2], [6, 3, 7], [3, 5]]\n",
        "l2 = [[3], [4, 2], [0, 5, 1, 5]]\n",
        "concat(l1, l2)"
      ],
      "metadata": {
        "colab": {
          "base_uri": "https://localhost:8080/"
        },
        "id": "MC_IoPTgH_0-",
        "outputId": "19a29de2-d1db-44f1-b3cf-feaea15dc2da"
      },
      "execution_count": null,
      "outputs": [
        {
          "output_type": "execute_result",
          "data": {
            "text/plain": [
              "[[6, 2, 3], [6, 3, 7, 4, 2], [3, 5, 0, 5, 1, 5]]"
            ]
          },
          "metadata": {},
          "execution_count": 71
        }
      ]
    },
    {
      "cell_type": "code",
      "source": [
        "def top3(lst):\n",
        "    return [sorted(x)[-3:] for x in lst]"
      ],
      "metadata": {
        "id": "m0A4zzpkMVLG"
      },
      "execution_count": null,
      "outputs": []
    },
    {
      "cell_type": "code",
      "source": [
        "top3([[4, 7, 2, 7, 9, 1, 3], [6, 3, 2, 8, 8, 7], [9, 7, 3, 2, 10, 2]])"
      ],
      "metadata": {
        "colab": {
          "base_uri": "https://localhost:8080/"
        },
        "id": "5gfKoHRpM9N9",
        "outputId": "762259c0-50b5-4eef-b85e-e11b45dfab77"
      },
      "execution_count": null,
      "outputs": [
        {
          "output_type": "execute_result",
          "data": {
            "text/plain": [
              "[[7, 7, 9], [7, 8, 8], [7, 9, 10]]"
            ]
          },
          "metadata": {},
          "execution_count": 84
        }
      ]
    },
    {
      "cell_type": "code",
      "source": [
        "user_data = [\n",
        "    {'user_id': '3546', 'level': 64, 'is_active': True},\n",
        "    {'user_id': '3467', 'level': 34, 'is_active': False},\n",
        "    {'user_id': '6673', 'is_active': True},\n",
        "    {'user_id': '8454', 'level': 1, 'is_active': False},\n",
        "    {'user_id': '3757', 'level': 63, 'is_active': True},\n",
        "    {'user_id': '1668', 'is_active': False},\n",
        "]\n",
        "\n",
        "def filter_users(dct_lst):\n",
        "    return [dct for dct in dct_lst if 'level' in dct.keys()]\n",
        "\n",
        "filter_users(user_data)"
      ],
      "metadata": {
        "colab": {
          "base_uri": "https://localhost:8080/"
        },
        "id": "xOyY3bIEP7ZH",
        "outputId": "998f53b6-359b-49d7-fd96-1ab6444f860d"
      },
      "execution_count": null,
      "outputs": [
        {
          "output_type": "execute_result",
          "data": {
            "text/plain": [
              "[{'user_id': '3546', 'level': 64, 'is_active': True},\n",
              " {'user_id': '3467', 'level': 34, 'is_active': False},\n",
              " {'user_id': '8454', 'level': 1, 'is_active': False},\n",
              " {'user_id': '3757', 'level': 63, 'is_active': True}]"
            ]
          },
          "metadata": {},
          "execution_count": 86
        }
      ]
    },
    {
      "cell_type": "code",
      "source": [
        "def remove_repetitive(lst):\n",
        "    return [x for x in lst if len(set(str(x))) == len(str(x))]\n",
        "\n",
        "\n",
        "remove_repetitive([1, 11, 123, 4525])"
      ],
      "metadata": {
        "colab": {
          "base_uri": "https://localhost:8080/"
        },
        "id": "J_o0ImrvRqF7",
        "outputId": "694775df-1db5-4fef-fb2e-e017b34a6caa"
      },
      "execution_count": null,
      "outputs": [
        {
          "output_type": "execute_result",
          "data": {
            "text/plain": [
              "[1, 123]"
            ]
          },
          "metadata": {},
          "execution_count": 96
        }
      ]
    },
    {
      "cell_type": "code",
      "source": [
        "remove_repetitive([4543, 111, 357, 5675, 2567, 8632])"
      ],
      "metadata": {
        "colab": {
          "base_uri": "https://localhost:8080/"
        },
        "id": "2Ivu6mUoTD2p",
        "outputId": "23c2f34d-667e-4d28-d9a0-0a9e53773d19"
      },
      "execution_count": null,
      "outputs": [
        {
          "output_type": "execute_result",
          "data": {
            "text/plain": [
              "[4543, 357, 5675, 2567, 8632]"
            ]
          },
          "metadata": {},
          "execution_count": 93
        }
      ]
    },
    {
      "cell_type": "code",
      "source": [
        "def calculate(lst, k=5):\n",
        "    idx = 1\n",
        "    res =[]\n",
        "    for item in lst[1:-1]:\n",
        "        if (abs(item - lst[idx - 1]) >= k \n",
        "        and abs(item - lst[idx + 1]) >= k):\n",
        "            res.append(lst[idx])\n",
        "        idx += 1\n",
        "    return res\n",
        "\n",
        "print(calculate([1, 6, 5, 2, 8, 11, 3, 10, 3], 3))"
      ],
      "metadata": {
        "colab": {
          "base_uri": "https://localhost:8080/"
        },
        "id": "xcuBhpR0TWA8",
        "outputId": "b7e19d62-faf7-4e1e-c4c1-b0d7037a42af"
      },
      "execution_count": null,
      "outputs": [
        {
          "output_type": "stream",
          "name": "stdout",
          "text": [
            "[2, 8, 11, 3, 10]\n"
          ]
        }
      ]
    },
    {
      "cell_type": "code",
      "source": [
        "def calculate(lst, k=5):\n",
        "    return [x for idx, x in enumerate(lst[1:-1]) \n",
        "            if (abs(x - lst[idx]) >= k and abs(x - lst[idx + 2]) >= k)]\n",
        "\n",
        "print(calculate([1, 6, 5, 2, 8, 11, 3, 10, 3], 3))"
      ],
      "metadata": {
        "colab": {
          "base_uri": "https://localhost:8080/"
        },
        "id": "jZTjAq5AW3xl",
        "outputId": "62ab8a43-4776-42eb-cc7d-0a68d8b538c0"
      },
      "execution_count": null,
      "outputs": [
        {
          "output_type": "stream",
          "name": "stdout",
          "text": [
            "[2, 8, 11, 3, 10]\n"
          ]
        }
      ]
    },
    {
      "cell_type": "code",
      "source": [
        "def create_mask(lst_1, lst_2):\n",
        "    return [1 if x_1 == x_2 else 0 for x_1, x_2 in zip(lst_1, lst_2)]"
      ],
      "metadata": {
        "id": "SjAxUXEjbZc0"
      },
      "execution_count": null,
      "outputs": []
    },
    {
      "cell_type": "code",
      "source": [
        "def distance(iterable_1, iterable_2):\n",
        "    return max([abs(x_1 - x_2) for x_1, x_2 in zip(iterable_1, iterable_2)])"
      ],
      "metadata": {
        "id": "EoJSNd2SdroD"
      },
      "execution_count": null,
      "outputs": []
    },
    {
      "cell_type": "code",
      "source": [
        "def calculate(itersble):\n",
        "    return [x * 2 if x % 2 != 0 else x for x in iterable]"
      ],
      "metadata": {
        "id": "2-sYlQqRiRu2"
      },
      "execution_count": null,
      "outputs": []
    },
    {
      "cell_type": "code",
      "source": [
        "def count(iterable):\n",
        "    return (sum([x for x in iterable if x >= 0]), sum([x for x in iterable if x < 0]))"
      ],
      "metadata": {
        "id": "-N7059ErjMCA"
      },
      "execution_count": null,
      "outputs": []
    },
    {
      "cell_type": "code",
      "source": [
        "count([4, 5, 6])"
      ],
      "metadata": {
        "colab": {
          "base_uri": "https://localhost:8080/"
        },
        "id": "inah1UVjlWn8",
        "outputId": "998cf6d2-b12a-490c-fd1a-dc1ca13d18e7"
      },
      "execution_count": null,
      "outputs": [
        {
          "output_type": "execute_result",
          "data": {
            "text/plain": [
              "(15, 0)"
            ]
          },
          "metadata": {},
          "execution_count": 19
        }
      ]
    },
    {
      "cell_type": "code",
      "source": [
        "def convert(text):\n",
        "    \n",
        "    mapping = {\n",
        "        '0': 'zero',\n",
        "        '1': 'one',\n",
        "        '2': 'two',\n",
        "        '3': 'three',\n",
        "        '4': 'four',\n",
        "        '5': 'five',\n",
        "        '6': 'six',\n",
        "        '7': 'seven',\n",
        "        '8': 'eight',\n",
        "        '9': 'nine',\n",
        "        }\n",
        "        \n",
        "    res = []\n",
        "    for word in text.spilt(' '):\n",
        "        if word in mapping:\n",
        "            res.append(mapping[word])\n",
        "        else:\n",
        "            res.append(word)\n",
        "    return ' '.join(res)"
      ],
      "metadata": {
        "id": "A-XWOCqjobUc"
      },
      "execution_count": null,
      "outputs": []
    },
    {
      "cell_type": "code",
      "source": [
        "def convert(text):\n",
        "    \n",
        "    mapping = {\n",
        "        '0': 'zero',\n",
        "        '1': 'one',\n",
        "        '2': 'two',\n",
        "        '3': 'three',\n",
        "        '4': 'four',\n",
        "        '5': 'five',\n",
        "        '6': 'six',\n",
        "        '7': 'seven',\n",
        "        '8': 'eight',\n",
        "        '9': 'nine',\n",
        "        }\n",
        "        \n",
        "    res = [mapping[word] if word in mapping else word \n",
        "           for word in text.split(' ')]\n",
        "    return ' '.join(res)"
      ],
      "metadata": {
        "id": "kmw3cqJOsMT-"
      },
      "execution_count": null,
      "outputs": []
    },
    {
      "cell_type": "code",
      "source": [
        "def convert(text):\n",
        "    return ''.join(text.split('_')[0] \n",
        "                   + ''.join([x.capitalize() for x in text.split('_')[1:]]))"
      ],
      "metadata": {
        "id": "uNqNM27isnG1"
      },
      "execution_count": null,
      "outputs": []
    },
    {
      "cell_type": "code",
      "source": [
        "convert('some_important_function')"
      ],
      "metadata": {
        "colab": {
          "base_uri": "https://localhost:8080/",
          "height": 35
        },
        "id": "UFZly7I2udfa",
        "outputId": "335978ad-ff97-4269-d0be-4dd6e23f1c6a"
      },
      "execution_count": null,
      "outputs": [
        {
          "output_type": "execute_result",
          "data": {
            "text/plain": [
              "'someImportantFunction'"
            ],
            "application/vnd.google.colaboratory.intrinsic+json": {
              "type": "string"
            }
          },
          "metadata": {},
          "execution_count": 47
        }
      ]
    },
    {
      "cell_type": "code",
      "source": [
        "'aaaaaa'.capitalize()"
      ],
      "metadata": {
        "colab": {
          "base_uri": "https://localhost:8080/",
          "height": 35
        },
        "id": "UGXa8tTPupjY",
        "outputId": "00c86911-7bda-4dc6-9aaf-ce4c1a0e2f3f"
      },
      "execution_count": null,
      "outputs": [
        {
          "output_type": "execute_result",
          "data": {
            "text/plain": [
              "'Aaaaaa'"
            ],
            "application/vnd.google.colaboratory.intrinsic+json": {
              "type": "string"
            }
          },
          "metadata": {},
          "execution_count": 33
        }
      ]
    },
    {
      "cell_type": "code",
      "source": [
        "any((None, None))"
      ],
      "metadata": {
        "colab": {
          "base_uri": "https://localhost:8080/"
        },
        "id": "s1S72aKfu7Jw",
        "outputId": "af411388-6463-42c2-b4af-25b7ab83554e"
      },
      "execution_count": null,
      "outputs": [
        {
          "output_type": "execute_result",
          "data": {
            "text/plain": [
              "False"
            ]
          },
          "metadata": {},
          "execution_count": 52
        }
      ]
    },
    {
      "cell_type": "code",
      "source": [
        "def flatten(nested):\n",
        "    res = []\n",
        "    for nested_item in nested:\n",
        "        for item in nested_item:\n",
        "            res.append(item)\n",
        "    return res\n",
        "\n",
        "flatten(([5], [6], [2, 4, 2], [3, 4]))"
      ],
      "metadata": {
        "colab": {
          "base_uri": "https://localhost:8080/"
        },
        "id": "73kPwDkVx16q",
        "outputId": "59d94510-6c8d-4573-c645-8cf90ff78971"
      },
      "execution_count": null,
      "outputs": [
        {
          "output_type": "execute_result",
          "data": {
            "text/plain": [
              "[5, 6, 2, 4, 2, 3, 4]"
            ]
          },
          "metadata": {},
          "execution_count": 60
        }
      ]
    },
    {
      "cell_type": "code",
      "source": [],
      "metadata": {
        "id": "cTVIbLe-yrHe"
      },
      "execution_count": null,
      "outputs": []
    },
    {
      "cell_type": "code",
      "source": [
        "def flatten(nested_list):\n",
        "    return '#' + ' #'.join([item for nested_item in nested_list \n",
        "                           for item in nested_item])\n",
        "\n",
        "\n",
        "\n",
        "\n",
        "flatten((['orange'], [], ['movie', 'netflix']))"
      ],
      "metadata": {
        "colab": {
          "base_uri": "https://localhost:8080/",
          "height": 35
        },
        "id": "3DlyWH190Dd9",
        "outputId": "db0c4788-da1c-4ac0-ee65-27115fc0f67e"
      },
      "execution_count": null,
      "outputs": [
        {
          "output_type": "execute_result",
          "data": {
            "text/plain": [
              "'#orange #movie #netflix'"
            ],
            "application/vnd.google.colaboratory.intrinsic+json": {
              "type": "string"
            }
          },
          "metadata": {},
          "execution_count": 66
        }
      ]
    },
    {
      "cell_type": "code",
      "source": [
        "def to_csv(data):\n",
        "    temp = [str(x) for x in data['temp']]\n",
        "    return 'temp,' + ','.join(temp)"
      ],
      "metadata": {
        "id": "6PEBD3Pt0oxM"
      },
      "execution_count": null,
      "outputs": []
    },
    {
      "cell_type": "code",
      "source": [
        "data = {\n",
        "    'device_id': '3057304985',\n",
        "    'temp': [23.5, 22.0, 23.1, 25.5, 24.1],\n",
        "    'city': 'Warsaw',\n",
        "    'country': 'Poland'\n",
        "}\n",
        "\n",
        "to_csv(data)"
      ],
      "metadata": {
        "colab": {
          "base_uri": "https://localhost:8080/",
          "height": 35
        },
        "id": "x-wWAjWT3L5X",
        "outputId": "a8bd4291-7450-4878-9752-09f4a50a9974"
      },
      "execution_count": null,
      "outputs": [
        {
          "output_type": "execute_result",
          "data": {
            "text/plain": [
              "'temp,23.5,22.0,23.1,25.5,24.1'"
            ],
            "application/vnd.google.colaboratory.intrinsic+json": {
              "type": "string"
            }
          },
          "metadata": {},
          "execution_count": 72
        }
      ]
    },
    {
      "cell_type": "code",
      "source": [
        "def collatz(n):\n",
        "    krok = 0\n",
        "    while n != 1:\n",
        "        print(f'Krok {krok}: {n}')\n",
        "        if n % 2 == 0:\n",
        "            n = n / 2\n",
        "        else:\n",
        "            n = n * 3 + 1\n",
        "        krok += 1\n",
        "    print(f'Krok {krok}: {n}')\n",
        "    return krok\n",
        "\n",
        "collatz(8)"
      ],
      "metadata": {
        "colab": {
          "base_uri": "https://localhost:8080/"
        },
        "id": "kK6wF8Hx3UrI",
        "outputId": "0190bbcd-9c25-4f98-f670-1921c9232fdb"
      },
      "execution_count": null,
      "outputs": [
        {
          "output_type": "stream",
          "name": "stdout",
          "text": [
            "Krok 0: 8\n",
            "Krok 1: 4.0\n",
            "Krok 2: 2.0\n",
            "Krok 3: 1.0\n"
          ]
        },
        {
          "output_type": "execute_result",
          "data": {
            "text/plain": [
              "3"
            ]
          },
          "metadata": {},
          "execution_count": 79
        }
      ]
    },
    {
      "cell_type": "code",
      "source": [
        "def get_chunks(text, num):\n",
        "    res = []\n",
        "    while text:\n",
        "        res.append(text[:num])\n",
        "        text = text[num:]\n",
        "    return res"
      ],
      "metadata": {
        "id": "wSkWspCK5wdJ"
      },
      "execution_count": null,
      "outputs": []
    },
    {
      "cell_type": "code",
      "source": [
        "get_chunks('object oriented programming', 5)"
      ],
      "metadata": {
        "colab": {
          "base_uri": "https://localhost:8080/"
        },
        "id": "X5wC0oW38s8B",
        "outputId": "b0803d9e-4c0c-44b9-eaf8-412c76d0e280"
      },
      "execution_count": null,
      "outputs": [
        {
          "output_type": "execute_result",
          "data": {
            "text/plain": [
              "['objec', 't ori', 'ented', ' prog', 'rammi', 'ng']"
            ]
          },
          "metadata": {},
          "execution_count": 87
        }
      ]
    },
    {
      "cell_type": "code",
      "source": [
        "def get_chunks(text, num):\n",
        "    if len(text) <= num:\n",
        "        return [text]\n",
        "    return [text[:num]] + get_chunks(text[num:], num)\n",
        "\n",
        "\n"
      ],
      "metadata": {
        "id": "cm_s-xKT9cl5"
      },
      "execution_count": null,
      "outputs": []
    },
    {
      "cell_type": "code",
      "source": [
        "get_chunks('object oriented programming', 5)"
      ],
      "metadata": {
        "id": "paEfbJZO-VNp"
      },
      "execution_count": null,
      "outputs": []
    },
    {
      "cell_type": "code",
      "source": [
        "def silnia(n):\n",
        "    if n == 1:\n",
        "        return 1\n",
        "    return n + silnia(n-1)"
      ],
      "metadata": {
        "id": "ye8h0FeM-nue"
      },
      "execution_count": null,
      "outputs": []
    },
    {
      "cell_type": "code",
      "source": [
        "silnia(4)"
      ],
      "metadata": {
        "colab": {
          "base_uri": "https://localhost:8080/"
        },
        "id": "YAhERd0D-zV6",
        "outputId": "e516fa85-cc3b-42dd-fa3c-86e21e6c1c0f"
      },
      "execution_count": null,
      "outputs": [
        {
          "output_type": "execute_result",
          "data": {
            "text/plain": [
              "10"
            ]
          },
          "metadata": {},
          "execution_count": 6
        }
      ]
    },
    {
      "cell_type": "code",
      "source": [
        "from math import factorial\n",
        "    \n",
        "    \n",
        "def pascal_triangle(row):\n",
        "    result = []\n",
        "    for i in range(row + 1):\n",
        "        factor = factorial(row) // (factorial(i) * factorial(row - i))\n",
        "        result.append(factor)\n",
        "    return result"
      ],
      "metadata": {
        "id": "8oeI1kV-C-h6"
      },
      "execution_count": null,
      "outputs": []
    },
    {
      "cell_type": "code",
      "source": [
        "def get_headers(csvfile):\n",
        "    with open(csvfile, \"r\") as header_file:\n",
        "        return header_file.readlines()[0].replace(' ', '_').lower().split(',')"
      ],
      "metadata": {
        "id": "RyxTs8hQF8ZA"
      },
      "execution_count": null,
      "outputs": []
    },
    {
      "cell_type": "code",
      "source": [
        "for line in res:\n",
        "    for item in line\n",
        "\n"
      ],
      "metadata": {
        "colab": {
          "base_uri": "https://localhost:8080/",
          "height": 131
        },
        "id": "x9S0jEhTJZ_G",
        "outputId": "41d286fe-a349-4975-ace2-792b03e90034"
      },
      "execution_count": null,
      "outputs": [
        {
          "output_type": "error",
          "ename": "IndentationError",
          "evalue": "ignored",
          "traceback": [
            "\u001b[0;36m  File \u001b[0;32m\"<ipython-input-13-51520b0457d2>\"\u001b[0;36m, line \u001b[0;32m7\u001b[0m\n\u001b[0;31m    def preprocess():\u001b[0m\n\u001b[0m    ^\u001b[0m\n\u001b[0;31mIndentationError\u001b[0m\u001b[0;31m:\u001b[0m expected an indented block\n"
          ]
        }
      ]
    },
    {
      "cell_type": "code",
      "source": [
        "lines = ['asasdsd ,asdasdasd,asdada,re,rtrtyry,tegtggr', 'asasdsd,asdasdasd,asdada,re,rtrtyry,tegtggr']\n",
        "def preprocess():\n",
        "    with open('data.csv', \"r\") as file:\n",
        "        lines_list = [line.split(',') for line in file.readlines()]\n",
        "        lines = []\n",
        "        for line in lines_list:\n",
        "            items = []\n",
        "            for item in line:\n",
        "                items.append(item.strip())\n",
        "            lines.append(items)\n",
        "    return lines\n"
      ],
      "metadata": {
        "id": "psTjyRLfSh0b"
      },
      "execution_count": null,
      "outputs": []
    },
    {
      "cell_type": "code",
      "source": [
        "lines"
      ],
      "metadata": {
        "colab": {
          "base_uri": "https://localhost:8080/"
        },
        "id": "ay312YgBSwwH",
        "outputId": "9a1e61c6-5b6d-40c8-91cd-63f499d5be7c"
      },
      "execution_count": null,
      "outputs": [
        {
          "output_type": "execute_result",
          "data": {
            "text/plain": [
              "['asasdsd ,asdasdasd,asdada,re,rtrtyry,tegtggr',\n",
              " 'asasdsd,asdasdasd,asdada,re,rtrtyry,tegtggr']"
            ]
          },
          "metadata": {},
          "execution_count": 49
        }
      ]
    },
    {
      "cell_type": "code",
      "source": [
        "'asasdsd,asdasdasd,asdada,re,rtrtyry,tegtggr'.split(',')"
      ],
      "metadata": {
        "colab": {
          "base_uri": "https://localhost:8080/"
        },
        "id": "ZE17KEheSx-J",
        "outputId": "d22a3a0c-da45-41d7-9107-42207a1ab722"
      },
      "execution_count": null,
      "outputs": [
        {
          "output_type": "execute_result",
          "data": {
            "text/plain": [
              "['asasdsd', 'asdasdasd', 'asdada', 're', 'rtrtyry', 'tegtggr']"
            ]
          },
          "metadata": {},
          "execution_count": 20
        }
      ]
    },
    {
      "cell_type": "code",
      "source": [
        "\n",
        "content = [row.strip().split(',') for row in lines]\n",
        "result = [[item.strip() for item in row] for row in content]\n",
        "result"
      ],
      "metadata": {
        "colab": {
          "base_uri": "https://localhost:8080/"
        },
        "id": "byK96WNcTW5Z",
        "outputId": "d11482d3-5ebd-46c9-83e3-e544e8e812ec"
      },
      "execution_count": null,
      "outputs": [
        {
          "output_type": "execute_result",
          "data": {
            "text/plain": [
              "['asasdsd',\n",
              " 'asdasdasd',\n",
              " 'asdada',\n",
              " 're',\n",
              " 'rtrtyry',\n",
              " 'tegtggr',\n",
              " 'asasdsd',\n",
              " 'asdasdasd',\n",
              " 'asdada',\n",
              " 're',\n",
              " 'rtrtyry',\n",
              " 'tegtggr']"
            ]
          },
          "metadata": {},
          "execution_count": 56
        }
      ]
    },
    {
      "cell_type": "code",
      "source": [
        "def get_top3():\n",
        "    data = preprocess()\n",
        "    techs = [x[4] for x in data[1:]]\n",
        "    res = []\n",
        "    for tech in techs:\n",
        "        res += (tech, techs.count(tech))\n",
        "    return sorted(set(res), key=lambda x: x[1])[:3]\n",
        "    "
      ],
      "metadata": {
        "id": "bpBE6j8aYGOK"
      },
      "execution_count": null,
      "outputs": []
    },
    {
      "cell_type": "code",
      "source": [
        "techs = ['a','a','a','c','c','c','c','d','d','f','f','f','m','m','m',]"
      ],
      "metadata": {
        "id": "iEsSwekHYJ4m"
      },
      "execution_count": null,
      "outputs": []
    },
    {
      "cell_type": "code",
      "source": [
        "res = []\n",
        "for tech in techs:\n",
        "    res += [(tech, techs.count(tech))]\n",
        "set(res)"
      ],
      "metadata": {
        "colab": {
          "base_uri": "https://localhost:8080/"
        },
        "id": "gBDkPVb-gfvR",
        "outputId": "925d7f36-d0e4-40ae-a1bf-b950a12e048b"
      },
      "execution_count": null,
      "outputs": [
        {
          "output_type": "execute_result",
          "data": {
            "text/plain": [
              "{('a', 3), ('c', 4), ('d', 2), ('f', 3), ('m', 3)}"
            ]
          },
          "metadata": {},
          "execution_count": 11
        }
      ]
    },
    {
      "cell_type": "code",
      "source": [
        "sorted(set(res), key=lambda x: x[1], reverse=True)[:3]"
      ],
      "metadata": {
        "colab": {
          "base_uri": "https://localhost:8080/"
        },
        "id": "RkHCabTxgk1p",
        "outputId": "2fda23ad-6565-4ec1-ceef-640dabd2df2e"
      },
      "execution_count": null,
      "outputs": [
        {
          "output_type": "execute_result",
          "data": {
            "text/plain": [
              "[('c', 4), ('a', 3), ('m', 3)]"
            ]
          },
          "metadata": {},
          "execution_count": 13
        }
      ]
    },
    {
      "cell_type": "code",
      "source": [
        "def map_longest(words):\n",
        "    return len((sorted(words, key=lambda x: len(x), reverse=True))[0])"
      ],
      "metadata": {
        "id": "K6zGimSxgxer"
      },
      "execution_count": null,
      "outputs": []
    },
    {
      "cell_type": "code",
      "source": [
        "y_true = [0, 0, 1, 1, 0, 1, 0]\n",
        "y_pred = [0, 0, 1, 0, 0, 1, 0]\n",
        "\n",
        "def accuracy(y_true, y_pred):\n",
        "    return round(sum([1 if y_t == y_p else 0 \n",
        "                      for y_t, y_p in zip(y_true, y_pred)]) / len(y_true), 4)\n",
        "\n",
        "accuracy(y_true, y_pred)"
      ],
      "metadata": {
        "colab": {
          "base_uri": "https://localhost:8080/"
        },
        "id": "5ub5q4z2m9U5",
        "outputId": "563f9b8d-9860-4492-e381-2654a0eafb48"
      },
      "execution_count": null,
      "outputs": [
        {
          "output_type": "execute_result",
          "data": {
            "text/plain": [
              "0.8571"
            ]
          },
          "metadata": {},
          "execution_count": 5
        }
      ]
    },
    {
      "cell_type": "code",
      "source": [
        "accuracy(y_true, y_pred)"
      ],
      "metadata": {
        "colab": {
          "base_uri": "https://localhost:8080/"
        },
        "id": "AaJhIpFfwYc6",
        "outputId": "ca88bb17-ea35-4f44-c7d6-ba0322a5525d"
      },
      "execution_count": null,
      "outputs": [
        {
          "output_type": "execute_result",
          "data": {
            "text/plain": [
              "0.8571"
            ]
          },
          "metadata": {},
          "execution_count": 3
        }
      ]
    },
    {
      "cell_type": "code",
      "source": [
        "def transfer_zeros(iterable):\n",
        "    for num, item in enumerate(iterable):\n",
        "        if item == 0:\n",
        "            iterable.append(iterable.pop(num))\n",
        "    return iterable"
      ],
      "metadata": {
        "id": "ZHR065jpwofx"
      },
      "execution_count": null,
      "outputs": []
    },
    {
      "cell_type": "code",
      "source": [
        "transfer_zeros([3, 4, 0, 2, 0, 5, 1, 6, 2])"
      ],
      "metadata": {
        "colab": {
          "base_uri": "https://localhost:8080/"
        },
        "id": "qF-1mSjw6LDE",
        "outputId": "b0e4d2da-c005-4d06-983a-24bde0979821"
      },
      "execution_count": null,
      "outputs": [
        {
          "output_type": "execute_result",
          "data": {
            "text/plain": [
              "[3, 4, 2, 5, 1, 6, 2, 0, 0]"
            ]
          },
          "metadata": {},
          "execution_count": 39
        }
      ]
    },
    {
      "cell_type": "code",
      "source": [
        "def arange(start, stop, step=1):\n",
        "    res = [start]\n",
        "    i = start\n",
        "    while i < stop:\n",
        "        i += step\n",
        "        res.append(i)\n",
        "    return res"
      ],
      "metadata": {
        "id": "f6vNj1cJ75D7"
      },
      "execution_count": null,
      "outputs": []
    },
    {
      "cell_type": "code",
      "source": [
        "arange(2, 8, 2)"
      ],
      "metadata": {
        "colab": {
          "base_uri": "https://localhost:8080/"
        },
        "id": "Tt-9pyEKAJu9",
        "outputId": "868b8d61-7af4-4647-92ae-0a8c4e81f9dc"
      },
      "execution_count": null,
      "outputs": [
        {
          "output_type": "execute_result",
          "data": {
            "text/plain": [
              "[2, 4, 6, 8]"
            ]
          },
          "metadata": {},
          "execution_count": 48
        }
      ]
    },
    {
      "cell_type": "code",
      "source": [
        "def identity(n):\n",
        "    res = []\n",
        "    for i in range(n):\n",
        "        res.append([0]*n)\n",
        "    for num, item in enumerate(res):\n",
        "        item[num] = 1 \n",
        "    return res\n",
        "\n",
        "identity(4)"
      ],
      "metadata": {
        "colab": {
          "base_uri": "https://localhost:8080/"
        },
        "id": "Gkn4vPkLALa1",
        "outputId": "9dda946e-bd78-4453-c9f9-dcb99fbedc77"
      },
      "execution_count": null,
      "outputs": [
        {
          "output_type": "execute_result",
          "data": {
            "text/plain": [
              "[[1, 0, 0, 0], [0, 1, 0, 0], [0, 0, 1, 0], [0, 0, 0, 1]]"
            ]
          },
          "metadata": {},
          "execution_count": 51
        }
      ]
    },
    {
      "cell_type": "code",
      "source": [
        "def fill_value(height, width, value):\n",
        "    return [[value]*width for _ in range(height)]\n",
        "\n",
        "fill_value(3, 4, 5)"
      ],
      "metadata": {
        "colab": {
          "base_uri": "https://localhost:8080/"
        },
        "id": "lhIR1jXVDOjy",
        "outputId": "6a11d1a2-ed4c-4978-bbe1-261c9e0c3e1a"
      },
      "execution_count": null,
      "outputs": [
        {
          "output_type": "execute_result",
          "data": {
            "text/plain": [
              "[[5, 5, 5, 5], [5, 5, 5, 5], [5, 5, 5, 5]]"
            ]
          },
          "metadata": {},
          "execution_count": 52
        }
      ]
    },
    {
      "cell_type": "code",
      "source": [
        "def trace(array):\n",
        "    res = 0\n",
        "    for idx, val in enumerate(array):\n",
        "        res += val[idx]"
      ],
      "metadata": {
        "id": "-yK9o7g7ESXD"
      },
      "execution_count": null,
      "outputs": []
    },
    {
      "cell_type": "code",
      "source": [
        "def transpose(array):\n",
        "    result = []\n",
        "    for idx in range(len(array[0])):\n",
        "        res = []\n",
        "        for item in array:\n",
        "            res += [item[idx]]\n",
        "        result += [res]\n",
        "    return result\n",
        "    \n",
        "transpose([[1, 2, 3], [4, 5, 6]])"
      ],
      "metadata": {
        "colab": {
          "base_uri": "https://localhost:8080/"
        },
        "id": "sB-aFhlhG8tM",
        "outputId": "41b8a566-b2b9-4907-c1eb-be9980c4efe1"
      },
      "execution_count": null,
      "outputs": [
        {
          "output_type": "execute_result",
          "data": {
            "text/plain": [
              "[[1, 4], [2, 5], [3, 6]]"
            ]
          },
          "metadata": {},
          "execution_count": 58
        }
      ]
    },
    {
      "cell_type": "code",
      "source": [],
      "metadata": {
        "colab": {
          "base_uri": "https://localhost:8080/"
        },
        "id": "P6tvXoe5HAv_",
        "outputId": "67753f31-8e28-4bb1-aa9e-aaa25a61bd0b"
      },
      "execution_count": null,
      "outputs": [
        {
          "output_type": "execute_result",
          "data": {
            "text/plain": [
              "[[1, 1], [2, 2], [3, 3]]"
            ]
          },
          "metadata": {},
          "execution_count": 60
        }
      ]
    },
    {
      "cell_type": "code",
      "source": [
        "def display_info(company, **kwargs):\n",
        "    print(f'Company name: {company}')\n",
        "    if 'price' in kwargs:\n",
        "        print(f\"Price: $ {kwargs['price']}\")\n",
        "        \n",
        "display_info(company='CD Projekt', price=100)"
      ],
      "metadata": {
        "colab": {
          "base_uri": "https://localhost:8080/"
        },
        "id": "MXRxwyCdH1yR",
        "outputId": "9ce95848-dbd4-49ff-9823-fb5dc3b7c813"
      },
      "execution_count": null,
      "outputs": [
        {
          "output_type": "stream",
          "name": "stdout",
          "text": [
            "Company name: CD Projekt\n",
            "Price: $ 100\n"
          ]
        }
      ]
    },
    {
      "cell_type": "code",
      "source": [
        "def calculate():\n",
        "    return print(sum([i for i in range(100) if i % 5 == 0 or i % 7 == 0]))\n",
        "\n",
        "calculate()\n",
        "    "
      ],
      "metadata": {
        "colab": {
          "base_uri": "https://localhost:8080/"
        },
        "id": "ZehqSyW0frdP",
        "outputId": "fd555f67-4953-4bcd-d0f6-b80f88013438"
      },
      "execution_count": null,
      "outputs": [
        {
          "output_type": "stream",
          "name": "stdout",
          "text": [
            "1580\n"
          ]
        }
      ]
    },
    {
      "cell_type": "code",
      "source": [
        "def fibonacci_sum(n):\n",
        "    a = 0\n",
        "    b = 0\n",
        "    sumf = 1\n",
        "    if n<=0:\n",
        "         sumf = 0\n",
        "    curr = 1\n",
        "    a = 0\n",
        "    b = 0\n",
        "    for i in range(n):\n",
        "        a = b\n",
        "        b = curr\n",
        "        curr = a+b\n",
        "        sumf += curr "
      ],
      "metadata": {
        "id": "_SGvJcuGgmwD"
      },
      "execution_count": null,
      "outputs": []
    },
    {
      "cell_type": "code",
      "source": [
        "fibonacci(4)"
      ],
      "metadata": {
        "colab": {
          "base_uri": "https://localhost:8080/"
        },
        "id": "TwktTAEXhmKe",
        "outputId": "9e241f5c-c74b-4efd-d4cc-86b27c177297"
      },
      "execution_count": null,
      "outputs": [
        {
          "output_type": "execute_result",
          "data": {
            "text/plain": [
              "9"
            ]
          },
          "metadata": {},
          "execution_count": 17
        }
      ]
    },
    {
      "cell_type": "code",
      "source": [],
      "metadata": {
        "colab": {
          "base_uri": "https://localhost:8080/"
        },
        "id": "24j9XQTthoLI",
        "outputId": "58937342-1ed1-4d34-f96b-50aa8ce00f4e"
      },
      "execution_count": null,
      "outputs": [
        {
          "output_type": "execute_result",
          "data": {
            "text/plain": [
              "2178308"
            ]
          },
          "metadata": {},
          "execution_count": 40
        }
      ]
    },
    {
      "cell_type": "code",
      "source": [
        "# 1089154\n",
        "def fibbonaci():\n",
        "    total = 0\n",
        "    cur = 0\n",
        "    next = 1\n",
        "    while cur < 1000000:\n",
        "        total += cur\n",
        "        cur, next = next, cur + next\n",
        "    return total\n",
        "calculate()"
      ],
      "metadata": {
        "colab": {
          "base_uri": "https://localhost:8080/"
        },
        "id": "hKhv2llFneyY",
        "outputId": "d2b8d03a-055e-4028-a03f-02da2fbd650e"
      },
      "execution_count": null,
      "outputs": [
        {
          "output_type": "execute_result",
          "data": {
            "text/plain": [
              "2178308"
            ]
          },
          "metadata": {},
          "execution_count": 41
        }
      ]
    },
    {
      "cell_type": "code",
      "source": [
        "def calculate(num):\n",
        "    i = 2\n",
        "    res = []\n",
        "    while num > 1:\n",
        "            if num % i == 0:\n",
        "                num = num / i\n",
        "                res.append(i)\n",
        "            else:\n",
        "                i += 1    \n",
        "    return res"
      ],
      "metadata": {
        "id": "2yGCjRsq0I3o"
      },
      "execution_count": null,
      "outputs": []
    },
    {
      "cell_type": "code",
      "source": [
        "calculate(100)"
      ],
      "metadata": {
        "colab": {
          "base_uri": "https://localhost:8080/"
        },
        "id": "irhsetQK2Qim",
        "outputId": "2cee4fff-ec3d-4a37-928f-69252b99da7d"
      },
      "execution_count": null,
      "outputs": [
        {
          "output_type": "execute_result",
          "data": {
            "text/plain": [
              "[2, 2, 5, 5]"
            ]
          },
          "metadata": {},
          "execution_count": 37
        }
      ]
    },
    {
      "cell_type": "code",
      "source": [
        "def calculate(number):\n",
        "    i = 2\n",
        "    factors = []\n",
        "    while i * i <= number:\n",
        "        if number % i == 0:\n",
        "            number = number // i\n",
        "            factors.append(i)\n",
        "        else:\n",
        "            i += 1\n",
        "    if number > 1:\n",
        "        factors.append(number)\n",
        "    return factors"
      ],
      "metadata": {
        "id": "wlk5jCM623QU"
      },
      "execution_count": null,
      "outputs": []
    },
    {
      "cell_type": "code",
      "source": [
        "calculate(100)"
      ],
      "metadata": {
        "colab": {
          "base_uri": "https://localhost:8080/"
        },
        "id": "xCGJPOV_5z9o",
        "outputId": "f7f24894-5b22-45a7-e6ac-c8980fd78684"
      },
      "execution_count": null,
      "outputs": [
        {
          "output_type": "execute_result",
          "data": {
            "text/plain": [
              "[2, 2, 5, 5]"
            ]
          },
          "metadata": {},
          "execution_count": 35
        }
      ]
    },
    {
      "cell_type": "code",
      "source": [
        "\n",
        "len([int(f'{i}{j}{i}') for i in range(1,10) for j in range(10)]) # liczby palindromiczne\n"
      ],
      "metadata": {
        "colab": {
          "base_uri": "https://localhost:8080/"
        },
        "id": "yJKFRzBx52Es",
        "outputId": "e8b95520-0c44-4301-a57f-009063a5eb8a"
      },
      "execution_count": null,
      "outputs": [
        {
          "output_type": "execute_result",
          "data": {
            "text/plain": [
              "90"
            ]
          },
          "metadata": {},
          "execution_count": 49
        }
      ]
    },
    {
      "cell_type": "code",
      "source": [
        "\n",
        "i =9\n",
        "j=6\n",
        "(int(f'{i}{j}{i}'))"
      ],
      "metadata": {
        "colab": {
          "base_uri": "https://localhost:8080/"
        },
        "id": "fZiatm5-8Xea",
        "outputId": "248a547c-6b97-41b2-c46e-4ccc7d247dc9"
      },
      "execution_count": null,
      "outputs": [
        {
          "output_type": "execute_result",
          "data": {
            "text/plain": [
              "969"
            ]
          },
          "metadata": {},
          "execution_count": 43
        }
      ]
    },
    {
      "cell_type": "code",
      "source": [
        "def calculate():\n",
        "    max_pal = 0\n",
        "    for i in range(10, 100):\n",
        "        for j in range(10, 100):\n",
        "            if str(i *j) == str(i * j)[::-1] and (i * j) > max_pal:\n",
        "                max_pal = i * j\n",
        "    return max_pal\n",
        "\n"
      ],
      "metadata": {
        "id": "68oid8HZ8YbM"
      },
      "execution_count": null,
      "outputs": []
    },
    {
      "cell_type": "code",
      "source": [
        "calculate()"
      ],
      "metadata": {
        "colab": {
          "base_uri": "https://localhost:8080/"
        },
        "id": "kWTZ0tnf_Oik",
        "outputId": "7b32a1d3-1d82-4c8c-df0d-f605091d3860"
      },
      "execution_count": null,
      "outputs": [
        {
          "output_type": "execute_result",
          "data": {
            "text/plain": [
              "9009"
            ]
          },
          "metadata": {},
          "execution_count": 3
        }
      ]
    },
    {
      "cell_type": "code",
      "source": [
        "def greatest_common_divisor(x, y):\n",
        "    gcd = 1\n",
        "    for i in range(1, min(x, y)+1):\n",
        "        if x % i == 0 and y % i == 0:\n",
        "            gcd = i\n",
        "    return gcd\n"
      ],
      "metadata": {
        "id": "1PnGlbIg_3JS"
      },
      "execution_count": null,
      "outputs": []
    },
    {
      "cell_type": "code",
      "source": [
        "greatest_common_divisor(12, 12)"
      ],
      "metadata": {
        "colab": {
          "base_uri": "https://localhost:8080/"
        },
        "id": "HI9qZWD5DElK",
        "outputId": "96e8f3d9-d03e-4d5d-95f7-60d586a950c2"
      },
      "execution_count": null,
      "outputs": [
        {
          "output_type": "execute_result",
          "data": {
            "text/plain": [
              "12"
            ]
          },
          "metadata": {},
          "execution_count": 23
        }
      ]
    },
    {
      "cell_type": "code",
      "source": [
        "def is_prime(n):\n",
        "    if n <=1:\n",
        "        raise ValueError('Error')\n",
        "    flag = True\n",
        "    for i in range(2, n):\n",
        "        if n % i == 0:\n",
        "            flag = False\n",
        "    return flag\n"
      ],
      "metadata": {
        "id": "xp_0hcbCDHnC"
      },
      "execution_count": null,
      "outputs": []
    },
    {
      "cell_type": "code",
      "source": [
        "is_prime(2)"
      ],
      "metadata": {
        "colab": {
          "base_uri": "https://localhost:8080/"
        },
        "id": "Zg9Sxz5AFBAM",
        "outputId": "f82d9c3c-2006-43de-c0ad-c690a6f0f4a1"
      },
      "execution_count": null,
      "outputs": [
        {
          "output_type": "execute_result",
          "data": {
            "text/plain": [
              "True"
            ]
          },
          "metadata": {},
          "execution_count": 47
        }
      ]
    },
    {
      "cell_type": "code",
      "source": [
        "def is_prime(n):\n",
        "\n",
        "    if n < 2:\n",
        "        return False\n",
        "\n",
        "    if n % 2 == 0:\n",
        "        return n == 2\n",
        "\n",
        "    i = 3\n",
        "    while i * i <= n:\n",
        "        if n % i == 0:\n",
        "            return False\n",
        "        i += 2\n",
        "\n",
        "    return True\n",
        "    \n",
        "def calculate():\n",
        "    i = 1\n",
        "    j = 1\n",
        "    while i <= 100:\n",
        "        if is_prime(j):\n",
        "            last_prime = j\n",
        "            i += 1\n",
        "        j += 1\n",
        "    return last_prime\n",
        "    \n",
        "print(calculate())\n",
        "        "
      ],
      "metadata": {
        "colab": {
          "base_uri": "https://localhost:8080/"
        },
        "id": "9nOlDR3VFDSJ",
        "outputId": "88a85b5c-09cf-44ec-fd74-0acc04742d18"
      },
      "execution_count": null,
      "outputs": [
        {
          "output_type": "stream",
          "name": "stdout",
          "text": [
            "541\n"
          ]
        }
      ]
    },
    {
      "cell_type": "code",
      "source": [
        "bin(32)"
      ],
      "metadata": {
        "colab": {
          "base_uri": "https://localhost:8080/",
          "height": 35
        },
        "id": "QQbpuEG-UUl1",
        "outputId": "5ab77d99-d91e-43fd-db00-4116997334e0"
      },
      "execution_count": null,
      "outputs": [
        {
          "output_type": "execute_result",
          "data": {
            "text/plain": [
              "'0b100000'"
            ],
            "application/vnd.google.colaboratory.intrinsic+json": {
              "type": "string"
            }
          },
          "metadata": {},
          "execution_count": 10
        }
      ]
    },
    {
      "cell_type": "code",
      "source": [
        "def is_palindrome(n):\n",
        "    return str(n) == str(n)[::-1] and bin(n)[2:] == bin(n)[::-1][:-2]"
      ],
      "metadata": {
        "id": "n-XL02nnUkxY"
      },
      "execution_count": null,
      "outputs": []
    },
    {
      "cell_type": "code",
      "source": [
        "is_palindrome(99)"
      ],
      "metadata": {
        "colab": {
          "base_uri": "https://localhost:8080/"
        },
        "id": "d9WfIouTWpDc",
        "outputId": "e93f4f43-4b4d-467f-fc8f-2a95077fdddb"
      },
      "execution_count": null,
      "outputs": [
        {
          "output_type": "execute_result",
          "data": {
            "text/plain": [
              "False"
            ]
          },
          "metadata": {},
          "execution_count": 24
        }
      ]
    },
    {
      "cell_type": "code",
      "source": [
        "bin(99)[1:]"
      ],
      "metadata": {
        "colab": {
          "base_uri": "https://localhost:8080/",
          "height": 35
        },
        "id": "lvvYEwhKWvE4",
        "outputId": "8bb18a65-15e0-48c2-b34b-73aa72a47d93"
      },
      "execution_count": null,
      "outputs": [
        {
          "output_type": "execute_result",
          "data": {
            "text/plain": [
              "'b1100011'"
            ],
            "application/vnd.google.colaboratory.intrinsic+json": {
              "type": "string"
            }
          },
          "metadata": {},
          "execution_count": 26
        }
      ]
    },
    {
      "cell_type": "code",
      "source": [
        "from itertools import groupby\n",
        "\n",
        "def compress_groupby(n):\n",
        "    return [[k, len(list(g))] for k, g in groupby(str(n))]\n",
        "\n",
        "def compress_loops(n):\n",
        "    res = []\n",
        "    i = 0\n",
        "    prev = str(n)[0]\n",
        "    for char in str(n):\n",
        "        if char == prev:\n",
        "            i += 1\n",
        "            temp = [char, i]\n",
        "        else:\n",
        "            res.append(tuple(temp))\n",
        "            temp = [char, 1]\n",
        "            i = 1\n",
        "            prev = char\n",
        "    res.append(tuple(temp))\n",
        "    return res"
      ],
      "metadata": {
        "id": "h9-YhHOmYgTc"
      },
      "execution_count": null,
      "outputs": []
    },
    {
      "cell_type": "code",
      "source": [
        "import timeit\n",
        "\n",
        "timeit.timeit(lambda: compress_groupby(11111222223333344444))"
      ],
      "metadata": {
        "colab": {
          "base_uri": "https://localhost:8080/"
        },
        "id": "VoUeZd6JaWbK",
        "outputId": "7f662399-eb3e-4575-f11d-a67bbd3fc4ba"
      },
      "execution_count": null,
      "outputs": [
        {
          "output_type": "execute_result",
          "data": {
            "text/plain": [
              "3.54901586699998"
            ]
          },
          "metadata": {},
          "execution_count": 4
        }
      ]
    },
    {
      "cell_type": "code",
      "source": [
        "timeit.timeit(lambda: compress_loops(11111222223333344444))"
      ],
      "metadata": {
        "colab": {
          "base_uri": "https://localhost:8080/"
        },
        "id": "g2HaPBn_q22p",
        "outputId": "71f7ce2a-7f6d-457e-814c-4b2281640f38"
      },
      "execution_count": null,
      "outputs": [
        {
          "output_type": "execute_result",
          "data": {
            "text/plain": [
              "5.827671181999904"
            ]
          },
          "metadata": {},
          "execution_count": 5
        }
      ]
    },
    {
      "cell_type": "code",
      "source": [
        "from itertools import groupby\n",
        "\n",
        "def calculate(n):\n",
        "    return [[k, len(list(g))] for k, g in groupby(str(n))]\n"
      ],
      "metadata": {
        "id": "QrBRpibXqPq3"
      },
      "execution_count": null,
      "outputs": []
    },
    {
      "cell_type": "code",
      "source": [
        "[list(g) for k, g in itertools.groupby('AAAABBBCCDCCC')] "
      ],
      "metadata": {
        "colab": {
          "base_uri": "https://localhost:8080/"
        },
        "id": "HA2_lxv2lFEU",
        "outputId": "de45e484-2083-434e-99de-0977bceddd99"
      },
      "execution_count": null,
      "outputs": [
        {
          "output_type": "execute_result",
          "data": {
            "text/plain": [
              "[['A', 'A', 'A', 'A'], ['B', 'B', 'B'], ['C', 'C'], ['D'], ['C', 'C', 'C']]"
            ]
          },
          "metadata": {},
          "execution_count": 86
        }
      ]
    },
    {
      "cell_type": "code",
      "source": [
        "from itertools import groupby\n",
        "\n",
        "def calculate(n):\n",
        "    groups = [[k, len(list(g))] for k, g in groupby(str(n))]\n",
        "    return '_'.join([''.join([x, str(y)]) for x, y in groups])\n"
      ],
      "metadata": {
        "id": "c9_RflLvmR3n"
      },
      "execution_count": null,
      "outputs": []
    },
    {
      "cell_type": "code",
      "source": [
        "calculate(11111222211333334444)"
      ],
      "metadata": {
        "colab": {
          "base_uri": "https://localhost:8080/",
          "height": 35
        },
        "id": "eI_RTDnvmzaX",
        "outputId": "d4f86619-6df7-4d12-b35e-772b523cf944"
      },
      "execution_count": null,
      "outputs": [
        {
          "output_type": "execute_result",
          "data": {
            "text/plain": [
              "'15_24_12_35_44'"
            ],
            "application/vnd.google.colaboratory.intrinsic+json": {
              "type": "string"
            }
          },
          "metadata": {},
          "execution_count": 8
        }
      ]
    },
    {
      "cell_type": "code",
      "source": [
        "def decompress1(text):\n",
        "    return ''.join([a * int(b) for a, b in text.split('_')])"
      ],
      "metadata": {
        "id": "qW8issnUnfAO"
      },
      "execution_count": null,
      "outputs": []
    },
    {
      "cell_type": "code",
      "source": [
        "decompress('14_53_22_51_02')"
      ],
      "metadata": {
        "colab": {
          "base_uri": "https://localhost:8080/",
          "height": 35
        },
        "id": "RjyLKONotpIB",
        "outputId": "7bc4636b-5b04-453d-9330-3b7b90f7259f"
      },
      "execution_count": null,
      "outputs": [
        {
          "output_type": "execute_result",
          "data": {
            "text/plain": [
              "'111155522500'"
            ],
            "application/vnd.google.colaboratory.intrinsic+json": {
              "type": "string"
            }
          },
          "metadata": {},
          "execution_count": 14
        }
      ]
    },
    {
      "cell_type": "code",
      "source": [
        "def decompress2(compressed):\n",
        "    result = [tuple(item) for item in compressed.split('_')]\n",
        "    result = [i * int(j) for i, j in result]\n",
        "    return int(''.join(result))"
      ],
      "metadata": {
        "id": "7b99FKQItzQH"
      },
      "execution_count": null,
      "outputs": []
    },
    {
      "cell_type": "code",
      "source": [
        "timeit.timeit(lambda: decompress1('14_53_22_51_02'))"
      ],
      "metadata": {
        "colab": {
          "base_uri": "https://localhost:8080/"
        },
        "id": "Z8RXxbZXucIK",
        "outputId": "f80bba84-382a-4811-da20-fd8cc3514b8f"
      },
      "execution_count": null,
      "outputs": [
        {
          "output_type": "execute_result",
          "data": {
            "text/plain": [
              "3.046499443000357"
            ]
          },
          "metadata": {},
          "execution_count": 18
        }
      ]
    },
    {
      "cell_type": "code",
      "source": [
        "timeit.timeit(lambda: decompress2('14_53_22_51_02'))"
      ],
      "metadata": {
        "colab": {
          "base_uri": "https://localhost:8080/"
        },
        "id": "Zzx5nt7bupWC",
        "outputId": "01ee1adf-1417-4f9a-bcd8-2850abde99c7"
      },
      "execution_count": null,
      "outputs": [
        {
          "output_type": "execute_result",
          "data": {
            "text/plain": [
              "4.397428469997976"
            ]
          },
          "metadata": {},
          "execution_count": 19
        }
      ]
    },
    {
      "cell_type": "code",
      "source": [
        "def hamming_distance1(u_str, v_str):\n",
        "    if len(u_str) != len(v_str):\n",
        "        raise ValueError('Both vectors must be the same length.')\n",
        "    return sum([1 if u != v else 0 for u, v in zip(list(u_str), list(v_str))])"
      ],
      "metadata": {
        "id": "6eTfBDRJutVH"
      },
      "execution_count": null,
      "outputs": []
    },
    {
      "cell_type": "code",
      "source": [
        "hamming_distance1('01101010', '11011011')"
      ],
      "metadata": {
        "colab": {
          "base_uri": "https://localhost:8080/"
        },
        "id": "S4l2NSmExl8Q",
        "outputId": "c38c837a-819a-4e05-ed44-e764c743c9b6"
      },
      "execution_count": null,
      "outputs": [
        {
          "output_type": "execute_result",
          "data": {
            "text/plain": [
              "4"
            ]
          },
          "metadata": {},
          "execution_count": 23
        }
      ]
    },
    {
      "cell_type": "code",
      "source": [
        "    def hamming_distance2(u, v):\n",
        "        if len(u) != len(v):\n",
        "            raise ValueError('Both vectors must be the same length.')\n",
        "        distance = 0\n",
        "        for i in range(len(u)):\n",
        "            if u[i] != v[i]:\n",
        "                distance += 1\n",
        "        return distance"
      ],
      "metadata": {
        "id": "pUlTdRL4xoid"
      },
      "execution_count": null,
      "outputs": []
    },
    {
      "cell_type": "code",
      "source": [
        "timeit.timeit(lambda: hamming_distance1('01101010', '11011011'))"
      ],
      "metadata": {
        "colab": {
          "base_uri": "https://localhost:8080/"
        },
        "id": "2B5NH8bMyYtP",
        "outputId": "f785fde8-1350-416c-aac6-8fc02a016f9c"
      },
      "execution_count": null,
      "outputs": [
        {
          "output_type": "execute_result",
          "data": {
            "text/plain": [
              "3.0154290440004843"
            ]
          },
          "metadata": {},
          "execution_count": 25
        }
      ]
    },
    {
      "cell_type": "code",
      "source": [
        "timeit.timeit(lambda: hamming_distance2('01101010', '11011011'))"
      ],
      "metadata": {
        "colab": {
          "base_uri": "https://localhost:8080/"
        },
        "id": "9xz3ezBayfvD",
        "outputId": "b263d7d0-95d0-4553-f353-ceaaf3b562a1"
      },
      "execution_count": null,
      "outputs": [
        {
          "output_type": "execute_result",
          "data": {
            "text/plain": [
              "2.0892635580021306"
            ]
          },
          "metadata": {},
          "execution_count": 26
        }
      ]
    },
    {
      "cell_type": "code",
      "source": [
        "def hamming_distance(u, v):\n",
        "    if len(u) != len(v):\n",
        "        raise ValueError('Both vectors must be the same length.')\n",
        "    distance = 0\n",
        "    for i in range(len(u)):\n",
        "        if u[i] != v[i]:\n",
        "            distance += 1\n",
        "    return distance\n",
        "    \n",
        "def hamming_weight(v_str):\n",
        "    zero_ = str('0' * len(v_str))\n",
        "    return hamming_distance(zero_, v_str)"
      ],
      "metadata": {
        "id": "DoQmjFoHyiyq"
      },
      "execution_count": null,
      "outputs": []
    },
    {
      "cell_type": "code",
      "source": [
        "hamming_weight('00100001000001')"
      ],
      "metadata": {
        "colab": {
          "base_uri": "https://localhost:8080/"
        },
        "id": "0QNjXt4zzWK9",
        "outputId": "4d7d8470-f79e-4059-cb0c-5917cd219288"
      },
      "execution_count": null,
      "outputs": [
        {
          "output_type": "execute_result",
          "data": {
            "text/plain": [
              "3"
            ]
          },
          "metadata": {},
          "execution_count": 37
        }
      ]
    },
    {
      "cell_type": "code",
      "source": [
        "    pusta płytka - 0 pkt (najczęściej dwie w zestawie)\n",
        "\n",
        "    EAIONRTLSU - 1 pkt\n",
        "\n",
        "    DG - 2 pkt\n",
        "\n",
        "    BCMP - 3 pkt\n",
        "\n",
        "    FHVWY - 4 pkt\n",
        "\n",
        "    K - 5 pkt\n",
        "\n",
        "    JX - 8 pkt\n",
        "\n",
        "    QZ - 10 pkt"
      ],
      "metadata": {
        "id": "HcsQB-Pn0GOX"
      },
      "execution_count": null,
      "outputs": []
    },
    {
      "cell_type": "code",
      "source": [
        "def score(word):\n",
        "\n",
        "    english_scoreboard = {\n",
        "        ' ': 0,\n",
        "        'EAIONRTLSU': 1,\n",
        "        'DG': 2,\n",
        "        'BCMP': 3,\n",
        "        'FHVWY': 4,\n",
        "        'K': 5,\n",
        "        'JX': 8,\n",
        "        'QZ': 10\n",
        "    }\n",
        "    \n",
        "    score = 0\n",
        "    for char in word.upper():\n",
        "        for key, value in english_scoreboard.items():\n",
        "            if char in key:\n",
        "                score += value\n",
        "    return score\n",
        "\n",
        "\n"
      ],
      "metadata": {
        "id": "KFWZ4EEW1Bdg"
      },
      "execution_count": null,
      "outputs": []
    },
    {
      "cell_type": "code",
      "source": [
        "score('programming')"
      ],
      "metadata": {
        "colab": {
          "base_uri": "https://localhost:8080/"
        },
        "id": "oGkZx5Fv2cgy",
        "outputId": "2f20b353-4c00-4924-9ca4-fc353df9bc4e"
      },
      "execution_count": null,
      "outputs": [
        {
          "output_type": "execute_result",
          "data": {
            "text/plain": [
              "19"
            ]
          },
          "metadata": {},
          "execution_count": 47
        }
      ]
    },
    {
      "cell_type": "code",
      "source": [
        "def score2(word):\n",
        "    english_scoreboard = {\n",
        "        ' ': 0,\n",
        "        'EAIONRTLSU': 1,\n",
        "        'DG': 2,\n",
        "        'BCMP': 3,\n",
        "        'FHVWY': 4,\n",
        "        'K': 5,\n",
        "        'JX': 8,\n",
        "        'QZ': 10\n",
        "    }\n",
        "\n",
        "    return sum([value for char in word.upper() \n",
        "                for key, value in english_scoreboard.items() if char in key])"
      ],
      "metadata": {
        "id": "F3tDmdyy27D1"
      },
      "execution_count": null,
      "outputs": []
    },
    {
      "cell_type": "code",
      "source": [
        "score2('programming')"
      ],
      "metadata": {
        "colab": {
          "base_uri": "https://localhost:8080/"
        },
        "id": "5wnSoRmh3lVI",
        "outputId": "c21951d8-fa1f-4bcb-c438-bbc74aa8b404"
      },
      "execution_count": null,
      "outputs": [
        {
          "output_type": "execute_result",
          "data": {
            "text/plain": [
              "19"
            ]
          },
          "metadata": {},
          "execution_count": 59
        }
      ]
    },
    {
      "cell_type": "code",
      "source": [
        "timeit.timeit(lambda: score2('programming'))"
      ],
      "metadata": {
        "colab": {
          "base_uri": "https://localhost:8080/"
        },
        "id": "BMGffnD_3tIk",
        "outputId": "cdd535df-60eb-4dd3-fbcc-9f5751254462"
      },
      "execution_count": null,
      "outputs": [
        {
          "output_type": "execute_result",
          "data": {
            "text/plain": [
              "10.772665797998343"
            ]
          },
          "metadata": {},
          "execution_count": 60
        }
      ]
    },
    {
      "cell_type": "code",
      "source": [
        "timeit.timeit(lambda: score('programming'))"
      ],
      "metadata": {
        "colab": {
          "base_uri": "https://localhost:8080/"
        },
        "id": "HN36jP6-4ZfA",
        "outputId": "0b15fbf9-1a4f-4e53-dcc8-23b22e6a6747"
      },
      "execution_count": null,
      "outputs": [
        {
          "output_type": "execute_result",
          "data": {
            "text/plain": [
              "8.863533741001447"
            ]
          },
          "metadata": {},
          "execution_count": 61
        }
      ]
    },
    {
      "cell_type": "code",
      "source": [
        "english_scoreboard = {\n",
        "    ' ': 0,\n",
        "    'EAIONRTLSU': 1,\n",
        "    'DG': 2,\n",
        "    'BCMP': 3,\n",
        "    'FHVWY': 4,\n",
        "    'K': 5,\n",
        "    'JX': 8,\n",
        "    'QZ': 10\n",
        "}\n",
        "\n",
        "scores = [dict.fromkeys(letter, score)\n",
        "                  for letter, score in english_scoreboard.items()]\n",
        "print(scores)"
      ],
      "metadata": {
        "colab": {
          "base_uri": "https://localhost:8080/"
        },
        "id": "TgNHGfbp4gjT",
        "outputId": "ffdce6b9-dbbd-4c27-a9b3-aa28ca87cacd"
      },
      "execution_count": null,
      "outputs": [
        {
          "output_type": "stream",
          "name": "stdout",
          "text": [
            "[{' ': 0}, {'E': 1, 'A': 1, 'I': 1, 'O': 1, 'N': 1, 'R': 1, 'T': 1, 'L': 1, 'S': 1, 'U': 1}, {'D': 2, 'G': 2}, {'B': 3, 'C': 3, 'M': 3, 'P': 3}, {'F': 4, 'H': 4, 'V': 4, 'W': 4, 'Y': 4}, {'K': 5}, {'J': 8, 'X': 8}, {'Q': 10, 'Z': 10}]\n"
          ]
        }
      ]
    },
    {
      "cell_type": "code",
      "source": [
        "english_scoreboard.items()"
      ],
      "metadata": {
        "colab": {
          "base_uri": "https://localhost:8080/"
        },
        "id": "yqXDjOc16BSw",
        "outputId": "d63c8ece-2d4a-4431-8564-2df1939e845d"
      },
      "execution_count": null,
      "outputs": [
        {
          "output_type": "execute_result",
          "data": {
            "text/plain": [
              "dict_items([(' ', 0), ('EAIONRTLSU', 1), ('DG', 2), ('BCMP', 3), ('FHVWY', 4), ('K', 5), ('JX', 8), ('QZ', 10)])"
            ]
          },
          "metadata": {},
          "execution_count": 66
        }
      ]
    },
    {
      "cell_type": "code",
      "source": [
        "for letter, score in english_scoreboard.items():\n",
        "    print(letter)"
      ],
      "metadata": {
        "colab": {
          "base_uri": "https://localhost:8080/"
        },
        "id": "CO3fJ8ps6cWR",
        "outputId": "80fd0b79-64c2-42da-d51f-8327507db77a"
      },
      "execution_count": null,
      "outputs": [
        {
          "output_type": "stream",
          "name": "stdout",
          "text": [
            " \n",
            "EAIONRTLSU\n",
            "DG\n",
            "BCMP\n",
            "FHVWY\n",
            "K\n",
            "JX\n",
            "QZ\n"
          ]
        }
      ]
    },
    {
      "cell_type": "code",
      "source": [
        "letter = 'abcdef'\n",
        "score = 3\n",
        "dict.fromkeys(letter, score)"
      ],
      "metadata": {
        "colab": {
          "base_uri": "https://localhost:8080/"
        },
        "id": "bnWsOrFs7YoS",
        "outputId": "6f837d83-e897-466a-94e2-e7f697998089"
      },
      "execution_count": null,
      "outputs": [
        {
          "output_type": "execute_result",
          "data": {
            "text/plain": [
              "{'a': 3, 'b': 3, 'c': 3, 'd': 3, 'e': 3, 'f': 3}"
            ]
          },
          "metadata": {},
          "execution_count": 68
        }
      ]
    },
    {
      "cell_type": "code",
      "source": [
        "def get_slices(sequence, length):\n",
        "    if length < 1:\n",
        "        raise ValueError('The length cannot be less than 1.')\n",
        "    if length > len(sequence):\n",
        "        raise ValueError('The length cannot be greater than sequence.')\n",
        "    res = []\n",
        "    for i in range(0, len(sequence)-length+1):\n",
        "        res.append(sequence[i:i+length])\n",
        "    return res\n"
      ],
      "metadata": {
        "id": "A1TosNlx7tCD"
      },
      "execution_count": null,
      "outputs": []
    },
    {
      "cell_type": "code",
      "source": [
        "get_slices('Python', 30)"
      ],
      "metadata": {
        "colab": {
          "base_uri": "https://localhost:8080/",
          "height": 288
        },
        "id": "pPPv4don8r3h",
        "outputId": "3d1d917b-4830-40bc-dc0e-2a8d0ae600e3"
      },
      "execution_count": null,
      "outputs": [
        {
          "output_type": "error",
          "ename": "ValueError",
          "evalue": "ignored",
          "traceback": [
            "\u001b[0;31m---------------------------------------------------------------------------\u001b[0m",
            "\u001b[0;31mValueError\u001b[0m                                Traceback (most recent call last)",
            "\u001b[0;32m<ipython-input-79-2e4a839fd436>\u001b[0m in \u001b[0;36m<module>\u001b[0;34m\u001b[0m\n\u001b[0;32m----> 1\u001b[0;31m \u001b[0mget_slices\u001b[0m\u001b[0;34m(\u001b[0m\u001b[0;34m'Python'\u001b[0m\u001b[0;34m,\u001b[0m \u001b[0;36m30\u001b[0m\u001b[0;34m)\u001b[0m\u001b[0;34m\u001b[0m\u001b[0;34m\u001b[0m\u001b[0m\n\u001b[0m",
            "\u001b[0;32m<ipython-input-78-9662f25cff77>\u001b[0m in \u001b[0;36mget_slices\u001b[0;34m(sequence, length)\u001b[0m\n\u001b[1;32m      3\u001b[0m         \u001b[0;32mraise\u001b[0m \u001b[0mValueError\u001b[0m\u001b[0;34m(\u001b[0m\u001b[0;34m'The length cannot be less than 1.'\u001b[0m\u001b[0;34m)\u001b[0m\u001b[0;34m\u001b[0m\u001b[0;34m\u001b[0m\u001b[0m\n\u001b[1;32m      4\u001b[0m     \u001b[0;32mif\u001b[0m \u001b[0mlength\u001b[0m \u001b[0;34m>\u001b[0m \u001b[0mlen\u001b[0m\u001b[0;34m(\u001b[0m\u001b[0msequence\u001b[0m\u001b[0;34m)\u001b[0m\u001b[0;34m:\u001b[0m\u001b[0;34m\u001b[0m\u001b[0;34m\u001b[0m\u001b[0m\n\u001b[0;32m----> 5\u001b[0;31m         \u001b[0;32mraise\u001b[0m \u001b[0mValueError\u001b[0m\u001b[0;34m(\u001b[0m\u001b[0;34m'The length cannot be greater than sequence.'\u001b[0m\u001b[0;34m)\u001b[0m\u001b[0;34m\u001b[0m\u001b[0;34m\u001b[0m\u001b[0m\n\u001b[0m\u001b[1;32m      6\u001b[0m     \u001b[0mres\u001b[0m \u001b[0;34m=\u001b[0m \u001b[0;34m[\u001b[0m\u001b[0;34m]\u001b[0m\u001b[0;34m\u001b[0m\u001b[0;34m\u001b[0m\u001b[0m\n\u001b[1;32m      7\u001b[0m     \u001b[0;32mfor\u001b[0m \u001b[0mi\u001b[0m \u001b[0;32min\u001b[0m \u001b[0mrange\u001b[0m\u001b[0;34m(\u001b[0m\u001b[0;36m0\u001b[0m\u001b[0;34m,\u001b[0m \u001b[0mlen\u001b[0m\u001b[0;34m(\u001b[0m\u001b[0msequence\u001b[0m\u001b[0;34m)\u001b[0m\u001b[0;34m-\u001b[0m\u001b[0mlength\u001b[0m\u001b[0;34m+\u001b[0m\u001b[0;36m1\u001b[0m\u001b[0;34m)\u001b[0m\u001b[0;34m:\u001b[0m\u001b[0;34m\u001b[0m\u001b[0;34m\u001b[0m\u001b[0m\n",
            "\u001b[0;31mValueError\u001b[0m: The length cannot be greater than sequence."
          ]
        }
      ]
    },
    {
      "cell_type": "code",
      "source": [
        "    from itertools import cycle\n",
        "     \n",
        "     \n",
        "    def spiral_matrix(size):\n",
        "        # Preparing an empty matrix\n",
        "        matrix = [[None] * size for _ in range(size)]\n",
        "     \n",
        "        # Starting point\n",
        "        x, y = 0, 0\n",
        "     \n",
        "        # (0, 1) represents moving right along the matrix row\n",
        "        # (0, -1) represents moving left along the matrix row\n",
        "        # (1, 0) represents moving down along the matrix column\n",
        "        # (-1, 0) represents moving up along the matrix column\n",
        "        movements = cycle(((0, 1), (1, 0), (0, -1), (-1, 0)))\n",
        "        dx, dy = next(movements)\n",
        "     \n",
        "        for i in range(size**2):\n",
        "            matrix[x][y] = i + 1\n",
        "            xdx = x + dx\n",
        "            ydy = y + dy\n",
        "            if not 0 <= xdx < size or not 0 <= ydy < size or matrix[xdx][ydy] is not None:\n",
        "                dx, dy = next(movements)\n",
        "            x += dx\n",
        "            y += dy\n",
        "        return matrix"
      ],
      "metadata": {
        "id": "83T-BDVM9H7J"
      },
      "execution_count": null,
      "outputs": []
    },
    {
      "cell_type": "code",
      "source": [
        "spiral_matrix(9)"
      ],
      "metadata": {
        "colab": {
          "base_uri": "https://localhost:8080/"
        },
        "id": "BmYkOJphAZDF",
        "outputId": "5ca85496-569a-4c86-9f7e-eb029ef8fa5c"
      },
      "execution_count": null,
      "outputs": [
        {
          "output_type": "execute_result",
          "data": {
            "text/plain": [
              "[[1, 2, 3, 4, 5, 6, 7, 8, 9],\n",
              " [32, 33, 34, 35, 36, 37, 38, 39, 10],\n",
              " [31, 56, 57, 58, 59, 60, 61, 40, 11],\n",
              " [30, 55, 72, 73, 74, 75, 62, 41, 12],\n",
              " [29, 54, 71, 80, 81, 76, 63, 42, 13],\n",
              " [28, 53, 70, 79, 78, 77, 64, 43, 14],\n",
              " [27, 52, 69, 68, 67, 66, 65, 44, 15],\n",
              " [26, 51, 50, 49, 48, 47, 46, 45, 16],\n",
              " [25, 24, 23, 22, 21, 20, 19, 18, 17]]"
            ]
          },
          "metadata": {},
          "execution_count": 92
        }
      ]
    },
    {
      "cell_type": "code",
      "source": [
        "hashtags = \"\"\"#sport #fitness #training #motivation #gym #sports #workout #fit #football #love #instagood #fitnessmotivation\n",
        "#lifestyle #running #like #bodybuilding #healthy #instagram #health #soccer #follow #crossfit #photography #bhfyp #run\n",
        "#nature #fun #healthylifestyle #muscle #bhfyp #fashion #fitfam #gymlife #photooftheday #team #personaltrainer #nike\n",
        "#picoftheday #exercise #mma #sportlife #boxing #athlete #bike #basketball #happy #deporte #gymmotivation #strong\n",
        "#cycling #yoga #style #ufc #sportmotivation #fitnessgirl #calcio #instafit\"\"\"\n",
        "\n"
      ],
      "metadata": {
        "id": "m4hOB5bkAj9F"
      },
      "execution_count": null,
      "outputs": []
    },
    {
      "cell_type": "code",
      "source": [
        "def clean_hashtags():\n",
        "    with open('hashtags.txt', \"r\") as file:\n",
        "        text = file.read()\n",
        "    return [item for item in text.split(' ') if len(item) <= 5]"
      ],
      "metadata": {
        "id": "WZ470Rg2BDSt"
      },
      "execution_count": null,
      "outputs": []
    },
    {
      "cell_type": "code",
      "source": [
        "def clean_hashtags():\n",
        "    with open('hashtags.txt', \"r\") as file:\n",
        "        text = file.read()\n",
        "    return sorted(set([item for item in text.split(' ') if len(item) <= 5]))\n",
        "    \n",
        "\n",
        "print(clean_hashtags())"
      ],
      "metadata": {
        "id": "008xyegzFj47"
      },
      "execution_count": null,
      "outputs": []
    },
    {
      "cell_type": "code",
      "source": [
        "clean_hashtags(hashtags)"
      ],
      "metadata": {
        "colab": {
          "base_uri": "https://localhost:8080/"
        },
        "id": "OGzhInZkBEc1",
        "outputId": "3d6464b4-0ec5-49ab-9c9c-a8991bd41c38"
      },
      "execution_count": null,
      "outputs": [
        {
          "output_type": "execute_result",
          "data": {
            "text/plain": [
              "['#gym', '#fit', '#fun', '#mma', '#ufc']"
            ]
          },
          "metadata": {},
          "execution_count": 98
        }
      ]
    },
    {
      "cell_type": "code",
      "source": [
        "sorted(set([item for item in hashtags.split() if len(item) <= 5]))"
      ],
      "metadata": {
        "colab": {
          "base_uri": "https://localhost:8080/"
        },
        "id": "4xkPKe75DGIa",
        "outputId": "f667c3d9-710e-4f0f-f1f5-fbd53ce817c0"
      },
      "execution_count": null,
      "outputs": [
        {
          "output_type": "execute_result",
          "data": {
            "text/plain": [
              "['#bike',\n",
              " '#fit',\n",
              " '#fun',\n",
              " '#gym',\n",
              " '#like',\n",
              " '#love',\n",
              " '#mma',\n",
              " '#nike',\n",
              " '#run',\n",
              " '#team',\n",
              " '#ufc',\n",
              " '#yoga']"
            ]
          },
          "metadata": {},
          "execution_count": 105
        }
      ]
    },
    {
      "cell_type": "code",
      "source": [
        "int('00001000100010100', 2)"
      ],
      "metadata": {
        "colab": {
          "base_uri": "https://localhost:8080/"
        },
        "id": "8CQBTEEGGSoB",
        "outputId": "33dc0d7a-9ba1-4fad-b3ab-aee3728be77b"
      },
      "execution_count": null,
      "outputs": [
        {
          "output_type": "execute_result",
          "data": {
            "text/plain": [
              "4372"
            ]
          },
          "metadata": {},
          "execution_count": 107
        }
      ]
    },
    {
      "cell_type": "code",
      "source": [
        "\n",
        "users = [\n",
        "        {\n",
        "            \"id\": 1,\n",
        "            \"first_name\": \"Huntington\",\n",
        "            \"last_name\": \"McComiskie\",\n",
        "            \"email\": \"hmccomiskie0@admin.ch\",\n",
        "            \"gender\": None,\n",
        "            \"is_active\": False\n",
        "        },\n",
        "        {\n",
        "            \"id\": 2,\n",
        "            \"first_name\": \"Lukas\",\n",
        "            \"last_name\": \"Cottrill\",\n",
        "            \"email\": \"lcottrill1@linkedin.com\",\n",
        "            \"gender\": None,\n",
        "            \"is_active\": True\n",
        "        },\n",
        "        {\n",
        "            \"id\": 3,\n",
        "            \"first_name\": \"Heath\",\n",
        "            \"last_name\": \"Rourke\",\n",
        "            \"email\": \"hrourke2@t.co\",\n",
        "            \"gender\": \"Genderfluid\",\n",
        "            \"is_active\": True\n",
        "        },\n",
        "        {\n",
        "            \"id\": 4,\n",
        "            \"first_name\": \"Lucie\",\n",
        "            \"last_name\": \"Brunetti\",\n",
        "            \"email\": \"lbrunetti3@bbb.org\",\n",
        "            \"gender\": \"Non-binary\",\n",
        "            \"is_active\": True\n",
        "        },\n",
        "        {\n",
        "            \"id\": 5,\n",
        "            \"first_name\": \"Minette\",\n",
        "            \"last_name\": \"Graysmark\",\n",
        "            \"email\": \"mgraysmark4@fotki.com\",\n",
        "            \"gender\": None,\n",
        "            \"is_active\": True\n",
        "        },\n",
        "        {\n",
        "            \"id\": 6,\n",
        "            \"first_name\": \"Stormi\",\n",
        "            \"last_name\": \"Thresher\",\n",
        "            \"email\": \"sthresher5@umn.edu\",\n",
        "            \"gender\": \"Non-binary\",\n",
        "            \"is_active\": True\n",
        "        },\n",
        "        {\n",
        "            \"id\": 7,\n",
        "            \"first_name\": \"Rochella\",\n",
        "            \"last_name\": \"Berry\",\n",
        "            \"email\": \"rberry6@moonfruit.com\",\n",
        "            \"gender\": \"Female\",\n",
        "            \"is_active\": False\n",
        "        },\n",
        "        {\n",
        "            \"id\": 8,\n",
        "            \"first_name\": \"Lock\",\n",
        "            \"last_name\": \"Pablo\",\n",
        "            \"email\": \"lpablo7@networkadvertising.org\",\n",
        "            \"gender\": \"Genderqueer\",\n",
        "            \"is_active\": False\n",
        "        },\n",
        "        {\n",
        "            \"id\": 9,\n",
        "            \"first_name\": \"Anton\",\n",
        "            \"last_name\": \"Hugnin\",\n",
        "            \"email\": \"ahugnin8@flickr.com\",\n",
        "            \"gender\": \"Genderqueer\",\n",
        "            \"is_active\": True\n",
        "        },\n",
        "        {\n",
        "            \"id\": 10,\n",
        "            \"first_name\": \"Stephi\",\n",
        "            \"last_name\": \"Jacqueme\",\n",
        "            \"email\": \"sjacqueme9@exblog.jp\",\n",
        "            \"gender\": \"Male\",\n",
        "            \"is_active\": False\n",
        "        }\n",
        "        ]\n",
        " \n"
      ],
      "metadata": {
        "id": "3QLt7TQ4JXIB"
      },
      "execution_count": null,
      "outputs": []
    },
    {
      "cell_type": "code",
      "source": [
        "content = users\n",
        "lines = ''\n",
        "headers = ','.join(content[0].keys()) + '\\n'\n",
        "for user in content:\n",
        "    lines += ','.join([str(val) for val in user.values()]) + '\\n'\n",
        "\n",
        " \n",
        "\n"
      ],
      "metadata": {
        "id": "I8xjMBrYNAey"
      },
      "execution_count": null,
      "outputs": []
    },
    {
      "cell_type": "code",
      "source": [
        "print(lines)"
      ],
      "metadata": {
        "colab": {
          "base_uri": "https://localhost:8080/"
        },
        "id": "I033kN8PNzR_",
        "outputId": "b95094e2-9f97-4514-adf5-92549e4873fd"
      },
      "execution_count": null,
      "outputs": [
        {
          "output_type": "stream",
          "name": "stdout",
          "text": [
            "1,Huntington,McComiskie,hmccomiskie0@admin.ch,None,False\n",
            "2,Lukas,Cottrill,lcottrill1@linkedin.com,None,True\n",
            "3,Heath,Rourke,hrourke2@t.co,Genderfluid,True\n",
            "4,Lucie,Brunetti,lbrunetti3@bbb.org,Non-binary,True\n",
            "5,Minette,Graysmark,mgraysmark4@fotki.com,None,True\n",
            "6,Stormi,Thresher,sthresher5@umn.edu,Non-binary,True\n",
            "7,Rochella,Berry,rberry6@moonfruit.com,Female,False\n",
            "8,Lock,Pablo,lpablo7@networkadvertising.org,Genderqueer,False\n",
            "9,Anton,Hugnin,ahugnin8@flickr.com,Genderqueer,True\n",
            "10,Stephi,Jacqueme,sjacqueme9@exblog.jp,Male,False\n",
            "\n"
          ]
        }
      ]
    },
    {
      "cell_type": "code",
      "source": [
        "from collections import namedtuple\n",
        "\n",
        "content = users   \n",
        "headers = headers = ' '.join(content[0].keys())\n",
        "\n",
        "User = namedtuple(\"User\", headers)\n",
        "\n",
        "user_list = [User(*user.values()) for user in content]\n",
        "\n",
        "\n"
      ],
      "metadata": {
        "id": "1aDQpCxCOQwj"
      },
      "execution_count": null,
      "outputs": []
    },
    {
      "cell_type": "code",
      "source": [
        "\n",
        "for user in user_list:\n",
        "    print(user)"
      ],
      "metadata": {
        "colab": {
          "base_uri": "https://localhost:8080/"
        },
        "id": "_3Ma1WlrTg2h",
        "outputId": "fada5671-7f1e-4408-d19f-b8c08c84ea28"
      },
      "execution_count": null,
      "outputs": [
        {
          "output_type": "stream",
          "name": "stdout",
          "text": [
            "User(id=1, first_name='Huntington', last_name='McComiskie', email='hmccomiskie0@admin.ch', gender=None, is_active=False)\n",
            "User(id=2, first_name='Lukas', last_name='Cottrill', email='lcottrill1@linkedin.com', gender=None, is_active=True)\n",
            "User(id=3, first_name='Heath', last_name='Rourke', email='hrourke2@t.co', gender='Genderfluid', is_active=True)\n",
            "User(id=4, first_name='Lucie', last_name='Brunetti', email='lbrunetti3@bbb.org', gender='Non-binary', is_active=True)\n",
            "User(id=5, first_name='Minette', last_name='Graysmark', email='mgraysmark4@fotki.com', gender=None, is_active=True)\n",
            "User(id=6, first_name='Stormi', last_name='Thresher', email='sthresher5@umn.edu', gender='Non-binary', is_active=True)\n",
            "User(id=7, first_name='Rochella', last_name='Berry', email='rberry6@moonfruit.com', gender='Female', is_active=False)\n",
            "User(id=8, first_name='Lock', last_name='Pablo', email='lpablo7@networkadvertising.org', gender='Genderqueer', is_active=False)\n",
            "User(id=9, first_name='Anton', last_name='Hugnin', email='ahugnin8@flickr.com', gender='Genderqueer', is_active=True)\n",
            "User(id=10, first_name='Stephi', last_name='Jacqueme', email='sjacqueme9@exblog.jp', gender='Male', is_active=False)\n"
          ]
        }
      ]
    },
    {
      "cell_type": "code",
      "source": [
        "user_list"
      ],
      "metadata": {
        "colab": {
          "base_uri": "https://localhost:8080/"
        },
        "id": "kIeMqdE_TjiM",
        "outputId": "5d9cc18f-d7d5-4b5f-bff9-d5f569710bd0"
      },
      "execution_count": null,
      "outputs": [
        {
          "output_type": "execute_result",
          "data": {
            "text/plain": [
              "[User(id=1, first_name='Huntington', last_name='McComiskie', email='hmccomiskie0@admin.ch', gender=None, is_active=False),\n",
              " User(id=2, first_name='Lukas', last_name='Cottrill', email='lcottrill1@linkedin.com', gender=None, is_active=True),\n",
              " User(id=3, first_name='Heath', last_name='Rourke', email='hrourke2@t.co', gender='Genderfluid', is_active=True),\n",
              " User(id=4, first_name='Lucie', last_name='Brunetti', email='lbrunetti3@bbb.org', gender='Non-binary', is_active=True),\n",
              " User(id=5, first_name='Minette', last_name='Graysmark', email='mgraysmark4@fotki.com', gender=None, is_active=True),\n",
              " User(id=6, first_name='Stormi', last_name='Thresher', email='sthresher5@umn.edu', gender='Non-binary', is_active=True),\n",
              " User(id=7, first_name='Rochella', last_name='Berry', email='rberry6@moonfruit.com', gender='Female', is_active=False),\n",
              " User(id=8, first_name='Lock', last_name='Pablo', email='lpablo7@networkadvertising.org', gender='Genderqueer', is_active=False),\n",
              " User(id=9, first_name='Anton', last_name='Hugnin', email='ahugnin8@flickr.com', gender='Genderqueer', is_active=True),\n",
              " User(id=10, first_name='Stephi', last_name='Jacqueme', email='sjacqueme9@exblog.jp', gender='Male', is_active=False)]"
            ]
          },
          "metadata": {},
          "execution_count": 29
        }
      ]
    },
    {
      "cell_type": "code",
      "source": [
        "def generate_sql(table_name, col_names, constrains):\n",
        "    columns = [' '.join(x).strip() for x in zip(col_names, constrains)]\n",
        "    return f\"CREATE TABLE {table_name} ({', '.join(columns)})\"\n",
        "\n",
        "\n",
        "generate_sql('Product', ['Id', 'QuantityName'], ['INTEGER PRIMARY KEY', ''])"
      ],
      "metadata": {
        "colab": {
          "base_uri": "https://localhost:8080/",
          "height": 35
        },
        "id": "D88RHZm2Y7Bf",
        "outputId": "29e29c40-fb44-408d-d2e2-f76d596e0694"
      },
      "execution_count": null,
      "outputs": [
        {
          "output_type": "execute_result",
          "data": {
            "text/plain": [
              "'CREATE TABLE Product (Id INTEGER PRIMARY KEY, QuantityName)'"
            ],
            "application/vnd.google.colaboratory.intrinsic+json": {
              "type": "string"
            }
          },
          "metadata": {},
          "execution_count": 9
        }
      ]
    },
    {
      "cell_type": "code",
      "source": [
        "columns = [' '.join(x) for x in zip(['Id', 'QuantityName'], ['INTEGER PRIMARY KEY', ''])]\n",
        "# ', '.join(columns)\n",
        "columns"
      ],
      "metadata": {
        "colab": {
          "base_uri": "https://localhost:8080/"
        },
        "id": "vUzs-CV5ZqrV",
        "outputId": "7a916518-d399-4452-eae3-ba298607d92c"
      },
      "execution_count": null,
      "outputs": [
        {
          "output_type": "execute_result",
          "data": {
            "text/plain": [
              "['Id INTEGER PRIMARY KEY', 'QuantityName ']"
            ]
          },
          "metadata": {},
          "execution_count": 7
        }
      ]
    },
    {
      "cell_type": "code",
      "source": [
        "def generate_sql(table_name, col_names, constraints):\n",
        "    cols = [\" \".join((col, constraint)).strip() \n",
        "            for col, constraint in zip(col_names, constraints)]\n",
        "    return f'CREATE TABLE {table_name} (' + ', '.join(cols) + ')'\n",
        "\n",
        "generate_sql('Customer', ['Id', 'FirstName'], ['INTEGER PRIMARY KEY', 'TEXT NOT NULL'])"
      ],
      "metadata": {
        "colab": {
          "base_uri": "https://localhost:8080/",
          "height": 35
        },
        "id": "rJyY8rd6Z3TA",
        "outputId": "7c70d5ce-9132-40ab-e98a-bf974b1641a3"
      },
      "execution_count": null,
      "outputs": [
        {
          "output_type": "execute_result",
          "data": {
            "text/plain": [
              "'CREATE TABLE Customer (Id INTEGER PRIMARY KEY, FirstName TEXT NOT NULL)'"
            ],
            "application/vnd.google.colaboratory.intrinsic+json": {
              "type": "string"
            }
          },
          "metadata": {},
          "execution_count": 10
        }
      ]
    },
    {
      "cell_type": "code",
      "source": [
        "def generate_sql(table_name, col_names, constraints):\n",
        "    cols = [\" \".join((col, constraint)).strip() \n",
        "            for col, constraint in zip(col_names, constraints)]\n",
        "    return f'CREATE TABLE {table_name} (\\n' + ',\\n'.join(['\\t' + x for x in (cols)]) + '\\n)'\n",
        "\n",
        "print(generate_sql('Customer', ['Id', 'FirstName'], ['INTEGER PRIMARY KEY', 'TEXT NOT NULL']))"
      ],
      "metadata": {
        "colab": {
          "base_uri": "https://localhost:8080/"
        },
        "id": "gBnmBbMwcLds",
        "outputId": "67661396-e5aa-4b11-e14e-790fd9ee700f"
      },
      "execution_count": null,
      "outputs": [
        {
          "output_type": "stream",
          "name": "stdout",
          "text": [
            "CREATE TABLE Customer (\n",
            "\tId INTEGER PRIMARY KEY,\n",
            "\tFirstName TEXT NOT NULL\n",
            ")\n"
          ]
        }
      ]
    },
    {
      "cell_type": "code",
      "source": [
        "def lev(a, b):\n",
        "    def tail(x):\n",
        "        return x[1:]\n",
        "    if not b:\n",
        "        return len(a)\n",
        "    if not a:\n",
        "        return len(b)\n",
        "    if a[0] == b[0]:\n",
        "        return lev(tail(a), tail(b))\n",
        "    else:\n",
        "        return 1 + min(lev(tail(a), b), lev(a, tail(b)), lev(tail(a), tail(b)))"
      ],
      "metadata": {
        "id": "n2s0yMQGdBvt"
      },
      "execution_count": null,
      "outputs": []
    },
    {
      "cell_type": "code",
      "source": [
        "def lev(a, b):\n",
        "\n",
        "    if len(b) == 0:\n",
        "        return len(a)\n",
        "\n",
        "    if len(a) == 0:\n",
        "        return len(b)\n",
        "\n",
        "    if a[0] == b[0]:\n",
        "        return lev(a[1:], b[1:])\n",
        "\n",
        "    residual = 1 + min(lev(a[1:], b), lev(a, b[1:]), lev(a[1:], b[1:]))\n",
        "\n",
        "    return residual\n",
        "\n",
        "\n",
        "words = [\n",
        "    'friend',\n",
        "    'friends',\n",
        "    'friendship',\n",
        "    'fry',\n",
        "    'data',\n",
        "    'database',\n",
        "    'data science',\n",
        "    'big data',\n",
        "    'data cleaning',\n",
        "    'database',\n",
        "    'date'\n",
        "]\n",
        "\n",
        "def get_similar(input):\n",
        "    sorted([(word, lev(word)) for word in words], \n",
        "           key=lambda x: x[1], reverse = True)[:4]"
      ],
      "metadata": {
        "id": "raKhC2b9g4PO"
      },
      "execution_count": null,
      "outputs": []
    },
    {
      "cell_type": "code",
      "source": [
        "import string\n",
        "\n",
        "def generate_cipher(alphabet, key):\n",
        "    return alphabet[key:] + alphabet[:key]\n",
        "\n",
        "generate_cipher(string.ascii_lowercase, 13)"
      ],
      "metadata": {
        "colab": {
          "base_uri": "https://localhost:8080/",
          "height": 35
        },
        "id": "gmGW_HQ7iS_s",
        "outputId": "26bd69c2-7626-435d-d0cb-d5b2d9396e67"
      },
      "execution_count": null,
      "outputs": [
        {
          "output_type": "execute_result",
          "data": {
            "text/plain": [
              "'nopqrstuvwxyzabcdefghijklm'"
            ],
            "application/vnd.google.colaboratory.intrinsic+json": {
              "type": "string"
            }
          },
          "metadata": {},
          "execution_count": 25
        }
      ]
    },
    {
      "cell_type": "code",
      "source": [
        "def generate_cipher(alphabet, key=2):\n",
        "    cipher = ''\n",
        "    for letter in alphabet:\n",
        "        new_idx = (alphabet.index(letter) + key) % len(alphabet)\n",
        "        cipher += alphabet[new_idx]\n",
        "    return cipher\n",
        "    \n"
      ],
      "metadata": {
        "colab": {
          "base_uri": "https://localhost:8080/",
          "height": 346
        },
        "id": "Qvjq2Jemk_5h",
        "outputId": "184416cb-1e1f-4d46-d75b-408bacd5c6a6"
      },
      "execution_count": null,
      "outputs": [
        {
          "output_type": "error",
          "ename": "ValueError",
          "evalue": "ignored",
          "traceback": [
            "\u001b[0;31m---------------------------------------------------------------------------\u001b[0m",
            "\u001b[0;31mValueError\u001b[0m                                Traceback (most recent call last)",
            "\u001b[0;32m<ipython-input-31-29eefa31da75>\u001b[0m in \u001b[0;36m<module>\u001b[0;34m\u001b[0m\n\u001b[1;32m     10\u001b[0m \u001b[0;34m\u001b[0m\u001b[0m\n\u001b[1;32m     11\u001b[0m \u001b[0;34m\u001b[0m\u001b[0m\n\u001b[0;32m---> 12\u001b[0;31m \u001b[0mencrypt\u001b[0m\u001b[0;34m(\u001b[0m\u001b[0mstring\u001b[0m\u001b[0;34m.\u001b[0m\u001b[0mascii_uppercase\u001b[0m\u001b[0;34m,\u001b[0m \u001b[0;34m'ATTACK AT DAWN!'\u001b[0m\u001b[0;34m,\u001b[0m \u001b[0;36m2\u001b[0m\u001b[0;34m)\u001b[0m\u001b[0;34m\u001b[0m\u001b[0;34m\u001b[0m\u001b[0m\n\u001b[0m",
            "\u001b[0;32m<ipython-input-31-29eefa31da75>\u001b[0m in \u001b[0;36mencrypt\u001b[0;34m(alphabet, message, key)\u001b[0m\n\u001b[1;32m      7\u001b[0m \u001b[0;34m\u001b[0m\u001b[0m\n\u001b[1;32m      8\u001b[0m \u001b[0;32mdef\u001b[0m \u001b[0mencrypt\u001b[0m\u001b[0;34m(\u001b[0m\u001b[0malphabet\u001b[0m\u001b[0;34m,\u001b[0m \u001b[0mmessage\u001b[0m\u001b[0;34m,\u001b[0m \u001b[0mkey\u001b[0m\u001b[0;34m)\u001b[0m\u001b[0;34m:\u001b[0m\u001b[0;34m\u001b[0m\u001b[0;34m\u001b[0m\u001b[0m\n\u001b[0;32m----> 9\u001b[0;31m       \u001b[0;32mreturn\u001b[0m \u001b[0;34m''\u001b[0m\u001b[0;34m.\u001b[0m\u001b[0mjoin\u001b[0m\u001b[0;34m(\u001b[0m\u001b[0;34m[\u001b[0m\u001b[0mgenerate_cipher\u001b[0m\u001b[0;34m(\u001b[0m\u001b[0malphabet\u001b[0m\u001b[0;34m,\u001b[0m \u001b[0mkey\u001b[0m\u001b[0;34m)\u001b[0m\u001b[0;34m[\u001b[0m\u001b[0;34m(\u001b[0m\u001b[0malphabet\u001b[0m\u001b[0;34m.\u001b[0m\u001b[0mindex\u001b[0m\u001b[0;34m(\u001b[0m\u001b[0mchar\u001b[0m\u001b[0;34m)\u001b[0m\u001b[0;34m)\u001b[0m\u001b[0;34m]\u001b[0m \u001b[0;32mfor\u001b[0m \u001b[0mchar\u001b[0m \u001b[0;32min\u001b[0m \u001b[0mmessage\u001b[0m\u001b[0;34m.\u001b[0m\u001b[0msplit\u001b[0m\u001b[0;34m(\u001b[0m\u001b[0;34m' '\u001b[0m\u001b[0;34m)\u001b[0m\u001b[0;34m]\u001b[0m\u001b[0;34m)\u001b[0m\u001b[0;34m\u001b[0m\u001b[0;34m\u001b[0m\u001b[0m\n\u001b[0m\u001b[1;32m     10\u001b[0m \u001b[0;34m\u001b[0m\u001b[0m\n\u001b[1;32m     11\u001b[0m \u001b[0;34m\u001b[0m\u001b[0m\n",
            "\u001b[0;32m<ipython-input-31-29eefa31da75>\u001b[0m in \u001b[0;36m<listcomp>\u001b[0;34m(.0)\u001b[0m\n\u001b[1;32m      7\u001b[0m \u001b[0;34m\u001b[0m\u001b[0m\n\u001b[1;32m      8\u001b[0m \u001b[0;32mdef\u001b[0m \u001b[0mencrypt\u001b[0m\u001b[0;34m(\u001b[0m\u001b[0malphabet\u001b[0m\u001b[0;34m,\u001b[0m \u001b[0mmessage\u001b[0m\u001b[0;34m,\u001b[0m \u001b[0mkey\u001b[0m\u001b[0;34m)\u001b[0m\u001b[0;34m:\u001b[0m\u001b[0;34m\u001b[0m\u001b[0;34m\u001b[0m\u001b[0m\n\u001b[0;32m----> 9\u001b[0;31m       \u001b[0;32mreturn\u001b[0m \u001b[0;34m''\u001b[0m\u001b[0;34m.\u001b[0m\u001b[0mjoin\u001b[0m\u001b[0;34m(\u001b[0m\u001b[0;34m[\u001b[0m\u001b[0mgenerate_cipher\u001b[0m\u001b[0;34m(\u001b[0m\u001b[0malphabet\u001b[0m\u001b[0;34m,\u001b[0m \u001b[0mkey\u001b[0m\u001b[0;34m)\u001b[0m\u001b[0;34m[\u001b[0m\u001b[0;34m(\u001b[0m\u001b[0malphabet\u001b[0m\u001b[0;34m.\u001b[0m\u001b[0mindex\u001b[0m\u001b[0;34m(\u001b[0m\u001b[0mchar\u001b[0m\u001b[0;34m)\u001b[0m\u001b[0;34m)\u001b[0m\u001b[0;34m]\u001b[0m \u001b[0;32mfor\u001b[0m \u001b[0mchar\u001b[0m \u001b[0;32min\u001b[0m \u001b[0mmessage\u001b[0m\u001b[0;34m.\u001b[0m\u001b[0msplit\u001b[0m\u001b[0;34m(\u001b[0m\u001b[0;34m' '\u001b[0m\u001b[0;34m)\u001b[0m\u001b[0;34m]\u001b[0m\u001b[0;34m)\u001b[0m\u001b[0;34m\u001b[0m\u001b[0;34m\u001b[0m\u001b[0m\n\u001b[0m\u001b[1;32m     10\u001b[0m \u001b[0;34m\u001b[0m\u001b[0m\n\u001b[1;32m     11\u001b[0m \u001b[0;34m\u001b[0m\u001b[0m\n",
            "\u001b[0;31mValueError\u001b[0m: substring not found"
          ]
        }
      ]
    },
    {
      "cell_type": "code",
      "source": [
        "import string\n",
        "\n",
        "def generate_cipher(alphabet, key=2):\n",
        "    cipher = ''\n",
        "    for letter in alphabet:\n",
        "        new_idx = (alphabet.index(letter) + key) % len(alphabet)\n",
        "        cipher += alphabet[new_idx]\n",
        "    return cipher\n",
        "\n",
        "def encrypt(alphabet, message, key):\n",
        "    res = []\n",
        "    for word in message.split(' '):\n",
        "        res_word = ''\n",
        "        for char in word:\n",
        "            if char in alphabet:\n",
        "                res_word += generate_cipher(alphabet, key)[alphabet.index(char)]\n",
        "            else:\n",
        "                res_word += char\n",
        "        res += [res_word]\n",
        "    return ' '.join(res)"
      ],
      "metadata": {
        "id": "buFvX65fncxL"
      },
      "execution_count": null,
      "outputs": []
    },
    {
      "cell_type": "code",
      "source": [
        "encrypt(string.ascii_uppercase, 'ATTACK AT DAWN!', 2)"
      ],
      "metadata": {
        "colab": {
          "base_uri": "https://localhost:8080/",
          "height": 35
        },
        "id": "osOIibMhnyPT",
        "outputId": "20e30257-cc07-455e-8317-99df47baa20b"
      },
      "execution_count": null,
      "outputs": [
        {
          "output_type": "execute_result",
          "data": {
            "text/plain": [
              "'CVVCEM CV FCYP!'"
            ],
            "application/vnd.google.colaboratory.intrinsic+json": {
              "type": "string"
            }
          },
          "metadata": {},
          "execution_count": 17
        }
      ]
    },
    {
      "cell_type": "code",
      "source": [
        "message = 'ATTACK AT DAWN'\n",
        "alphabet = string.ascii_uppercase\n",
        "for char in message:\n",
        "    print(generate_cipher(alphabet, 2)[alphabet.index(char)])"
      ],
      "metadata": {
        "colab": {
          "base_uri": "https://localhost:8080/",
          "height": 305
        },
        "id": "b0k_9p7MpEnf",
        "outputId": "5802c8d4-b38c-41d4-8f01-9127fac25908"
      },
      "execution_count": null,
      "outputs": [
        {
          "output_type": "stream",
          "name": "stdout",
          "text": [
            "C\n",
            "V\n",
            "V\n",
            "C\n",
            "E\n",
            "M\n"
          ]
        },
        {
          "output_type": "error",
          "ename": "ValueError",
          "evalue": "ignored",
          "traceback": [
            "\u001b[0;31m---------------------------------------------------------------------------\u001b[0m",
            "\u001b[0;31mValueError\u001b[0m                                Traceback (most recent call last)",
            "\u001b[0;32m<ipython-input-15-15c1c1233466>\u001b[0m in \u001b[0;36m<module>\u001b[0;34m\u001b[0m\n\u001b[1;32m      2\u001b[0m \u001b[0malphabet\u001b[0m \u001b[0;34m=\u001b[0m \u001b[0mstring\u001b[0m\u001b[0;34m.\u001b[0m\u001b[0mascii_uppercase\u001b[0m\u001b[0;34m\u001b[0m\u001b[0;34m\u001b[0m\u001b[0m\n\u001b[1;32m      3\u001b[0m \u001b[0;32mfor\u001b[0m \u001b[0mchar\u001b[0m \u001b[0;32min\u001b[0m \u001b[0mmessage\u001b[0m\u001b[0;34m:\u001b[0m\u001b[0;34m\u001b[0m\u001b[0;34m\u001b[0m\u001b[0m\n\u001b[0;32m----> 4\u001b[0;31m     \u001b[0mprint\u001b[0m\u001b[0;34m(\u001b[0m\u001b[0mgenerate_cipher\u001b[0m\u001b[0;34m(\u001b[0m\u001b[0malphabet\u001b[0m\u001b[0;34m,\u001b[0m \u001b[0;36m2\u001b[0m\u001b[0;34m)\u001b[0m\u001b[0;34m[\u001b[0m\u001b[0malphabet\u001b[0m\u001b[0;34m.\u001b[0m\u001b[0mindex\u001b[0m\u001b[0;34m(\u001b[0m\u001b[0mchar\u001b[0m\u001b[0;34m)\u001b[0m\u001b[0;34m]\u001b[0m\u001b[0;34m)\u001b[0m\u001b[0;34m\u001b[0m\u001b[0;34m\u001b[0m\u001b[0m\n\u001b[0m",
            "\u001b[0;31mValueError\u001b[0m: substring not found"
          ]
        }
      ]
    },
    {
      "cell_type": "code",
      "source": [
        "import string\n",
        "\n",
        "def generate_cipher(alphabet, key=2):\n",
        "    cipher = ''\n",
        "    for letter in alphabet:\n",
        "        new_idx = (alphabet.index(letter) + key) % len(alphabet)\n",
        "        cipher += alphabet[new_idx]\n",
        "    return cipher\n",
        "\n",
        "def encrypt(alphabet, message, key):\n",
        "    res = []\n",
        "    for word in message.split(' '):\n",
        "        res_word = ''\n",
        "        for char in word:\n",
        "            if char in alphabet:\n",
        "                res_word += generate_cipher(alphabet, key)[alphabet.index(char)]\n",
        "            else:\n",
        "                res_word += char\n",
        "        res += [res_word]\n",
        "    return ' '.join(res)\n",
        "\n",
        "def decrypt(alphabet, message, key):\n",
        "    res = []\n",
        "    for word in message.split(' '):\n",
        "        res_word = ''\n",
        "        for char in word:\n",
        "            if char in alphabet:\n",
        "                res_word += alphabet[generate_cipher(alphabet, key).index(char)]\n",
        "            else:\n",
        "                res_word += char\n",
        "        res += [res_word]\n",
        "    return ' '.join(res)"
      ],
      "metadata": {
        "id": "0tyX_D9KpOZA"
      },
      "execution_count": null,
      "outputs": []
    },
    {
      "cell_type": "code",
      "source": [
        "MORSE_CODE = {\n",
        "    'A': '.-',\n",
        "    'B': '-...',\n",
        "    'C': '-.-.',\n",
        "    'D': '-..',\n",
        "    'E': '.',\n",
        "    'F': '..-.',\n",
        "    'G': '--.',\n",
        "    'H': '....',\n",
        "    'I': '..',\n",
        "    'J': '.---',\n",
        "    'K': '-.-',\n",
        "    'L': '.-..',\n",
        "    'M': '--',\n",
        "    'N': '-.',\n",
        "    'O': '---',\n",
        "    'P': '.--.',\n",
        "    'Q': '--.-',\n",
        "    'R': '.-.',\n",
        "    'S': '...',\n",
        "    'T': '-',\n",
        "    'U': '..-',\n",
        "    'V': '...-',\n",
        "    'W': '.--',\n",
        "    'X': '-..-',\n",
        "    'Y': '-.--',\n",
        "    'Z': '--..',\n",
        "    '1': '.----',\n",
        "    '2': '..---',\n",
        "    '3': '...--',\n",
        "    '4': '....-',\n",
        "    '5': '.....',\n",
        "    '6': '-....',\n",
        "    '7': '--...',\n",
        "    '8': '---..',\n",
        "    '9': '----.',\n",
        "    '0': '-----',\n",
        "    '&': '.-...',\n",
        "    '@': '.--.-.',\n",
        "    ':': '---...',\n",
        "    ',': '--..--',\n",
        "    '.': '.-.-.-',\n",
        "    ''': '.----.',\n",
        "    ''': '.-..-.',\n",
        "    '?': '..--..',\n",
        "    '/': '-..-.',\n",
        "    '=': '-...-',\n",
        "    '+': '.-.-.',\n",
        "    '-': '-....-',\n",
        "    '(': '-.--.',\n",
        "    ')': '-.--.-',\n",
        "    '!': '-.-.--',\n",
        "}"
      ],
      "metadata": {
        "id": "7eUfEBemr3fu"
      },
      "execution_count": null,
      "outputs": []
    },
    {
      "cell_type": "code",
      "source": [
        "def encrypt(message):\n",
        "    res = []\n",
        "    for word in message.upper().split(' '):\n",
        "        res_word = []\n",
        "        for char in word:\n",
        "            res_word += [MORSE_CODE[char]]\n",
        "        res += [' '.join(res_word)]\n",
        "    return ' / '.join(res)\n",
        "        "
      ],
      "metadata": {
        "id": "8YZfs7C3swZw"
      },
      "execution_count": null,
      "outputs": []
    },
    {
      "cell_type": "code",
      "source": [
        "encrypt('PYTHON 3.9')"
      ],
      "metadata": {
        "colab": {
          "base_uri": "https://localhost:8080/",
          "height": 35
        },
        "id": "8aaK6w_3tw9x",
        "outputId": "eb262d38-fc2e-48be-f5bb-ba44856a5db4"
      },
      "execution_count": null,
      "outputs": [
        {
          "output_type": "execute_result",
          "data": {
            "text/plain": [
              "'.--. -.-- - .... --- -. / ...-- .-.-.- ----.'"
            ],
            "application/vnd.google.colaboratory.intrinsic+json": {
              "type": "string"
            }
          },
          "metadata": {},
          "execution_count": 27
        }
      ]
    },
    {
      "cell_type": "code",
      "source": [
        "def decrypt(message):\n",
        "    res_word = []\n",
        "    for char in message.upper().split(' '):\n",
        "        if char == '/':\n",
        "            res_word += ' '\n",
        "        else:\n",
        "            res_word += [{v: k for k, v in MORSE_CODE.items()}[char]]\n",
        "    return ''.join(res_word)\n",
        "\n",
        "decrypt('.--. -.-- - .... --- -. / ...-- .-.-.- ----.')\n"
      ],
      "metadata": {
        "colab": {
          "base_uri": "https://localhost:8080/",
          "height": 35
        },
        "id": "d8OADOS5t554",
        "outputId": "00561d3e-9c16-419e-c7ee-adf03c9b4b69"
      },
      "execution_count": null,
      "outputs": [
        {
          "output_type": "execute_result",
          "data": {
            "text/plain": [
              "'PYTHON 3.9'"
            ],
            "application/vnd.google.colaboratory.intrinsic+json": {
              "type": "string"
            }
          },
          "metadata": {},
          "execution_count": 35
        }
      ]
    },
    {
      "cell_type": "code",
      "source": [
        "decrypt('.... --- .-.. -.. / -.-- --- ..- .-. / .--. --- ... .. - .. --- -. ... -.-.--')"
      ],
      "metadata": {
        "colab": {
          "base_uri": "https://localhost:8080/",
          "height": 35
        },
        "id": "qYktpddVvbYp",
        "outputId": "eac9ec07-55e6-44b2-d603-615d747d4421"
      },
      "execution_count": null,
      "outputs": [
        {
          "output_type": "execute_result",
          "data": {
            "text/plain": [
              "'HOLD YOUR POSITIONS!'"
            ],
            "application/vnd.google.colaboratory.intrinsic+json": {
              "type": "string"
            }
          },
          "metadata": {},
          "execution_count": 36
        }
      ]
    },
    {
      "cell_type": "code",
      "source": [
        "from random import random\n",
        "\n",
        "x = random()\n",
        "x"
      ],
      "metadata": {
        "colab": {
          "base_uri": "https://localhost:8080/"
        },
        "id": "7y9L1Ra1wtWa",
        "outputId": "9c29f052-c541-441a-f638-216164236f7e"
      },
      "execution_count": null,
      "outputs": [
        {
          "output_type": "execute_result",
          "data": {
            "text/plain": [
              "0.4443520716144369"
            ]
          },
          "metadata": {},
          "execution_count": 40
        }
      ]
    },
    {
      "cell_type": "code",
      "source": [
        "help(random)"
      ],
      "metadata": {
        "colab": {
          "base_uri": "https://localhost:8080/"
        },
        "id": "wPjcQs0fyF97",
        "outputId": "dcf088ab-f41d-4d87-c736-62525624aa5d"
      },
      "execution_count": null,
      "outputs": [
        {
          "output_type": "stream",
          "name": "stdout",
          "text": [
            "Help on built-in function random:\n",
            "\n",
            "random() method of random.Random instance\n",
            "    random() -> x in the interval [0, 1).\n",
            "\n"
          ]
        }
      ]
    },
    {
      "cell_type": "code",
      "source": [
        "import random\n",
        "\n",
        "\n",
        "random.seed(20)\n",
        "\n",
        "\n",
        "def generate_random_point():\n",
        "    return random.uniform(-1, 1), random.uniform(-1, 1)\n",
        "\n",
        "def is_in_unit_circle(point):\n",
        "    return ((point[0])**2 + (point[1])**2)**0.5 <= 1\n",
        "  \n",
        "def estimate(n):\n",
        "    return 4 * sum([1 for x in [is_in_unit_circle(point) \n",
        "        for point in [generate_random_point() for _ in range(n)]] if x])/n"
      ],
      "metadata": {
        "id": "GyKZFD7UyuQq"
      },
      "execution_count": null,
      "outputs": []
    },
    {
      "cell_type": "code",
      "source": [
        "estimate(1000000)"
      ],
      "metadata": {
        "colab": {
          "base_uri": "https://localhost:8080/"
        },
        "id": "qI1_lXmf1RRZ",
        "outputId": "61a7e8df-4a6e-4e99-cee1-963712f62ef2"
      },
      "execution_count": null,
      "outputs": [
        {
          "output_type": "execute_result",
          "data": {
            "text/plain": [
              "3.140576"
            ]
          },
          "metadata": {},
          "execution_count": 68
        }
      ]
    },
    {
      "cell_type": "code",
      "source": [
        "[generate_random_point for _ in range(n)]"
      ],
      "metadata": {
        "colab": {
          "base_uri": "https://localhost:8080/",
          "height": 166
        },
        "id": "RpzaZgx33bt6",
        "outputId": "2f3eedf8-b7be-4858-a11e-48b8d7dd12c4"
      },
      "execution_count": null,
      "outputs": [
        {
          "output_type": "error",
          "ename": "NameError",
          "evalue": "ignored",
          "traceback": [
            "\u001b[0;31m---------------------------------------------------------------------------\u001b[0m",
            "\u001b[0;31mNameError\u001b[0m                                 Traceback (most recent call last)",
            "\u001b[0;32m<ipython-input-57-06f9a20045ca>\u001b[0m in \u001b[0;36m<module>\u001b[0;34m\u001b[0m\n\u001b[0;32m----> 1\u001b[0;31m \u001b[0;34m[\u001b[0m\u001b[0mgenerate_random_point\u001b[0m \u001b[0;32mfor\u001b[0m \u001b[0m_\u001b[0m \u001b[0;32min\u001b[0m \u001b[0mrange\u001b[0m\u001b[0;34m(\u001b[0m\u001b[0mn\u001b[0m\u001b[0;34m)\u001b[0m\u001b[0;34m]\u001b[0m\u001b[0;34m\u001b[0m\u001b[0;34m\u001b[0m\u001b[0m\n\u001b[0m",
            "\u001b[0;31mNameError\u001b[0m: name 'n' is not defined"
          ]
        }
      ]
    },
    {
      "cell_type": "code",
      "source": [
        "def decimal_to_binary(n):\n",
        "    if n == 0:\n",
        "        return '0'\n",
        "    res = ''\n",
        "    while n > 0:\n",
        "        res += str(n % 2)\n",
        "        n = n // 2\n",
        "    return res[::-1]"
      ],
      "metadata": {
        "id": "01z79BxE4Sgn"
      },
      "execution_count": null,
      "outputs": []
    },
    {
      "cell_type": "code",
      "source": [
        "decimal_to_binary(3456)"
      ],
      "metadata": {
        "colab": {
          "base_uri": "https://localhost:8080/",
          "height": 35
        },
        "id": "dkjZI7_HNUfd",
        "outputId": "b3cd01b4-13a8-40fb-83fd-d9ce1e7395dc"
      },
      "execution_count": null,
      "outputs": [
        {
          "output_type": "execute_result",
          "data": {
            "text/plain": [
              "'110110000000'"
            ],
            "application/vnd.google.colaboratory.intrinsic+json": {
              "type": "string"
            }
          },
          "metadata": {},
          "execution_count": 6
        }
      ]
    },
    {
      "cell_type": "code",
      "source": [
        "def decimal_to_binary(number):\n",
        "    if number == 0:\n",
        "        return '0'\n",
        "    result = ''\n",
        "    while number > 0:\n",
        "        result += str(number % 2)\n",
        "        number = number // 2\n",
        "    return result[::-1]\n",
        "    \n",
        "def bitwise_and(x, y):\n",
        "    if x < 0 or y < 0:\n",
        "        raise ValueError('Both numbers must be positive.')\n",
        "    x = decimal_to_binary(x)\n",
        "    y = decimal_to_binary(y)\n",
        "    if len(x) > len(y):\n",
        "       y = y.zfill(len(x))\n",
        "    elif len(x) < len(y):\n",
        "        x = x.zfill(len(y))\n",
        "    return int(''.join(['1' if x_ == '1' and y_ == '1' else '0' for x_, y_ in zip(x, y)]), 2)\n",
        "        "
      ],
      "metadata": {
        "id": "UBHqC4asNbiZ"
      },
      "execution_count": null,
      "outputs": []
    },
    {
      "cell_type": "code",
      "source": [
        "bitwise_and(25, 19)"
      ],
      "metadata": {
        "colab": {
          "base_uri": "https://localhost:8080/"
        },
        "id": "qRsguMpXQqG6",
        "outputId": "35e34a9e-fdfe-4fe4-d25a-f4e7c30915a6"
      },
      "execution_count": null,
      "outputs": [
        {
          "output_type": "execute_result",
          "data": {
            "text/plain": [
              "17"
            ]
          },
          "metadata": {},
          "execution_count": 76
        }
      ]
    },
    {
      "cell_type": "code",
      "source": [
        "it = [3, 6, 8, 10]\n",
        "f = lambda x, y: x + y"
      ],
      "metadata": {
        "id": "dB0CCV2TRT_C"
      },
      "execution_count": null,
      "outputs": []
    },
    {
      "cell_type": "code",
      "source": [
        "def reduce(iterable, func):\n",
        "    iterable_ = iterable[:]\n",
        "    while len(iterable_) >= 2:\n",
        "        temp = func(iterable_[0], iterable_[1])\n",
        "        iterable_.pop(0)\n",
        "        iterable_.pop(0)\n",
        "        iterable_.insert(0, temp)\n",
        "    return iterable_[0]"
      ],
      "metadata": {
        "id": "oKUmjssVSwXH"
      },
      "execution_count": null,
      "outputs": []
    },
    {
      "cell_type": "code",
      "source": [
        "reduce(it, f)"
      ],
      "metadata": {
        "colab": {
          "base_uri": "https://localhost:8080/"
        },
        "id": "xev3HyGbWnoH",
        "outputId": "67b59e7c-2a9d-48f5-a066-bffb85dbd092"
      },
      "execution_count": null,
      "outputs": [
        {
          "output_type": "execute_result",
          "data": {
            "text/plain": [
              "27"
            ]
          },
          "metadata": {},
          "execution_count": 67
        }
      ]
    },
    {
      "cell_type": "code",
      "source": [
        "it"
      ],
      "metadata": {
        "colab": {
          "base_uri": "https://localhost:8080/"
        },
        "id": "jsv3Nng2WqxS",
        "outputId": "b8eba681-48b0-45e4-f172-69fc85ea2e54"
      },
      "execution_count": null,
      "outputs": [
        {
          "output_type": "execute_result",
          "data": {
            "text/plain": [
              "[3, 6, 8, 10]"
            ]
          },
          "metadata": {},
          "execution_count": 68
        }
      ]
    },
    {
      "cell_type": "code",
      "source": [
        "from google.colab import files\n",
        "uploaded = files.upload()\n"
      ],
      "metadata": {
        "colab": {
          "base_uri": "https://localhost:8080/",
          "height": 73
        },
        "id": "_yknacxsXFA5",
        "outputId": "8ccb7f8b-f4df-4102-a060-c69c256a4874"
      },
      "execution_count": null,
      "outputs": [
        {
          "output_type": "display_data",
          "data": {
            "text/plain": [
              "<IPython.core.display.HTML object>"
            ],
            "text/html": [
              "\n",
              "     <input type=\"file\" id=\"files-785b53af-fa07-4a9a-ab8e-61cc702089ae\" name=\"files[]\" multiple disabled\n",
              "        style=\"border:none\" />\n",
              "     <output id=\"result-785b53af-fa07-4a9a-ab8e-61cc702089ae\">\n",
              "      Upload widget is only available when the cell has been executed in the\n",
              "      current browser session. Please rerun this cell to enable.\n",
              "      </output>\n",
              "      <script>// Copyright 2017 Google LLC\n",
              "//\n",
              "// Licensed under the Apache License, Version 2.0 (the \"License\");\n",
              "// you may not use this file except in compliance with the License.\n",
              "// You may obtain a copy of the License at\n",
              "//\n",
              "//      http://www.apache.org/licenses/LICENSE-2.0\n",
              "//\n",
              "// Unless required by applicable law or agreed to in writing, software\n",
              "// distributed under the License is distributed on an \"AS IS\" BASIS,\n",
              "// WITHOUT WARRANTIES OR CONDITIONS OF ANY KIND, either express or implied.\n",
              "// See the License for the specific language governing permissions and\n",
              "// limitations under the License.\n",
              "\n",
              "/**\n",
              " * @fileoverview Helpers for google.colab Python module.\n",
              " */\n",
              "(function(scope) {\n",
              "function span(text, styleAttributes = {}) {\n",
              "  const element = document.createElement('span');\n",
              "  element.textContent = text;\n",
              "  for (const key of Object.keys(styleAttributes)) {\n",
              "    element.style[key] = styleAttributes[key];\n",
              "  }\n",
              "  return element;\n",
              "}\n",
              "\n",
              "// Max number of bytes which will be uploaded at a time.\n",
              "const MAX_PAYLOAD_SIZE = 100 * 1024;\n",
              "\n",
              "function _uploadFiles(inputId, outputId) {\n",
              "  const steps = uploadFilesStep(inputId, outputId);\n",
              "  const outputElement = document.getElementById(outputId);\n",
              "  // Cache steps on the outputElement to make it available for the next call\n",
              "  // to uploadFilesContinue from Python.\n",
              "  outputElement.steps = steps;\n",
              "\n",
              "  return _uploadFilesContinue(outputId);\n",
              "}\n",
              "\n",
              "// This is roughly an async generator (not supported in the browser yet),\n",
              "// where there are multiple asynchronous steps and the Python side is going\n",
              "// to poll for completion of each step.\n",
              "// This uses a Promise to block the python side on completion of each step,\n",
              "// then passes the result of the previous step as the input to the next step.\n",
              "function _uploadFilesContinue(outputId) {\n",
              "  const outputElement = document.getElementById(outputId);\n",
              "  const steps = outputElement.steps;\n",
              "\n",
              "  const next = steps.next(outputElement.lastPromiseValue);\n",
              "  return Promise.resolve(next.value.promise).then((value) => {\n",
              "    // Cache the last promise value to make it available to the next\n",
              "    // step of the generator.\n",
              "    outputElement.lastPromiseValue = value;\n",
              "    return next.value.response;\n",
              "  });\n",
              "}\n",
              "\n",
              "/**\n",
              " * Generator function which is called between each async step of the upload\n",
              " * process.\n",
              " * @param {string} inputId Element ID of the input file picker element.\n",
              " * @param {string} outputId Element ID of the output display.\n",
              " * @return {!Iterable<!Object>} Iterable of next steps.\n",
              " */\n",
              "function* uploadFilesStep(inputId, outputId) {\n",
              "  const inputElement = document.getElementById(inputId);\n",
              "  inputElement.disabled = false;\n",
              "\n",
              "  const outputElement = document.getElementById(outputId);\n",
              "  outputElement.innerHTML = '';\n",
              "\n",
              "  const pickedPromise = new Promise((resolve) => {\n",
              "    inputElement.addEventListener('change', (e) => {\n",
              "      resolve(e.target.files);\n",
              "    });\n",
              "  });\n",
              "\n",
              "  const cancel = document.createElement('button');\n",
              "  inputElement.parentElement.appendChild(cancel);\n",
              "  cancel.textContent = 'Cancel upload';\n",
              "  const cancelPromise = new Promise((resolve) => {\n",
              "    cancel.onclick = () => {\n",
              "      resolve(null);\n",
              "    };\n",
              "  });\n",
              "\n",
              "  // Wait for the user to pick the files.\n",
              "  const files = yield {\n",
              "    promise: Promise.race([pickedPromise, cancelPromise]),\n",
              "    response: {\n",
              "      action: 'starting',\n",
              "    }\n",
              "  };\n",
              "\n",
              "  cancel.remove();\n",
              "\n",
              "  // Disable the input element since further picks are not allowed.\n",
              "  inputElement.disabled = true;\n",
              "\n",
              "  if (!files) {\n",
              "    return {\n",
              "      response: {\n",
              "        action: 'complete',\n",
              "      }\n",
              "    };\n",
              "  }\n",
              "\n",
              "  for (const file of files) {\n",
              "    const li = document.createElement('li');\n",
              "    li.append(span(file.name, {fontWeight: 'bold'}));\n",
              "    li.append(span(\n",
              "        `(${file.type || 'n/a'}) - ${file.size} bytes, ` +\n",
              "        `last modified: ${\n",
              "            file.lastModifiedDate ? file.lastModifiedDate.toLocaleDateString() :\n",
              "                                    'n/a'} - `));\n",
              "    const percent = span('0% done');\n",
              "    li.appendChild(percent);\n",
              "\n",
              "    outputElement.appendChild(li);\n",
              "\n",
              "    const fileDataPromise = new Promise((resolve) => {\n",
              "      const reader = new FileReader();\n",
              "      reader.onload = (e) => {\n",
              "        resolve(e.target.result);\n",
              "      };\n",
              "      reader.readAsArrayBuffer(file);\n",
              "    });\n",
              "    // Wait for the data to be ready.\n",
              "    let fileData = yield {\n",
              "      promise: fileDataPromise,\n",
              "      response: {\n",
              "        action: 'continue',\n",
              "      }\n",
              "    };\n",
              "\n",
              "    // Use a chunked sending to avoid message size limits. See b/62115660.\n",
              "    let position = 0;\n",
              "    do {\n",
              "      const length = Math.min(fileData.byteLength - position, MAX_PAYLOAD_SIZE);\n",
              "      const chunk = new Uint8Array(fileData, position, length);\n",
              "      position += length;\n",
              "\n",
              "      const base64 = btoa(String.fromCharCode.apply(null, chunk));\n",
              "      yield {\n",
              "        response: {\n",
              "          action: 'append',\n",
              "          file: file.name,\n",
              "          data: base64,\n",
              "        },\n",
              "      };\n",
              "\n",
              "      let percentDone = fileData.byteLength === 0 ?\n",
              "          100 :\n",
              "          Math.round((position / fileData.byteLength) * 100);\n",
              "      percent.textContent = `${percentDone}% done`;\n",
              "\n",
              "    } while (position < fileData.byteLength);\n",
              "  }\n",
              "\n",
              "  // All done.\n",
              "  yield {\n",
              "    response: {\n",
              "      action: 'complete',\n",
              "    }\n",
              "  };\n",
              "}\n",
              "\n",
              "scope.google = scope.google || {};\n",
              "scope.google.colab = scope.google.colab || {};\n",
              "scope.google.colab._files = {\n",
              "  _uploadFiles,\n",
              "  _uploadFilesContinue,\n",
              "};\n",
              "})(self);\n",
              "</script> "
            ]
          },
          "metadata": {}
        },
        {
          "output_type": "stream",
          "name": "stdout",
          "text": [
            "Saving cdr.csv to cdr (1).csv\n"
          ]
        }
      ]
    },
    {
      "cell_type": "code",
      "source": [
        "import csv\n",
        "\n",
        "\n",
        "with open('cdr.csv', newline='') as csvfile:\n",
        "\n",
        "    reader = csv.reader(csvfile, delimiter=' ', quotechar='|')\n",
        "\n",
        "    rows = [row for row in reader]\n",
        "    closes = [row[0].split(',')[4] for row in rows[1:]]\n",
        " \n",
        "def moving_avg(iterable):\n",
        "    iterable = [float(item) for item in iterable]\n",
        "    return [round(sum(iterable[i : i + 3]) / 3, 2) \n",
        "            for i in range(len(iterable) - 2)]\n",
        "\n"
      ],
      "metadata": {
        "id": "0uPpMWVbig-S"
      },
      "execution_count": null,
      "outputs": []
    },
    {
      "cell_type": "code",
      "source": [
        "len(moving_avg(closes))"
      ],
      "metadata": {
        "colab": {
          "base_uri": "https://localhost:8080/"
        },
        "id": "lCI4r7TmirCC",
        "outputId": "67dc4e1a-3556-4a37-c43e-d5488bb7d9fc"
      },
      "execution_count": null,
      "outputs": [
        {
          "output_type": "execute_result",
          "data": {
            "text/plain": [
              "21"
            ]
          },
          "metadata": {},
          "execution_count": 157
        }
      ]
    },
    {
      "cell_type": "code",
      "source": [
        "print(closes)"
      ],
      "metadata": {
        "colab": {
          "base_uri": "https://localhost:8080/"
        },
        "id": "YGkg0wc3kO7n",
        "outputId": "1838d1a4-2e6d-4d6b-8cd0-f8ac60657449"
      },
      "execution_count": null,
      "outputs": [
        {
          "output_type": "stream",
          "name": "stdout",
          "text": [
            "['240.3', '241.3', '228.3', '235', '232', '232', '223', '210.2', '221', '226.5', '229.9', '229.5', '231', '220.7', '223.2', '217', '220.7', '217.1', '208.1', '212', '239.7', '217.9', '190.5']\n"
          ]
        }
      ]
    },
    {
      "cell_type": "code",
      "source": [
        "import csv\n",
        "\n",
        "with open('cdr.csv', 'r') as csvfile:\n",
        "\n",
        "    reader = csv.reader(csvfile, delimiter=',', quotechar='|')\n",
        "\n",
        "    rows = list(reader)\n",
        "    # closes = [row[4] for row in rows[1:]]\n",
        "rows"
      ],
      "metadata": {
        "colab": {
          "base_uri": "https://localhost:8080/"
        },
        "id": "L5BWV7H0qIV3",
        "outputId": "7322e211-d3e0-4dea-f826-04697cf9e85c"
      },
      "execution_count": null,
      "outputs": [
        {
          "output_type": "execute_result",
          "data": {
            "text/plain": [
              "[['Date', 'Open', 'High', 'Low', 'Close', 'Volume'],\n",
              " ['2021-03-01', '237.4', '241', '225.2', '240.3', '1089101'],\n",
              " ['2021-03-02', '240.9', '245.9', '236', '241.3', '674141'],\n",
              " ['2021-03-03', '241.8', '245.3', '227', '228.3', '836642'],\n",
              " ['2021-03-04', '228.3', '237.5', '226', '235', '531892'],\n",
              " ['2021-03-05', '233.5', '237.8', '228.8', '232', '458449'],\n",
              " ['2021-03-08', '234.9', '237.5', '232', '232', '407552'],\n",
              " ['2021-03-09', '231.5', '233.7', '223', '223', '1020824'],\n",
              " ['2021-03-10', '223', '226.7', '210.2', '210.2', '1263988'],\n",
              " ['2021-03-11', '210.5', '223.6', '206.6', '221', '1199773'],\n",
              " ['2021-03-12', '223', '235.1', '220.3', '226.5', '846781'],\n",
              " ['2021-03-15', '231', '234.6', '225.5', '229.9', '523875'],\n",
              " ['2021-03-16', '233', '236.1', '226.5', '229.5', '418635'],\n",
              " ['2021-03-17', '230', '232', '223.1', '231', '535624'],\n",
              " ['2021-03-18', '231', '231.7', '220.7', '220.7', '634370'],\n",
              " ['2021-03-19', '220.7', '227', '217.9', '223.2', '961059'],\n",
              " ['2021-03-22', '221', '221', '216.8', '217', '536426'],\n",
              " ['2021-03-23', '218', '221', '211.4', '220.7', '589239'],\n",
              " ['2021-03-24', '219.4', '222.4', '215.1', '217.1', '480745'],\n",
              " ['2021-03-25', '219.9', '221.9', '208.1', '208.1', '740462'],\n",
              " ['2021-03-26', '210', '216.9', '209.5', '212', '437112'],\n",
              " ['2021-03-29', '218', '243.5', '216', '239.7', '2085034'],\n",
              " ['2021-03-30', '250', '251.6', '216.8', '217.9', '1652983'],\n",
              " ['2021-03-31', '199.8', '203.7', '181.5', '190.5', '3528905']]"
            ]
          },
          "metadata": {},
          "execution_count": 7
        }
      ]
    },
    {
      "cell_type": "code",
      "source": [
        "import csv\n",
        "\n",
        "\n",
        "with open('cdr.csv', 'r') as file:\n",
        "    reader = csv.reader(file, delimiter=',')\n",
        "    columns = next(reader)\n",
        "    rows = list(reader)\n",
        "    # closes = list(map(lambda row: float(row[4]), rows))"
      ],
      "metadata": {
        "id": "Yyx1hBsx5dZp"
      },
      "execution_count": null,
      "outputs": []
    },
    {
      "cell_type": "code",
      "source": [
        "rows"
      ],
      "metadata": {
        "colab": {
          "base_uri": "https://localhost:8080/"
        },
        "id": "i4tELjsv5htD",
        "outputId": "00785063-68ff-4be8-bb5c-f06d94901b91"
      },
      "execution_count": null,
      "outputs": [
        {
          "output_type": "execute_result",
          "data": {
            "text/plain": [
              "[['2021-03-01', '237.4', '241', '225.2', '240.3', '1089101'],\n",
              " ['2021-03-02', '240.9', '245.9', '236', '241.3', '674141'],\n",
              " ['2021-03-03', '241.8', '245.3', '227', '228.3', '836642'],\n",
              " ['2021-03-04', '228.3', '237.5', '226', '235', '531892'],\n",
              " ['2021-03-05', '233.5', '237.8', '228.8', '232', '458449'],\n",
              " ['2021-03-08', '234.9', '237.5', '232', '232', '407552'],\n",
              " ['2021-03-09', '231.5', '233.7', '223', '223', '1020824'],\n",
              " ['2021-03-10', '223', '226.7', '210.2', '210.2', '1263988'],\n",
              " ['2021-03-11', '210.5', '223.6', '206.6', '221', '1199773'],\n",
              " ['2021-03-12', '223', '235.1', '220.3', '226.5', '846781'],\n",
              " ['2021-03-15', '231', '234.6', '225.5', '229.9', '523875'],\n",
              " ['2021-03-16', '233', '236.1', '226.5', '229.5', '418635'],\n",
              " ['2021-03-17', '230', '232', '223.1', '231', '535624'],\n",
              " ['2021-03-18', '231', '231.7', '220.7', '220.7', '634370'],\n",
              " ['2021-03-19', '220.7', '227', '217.9', '223.2', '961059'],\n",
              " ['2021-03-22', '221', '221', '216.8', '217', '536426'],\n",
              " ['2021-03-23', '218', '221', '211.4', '220.7', '589239'],\n",
              " ['2021-03-24', '219.4', '222.4', '215.1', '217.1', '480745'],\n",
              " ['2021-03-25', '219.9', '221.9', '208.1', '208.1', '740462'],\n",
              " ['2021-03-26', '210', '216.9', '209.5', '212', '437112'],\n",
              " ['2021-03-29', '218', '243.5', '216', '239.7', '2085034'],\n",
              " ['2021-03-30', '250', '251.6', '216.8', '217.9', '1652983'],\n",
              " ['2021-03-31', '199.8', '203.7', '181.5', '190.5', '3528905']]"
            ]
          },
          "metadata": {},
          "execution_count": 2
        }
      ]
    },
    {
      "cell_type": "code",
      "source": [
        "import csv\n",
        "\n",
        "\n",
        "with open('cdr.csv', 'r') as file:\n",
        "    reader = csv.reader(file, delimiter=',')\n",
        "    columns = next(reader)\n",
        "    rows = list(reader)\n",
        "    data = list(map(lambda i: (i[0], float(i[1]), float(i[4])), rows))\n",
        "\n",
        "def find_doji(data):\n",
        "    corpuses = [abs(item[1] - item[2]) for item in data]\n",
        "    idx = corpuses.index(min(corpuses))\n",
        "    return data[idx][0]"
      ],
      "metadata": {
        "id": "jdqaHSUr52NP"
      },
      "execution_count": null,
      "outputs": []
    },
    {
      "cell_type": "code",
      "source": [
        "find_doji(data)"
      ],
      "metadata": {
        "colab": {
          "base_uri": "https://localhost:8080/",
          "height": 35
        },
        "id": "I2zaKcL6_8m4",
        "outputId": "3990b0cb-0fb3-46c2-bdbb-b4dff0813a70"
      },
      "execution_count": null,
      "outputs": [
        {
          "output_type": "execute_result",
          "data": {
            "text/plain": [
              "'2021-03-02'"
            ],
            "application/vnd.google.colaboratory.intrinsic+json": {
              "type": "string"
            }
          },
          "metadata": {},
          "execution_count": 12
        }
      ]
    },
    {
      "cell_type": "code",
      "source": [
        "class EmptyStackError(Exception):\n",
        "    pass\n",
        "\n",
        "\n",
        "class Stack:\n",
        "    \"\"\"The simplest stack.\"\"\"\n",
        "\n",
        "    def __init__(self):\n",
        "        self._data = []\n",
        "\n",
        "    def __len__(self):\n",
        "        return len(self._data)\n",
        "\n",
        "    def push(self, item):\n",
        "        self._data.append(item)\n",
        "\n",
        "    def pop(self):\n",
        "        if self.is_empty():\n",
        "            raise EmptyStackError('The stack is empty.')\n",
        "        return self._data.pop()\n",
        "\n",
        "    def is_empty(self):\n",
        "        return len(self._data) == 0\n"
      ],
      "metadata": {
        "id": "7EeE6WOUAlD3"
      },
      "execution_count": null,
      "outputs": []
    },
    {
      "cell_type": "code",
      "source": [
        "def is_palindrome(input):  \n",
        "    stack = Stack()\n",
        "    stack_rev = Stack()\n",
        "\n",
        "    for item in input:\n",
        "        stack.push(item)\n",
        "    for item in input[::-1]:\n",
        "        stack_rev.push(item)\n",
        "\n",
        "    flag = True\n",
        "    while not stack.is_empty():\n",
        "        if stack.pop() == stack_rev.pop():\n",
        "            pass\n",
        "        else:\n",
        "            flag = False\n",
        "    return flag"
      ],
      "metadata": {
        "id": "lTXPe1GCDFmZ"
      },
      "execution_count": null,
      "outputs": []
    },
    {
      "cell_type": "code",
      "source": [
        "is_palindrome('kajakw')"
      ],
      "metadata": {
        "colab": {
          "base_uri": "https://localhost:8080/"
        },
        "id": "lF2n59tAD_7o",
        "outputId": "0d54ae97-187d-4d58-9d27-d41980a62498"
      },
      "execution_count": null,
      "outputs": [
        {
          "output_type": "execute_result",
          "data": {
            "text/plain": [
              "False"
            ]
          },
          "metadata": {},
          "execution_count": 31
        }
      ]
    },
    {
      "cell_type": "code",
      "source": [
        "stack3 = ['a', 'b', 'c']\n",
        "stack3.pop()\n",
        "stack3"
      ],
      "metadata": {
        "colab": {
          "base_uri": "https://localhost:8080/"
        },
        "id": "-b8XnFM5GbZm",
        "outputId": "6309bf67-a96f-4fe1-b6df-96f1cbe13fc4"
      },
      "execution_count": null,
      "outputs": [
        {
          "output_type": "execute_result",
          "data": {
            "text/plain": [
              "['a', 'b']"
            ]
          },
          "metadata": {},
          "execution_count": 23
        }
      ]
    },
    {
      "cell_type": "code",
      "source": [
        "class EmptyStackError(Exception):\n",
        "    pass\n",
        "\n",
        "\n",
        "class Stack:\n",
        "    \"\"\"The simplest stack.\"\"\"\n",
        "\n",
        "    def __init__(self):\n",
        "        self._data = []\n",
        "\n",
        "    def __len__(self):\n",
        "        return len(self._data)\n",
        "\n",
        "    def push(self, item):\n",
        "        self._data.append(item)\n",
        "\n",
        "    def pop(self):\n",
        "        if self.is_empty():\n",
        "            raise EmptyStackError('The stack is empty.')\n",
        "        return self._data.pop()\n",
        "\n",
        "    def is_empty(self):\n",
        "        return len(self._data) == 0\n",
        "\n",
        "    def top(self):\n",
        "        if self.is_empty():\n",
        "            raise EmptyStackError('The stack is empty.')\n",
        "        return self._data[-1]"
      ],
      "metadata": {
        "id": "ZYPd2FKMIEnI"
      },
      "execution_count": null,
      "outputs": []
    },
    {
      "cell_type": "code",
      "source": [
        "def is_valid_expression(input):\n",
        "    stack = Stack()\n",
        "    map = {')' : '(', ']' : '[', '}' : '{'}\n",
        "    flag = True\n",
        "    for char in input:\n",
        "        if char in ('(', ')', '[', ']', '{', '}'):\n",
        "            stack.push(char)\n",
        "    if len(stack) % 2 != 0:\n",
        "        return False\n",
        "    for i in range(len(stack) // 2):\n",
        "        if stack._data[i] == map[stack.top()]:\n",
        "            pass\n",
        "        else:\n",
        "            flag = False\n",
        "        stack.pop()\n",
        "            \n",
        "    return flag"
      ],
      "metadata": {
        "id": "jgd4aCwaJJCe"
      },
      "execution_count": null,
      "outputs": []
    },
    {
      "cell_type": "code",
      "source": [
        "is_valid_expression('(2 + 3) + 8 * 3]')"
      ],
      "metadata": {
        "colab": {
          "base_uri": "https://localhost:8080/"
        },
        "id": "OPuzXCV-JYrE",
        "outputId": "73ceb1fb-e35a-43cf-c24c-bdf93ae69683"
      },
      "execution_count": null,
      "outputs": [
        {
          "output_type": "execute_result",
          "data": {
            "text/plain": [
              "False"
            ]
          },
          "metadata": {},
          "execution_count": 17
        }
      ]
    },
    {
      "cell_type": "code",
      "source": [
        "class EmptyStackError(Exception):\n",
        "    pass\n",
        "    \n",
        "    \n",
        "class Stack:\n",
        "    \"\"\"The simplest stack.\"\"\"\n",
        "    \n",
        "    def __init__(self):\n",
        "        self._data = []\n",
        "    \n",
        "    def __len__(self):\n",
        "        return len(self._data)\n",
        "    \n",
        "    def push(self, item):\n",
        "        self._data.append(item)\n",
        "    \n",
        "    def pop(self):\n",
        "        if self.is_empty():\n",
        "            raise EmptyStackError('The stack is empty.')\n",
        "        return self._data.pop()\n",
        "    \n",
        "    def is_empty(self):\n",
        "        return len(self._data) == 0\n",
        "    \n",
        "    def top(self):\n",
        "        if self.is_empty():\n",
        "            raise EmptyStackError('The stack is empty.')\n",
        "        return self._data[-1]\n",
        "    \n",
        "    \n",
        "def is_valid_html(html):\n",
        "    stack = Stack()\n",
        "    first_char_idx = html.find('<')\n",
        "    while first_char_idx != -1:\n",
        "        next_char_idx = html.find('>', first_char_idx + 1)\n",
        "        if next_char_idx == -1:\n",
        "            return False\n",
        "        tag = html[first_char_idx + 1: next_char_idx]\n",
        "        if not tag.startswith('/'):\n",
        "            stack.push(tag)\n",
        "        else:\n",
        "            if stack.is_empty():\n",
        "                return False\n",
        "            if tag[1:] != stack.pop():\n",
        "                return False\n",
        "        first_char_idx = html.find('<', next_char_idx + 1)\n",
        "    return stack.is_empty()"
      ],
      "metadata": {
        "id": "AfQ2WvQCJa6z"
      },
      "execution_count": null,
      "outputs": []
    },
    {
      "cell_type": "code",
      "source": [
        "class EmptyStackError(Exception):\n",
        "    pass\n",
        "\n",
        "\n",
        "class Stack:\n",
        "    \"\"\"The simplest stack.\"\"\"\n",
        "\n",
        "    def __init__(self):\n",
        "        self._data = []\n",
        "\n",
        "    def __len__(self):\n",
        "        return len(self._data)\n",
        "\n",
        "    def push(self, item):\n",
        "        self._data.append(item)\n",
        "\n",
        "    def pop(self):\n",
        "        if self.is_empty():\n",
        "            raise EmptyStackError('The stack is empty.')\n",
        "        return self._data.pop()\n",
        "\n",
        "    def is_empty(self):\n",
        "        return len(self._data) == 0\n",
        "\n",
        "    def top(self):\n",
        "        if self.is_empty():\n",
        "            raise EmptyStackError('The stack is empty.')\n",
        "        return self._data[-1]"
      ],
      "metadata": {
        "id": "hqdohSbIRhwZ"
      },
      "execution_count": null,
      "outputs": []
    },
    {
      "cell_type": "code",
      "source": [
        "def transfer(s1, s2):\n",
        "    while not s1.is_empty():\n",
        "        s2.push(s1.pop())\n",
        "    return s1, s2"
      ],
      "metadata": {
        "id": "THtU3kh1RidB"
      },
      "execution_count": null,
      "outputs": []
    },
    {
      "cell_type": "code",
      "source": [
        "s1 = Stack()\n",
        "s1.push('python')\n",
        "s1.push('java')\n",
        "s1.push('c++')\n",
        "s2 = Stack()\n",
        "s2.push('sql')\n",
        " \n",
        "s1, s2 = transfer(s1, s2)\n",
        "len(s1), len(s2)"
      ],
      "metadata": {
        "colab": {
          "base_uri": "https://localhost:8080/"
        },
        "id": "jziIUsnKSCZy",
        "outputId": "a66eb857-6b6c-446c-c0d0-43d7d055d726"
      },
      "execution_count": null,
      "outputs": [
        {
          "output_type": "execute_result",
          "data": {
            "text/plain": [
              "(0, 4)"
            ]
          },
          "metadata": {},
          "execution_count": 26
        }
      ]
    },
    {
      "cell_type": "code",
      "source": [
        "s2.pop()"
      ],
      "metadata": {
        "colab": {
          "base_uri": "https://localhost:8080/",
          "height": 35
        },
        "id": "fTeqw6CbSD1b",
        "outputId": "702beb1e-de4c-497c-86fb-fcd2447dfb3c"
      },
      "execution_count": null,
      "outputs": [
        {
          "output_type": "execute_result",
          "data": {
            "text/plain": [
              "'python'"
            ],
            "application/vnd.google.colaboratory.intrinsic+json": {
              "type": "string"
            }
          },
          "metadata": {},
          "execution_count": 27
        }
      ]
    },
    {
      "cell_type": "code",
      "source": [
        "import re\n",
        "\n",
        "def find_phone_number(text):\n",
        "    return re.findall(r\"[\\d]{3}-[\\d]{3}-[\\d]{3}\", text)[0]"
      ],
      "metadata": {
        "id": "ST8gvoqeSFZP"
      },
      "execution_count": null,
      "outputs": []
    },
    {
      "cell_type": "code",
      "source": [
        "find_phone_number('This is my number: 222-456-333.')"
      ],
      "metadata": {
        "colab": {
          "base_uri": "https://localhost:8080/",
          "height": 35
        },
        "id": "h301RECFUiQl",
        "outputId": "2d277034-2836-44af-a74c-de4e21abfe9b"
      },
      "execution_count": null,
      "outputs": [
        {
          "output_type": "execute_result",
          "data": {
            "text/plain": [
              "'222-456-333'"
            ],
            "application/vnd.google.colaboratory.intrinsic+json": {
              "type": "string"
            }
          },
          "metadata": {},
          "execution_count": 32
        }
      ]
    },
    {
      "cell_type": "code",
      "source": [],
      "metadata": {
        "id": "93qEvn0oUjHr"
      },
      "execution_count": null,
      "outputs": []
    },
    {
      "cell_type": "code",
      "source": [
        "find_phone_number('This is my number: 222-456-333.')"
      ],
      "metadata": {
        "colab": {
          "base_uri": "https://localhost:8080/",
          "height": 253
        },
        "id": "6iOh8zb9VPNo",
        "outputId": "09f505ac-d855-46a6-8bf9-de7287353b83"
      },
      "execution_count": null,
      "outputs": [
        {
          "output_type": "error",
          "ename": "AttributeError",
          "evalue": "ignored",
          "traceback": [
            "\u001b[0;31m---------------------------------------------------------------------------\u001b[0m",
            "\u001b[0;31mAttributeError\u001b[0m                            Traceback (most recent call last)",
            "\u001b[0;32m<ipython-input-37-5d0b30d39676>\u001b[0m in \u001b[0;36m<module>\u001b[0;34m\u001b[0m\n\u001b[0;32m----> 1\u001b[0;31m \u001b[0mfind_phone_number\u001b[0m\u001b[0;34m(\u001b[0m\u001b[0;34m'This is my number: 222-456-333.'\u001b[0m\u001b[0;34m)\u001b[0m\u001b[0;34m\u001b[0m\u001b[0;34m\u001b[0m\u001b[0m\n\u001b[0m",
            "\u001b[0;32m<ipython-input-36-f14430fb6437>\u001b[0m in \u001b[0;36mfind_phone_number\u001b[0;34m(text)\u001b[0m\n\u001b[1;32m      4\u001b[0m \u001b[0;32mdef\u001b[0m \u001b[0mfind_phone_number\u001b[0m\u001b[0;34m(\u001b[0m\u001b[0mtext\u001b[0m\u001b[0;34m)\u001b[0m\u001b[0;34m:\u001b[0m\u001b[0;34m\u001b[0m\u001b[0;34m\u001b[0m\u001b[0m\n\u001b[1;32m      5\u001b[0m     \u001b[0mresult\u001b[0m \u001b[0;34m=\u001b[0m \u001b[0mre\u001b[0m\u001b[0;34m.\u001b[0m\u001b[0msearch\u001b[0m\u001b[0;34m(\u001b[0m\u001b[0;34mr'\\d\\d\\d-\\d\\d\\d-\\d\\d\\d'\u001b[0m\u001b[0;34m,\u001b[0m \u001b[0mtext\u001b[0m\u001b[0;34m)\u001b[0m\u001b[0;34m\u001b[0m\u001b[0;34m\u001b[0m\u001b[0m\n\u001b[0;32m----> 6\u001b[0;31m     \u001b[0;32mreturn\u001b[0m \u001b[0mresult\u001b[0m\u001b[0;34m.\u001b[0m\u001b[0mlist\u001b[0m\u001b[0;34m(\u001b[0m\u001b[0;34m)\u001b[0m\u001b[0;34m\u001b[0m\u001b[0;34m\u001b[0m\u001b[0m\n\u001b[0m",
            "\u001b[0;31mAttributeError\u001b[0m: 're.Match' object has no attribute 'list'"
          ]
        }
      ]
    },
    {
      "cell_type": "code",
      "source": [
        "def union_of_list(*lists):\n",
        "   return sorted(set([x for list_ in lists for x in list_]))\n",
        "\n"
      ],
      "metadata": {
        "id": "oLtQPu9zVSeD"
      },
      "execution_count": null,
      "outputs": []
    },
    {
      "cell_type": "code",
      "source": [
        "union_of_list([4, 5], [5, 3], [2, 5, 7, 1], [3, 1, 6])"
      ],
      "metadata": {
        "colab": {
          "base_uri": "https://localhost:8080/"
        },
        "id": "AzJhbx2TV5s_",
        "outputId": "e111c5cf-d6ac-46b6-8d4c-a012f1d72c62"
      },
      "execution_count": null,
      "outputs": [
        {
          "output_type": "execute_result",
          "data": {
            "text/plain": [
              "[1, 2, 3, 4, 5, 6, 7]"
            ]
          },
          "metadata": {},
          "execution_count": 43
        }
      ]
    },
    {
      "cell_type": "code",
      "source": [
        "def to_csv(**kwargs):\n",
        "    columns = kwargs.keys()\n",
        "    rows = ','.join(kwargs.values())"
      ],
      "metadata": {
        "id": "Aor1ToSfV6Vz"
      },
      "execution_count": null,
      "outputs": []
    },
    {
      "cell_type": "code",
      "source": [
        "list(zip((1, 3), (2, 6)))"
      ],
      "metadata": {
        "colab": {
          "base_uri": "https://localhost:8080/"
        },
        "id": "hP9zl1C6b1UC",
        "outputId": "cac4a10f-1584-486a-d386-1db19e1776e3"
      },
      "execution_count": null,
      "outputs": [
        {
          "output_type": "execute_result",
          "data": {
            "text/plain": [
              "[(1, 2), (3, 6)]"
            ]
          },
          "metadata": {},
          "execution_count": 45
        }
      ]
    },
    {
      "cell_type": "code",
      "source": [],
      "metadata": {
        "id": "9svOQmYbb5WU"
      },
      "execution_count": null,
      "outputs": []
    }
  ]
}