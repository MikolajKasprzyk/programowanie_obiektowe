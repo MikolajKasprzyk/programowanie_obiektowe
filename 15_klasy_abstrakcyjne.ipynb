{
  "nbformat": 4,
  "nbformat_minor": 0,
  "metadata": {
    "colab": {
      "provenance": [],
      "authorship_tag": "ABX9TyPLeeSA3Z/r9+e8568wcNXJ",
      "include_colab_link": true
    },
    "kernelspec": {
      "name": "python3",
      "display_name": "Python 3"
    },
    "language_info": {
      "name": "python"
    }
  },
  "cells": [
    {
      "cell_type": "markdown",
      "metadata": {
        "id": "view-in-github",
        "colab_type": "text"
      },
      "source": [
        "<a href=\"https://colab.research.google.com/github/MikolajKasprzyk/programowanie_obiektowe/blob/main/15_klasy_abstrakcyjne.ipynb\" target=\"_parent\"><img src=\"https://colab.research.google.com/assets/colab-badge.svg\" alt=\"Open In Colab\"/></a>"
      ]
    },
    {
      "cell_type": "markdown",
      "source": [
        "# Klasy abstrakcyjne"
      ],
      "metadata": {
        "id": "WcBEEinqRCoA"
      }
    },
    {
      "cell_type": "code",
      "execution_count": null,
      "metadata": {
        "colab": {
          "base_uri": "https://localhost:8080/"
        },
        "id": "NnYjkK2pQ8xo",
        "outputId": "3d313147-ef59-4683-9528-5b21465bc1f8"
      },
      "outputs": [
        {
          "output_type": "stream",
          "name": "stdout",
          "text": [
            "Help on module abc:\n",
            "\n",
            "NAME\n",
            "    abc - Abstract Base Classes (ABCs) according to PEP 3119.\n",
            "\n",
            "MODULE REFERENCE\n",
            "    https://docs.python.org/3.8/library/abc\n",
            "    \n",
            "    The following documentation is automatically generated from the Python\n",
            "    source files.  It may be incomplete, incorrect or include features that\n",
            "    are considered implementation detail and may vary between Python\n",
            "    implementations.  When in doubt, consult the module reference at the\n",
            "    location listed above.\n",
            "\n",
            "CLASSES\n",
            "    builtins.classmethod(builtins.object)\n",
            "        abstractclassmethod\n",
            "    builtins.object\n",
            "        ABC\n",
            "    builtins.property(builtins.object)\n",
            "        abstractproperty\n",
            "    builtins.staticmethod(builtins.object)\n",
            "        abstractstaticmethod\n",
            "    builtins.type(builtins.object)\n",
            "        ABCMeta\n",
            "    \n",
            "    class ABC(builtins.object)\n",
            "     |  Helper class that provides a standard way to create an ABC using\n",
            "     |  inheritance.\n",
            "     |  \n",
            "     |  Data and other attributes defined here:\n",
            "     |  \n",
            "     |  __abstractmethods__ = frozenset()\n",
            "    \n",
            "    class ABCMeta(builtins.type)\n",
            "     |  ABCMeta(name, bases, namespace, **kwargs)\n",
            "     |  \n",
            "     |  Metaclass for defining Abstract Base Classes (ABCs).\n",
            "     |  \n",
            "     |  Use this metaclass to create an ABC.  An ABC can be subclassed\n",
            "     |  directly, and then acts as a mix-in class.  You can also register\n",
            "     |  unrelated concrete classes (even built-in classes) and unrelated\n",
            "     |  ABCs as 'virtual subclasses' -- these and their descendants will\n",
            "     |  be considered subclasses of the registering ABC by the built-in\n",
            "     |  issubclass() function, but the registering ABC won't show up in\n",
            "     |  their MRO (Method Resolution Order) nor will method\n",
            "     |  implementations defined by the registering ABC be callable (not\n",
            "     |  even via super()).\n",
            "     |  \n",
            "     |  Method resolution order:\n",
            "     |      ABCMeta\n",
            "     |      builtins.type\n",
            "     |      builtins.object\n",
            "     |  \n",
            "     |  Methods defined here:\n",
            "     |  \n",
            "     |  __instancecheck__(cls, instance)\n",
            "     |      Override for isinstance(instance, cls).\n",
            "     |  \n",
            "     |  __subclasscheck__(cls, subclass)\n",
            "     |      Override for issubclass(subclass, cls).\n",
            "     |  \n",
            "     |  register(cls, subclass)\n",
            "     |      Register a virtual subclass of an ABC.\n",
            "     |      \n",
            "     |      Returns the subclass, to allow usage as a class decorator.\n",
            "     |  \n",
            "     |  ----------------------------------------------------------------------\n",
            "     |  Static methods defined here:\n",
            "     |  \n",
            "     |  __new__(mcls, name, bases, namespace, **kwargs)\n",
            "     |      Create and return a new object.  See help(type) for accurate signature.\n",
            "     |  \n",
            "     |  ----------------------------------------------------------------------\n",
            "     |  Methods inherited from builtins.type:\n",
            "     |  \n",
            "     |  __call__(self, /, *args, **kwargs)\n",
            "     |      Call self as a function.\n",
            "     |  \n",
            "     |  __delattr__(self, name, /)\n",
            "     |      Implement delattr(self, name).\n",
            "     |  \n",
            "     |  __dir__(self, /)\n",
            "     |      Specialized __dir__ implementation for types.\n",
            "     |  \n",
            "     |  __getattribute__(self, name, /)\n",
            "     |      Return getattr(self, name).\n",
            "     |  \n",
            "     |  __init__(self, /, *args, **kwargs)\n",
            "     |      Initialize self.  See help(type(self)) for accurate signature.\n",
            "     |  \n",
            "     |  __repr__(self, /)\n",
            "     |      Return repr(self).\n",
            "     |  \n",
            "     |  __setattr__(self, name, value, /)\n",
            "     |      Implement setattr(self, name, value).\n",
            "     |  \n",
            "     |  __sizeof__(self, /)\n",
            "     |      Return memory consumption of the type object.\n",
            "     |  \n",
            "     |  __subclasses__(self, /)\n",
            "     |      Return a list of immediate subclasses.\n",
            "     |  \n",
            "     |  mro(self, /)\n",
            "     |      Return a type's method resolution order.\n",
            "     |  \n",
            "     |  ----------------------------------------------------------------------\n",
            "     |  Class methods inherited from builtins.type:\n",
            "     |  \n",
            "     |  __prepare__(...) from builtins.type\n",
            "     |      __prepare__() -> dict\n",
            "     |      used to create the namespace for the class statement\n",
            "     |  \n",
            "     |  ----------------------------------------------------------------------\n",
            "     |  Data descriptors inherited from builtins.type:\n",
            "     |  \n",
            "     |  __abstractmethods__\n",
            "     |  \n",
            "     |  __dict__\n",
            "     |  \n",
            "     |  __text_signature__\n",
            "     |  \n",
            "     |  ----------------------------------------------------------------------\n",
            "     |  Data and other attributes inherited from builtins.type:\n",
            "     |  \n",
            "     |  __base__ = <class 'type'>\n",
            "     |      type(object_or_name, bases, dict)\n",
            "     |      type(object) -> the object's type\n",
            "     |      type(name, bases, dict) -> a new type\n",
            "     |  \n",
            "     |  __bases__ = (<class 'type'>,)\n",
            "     |  \n",
            "     |  __basicsize__ = 880\n",
            "     |  \n",
            "     |  __dictoffset__ = 264\n",
            "     |  \n",
            "     |  __flags__ = 2148292096\n",
            "     |  \n",
            "     |  __itemsize__ = 40\n",
            "     |  \n",
            "     |  __mro__ = (<class 'abc.ABCMeta'>, <class 'type'>, <class 'object'>)\n",
            "     |  \n",
            "     |  __weakrefoffset__ = 368\n",
            "    \n",
            "    class abstractclassmethod(builtins.classmethod)\n",
            "     |  abstractclassmethod(callable)\n",
            "     |  \n",
            "     |  A decorator indicating abstract classmethods.\n",
            "     |  \n",
            "     |  Deprecated, use 'classmethod' with 'abstractmethod' instead.\n",
            "     |  \n",
            "     |  Method resolution order:\n",
            "     |      abstractclassmethod\n",
            "     |      builtins.classmethod\n",
            "     |      builtins.object\n",
            "     |  \n",
            "     |  Methods defined here:\n",
            "     |  \n",
            "     |  __init__(self, callable)\n",
            "     |      Initialize self.  See help(type(self)) for accurate signature.\n",
            "     |  \n",
            "     |  ----------------------------------------------------------------------\n",
            "     |  Data descriptors defined here:\n",
            "     |  \n",
            "     |  __weakref__\n",
            "     |      list of weak references to the object (if defined)\n",
            "     |  \n",
            "     |  ----------------------------------------------------------------------\n",
            "     |  Data and other attributes defined here:\n",
            "     |  \n",
            "     |  __isabstractmethod__ = True\n",
            "     |  \n",
            "     |  ----------------------------------------------------------------------\n",
            "     |  Methods inherited from builtins.classmethod:\n",
            "     |  \n",
            "     |  __get__(self, instance, owner, /)\n",
            "     |      Return an attribute of instance, which is of type owner.\n",
            "     |  \n",
            "     |  ----------------------------------------------------------------------\n",
            "     |  Static methods inherited from builtins.classmethod:\n",
            "     |  \n",
            "     |  __new__(*args, **kwargs) from builtins.type\n",
            "     |      Create and return a new object.  See help(type) for accurate signature.\n",
            "     |  \n",
            "     |  ----------------------------------------------------------------------\n",
            "     |  Data descriptors inherited from builtins.classmethod:\n",
            "     |  \n",
            "     |  __dict__\n",
            "     |  \n",
            "     |  __func__\n",
            "    \n",
            "    class abstractproperty(builtins.property)\n",
            "     |  abstractproperty(fget=None, fset=None, fdel=None, doc=None)\n",
            "     |  \n",
            "     |  A decorator indicating abstract properties.\n",
            "     |  \n",
            "     |  Deprecated, use 'property' with 'abstractmethod' instead.\n",
            "     |  \n",
            "     |  Method resolution order:\n",
            "     |      abstractproperty\n",
            "     |      builtins.property\n",
            "     |      builtins.object\n",
            "     |  \n",
            "     |  Data descriptors defined here:\n",
            "     |  \n",
            "     |  __dict__\n",
            "     |      dictionary for instance variables (if defined)\n",
            "     |  \n",
            "     |  __weakref__\n",
            "     |      list of weak references to the object (if defined)\n",
            "     |  \n",
            "     |  ----------------------------------------------------------------------\n",
            "     |  Data and other attributes defined here:\n",
            "     |  \n",
            "     |  __isabstractmethod__ = True\n",
            "     |  \n",
            "     |  ----------------------------------------------------------------------\n",
            "     |  Methods inherited from builtins.property:\n",
            "     |  \n",
            "     |  __delete__(self, instance, /)\n",
            "     |      Delete an attribute of instance.\n",
            "     |  \n",
            "     |  __get__(self, instance, owner, /)\n",
            "     |      Return an attribute of instance, which is of type owner.\n",
            "     |  \n",
            "     |  __getattribute__(self, name, /)\n",
            "     |      Return getattr(self, name).\n",
            "     |  \n",
            "     |  __init__(self, /, *args, **kwargs)\n",
            "     |      Initialize self.  See help(type(self)) for accurate signature.\n",
            "     |  \n",
            "     |  __set__(self, instance, value, /)\n",
            "     |      Set an attribute of instance to value.\n",
            "     |  \n",
            "     |  deleter(...)\n",
            "     |      Descriptor to change the deleter on a property.\n",
            "     |  \n",
            "     |  getter(...)\n",
            "     |      Descriptor to change the getter on a property.\n",
            "     |  \n",
            "     |  setter(...)\n",
            "     |      Descriptor to change the setter on a property.\n",
            "     |  \n",
            "     |  ----------------------------------------------------------------------\n",
            "     |  Static methods inherited from builtins.property:\n",
            "     |  \n",
            "     |  __new__(*args, **kwargs) from builtins.type\n",
            "     |      Create and return a new object.  See help(type) for accurate signature.\n",
            "     |  \n",
            "     |  ----------------------------------------------------------------------\n",
            "     |  Data descriptors inherited from builtins.property:\n",
            "     |  \n",
            "     |  fdel\n",
            "     |  \n",
            "     |  fget\n",
            "     |  \n",
            "     |  fset\n",
            "    \n",
            "    class abstractstaticmethod(builtins.staticmethod)\n",
            "     |  abstractstaticmethod(callable)\n",
            "     |  \n",
            "     |  A decorator indicating abstract staticmethods.\n",
            "     |  \n",
            "     |  Deprecated, use 'staticmethod' with 'abstractmethod' instead.\n",
            "     |  \n",
            "     |  Method resolution order:\n",
            "     |      abstractstaticmethod\n",
            "     |      builtins.staticmethod\n",
            "     |      builtins.object\n",
            "     |  \n",
            "     |  Methods defined here:\n",
            "     |  \n",
            "     |  __init__(self, callable)\n",
            "     |      Initialize self.  See help(type(self)) for accurate signature.\n",
            "     |  \n",
            "     |  ----------------------------------------------------------------------\n",
            "     |  Data descriptors defined here:\n",
            "     |  \n",
            "     |  __weakref__\n",
            "     |      list of weak references to the object (if defined)\n",
            "     |  \n",
            "     |  ----------------------------------------------------------------------\n",
            "     |  Data and other attributes defined here:\n",
            "     |  \n",
            "     |  __isabstractmethod__ = True\n",
            "     |  \n",
            "     |  ----------------------------------------------------------------------\n",
            "     |  Methods inherited from builtins.staticmethod:\n",
            "     |  \n",
            "     |  __get__(self, instance, owner, /)\n",
            "     |      Return an attribute of instance, which is of type owner.\n",
            "     |  \n",
            "     |  ----------------------------------------------------------------------\n",
            "     |  Static methods inherited from builtins.staticmethod:\n",
            "     |  \n",
            "     |  __new__(*args, **kwargs) from builtins.type\n",
            "     |      Create and return a new object.  See help(type) for accurate signature.\n",
            "     |  \n",
            "     |  ----------------------------------------------------------------------\n",
            "     |  Data descriptors inherited from builtins.staticmethod:\n",
            "     |  \n",
            "     |  __dict__\n",
            "     |  \n",
            "     |  __func__\n",
            "\n",
            "FUNCTIONS\n",
            "    abstractmethod(funcobj)\n",
            "        A decorator indicating abstract methods.\n",
            "        \n",
            "        Requires that the metaclass is ABCMeta or derived from it.  A\n",
            "        class that has a metaclass derived from ABCMeta cannot be\n",
            "        instantiated unless all of its abstract methods are overridden.\n",
            "        The abstract methods can be called using any of the normal\n",
            "        'super' call mechanisms.  abstractmethod() may be used to declare\n",
            "        abstract methods for properties and descriptors.\n",
            "        \n",
            "        Usage:\n",
            "        \n",
            "            class C(metaclass=ABCMeta):\n",
            "                @abstractmethod\n",
            "                def my_abstract_method(self, ...):\n",
            "                    ...\n",
            "    \n",
            "    get_cache_token()\n",
            "        Returns the current ABC cache token.\n",
            "        \n",
            "        The token is an opaque object (supporting equality testing) identifying the\n",
            "        current version of the ABC cache for virtual subclasses. The token changes\n",
            "        with every call to register() on any ABC.\n",
            "\n",
            "FILE\n",
            "    /usr/lib/python3.8/abc.py\n",
            "\n",
            "\n"
          ]
        }
      ],
      "source": [
        "import abc\n",
        "\n",
        "help(abc)"
      ]
    },
    {
      "cell_type": "code",
      "source": [
        "from abc import ABC, abstractmethod\n",
        "\n",
        "class Figure(ABC):\n",
        "\n",
        "    @abstractmethod\n",
        "    def area(self):\n",
        "        pass\n",
        "\n",
        "\n",
        "class Square(Figure):\n",
        "\n",
        "    def __init__(self, a=1):\n",
        "        self.a = a\n",
        "\n",
        "    def area(self):\n",
        "        return self.a ** 2\n",
        "\n",
        "figures = [Square(), Square(5), Square(10)]\n",
        "for figure in figures:\n",
        "    print(f'Side length: {figure.a}')\n",
        "    print(f'Area: {figure.area()}\\n')"
      ],
      "metadata": {
        "colab": {
          "base_uri": "https://localhost:8080/"
        },
        "id": "MhSO2h8NRVu6",
        "outputId": "0339b519-4f9e-4d0d-dc83-132423c75bf3"
      },
      "execution_count": null,
      "outputs": [
        {
          "output_type": "stream",
          "name": "stdout",
          "text": [
            "Side length: 1\n",
            "Area: 1\n",
            "\n",
            "Side length: 5\n",
            "Area: 25\n",
            "\n",
            "Side length: 10\n",
            "Area: 100\n",
            "\n"
          ]
        }
      ]
    },
    {
      "cell_type": "markdown",
      "source": [
        "## Zadanie"
      ],
      "metadata": {
        "id": "qlb36j-7S0e2"
      }
    },
    {
      "cell_type": "code",
      "source": [
        "from abc import ABC, abstractmethod\n",
        "\n",
        "class Figure(ABC):\n",
        "\n",
        "    @abstractmethod\n",
        "    def area(self):\n",
        "        pass\n",
        "    \n",
        "    @abstractmethod\n",
        "    def perimeter(self):\n",
        "        pass\n",
        "\n",
        "\n",
        "class Square(Figure):\n",
        "\n",
        "    def __init__(self, a=1):\n",
        "        self.a = a\n",
        "\n",
        "    def area(self):\n",
        "        return self.a ** 2\n",
        "\n",
        "    def perimeter(self):\n",
        "        return self.a * 4"
      ],
      "metadata": {
        "id": "TZvRY5zySRcM"
      },
      "execution_count": null,
      "outputs": []
    },
    {
      "cell_type": "code",
      "source": [
        "figures = [Square(), Square(5), Square(10)]\n",
        "for figure in figures:\n",
        "    print(f'Side length: {figure.a}')\n",
        "    print(f'Perimeter: {figure.perimeter()}')\n",
        "    print(f'Area: {figure.area()}\\n')"
      ],
      "metadata": {
        "colab": {
          "base_uri": "https://localhost:8080/"
        },
        "id": "w1r6MV3sTLRb",
        "outputId": "32df76b1-7699-4905-ca74-a64762930bd3"
      },
      "execution_count": null,
      "outputs": [
        {
          "output_type": "stream",
          "name": "stdout",
          "text": [
            "Side length: 1\n",
            "Perimeter: 4\n",
            "Area: 1\n",
            "\n",
            "Side length: 5\n",
            "Perimeter: 20\n",
            "Area: 25\n",
            "\n",
            "Side length: 10\n",
            "Perimeter: 40\n",
            "Area: 100\n",
            "\n"
          ]
        }
      ]
    },
    {
      "cell_type": "markdown",
      "source": [
        "## Przykład"
      ],
      "metadata": {
        "id": "S9hA6-WlWM_X"
      }
    },
    {
      "cell_type": "code",
      "source": [
        "from abc import ABC, abstractmethod\n",
        "from math import pi\n",
        "\n",
        "\n",
        "class Figure(ABC):\n",
        "\n",
        "    @abstractmethod\n",
        "    def area(self):\n",
        "        pass\n",
        "    \n",
        "    @abstractmethod\n",
        "    def perimeter(self):\n",
        "        pass\n",
        "\n",
        "class Circle(Figure):\n",
        "\n",
        "    def __init__(self, radius):\n",
        "        self.radius = radius\n",
        "\n",
        "    def area(self):\n",
        "        return self.radius**2 * pi\n",
        "\n",
        "    def perimeter(self):\n",
        "        return self.radius * 2 * pi"
      ],
      "metadata": {
        "id": "at3UPSTXTSz0"
      },
      "execution_count": null,
      "outputs": []
    },
    {
      "cell_type": "code",
      "source": [
        "figures = [Circle(1), Circle(5), Circle(10)]\n",
        "for figure in figures:\n",
        "    print(f'Radius length: {figure.radius}')\n",
        "    print(f'Perimeter: {figure.perimeter():.2f}')\n",
        "    print(f'Area: {figure.area():.2f}\\n')"
      ],
      "metadata": {
        "colab": {
          "base_uri": "https://localhost:8080/"
        },
        "id": "WzgRaJ3_fEvE",
        "outputId": "c3c39300-e3ed-4e5e-db09-720660a7f41d"
      },
      "execution_count": null,
      "outputs": [
        {
          "output_type": "stream",
          "name": "stdout",
          "text": [
            "Radius length: 1\n",
            "Perimeter: 6.28\n",
            "Area: 3.14\n",
            "\n",
            "Radius length: 5\n",
            "Perimeter: 31.42\n",
            "Area: 78.54\n",
            "\n",
            "Radius length: 10\n",
            "Perimeter: 62.83\n",
            "Area: 314.16\n",
            "\n"
          ]
        }
      ]
    },
    {
      "cell_type": "markdown",
      "source": [
        "## Zadanie"
      ],
      "metadata": {
        "id": "xlxQmpX5kM1_"
      }
    },
    {
      "cell_type": "code",
      "source": [
        "class Vehicle(ABC):\n",
        "\n",
        "    @abstractmethod\n",
        "    def show_activity(self):\n",
        "        pass\n",
        "\n",
        "    \n",
        "class LandVehicle(Vehicle):\n",
        "\n",
        "    def show_activity(self):\n",
        "        print(f'{self.__class__.__name__} -> Drive')"
      ],
      "metadata": {
        "id": "W0cm3bxvjvzY"
      },
      "execution_count": null,
      "outputs": []
    },
    {
      "cell_type": "code",
      "source": [
        "l = LandVehicle()\n",
        "l.show_activity()"
      ],
      "metadata": {
        "colab": {
          "base_uri": "https://localhost:8080/"
        },
        "id": "IwJ0tdQAlacW",
        "outputId": "d53efac4-8dfe-47bc-e509-48b377693e4b"
      },
      "execution_count": null,
      "outputs": [
        {
          "output_type": "stream",
          "name": "stdout",
          "text": [
            "LandVehicle -> Drive\n"
          ]
        }
      ]
    },
    {
      "cell_type": "code",
      "source": [],
      "metadata": {
        "id": "kZ9f0kXfmIPm"
      },
      "execution_count": null,
      "outputs": []
    }
  ]
}