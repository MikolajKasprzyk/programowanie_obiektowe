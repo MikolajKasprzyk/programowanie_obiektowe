{
  "nbformat": 4,
  "nbformat_minor": 0,
  "metadata": {
    "colab": {
      "provenance": [],
      "authorship_tag": "ABX9TyO7YCUwu64hA46cKcwO5XEk",
      "include_colab_link": true
    },
    "kernelspec": {
      "name": "python3",
      "display_name": "Python 3"
    },
    "language_info": {
      "name": "python"
    }
  },
  "cells": [
    {
      "cell_type": "markdown",
      "metadata": {
        "id": "view-in-github",
        "colab_type": "text"
      },
      "source": [
        "<a href=\"https://colab.research.google.com/github/MikolajKasprzyk/programowanie_obiektowe/blob/main/dekoratory_my_python_tutorial.ipynb\" target=\"_parent\"><img src=\"https://colab.research.google.com/assets/colab-badge.svg\" alt=\"Open In Colab\"/></a>"
      ]
    },
    {
      "cell_type": "code",
      "execution_count": null,
      "metadata": {
        "id": "PHhfis39D5d8"
      },
      "outputs": [],
      "source": [
        "def parent(num):\n",
        "    def first_child():\n",
        "        return \"Hi, I am Emma\"\n",
        "\n",
        "    def second_child():\n",
        "        return \"Call me Liam\"\n",
        "\n",
        "    if num == 1:\n",
        "        return first_child\n",
        "    else:\n",
        "        return second_child\n"
      ]
    },
    {
      "cell_type": "code",
      "source": [
        "parent(1)"
      ],
      "metadata": {
        "colab": {
          "base_uri": "https://localhost:8080/"
        },
        "id": "9yWP58WdD8tl",
        "outputId": "94ff4ba7-a9f0-45fc-cfc7-b2d6580af116"
      },
      "execution_count": null,
      "outputs": [
        {
          "output_type": "execute_result",
          "data": {
            "text/plain": [
              "<function __main__.parent.<locals>.first_child()>"
            ]
          },
          "metadata": {},
          "execution_count": 8
        }
      ]
    },
    {
      "cell_type": "code",
      "source": [
        "def my_decorator(func):\n",
        "    def wrapper():\n",
        "        print(\"Something is happening before the function is called.\")\n",
        "        func()\n",
        "        print(\"Something is happening after the function is called.\")\n",
        "    return wrapper\n",
        "\n",
        "def say_whee():\n",
        "    print(\"Whee!\")\n",
        "\n",
        "say_whee = my_decorator(say_whee)\n"
      ],
      "metadata": {
        "id": "iAI1DkJLEF-r"
      },
      "execution_count": null,
      "outputs": []
    },
    {
      "cell_type": "code",
      "source": [
        "say_whee()"
      ],
      "metadata": {
        "colab": {
          "base_uri": "https://localhost:8080/"
        },
        "id": "kes6MyIpFyUU",
        "outputId": "77856623-6b9e-4c85-8c03-91778244f57b"
      },
      "execution_count": null,
      "outputs": [
        {
          "output_type": "stream",
          "name": "stdout",
          "text": [
            "Something is happening before the function is called.\n",
            "Whee!\n",
            "Something is happening after the function is called.\n"
          ]
        }
      ]
    },
    {
      "cell_type": "code",
      "source": [
        "from datetime import datetime\n",
        "\n",
        "def not_during_the_night(func):\n",
        "    def wrapper():\n",
        "        if 7 <= datetime.now().hour < 22:\n",
        "            func()\n",
        "        else:\n",
        "            pass  # Hush, the neighbors are asleep\n",
        "    return wrapper\n",
        "\n",
        "def say_whee():\n",
        "    print(\"Whee!\")\n",
        "\n",
        "say_whee = not_during_the_night(say_whee)\n"
      ],
      "metadata": {
        "id": "L9-glu_1GPIZ"
      },
      "execution_count": null,
      "outputs": []
    },
    {
      "cell_type": "code",
      "source": [
        "say_whee()"
      ],
      "metadata": {
        "colab": {
          "base_uri": "https://localhost:8080/"
        },
        "id": "tRJHJwgZHaWk",
        "outputId": "a60bfb48-928a-4db4-f7f4-7a8e46e4cc43"
      },
      "execution_count": null,
      "outputs": [
        {
          "output_type": "stream",
          "name": "stdout",
          "text": [
            "Whee!\n"
          ]
        }
      ]
    },
    {
      "cell_type": "code",
      "source": [
        "def my_decorator(func):\n",
        "    def wrapper():\n",
        "        print(\"Something is happening before the function is called.\")\n",
        "        func()\n",
        "        print(\"Something is happening after the function is called.\")\n",
        "    return wrapper\n",
        "\n",
        "@my_decorator\n",
        "def say_whee():\n",
        "    print(\"Whee!\")\n",
        "\n",
        "@my_decorator\n",
        "def say_meow():\n",
        "    print('meowwwww')\n"
      ],
      "metadata": {
        "id": "fK5X2zLNHceD"
      },
      "execution_count": null,
      "outputs": []
    },
    {
      "cell_type": "code",
      "source": [
        "say_whee"
      ],
      "metadata": {
        "colab": {
          "base_uri": "https://localhost:8080/"
        },
        "id": "gNRe_0e0IPJi",
        "outputId": "43891283-b8a9-4ad3-9f64-302152dd1c16"
      },
      "execution_count": null,
      "outputs": [
        {
          "output_type": "execute_result",
          "data": {
            "text/plain": [
              "<function __main__.my_decorator.<locals>.wrapper()>"
            ]
          },
          "metadata": {},
          "execution_count": 2
        }
      ]
    },
    {
      "cell_type": "code",
      "source": [
        "say_whee()"
      ],
      "metadata": {
        "colab": {
          "base_uri": "https://localhost:8080/"
        },
        "id": "4A4eGLAFISrl",
        "outputId": "5ca6a361-84b3-467d-b74d-579f0811552d"
      },
      "execution_count": null,
      "outputs": [
        {
          "output_type": "stream",
          "name": "stdout",
          "text": [
            "Something is happening before the function is called.\n",
            "Whee!\n",
            "Something is happening after the function is called.\n"
          ]
        }
      ]
    },
    {
      "cell_type": "code",
      "source": [
        "say_meow()"
      ],
      "metadata": {
        "colab": {
          "base_uri": "https://localhost:8080/"
        },
        "id": "ergsmTkoIW2X",
        "outputId": "e4faa0e1-2f4f-4b5c-c374-b4fee1d5d191"
      },
      "execution_count": null,
      "outputs": [
        {
          "output_type": "stream",
          "name": "stdout",
          "text": [
            "Something is happening before the function is called.\n",
            "meowwwww\n",
            "Something is happening after the function is called.\n"
          ]
        }
      ]
    },
    {
      "cell_type": "code",
      "source": [
        "def do_twice(func):\n",
        "    def wrapper_do_twice():\n",
        "        func()\n",
        "        func()\n",
        "    return wrapper_do_twice\n",
        "\n",
        "@do_twice\n",
        "def say_whee():\n",
        "    print(\"Whee!\")"
      ],
      "metadata": {
        "id": "xfSrpfCcIrJB"
      },
      "execution_count": null,
      "outputs": []
    },
    {
      "cell_type": "code",
      "source": [
        "from time import perf_counter\n",
        "\n",
        "def timer_decorator(func):\n",
        "    def wrapper_timer(*args, **kwargs):\n",
        "        start_time = perf_counter()\n",
        "        func(*args, **kwargs)\n",
        "        stop_time = perf_counter()\n",
        "        return stop_time - start_time\n",
        "    return wrapper_timer\n",
        "\n",
        "@timer_decorator\n",
        "def adding_loop(x, y):\n",
        "    result = 0\n",
        "    for i in range(x):\n",
        "        result += i ** (y*i)\n",
        "    "
      ],
      "metadata": {
        "id": "idOTfVG_LetP"
      },
      "execution_count": null,
      "outputs": []
    },
    {
      "cell_type": "code",
      "source": [
        "adding_loop(12, 12)"
      ],
      "metadata": {
        "colab": {
          "base_uri": "https://localhost:8080/"
        },
        "id": "JmQ8DqUhMdEt",
        "outputId": "398d1d4c-3b48-4b0d-d9be-c6bea0205976"
      },
      "execution_count": null,
      "outputs": [
        {
          "output_type": "execute_result",
          "data": {
            "text/plain": [
              "1.6975000107777305e-05"
            ]
          },
          "metadata": {},
          "execution_count": 11
        }
      ]
    },
    {
      "cell_type": "code",
      "source": [],
      "metadata": {
        "id": "NpqpbdtbObJu"
      },
      "execution_count": null,
      "outputs": []
    }
  ]
}